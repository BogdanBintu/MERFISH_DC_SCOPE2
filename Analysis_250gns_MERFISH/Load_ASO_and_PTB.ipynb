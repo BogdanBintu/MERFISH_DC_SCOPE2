{
 "cells": [
  {
   "cell_type": "code",
   "execution_count": 3,
   "id": "946b4349",
   "metadata": {},
   "outputs": [],
   "source": [
    "from ioMicro import *\n",
    "master_analysis_folder = r'C:\\Users\\Bogdan\\Dropbox\\MERFISH_DC_SCOPE3'\n",
    "dec = decoder(analysis_folder = r'\\\\132.239.200.33\\Raw_data\\DCBB_MER250__12_2_2022_Analysis')\n"
   ]
  },
  {
   "cell_type": "code",
   "execution_count": 22,
   "id": "622b3c93",
   "metadata": {},
   "outputs": [
    {
     "name": "stderr",
     "output_type": "stream",
     "text": [
      "  0%|                                                                                          | 0/400 [00:00<?, ?it/s]C:\\Users\\Bogdan\\anaconda3\\envs\\cellpose\\lib\\site-packages\\scipy\\ndimage\\measurements.py:684: RuntimeWarning: invalid value encountered in true_divide\n",
      "  return sum / numpy.asanyarray(count).astype(numpy.float64)\n",
      "100%|████████████████████████████████████████████████████████████████████████████████| 400/400 [06:00<00:00,  1.11it/s]\n",
      "100%|████████████████████████████████████████████████████████████████████████████████| 400/400 [05:53<00:00,  1.13it/s]\n",
      "100%|████████████████████████████████████████████████████████████████████████████████| 400/400 [05:53<00:00,  1.13it/s]\n",
      "100%|████████████████████████████████████████████████████████████████████████████████| 400/400 [05:53<00:00,  1.13it/s]\n"
     ]
    }
   ],
   "source": [
    "for set_ in ['set1','set2','set3','set4']:\n",
    "    for ifov in tqdm(np.arange(400)):\n",
    "        ### computation\n",
    "        dec.get_set_ifov(ifov=ifov,set_=set_,keepH = [1,2,3,4,5,6,7,8],ncols=3)\n",
    "        dec.save_file_cts_ptb = dec.save_file_cts.replace('.npz','_ptb-aso.npz')\n",
    "        #if not os.path.exists(dec.save_file_cts_ptb) and not dec.out_of_range:\n",
    "        if not dec.out_of_range:\n",
    "            dec.load_segmentation()\n",
    "            dec.get_ptb_aso(icol_aso=0,icol_ptb=1,th_cor_ptb=0.5,th_ptb=2500)\n",
    "            np.savez(dec.save_file_cts_ptb,aso_mean=dec.aso_mean,cm_cells=dec.cm_cells,ptbp_cts=dec.ptbp_cts)"
   ]
  },
  {
   "cell_type": "code",
   "execution_count": null,
   "id": "f702fe8f",
   "metadata": {},
   "outputs": [],
   "source": []
  },
  {
   "cell_type": "markdown",
   "id": "55024330",
   "metadata": {},
   "source": [
    "### Load MERFISH genes"
   ]
  },
  {
   "cell_type": "code",
   "execution_count": 13,
   "id": "d3773e48",
   "metadata": {},
   "outputs": [
    {
     "name": "stderr",
     "output_type": "stream",
     "text": [
      "100%|██████████████████████████████████████████████████████████████████████████████| 1219/1219 [00:35<00:00, 34.20it/s]\n",
      "100%|██████████████████████████████████████████████████████████████████████████████| 1219/1219 [00:45<00:00, 26.98it/s]\n",
      "100%|██████████████████████████████████████████████████████████████████████████████| 1219/1219 [00:46<00:00, 26.20it/s]\n",
      "100%|██████████████████████████████████████████████████████████████████████████████| 1219/1219 [00:42<00:00, 28.37it/s]\n"
     ]
    }
   ],
   "source": [
    "cm_cellsfs,ctMs=[],[]\n",
    "for set_ in ['set1','set2','set3','set4']:\n",
    "    ctM_,gns_names,cm_cellsf_ = load_ct_data(analysis_folder = r'\\\\132.239.200.33\\Raw_data\\DCBB_MER250__12_2_2022_Analysis',\n",
    "                     data_folder = r'\\\\132.239.200.33\\Raw_data\\DCBB_MER250__12_2_2022\\H1_set*',set_=set_,um_per_pixel = 0.108333,\n",
    "                    tag_cts = 'cts_all_pm',tag_fl = r'\\Decoded\\*_cts.npz')\n",
    "    cm_cellsfs.append(cm_cellsf_)\n",
    "    ctMs.append(ctM_)"
   ]
  },
  {
   "cell_type": "code",
   "execution_count": 23,
   "id": "8a1c921e",
   "metadata": {},
   "outputs": [],
   "source": [
    "??get_local_max"
   ]
  },
  {
   "cell_type": "code",
   "execution_count": null,
   "id": "e9614351",
   "metadata": {},
   "outputs": [],
   "source": []
  },
  {
   "cell_type": "code",
   "execution_count": null,
   "id": "db562fde",
   "metadata": {},
   "outputs": [],
   "source": []
  },
  {
   "cell_type": "code",
   "execution_count": 14,
   "id": "7c0926ab",
   "metadata": {},
   "outputs": [],
   "source": [
    "ctM = np.concatenate(ctMs,axis=1)\n",
    "cm_cellsf = np.concatenate(cm_cellsfs,axis=0)"
   ]
  },
  {
   "cell_type": "code",
   "execution_count": 17,
   "id": "90df3443",
   "metadata": {},
   "outputs": [],
   "source": [
    "np.savez(r'\\\\132.239.200.33\\Raw_data\\DCBB_MER250__12_2_2022_Analysis\\final_matrix_MER.npz',\n",
    "         ctM=ctM,cm_cellsf=cm_cellsf,gns_names=gns_names)"
   ]
  },
  {
   "cell_type": "code",
   "execution_count": 21,
   "id": "261cee93",
   "metadata": {},
   "outputs": [
    {
     "data": {
      "text/plain": [
       "['aso_mean', 'cm_cells']"
      ]
     },
     "execution_count": 21,
     "metadata": {},
     "output_type": "execute_result"
    }
   ],
   "source": [
    "analysis_folder = r'\\\\132.239.200.33\\Raw_data\\DCBB_MER250__12_2_2022_Analysis'\n",
    "tag_fl = r'\\Decoded\\*_cts_ptb-aso.npz'\n",
    "fls = glob.glob(analysis_folder+tag_fl)\n",
    "list(np.load(fls[0]).keys())"
   ]
  },
  {
   "cell_type": "code",
   "execution_count": null,
   "id": "8ddea1e9",
   "metadata": {},
   "outputs": [],
   "source": []
  }
 ],
 "metadata": {
  "kernelspec": {
   "display_name": "Python 3 (ipykernel)",
   "language": "python",
   "name": "python3"
  },
  "language_info": {
   "codemirror_mode": {
    "name": "ipython",
    "version": 3
   },
   "file_extension": ".py",
   "mimetype": "text/x-python",
   "name": "python",
   "nbconvert_exporter": "python",
   "pygments_lexer": "ipython3",
   "version": "3.8.8"
  },
  "toc": {
   "base_numbering": 1,
   "nav_menu": {},
   "number_sections": true,
   "sideBar": true,
   "skip_h1_title": false,
   "title_cell": "Table of Contents",
   "title_sidebar": "Contents",
   "toc_cell": false,
   "toc_position": {},
   "toc_section_display": true,
   "toc_window_display": false
  }
 },
 "nbformat": 4,
 "nbformat_minor": 5
}
