{
 "cells": [
  {
   "cell_type": "code",
   "execution_count": 1,
   "id": "3192d762",
   "metadata": {},
   "outputs": [],
   "source": [
    "from ioMicro import *"
   ]
  },
  {
   "cell_type": "code",
   "execution_count": 2,
   "id": "fb24584a",
   "metadata": {},
   "outputs": [
    {
     "name": "stdout",
     "output_type": "stream",
     "text": [
      "Found files:1295\n",
      "Found hybe folders:72\n"
     ]
    }
   ],
   "source": [
    "asm = analysis_smFISH(data_folders = [r'Z:\\DCBBL1_3_2_2023\\MERFISH',r'\\\\192.168.0.3\\bbfishdc10_2\\DCBBL1_3_2_2023',r'Z:\\DCBBL1_3_2_2023\\Controls'],\n",
    "                 save_folder =r'Z:\\DCBBL1_3_2_2023\\MERFISH_Analysis',\n",
    "                 H0folder=  r'Z:\\DCBBL1_3_2_2023\\Controls\\H0*',exclude_H0=False)"
   ]
  },
  {
   "cell_type": "code",
   "execution_count": 3,
   "id": "93c6858a",
   "metadata": {},
   "outputs": [
    {
     "data": {
      "text/plain": [
       "array(['Z:\\\\DCBBL1_3_2_2023\\\\Controls\\\\H0_set1',\n",
       "       'Z:\\\\DCBBL1_3_2_2023\\\\Controls\\\\H1_Igfbp_Aldh1l1_Ptbp1_set1',\n",
       "       'Z:\\\\DCBBL1_3_2_2023\\\\MERFISH\\\\H1_MER_set1',\n",
       "       'Z:\\\\DCBBL1_3_2_2023\\\\MERFISH\\\\H2_MER_set1',\n",
       "       'Z:\\\\DCBBL1_3_2_2023\\\\MERFISH\\\\H3_MER_set1',\n",
       "       'Z:\\\\DCBBL1_3_2_2023\\\\MERFISH\\\\H4_MER_set1',\n",
       "       'Z:\\\\DCBBL1_3_2_2023\\\\MERFISH\\\\H5_MER_set1',\n",
       "       'Z:\\\\DCBBL1_3_2_2023\\\\MERFISH\\\\H6_MER_set1',\n",
       "       'Z:\\\\DCBBL1_3_2_2023\\\\MERFISH\\\\H7_MER_set1',\n",
       "       'Z:\\\\DCBBL1_3_2_2023\\\\MERFISH\\\\H8_MER_set1',\n",
       "       'Z:\\\\DCBBL1_3_2_2023\\\\MERFISH\\\\H9_MER_set1',\n",
       "       'Z:\\\\DCBBL1_3_2_2023\\\\MERFISH\\\\H10_MER_set1',\n",
       "       'Z:\\\\DCBBL1_3_2_2023\\\\MERFISH\\\\H11_MER_set1',\n",
       "       'Z:\\\\DCBBL1_3_2_2023\\\\MERFISH\\\\H12_MER_set1',\n",
       "       'Z:\\\\DCBBL1_3_2_2023\\\\MERFISH\\\\H13_MER_set1',\n",
       "       'Z:\\\\DCBBL1_3_2_2023\\\\MERFISH\\\\H14_MER_set1'], dtype='<U55')"
      ]
     },
     "execution_count": 3,
     "metadata": {},
     "output_type": "execute_result"
    }
   ],
   "source": [
    "ifov=70\n",
    "asm.set_fov(ifov,set_='_set1')\n",
    "asm.fov =os.path.basename(asm.fl_bk)\n",
    "\n",
    "MERFISH_flds = [fld for fld in asm.Qfolders if asm.set_ in os.path.basename(fld) if 'MERFISH' in fld]\n",
    "ctrl_flds  = [fld for fld in asm.Qfolders if asm.set_ in os.path.basename(fld) if ('ptb' in os.path.basename(fld).lower()) or ('H0' in os.path.basename(fld))]\n",
    "all_flds = np.array(ctrl_flds+MERFISH_flds)\n",
    "\n",
    "def get_iH(fld): return int(os.path.basename(fld).split('_')[0][1:])\n",
    "all_flds = all_flds[np.argsort([get_iH(fld) for fld in all_flds])]\n",
    "all_flds"
   ]
  },
  {
   "cell_type": "code",
   "execution_count": null,
   "id": "1b295dfc",
   "metadata": {},
   "outputs": [],
   "source": [
    "asm.save"
   ]
  },
  {
   "cell_type": "code",
   "execution_count": 5,
   "id": "3dba07a9",
   "metadata": {},
   "outputs": [
    {
     "name": "stderr",
     "output_type": "stream",
     "text": [
      "100%|█████████████████████████████████████████████████████████████████████████████████| 16/16 [44:18<00:00, 166.16s/it]\n"
     ]
    }
   ],
   "source": [
    "def compute_fits(save_folder,fov,all_flds,redo=False):\n",
    "    for fld in tqdm(all_flds):\n",
    "        im_ = read_im(fld+os.sep+asm.fov)\n",
    "        ncols = len(im_)\n",
    "        for icol in range(ncols-1):\n",
    "            #icol=2\n",
    "            save_fl = asm.save_folder+os.sep+asm.fov.split('.')[0]+'--'+tag+'--col'+str(icol)+'__Xhfits.npy'\n",
    "            if not os.path.exists(save_fl) or redo:\n",
    "                im__ = np.array(im_[icol],dtype=np.float32)\n",
    "                im_n = norm_slice(im__,s=30)\n",
    "                Xh = get_local_max(im_n,500,im_raw=im__,dic_psf=None,delta=1,delta_fit=3,dbscan=True,\n",
    "                      return_centers=False,mins=None,sigmaZ=1,sigmaXY=1.5)\n",
    "                tag = os.path.basename(fld)\n",
    "                np.savez_compressed(save_fl,Xh=Xh)"
   ]
  },
  {
   "cell_type": "code",
   "execution_count": 9,
   "id": "ce474c3e",
   "metadata": {},
   "outputs": [],
   "source": [
    "def compute_drift(save_folder,fov,all_flds,redo=False):\n",
    "    drift_fl = save_folder+os.sep+'drift_'+fov.split('.')[0]+'.pkl'\n",
    "    if not os.path.exists(drift_fl) or redo:\n",
    "        ims = [read_im(fld+os.sep+fov) for fld in all_flds]\n",
    "        ncols,sz,sx,sy = ims[0].shape\n",
    "        im_ref = np.array(ims[len(ims)//2][-1],dtype=np.float32)\n",
    "        drifts = [get_txyz(im[-1],im_ref,sz_norm=20, sz=500) for im in tqdm(ims)]\n",
    "        drift_fl = asm.save_folder+os.sep+'drift_'+asm.fov.split('.')[0]+'.pkl'\n",
    "        pickle.dump([drifts,all_flds,asm.fov],open(drift_fl,'wb'))"
   ]
  },
  {
   "cell_type": "code",
   "execution_count": 10,
   "id": "b1c7ae54",
   "metadata": {},
   "outputs": [
    {
     "name": "stderr",
     "output_type": "stream",
     "text": [
      "100%|██████████████████████████████████████████████████████████████████████████████████| 16/16 [11:19<00:00, 42.49s/it]\n"
     ]
    }
   ],
   "source": [
    "compute_drift(asm.save_folder,asm.fov,all_flds,redo=False)"
   ]
  },
  {
   "cell_type": "code",
   "execution_count": null,
   "id": "28eb069c",
   "metadata": {},
   "outputs": [],
   "source": []
  }
 ],
 "metadata": {
  "kernelspec": {
   "display_name": "Python 3 (ipykernel)",
   "language": "python",
   "name": "python3"
  },
  "language_info": {
   "codemirror_mode": {
    "name": "ipython",
    "version": 3
   },
   "file_extension": ".py",
   "mimetype": "text/x-python",
   "name": "python",
   "nbconvert_exporter": "python",
   "pygments_lexer": "ipython3",
   "version": "3.8.16"
  }
 },
 "nbformat": 4,
 "nbformat_minor": 5
}
