{
 "cells": [
  {
   "cell_type": "code",
   "execution_count": 1,
   "id": "598b1b3a",
   "metadata": {},
   "outputs": [],
   "source": [
    "from ioMicro import *"
   ]
  },
  {
   "cell_type": "code",
   "execution_count": 2,
   "id": "6ecf0de1",
   "metadata": {},
   "outputs": [],
   "source": [
    "\n",
    "data_flds = np.array(glob.glob(r'Z:\\DCBBL1_3_2_2023\\MERFISH\\H9_*_set*'))"
   ]
  },
  {
   "cell_type": "code",
   "execution_count": 3,
   "id": "a52a3c8c",
   "metadata": {},
   "outputs": [
    {
     "data": {
      "text/plain": [
       "array(['Z:\\\\DCBBL1_3_2_2023\\\\MERFISH\\\\H9_MER_set1',\n",
       "       'Z:\\\\DCBBL1_3_2_2023\\\\MERFISH\\\\H9_MER_set2',\n",
       "       'Z:\\\\DCBBL1_3_2_2023\\\\MERFISH\\\\H9_MER_set3',\n",
       "       'Z:\\\\DCBBL1_3_2_2023\\\\MERFISH\\\\H9_MER_set4'], dtype='<U38')"
      ]
     },
     "execution_count": 3,
     "metadata": {},
     "output_type": "execute_result"
    }
   ],
   "source": [
    "data_flds"
   ]
  },
  {
   "cell_type": "code",
   "execution_count": 4,
   "id": "9d6d695d",
   "metadata": {},
   "outputs": [
    {
     "name": "stdout",
     "output_type": "stream",
     "text": [
      "Z:\\DCBBL1_3_2_2023\\MERFISH\\mosaics\\H9_MER_set1_col0_fr30.png\n"
     ]
    },
    {
     "data": {
      "application/vnd.jupyter.widget-view+json": {
       "model_id": "fe1741536ad242bf99ea8c8c69ddd099",
       "version_major": 2,
       "version_minor": 0
      },
      "text/plain": [
       "  0%|          | 0/340 [00:00<?, ?it/s]"
      ]
     },
     "metadata": {},
     "output_type": "display_data"
    },
    {
     "name": "stdout",
     "output_type": "stream",
     "text": [
      "Z:\\DCBBL1_3_2_2023\\MERFISH\\mosaics\\H9_MER_set1_col0_fr30_annot.png\n",
      "Z:\\DCBBL1_3_2_2023\\MERFISH\\mosaics\\H9_MER_set1_col1_fr30.png\n"
     ]
    },
    {
     "data": {
      "application/vnd.jupyter.widget-view+json": {
       "model_id": "f0e129ae340847b19b0c7ba388029b82",
       "version_major": 2,
       "version_minor": 0
      },
      "text/plain": [
       "  0%|          | 0/340 [00:00<?, ?it/s]"
      ]
     },
     "metadata": {},
     "output_type": "display_data"
    },
    {
     "name": "stdout",
     "output_type": "stream",
     "text": [
      "Z:\\DCBBL1_3_2_2023\\MERFISH\\mosaics\\H9_MER_set1_col1_fr30_annot.png\n",
      "Z:\\DCBBL1_3_2_2023\\MERFISH\\mosaics\\H9_MER_set1_col2_fr30.png\n"
     ]
    },
    {
     "data": {
      "application/vnd.jupyter.widget-view+json": {
       "model_id": "7abed2fbbd0e44f89988e65c591f1c83",
       "version_major": 2,
       "version_minor": 0
      },
      "text/plain": [
       "  0%|          | 0/340 [00:00<?, ?it/s]"
      ]
     },
     "metadata": {},
     "output_type": "display_data"
    },
    {
     "name": "stdout",
     "output_type": "stream",
     "text": [
      "Z:\\DCBBL1_3_2_2023\\MERFISH\\mosaics\\H9_MER_set1_col2_fr30_annot.png\n",
      "Z:\\DCBBL1_3_2_2023\\MERFISH\\mosaics\\H9_MER_set2_col0_fr30.png\n"
     ]
    },
    {
     "data": {
      "application/vnd.jupyter.widget-view+json": {
       "model_id": "91408fd75d274dc2a5ab0714a4b017a9",
       "version_major": 2,
       "version_minor": 0
      },
      "text/plain": [
       "  0%|          | 0/347 [00:00<?, ?it/s]"
      ]
     },
     "metadata": {},
     "output_type": "display_data"
    },
    {
     "name": "stdout",
     "output_type": "stream",
     "text": [
      "Z:\\DCBBL1_3_2_2023\\MERFISH\\mosaics\\H9_MER_set2_col0_fr30_annot.png\n",
      "Z:\\DCBBL1_3_2_2023\\MERFISH\\mosaics\\H9_MER_set2_col1_fr30.png\n"
     ]
    },
    {
     "data": {
      "application/vnd.jupyter.widget-view+json": {
       "model_id": "f3e2916253394b468fc2ff6a1c47992a",
       "version_major": 2,
       "version_minor": 0
      },
      "text/plain": [
       "  0%|          | 0/347 [00:00<?, ?it/s]"
      ]
     },
     "metadata": {},
     "output_type": "display_data"
    },
    {
     "name": "stdout",
     "output_type": "stream",
     "text": [
      "Z:\\DCBBL1_3_2_2023\\MERFISH\\mosaics\\H9_MER_set2_col1_fr30_annot.png\n",
      "Z:\\DCBBL1_3_2_2023\\MERFISH\\mosaics\\H9_MER_set2_col2_fr30.png\n"
     ]
    },
    {
     "data": {
      "application/vnd.jupyter.widget-view+json": {
       "model_id": "084d356e3bbd4f30aabad4f0f7b2c667",
       "version_major": 2,
       "version_minor": 0
      },
      "text/plain": [
       "  0%|          | 0/347 [00:00<?, ?it/s]"
      ]
     },
     "metadata": {},
     "output_type": "display_data"
    },
    {
     "name": "stdout",
     "output_type": "stream",
     "text": [
      "Z:\\DCBBL1_3_2_2023\\MERFISH\\mosaics\\H9_MER_set2_col2_fr30_annot.png\n",
      "Z:\\DCBBL1_3_2_2023\\MERFISH\\mosaics\\H9_MER_set3_col0_fr30.png\n"
     ]
    },
    {
     "data": {
      "application/vnd.jupyter.widget-view+json": {
       "model_id": "557b620101fc45d8b7ac3ea0850b3b11",
       "version_major": 2,
       "version_minor": 0
      },
      "text/plain": [
       "  0%|          | 0/300 [00:00<?, ?it/s]"
      ]
     },
     "metadata": {},
     "output_type": "display_data"
    },
    {
     "name": "stdout",
     "output_type": "stream",
     "text": [
      "Z:\\DCBBL1_3_2_2023\\MERFISH\\mosaics\\H9_MER_set3_col0_fr30_annot.png\n",
      "Z:\\DCBBL1_3_2_2023\\MERFISH\\mosaics\\H9_MER_set3_col1_fr30.png\n"
     ]
    },
    {
     "data": {
      "application/vnd.jupyter.widget-view+json": {
       "model_id": "56d315ab51114bc39929d6197bc7a869",
       "version_major": 2,
       "version_minor": 0
      },
      "text/plain": [
       "  0%|          | 0/300 [00:00<?, ?it/s]"
      ]
     },
     "metadata": {},
     "output_type": "display_data"
    },
    {
     "name": "stdout",
     "output_type": "stream",
     "text": [
      "Z:\\DCBBL1_3_2_2023\\MERFISH\\mosaics\\H9_MER_set3_col1_fr30_annot.png\n",
      "Z:\\DCBBL1_3_2_2023\\MERFISH\\mosaics\\H9_MER_set3_col2_fr30.png\n"
     ]
    },
    {
     "data": {
      "application/vnd.jupyter.widget-view+json": {
       "model_id": "981def21fcf9480ea9e6beb8c103cad7",
       "version_major": 2,
       "version_minor": 0
      },
      "text/plain": [
       "  0%|          | 0/300 [00:00<?, ?it/s]"
      ]
     },
     "metadata": {},
     "output_type": "display_data"
    },
    {
     "name": "stdout",
     "output_type": "stream",
     "text": [
      "Z:\\DCBBL1_3_2_2023\\MERFISH\\mosaics\\H9_MER_set3_col2_fr30_annot.png\n",
      "Z:\\DCBBL1_3_2_2023\\MERFISH\\mosaics\\H9_MER_set4_col0_fr30.png\n"
     ]
    },
    {
     "data": {
      "application/vnd.jupyter.widget-view+json": {
       "model_id": "079d6c8ed3864daf89038736ccfddaff",
       "version_major": 2,
       "version_minor": 0
      },
      "text/plain": [
       "  0%|          | 0/308 [00:00<?, ?it/s]"
      ]
     },
     "metadata": {},
     "output_type": "display_data"
    },
    {
     "name": "stdout",
     "output_type": "stream",
     "text": [
      "Z:\\DCBBL1_3_2_2023\\MERFISH\\mosaics\\H9_MER_set4_col0_fr30_annot.png\n",
      "Z:\\DCBBL1_3_2_2023\\MERFISH\\mosaics\\H9_MER_set4_col1_fr30.png\n"
     ]
    },
    {
     "data": {
      "application/vnd.jupyter.widget-view+json": {
       "model_id": "736a2fda22ef43378aea550a4bb27a7f",
       "version_major": 2,
       "version_minor": 0
      },
      "text/plain": [
       "  0%|          | 0/308 [00:00<?, ?it/s]"
      ]
     },
     "metadata": {},
     "output_type": "display_data"
    },
    {
     "name": "stdout",
     "output_type": "stream",
     "text": [
      "Z:\\DCBBL1_3_2_2023\\MERFISH\\mosaics\\H9_MER_set4_col1_fr30_annot.png\n",
      "Z:\\DCBBL1_3_2_2023\\MERFISH\\mosaics\\H9_MER_set4_col2_fr30.png\n"
     ]
    },
    {
     "data": {
      "application/vnd.jupyter.widget-view+json": {
       "model_id": "e1f73870c501462084b6237d6a3ee1de",
       "version_major": 2,
       "version_minor": 0
      },
      "text/plain": [
       "  0%|          | 0/308 [00:00<?, ?it/s]"
      ]
     },
     "metadata": {},
     "output_type": "display_data"
    },
    {
     "name": "stdout",
     "output_type": "stream",
     "text": [
      "Z:\\DCBBL1_3_2_2023\\MERFISH\\mosaics\\H9_MER_set4_col2_fr30_annot.png\n"
     ]
    }
   ],
   "source": [
    "import time\n",
    "if True:\n",
    "    import numpy as np,os,sys,glob\n",
    "    import matplotlib.pylab as plt\n",
    "    from ioMicro import *\n",
    "    vmax=None\n",
    "    #data_flds = glob.glob(r'V:\\DCBBL1_spinal_01_25_2023\\H*')\n",
    "    for data_fld in data_flds[:]:\n",
    "        resc = 4\n",
    "        icol = 1\n",
    "        fr = 0\n",
    "        for icol in [0,1,2]:\n",
    "            for fr in [30]:\n",
    "                if os.path.isdir(data_fld) or True:\n",
    "                    save_fld = os.path.dirname(data_fld)+os.sep+'mosaics'\n",
    "                    if not os.path.exists(save_fld): os.makedirs(save_fld)\n",
    "\n",
    "                    fl_save = save_fld+os.sep+os.path.basename(data_fld)+'_col'+str(icol)+'_fr'+str(fr)+'.png'\n",
    "                    print(fl_save)\n",
    "                    if not os.path.exists(fl_save):\n",
    "                        fls_ = np.sort(glob.glob(data_fld+r'\\*.zarr'))\n",
    "                        ims,xs_um,ys_um=[],[],[]\n",
    "                        from tqdm.notebook import tqdm\n",
    "\n",
    "                        for fl in tqdm(fls_[:]):\n",
    "                            im,x,y = read_im(fl,return_pos=True)\n",
    "                            ims.append(np.array(im[icol][fr,::resc,::resc],dtype=np.float32))\n",
    "                            xs_um.append(x)\n",
    "                            ys_um.append(y)\n",
    "\n",
    "                        im_big,xs,ys = compose_mosaic([im.T[::-1,::1] for im in ims],xs_um,ys_um,ims_c=None,\n",
    "                                                      um_per_pix=0.1083333*resc,\n",
    "                                                      rot = 0,return_coords= True)\n",
    "\n",
    "\n",
    "                        resc_ = 1\n",
    "                        data_fld = os.path.dirname(fls_[0])\n",
    "                        fig = plt.figure(figsize=(30,30))\n",
    "                        im__ = im_big[::resc_,::resc_]\n",
    "                        if vmax is None:\n",
    "                            vmax = np.percentile(im__[im__>0],99.)\n",
    "                        vmin=np.percentile(im__[im__>0],1.)\n",
    "                        plt.imshow(im_big.T[::resc_,::resc_],vmin=vmin,vmax=vmax,cmap='gray')\n",
    "                        fig.savefig(fl_save)\n",
    "                        for x_,y_,fl_ in zip(xs,ys,fls_):\n",
    "                            ifov = fl_.split('_')[-1].split('.')[0]\n",
    "                            plt.text(x_/resc_,y_/resc_,ifov,color='r')\n",
    "                        plt.xticks([])\n",
    "                        plt.yticks([])\n",
    "                        fl_save = fl_save.replace('.png','_annot.png')\n",
    "                        print(fl_save)\n",
    "                        fig.savefig(fl_save)\n",
    "                        plt.close('all')\n",
    "#     else:\n",
    "#         time.sleep(300)"
   ]
  },
  {
   "cell_type": "code",
   "execution_count": null,
   "id": "74751b44",
   "metadata": {},
   "outputs": [],
   "source": []
  }
 ],
 "metadata": {
  "kernelspec": {
   "display_name": "Python 3 (ipykernel)",
   "language": "python",
   "name": "python3"
  },
  "language_info": {
   "codemirror_mode": {
    "name": "ipython",
    "version": 3
   },
   "file_extension": ".py",
   "mimetype": "text/x-python",
   "name": "python",
   "nbconvert_exporter": "python",
   "pygments_lexer": "ipython3",
   "version": "3.8.16"
  }
 },
 "nbformat": 4,
 "nbformat_minor": 5
}
