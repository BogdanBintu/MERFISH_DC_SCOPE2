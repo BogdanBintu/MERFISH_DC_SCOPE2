{
 "cells": [
  {
   "cell_type": "code",
   "execution_count": 2,
   "id": "93072ee4",
   "metadata": {},
   "outputs": [],
   "source": [
    "from ioMicro import *"
   ]
  },
  {
   "cell_type": "code",
   "execution_count": 4,
   "id": "51b7d9c0",
   "metadata": {},
   "outputs": [],
   "source": [
    "fl = r'\\\\192.168.0.10\\bbfishdc13\\DCBBL1_3_10_2023__GFP\\H9_MER_set1\\Conv_zscan__012.zarr'\n",
    "im_dapi = read_im(fl)[-1]#[::6]"
   ]
  },
  {
   "cell_type": "code",
   "execution_count": null,
   "id": "838e8d77",
   "metadata": {},
   "outputs": [],
   "source": []
  },
  {
   "cell_type": "code",
   "execution_count": 80,
   "id": "4406873b",
   "metadata": {},
   "outputs": [
    {
     "name": "stdout",
     "output_type": "stream",
     "text": [
      "Loaded decoded: -1.7433724403381348\n"
     ]
    }
   ],
   "source": [
    "fov = os.path.basename(fl)\n",
    "set_ = '_'+os.path.basename(os.path.dirname(fl)).split('_')[-1]\n",
    "\n",
    "drift_fl = save_fld+os.sep+'drift_'+fov.split('.')[0]+'--'+set_+'.pkl'\n",
    "drifts,all_flds,fov = pickle.load(open(drift_fl,'rb'))\n",
    "tag = os.path.basename(os.path.dirname(fl))\n",
    "tags = [os.path.basename(fld) for fld in all_flds]\n",
    "drift = drifts[tags.index(tag)][0]\n",
    "\n",
    "save_fld = r'\\\\192.168.0.10\\bbfishdc13\\DCBBL1_3_10_2023__GFP\\MERFISH_Analysis'\n",
    "dec = decoder_simple(save_fld,fov=fov, set_=set_)\n",
    "dec.load_decoded()\n",
    "XH = dec.XH_pruned.copy()\n",
    "XHM = np.mean(XH,axis=1)\n",
    "X = XHM[:,:3].astype(int)-drift\n",
    "shape = im_dapi.shape\n",
    "im_ = np.zeros(shape)\n",
    "keep = np.all((X>=0)&(X<shape),axis=-1)\n",
    "#gn = 'Bsn'\n",
    "#ign = np.where(dec.gns_names==gn)[0][0]\n",
    "#icds_ = icds[np.argsort(ncts)[::-1]][:10]\n",
    "#icds_ = [ign]\n",
    "#keep&= np.in1d(dec.icodesN,icds_)\n",
    "im_[tuple(X[keep].T)]=XHM[keep,-3]\n",
    "from scipy.ndimage import gaussian_filter\n",
    "im__ = gaussian_filter(im_[:,:,:], 4)"
   ]
  },
  {
   "cell_type": "code",
   "execution_count": 51,
   "id": "425ea06c",
   "metadata": {},
   "outputs": [
    {
     "data": {
      "text/plain": [
       "<Image layer 'im__' at 0x262b0d417f0>"
      ]
     },
     "execution_count": 51,
     "metadata": {},
     "output_type": "execute_result"
    }
   ],
   "source": [
    "V = napari.view_image(im_dapi)\n",
    "V.add_image(im__)"
   ]
  },
  {
   "cell_type": "code",
   "execution_count": 168,
   "id": "f6a4cdd3",
   "metadata": {},
   "outputs": [],
   "source": [
    "im_dapi_ = im_dapi[len(im_dapi)//2]\n",
    "im_ = np.array(im_dapi_,dtype=np.float32)\n",
    "img = (cv2.blur(im_,(3,3))-cv2.blur(im_,(150,150)))[::resc,::resc]\n",
    "p1 = np.percentile(img,1)\n",
    "#p1 = np.percentile(img,1)\n",
    "#p1=0\n",
    "if p99 is None:\n",
    "    p99 = np.percentile(img,99.9)\n",
    "p99=2000\n",
    "img_dapi = np.array(np.clip((img-p1)/(p99-p1),0,1),dtype=np.float32)\n",
    "im_sig = im__[len(im_dapi)//2][::resc,::resc].copy()\n",
    "im_sig = np.clip(im_sig*50/10000,0,1)\n",
    "imf = np.dstack([im_sig,im_sig,img_dapi])"
   ]
  },
  {
   "cell_type": "code",
   "execution_count": 241,
   "id": "75c4891c",
   "metadata": {},
   "outputs": [],
   "source": [
    "im_dapi_ = im_dapi[len(im_dapi)//2]#-(im_dapi[len(im_dapi)//2-1]+im_dapi[len(im_dapi)//2+1])/2\n",
    "im_ = np.array(im_dapi_,dtype=np.float32)\n",
    "img = (cv2.blur(im_,(3,3))-cv2.blur(im_,(150,150)))[::resc,::resc]\n",
    "p1 = np.percentile(img,1)\n",
    "#p1 = np.percentile(img,1)\n",
    "#p1=0\n",
    "if p99 is None:\n",
    "    p99 = np.percentile(img,99.9)\n",
    "p99=2000\n",
    "img_dapi = np.array(np.clip((img-p1)/(p99-p1),0,1),dtype=np.float32)\n",
    "#im_sig = im__[len(im_dapi)//2][::resc,::resc].copy()\n",
    "#im_sig = np.clip(im_sig*50/10000,0,1)\n",
    "#imf = np.dstack([im_sig,im_sig,img_dapi])"
   ]
  },
  {
   "cell_type": "code",
   "execution_count": 242,
   "id": "9198ef7c",
   "metadata": {},
   "outputs": [
    {
     "data": {
      "text/plain": [
       "Viewer(axes=Axes(visible=False, labels=True, colored=True, dashed=False, arrows=True), camera=Camera(center=(0.0, 374.5, 374.5), zoom=1.625133333333333, angles=(0.0, 0.0, 90.0), perspective=0.0, interactive=True), cursor=Cursor(position=(1.0, 1.0), scaled=True, size=1, style=<CursorStyle.STANDARD: 'standard'>), dims=Dims(ndim=2, ndisplay=2, last_used=0, range=((0.0, 750.0, 1.0), (0.0, 750.0, 1.0)), current_step=(375, 375), order=(0, 1), axis_labels=('0', '1')), grid=GridCanvas(stride=1, shape=(-1, -1), enabled=False), layers=[<Image layer 'img_dapi' at 0x2650529c280>], scale_bar=ScaleBar(visible=False, colored=False, color=array([1., 0., 1., 1.], dtype=float32), ticks=True, position=<Position.BOTTOM_RIGHT: 'bottom_right'>, font_size=10.0, box=False, box_color=array([0. , 0. , 0. , 0.6], dtype=float32), unit=None), text_overlay=TextOverlay(visible=False, color=array([0.5, 0.5, 0.5, 1. ], dtype=float32), font_size=10.0, position=<TextOverlayPosition.TOP_LEFT: 'top_left'>, text=''), overlays=Overlays(interaction_box=InteractionBox(points=None, show=False, show_handle=False, show_vertices=False, selection_box_drag=None, selection_box_final=None, transform_start=<napari.utils.transforms.transforms.Affine object at 0x0000026500CE3580>, transform_drag=<napari.utils.transforms.transforms.Affine object at 0x0000026500CE35E0>, transform_final=<napari.utils.transforms.transforms.Affine object at 0x0000026500CE3640>, transform=<napari.utils.transforms.transforms.Affine object at 0x0000026500CE36A0>, allow_new_selection=True, selected_vertex=None)), help='', status='Ready', tooltip=Tooltip(visible=False, text=''), theme='dark', title='napari', mouse_over_canvas=False, mouse_move_callbacks=[<function InteractionBoxMouseBindings.initialize_mouse_events.<locals>.mouse_move at 0x000002650526D160>], mouse_drag_callbacks=[<function InteractionBoxMouseBindings.initialize_mouse_events.<locals>.mouse_drag at 0x0000026505258F70>], mouse_double_click_callbacks=[], mouse_wheel_callbacks=[<function dims_scroll at 0x0000026280DE8AF0>], _persisted_mouse_event={}, _mouse_drag_gen={}, _mouse_wheel_gen={}, keymap={'Shift': <function InteractionBoxMouseBindings.initialize_key_events.<locals>.hold_to_lock_aspect_ratio at 0x00000265052581F0>, 'Control-Shift-R': <function InteractionBoxMouseBindings._reset_active_layer_affine at 0x0000026505258AF0>, 'Control-Shift-A': <function InteractionBoxMouseBindings._transform_active_layer at 0x00000265052583A0>})"
      ]
     },
     "execution_count": 242,
     "metadata": {},
     "output_type": "execute_result"
    }
   ],
   "source": [
    "napari.view_image(img_dapi)"
   ]
  },
  {
   "cell_type": "code",
   "execution_count": 204,
   "id": "af94f760",
   "metadata": {},
   "outputs": [],
   "source": [
    "from cellpose import models, io,utils\n",
    "imf = np.dstack([img_dapi,im_sig,img_dapi])\n",
    "resc=4\n",
    "sz_min_2d=400\n",
    "sz_cell=22\n",
    "use_gpu=True\n",
    "model='cyto'\n",
    "#p99=None\n",
    "model = models.Cellpose(gpu=use_gpu, model_type=model)\n",
    "masks, flows, styles, diams = model.eval(img_dapi, diameter=sz_cell, channels=[0,0],\n",
    "                                         flow_threshold=20,cellprob_threshold=-30,min_size=100,normalize=False)"
   ]
  },
  {
   "cell_type": "code",
   "execution_count": 233,
   "id": "df1906eb",
   "metadata": {},
   "outputs": [],
   "source": [
    "from scipy import ndimage\n",
    "umsks = np.unique(masks)\n",
    "means = ndimage.mean(im_[::resc,::resc],masks,index=umsks)\n",
    "th = (np.percentile(means[1:],25)+means[0])/2\n",
    "bad = np.in1d(masks,umsks[means<th])\n",
    "masks_ = masks.copy()\n",
    "masks_[bad.reshape(masks_.shape)]=0"
   ]
  },
  {
   "cell_type": "code",
   "execution_count": 234,
   "id": "f02da640",
   "metadata": {},
   "outputs": [
    {
     "data": {
      "text/plain": [
       "<Labels layer 'masks_' at 0x264fbbcd070>"
      ]
     },
     "execution_count": 234,
     "metadata": {},
     "output_type": "execute_result"
    }
   ],
   "source": [
    "import napari\n",
    "viewer = napari.Viewer()\n",
    "viewer.add_image(im_[::resc,::resc])\n",
    "#viewer.add_image(im_sig)\n",
    "viewer.add_labels(masks)\n",
    "viewer.add_labels(masks_)"
   ]
  },
  {
   "cell_type": "code",
   "execution_count": 67,
   "id": "3eabcdbf",
   "metadata": {},
   "outputs": [
    {
     "data": {
      "text/plain": [
       "'\\\\\\\\192.168.0.10\\\\bbfishdc13\\\\DCBBL1_3_10_2023__GFP\\\\H16_MER_set2'"
      ]
     },
     "execution_count": 67,
     "metadata": {},
     "output_type": "execute_result"
    }
   ],
   "source": [
    "all_flds[np.argmin([np.sum(np.abs(drft[0])) for drft in drifts])]"
   ]
  },
  {
   "cell_type": "code",
   "execution_count": 183,
   "id": "a0d556be",
   "metadata": {},
   "outputs": [
    {
     "data": {
      "text/plain": [
       "(750, 750, 3)"
      ]
     },
     "execution_count": 183,
     "metadata": {},
     "output_type": "execute_result"
    }
   ],
   "source": [
    "flows[0].shape"
   ]
  },
  {
   "cell_type": "code",
   "execution_count": null,
   "id": "c877c65e",
   "metadata": {},
   "outputs": [],
   "source": []
  },
  {
   "cell_type": "code",
   "execution_count": 40,
   "id": "2a961d76",
   "metadata": {},
   "outputs": [
    {
     "name": "stderr",
     "output_type": "stream",
     "text": [
      "100%|████████████████████████████████████████████████████████████████████████████████████| 1/1 [00:08<00:00,  8.18s/it]\n"
     ]
    }
   ],
   "source": [
    "from cellpose import models, io,utils\n",
    "resc=4\n",
    "sz_min_2d=400\n",
    "sz_cell=20\n",
    "use_gpu=True\n",
    "model='cyto2'\n",
    "p99=None\n",
    "\n",
    "model = models.Cellpose(gpu=use_gpu, model_type=model)\n",
    "#decided that resampling to the 4-2-2 will make it faster\n",
    "#im_dapi_3d = im_dapi[::rescz,::resc,::resc].astype(np.float32)\n",
    "chan = [0,0]\n",
    "masks_all = []\n",
    "flows_all = []\n",
    "from tqdm import tqdm\n",
    "for im in tqdm(im_dapi[[0]]):\n",
    "    im_ = np.array(im,dtype=np.float32)\n",
    "    img = (cv2.blur(im_,(2,2))-cv2.blur(im_,(250,250)))[::resc,::resc]\n",
    "    p1 = np.percentile(img,1)\n",
    "    if p99 is None:\n",
    "        p99 = np.percentile(img,99.9)\n",
    "    img = np.array(np.clip((img-p1)/(p99-p1),0,1),dtype=np.float32)\n",
    "    masks, flows, styles, diams = model.eval(img, diameter=sz_cell, channels=chan,\n",
    "                                         flow_threshold=0.85,cellprob_threshold=-2,min_size=100,normalize=False)\n"
   ]
  },
  {
   "cell_type": "code",
   "execution_count": 41,
   "id": "6112c196",
   "metadata": {},
   "outputs": [
    {
     "data": {
      "text/plain": [
       "<Labels layer 'masks' at 0x262b0c129d0>"
      ]
     },
     "execution_count": 41,
     "metadata": {},
     "output_type": "execute_result"
    }
   ],
   "source": [
    "import napari\n",
    "viewer = napari.Viewer()\n",
    "viewer.add_image(img)\n",
    "viewer.add_labels(masks)"
   ]
  },
  {
   "cell_type": "code",
   "execution_count": null,
   "id": "dcf9d80e",
   "metadata": {},
   "outputs": [],
   "source": []
  },
  {
   "cell_type": "code",
   "execution_count": null,
   "id": "4078e38d",
   "metadata": {},
   "outputs": [],
   "source": [
    "def final_segmentation(fl_dapi,\n",
    "                        analysis_folder=r'X:\\DCBB_human__11_18_2022_Analysis',\n",
    "                        plt_val=True,\n",
    "                        rescz = 5,trimz=2, resc=4,p99=4500):\n",
    "    segm_folder = analysis_folder+os.sep+'Segmentation'\n",
    "    if not os.path.exists(segm_folder): os.makedirs(segm_folder)\n",
    "\n",
    "    save_fl  = segm_folder+os.sep+os.path.basename(fl_dapi).split('.')[0]+'--'+os.path.basename(os.path.dirname(fl_dapi))+'--dapi_segm.npz'\n",
    "\n",
    "    if not os.path.exists(save_fl):\n",
    "        im = read_im(fl_dapi)\n",
    "        #im_mid_dapi = np.array(im[-1][im.shape[1]//2],dtype=np.float32)\n",
    "        im_dapi = im[-1,::rescz][trimz:-trimz]\n",
    "\n",
    "        im_seg_2 = standard_segmentation(im_dapi,resc=resc,sz_min_2d=100,sz_cell=20,use_gpu=True,model='cyto2',p99=p99)\n",
    "        shape = np.array(im[-1].shape)\n",
    "        np.savez_compressed(save_fl,segm = im_seg_2,shape = shape)"
   ]
  },
  {
   "cell_type": "code",
   "execution_count": null,
   "id": "47664785",
   "metadata": {},
   "outputs": [],
   "source": [
    "standard_segmentation(im_dapi,resc=4,sz_min_2d=400,sz_cell=25,use_gpu=True,model='cyto2',p99=None)"
   ]
  },
  {
   "cell_type": "code",
   "execution_count": 4,
   "id": "c9ca1fed",
   "metadata": {},
   "outputs": [],
   "source": [
    "??standard_segmentation"
   ]
  },
  {
   "cell_type": "code",
   "execution_count": 44,
   "id": "0aab0def",
   "metadata": {},
   "outputs": [
    {
     "name": "stderr",
     "output_type": "stream",
     "text": [
      "100%|████████████████████████████████████████████████████████████████████████████████████| 4/4 [00:39<00:00,  9.98s/it]\n",
      "100%|████████████████████████████████████████████████████████████████████████████████████| 3/3 [00:00<00:00,  4.87it/s]\n",
      "100%|████████████████████████████████████████████████████████████████████████████████████| 3/3 [00:00<00:00,  5.35it/s]\n",
      "100%|████████████████████████████████████████████████████████████████████████████████████| 3/3 [00:00<00:00, 11.94it/s]\n"
     ]
    },
    {
     "name": "stdout",
     "output_type": "stream",
     "text": [
      "Saved file:\\\\192.168.0.10\\bbfishdc13\\DCBBL1_3_10_2023__GFP\\MERFISH_Analysis\\Segmentation\\Conv_zscan__012--P1__Igfbp_Aldh1l1_Ptbp1__set1--dapi_segm__segim.png\n"
     ]
    }
   ],
   "source": [
    "save_folder =r'\\\\192.168.0.10\\bbfishdc13\\DCBBL1_3_10_2023__GFP\\MERFISH_Analysis'\n",
    "fl_dapi = r'\\\\192.168.0.10\\bbfishdc13\\DCBBL1_3_10_2023__GFP\\P1__Igfbp_Aldh1l1_Ptbp1__set1\\Conv_zscan__012.zarr'\n",
    "final_segmentation(fl_dapi,\n",
    "                    analysis_folder=save_folder,\n",
    "                    plt_val=True,\n",
    "                    rescz = 5,trimz=2, resc=4,p99=4500)"
   ]
  },
  {
   "cell_type": "code",
   "execution_count": null,
   "id": "57a03ff3",
   "metadata": {},
   "outputs": [],
   "source": []
  }
 ],
 "metadata": {
  "kernelspec": {
   "display_name": "Python 3 (ipykernel)",
   "language": "python",
   "name": "python3"
  },
  "language_info": {
   "codemirror_mode": {
    "name": "ipython",
    "version": 3
   },
   "file_extension": ".py",
   "mimetype": "text/x-python",
   "name": "python",
   "nbconvert_exporter": "python",
   "pygments_lexer": "ipython3",
   "version": "3.8.16"
  }
 },
 "nbformat": 4,
 "nbformat_minor": 5
}
