{
 "cells": [
  {
   "cell_type": "code",
   "execution_count": 1,
   "id": "caf35790",
   "metadata": {},
   "outputs": [],
   "source": [
    "import numpy as np,os,sys,glob\n",
    "import matplotlib.pylab as plt\n",
    "from ioMicro import *"
   ]
  },
  {
   "cell_type": "code",
   "execution_count": 2,
   "id": "db87adce",
   "metadata": {},
   "outputs": [
    {
     "name": "stdout",
     "output_type": "stream",
     "text": [
      "Found files:579\n",
      "Found hybe folders:19\n",
      "['_set1', '_set2']\n",
      "204 9\n"
     ]
    }
   ],
   "source": [
    "asm = analysis_smFISH(data_folders = [r'Z:\\DCBB_human_011823_cs4'],\n",
    "                 save_folder =r'Z:\\DCBB_human_011823_cs4_Analysis',\n",
    "                 H0folder=  r'Z:\\DCBB_human_011823_cs4\\H0*',exclude_H0=True)\n",
    "#fl_save = r'\\\\Bbfishdc9\\bbfishdc9\\DCBBL1_spinal_01_25_2023\\psf_Scope2_25_1p5x_cy3_final.pkl'\n",
    "#dic_psf = pickle.load(open(fl_save,'rb'))\n",
    "sets = np.unique(['_set'+os.path.basename(fld).split('_set')[-1] for fld in asm.Qfolders if '_set' in os.path.basename(fld)])\n",
    "print(list(sets))\n",
    "\n",
    "from tqdm import tqdm\n",
    "asm.set_set('set2')\n",
    "nfovs = len(asm.fls_bk_)\n",
    "nQs = len([fld for fld in asm.Qfolders if asm.set_ in fld])\n",
    "print(nfovs,nQs)\n",
    "\n",
    "def process_fov(ifov,iQs=None):\n",
    "    asm.set_fov(ifov)\n",
    "    final_segmentation(asm.fl_bk,\n",
    "                        analysis_folder=asm.save_folder,\n",
    "                        plt_val=True,\n",
    "                        rescz = 3,trimz=2, resc=4,p99=850)\n",
    "    if True:\n",
    "        nQs = len([fld for fld in asm.Qfolders if asm.set_ in fld])\n",
    "        if iQs is None: iQs = range(nQs)\n",
    "        for iQ in iQs:\n",
    "            asm.set_hybe(iQ)\n",
    "            completed = asm.check_finished_file()\n",
    "            if not completed:\n",
    "                asm.get_background(force=False)\n",
    "                asm.get_signal()\n",
    "                asm.compute_drift(sz=300)\n",
    "                asm.get_aligned_ims()\n",
    "                #imf = asm.im_sig__/asm.im_bk__\n",
    "                resc=5\n",
    "                asm.get_Xh(th = 750,s=30,dic_psf=None,subtract_bk=True,trim0=True)\n",
    "                #get_Xh(self,th = 3,s=30,dic_psf=None,normalized=False,subtract_bk=False,trim0=True)\n",
    "                asm.dic_th = {0:2000,1:2000,2:3000}\n",
    "                asm.save_fits(icols=None,plt_val=True,save_max=True)"
   ]
  },
  {
   "cell_type": "code",
   "execution_count": 3,
   "id": "4a93514b",
   "metadata": {},
   "outputs": [
    {
     "name": "stderr",
     "output_type": "stream",
     "text": [
      "\r",
      "  0%|                                                                                          | 0/204 [00:00<?, ?it/s]"
     ]
    },
    {
     "name": "stdout",
     "output_type": "stream",
     "text": [
      "### define H0 and load background\n",
      "Background file: Z:\\DCBB_human_011823_cs4\\H0_set2\\Conv_zscan__000.zarr\n",
      "### load signal\n",
      "Signal file: Z:\\DCBB_human_011823_cs4\\H2_set2\\Conv_zscan__000.zarr\n",
      "Found drift:[ 1  3 -3]\n",
      "Fitting color 0\n",
      "Fitting color 1\n",
      "Fitting color 2\n",
      "### define H0 and load background\n",
      "### load signal\n",
      "Signal file: Z:\\DCBB_human_011823_cs4\\H3_set2\\Conv_zscan__000.zarr\n",
      "Found drift:[ 1  2 -9]\n",
      "Fitting color 0\n"
     ]
    },
    {
     "name": "stderr",
     "output_type": "stream",
     "text": [
      "  0%|                                                                                          | 0/204 [01:15<?, ?it/s]\n"
     ]
    },
    {
     "ename": "KeyboardInterrupt",
     "evalue": "",
     "output_type": "error",
     "traceback": [
      "\u001b[1;31m---------------------------------------------------------------------------\u001b[0m",
      "\u001b[1;31mKeyboardInterrupt\u001b[0m                         Traceback (most recent call last)",
      "Cell \u001b[1;32mIn[3], line 2\u001b[0m\n\u001b[0;32m      1\u001b[0m \u001b[38;5;28;01mfor\u001b[39;00m ifov \u001b[38;5;129;01min\u001b[39;00m tqdm(np\u001b[38;5;241m.\u001b[39marange(nfovs)):\n\u001b[1;32m----> 2\u001b[0m     \u001b[43mprocess_fov\u001b[49m\u001b[43m(\u001b[49m\u001b[43mifov\u001b[49m\u001b[43m,\u001b[49m\u001b[43miQs\u001b[49m\u001b[38;5;241;43m=\u001b[39;49m\u001b[38;5;28;43;01mNone\u001b[39;49;00m\u001b[43m)\u001b[49m\n",
      "Cell \u001b[1;32mIn[2], line 34\u001b[0m, in \u001b[0;36mprocess_fov\u001b[1;34m(ifov, iQs)\u001b[0m\n\u001b[0;32m     32\u001b[0m \u001b[38;5;66;03m#imf = asm.im_sig__/asm.im_bk__\u001b[39;00m\n\u001b[0;32m     33\u001b[0m resc\u001b[38;5;241m=\u001b[39m\u001b[38;5;241m5\u001b[39m\n\u001b[1;32m---> 34\u001b[0m \u001b[43masm\u001b[49m\u001b[38;5;241;43m.\u001b[39;49m\u001b[43mget_Xh\u001b[49m\u001b[43m(\u001b[49m\u001b[43mth\u001b[49m\u001b[43m \u001b[49m\u001b[38;5;241;43m=\u001b[39;49m\u001b[43m \u001b[49m\u001b[38;5;241;43m750\u001b[39;49m\u001b[43m,\u001b[49m\u001b[43ms\u001b[49m\u001b[38;5;241;43m=\u001b[39;49m\u001b[38;5;241;43m30\u001b[39;49m\u001b[43m,\u001b[49m\u001b[43mdic_psf\u001b[49m\u001b[38;5;241;43m=\u001b[39;49m\u001b[38;5;28;43;01mNone\u001b[39;49;00m\u001b[43m,\u001b[49m\u001b[43msubtract_bk\u001b[49m\u001b[38;5;241;43m=\u001b[39;49m\u001b[38;5;28;43;01mTrue\u001b[39;49;00m\u001b[43m,\u001b[49m\u001b[43mtrim0\u001b[49m\u001b[38;5;241;43m=\u001b[39;49m\u001b[38;5;28;43;01mTrue\u001b[39;49;00m\u001b[43m)\u001b[49m\n\u001b[0;32m     35\u001b[0m \u001b[38;5;66;03m#get_Xh(self,th = 3,s=30,dic_psf=None,normalized=False,subtract_bk=False,trim0=True)\u001b[39;00m\n\u001b[0;32m     36\u001b[0m asm\u001b[38;5;241m.\u001b[39mdic_th \u001b[38;5;241m=\u001b[39m {\u001b[38;5;241m0\u001b[39m:\u001b[38;5;241m1\u001b[39m,\u001b[38;5;241m1\u001b[39m:\u001b[38;5;241m1\u001b[39m,\u001b[38;5;241m2\u001b[39m:\u001b[38;5;241m1\u001b[39m}\n",
      "File \u001b[1;32m~\\Scope2Analysis_Scripts\\MERFISH2\\Analysis_1500gns_MERFISH\\ioMicro.py:634\u001b[0m, in \u001b[0;36manalysis_smFISH.get_Xh\u001b[1;34m(self, th, s, dic_psf, subtract_bk, trim0, fr)\u001b[0m\n\u001b[0;32m    632\u001b[0m     im_raw \u001b[38;5;241m=\u001b[39m im_raw\u001b[38;5;241m-\u001b[39mnp\u001b[38;5;241m.\u001b[39mmedian(im_raw)\n\u001b[0;32m    633\u001b[0m     \u001b[38;5;28;01mif\u001b[39;00m trim0:\n\u001b[1;32m--> 634\u001b[0m         \u001b[43mim_raw\u001b[49m\u001b[43m[\u001b[49m\u001b[43mim_raw\u001b[49m\u001b[38;5;241;43m<\u001b[39;49m\u001b[38;5;241;43m0\u001b[39;49m\u001b[43m]\u001b[49m\u001b[38;5;241m=\u001b[39m\u001b[38;5;241m0\u001b[39m\n\u001b[0;32m    635\u001b[0m \u001b[38;5;28;01melse\u001b[39;00m:\n\u001b[0;32m    636\u001b[0m     im_raw \u001b[38;5;241m=\u001b[39m \u001b[38;5;28mself\u001b[39m\u001b[38;5;241m.\u001b[39mim_sig_[icol]\n",
      "\u001b[1;31mKeyboardInterrupt\u001b[0m: "
     ]
    }
   ],
   "source": [
    "for ifov in tqdm(np.arange(nfovs)):\n",
    "    process_fov(ifov,iQs=None)"
   ]
  },
  {
   "cell_type": "code",
   "execution_count": 5,
   "id": "466903c7",
   "metadata": {},
   "outputs": [],
   "source": []
  },
  {
   "cell_type": "code",
   "execution_count": 12,
   "id": "f811874e",
   "metadata": {},
   "outputs": [],
   "source": [
    "asm.dic_th = {0:2000,1:2000,2:2000}\n",
    "save_fits(asm,icols=None,plt_val=True,save_max=False)"
   ]
  },
  {
   "cell_type": "code",
   "execution_count": 4,
   "id": "24f94299",
   "metadata": {},
   "outputs": [
    {
     "name": "stderr",
     "output_type": "stream",
     "text": [
      "C:\\Software\\anaconda3\\envs\\cellpose\\lib\\site-packages\\tqdm\\auto.py:22: TqdmWarning: IProgress not found. Please update jupyter and ipywidgets. See https://ipywidgets.readthedocs.io/en/stable/user_install.html\n",
      "  from .autonotebook import tqdm as notebook_tqdm\n",
      "100%|████████████████████████████████████████████████████████████████████████████████████| 6/6 [00:57<00:00,  9.58s/it]\n",
      "100%|████████████████████████████████████████████████████████████████████████████████████| 5/5 [00:04<00:00,  1.08it/s]\n",
      "100%|████████████████████████████████████████████████████████████████████████████████████| 5/5 [00:04<00:00,  1.08it/s]\n",
      "100%|████████████████████████████████████████████████████████████████████████████████████| 5/5 [00:02<00:00,  2.30it/s]\n"
     ]
    },
    {
     "name": "stdout",
     "output_type": "stream",
     "text": [
      "Saved file:Z:\\DCBB_human_011823_cs4_Analysis\\Segmentation\\Conv_zscan__100--H0_set2--dapi_segm__segim.png\n",
      "### define H0 and load background\n",
      "Background file: Z:\\DCBB_human_011823_cs4\\H0_set2\\Conv_zscan__100.zarr\n",
      "### load signal\n",
      "Signal file: Z:\\DCBB_human_011823_cs4\\H1_set2\\Conv_zscan__100.zarr\n",
      "Found drift:[ 0  2 -2]\n",
      "Fitting color 0\n",
      "Fitting color 1\n",
      "Fitting color 2\n",
      "### define H0 and load background\n",
      "### load signal\n",
      "Signal file: Z:\\DCBB_human_011823_cs4\\H2_set2\\Conv_zscan__100.zarr\n",
      "Found drift:[ 3  2 -4]\n",
      "Fitting color 0\n",
      "Fitting color 1\n",
      "Fitting color 2\n",
      "### define H0 and load background\n",
      "### load signal\n",
      "Signal file: Z:\\DCBB_human_011823_cs4\\H3_set2\\Conv_zscan__100.zarr\n",
      "Found drift:[ 2  2 -8]\n",
      "Fitting color 0\n",
      "Fitting color 1\n",
      "Fitting color 2\n",
      "### define H0 and load background\n",
      "### load signal\n",
      "Signal file: Z:\\DCBB_human_011823_cs4\\H4_set2\\Conv_zscan__100.zarr\n",
      "Found drift:[ 3  1 -3]\n",
      "Fitting color 0\n",
      "Fitting color 1\n",
      "Fitting color 2\n",
      "### define H0 and load background\n",
      "### load signal\n",
      "Signal file: Z:\\DCBB_human_011823_cs4\\H5_set2\\Conv_zscan__100.zarr\n",
      "Found drift:[ 0  2 -4]\n",
      "Fitting color 0\n",
      "Fitting color 1\n",
      "Fitting color 2\n",
      "### define H0 and load background\n",
      "### load signal\n",
      "Signal file: Z:\\DCBB_human_011823_cs4\\H6_set2\\Conv_zscan__100.zarr\n",
      "Found drift:[ 4  2 -4]\n",
      "Fitting color 0\n",
      "Fitting color 1\n",
      "Fitting color 2\n",
      "### define H0 and load background\n",
      "### load signal\n",
      "Signal file: Z:\\DCBB_human_011823_cs4\\H7_set2\\Conv_zscan__100.zarr\n",
      "Found drift:[ 1  3 -5]\n",
      "Fitting color 0\n",
      "Fitting color 1\n",
      "Fitting color 2\n",
      "### define H0 and load background\n",
      "### load signal\n",
      "Signal file: Z:\\DCBB_human_011823_cs4\\H8_set2\\Conv_zscan__100.zarr\n",
      "Found drift:[ 2  3 -7]\n",
      "Fitting color 0\n",
      "Fitting color 1\n",
      "Fitting color 2\n",
      "### define H0 and load background\n",
      "### load signal\n",
      "Signal file: Z:\\DCBB_human_011823_cs4\\H9_set2\\Conv_zscan__100.zarr\n",
      "Found drift:[ 2  2 -9]\n",
      "Fitting color 0\n",
      "Fitting color 1\n",
      "Fitting color 2\n"
     ]
    }
   ],
   "source": [
    "ifov=100\n",
    "process_fov(ifov,iQs=None)"
   ]
  },
  {
   "cell_type": "code",
   "execution_count": 10,
   "id": "e327c096",
   "metadata": {},
   "outputs": [
    {
     "name": "stdout",
     "output_type": "stream",
     "text": [
      "Fitting color 0\n"
     ]
    },
    {
     "ename": "KeyboardInterrupt",
     "evalue": "",
     "output_type": "error",
     "traceback": [
      "\u001b[1;31m---------------------------------------------------------------------------\u001b[0m",
      "\u001b[1;31mKeyboardInterrupt\u001b[0m                         Traceback (most recent call last)",
      "Cell \u001b[1;32mIn[10], line 1\u001b[0m\n\u001b[1;32m----> 1\u001b[0m \u001b[43masm\u001b[49m\u001b[38;5;241;43m.\u001b[39;49m\u001b[43mget_Xh\u001b[49m\u001b[43m(\u001b[49m\u001b[43mth\u001b[49m\u001b[43m \u001b[49m\u001b[38;5;241;43m=\u001b[39;49m\u001b[43m \u001b[49m\u001b[38;5;241;43m10\u001b[39;49m\u001b[43m,\u001b[49m\u001b[43ms\u001b[49m\u001b[38;5;241;43m=\u001b[39;49m\u001b[38;5;241;43m30\u001b[39;49m\u001b[43m,\u001b[49m\u001b[43mdic_psf\u001b[49m\u001b[38;5;241;43m=\u001b[39;49m\u001b[38;5;28;43;01mNone\u001b[39;49;00m\u001b[43m,\u001b[49m\u001b[43msubtract_bk\u001b[49m\u001b[38;5;241;43m=\u001b[39;49m\u001b[38;5;28;43;01mTrue\u001b[39;49;00m\u001b[43m,\u001b[49m\u001b[43mtrim0\u001b[49m\u001b[38;5;241;43m=\u001b[39;49m\u001b[38;5;28;43;01mTrue\u001b[39;49;00m\u001b[43m)\u001b[49m\n",
      "File \u001b[1;32m~\\Scope2Analysis_Scripts\\MERFISH2\\Analysis_1500gns_MERFISH\\ioMicro.py:641\u001b[0m, in \u001b[0;36manalysis_smFISH.get_Xh\u001b[1;34m(self, th, s, dic_psf, subtract_bk, trim0, fr)\u001b[0m\n\u001b[0;32m    639\u001b[0m     th_ \u001b[38;5;241m=\u001b[39m std_\u001b[38;5;241m*\u001b[39mth\n\u001b[0;32m    640\u001b[0m     \u001b[38;5;28mself\u001b[39m\u001b[38;5;241m.\u001b[39mplot_ims\u001b[38;5;241m.\u001b[39mappend(np\u001b[38;5;241m.\u001b[39mmax(im_,\u001b[38;5;241m0\u001b[39m))\n\u001b[1;32m--> 641\u001b[0m     \u001b[38;5;28mself\u001b[39m\u001b[38;5;241m.\u001b[39mXhs\u001b[38;5;241m.\u001b[39mappend(\u001b[43mget_local_max\u001b[49m\u001b[43m(\u001b[49m\u001b[43mim_\u001b[49m\u001b[43m,\u001b[49m\u001b[43mth_\u001b[49m\u001b[43m,\u001b[49m\u001b[43mim_raw\u001b[49m\u001b[38;5;241;43m=\u001b[39;49m\u001b[43mim_raw\u001b[49m\u001b[43m,\u001b[49m\u001b[43mdic_psf\u001b[49m\u001b[38;5;241;43m=\u001b[39;49m\u001b[43mdic_psf\u001b[49m\u001b[43m)\u001b[49m)\n\u001b[0;32m    642\u001b[0m \u001b[38;5;28mself\u001b[39m\u001b[38;5;241m.\u001b[39mplot_ims \u001b[38;5;241m=\u001b[39m np\u001b[38;5;241m.\u001b[39marray(\u001b[38;5;28mself\u001b[39m\u001b[38;5;241m.\u001b[39mplot_ims)\n",
      "File \u001b[1;32m~\\Scope2Analysis_Scripts\\MERFISH2\\Analysis_1500gns_MERFISH\\ioMicro.py:465\u001b[0m, in \u001b[0;36mget_local_max\u001b[1;34m(im_dif, th_fit, im_raw, dic_psf, delta, delta_fit, dbscan, return_centers, mins)\u001b[0m\n\u001b[0;32m    463\u001b[0m \u001b[38;5;28;01mfor\u001b[39;00m i_ \u001b[38;5;129;01min\u001b[39;00m \u001b[38;5;28mrange\u001b[39m(\u001b[38;5;28mlen\u001b[39m(inds)):\n\u001b[0;32m    464\u001b[0m     j_\u001b[38;5;241m=\u001b[39minds[i_\u001b[38;5;241m+\u001b[39m\u001b[38;5;241m1\u001b[39m] \u001b[38;5;28;01mif\u001b[39;00m i_\u001b[38;5;241m<\u001b[39m\u001b[38;5;28mlen\u001b[39m(inds)\u001b[38;5;241m-\u001b[39m\u001b[38;5;241m1\u001b[39m \u001b[38;5;28;01melse\u001b[39;00m \u001b[38;5;28mlen\u001b[39m(Xh)\n\u001b[1;32m--> 465\u001b[0m     Xh_\u001b[38;5;241m.\u001b[39mappend(\u001b[43mnp\u001b[49m\u001b[38;5;241;43m.\u001b[39;49m\u001b[43mmean\u001b[49m\u001b[43m(\u001b[49m\u001b[43mXh\u001b[49m\u001b[43m[\u001b[49m\u001b[43minds\u001b[49m\u001b[43m[\u001b[49m\u001b[43mi_\u001b[49m\u001b[43m]\u001b[49m\u001b[43m:\u001b[49m\u001b[43mj_\u001b[49m\u001b[43m]\u001b[49m\u001b[43m,\u001b[49m\u001b[38;5;241;43m0\u001b[39;49m\u001b[43m)\u001b[49m)\n\u001b[0;32m    466\u001b[0m Xh\u001b[38;5;241m=\u001b[39mnp\u001b[38;5;241m.\u001b[39marray(Xh_)\n\u001b[0;32m    467\u001b[0m z,x,y,h \u001b[38;5;241m=\u001b[39m Xh\u001b[38;5;241m.\u001b[39mT\n",
      "File \u001b[1;32m<__array_function__ internals>:180\u001b[0m, in \u001b[0;36mmean\u001b[1;34m(*args, **kwargs)\u001b[0m\n",
      "File \u001b[1;32mC:\\Software\\anaconda3\\envs\\cellpose\\lib\\site-packages\\numpy\\core\\fromnumeric.py:3432\u001b[0m, in \u001b[0;36mmean\u001b[1;34m(a, axis, dtype, out, keepdims, where)\u001b[0m\n\u001b[0;32m   3429\u001b[0m     \u001b[38;5;28;01melse\u001b[39;00m:\n\u001b[0;32m   3430\u001b[0m         \u001b[38;5;28;01mreturn\u001b[39;00m mean(axis\u001b[38;5;241m=\u001b[39maxis, dtype\u001b[38;5;241m=\u001b[39mdtype, out\u001b[38;5;241m=\u001b[39mout, \u001b[38;5;241m*\u001b[39m\u001b[38;5;241m*\u001b[39mkwargs)\n\u001b[1;32m-> 3432\u001b[0m \u001b[38;5;28;01mreturn\u001b[39;00m \u001b[43m_methods\u001b[49m\u001b[38;5;241;43m.\u001b[39;49m\u001b[43m_mean\u001b[49m\u001b[43m(\u001b[49m\u001b[43ma\u001b[49m\u001b[43m,\u001b[49m\u001b[43m \u001b[49m\u001b[43maxis\u001b[49m\u001b[38;5;241;43m=\u001b[39;49m\u001b[43maxis\u001b[49m\u001b[43m,\u001b[49m\u001b[43m \u001b[49m\u001b[43mdtype\u001b[49m\u001b[38;5;241;43m=\u001b[39;49m\u001b[43mdtype\u001b[49m\u001b[43m,\u001b[49m\n\u001b[0;32m   3433\u001b[0m \u001b[43m                      \u001b[49m\u001b[43mout\u001b[49m\u001b[38;5;241;43m=\u001b[39;49m\u001b[43mout\u001b[49m\u001b[43m,\u001b[49m\u001b[43m \u001b[49m\u001b[38;5;241;43m*\u001b[39;49m\u001b[38;5;241;43m*\u001b[39;49m\u001b[43mkwargs\u001b[49m\u001b[43m)\u001b[49m\n",
      "File \u001b[1;32mC:\\Software\\anaconda3\\envs\\cellpose\\lib\\site-packages\\numpy\\core\\_methods.py:181\u001b[0m, in \u001b[0;36m_mean\u001b[1;34m(a, axis, dtype, out, keepdims, where)\u001b[0m\n\u001b[0;32m    178\u001b[0m         is_float16_result \u001b[38;5;241m=\u001b[39m \u001b[38;5;28;01mTrue\u001b[39;00m\n\u001b[0;32m    180\u001b[0m ret \u001b[38;5;241m=\u001b[39m umr_sum(arr, axis, dtype, out, keepdims, where\u001b[38;5;241m=\u001b[39mwhere)\n\u001b[1;32m--> 181\u001b[0m \u001b[38;5;28;01mif\u001b[39;00m \u001b[38;5;28;43misinstance\u001b[39;49m(ret, mu\u001b[38;5;241m.\u001b[39mndarray):\n\u001b[0;32m    182\u001b[0m     ret \u001b[38;5;241m=\u001b[39m um\u001b[38;5;241m.\u001b[39mtrue_divide(\n\u001b[0;32m    183\u001b[0m             ret, rcount, out\u001b[38;5;241m=\u001b[39mret, casting\u001b[38;5;241m=\u001b[39m\u001b[38;5;124m'\u001b[39m\u001b[38;5;124munsafe\u001b[39m\u001b[38;5;124m'\u001b[39m, subok\u001b[38;5;241m=\u001b[39m\u001b[38;5;28;01mFalse\u001b[39;00m)\n\u001b[0;32m    184\u001b[0m     \u001b[38;5;28;01mif\u001b[39;00m is_float16_result \u001b[38;5;129;01mand\u001b[39;00m out \u001b[38;5;129;01mis\u001b[39;00m \u001b[38;5;28;01mNone\u001b[39;00m:\n",
      "\u001b[1;31mKeyboardInterrupt\u001b[0m: "
     ]
    }
   ],
   "source": [
    "asm.get_Xh(th = 10,s=30,dic_psf=None,subtract_bk=True,trim0=True)"
   ]
  },
  {
   "cell_type": "code",
   "execution_count": 9,
   "id": "af1d61c2",
   "metadata": {},
   "outputs": [],
   "source": [
    "asm.save_fits(icols=None,plt_val=True,save_max=True)"
   ]
  },
  {
   "cell_type": "code",
   "execution_count": 3,
   "id": "96973951",
   "metadata": {},
   "outputs": [
    {
     "data": {
      "text/plain": [
       "['Z:\\\\DCBB_human_011823_cs4\\\\H1_set1',\n",
       " 'Z:\\\\DCBB_human_011823_cs4\\\\H1_set2',\n",
       " 'Z:\\\\DCBB_human_011823_cs4\\\\H2_set1',\n",
       " 'Z:\\\\DCBB_human_011823_cs4\\\\H2_set2',\n",
       " 'Z:\\\\DCBB_human_011823_cs4\\\\H3_set1',\n",
       " 'Z:\\\\DCBB_human_011823_cs4\\\\H3_set2',\n",
       " 'Z:\\\\DCBB_human_011823_cs4\\\\H4_set1',\n",
       " 'Z:\\\\DCBB_human_011823_cs4\\\\H4_set2',\n",
       " 'Z:\\\\DCBB_human_011823_cs4\\\\H5_set1',\n",
       " 'Z:\\\\DCBB_human_011823_cs4\\\\H5_set2',\n",
       " 'Z:\\\\DCBB_human_011823_cs4\\\\H6_set1',\n",
       " 'Z:\\\\DCBB_human_011823_cs4\\\\H6_set2',\n",
       " 'Z:\\\\DCBB_human_011823_cs4\\\\H7_set1',\n",
       " 'Z:\\\\DCBB_human_011823_cs4\\\\H7_set2']"
      ]
     },
     "execution_count": 3,
     "metadata": {},
     "output_type": "execute_result"
    }
   ],
   "source": [
    "asm.Qfolders"
   ]
  },
  {
   "cell_type": "code",
   "execution_count": 4,
   "id": "98930354",
   "metadata": {},
   "outputs": [
    {
     "name": "stdout",
     "output_type": "stream",
     "text": [
      "### define H0 and load background\n",
      "Background file: Z:\\DCBB_human_011823_cs4\\H0_set2\\Conv_zscan__200.zarr\n",
      "### load signal\n",
      "Signal file: Z:\\DCBB_human_011823_cs4\\H1_set2\\Conv_zscan__200.zarr\n",
      "Found drift:[-1  1 -2]\n"
     ]
    }
   ],
   "source": [
    "asm.set_fov(200,set_='set2')\n",
    "iQ=0\n",
    "asm.set_hybe(iQ)\n",
    "asm.get_background(force=False)\n",
    "asm.get_signal()\n",
    "asm.compute_drift(sz=300)\n",
    "asm.get_aligned_ims()\n",
    "asm.get_Xh(th = 3,s=30,dic_psf=None,normalized=False,subtract_bk=True,trim0=True)\n",
    "\n"
   ]
  },
  {
   "cell_type": "code",
   "execution_count": 28,
   "id": "f739c300",
   "metadata": {},
   "outputs": [],
   "source": [
    "def save_fits(self,icols=None,plt_val=True,save_max=False):\n",
    "    if plt_val:\n",
    "        if icols is None:\n",
    "            icols =  range(self.ncols-1)\n",
    "        for icol in icols:\n",
    "\n",
    "            fig = plt.figure(figsize=(40,40))\n",
    "            #im_t = self.im_ration[icol]\n",
    "            if False:\n",
    "                Xh = self.Xhs[icol]\n",
    "                H = Xh[:,-1]\n",
    "                vmax = np.median(np.sort(H)[-npts:])\n",
    "            if not hasattr(self,'dic_th'): self.dic_th={}\n",
    "            vmax = self.dic_th.get(icol,1)\n",
    "            std = np.std(self.plot_ims[icol])\n",
    "            plt.imshow(self.plot_ims[icol]/(10*std),vmin=0,vmax=vmax,cmap='gray')\n",
    "            #plt.show()\n",
    "            fig.savefig(self.base_save+'_signal-col'+str(icol)+'.png')\n",
    "            plt.close('all')\n",
    "    if save_max:\n",
    "        np.savez_compressed(self.base_save+'_plot_ims.npz',plot_ims = self.plot_ims)\n",
    "    pickle.dump([self.Xhs,self.dic_drift],open(self.Xh_fl,'wb'))"
   ]
  },
  {
   "cell_type": "code",
   "execution_count": 30,
   "id": "9d6cb2d0",
   "metadata": {},
   "outputs": [],
   "source": []
  },
  {
   "cell_type": "code",
   "execution_count": null,
   "id": "0fc694e9",
   "metadata": {},
   "outputs": [],
   "source": []
  },
  {
   "cell_type": "code",
   "execution_count": 18,
   "id": "4c7622fa",
   "metadata": {},
   "outputs": [],
   "source": [
    "np.savez_compressed(asm.base_save+'_plot_ims.npz',plot_ims = asm.plot_ims)"
   ]
  },
  {
   "cell_type": "code",
   "execution_count": 19,
   "id": "95a205a0",
   "metadata": {},
   "outputs": [],
   "source": [
    "plot_ims = np.load(asm.base_save+'_plot_ims2.npz')['plot_ims']"
   ]
  },
  {
   "cell_type": "code",
   "execution_count": 25,
   "id": "d34a8140",
   "metadata": {},
   "outputs": [],
   "source": []
  },
  {
   "cell_type": "code",
   "execution_count": 26,
   "id": "54308415",
   "metadata": {},
   "outputs": [],
   "source": [
    "save_fits(asm,icols=None,plt_val=True)"
   ]
  },
  {
   "cell_type": "code",
   "execution_count": 15,
   "id": "b81ec1a7",
   "metadata": {},
   "outputs": [
    {
     "data": {
      "text/plain": [
       "'Z:\\\\DCBB_human_011823_cs4_Analysis\\\\Conv_zscan__200--H1_set2'"
      ]
     },
     "execution_count": 15,
     "metadata": {},
     "output_type": "execute_result"
    }
   ],
   "source": [
    "asm.check_finished_file()\n"
   ]
  },
  {
   "cell_type": "code",
   "execution_count": 13,
   "id": "bde41e04",
   "metadata": {},
   "outputs": [],
   "source": [
    "?np.savez_compressed"
   ]
  },
  {
   "cell_type": "code",
   "execution_count": 8,
   "id": "4eb3f63a",
   "metadata": {},
   "outputs": [
    {
     "data": {
      "text/plain": [
       "Viewer(axes=Axes(visible=False, labels=True, colored=True, dashed=False, arrows=True), camera=Camera(center=(0.0, 1499.0, 1498.5), zoom=0.40546848949649883, angles=(0.0, 0.0, 90.0), perspective=0.0, interactive=True), cursor=Cursor(position=(1.0, 1.0), scaled=True, size=1, style=<CursorStyle.STANDARD: 'standard'>), dims=Dims(ndim=2, ndisplay=2, last_used=0, range=((0.0, 2999.0, 1.0), (0.0, 2998.0, 1.0)), current_step=(1499, 1499), order=(0, 1), axis_labels=('0', '1')), grid=GridCanvas(stride=1, shape=(-1, -1), enabled=False), layers=[<Image layer 'Image' at 0x1c01ac08f10>], scale_bar=ScaleBar(visible=False, colored=False, color=array([1., 0., 1., 1.], dtype=float32), ticks=True, position=<Position.BOTTOM_RIGHT: 'bottom_right'>, font_size=10.0, box=False, box_color=array([0. , 0. , 0. , 0.6], dtype=float32), unit=None), text_overlay=TextOverlay(visible=False, color=array([0.5, 0.5, 0.5, 1. ], dtype=float32), font_size=10.0, position=<TextOverlayPosition.TOP_LEFT: 'top_left'>, text=''), overlays=Overlays(interaction_box=InteractionBox(points=None, show=False, show_handle=False, show_vertices=False, selection_box_drag=None, selection_box_final=None, transform_start=<napari.utils.transforms.transforms.Affine object at 0x000001C0219D5850>, transform_drag=<napari.utils.transforms.transforms.Affine object at 0x000001C0219D58B0>, transform_final=<napari.utils.transforms.transforms.Affine object at 0x000001C0219D5910>, transform=<napari.utils.transforms.transforms.Affine object at 0x000001C0219D5970>, allow_new_selection=True, selected_vertex=None)), help='', status='Ready', tooltip=Tooltip(visible=False, text=''), theme='dark', title='napari', mouse_over_canvas=False, mouse_move_callbacks=[<function InteractionBoxMouseBindings.initialize_mouse_events.<locals>.mouse_move at 0x000001C01ABD7E50>], mouse_drag_callbacks=[<function InteractionBoxMouseBindings.initialize_mouse_events.<locals>.mouse_drag at 0x000001C01ABB10D0>], mouse_double_click_callbacks=[], mouse_wheel_callbacks=[<function dims_scroll at 0x000001C018E16280>], _persisted_mouse_event={}, _mouse_drag_gen={}, _mouse_wheel_gen={}, keymap={'Shift': <function InteractionBoxMouseBindings.initialize_key_events.<locals>.hold_to_lock_aspect_ratio at 0x000001C01AB9EDC0>, 'Control-Shift-R': <function InteractionBoxMouseBindings._reset_active_layer_affine at 0x000001C01AB9E3A0>, 'Control-Shift-A': <function InteractionBoxMouseBindings._transform_active_layer at 0x000001C01AB9E700>})"
      ]
     },
     "execution_count": 8,
     "metadata": {},
     "output_type": "execute_result"
    }
   ],
   "source": [
    "import napari\n",
    "napari.view_image(asm.plot_ims[2],contrast_limits=[0,3000])"
   ]
  },
  {
   "cell_type": "code",
   "execution_count": null,
   "id": "088333c8",
   "metadata": {},
   "outputs": [],
   "source": []
  },
  {
   "cell_type": "code",
   "execution_count": 58,
   "id": "43b056f8",
   "metadata": {},
   "outputs": [
    {
     "data": {
      "text/plain": [
       "Viewer(axes=Axes(visible=False, labels=True, colored=True, dashed=False, arrows=True), camera=Camera(center=(0.0, 1498.5, 1498.0), zoom=0.1688959306204136, angles=(0.0, 0.0, 90.0), perspective=0.0, interactive=True), cursor=Cursor(position=(1.0, 14.0, 0.0, 0.0), scaled=True, size=1, style=<CursorStyle.STANDARD: 'standard'>), dims=Dims(ndim=4, ndisplay=2, last_used=0, range=((0.0, 3.0, 1.0), (0.0, 29.0, 1.0), (0.0, 2998.0, 1.0), (0.0, 2997.0, 1.0)), current_step=(1, 14, 1499, 1498), order=(0, 1, 2, 3), axis_labels=('0', '1', '2', '3')), grid=GridCanvas(stride=1, shape=(-1, -1), enabled=False), layers=[<Image layer 'ims' at 0x2a89d2c62e0>], scale_bar=ScaleBar(visible=False, colored=False, color=array([1., 0., 1., 1.], dtype=float32), ticks=True, position=<Position.BOTTOM_RIGHT: 'bottom_right'>, font_size=10.0, box=False, box_color=array([0. , 0. , 0. , 0.6], dtype=float32), unit=None), text_overlay=TextOverlay(visible=False, color=array([0.5, 0.5, 0.5, 1. ], dtype=float32), font_size=10.0, position=<TextOverlayPosition.TOP_LEFT: 'top_left'>, text=''), overlays=Overlays(interaction_box=InteractionBox(points=None, show=False, show_handle=False, show_vertices=False, selection_box_drag=None, selection_box_final=None, transform_start=<napari.utils.transforms.transforms.Affine object at 0x000002A89AD6F5E0>, transform_drag=<napari.utils.transforms.transforms.Affine object at 0x000002A89AD77580>, transform_final=<napari.utils.transforms.transforms.Affine object at 0x000002A89AD777F0>, transform=<napari.utils.transforms.transforms.Affine object at 0x000002A89AD77850>, allow_new_selection=True, selected_vertex=None)), help='', status='Ready', tooltip=Tooltip(visible=False, text=''), theme='dark', title='napari', mouse_over_canvas=False, mouse_move_callbacks=[<function InteractionBoxMouseBindings.initialize_mouse_events.<locals>.mouse_move at 0x000002A89D290430>], mouse_drag_callbacks=[<function InteractionBoxMouseBindings.initialize_mouse_events.<locals>.mouse_drag at 0x000002A89D27B8B0>], mouse_double_click_callbacks=[], mouse_wheel_callbacks=[<function dims_scroll at 0x000002A808942310>], _persisted_mouse_event={}, _mouse_drag_gen={}, _mouse_wheel_gen={}, keymap={'Shift': <function InteractionBoxMouseBindings.initialize_key_events.<locals>.hold_to_lock_aspect_ratio at 0x000002A89D27B940>, 'Control-Shift-R': <function InteractionBoxMouseBindings._reset_active_layer_affine at 0x000002A89D27B700>, 'Control-Shift-A': <function InteractionBoxMouseBindings._transform_active_layer at 0x000002A89D27B4C0>})"
      ]
     },
     "execution_count": 58,
     "metadata": {},
     "output_type": "execute_result"
    }
   ],
   "source": [
    "ims=[]\n",
    "for icol in range(3):\n",
    "    \n",
    "    ims.append(())\n",
    "ims = np.array(ims)\n",
    "import napari\n",
    "napari.view_image(ims,contrast_limits=[0,3000])"
   ]
  },
  {
   "cell_type": "code",
   "execution_count": 65,
   "id": "ca32f3a6",
   "metadata": {},
   "outputs": [
    {
     "data": {
      "text/plain": [
       "<Image layer 'ims' at 0x2a8a0032a00>"
      ]
     },
     "execution_count": 65,
     "metadata": {},
     "output_type": "execute_result"
    }
   ],
   "source": [
    "ims_ = ims.copy()\n",
    "ims_[ims_<0]=0\n",
    "viewer = napari.view_image(np.array([norm_slice(im,s=20) for im in ims_]),contrast_limits=[0,3000])\n",
    "viewer.add_image(ims,contrast_limits=[0,3000])"
   ]
  },
  {
   "cell_type": "code",
   "execution_count": null,
   "id": "b99341a1",
   "metadata": {},
   "outputs": [],
   "source": []
  },
  {
   "cell_type": "code",
   "execution_count": 9,
   "id": "19003d11",
   "metadata": {},
   "outputs": [
    {
     "name": "stdout",
     "output_type": "stream",
     "text": [
      "Found drift:[ 1  1 -3]\n"
     ]
    }
   ],
   "source": [
    "asm.compute_drift(sz=300)"
   ]
  },
  {
   "cell_type": "code",
   "execution_count": 10,
   "id": "76f8aadd",
   "metadata": {},
   "outputs": [],
   "source": [
    "imf = asm.im_bk__"
   ]
  },
  {
   "cell_type": "code",
   "execution_count": 29,
   "id": "a9cfb87f",
   "metadata": {},
   "outputs": [
    {
     "data": {
      "text/plain": [
       "Viewer(axes=Axes(visible=False, labels=True, colored=True, dashed=False, arrows=True), camera=Camera(center=(0.0, 1499.0, 1498.0), zoom=0.17580860286762254, angles=(0.0, 0.0, 90.0), perspective=0.0, interactive=True), cursor=Cursor(position=(14.0, 1.0, 0.0), scaled=True, size=1, style=<CursorStyle.STANDARD: 'standard'>), dims=Dims(ndim=3, ndisplay=2, last_used=0, range=((0.0, 29.0, 1.0), (0.0, 2999.0, 1.0), (0.0, 2997.0, 1.0)), current_step=(14, 1499, 1498), order=(0, 1, 2), axis_labels=('0', '1', '2')), grid=GridCanvas(stride=1, shape=(-1, -1), enabled=False), layers=[<Image layer 'Image' at 0x2a87fa54940>], scale_bar=ScaleBar(visible=False, colored=False, color=array([1., 0., 1., 1.], dtype=float32), ticks=True, position=<Position.BOTTOM_RIGHT: 'bottom_right'>, font_size=10.0, box=False, box_color=array([0. , 0. , 0. , 0.6], dtype=float32), unit=None), text_overlay=TextOverlay(visible=False, color=array([0.5, 0.5, 0.5, 1. ], dtype=float32), font_size=10.0, position=<TextOverlayPosition.TOP_LEFT: 'top_left'>, text=''), overlays=Overlays(interaction_box=InteractionBox(points=None, show=False, show_handle=False, show_vertices=False, selection_box_drag=None, selection_box_final=None, transform_start=<napari.utils.transforms.transforms.Affine object at 0x000002A87D1C5940>, transform_drag=<napari.utils.transforms.transforms.Affine object at 0x000002A87D1C59A0>, transform_final=<napari.utils.transforms.transforms.Affine object at 0x000002A87D1C5A00>, transform=<napari.utils.transforms.transforms.Affine object at 0x000002A87D1C5A60>, allow_new_selection=True, selected_vertex=None)), help='', status='Ready', tooltip=Tooltip(visible=False, text=''), theme='dark', title='napari', mouse_over_canvas=False, mouse_move_callbacks=[<function InteractionBoxMouseBindings.initialize_mouse_events.<locals>.mouse_move at 0x000002A87FA1ED30>], mouse_drag_callbacks=[<function InteractionBoxMouseBindings.initialize_mouse_events.<locals>.mouse_drag at 0x000002A87FA1E790>], mouse_double_click_callbacks=[], mouse_wheel_callbacks=[<function dims_scroll at 0x000002A808942310>], _persisted_mouse_event={}, _mouse_drag_gen={}, _mouse_wheel_gen={}, keymap={'Shift': <function InteractionBoxMouseBindings.initialize_key_events.<locals>.hold_to_lock_aspect_ratio at 0x000002A87F9E4160>, 'Control-Shift-R': <function InteractionBoxMouseBindings._reset_active_layer_affine at 0x000002A87FA1E5E0>, 'Control-Shift-A': <function InteractionBoxMouseBindings._transform_active_layer at 0x000002A87F9E4280>})"
      ]
     },
     "execution_count": 29,
     "metadata": {},
     "output_type": "execute_result"
    }
   ],
   "source": []
  },
  {
   "cell_type": "code",
   "execution_count": 27,
   "id": "4fad5964",
   "metadata": {},
   "outputs": [
    {
     "data": {
      "text/plain": [
       "Viewer(axes=Axes(visible=False, labels=True, colored=True, dashed=False, arrows=True), camera=Camera(center=(0.0, 1499.0, 1498.0), zoom=0.17580860286762254, angles=(0.0, 0.0, 90.0), perspective=0.0, interactive=True), cursor=Cursor(position=(14.0, 1.0, 0.0), scaled=True, size=1, style=<CursorStyle.STANDARD: 'standard'>), dims=Dims(ndim=3, ndisplay=2, last_used=0, range=((0.0, 29.0, 1.0), (0.0, 2999.0, 1.0), (0.0, 2997.0, 1.0)), current_step=(14, 1499, 1498), order=(0, 1, 2), axis_labels=('0', '1', '2')), grid=GridCanvas(stride=1, shape=(-1, -1), enabled=False), layers=[<Image layer 'Image' at 0x2a87c3737f0>], scale_bar=ScaleBar(visible=False, colored=False, color=array([1., 0., 1., 1.], dtype=float32), ticks=True, position=<Position.BOTTOM_RIGHT: 'bottom_right'>, font_size=10.0, box=False, box_color=array([0. , 0. , 0. , 0.6], dtype=float32), unit=None), text_overlay=TextOverlay(visible=False, color=array([0.5, 0.5, 0.5, 1. ], dtype=float32), font_size=10.0, position=<TextOverlayPosition.TOP_LEFT: 'top_left'>, text=''), overlays=Overlays(interaction_box=InteractionBox(points=None, show=False, show_handle=False, show_vertices=False, selection_box_drag=None, selection_box_final=None, transform_start=<napari.utils.transforms.transforms.Affine object at 0x000002A87E210970>, transform_drag=<napari.utils.transforms.transforms.Affine object at 0x000002A87E2109D0>, transform_final=<napari.utils.transforms.transforms.Affine object at 0x000002A87E210A30>, transform=<napari.utils.transforms.transforms.Affine object at 0x000002A87E210A90>, allow_new_selection=True, selected_vertex=None)), help='', status='Ready', tooltip=Tooltip(visible=False, text=''), theme='dark', title='napari', mouse_over_canvas=False, mouse_move_callbacks=[<function InteractionBoxMouseBindings.initialize_mouse_events.<locals>.mouse_move at 0x000002A87C3C1C10>], mouse_drag_callbacks=[<function InteractionBoxMouseBindings.initialize_mouse_events.<locals>.mouse_drag at 0x000002A87C3C1790>], mouse_double_click_callbacks=[], mouse_wheel_callbacks=[<function dims_scroll at 0x000002A808942310>], _persisted_mouse_event={}, _mouse_drag_gen={}, _mouse_wheel_gen={}, keymap={'Shift': <function InteractionBoxMouseBindings.initialize_key_events.<locals>.hold_to_lock_aspect_ratio at 0x000002A87C3C1550>, 'Control-Shift-R': <function InteractionBoxMouseBindings._reset_active_layer_affine at 0x000002A87C3C1670>, 'Control-Shift-A': <function InteractionBoxMouseBindings._transform_active_layer at 0x000002A87C3C14C0>})"
      ]
     },
     "execution_count": 27,
     "metadata": {},
     "output_type": "execute_result"
    }
   ],
   "source": []
  },
  {
   "cell_type": "code",
   "execution_count": 9,
   "id": "6d4cb834",
   "metadata": {},
   "outputs": [],
   "source": [
    "??asm.set_fov"
   ]
  },
  {
   "cell_type": "code",
   "execution_count": 21,
   "id": "4b53b9ea",
   "metadata": {},
   "outputs": [],
   "source": [
    "# psfs = np.sort(glob.glob(r'C:\\Users\\BintuLab\\Dropbox\\MNBB_chrX\\MERFISH_from_JellyFISH\\Analyze_Big_Slides\\psf_Bogdan*.npy'))\n",
    "# def get_coords(fl): return tuple(eval(fl.split('_')[-1].split('.')[0]))\n",
    "# dic_psf = {get_coords(psf_fl):np.load(psf_fl) for psf_fl in psfs}\n",
    "# fl_save = r'\\\\Bbfishdc9\\bbfishdc9\\DCBBL1_spinal_01_25_2023\\psf_Scope2_25_1p5x_cy3_final.pkl'\n",
    "# pickle.dump(dic_psf,open(fl_save,'wb'))"
   ]
  },
  {
   "cell_type": "code",
   "execution_count": 8,
   "id": "8c1e42e2",
   "metadata": {},
   "outputs": [],
   "source": []
  },
  {
   "cell_type": "code",
   "execution_count": 27,
   "id": "20a7778b",
   "metadata": {},
   "outputs": [
    {
     "name": "stdout",
     "output_type": "stream",
     "text": [
      "Found files:459\n",
      "Found hybe folders:1\n",
      "[]\n",
      "459 1\n"
     ]
    }
   ],
   "source": [
    "\n",
    "\n",
    "asm = analysis_smFISH(data_folders = [r'\\\\Bbfishdc9\\bbfishdc9\\DCBBL1_spinal_01_25_2023'],\n",
    "                 save_folder =r'\\\\Bbfishdc9\\bbfishdc9\\DCBBL1_spinal_01_25_2023_Analysis',\n",
    "                 H0folder=  r'\\\\Bbfishdc9\\bbfishdc9\\DCBBL1_spinal_01_25_2023\\H1_Ig*',exclude_H0=False)\n",
    "fl_save = r'\\\\Bbfishdc9\\bbfishdc9\\DCBBL1_spinal_01_25_2023\\psf_Scope2_25_1p5x_cy3_final.pkl'\n",
    "dic_psf = pickle.load(open(fl_save,'rb'))\n",
    "sets = np.unique(['_set'+os.path.basename(fld).split('_set')[-1] for fld in asm.Qfolders if '_set' in os.path.basename(fld)])\n",
    "print(list(sets))\n",
    "\n",
    "def process_fov(ifov):\n",
    "    asm.set_fov(ifov)\n",
    "    final_segmentation(asm.fl_bk,\n",
    "                        analysis_folder=asm.save_folder,\n",
    "                        plt_val=True,\n",
    "                        rescz = 3,trimz=2, resc=4,p99=850)\n",
    "    if False:\n",
    "        for iQ in range(nQs):\n",
    "\n",
    "            asm.set_hybe(iQ)\n",
    "\n",
    "            completed = asm.check_finished_file()\n",
    "            if not completed:\n",
    "                asm.get_background(force=False)\n",
    "                asm.get_signal()\n",
    "                asm.compute_drift(sz=300)\n",
    "                #asm.get_aligned_ims()\n",
    "                #imf = asm.im_sig__/asm.im_bk__\n",
    "                resc=5\n",
    "                #asm.im_ration = np.array([norm_slice(im_,s=30)/np.median(np.abs(im_[::resc,::resc,::resc])) for im_ in asm.im_sig_])\n",
    "                #asm.im_ration = np.array([norm_slice(im_,s=30)/np.median(np.abs(im_[::resc,::resc,::resc])) for im_ in asm.im_sig_])\n",
    "\n",
    "                asm.dic_th = {0:1,1:1,2:1}\n",
    "                asm.get_Xh(th = 3,dic_psf=dic_psf)\n",
    "                asm.save_fits(plt_val=False)\n",
    "                asm.save_fits(icols=None,plt_val=True,save_max=True)\n",
    "            \n",
    "            \n",
    "from tqdm import tqdm\n",
    "asm.set_set('')\n",
    "nfovs = len(asm.fls_bk_)\n",
    "nQs = len([fld for fld in asm.Qfolders if asm.set_ in fld])\n",
    "print(nfovs,nQs)\n",
    "\n"
   ]
  },
  {
   "cell_type": "code",
   "execution_count": null,
   "id": "b447a0f7",
   "metadata": {},
   "outputs": [],
   "source": [
    "for ifov in tqdm(np.arange(nfovs)):\n",
    "    process_fov(ifov)"
   ]
  },
  {
   "cell_type": "code",
   "execution_count": 3,
   "id": "9a727495",
   "metadata": {},
   "outputs": [
    {
     "data": {
      "text/plain": [
       "1219"
      ]
     },
     "execution_count": 3,
     "metadata": {},
     "output_type": "execute_result"
    }
   ],
   "source": [
    "ifov"
   ]
  },
  {
   "cell_type": "code",
   "execution_count": 3,
   "id": "002346e2",
   "metadata": {},
   "outputs": [
    {
     "data": {
      "text/plain": [
       "Viewer(axes=Axes(visible=False, labels=True, colored=True, dashed=False, arrows=True), camera=Camera(center=(0.0, 1399.5, 1399.5), zoom=0.159125, angles=(0.0, 0.0, 90.0), perspective=0.0, interactive=True), cursor=Cursor(position=(1.0, 1.0, 0.0, 0.0), scaled=True, size=1, style=<CursorStyle.STANDARD: 'standard'>), dims=Dims(ndim=4, ndisplay=2, last_used=0, range=((0.0, 4.0, 1.0), (0.0, 37.0, 1.0), (0.0, 2800.0, 1.0), (0.0, 2800.0, 1.0)), current_step=(2, 18, 1400, 1400), order=(0, 1, 2, 3), axis_labels=('0', '1', '2', '3')), grid=GridCanvas(stride=1, shape=(-1, -1), enabled=False), layers=[<Image layer 'im' at 0x1c9d948a130>], scale_bar=ScaleBar(visible=False, colored=False, ticks=True, position=<Position.BOTTOM_RIGHT: 'bottom_right'>, font_size=10, unit=None), text_overlay=TextOverlay(visible=False, color=(0.5, 0.5, 0.5, 1.0), font_size=10, position=<TextOverlayPosition.TOP_LEFT: 'top_left'>, text=''), overlays=Overlays(interaction_box=InteractionBox(points=None, show=False, show_handle=False, show_vertices=False, selection_box_drag=None, selection_box_final=None, transform_start=<napari.utils.transforms.transforms.Affine object at 0x000001C9AB0FE9D0>, transform_drag=<napari.utils.transforms.transforms.Affine object at 0x000001C9AB0FEA30>, transform_final=<napari.utils.transforms.transforms.Affine object at 0x000001C9AB0FEA90>, transform=<napari.utils.transforms.transforms.Affine object at 0x000001C9AB0FEAF0>, allow_new_selection=True, selected_vertex=None)), help='', status='Ready', tooltip=Tooltip(visible=False, text=''), theme='dark', title='napari', mouse_move_callbacks=[<function InteractionBoxMouseBindings.initialize_mouse_events.<locals>.mouse_move at 0x000001C9BC1911F0>], mouse_drag_callbacks=[<function InteractionBoxMouseBindings.initialize_mouse_events.<locals>.mouse_drag at 0x000001C9BC1815E0>], mouse_double_click_callbacks=[], mouse_wheel_callbacks=[<function dims_scroll at 0x000001C9AB077310>], _persisted_mouse_event={}, _mouse_drag_gen={}, _mouse_wheel_gen={}, keymap={'Shift': <function InteractionBoxMouseBindings.initialize_key_events.<locals>.hold_to_lock_aspect_ratio at 0x000001C9BC181AF0>, 'Control-Shift-R': <function InteractionBoxMouseBindings._reset_active_layer_affine at 0x000001C9BA317700>, 'Control-Shift-A': <function InteractionBoxMouseBindings._transform_active_layer at 0x000001C9BA317280>})"
      ]
     },
     "execution_count": 3,
     "metadata": {},
     "output_type": "execute_result"
    },
    {
     "name": "stdout",
     "output_type": "stream",
     "text": [
      "Cannot find steve\n"
     ]
    }
   ],
   "source": [
    "import napari\n",
    "im = read_im(asm.fl_bk)\n",
    "napari.view_image(im)"
   ]
  },
  {
   "cell_type": "code",
   "execution_count": null,
   "id": "c64ebeaf",
   "metadata": {},
   "outputs": [],
   "source": [
    "\n",
    "\n"
   ]
  }
 ],
 "metadata": {
  "kernelspec": {
   "display_name": "Python 3 (ipykernel)",
   "language": "python",
   "name": "python3"
  },
  "language_info": {
   "codemirror_mode": {
    "name": "ipython",
    "version": 3
   },
   "file_extension": ".py",
   "mimetype": "text/x-python",
   "name": "python",
   "nbconvert_exporter": "python",
   "pygments_lexer": "ipython3",
   "version": "3.8.15"
  },
  "toc": {
   "base_numbering": 1,
   "nav_menu": {},
   "number_sections": true,
   "sideBar": true,
   "skip_h1_title": false,
   "title_cell": "Table of Contents",
   "title_sidebar": "Contents",
   "toc_cell": false,
   "toc_position": {},
   "toc_section_display": true,
   "toc_window_display": false
  }
 },
 "nbformat": 4,
 "nbformat_minor": 5
}
