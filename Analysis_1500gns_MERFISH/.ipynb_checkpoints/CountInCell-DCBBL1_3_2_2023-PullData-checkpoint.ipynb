{
 "cells": [
  {
   "cell_type": "code",
   "execution_count": 2,
   "id": "013cbf57",
   "metadata": {},
   "outputs": [],
   "source": [
    "from ioMicro import *"
   ]
  },
  {
   "cell_type": "code",
   "execution_count": 3,
   "id": "04525bb5",
   "metadata": {},
   "outputs": [],
   "source": [
    "save_folder =r'\\\\192.168.0.10\\bbfishdc13\\DCBBL1_3_2_2023\\MERFISH_Analysis'\n",
    "save_fls = glob.glob(save_folder+os.sep+'finaldecs_*--*.npz')"
   ]
  },
  {
   "cell_type": "code",
   "execution_count": 140,
   "id": "039b89ef",
   "metadata": {},
   "outputs": [
    {
     "name": "stderr",
     "output_type": "stream",
     "text": [
      "100%|████████████████████████████████████████████████████████████████████████████████| 673/673 [05:28<00:00,  2.05it/s]\n"
     ]
    }
   ],
   "source": [
    "save_fls_ = [fl for fl in save_fls if ('_set1' in fl) or ('_set2' in fl)]# in fl if '035' in fl][0]\n",
    "cell_df,df=None,None\n",
    "for save_fl in tqdm(np.sort(save_fls_)[:]):\n",
    "    ### load info\n",
    "    dic = np.load(save_fl)\n",
    "    XF = dic['XF']\n",
    "    header = list(dic['header'])\n",
    "    genes_decoded = dic['genes']\n",
    "    cells = dic['cellinfo'][1:]\n",
    "    header_cells = dic['header_cells']\n",
    "    ### Rethrehold based on score\n",
    "    iscore = list(header).index('score')\n",
    "    scoreA = XF[:,iscore]\n",
    "    keep = scoreA>-1\n",
    "    ugns,gns_i = np.unique(genes_decoded[keep],return_inverse=True)\n",
    "\n",
    "    icell = header.index('cell_id')\n",
    "    icells = XF[keep,icell].astype(int)\n",
    "    \n",
    "    icellsf = cells[:,0].astype(int)\n",
    "    \n",
    "    mcell = np.max(icellsf)+1\n",
    "    gn_cell,gn_cell_cts = np.unique(mcell*gns_i+icells,return_counts=True)\n",
    "    len(gn_cell)\n",
    "    igns_ = gn_cell//mcell\n",
    "    icells_ = gn_cell%mcell\n",
    "    Mcts = np.zeros([mcell,len(ugns)])\n",
    "    Mcts[icells_,igns_]=gn_cell_cts\n",
    "\n",
    "    Mcts[icellsf].shape\n",
    "    ifov,iset = int(XF[0,header.index('ifov')]),int(XF[0,header.index('iset')])\n",
    "    icellsnm = [icell+10**5*ifov+10**9*iset for icell in icellsf]\n",
    "\n",
    "    dfT = pd.DataFrame(Mcts[icellsf],columns=ugns,index=icellsnm)\n",
    "\n",
    "\n",
    "    df = dfT if df is None else pd.concat([df,dfT])\n",
    "    cell_dfT = pd.DataFrame(cells,columns=header_cells,index=icellsnm)\n",
    "    cell_df = cell_dfT if cell_df is None else pd.concat([cell_df,cell_dfT])"
   ]
  },
  {
   "cell_type": "code",
   "execution_count": 171,
   "id": "9133719a",
   "metadata": {},
   "outputs": [
    {
     "data": {
      "text/plain": [
       "['Abhd2',\n",
       " 'Acer3',\n",
       " 'Acta2',\n",
       " 'Actb',\n",
       " 'Actg1',\n",
       " 'Adarb2',\n",
       " 'Adcy1',\n",
       " 'Adcy2',\n",
       " 'Adgrl3',\n",
       " 'Agt',\n",
       " 'Ahcyl2',\n",
       " 'Aif1l',\n",
       " 'Aldh1a1',\n",
       " 'Aldh1l1_smFISH',\n",
       " 'Aldoc',\n",
       " 'Aqp4',\n",
       " 'Arx',\n",
       " 'Ascl1',\n",
       " 'Atp1a2',\n",
       " 'Atp1b1',\n",
       " 'Auts2',\n",
       " 'Bcl2',\n",
       " 'Bdnf',\n",
       " 'Bhlhe22',\n",
       " 'Bmp2',\n",
       " 'Bmp4',\n",
       " 'Brinp3',\n",
       " 'Bsg',\n",
       " 'Bsn',\n",
       " 'Btg2',\n",
       " 'C1qa',\n",
       " 'C1ql1',\n",
       " 'C1ql3',\n",
       " 'Calb1',\n",
       " 'Calb2',\n",
       " 'Casp3',\n",
       " 'Casp9',\n",
       " 'Cck',\n",
       " 'Cd14',\n",
       " 'Cd74',\n",
       " 'Cdh12',\n",
       " 'Cdh13',\n",
       " 'Cdh18',\n",
       " 'Cdk1',\n",
       " 'Cdk4',\n",
       " 'Chrdl1',\n",
       " 'Clasp1',\n",
       " 'Cldn5',\n",
       " 'Cnr1',\n",
       " 'Cntnap5b',\n",
       " 'Cox6a1',\n",
       " 'Csmd1',\n",
       " 'Cspg4',\n",
       " 'Cspg5',\n",
       " 'Cst3',\n",
       " 'Dcc',\n",
       " 'Dcx',\n",
       " 'Dgat2',\n",
       " 'Dgkb',\n",
       " 'Dgkh',\n",
       " 'Dlx1',\n",
       " 'Dlx2',\n",
       " 'Dpysl3',\n",
       " 'Dsp',\n",
       " 'Efna5',\n",
       " 'Egfem1',\n",
       " 'Eif4a2',\n",
       " 'Elavl2',\n",
       " 'Elavl3',\n",
       " 'Elavl4',\n",
       " 'Emx1',\n",
       " 'Emx2',\n",
       " 'Eomes',\n",
       " 'Erbb4',\n",
       " 'Etv4',\n",
       " 'F3',\n",
       " 'Fam107a',\n",
       " 'Fam210b',\n",
       " 'Fam214a',\n",
       " 'Fbll1',\n",
       " 'Flt1',\n",
       " 'Fos',\n",
       " 'Foxa1',\n",
       " 'Foxa2',\n",
       " 'Foxg1',\n",
       " 'Frmd4a',\n",
       " 'Frzb',\n",
       " 'Fxyd6',\n",
       " 'Fxyd7',\n",
       " 'Fyn',\n",
       " 'Gabbr1',\n",
       " 'Gabra1',\n",
       " 'Gabra2',\n",
       " 'Gad1',\n",
       " 'Gal',\n",
       " 'Gda',\n",
       " 'Gfap',\n",
       " 'Gja1',\n",
       " 'Gli1',\n",
       " 'Gm10076',\n",
       " 'Gnb1',\n",
       " 'Gpc4',\n",
       " 'Gpm6a',\n",
       " 'Gpr17',\n",
       " 'Grb14',\n",
       " 'Grin2c',\n",
       " 'Grp',\n",
       " 'H2afz',\n",
       " 'Hapln2',\n",
       " 'Hdac8',\n",
       " 'Hes5',\n",
       " 'Hmgn3',\n",
       " 'Hopx',\n",
       " 'Hs6st3',\n",
       " 'Htra1',\n",
       " 'Htt',\n",
       " 'Id3',\n",
       " 'Igfbp_smFISH',\n",
       " 'Igfbpl1',\n",
       " 'Inpp4b',\n",
       " 'Insm1',\n",
       " 'Junb',\n",
       " 'Kcnd2',\n",
       " 'Kcng4',\n",
       " 'Kif4',\n",
       " 'Laptm5',\n",
       " 'Lhx3',\n",
       " 'Lhx6',\n",
       " 'Llgl1',\n",
       " 'Lockd',\n",
       " 'Lpar1',\n",
       " 'Lrp1b',\n",
       " 'Lrrtm4',\n",
       " 'Mal',\n",
       " 'Map3k15',\n",
       " 'Mapk4',\n",
       " 'Marcks',\n",
       " 'Mast4',\n",
       " 'Mbp',\n",
       " 'Mcm2',\n",
       " 'Mcu',\n",
       " 'Mertk',\n",
       " 'Mfge8',\n",
       " 'Mgat4c',\n",
       " 'Mgl2',\n",
       " 'Mki67',\n",
       " 'Mrc1',\n",
       " 'Mt2',\n",
       " 'Mtrf1',\n",
       " 'Mxd3',\n",
       " 'Myc',\n",
       " 'Myf5',\n",
       " 'Myod1',\n",
       " 'Nckap5',\n",
       " 'Ndst4',\n",
       " 'Necab3',\n",
       " 'Nell1',\n",
       " 'Nes',\n",
       " 'Neurod1',\n",
       " 'Neurod2',\n",
       " 'Neurod4',\n",
       " 'Neurod6',\n",
       " 'Neurog1',\n",
       " 'Neurog2',\n",
       " 'Nfia',\n",
       " 'Ngef',\n",
       " 'Nkain2',\n",
       " 'Nkain4',\n",
       " 'Nmb',\n",
       " 'Nnat',\n",
       " 'Nog',\n",
       " 'Notch3',\n",
       " 'Npas3',\n",
       " 'Npy2r',\n",
       " 'Nr3c2',\n",
       " 'Nrg3',\n",
       " 'Nrgn',\n",
       " 'Ntf3',\n",
       " 'Ntng1',\n",
       " 'Ntrk2',\n",
       " 'Nxph1',\n",
       " 'Ogt',\n",
       " 'Olig1',\n",
       " 'Olig2',\n",
       " 'Olr1',\n",
       " 'Opalin',\n",
       " 'Opcml',\n",
       " 'Padi2',\n",
       " 'Pam',\n",
       " 'Pax6',\n",
       " 'Pde10a',\n",
       " 'Pde1a',\n",
       " 'Pdgfra',\n",
       " 'Pex5l',\n",
       " 'Plekha1',\n",
       " 'Plxna1',\n",
       " 'Pnoc',\n",
       " 'Pou3f2',\n",
       " 'Prkg1',\n",
       " 'Prom1',\n",
       " 'Prox1',\n",
       " 'Psap',\n",
       " 'Ptbp1',\n",
       " 'Ptbp1_smFISH',\n",
       " 'Ptbp2',\n",
       " 'Ptgds',\n",
       " 'Pvalb',\n",
       " 'Rasl10a',\n",
       " 'Rbfox3',\n",
       " 'Rbms3',\n",
       " 'Reln',\n",
       " 'Rest',\n",
       " 'Rhcg',\n",
       " 'Riiad1',\n",
       " 'Robo1',\n",
       " 'Rpl38',\n",
       " 'Rtn4',\n",
       " 'S100b',\n",
       " 'S1pr3',\n",
       " 'Sall3',\n",
       " 'Scd2',\n",
       " 'Sdk1',\n",
       " 'Sema3a',\n",
       " 'Serpinf1',\n",
       " 'Serping1',\n",
       " 'Sgcd',\n",
       " 'Sgcz',\n",
       " 'Sgk1',\n",
       " 'Sin3a',\n",
       " 'Slc17a6',\n",
       " 'Slc1a2',\n",
       " 'Slc1a3',\n",
       " 'Slc2a1',\n",
       " 'Slc5a7',\n",
       " 'Slco1c1',\n",
       " 'Slit2',\n",
       " 'Smarca4',\n",
       " 'Sorcs1',\n",
       " 'Sox10',\n",
       " 'Sox11',\n",
       " 'Sox2',\n",
       " 'Sox4',\n",
       " 'Sox9',\n",
       " 'Spag5',\n",
       " 'Spink8',\n",
       " 'Sst',\n",
       " 'Steap4',\n",
       " 'Stox2',\n",
       " 'Synpr',\n",
       " 'Tac2',\n",
       " 'Tardbp',\n",
       " 'Tbr1',\n",
       " 'Tenm2',\n",
       " 'Tfap2c',\n",
       " 'Tgfb1',\n",
       " 'Thrsp',\n",
       " 'Thy1',\n",
       " 'Tmem108',\n",
       " 'Tmsb10',\n",
       " 'Top2a',\n",
       " 'Tpt1',\n",
       " 'Trim2',\n",
       " 'Trps1',\n",
       " 'Tshz2',\n",
       " 'Unc13a',\n",
       " 'Unc13b',\n",
       " 'Unc13c',\n",
       " 'Unc5c',\n",
       " 'Vim',\n",
       " 'Vip',\n",
       " 'Vnn1',\n",
       " 'Vps13c',\n",
       " 'Wdr17',\n",
       " 'Wfs1',\n",
       " 'Wipf3',\n",
       " 'Wnt8b',\n",
       " 'Zbtb20',\n",
       " 'Zfp36l1',\n",
       " 'blank0001',\n",
       " 'blank0002',\n",
       " 'blank0003',\n",
       " 'blank0004',\n",
       " 'blank0005',\n",
       " 'blank0006',\n",
       " 'blank0007',\n",
       " 'blank0008',\n",
       " 'blank0009',\n",
       " 'blank0010',\n",
       " 'blank0011',\n",
       " 'blank0012',\n",
       " 'blank0013',\n",
       " 'blank0014',\n",
       " 'blank0015',\n",
       " 'blank0016',\n",
       " 'blank0017',\n",
       " 'blank0018',\n",
       " 'blank0019',\n",
       " 'blank0020',\n",
       " 'blank0021',\n",
       " 'blank0022',\n",
       " 'blank0023',\n",
       " 'blank0024',\n",
       " 'blank0025',\n",
       " 'blank0026',\n",
       " 'blank0027',\n",
       " 'blank0028',\n",
       " 'blank0029',\n",
       " 'blank0030',\n",
       " 'blank0031',\n",
       " 'blank0032',\n",
       " 'blank0033',\n",
       " 'blank0034',\n",
       " 'blank0035',\n",
       " 'blank0036',\n",
       " 'blank0037',\n",
       " 'blank0038',\n",
       " 'blank0039',\n",
       " 'blank0040',\n",
       " 'blank0041',\n",
       " 'blank0042',\n",
       " 'blank0044',\n",
       " 'blank0045',\n",
       " 'blank0046',\n",
       " 'blank0047',\n",
       " 'blank0048',\n",
       " 'blank0049',\n",
       " 'blank0050',\n",
       " 'blank0051',\n",
       " 'blank0052',\n",
       " 'blank0053',\n",
       " 'blank0054',\n",
       " 'blank0055',\n",
       " 'blank0056',\n",
       " 'blank0057',\n",
       " 'blank0058',\n",
       " 'blank0059',\n",
       " 'blank0060',\n",
       " 'blank0061',\n",
       " 'blank0062',\n",
       " 'blank0063',\n",
       " 'blank0064',\n",
       " 'blank0065',\n",
       " 'blank0066',\n",
       " 'blank0067',\n",
       " 'blank0068',\n",
       " 'blank0069',\n",
       " 'blank0070',\n",
       " 'blank0071',\n",
       " 'blank0072',\n",
       " 'blank0073',\n",
       " 'blank0074',\n",
       " 'blank0075',\n",
       " 'blank0076',\n",
       " 'blank0077',\n",
       " 'blank0078',\n",
       " 'blank0079',\n",
       " 'blank0080',\n",
       " 'blank0081',\n",
       " 'blank0082',\n",
       " 'blank0083',\n",
       " 'blank0084',\n",
       " 'blank0085',\n",
       " 'blank0086',\n",
       " 'blank0087',\n",
       " 'blank0088',\n",
       " 'blank0089',\n",
       " 'blank0090',\n",
       " 'blank0091',\n",
       " 'blank0092',\n",
       " 'blank0093',\n",
       " 'blank0094',\n",
       " 'blank0095',\n",
       " 'blank0096',\n",
       " 'blank0097',\n",
       " 'blank0098',\n",
       " 'blank0099',\n",
       " 'blank0100',\n",
       " 'blank0101',\n",
       " 'blank0102',\n",
       " 'blank0103',\n",
       " 'blank0104',\n",
       " 'blank0105',\n",
       " 'blank0106',\n",
       " 'blank0107',\n",
       " 'blank0108',\n",
       " 'blank0109',\n",
       " 'blank0110',\n",
       " 'blank0111',\n",
       " 'blank0112',\n",
       " 'blank0113',\n",
       " 'blank0114',\n",
       " 'blank0115',\n",
       " 'blank0116',\n",
       " 'blank0117',\n",
       " 'blank0118',\n",
       " 'blank0119',\n",
       " 'blank0120',\n",
       " 'blank0121',\n",
       " 'blank0122',\n",
       " 'blank0123',\n",
       " 'blank0124',\n",
       " 'blank0125',\n",
       " 'blank0126',\n",
       " 'blank0127',\n",
       " 'blank0128',\n",
       " 'blank0129',\n",
       " 'blank0130',\n",
       " 'blank0131',\n",
       " 'blank0132',\n",
       " 'blank0133',\n",
       " 'blank0134',\n",
       " 'blank0135',\n",
       " 'blank0136',\n",
       " 'blank0137',\n",
       " 'blank0138',\n",
       " 'blank0139',\n",
       " 'blank0140',\n",
       " 'blank0141',\n",
       " 'blank0142',\n",
       " 'blank0143',\n",
       " 'blank0144',\n",
       " 'blank0145',\n",
       " 'blank0146',\n",
       " 'blank0147',\n",
       " 'blank0148',\n",
       " 'blank0149',\n",
       " 'blank0150',\n",
       " 'blank0151',\n",
       " 'blank0152',\n",
       " 'blank0153',\n",
       " 'blank0154',\n",
       " 'blank0155',\n",
       " 'blank0156',\n",
       " 'blank0157',\n",
       " 'blank0158',\n",
       " 'blank0159',\n",
       " 'blank0160',\n",
       " 'blank0161',\n",
       " 'blank0162',\n",
       " 'blank0163',\n",
       " 'blank0164',\n",
       " 'blank0165',\n",
       " 'blank0166',\n",
       " 'blank0167',\n",
       " 'blank0168',\n",
       " 'blank0169',\n",
       " 'blank0170',\n",
       " 'blank0171',\n",
       " 'blank0172',\n",
       " 'blank0173',\n",
       " 'blank0174',\n",
       " 'blank0175',\n",
       " 'blank0176',\n",
       " 'blank0177',\n",
       " 'blank0178',\n",
       " 'blank0179',\n",
       " 'blank0180',\n",
       " 'blank0181',\n",
       " 'blank0182',\n",
       " 'blank0183',\n",
       " 'blank0184',\n",
       " 'blank0185',\n",
       " 'blank0186',\n",
       " 'blank0187',\n",
       " 'blank0188',\n",
       " 'blank0189',\n",
       " 'blank0190',\n",
       " 'blank0191',\n",
       " 'blank0192',\n",
       " 'blank0193',\n",
       " 'blank0194',\n",
       " 'blank0195',\n",
       " 'blank0196',\n",
       " 'blank0197',\n",
       " 'blank0198',\n",
       " 'blank0199',\n",
       " 'blank0200',\n",
       " 'blank0201',\n",
       " 'blank0202',\n",
       " 'blank0203',\n",
       " 'blank0204',\n",
       " 'blank0205',\n",
       " 'blank0206',\n",
       " 'blank0207',\n",
       " 'blank0208',\n",
       " 'blank0209',\n",
       " 'blank0210',\n",
       " 'blank0211',\n",
       " 'blank0212',\n",
       " 'blank0213',\n",
       " 'blank0214',\n",
       " 'blank0215',\n",
       " 'blank0216',\n",
       " 'blank0217',\n",
       " 'blank0218',\n",
       " 'blank0219',\n",
       " 'blank0220',\n",
       " 'blank0221',\n",
       " 'blank0222',\n",
       " 'blank0223',\n",
       " 'blank0224',\n",
       " 'blank0225',\n",
       " 'blank0226',\n",
       " 'blank0227',\n",
       " 'blank0228',\n",
       " 'blank0229',\n",
       " 'blank0230',\n",
       " 'blank0231',\n",
       " 'blank0232',\n",
       " 'blank0233',\n",
       " 'blank0234',\n",
       " 'blank0235',\n",
       " 'blank0236',\n",
       " 'blank0237',\n",
       " 'blank0238',\n",
       " 'blank0239',\n",
       " 'blank0240',\n",
       " 'blank0241',\n",
       " 'blank0242',\n",
       " 'blank0243',\n",
       " 'blank0244',\n",
       " 'blank0245',\n",
       " 'blank0246',\n",
       " 'blank0247',\n",
       " 'blank0248',\n",
       " 'blank0249',\n",
       " 'blank0250',\n",
       " 'blank0251',\n",
       " 'blank0254',\n",
       " 'blank0255',\n",
       " 'blank0256',\n",
       " 'blank0257',\n",
       " 'blank0258',\n",
       " 'blank0259',\n",
       " 'blank0260',\n",
       " 'blank0261',\n",
       " 'blank0262',\n",
       " 'blank0263',\n",
       " 'blank0264',\n",
       " 'blank0265',\n",
       " 'blank0266',\n",
       " 'blank0267',\n",
       " 'blank0268',\n",
       " 'blank0269',\n",
       " 'blank0270',\n",
       " 'blank0271',\n",
       " 'blank0273',\n",
       " 'blank0274',\n",
       " 'blank0275',\n",
       " 'blank0276',\n",
       " 'blank0277',\n",
       " 'blank0278',\n",
       " 'blank0279',\n",
       " 'blank0280',\n",
       " 'blank0281',\n",
       " 'blank0282',\n",
       " 'blank0283',\n",
       " 'blank0284',\n",
       " 'blank0285',\n",
       " 'blank0286',\n",
       " 'blank0287',\n",
       " 'blank0288',\n",
       " 'blank0289',\n",
       " 'blank0290',\n",
       " 'blank0291',\n",
       " 'blank0292',\n",
       " 'blank0293',\n",
       " 'blank0294',\n",
       " 'blank0295',\n",
       " 'blank0296',\n",
       " 'blank0297',\n",
       " 'blank0298',\n",
       " 'blank0299',\n",
       " 'blank0300',\n",
       " 'blank0252',\n",
       " 'blank0253',\n",
       " 'blank0272',\n",
       " 'blank0043']"
      ]
     },
     "execution_count": 171,
     "metadata": {},
     "output_type": "execute_result"
    }
   ],
   "source": [
    "list(df.columns)"
   ]
  },
  {
   "cell_type": "code",
   "execution_count": 228,
   "id": "7d3a00b9",
   "metadata": {},
   "outputs": [
    {
     "data": {
      "text/plain": [
       "582.9528497456645"
      ]
     },
     "execution_count": 228,
     "metadata": {},
     "output_type": "execute_result"
    }
   ],
   "source": [
    "np.mean(np.nansum(df,axis=1))"
   ]
  },
  {
   "cell_type": "code",
   "execution_count": 223,
   "id": "2bccda51",
   "metadata": {},
   "outputs": [
    {
     "data": {
      "text/plain": [
       "[<matplotlib.lines.Line2D at 0x258a43efa60>]"
      ]
     },
     "execution_count": 223,
     "metadata": {},
     "output_type": "execute_result"
    },
    {
     "data": {
      "image/png": "[encoded data removed]",
      "text/plain": [
       "<Figure size 640x480 with 1 Axes>"
      ]
     },
     "metadata": {},
     "output_type": "display_data"
    }
   ],
   "source": [
    "plt.semilogy(np.nanmean(df,axis=0))"
   ]
  },
  {
   "cell_type": "code",
   "execution_count": 246,
   "id": "2f38c49c",
   "metadata": {},
   "outputs": [
    {
     "data": {
      "text/plain": [
       "Viewer(axes=Axes(visible=False, labels=True, colored=True, dashed=False, arrows=True), camera=Camera(center=(0.0, 2459.2798461914062, -723.9267578125), zoom=0.1835189702225016, angles=(0.0, 0.0, 90.0), perspective=0.0, interactive=True), cursor=Cursor(position=(1.0, 1.0), scaled=True, size=1, style=<CursorStyle.STANDARD: 'standard'>), dims=Dims(ndim=2, ndisplay=2, last_used=0, range=((-861.4940185546875, 5781.0537109375, 1.0), (-6326.353515625, 4879.5, 1.0)), current_step=(3320, 5603), order=(0, 1), axis_labels=('0', '1')), grid=GridCanvas(stride=1, shape=(-1, -1), enabled=False), layers=[<Points layer 'Acta2' at 0x258ec01bd90>], scale_bar=ScaleBar(visible=False, colored=False, color=array([1., 0., 1., 1.], dtype=float32), ticks=True, position=<Position.BOTTOM_RIGHT: 'bottom_right'>, font_size=10.0, box=False, box_color=array([0. , 0. , 0. , 0.6], dtype=float32), unit=None), text_overlay=TextOverlay(visible=False, color=array([0.5, 0.5, 0.5, 1. ], dtype=float32), font_size=10.0, position=<TextOverlayPosition.TOP_LEFT: 'top_left'>, text=''), overlays=Overlays(interaction_box=InteractionBox(points=None, show=False, show_handle=False, show_vertices=False, selection_box_drag=None, selection_box_final=None, transform_start=<napari.utils.transforms.transforms.Affine object at 0x00000258E989DD00>, transform_drag=<napari.utils.transforms.transforms.Affine object at 0x00000258E989DC40>, transform_final=<napari.utils.transforms.transforms.Affine object at 0x00000258E989DBE0>, transform=<napari.utils.transforms.transforms.Affine object at 0x00000258E989DBB0>, allow_new_selection=True, selected_vertex=None)), help='use <2> for add points, use <3> for select points', status='Ready', tooltip=Tooltip(visible=False, text=''), theme='dark', title='napari', mouse_over_canvas=False, mouse_move_callbacks=[<function InteractionBoxMouseBindings.initialize_mouse_events.<locals>.mouse_move at 0x00000258EBFECCA0>], mouse_drag_callbacks=[<function InteractionBoxMouseBindings.initialize_mouse_events.<locals>.mouse_drag at 0x00000258EBFEC790>], mouse_double_click_callbacks=[], mouse_wheel_callbacks=[<function dims_scroll at 0x0000025731C68E50>], _persisted_mouse_event={}, _mouse_drag_gen={}, _mouse_wheel_gen={}, keymap={'Shift': <function InteractionBoxMouseBindings.initialize_key_events.<locals>.hold_to_lock_aspect_ratio at 0x00000258EBFB01F0>, 'Control-Shift-R': <function InteractionBoxMouseBindings._reset_active_layer_affine at 0x00000258EBFEC5E0>, 'Control-Shift-A': <function InteractionBoxMouseBindings._transform_active_layer at 0x00000258EBFEC550>})"
      ]
     },
     "execution_count": 246,
     "metadata": {},
     "output_type": "execute_result"
    }
   ],
   "source": [
    "xcells = cell_df['xc']*0.10833*4+cell_df['yfov']\n",
    "ycells = cell_df['yc']*0.10833*4-cell_df['xfov']\n",
    "Xcells = np.array([xcells,ycells]).T\n",
    "gene = 'Acta2'\n",
    "cts = np.array(df[gene])#Ptbp1_smFISH\n",
    "cts[np.isnan(cts)]=0\n",
    "ncts = np.clip(cts/10,0,1)\n",
    "size = 5+ncts*30\n",
    "from matplotlib import cm as cmap\n",
    "cols = cmap.coolwarm(ncts)\n",
    "\n",
    "viewer = napari.view_points(-Xcells[:,::-1],size=size,face_color=cols,name=gene)\n",
    "viewer"
   ]
  },
  {
   "cell_type": "code",
   "execution_count": null,
   "id": "f016a2a8",
   "metadata": {},
   "outputs": [],
   "source": [
    "scdata2 = sc.AnnData(count_table2)\n",
    "scdata2.obsm[\"X_spatial\"] = Xcells[good_cells][:,::-1]\n",
    "gfp_genes = [ign for ign,gn in enumerate(gns_all) if np.any([e in gn.lower() for e in ['gfp']])]\n",
    "scdata2.obsm[\"GFP\"] = cts_all[good_cells][:,gfp_genes]\n",
    "blank_genes = [ign for ign,gn in enumerate(gns_all) if np.any([e in gn.lower() for e in ['blank']])]\n",
    "scdata2.obsm[\"blank\"] = cts_all[good_cells][:,blank_genes]\n",
    "\n",
    "sc.pp.filter_cells(scdata2, min_genes=5)\n",
    "scdata2.obsm[\"X_raw\"] = scdata2.X.copy()\n",
    "sc.pp.calculate_qc_metrics(scdata2, percent_top=None, inplace=True)\n",
    "sc.pp.normalize_total(scdata2, target_sum=np.median(scdata2.obs[\"total_counts\"]))\n",
    "\n",
    "### Tried volume normalization but did not work well.\n",
    "\n",
    "#volume = np.array(list(celldata['volume'].reindex(index=scdata.obs.index.astype(int))),dtype=np.float)\n",
    "#scdata.X = scdata.X/volume[:,np.newaxis]*np.median(volume)\n",
    "\n",
    "sc.pp.log1p(scdata2)\n",
    "\n",
    "#scdata2.X = scdata2.to_df().apply(zscore, axis=0).to_numpy()\n",
    "\n",
    "### Should we use PCA?\n",
    "\n",
    "### Should we do z-scores. Explore this with spatial maps. Visual inspection.\n",
    "\n",
    "sc.pp.neighbors(scdata2,use_rep = \"X\")  #metric='correlation', use_rep = \"X\""
   ]
  },
  {
   "cell_type": "code",
   "execution_count": 157,
   "id": "88f06f77",
   "metadata": {},
   "outputs": [
    {
     "ename": "NameError",
     "evalue": "name 'ncts' is not defined",
     "output_type": "error",
     "traceback": [
      "\u001b[1;31m---------------------------------------------------------------------------\u001b[0m",
      "\u001b[1;31mNameError\u001b[0m                                 Traceback (most recent call last)",
      "Cell \u001b[1;32mIn[157], line 2\u001b[0m\n\u001b[0;32m      1\u001b[0m \u001b[38;5;28;01mfrom\u001b[39;00m \u001b[38;5;21;01mmatplotlib\u001b[39;00m \u001b[38;5;28;01mimport\u001b[39;00m cm \u001b[38;5;28;01mas\u001b[39;00m cmap\n\u001b[1;32m----> 2\u001b[0m cmap\u001b[38;5;241m.\u001b[39mcoolwarm(\u001b[43mncts\u001b[49m)\n",
      "\u001b[1;31mNameError\u001b[0m: name 'ncts' is not defined"
     ]
    }
   ],
   "source": []
  },
  {
   "cell_type": "code",
   "execution_count": 153,
   "id": "a80a40c5",
   "metadata": {},
   "outputs": [
    {
     "data": {
      "text/plain": [
       "219002"
      ]
     },
     "execution_count": 153,
     "metadata": {},
     "output_type": "execute_result"
    }
   ],
   "source": [
    "len(cell_df)"
   ]
  },
  {
   "cell_type": "code",
   "execution_count": 141,
   "id": "6ff17b74",
   "metadata": {},
   "outputs": [
    {
     "data": {
      "text/plain": [
       "Viewer(axes=Axes(visible=False, labels=True, colored=True, dashed=False, arrows=True), camera=Camera(center=(0.0, 723.9267578125, -2459.279846191407), zoom=0.05129473573202182, angles=(0.0, 0.0, 90.0), perspective=0.0, interactive=True), cursor=Cursor(position=(1.0, 1.0), scaled=True, size=1, style=<CursorStyle.STANDARD: 'standard'>), dims=Dims(ndim=2, ndisplay=2, last_used=0, range=((-4878.5, 6327.353515625, 1.0), (-5780.0537109375, 862.4940185546875, 1.0)), current_step=(5602, 3322), order=(0, 1), axis_labels=('0', '1')), grid=GridCanvas(stride=1, shape=(-1, -1), enabled=False), layers=[<Points layer 'Xcells' at 0x257a211da90>], scale_bar=ScaleBar(visible=False, colored=False, color=array([1., 0., 1., 1.], dtype=float32), ticks=True, position=<Position.BOTTOM_RIGHT: 'bottom_right'>, font_size=10.0, box=False, box_color=array([0. , 0. , 0. , 0.6], dtype=float32), unit=None), text_overlay=TextOverlay(visible=False, color=array([0.5, 0.5, 0.5, 1. ], dtype=float32), font_size=10.0, position=<TextOverlayPosition.TOP_LEFT: 'top_left'>, text=''), overlays=Overlays(interaction_box=InteractionBox(points=None, show=False, show_handle=False, show_vertices=False, selection_box_drag=None, selection_box_final=None, transform_start=<napari.utils.transforms.transforms.Affine object at 0x00000257BF05B2E0>, transform_drag=<napari.utils.transforms.transforms.Affine object at 0x00000257BF05B640>, transform_final=<napari.utils.transforms.transforms.Affine object at 0x00000257BF05BF10>, transform=<napari.utils.transforms.transforms.Affine object at 0x00000257BF05BE80>, allow_new_selection=True, selected_vertex=None)), help='use <2> for add points, use <3> for select points', status='Ready', tooltip=Tooltip(visible=False, text=''), theme='dark', title='napari', mouse_over_canvas=False, mouse_move_callbacks=[<function InteractionBoxMouseBindings.initialize_mouse_events.<locals>.mouse_move at 0x00000257A288E9D0>], mouse_drag_callbacks=[<function InteractionBoxMouseBindings.initialize_mouse_events.<locals>.mouse_drag at 0x00000257A288E700>], mouse_double_click_callbacks=[], mouse_wheel_callbacks=[<function dims_scroll at 0x0000025731C68E50>], _persisted_mouse_event={}, _mouse_drag_gen={}, _mouse_wheel_gen={}, keymap={'Shift': <function InteractionBoxMouseBindings.initialize_key_events.<locals>.hold_to_lock_aspect_ratio at 0x00000257A288E310>, 'Control-Shift-R': <function InteractionBoxMouseBindings._reset_active_layer_affine at 0x00000257A288E550>, 'Control-Shift-A': <function InteractionBoxMouseBindings._transform_active_layer at 0x00000257A288E430>})"
      ]
     },
     "execution_count": 141,
     "metadata": {},
     "output_type": "execute_result"
    }
   ],
   "source": [
    "\n",
    "import napari\n",
    "napari.view_points(Xcells)"
   ]
  },
  {
   "cell_type": "code",
   "execution_count": null,
   "id": "8795574f",
   "metadata": {},
   "outputs": [],
   "source": []
  },
  {
   "cell_type": "code",
   "execution_count": 125,
   "id": "ee68cf2d",
   "metadata": {},
   "outputs": [
    {
     "data": {
      "text/html": [
       "<div>\n",
       "<style scoped>\n",
       "    .dataframe tbody tr th:only-of-type {\n",
       "        vertical-align: middle;\n",
       "    }\n",
       "\n",
       "    .dataframe tbody tr th {\n",
       "        vertical-align: top;\n",
       "    }\n",
       "\n",
       "    .dataframe thead th {\n",
       "        text-align: right;\n",
       "    }\n",
       "</style>\n",
       "<table border=\"1\" class=\"dataframe\">\n",
       "  <thead>\n",
       "    <tr style=\"text-align: right;\">\n",
       "      <th></th>\n",
       "      <th>cell_id</th>\n",
       "      <th>volm</th>\n",
       "      <th>zc</th>\n",
       "      <th>xc</th>\n",
       "      <th>yc</th>\n",
       "      <th>xfov</th>\n",
       "      <th>yfov</th>\n",
       "    </tr>\n",
       "  </thead>\n",
       "  <tbody>\n",
       "    <tr>\n",
       "      <th>1003500001</th>\n",
       "      <td>1.0</td>\n",
       "      <td>3617.0</td>\n",
       "      <td>2.501244</td>\n",
       "      <td>8.460879</td>\n",
       "      <td>340.129944</td>\n",
       "      <td>866.700012</td>\n",
       "      <td>779.200012</td>\n",
       "    </tr>\n",
       "    <tr>\n",
       "      <th>1003500005</th>\n",
       "      <td>5.0</td>\n",
       "      <td>1867.0</td>\n",
       "      <td>2.217461</td>\n",
       "      <td>13.653455</td>\n",
       "      <td>111.948578</td>\n",
       "      <td>866.700012</td>\n",
       "      <td>779.200012</td>\n",
       "    </tr>\n",
       "    <tr>\n",
       "      <th>1003500008</th>\n",
       "      <td>8.0</td>\n",
       "      <td>1750.0</td>\n",
       "      <td>4.359428</td>\n",
       "      <td>46.380001</td>\n",
       "      <td>210.994858</td>\n",
       "      <td>866.700012</td>\n",
       "      <td>779.200012</td>\n",
       "    </tr>\n",
       "    <tr>\n",
       "      <th>1003500009</th>\n",
       "      <td>9.0</td>\n",
       "      <td>5935.0</td>\n",
       "      <td>3.522325</td>\n",
       "      <td>53.455265</td>\n",
       "      <td>638.689453</td>\n",
       "      <td>866.700012</td>\n",
       "      <td>779.200012</td>\n",
       "    </tr>\n",
       "    <tr>\n",
       "      <th>1003500012</th>\n",
       "      <td>12.0</td>\n",
       "      <td>6049.0</td>\n",
       "      <td>2.940321</td>\n",
       "      <td>62.216896</td>\n",
       "      <td>580.279053</td>\n",
       "      <td>866.700012</td>\n",
       "      <td>779.200012</td>\n",
       "    </tr>\n",
       "    <tr>\n",
       "      <th>...</th>\n",
       "      <td>...</td>\n",
       "      <td>...</td>\n",
       "      <td>...</td>\n",
       "      <td>...</td>\n",
       "      <td>...</td>\n",
       "      <td>...</td>\n",
       "      <td>...</td>\n",
       "    </tr>\n",
       "    <tr>\n",
       "      <th>1003500448</th>\n",
       "      <td>448.0</td>\n",
       "      <td>888.0</td>\n",
       "      <td>6.719594</td>\n",
       "      <td>726.266907</td>\n",
       "      <td>16.296171</td>\n",
       "      <td>866.700012</td>\n",
       "      <td>779.200012</td>\n",
       "    </tr>\n",
       "    <tr>\n",
       "      <th>1003500449</th>\n",
       "      <td>449.0</td>\n",
       "      <td>303.0</td>\n",
       "      <td>6.000000</td>\n",
       "      <td>726.924072</td>\n",
       "      <td>41.244225</td>\n",
       "      <td>866.700012</td>\n",
       "      <td>779.200012</td>\n",
       "    </tr>\n",
       "    <tr>\n",
       "      <th>1003500450</th>\n",
       "      <td>450.0</td>\n",
       "      <td>665.0</td>\n",
       "      <td>6.542857</td>\n",
       "      <td>454.024048</td>\n",
       "      <td>57.045113</td>\n",
       "      <td>866.700012</td>\n",
       "      <td>779.200012</td>\n",
       "    </tr>\n",
       "    <tr>\n",
       "      <th>1003500452</th>\n",
       "      <td>452.0</td>\n",
       "      <td>472.0</td>\n",
       "      <td>7.000000</td>\n",
       "      <td>49.745762</td>\n",
       "      <td>113.188560</td>\n",
       "      <td>866.700012</td>\n",
       "      <td>779.200012</td>\n",
       "    </tr>\n",
       "    <tr>\n",
       "      <th>1003500454</th>\n",
       "      <td>454.0</td>\n",
       "      <td>316.0</td>\n",
       "      <td>7.000000</td>\n",
       "      <td>742.170898</td>\n",
       "      <td>52.591774</td>\n",
       "      <td>866.700012</td>\n",
       "      <td>779.200012</td>\n",
       "    </tr>\n",
       "  </tbody>\n",
       "</table>\n",
       "<p>392 rows × 7 columns</p>\n",
       "</div>"
      ],
      "text/plain": [
       "            cell_id    volm        zc          xc          yc        xfov  \\\n",
       "1003500001      1.0  3617.0  2.501244    8.460879  340.129944  866.700012   \n",
       "1003500005      5.0  1867.0  2.217461   13.653455  111.948578  866.700012   \n",
       "1003500008      8.0  1750.0  4.359428   46.380001  210.994858  866.700012   \n",
       "1003500009      9.0  5935.0  3.522325   53.455265  638.689453  866.700012   \n",
       "1003500012     12.0  6049.0  2.940321   62.216896  580.279053  866.700012   \n",
       "...             ...     ...       ...         ...         ...         ...   \n",
       "1003500448    448.0   888.0  6.719594  726.266907   16.296171  866.700012   \n",
       "1003500449    449.0   303.0  6.000000  726.924072   41.244225  866.700012   \n",
       "1003500450    450.0   665.0  6.542857  454.024048   57.045113  866.700012   \n",
       "1003500452    452.0   472.0  7.000000   49.745762  113.188560  866.700012   \n",
       "1003500454    454.0   316.0  7.000000  742.170898   52.591774  866.700012   \n",
       "\n",
       "                  yfov  \n",
       "1003500001  779.200012  \n",
       "1003500005  779.200012  \n",
       "1003500008  779.200012  \n",
       "1003500009  779.200012  \n",
       "1003500012  779.200012  \n",
       "...                ...  \n",
       "1003500448  779.200012  \n",
       "1003500449  779.200012  \n",
       "1003500450  779.200012  \n",
       "1003500452  779.200012  \n",
       "1003500454  779.200012  \n",
       "\n",
       "[392 rows x 7 columns]"
      ]
     },
     "execution_count": 125,
     "metadata": {},
     "output_type": "execute_result"
    }
   ],
   "source": []
  },
  {
   "cell_type": "code",
   "execution_count": 106,
   "id": "7e1cb705",
   "metadata": {},
   "outputs": [
    {
     "data": {
      "text/plain": [
       "559"
      ]
     },
     "execution_count": 106,
     "metadata": {},
     "output_type": "execute_result"
    }
   ],
   "source": [
    "len(ugns)"
   ]
  },
  {
   "cell_type": "code",
   "execution_count": 92,
   "id": "c88052c3",
   "metadata": {},
   "outputs": [
    {
     "data": {
      "text/plain": [
       "(393, 7)"
      ]
     },
     "execution_count": 92,
     "metadata": {},
     "output_type": "execute_result"
    }
   ],
   "source": [
    "dic['cellinfo'].shape"
   ]
  },
  {
   "cell_type": "code",
   "execution_count": 93,
   "id": "e23b69a3",
   "metadata": {},
   "outputs": [
    {
     "data": {
      "text/plain": [
       "array(['cell_id', 'volm', 'zc', 'xc', 'yc', 'xfov', 'yfov'], dtype='<U7')"
      ]
     },
     "execution_count": 93,
     "metadata": {},
     "output_type": "execute_result"
    }
   ],
   "source": [
    "dic['header_cells']"
   ]
  },
  {
   "cell_type": "code",
   "execution_count": 90,
   "id": "17f54ba4",
   "metadata": {},
   "outputs": [
    {
     "data": {
      "text/plain": [
       "['XF', 'genes', 'cellinfo', 'header_cells', 'header']"
      ]
     },
     "execution_count": 90,
     "metadata": {},
     "output_type": "execute_result"
    }
   ],
   "source": [
    "list(dic.keys())"
   ]
  },
  {
   "cell_type": "code",
   "execution_count": 88,
   "id": "82a7b857",
   "metadata": {},
   "outputs": [],
   "source": [
    "import pandas as pd\n",
    "10**5*"
   ]
  },
  {
   "cell_type": "code",
   "execution_count": 87,
   "id": "72fa3319",
   "metadata": {},
   "outputs": [],
   "source": [
    "#import pandas as pd"
   ]
  },
  {
   "cell_type": "code",
   "execution_count": 64,
   "id": "18be5b0f",
   "metadata": {},
   "outputs": [
    {
     "data": {
      "text/plain": [
       "(316535, 316535)"
      ]
     },
     "execution_count": 64,
     "metadata": {},
     "output_type": "execute_result"
    }
   ],
   "source": [
    "len(icells),len(gns_i)\n",
    "ucells = np.unique(icells)\n",
    "ndimage.sum(icells,ucells)"
   ]
  },
  {
   "cell_type": "code",
   "execution_count": 58,
   "id": "928a8507",
   "metadata": {},
   "outputs": [
    {
     "data": {
      "text/plain": [
       "array(['Mbp', 'Atp1a2', 'Ntrk2', ..., 'Ptbp1_smFISH', 'Ptbp1_smFISH',\n",
       "       'Ptbp1_smFISH'], dtype='<U14')"
      ]
     },
     "execution_count": 58,
     "metadata": {},
     "output_type": "execute_result"
    }
   ],
   "source": [
    "ugns,gns_i = np.unique(genes_decoded,return_inverse=True)\n",
    "genes_decoded"
   ]
  },
  {
   "cell_type": "code",
   "execution_count": 51,
   "id": "011409b5",
   "metadata": {},
   "outputs": [],
   "source": [
    "ugenes = np.unique(genes_decoded)\n"
   ]
  },
  {
   "cell_type": "code",
   "execution_count": null,
   "id": "59120cc9",
   "metadata": {},
   "outputs": [],
   "source": [
    "XF = dic['XF']"
   ]
  },
  {
   "cell_type": "code",
   "execution_count": 4,
   "id": "50e47889",
   "metadata": {},
   "outputs": [
    {
     "data": {
      "text/plain": [
       "1276"
      ]
     },
     "execution_count": 4,
     "metadata": {},
     "output_type": "execute_result"
    }
   ],
   "source": [
    "len(save_fls)"
   ]
  },
  {
   "cell_type": "code",
   "execution_count": 13,
   "id": "66f3ea0e",
   "metadata": {},
   "outputs": [],
   "source": [
    "save_fl = [fl for fl in save_fls if '_set1' in fl if '035' in fl][0]\n",
    "dic = np.load(save_fl)\n",
    "XF = dic['XF']\n",
    "header = dic['header']\n",
    "genes_decoded = dic['genes']"
   ]
  },
  {
   "cell_type": "code",
   "execution_count": null,
   "id": "bcf4c277",
   "metadata": {},
   "outputs": [],
   "source": []
  },
  {
   "cell_type": "code",
   "execution_count": 19,
   "id": "6fde7d07",
   "metadata": {},
   "outputs": [],
   "source": [
    "iscore = list(header).index('score')\n",
    "scoreA = XF[:,iscore]\n",
    "keep = scoreA>-1\n",
    "gns,cts = np.unique(genes_decoded[keep],return_counts=True)"
   ]
  },
  {
   "cell_type": "code",
   "execution_count": 39,
   "id": "9ea0b65d",
   "metadata": {},
   "outputs": [
    {
     "data": {
      "text/plain": [
       "array(['Adcy1', 'Atp1b1', 'Slc1a2', 'Psap', 'Atp1a2', 'Gnb1', 'Thy1',\n",
       "       'Nrgn', 'Unc13a', 'Prox1', 'Ntrk2', 'Trim2', 'Gabbr1', 'Aldoc',\n",
       "       'Nr3c2', 'Mbp', 'Smarca4', 'C1ql3', 'Adgrl3', 'Bhlhe22', 'Actb',\n",
       "       'Gad1', 'Adarb2', 'Bsg', 'Auts2', 'Bsn', 'Cspg5', 'Kcnd2',\n",
       "       'Ptbp1_smFISH', 'Olig1', 'Gpc4', 'Stox2', 'Tenm2', 'Dgkb',\n",
       "       'Zbtb20', 'Ptbp1', 'Pde10a', 'Actg1', 'Ahcyl2', 'Aldh1l1_smFISH',\n",
       "       'Lrp1b', 'Rasl10a', 'Nfia', 'Mapk4', 'Foxg1', 'Neurod1', 'Unc5c',\n",
       "       'Cldn5', 'Rtn4', 'Opcml', 'Vps13c', 'Csmd1', 'Cst3', 'Nrg3',\n",
       "       'Frmd4a', 'Mcu', 'Dgkh', 'Slc2a1', 'Mfge8', 'Padi2'], dtype='<U14')"
      ]
     },
     "execution_count": 39,
     "metadata": {},
     "output_type": "execute_result"
    }
   ],
   "source": [
    "gns[np.argsort(cts)[::-1]][:60]"
   ]
  },
  {
   "cell_type": "code",
   "execution_count": null,
   "id": "e8fe485f",
   "metadata": {},
   "outputs": [],
   "source": []
  },
  {
   "cell_type": "code",
   "execution_count": 59,
   "id": "055e1253",
   "metadata": {},
   "outputs": [
    {
     "data": {
      "text/plain": [
       "Viewer(axes=Axes(visible=False, labels=True, colored=True, dashed=False, arrows=True), camera=Camera(center=(0.0, 1537.1266822814941, 1551.154281616211), zoom=0.3989904325613158, angles=(0.0, 0.0, 90.0), perspective=0.0, interactive=True), cursor=Cursor(position=(20.490666389465332, 1.0, 0.0), scaled=True, size=1, style=<CursorStyle.STANDARD: 'standard'>), dims=Dims(ndim=3, ndisplay=2, last_used=0, range=((4.490666389465332, 35.6755256652832, 1.0), (88.28241729736328, 2989.3095703125, 1.0), (114.71652221679688, 2997.97314453125, 1.0)), current_step=(16, 1449, 1436), order=(0, 1, 2), axis_labels=('0', '1', '2')), grid=GridCanvas(stride=1, shape=(-1, -1), enabled=False), layers=[<Points layer 'Ptbp1' at 0x25796bb6df0>, <Points layer 'Ptbp1_smFISH' at 0x25796be43d0>], scale_bar=ScaleBar(visible=False, colored=False, color=array([1., 0., 1., 1.], dtype=float32), ticks=True, position=<Position.BOTTOM_RIGHT: 'bottom_right'>, font_size=10.0, box=False, box_color=array([0. , 0. , 0. , 0.6], dtype=float32), unit=None), text_overlay=TextOverlay(visible=False, color=array([0.5, 0.5, 0.5, 1. ], dtype=float32), font_size=10.0, position=<TextOverlayPosition.TOP_LEFT: 'top_left'>, text=''), overlays=Overlays(interaction_box=InteractionBox(points=None, show=False, show_handle=False, show_vertices=False, selection_box_drag=None, selection_box_final=None, transform_start=<napari.utils.transforms.transforms.Affine object at 0x00000257268A4BB0>, transform_drag=<napari.utils.transforms.transforms.Affine object at 0x00000257268A4D00>, transform_final=<napari.utils.transforms.transforms.Affine object at 0x00000257268A4CA0>, transform=<napari.utils.transforms.transforms.Affine object at 0x00000257268A4DF0>, allow_new_selection=True, selected_vertex=None)), help='use <2> for add points, use <3> for select points', status='Ready', tooltip=Tooltip(visible=False, text=''), theme='dark', title='napari', mouse_over_canvas=False, mouse_move_callbacks=[<function InteractionBoxMouseBindings.initialize_mouse_events.<locals>.mouse_move at 0x0000025796B91550>], mouse_drag_callbacks=[<function InteractionBoxMouseBindings.initialize_mouse_events.<locals>.mouse_drag at 0x0000025796B7E550>], mouse_double_click_callbacks=[], mouse_wheel_callbacks=[<function dims_scroll at 0x0000025731C68E50>], _persisted_mouse_event={}, _mouse_drag_gen={}, _mouse_wheel_gen={}, keymap={'Shift': <function InteractionBoxMouseBindings.initialize_key_events.<locals>.hold_to_lock_aspect_ratio at 0x0000025796B7E5E0>, 'Control-Shift-R': <function InteractionBoxMouseBindings._reset_active_layer_affine at 0x0000025796B7EEE0>, 'Control-Shift-A': <function InteractionBoxMouseBindings._transform_active_layer at 0x0000025796B7E790>})"
      ]
     },
     "execution_count": 59,
     "metadata": {},
     "output_type": "execute_result"
    }
   ],
   "source": [
    "plot_multigenes2(XF,header,genes_decoded,genes=['Ptbp1','Ptbp1_smFISH'],colors=['r','g','b','m','c','y','w'],th=-1,smin=5,smax=20,viewer = None,\n",
    "                    drift=[0,0,0],resc=[1,1,1])"
   ]
  },
  {
   "cell_type": "code",
   "execution_count": 32,
   "id": "75fa487c",
   "metadata": {},
   "outputs": [],
   "source": [
    "def plot_multigenes2(XF,header,genes_decoded,genes=['Olig1','Sox9'],colors=['r','g','b','m','c','y','w'],th=-1,smin=3,smax=10,viewer = None,\n",
    "                    drift=[0,0,0],resc=[1,1,1]):\n",
    "    iscore = list(header).index('score')\n",
    "    scoreA = XF[:,iscore]\n",
    "    \n",
    "    Xcms = XF\n",
    "    keep = scoreA>th\n",
    "    X = (Xcms[:,:3][keep]-drift)/resc  \n",
    "    H = scoreA[keep]\n",
    "    H -= np.min(H)\n",
    "    icodesf = genes_decoded[keep]\n",
    "    size = smin+np.clip(H/np.max(H),0,1)*(smax-smin)\n",
    "    \n",
    "    if viewer is None:\n",
    "        import napari\n",
    "        viewer = napari.Viewer()\n",
    "    for igene,gene in enumerate(genes):\n",
    "        color= colors[igene%len(colors)]\n",
    "        #icode = gns_names.index(gene)\n",
    "        is_code = gene==icodesf\n",
    "        viewer.add_points(X[is_code],size=size[is_code],face_color=color,name=gene)\n",
    "\n",
    "    return viewer"
   ]
  },
  {
   "cell_type": "code",
   "execution_count": null,
   "id": "f02ff16c",
   "metadata": {},
   "outputs": [],
   "source": []
  },
  {
   "cell_type": "code",
   "execution_count": 33,
   "id": "5505f1af",
   "metadata": {},
   "outputs": [
    {
     "ename": "NameError",
     "evalue": "name 'XF_' is not defined",
     "output_type": "error",
     "traceback": [
      "\u001b[1;31m---------------------------------------------------------------------------\u001b[0m",
      "\u001b[1;31mNameError\u001b[0m                                 Traceback (most recent call last)",
      "Cell \u001b[1;32mIn[33], line 1\u001b[0m\n\u001b[1;32m----> 1\u001b[0m np\u001b[38;5;241m.\u001b[39msavez_compressed(save_fl,XF\u001b[38;5;241m=\u001b[39m\u001b[43mXF_\u001b[49m\u001b[38;5;241m.\u001b[39mastype(np\u001b[38;5;241m.\u001b[39mfloat32),\n\u001b[0;32m      2\u001b[0m                                 genes \u001b[38;5;241m=\u001b[39m genesf_,cellinfo\u001b[38;5;241m=\u001b[39mcellinfo\u001b[38;5;241m.\u001b[39mastype(np\u001b[38;5;241m.\u001b[39mfloat32),header_cells\u001b[38;5;241m=\u001b[39mheader_cells,header\u001b[38;5;241m=\u001b[39mheader)\n",
      "\u001b[1;31mNameError\u001b[0m: name 'XF_' is not defined"
     ]
    }
   ],
   "source": [
    "np.savez_compressed(save_fl,XF=XF_.astype(np.float32),\n",
    "                                genes = genesf_,cellinfo=cellinfo.astype(np.float32),header_cells=header_cells,header=header)"
   ]
  },
  {
   "cell_type": "code",
   "execution_count": null,
   "id": "f84ef682",
   "metadata": {},
   "outputs": [],
   "source": [
    "np.load(save_fl)"
   ]
  }
 ],
 "metadata": {
  "kernelspec": {
   "display_name": "Python 3 (ipykernel)",
   "language": "python",
   "name": "python3"
  },
  "language_info": {
   "codemirror_mode": {
    "name": "ipython",
    "version": 3
   },
   "file_extension": ".py",
   "mimetype": "text/x-python",
   "name": "python",
   "nbconvert_exporter": "python",
   "pygments_lexer": "ipython3",
   "version": "3.8.16"
  }
 },
 "nbformat": 4,
 "nbformat_minor": 5
}
