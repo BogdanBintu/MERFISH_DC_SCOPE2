{
 "cells": [
  {
   "cell_type": "code",
   "execution_count": 1,
   "id": "5e43a17c",
   "metadata": {},
   "outputs": [],
   "source": [
    "from ioMicro import *"
   ]
  },
  {
   "cell_type": "code",
   "execution_count": 4,
   "id": "1a94652c",
   "metadata": {},
   "outputs": [
    {
     "data": {
      "text/plain": [
       "1292"
      ]
     },
     "execution_count": 4,
     "metadata": {},
     "output_type": "execute_result"
    }
   ],
   "source": [
    "save_folder =r'\\\\192.168.0.10\\bbfishdc13\\DCBBL1_3_2_2023\\MERFISH_Analysis'\n",
    "dec = decoder_simple(save_folder)\n",
    "dec.get_fovs_sets()\n",
    "len(dec.fov_sets)"
   ]
  },
  {
   "cell_type": "code",
   "execution_count": 8,
   "id": "aca4d3a6",
   "metadata": {},
   "outputs": [
    {
     "name": "stdout",
     "output_type": "stream",
     "text": [
      "Loaded decoded: -2.1394169330596924\n"
     ]
    }
   ],
   "source": [
    "dec.fov,dec.set_ = dec.fov_sets[200]\n",
    "dec.load_decoded()"
   ]
  },
  {
   "cell_type": "code",
   "execution_count": 22,
   "id": "dffc8a74",
   "metadata": {},
   "outputs": [
    {
     "name": "stderr",
     "output_type": "stream",
     "text": [
      "C:\\Users\\BintuLabUser\\AppData\\Local\\Temp\\ipykernel_7152\\2065566553.py:11: VisibleDeprecationWarning: Creating an ndarray from ragged nested sequences (which is a list-or-tuple of lists-or-tuples-or ndarrays with different lengths or shapes) is deprecated. If you meant to do this, you must specify 'dtype=object' when creating the ndarray.\n",
      "  dec.immeds = np.array(immeds)\n"
     ]
    }
   ],
   "source": [
    "load_im_meds(dec)"
   ]
  },
  {
   "cell_type": "code",
   "execution_count": 28,
   "id": "eeb416b6",
   "metadata": {},
   "outputs": [],
   "source": []
  },
  {
   "cell_type": "code",
   "execution_count": 48,
   "id": "0d980886",
   "metadata": {},
   "outputs": [],
   "source": []
  },
  {
   "cell_type": "code",
   "execution_count": 49,
   "id": "a882304c",
   "metadata": {},
   "outputs": [
    {
     "data": {
      "text/plain": [
       "array([56164.875     , 57483.734375  , 58647.6875    , ...,\n",
       "         556.73535156,   506.13330078,   502.88232422])"
      ]
     },
     "execution_count": 49,
     "metadata": {},
     "output_type": "execute_result"
    }
   ],
   "source": [
    "dec.XH_pruned[keep][:,-3]"
   ]
  },
  {
   "cell_type": "code",
   "execution_count": 21,
   "id": "e18552b0",
   "metadata": {},
   "outputs": [],
   "source": [
    "def apply_flat_field(dec):\n",
    "    ### load the immeds\n",
    "    Icol = dec.XH_pruned[:,:,-2].astype(int)\n",
    "    uIcols = np.unique(Icol)\n",
    "    dec.ncols = len(uIcols)\n",
    "    save_folder=dec.save_folder#r'\\\\192.168.0.10\\bbfishdc13\\DCBBL1_3_2_2023\\MERFISH_Analysis'\n",
    "    immeds = []\n",
    "    for icol in range(dec.ncols):\n",
    "        dic = np.load(save_folder+os.sep+'med_col'+str(icol)+'.npz')\n",
    "        immed,resc=dic['im'],dic['resc']\n",
    "        immeds.append(immed)\n",
    "    dec.immeds = np.array(immeds)\n",
    "    dec.resc = resc\n",
    "    \n",
    "    ### renormalize the brightness according to flatfield\n",
    "    XH = dec.XH_pruned\n",
    "    Icol = XH[:,:,-2].astype(int)\n",
    "    for icol in range(dec.ncols):\n",
    "        keep = Icol==icol\n",
    "        immed = dec.immeds[icol].copy()\n",
    "        immed = immed/np.median(immed)\n",
    "        x_,y_ = ((XH[keep][:,1:3]/dec.resc).astype(int)%immed.shape).T\n",
    "        dec.XH_pruned[keep][:,-3]=dec.XH_pruned[keep][:,-3]/dec.immeds[icol][x_,y_]"
   ]
  },
  {
   "cell_type": "code",
   "execution_count": 3,
   "id": "d2ad3863",
   "metadata": {},
   "outputs": [
    {
     "data": {
      "text/plain": [
       "'\\\\\\\\192.168.0.10\\\\bbfishdc13\\\\DCBBL1_3_2_2023\\\\MERFISH_Analysis'"
      ]
     },
     "execution_count": 3,
     "metadata": {},
     "output_type": "execute_result"
    }
   ],
   "source": [
    "dec.save_folder"
   ]
  },
  {
   "cell_type": "code",
   "execution_count": null,
   "id": "66c0ccfa",
   "metadata": {},
   "outputs": [],
   "source": []
  }
 ],
 "metadata": {
  "kernelspec": {
   "display_name": "Python 3 (ipykernel)",
   "language": "python",
   "name": "python3"
  },
  "language_info": {
   "codemirror_mode": {
    "name": "ipython",
    "version": 3
   },
   "file_extension": ".py",
   "mimetype": "text/x-python",
   "name": "python",
   "nbconvert_exporter": "python",
   "pygments_lexer": "ipython3",
   "version": "3.8.16"
  }
 },
 "nbformat": 4,
 "nbformat_minor": 5
}
