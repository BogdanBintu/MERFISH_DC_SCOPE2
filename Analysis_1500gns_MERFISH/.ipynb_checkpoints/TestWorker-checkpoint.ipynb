{
 "cells": [
  {
   "cell_type": "code",
   "execution_count": 3,
   "id": "18a65682",
   "metadata": {},
   "outputs": [],
   "source": [
    "from ioMicro import *\n",
    "fls = glob.glob(r'\\\\132.239.200.33\\Raw_data\\DCBB_MER250__12_2_2022_Analysis\\Decoded\\*.npz')"
   ]
  },
  {
   "cell_type": "code",
   "execution_count": 7,
   "id": "4ae4df57",
   "metadata": {},
   "outputs": [
    {
     "data": {
      "text/plain": [
       "160"
      ]
     },
     "execution_count": 7,
     "metadata": {},
     "output_type": "execute_result"
    }
   ],
   "source": [
    "len([fl for fl in fls if 'set4_cts' in fl])"
   ]
  },
  {
   "cell_type": "code",
   "execution_count": 56,
   "id": "b4f88377",
   "metadata": {},
   "outputs": [],
   "source": []
  },
  {
   "cell_type": "code",
   "execution_count": 58,
   "id": "86d2b226",
   "metadata": {},
   "outputs": [
    {
     "name": "stderr",
     "output_type": "stream",
     "text": [
      "100%|████████████████████████████████████████████████████████████████████████████████| 618/618 [06:49<00:00,  1.51it/s]\n"
     ]
    }
   ],
   "source": [
    "fls = glob.glob(r'\\\\132.239.200.33\\Raw_data\\DCBB_MER250__12_2_2022_Analysis\\Decoded2\\*_ctsV2.npz')\n",
    "fls += glob.glob(r'\\\\132.239.200.33\\Raw_data\\DCBB_MER250__12_2_2022_Analysis\\Decoded2\\*_decoded.npz')\n",
    "fls = [fl for fl in fls if 'set1' in fl]\n",
    "import shutil\n",
    "for fl in tqdm(fls):\n",
    "    fl_dest = fl.replace('Decoded2','Decoded').replace('_ctsV2','_cts')\n",
    "    if not os.path.exists(fl_dest):\n",
    "        shutil.copy2(fl,fl_dest)"
   ]
  },
  {
   "cell_type": "code",
   "execution_count": 55,
   "id": "0649e5de",
   "metadata": {},
   "outputs": [
    {
     "name": "stdout",
     "output_type": "stream",
     "text": [
      "\\\\132.239.200.33\\Raw_data\\DCBB_MER250__12_2_2022_Analysis\\Decoded\\Conv_zscan__000--set1_cts.npz\n"
     ]
    }
   ],
   "source": [
    "print(fl_dest)"
   ]
  },
  {
   "cell_type": "code",
   "execution_count": 51,
   "id": "42c56127",
   "metadata": {},
   "outputs": [],
   "source": [
    "??shutil.copy2\n"
   ]
  },
  {
   "cell_type": "code",
   "execution_count": 17,
   "id": "74af156d",
   "metadata": {},
   "outputs": [
    {
     "name": "stderr",
     "output_type": "stream",
     "text": [
      "100%|██████████████████████████████████████████████████████████████████████████████| 1220/1220 [00:16<00:00, 74.98it/s]\n",
      "100%|████████████████████████████████████████████████████████████████████████████████| 910/910 [00:32<00:00, 28.34it/s]\n"
     ]
    }
   ],
   "source": [
    "ctM1,gns_names,cm_cellsf1 = load_ct_data(analysis_folder = r'\\\\132.239.200.33\\Raw_data\\DCBB_MER250__12_2_2022_Analysis',\n",
    "                 data_folder = r'\\\\132.239.200.33\\Raw_data\\DCBB_MER250__12_2_2022\\H1_set*',set_='set1',um_per_pixel = 0.108333,\n",
    "                tag_cts = 'cts_all_pm',tag_fl = r'\\Decoded2\\*_ctsV2.npz')\n",
    "ctM4,gns_names,cm_cellsf4 = load_ct_data(analysis_folder = r'\\\\132.239.200.33\\Raw_data\\DCBB_MER250__12_2_2022_Analysis',\n",
    "                 data_folder = r'\\\\132.239.200.33\\Raw_data\\DCBB_MER250__12_2_2022\\H1_set*',set_='set4',um_per_pixel = 0.108333,\n",
    "                tag_cts = 'cts_all_pm',tag_fl = r'\\Decoded\\*_cts.npz')"
   ]
  },
  {
   "cell_type": "code",
   "execution_count": 22,
   "id": "bc919c7d",
   "metadata": {},
   "outputs": [
    {
     "name": "stdout",
     "output_type": "stream",
     "text": [
      "['4930570B17Rik', 'Abhd2', 'Acer3', 'Acta2', 'Adcy1', 'Adcy2', 'Adgrl3', 'Agt', 'Ahcyl2', 'Aif1l', 'Aldh1a1', 'Aldoc', 'Aqp4', 'Arx', 'Ascl1', 'Atp1a2', 'Atp1b1', 'Auts2', 'Bcl2', 'Bdnf', 'Bmp2', 'Bmp4', 'Brinp3', 'Bsg', 'Bsn', 'Btg2', 'C1qa', 'C1ql1', 'C1ql3', 'Calb1', 'Casp3', 'Casp9', 'Cd14', 'Cd74', 'Cdh12', 'Cdh13', 'Cdh18', 'Chrdl1', 'Clasp1', 'Cldn5', 'Cntnap5b', 'Csmd1', 'Cspg4', 'Cspg5', 'Dcc', 'Dcx', 'Dgat2', 'Dgkb', 'Dgkh', 'Dlx1', 'Dlx2', 'Dpysl3', 'Dsp', 'Efna5', 'Egfem1', 'Eif4a2', 'Elavl3', 'Elavl4', 'Eomes', 'F3', 'Fam107a', 'Fam214a', 'Fbll1', 'Flt1', 'Fos', 'Foxa1', 'Foxa2', 'Frzb', 'Fxyd6', 'Fyn', 'Gabbr1', 'Gabra1', 'Gabra2', 'Gad1', 'Gda', 'Gfap', 'Gja1', 'Gli1', 'Gm11549', 'Gm32647', 'Gnb1', 'Gpc4', 'Gpm6a', 'Gpr17', 'Grb14', 'Grp', 'Hapln2', 'Hdac8', 'Hes5', 'Hmgn3', 'Hs6st3', 'Htt', 'Htt.1', 'Id3', 'Inpp4b', 'Junb', 'Kcnd2', 'Kif4', 'Laptm5', 'Lhx3', 'Lhx6', 'Llgl1', 'Lrp1b', 'Mal', 'Map3k15', 'Mapk4', 'Marcks', 'Mast4', 'Mcm2', 'Mcu', 'Mertk', 'Mfge8', 'Mgat4c', 'Mgl2', 'Mki67', 'Mrc1', 'Mtrf1', 'Myc', 'Myf5', 'Myod1', 'Nckap5', 'Ndst4', 'Necab3', 'Nectin3', 'Nell1', 'Nes', 'Neurod1', 'Neurod2', 'Neurod4', 'Neurod6', 'Neurog1', 'Neurog2', 'Nfia', 'Ngef', 'Nkain2', 'Nkain4', 'Nmb', 'Nnat', 'Nog', 'Notch3', 'Npas3', 'Npy2r', 'Nr3c2', 'Ntf3', 'Ntng1', 'Ntrk2', 'Nxph1', 'Ogt', 'Olig1', 'Olig2', 'Olr1', 'Opalin', 'Pam', 'Pax6', 'Pde10a', 'Pde1a', 'Pdgfra', 'Pex5l', 'Plekha1', 'Plxna1', 'Pnoc', 'Pou3f2', 'Prkg1', 'Prox1', 'Psap', 'Ptbp2', 'Ptgds', 'Rasl10a', 'Rbfox3', 'Rbms3', 'Reln', 'Rest', 'Robo1', 'Rtn4', 'S100b', 'S1pr3', 'Scd2', 'Sdk1', 'Sema3a', 'Sept7', 'Serpinf1', 'Serping1', 'Sgcd', 'Sgcz', 'Sgk1', 'Sin3a', 'Slc1a2', 'Slc1a3', 'Slc2a1', 'Slc5a7', 'Slco1c1', 'Slit2', 'Smarca4', 'Snhg11', 'Sorcs1', 'Sox10', 'Sox11', 'Sox2', 'Sox9', 'Spag5', 'Steap4', 'Stox2', 'Synpr', 'Tardbp', 'Tbr1', 'Tgfb1', 'Thy1', 'Tmem108', 'Top2a', 'Trim2', 'Trps1', 'Tshz2', 'Unc13a', 'Unc13b', 'Unc13c', 'Unc5c', 'Vim', 'Vip', 'Vps13c', 'Wdr17', 'Wfs1', 'Wipf3', 'Zfp36l1', 'blank0001', 'blank0002', 'blank0003', 'blank0004', 'blank0005', 'blank0006', 'blank0007', 'blank0008', 'blank0009', 'blank0010', 'blanke0001', 'blanke0002', 'blanke0003', 'blanke0004', 'blanke0005', 'blanke0006', 'blanke0007', 'blanke0008', 'blanke0009', 'blanke0010', 'blanke0011', 'blanke0012', 'blanke0013', 'blanke0014', 'blanke0015', 'blanke0016', 'blanke0017', 'blanke0018', 'blanke0019', 'blanke0020', 'blanke0021', 'blanke0022', 'blanke0023', 'blanke0024', 'blanke0025', 'blanke0026', 'blanke0027']\n"
     ]
    }
   ],
   "source": [
    "print(list(np.sort(gns_names))[:260])"
   ]
  },
  {
   "cell_type": "code",
   "execution_count": 43,
   "id": "0e919256",
   "metadata": {},
   "outputs": [
    {
     "data": {
      "text/plain": [
       "Viewer(axes=Axes(visible=False, labels=True, colored=True, dashed=False, arrows=True), camera=Camera(center=(0.0, -6013.48261, 825.3916450000002), zoom=0.05401625420849734, angles=(0.0, 0.0, 90.0), perspective=0, interactive=True), cursor=Cursor(position=(1, 1), scaled=True, size=1, style=<CursorStyle.STANDARD: 'standard'>), dims=Dims(ndim=2, ndisplay=2, last_used=0, range=((-9144.932428, -2881.032792, 1.0), (-4090.2583550000004, 5742.041645, 1.0)), current_step=(3133, 4915), order=(0, 1), axis_labels=('0', '1')), grid=GridCanvas(stride=1, shape=(-1, -1), enabled=False), layers=[<Points layer 'Points' at 0x25612bba460>], scale_bar=ScaleBar(visible=False, colored=False, ticks=True, position=<Position.BOTTOM_RIGHT: 'bottom_right'>, font_size=10, unit=None), text_overlay=TextOverlay(visible=False, color=(0.5, 0.5, 0.5, 1.0), font_size=10, position=<TextOverlayPosition.TOP_LEFT: 'top_left'>, text=''), overlays=Overlays(interaction_box=InteractionBox(points=None, show=False, show_handle=False, show_vertices=False, selection_box_drag=None, selection_box_final=None, transform_start=<napari.utils.transforms.transforms.Affine object at 0x000002561E1A6070>, transform_drag=<napari.utils.transforms.transforms.Affine object at 0x000002561E1A6EB0>, transform_final=<napari.utils.transforms.transforms.Affine object at 0x000002561E1A6F70>, transform=<napari.utils.transforms.transforms.Affine object at 0x000002561E1A6EE0>, allow_new_selection=True, selected_vertex=None)), help='', status='Ready', tooltip=Tooltip(visible=False, text=''), theme='dark', title='napari', mouse_move_callbacks=[<function InteractionBoxMouseBindings.initialize_mouse_events.<locals>.mouse_move at 0x0000025612BE3F70>], mouse_drag_callbacks=[<function InteractionBoxMouseBindings.initialize_mouse_events.<locals>.mouse_drag at 0x0000025612BE3B80>], mouse_double_click_callbacks=[], mouse_wheel_callbacks=[<function dims_scroll at 0x000002558AB4A1F0>], _persisted_mouse_event={}, _mouse_drag_gen={}, _mouse_wheel_gen={}, keymap={'Shift': <function InteractionBoxMouseBindings.initialize_key_events.<locals>.hold_to_lock_aspect_ratio at 0x0000025612BE34C0>, 'Control-Shift-R': <function InteractionBoxMouseBindings._reset_active_layer_affine at 0x0000025612BE3940>, 'Control-Shift-A': <function InteractionBoxMouseBindings._transform_active_layer at 0x0000025612BE3280>})"
      ]
     },
     "execution_count": 43,
     "metadata": {},
     "output_type": "execute_result"
    },
    {
     "name": "stdout",
     "output_type": "stream",
     "text": [
      "Cannot find steve\n"
     ]
    }
   ],
   "source": [
    "ctM = np.concatenate([ctM1,ctM4],axis=1)\n",
    "cm_cellsf = np.concatenate([cm_cellsf1,cm_cellsf4],axis=0)\n",
    "\n",
    "igene = list(gns_names).index('Wfs1')\n",
    "from matplotlib import cm as cmap\n",
    "\n",
    "cts = ctM[igene]\n",
    "cts_ = np.clip(cts,0,40)\n",
    "cts_ = cts_/np.max(cts_)\n",
    "sizes = 10+cts_*30\n",
    "colors = cmap.coolwarm(cts_)\n",
    "\n",
    "bads = [ign for ign,gn in enumerate(gns_names) if 'blank' in gn]\n",
    "goods = [ign for ign,gn in enumerate(gns_names) if 'blank' not in gn]\n",
    "keep = np.percentile(ctM[bads],50,axis=0)<10\n",
    "keep&= np.max(ctM[goods],axis=0)>10\n",
    "\n",
    "import napari\n",
    "napari.view_points(cm_cellsf[keep,::-1]*[-1,1],face_color=colors[keep],size=sizes[keep])"
   ]
  },
  {
   "cell_type": "code",
   "execution_count": null,
   "id": "ec3b0834",
   "metadata": {},
   "outputs": [],
   "source": []
  },
  {
   "cell_type": "code",
   "execution_count": null,
   "id": "bec286d9",
   "metadata": {},
   "outputs": [],
   "source": []
  },
  {
   "cell_type": "code",
   "execution_count": null,
   "id": "fd79a1aa",
   "metadata": {},
   "outputs": [],
   "source": []
  },
  {
   "cell_type": "code",
   "execution_count": null,
   "id": "1def3b83",
   "metadata": {},
   "outputs": [],
   "source": [
    "from ioMicro import *\n",
    "fls2 = glob.glob(r'\\\\132.239.200.33\\Raw_data\\DCBB_MER250__12_2_2022_Analysis\\Decoded\\*.npz')"
   ]
  },
  {
   "cell_type": "code",
   "execution_count": null,
   "id": "0a5f89ff",
   "metadata": {},
   "outputs": [],
   "source": [
    "dest = shutil.copy(source, destination)"
   ]
  },
  {
   "cell_type": "code",
   "execution_count": null,
   "id": "d85ff7af",
   "metadata": {},
   "outputs": [],
   "source": []
  },
  {
   "cell_type": "code",
   "execution_count": null,
   "id": "79ae4ab6",
   "metadata": {},
   "outputs": [],
   "source": [
    "from ioMicro import *\n",
    "set_,ifov=('set4',5)#'set1'\n",
    "master_analysis_folder = r'C:\\Users\\Bogdan\\Dropbox\\MERFISH_DC_SCOPE3'\n",
    "### Decoding\n",
    "dec = decoder(analysis_folder = r'\\\\132.239.200.33\\Raw_data\\DCBB_MER250__12_2_2022_Analysis')\n",
    "dec.get_set_ifov(ifov=ifov,set_=set_,keepH = [1,2,3,4,5,6,7,8],ncols=3)\n",
    "if not dec.is_complete:\n",
    "    ### Correct distortion\n",
    "    drift_  = drift_refiner(data_folder=r'\\\\132.239.200.33\\Raw_data\\DCBB_MER250__12_2_2022',\n",
    "                     analysis_folder = r'\\\\132.239.200.33\\Raw_data\\DCBB_MER250__12_2_2022_Analysis')\n",
    "    drift_.get_fov(ifov,set_)\n",
    "    for iR in np.arange(len(drift_.raw_fls)):\n",
    "        analysis_folder_ = drift_.analysis_folder+os.sep+'distortion'\n",
    "        if not os.path.exists(analysis_folder_):os.makedirs(analysis_folder_)\n",
    "        fl_save = analysis_folder_+os.sep+os.path.basename(drift_.raw_fls[0]).split('.')[0]+'--'+drift_.set_+'--iR'+str(iR)+'.npy'\n",
    "        if not os.path.exists(fl_save):\n",
    "            drift_.load_images(iR)\n",
    "            drift_.normalize_ims(zm=30,zM=50)\n",
    "            drift_.get_Tmed(sz_=300,th_cor=0.6,nkeep=9)\n",
    "            try:\n",
    "                P1_,P2_ = drift_.get_P1_P2_plus();\n",
    "                P1__,P2__ = drift_.get_P1_P2_minus();\n",
    "                P1f,P2f = np.concatenate([P1_,P1__]),np.concatenate([P2_,P2__])\n",
    "            except:\n",
    "                P1f,P2f = [],[]\n",
    "\n",
    "            if False:\n",
    "                import napari\n",
    "                viewer = napari.view_image(drift_.im2n,name='im2',colormap='green')\n",
    "                viewer.add_image(drift_.im1n,name='im1',colormap='red')\n",
    "                viewer.add_points(P2_,face_color='g',size=10)\n",
    "                viewer.add_points(P1_,face_color='r',size=10) \n",
    "                drift_.check_transf(P1f,P2f)\n",
    "\n",
    "                print(\"Error:\",np.percentile(np.abs((P1f-P2f)-np.median(P1f-P2f,axis=0)),75,axis=0))\n",
    "                P1fT = drift_.get_Xwarp(P1f,P1f,P2f-P1f,nneigh=50,sgaus=20)\n",
    "                print(\"Error:\",np.percentile(np.abs(P1fT-P2f),75,axis=0))\n",
    "\n",
    "            print(fl_save)\n",
    "            np.save(fl_save,np.array([P1f,P2f]))\n",
    "\n",
    "\n",
    "    print(\"Loading the fitted molecules\")\n",
    "    dec.get_XH()\n",
    "    print(\"Correcting for distortion acrossbits\")\n",
    "    dec.apply_distortion_correction()\n",
    "    dec.load_library(lib_fl=master_analysis_folder+os.sep+'codebook_DCBB250.csv')\n",
    "    dec.XH = dec.XH[dec.XH[:,-4]>0.25]\n",
    "    dec.get_inters(dinstance_th=3)\n",
    "    dec.pick_best_brightness(nUR_cutoff = 3,resample = 10000)\n",
    "    dec.pick_best_score(nUR_cutoff = 3)\n",
    "    #np.savez_compressed(dec.save_file_dec,res_pruned=dec.res_pruned,icodes=dec.icodes,scores_pruned = dec.scores_pruned,Xcms=dec.Xcms)\n",
    "    dec.load_segmentation()\n",
    "    dec.cts_all_pm = dec.get_counts_per_cell(nbad=0)\n",
    "    dec.cts_all = dec.get_counts_per_cell(nbad=1)\n",
    "    #np.savez(dec.save_file_cts,cts_all_pm = dec.cts_all_pm,cts_all = dec.cts_all,gns_names=dec.gns_names,cm_cells=dec.cm_cells)"
   ]
  },
  {
   "cell_type": "code",
   "execution_count": 4,
   "id": "5a992ebb",
   "metadata": {},
   "outputs": [],
   "source": [
    "self = dec\n",
    "files_map = self.analysis_folder+os.sep+'files_map.npz'\n",
    "result = np.load(files_map)\n",
    "self.files,self.dapi_fls = result['files'],result['dapi_fls']"
   ]
  },
  {
   "cell_type": "code",
   "execution_count": 5,
   "id": "8bcee327",
   "metadata": {},
   "outputs": [
    {
     "data": {
      "text/plain": [
       "(array([], dtype=float64),\n",
       " array(['\\\\\\\\132.239.200.33\\\\Raw_data\\\\DCBB_MER250__12_2_2022_Analysis\\\\Segmentation\\\\Conv_zscan__000--H1_set1--dapi_segm.npz',\n",
       "        '\\\\\\\\132.239.200.33\\\\Raw_data\\\\DCBB_MER250__12_2_2022_Analysis\\\\Segmentation\\\\Conv_zscan__000--H1_set2--dapi_segm.npz',\n",
       "        '\\\\\\\\132.239.200.33\\\\Raw_data\\\\DCBB_MER250__12_2_2022_Analysis\\\\Segmentation\\\\Conv_zscan__000--H1_set3--dapi_segm.npz',\n",
       "        ...,\n",
       "        '\\\\\\\\132.239.200.33\\\\Raw_data\\\\DCBB_MER250__12_2_2022_Analysis\\\\Segmentation\\\\Conv_zscan__309--H1_set2--dapi_segm.npz',\n",
       "        '\\\\\\\\132.239.200.33\\\\Raw_data\\\\DCBB_MER250__12_2_2022_Analysis\\\\Segmentation\\\\Conv_zscan__310--H1_set2--dapi_segm.npz',\n",
       "        '\\\\\\\\132.239.200.33\\\\Raw_data\\\\DCBB_MER250__12_2_2022_Analysis\\\\Segmentation\\\\Conv_zscan__311--H1_set2--dapi_segm.npz'],\n",
       "       dtype='<U110'))"
      ]
     },
     "execution_count": 5,
     "metadata": {},
     "output_type": "execute_result"
    }
   ],
   "source": [
    "self.files,self.dapi_fls"
   ]
  },
  {
   "cell_type": "code",
   "execution_count": null,
   "id": "ccca7d73",
   "metadata": {},
   "outputs": [],
   "source": []
  }
 ],
 "metadata": {
  "kernelspec": {
   "display_name": "Python 3 (ipykernel)",
   "language": "python",
   "name": "python3"
  },
  "language_info": {
   "codemirror_mode": {
    "name": "ipython",
    "version": 3
   },
   "file_extension": ".py",
   "mimetype": "text/x-python",
   "name": "python",
   "nbconvert_exporter": "python",
   "pygments_lexer": "ipython3",
   "version": "3.8.16"
  },
  "toc": {
   "base_numbering": 1,
   "nav_menu": {},
   "number_sections": true,
   "sideBar": true,
   "skip_h1_title": false,
   "title_cell": "Table of Contents",
   "title_sidebar": "Contents",
   "toc_cell": false,
   "toc_position": {},
   "toc_section_display": true,
   "toc_window_display": false
  }
 },
 "nbformat": 4,
 "nbformat_minor": 5
}
