{
 "cells": [
  {
   "cell_type": "code",
   "execution_count": 27,
   "id": "afe6cf19",
   "metadata": {},
   "outputs": [],
   "source": [
    "import numpy as np,os,sys,glob\n",
    "import matplotlib.pylab as plt\n",
    "from ioMicro import *"
   ]
  },
  {
   "cell_type": "code",
   "execution_count": null,
   "id": "69088c49",
   "metadata": {},
   "outputs": [],
   "source": []
  },
  {
   "cell_type": "code",
   "execution_count": 45,
   "id": "7b0cc667",
   "metadata": {},
   "outputs": [
    {
     "name": "stdout",
     "output_type": "stream",
     "text": [
      "Found files:731\n",
      "Found hybe folders:53\n",
      "['_set1', '_set2']\n"
     ]
    }
   ],
   "source": [
    "asm = analysis_smFISH(data_folders = [r'Z:\\DCBB_1500gnLib_01_23_2023\\MERFISH',r'Z:\\DCBB_1500gnLib_01_23_2023\\Controls'],\n",
    "                 save_folder =r'Z:\\DCBB_1500gnLib_01_23_2023\\MERFISH_Analysis',\n",
    "                 H0folder=  r'Z:\\DCBB_1500gnLib_01_23_2023\\Controls\\H0*',exclude_H0=False)\n",
    "#fl_save = r'\\\\Bbfishdc9\\bbfishdc9\\DCBBL1_spinal_01_25_2023\\psf_Scope2_25_1p5x_cy3_final.pkl'\n",
    "#dic_psf = pickle.load(open(fl_save,'rb'))\n",
    "sets = np.unique(['_set'+os.path.basename(fld).split('_set')[-1] for fld in asm.Qfolders if '_set' in os.path.basename(fld)])\n",
    "print(list(sets))"
   ]
  },
  {
   "cell_type": "code",
   "execution_count": 50,
   "id": "6d4e98e3",
   "metadata": {},
   "outputs": [],
   "source": [
    "ifov=250\n",
    "asm.set_fov(ifov,set_='_set1')\n",
    "asm.fov =os.path.basename(asm.fl_bk)\n",
    "MERFISH_flds = [fld for fld in asm.Qfolders if asm.set_ in os.path.basename(fld) if 'MERFISH' in fld]\n",
    "ctrl_flds  = [fld for fld in asm.Qfolders if asm.set_ in os.path.basename(fld) if ('PTB' in os.path.basename(fld)) or ('H0' in os.path.basename(fld))]\n",
    "ctrl_flds,MERFISH_flds\n",
    "ims = [read_im(fld+os.sep+asm.fov) for fld in ctrl_flds+MERFISH_flds]\n",
    "ncols,sz,sx,sy = ims[0].shape"
   ]
  },
  {
   "cell_type": "code",
   "execution_count": null,
   "id": "f80d7dea",
   "metadata": {},
   "outputs": [],
   "source": [
    "im_ref = np.array(ims[0][-1],dtype=np.float32)\n",
    "drifts = [get_txyz(im[-1],im_ref,sz_norm=20, sz=300) for im in tqdm(ims)]"
   ]
  },
  {
   "cell_type": "code",
   "execution_count": 75,
   "id": "cb4399c9",
   "metadata": {},
   "outputs": [],
   "source": [
    "drift_fl = asm.save_folder+os.sep+'drift_'+asm.fov.split('.')[0]+'.pkl'\n",
    "pickle.dump([drifts,ctrl_flds+MERFISH_flds,asm.fov],open(drift_fl,'wb'))"
   ]
  },
  {
   "cell_type": "code",
   "execution_count": 79,
   "id": "09ba115f",
   "metadata": {},
   "outputs": [
    {
     "name": "stderr",
     "output_type": "stream",
     "text": [
      "C:\\Users\\BintuLab\\AppData\\Local\\Temp\\ipykernel_12568\\3988061048.py:4: VisibleDeprecationWarning: Creating an ndarray from ragged nested sequences (which is a list-or-tuple of lists-or-tuples-or ndarrays with different lengths or shapes) is deprecated. If you meant to do this, you must specify 'dtype=object' when creating the ndarray.\n",
      "  drifts_ = np.array(drifts)[inds]\n"
     ]
    }
   ],
   "source": [
    "def get_iH(fld): return int(os.path.basename(fld).split('_')[0][1:])\n",
    "inds = np.argsort([get_iH(fld) for fld in ctrl_flds+MERFISH_flds])\n",
    "all_fld = np.array(ctrl_flds+MERFISH_flds)[inds]\n",
    "drifts_ = np.array(drifts)[inds]"
   ]
  },
  {
   "cell_type": "code",
   "execution_count": 60,
   "id": "aa1f6489",
   "metadata": {},
   "outputs": [
    {
     "name": "stderr",
     "output_type": "stream",
     "text": [
      "100%|██████████████████████████████████████████████████████████████████████████████████| 18/18 [07:25<00:00, 24.74s/it]\n"
     ]
    }
   ],
   "source": [
    "ims = [read_im(fld+os.sep+asm.fov) for fld in ctrl_flds+MERFISH_flds]"
   ]
  },
  {
   "cell_type": "code",
   "execution_count": 81,
   "id": "13887dc5",
   "metadata": {},
   "outputs": [],
   "source": [
    "from dask import array as da\n",
    "imf = da.concatenate([da.roll(read_im(fld+os.sep+asm.fov),txyz,axis=[1,2,3]).reshape([1,ncols,sz,sx,sy]) \n",
    "                      for fld,(txyz,txyzs) in zip(all_fld,drifts_)])"
   ]
  },
  {
   "cell_type": "code",
   "execution_count": 87,
   "id": "7bc77930",
   "metadata": {},
   "outputs": [
    {
     "data": {
      "text/plain": [
       "Viewer(axes=Axes(visible=False, labels=True, colored=True, dashed=False, arrows=True), camera=Camera(center=(0.0, 1499.5, 1499.5), zoom=0.37461666666666665, angles=(0.0, 0.0, 90.0), perspective=0.0, interactive=True), cursor=Cursor(position=(1.0, 1.0, 0.0, 0.0, 0.0), scaled=True, size=1, style=<CursorStyle.STANDARD: 'standard'>), dims=Dims(ndim=5, ndisplay=2, last_used=0, range=((0.0, 18.0, 1.0), (0.0, 4.0, 1.0), (0.0, 37.0, 1.0), (0.0, 3000.0, 1.0), (0.0, 3000.0, 1.0)), current_step=(9, 2, 18, 1500, 1500), order=(0, 1, 2, 3, 4), axis_labels=('0', '1', '2', '3', '4')), grid=GridCanvas(stride=1, shape=(-1, -1), enabled=False), layers=[<Image layer 'imf' at 0x13f7c9f9280>], scale_bar=ScaleBar(visible=False, colored=False, ticks=True, position=<Position.BOTTOM_RIGHT: 'bottom_right'>, font_size=10, unit=None), text_overlay=TextOverlay(visible=False, color=(0.5, 0.5, 0.5, 1.0), font_size=10, position=<TextOverlayPosition.TOP_LEFT: 'top_left'>, text=''), overlays=Overlays(interaction_box=InteractionBox(points=None, show=False, show_handle=False, show_vertices=False, selection_box_drag=None, selection_box_final=None, transform_start=<napari.utils.transforms.transforms.Affine object at 0x0000013FF28FDF40>, transform_drag=<napari.utils.transforms.transforms.Affine object at 0x0000013FF28FD040>, transform_final=<napari.utils.transforms.transforms.Affine object at 0x0000013FF28FD160>, transform=<napari.utils.transforms.transforms.Affine object at 0x0000013FF28FD280>, allow_new_selection=True, selected_vertex=None)), help='', status='Ready', tooltip=Tooltip(visible=False, text=''), theme='dark', title='napari', mouse_move_callbacks=[<function InteractionBoxMouseBindings.initialize_mouse_events.<locals>.mouse_move at 0x0000013F7CA2DC10>], mouse_drag_callbacks=[<function InteractionBoxMouseBindings.initialize_mouse_events.<locals>.mouse_drag at 0x0000013F7CA2D790>], mouse_double_click_callbacks=[], mouse_wheel_callbacks=[<function dims_scroll at 0x0000013CECD649D0>], _persisted_mouse_event={}, _mouse_drag_gen={}, _mouse_wheel_gen={}, keymap={'Shift': <function InteractionBoxMouseBindings.initialize_key_events.<locals>.hold_to_lock_aspect_ratio at 0x0000013F7CA2D550>, 'Control-Shift-R': <function InteractionBoxMouseBindings._reset_active_layer_affine at 0x0000013F7CA2D700>, 'Control-Shift-A': <function InteractionBoxMouseBindings._transform_active_layer at 0x0000013F7CA2D670>})"
      ]
     },
     "execution_count": 87,
     "metadata": {},
     "output_type": "execute_result"
    }
   ],
   "source": [
    "import napari\n",
    "napari.view_image(imf)"
   ]
  },
  {
   "cell_type": "code",
   "execution_count": 86,
   "id": "fd2980c6",
   "metadata": {},
   "outputs": [
    {
     "data": {
      "text/plain": [
       "(array([2, 3, 6, 9], dtype=int64), 2)"
      ]
     },
     "execution_count": 86,
     "metadata": {},
     "output_type": "execute_result"
    }
   ],
   "source": [
    "import pandas\n",
    "codebook = pandas.read_csv(r'Z:\\DCBB_1500gnLib_01_23_2023\\MERFISH\\New_DCBB-300_MERFISH_encoding_2_21_2023.csv')\n",
    "import numpy as np\n",
    "code_gene = codebook[codebook['name']=='Ptbp1'].iloc[:,2:]\n",
    "code = np.where(code_gene.iloc[0])[0]\n",
    "icol =code[0]%3 \n",
    "hybes =code//3\n",
    "hybes+2,icol"
   ]
  },
  {
   "cell_type": "code",
   "execution_count": 89,
   "id": "8418803c",
   "metadata": {},
   "outputs": [
    {
     "data": {
      "text/plain": [
       "(array([2, 5, 7, 8], dtype=int64), 0)"
      ]
     },
     "execution_count": 89,
     "metadata": {},
     "output_type": "execute_result"
    }
   ],
   "source": [
    "import pandas\n",
    "codebook = pandas.read_csv(r'Z:\\DCBB_1500gnLib_01_23_2023\\MERFISH\\New_DCBB-300_MERFISH_encoding_2_21_2023.csv')\n",
    "import numpy as np\n",
    "code_gene = codebook[codebook['name']=='Igfbpl1'].iloc[:,2:]\n",
    "code = np.where(code_gene.iloc[0])[0]\n",
    "icol =code[0]%3 \n",
    "hybes =code//3 \n",
    "hybes+2,icol"
   ]
  },
  {
   "cell_type": "code",
   "execution_count": 20,
   "id": "e09a1aad",
   "metadata": {},
   "outputs": [
    {
     "data": {
      "text/plain": [
       "21"
      ]
     },
     "execution_count": 20,
     "metadata": {},
     "output_type": "execute_result"
    }
   ],
   "source": [
    "set_flds = [fld for fld in asm.Qfolders if asm.set_ in os.path.basename(fld)]\n",
    "iPTB = [ifld for ifld,fld in enumerate(set_flds) if 'PTB' in os.path.basename(fld)][0]\n",
    "iPTB"
   ]
  },
  {
   "cell_type": "code",
   "execution_count": 21,
   "id": "3e626aa7",
   "metadata": {},
   "outputs": [
    {
     "name": "stdout",
     "output_type": "stream",
     "text": [
      "### define H0 and load background\n",
      "Background file: Z:\\DCBB_1500gnLib_01_23_2023\\Controls\\H0_set1\\Conv_zscan__250.zarr\n",
      "### load signal\n",
      "Signal file: Z:\\DCBB_1500gnLib_01_23_2023\\Controls\\H1_PTB_set1\\Conv_zscan__250.zarr\n",
      "Found drift:[ 7 -2  5]\n"
     ]
    },
    {
     "ename": "NameError",
     "evalue": "name 'dic_psf' is not defined",
     "output_type": "error",
     "traceback": [
      "\u001b[1;31m---------------------------------------------------------------------------\u001b[0m",
      "\u001b[1;31mNameError\u001b[0m                                 Traceback (most recent call last)",
      "Cell \u001b[1;32mIn[21], line 15\u001b[0m\n\u001b[0;32m      8\u001b[0m \u001b[38;5;66;03m#asm.get_aligned_ims()\u001b[39;00m\n\u001b[0;32m      9\u001b[0m \u001b[38;5;66;03m#imf = asm.im_sig__/asm.im_bk__\u001b[39;00m\n\u001b[0;32m     10\u001b[0m \u001b[38;5;66;03m#resc=5\u001b[39;00m\n\u001b[0;32m     11\u001b[0m \u001b[38;5;66;03m#asm.im_ration = np.array([norm_slice(im_,s=30)/np.median(np.abs(im_[::resc,::resc,::resc])) for im_ in asm.im_sig_])\u001b[39;00m\n\u001b[0;32m     12\u001b[0m \u001b[38;5;66;03m#asm.im_ration = np.array([norm_slice(im_,s=30)/np.median(np.abs(im_[::resc,::resc,::resc])) for im_ in asm.im_sig_])\u001b[39;00m\n\u001b[0;32m     14\u001b[0m asm\u001b[38;5;241m.\u001b[39mdic_th \u001b[38;5;241m=\u001b[39m {\u001b[38;5;241m0\u001b[39m:\u001b[38;5;241m1.25\u001b[39m,\u001b[38;5;241m1\u001b[39m:\u001b[38;5;241m0.5\u001b[39m,\u001b[38;5;241m2\u001b[39m:\u001b[38;5;241m1.25\u001b[39m}\n\u001b[1;32m---> 15\u001b[0m asm\u001b[38;5;241m.\u001b[39mget_Xh(th \u001b[38;5;241m=\u001b[39m \u001b[38;5;241m3\u001b[39m,dic_psf\u001b[38;5;241m=\u001b[39m\u001b[43mdic_psf\u001b[49m)\n\u001b[0;32m     16\u001b[0m asm\u001b[38;5;241m.\u001b[39msave_fits(plt_val\u001b[38;5;241m=\u001b[39m\u001b[38;5;28;01mFalse\u001b[39;00m)\n",
      "\u001b[1;31mNameError\u001b[0m: name 'dic_psf' is not defined"
     ]
    }
   ],
   "source": [
    "asm.set_hybe(iPTB)\n",
    "\n",
    "completed = asm.check_finished_file()\n",
    "if not completed:\n",
    "    asm.get_background(force=False)\n",
    "    asm.get_signal()\n",
    "    asm.compute_drift(sz=300)\n",
    "    #asm.get_aligned_ims()\n",
    "    #imf = asm.im_sig__/asm.im_bk__\n",
    "    #resc=5\n",
    "    #asm.im_ration = np.array([norm_slice(im_,s=30)/np.median(np.abs(im_[::resc,::resc,::resc])) for im_ in asm.im_sig_])\n",
    "    #asm.im_ration = np.array([norm_slice(im_,s=30)/np.median(np.abs(im_[::resc,::resc,::resc])) for im_ in asm.im_sig_])\n",
    "\n",
    "    asm.dic_th = {0:1.25,1:0.5,2:1.25}\n",
    "    asm.get_Xh(th = 3)\n",
    "    asm.save_fits(plt_val=False)"
   ]
  },
  {
   "cell_type": "code",
   "execution_count": 26,
   "id": "ba419d82",
   "metadata": {},
   "outputs": [
    {
     "data": {
      "text/plain": [
       "Viewer(axes=Axes(visible=False, labels=True, colored=True, dashed=False, arrows=True), camera=Camera(center=(0.0, 1499.5, 1499.5), zoom=0.38158333333333333, angles=(0.0, 0.0, 90.0), perspective=0.0, interactive=True), cursor=Cursor(position=(1.0, 1.0, 0.0, 0.0), scaled=True, size=1, style=<CursorStyle.STANDARD: 'standard'>), dims=Dims(ndim=4, ndisplay=2, last_used=0, range=((0.0, 4.0, 1.0), (0.0, 37.0, 1.0), (0.0, 3000.0, 1.0), (0.0, 3000.0, 1.0)), current_step=(2, 18, 1500, 1500), order=(0, 1, 2, 3), axis_labels=('0', '1', '2', '3')), grid=GridCanvas(stride=1, shape=(-1, -1), enabled=False), layers=[<Image layer 'Image' at 0x13cf6fd7ac0>], scale_bar=ScaleBar(visible=False, colored=False, ticks=True, position=<Position.BOTTOM_RIGHT: 'bottom_right'>, font_size=10, unit=None), text_overlay=TextOverlay(visible=False, color=(0.5, 0.5, 0.5, 1.0), font_size=10, position=<TextOverlayPosition.TOP_LEFT: 'top_left'>, text=''), overlays=Overlays(interaction_box=InteractionBox(points=None, show=False, show_handle=False, show_vertices=False, selection_box_drag=None, selection_box_final=None, transform_start=<napari.utils.transforms.transforms.Affine object at 0x0000013CECDDF0D0>, transform_drag=<napari.utils.transforms.transforms.Affine object at 0x0000013CECDDF130>, transform_final=<napari.utils.transforms.transforms.Affine object at 0x0000013CECDDF190>, transform=<napari.utils.transforms.transforms.Affine object at 0x0000013CECDDF1F0>, allow_new_selection=True, selected_vertex=None)), help='', status='Ready', tooltip=Tooltip(visible=False, text=''), theme='dark', title='napari', mouse_move_callbacks=[<function InteractionBoxMouseBindings.initialize_mouse_events.<locals>.mouse_move at 0x0000013CF6D3FF70>], mouse_drag_callbacks=[<function InteractionBoxMouseBindings.initialize_mouse_events.<locals>.mouse_drag at 0x0000013CF6D3FDC0>], mouse_double_click_callbacks=[], mouse_wheel_callbacks=[<function dims_scroll at 0x0000013CECD649D0>], _persisted_mouse_event={}, _mouse_drag_gen={}, _mouse_wheel_gen={}, keymap={'Shift': <function InteractionBoxMouseBindings.initialize_key_events.<locals>.hold_to_lock_aspect_ratio at 0x0000013CF6D3F8B0>, 'Control-Shift-R': <function InteractionBoxMouseBindings._reset_active_layer_affine at 0x0000013CF6CCB310>, 'Control-Shift-A': <function InteractionBoxMouseBindings._transform_active_layer at 0x0000013CF6CCB3A0>})"
      ]
     },
     "execution_count": 26,
     "metadata": {},
     "output_type": "execute_result"
    }
   ],
   "source": [
    "import napari\n",
    "napari.view_image(asm.im_sig_)"
   ]
  },
  {
   "cell_type": "code",
   "execution_count": 22,
   "id": "6b31526b",
   "metadata": {},
   "outputs": [],
   "source": [
    "?asm.get_Xh"
   ]
  },
  {
   "cell_type": "code",
   "execution_count": 16,
   "id": "b7c0f94d",
   "metadata": {},
   "outputs": [
    {
     "data": {
      "text/plain": [
       "['Z:\\\\DCBB_1500gnLib_01_23_2023\\\\MERFISH\\\\H10_MERRep_set1',\n",
       " 'Z:\\\\DCBB_1500gnLib_01_23_2023\\\\MERFISH\\\\H10_MERRep_set2',\n",
       " 'Z:\\\\DCBB_1500gnLib_01_23_2023\\\\MERFISH\\\\H11_MERRep_set1',\n",
       " 'Z:\\\\DCBB_1500gnLib_01_23_2023\\\\MERFISH\\\\H11_MERRep_set2',\n",
       " 'Z:\\\\DCBB_1500gnLib_01_23_2023\\\\MERFISH\\\\H12_MERRep_set1',\n",
       " 'Z:\\\\DCBB_1500gnLib_01_23_2023\\\\MERFISH\\\\H12_MERRep_set2',\n",
       " 'Z:\\\\DCBB_1500gnLib_01_23_2023\\\\MERFISH\\\\H13_MERRep_set1',\n",
       " 'Z:\\\\DCBB_1500gnLib_01_23_2023\\\\MERFISH\\\\H13_MERRep_set2',\n",
       " 'Z:\\\\DCBB_1500gnLib_01_23_2023\\\\MERFISH\\\\H14_MER_set1',\n",
       " 'Z:\\\\DCBB_1500gnLib_01_23_2023\\\\MERFISH\\\\H14_MER_set2',\n",
       " 'Z:\\\\DCBB_1500gnLib_01_23_2023\\\\MERFISH\\\\H15_MER_set1',\n",
       " 'Z:\\\\DCBB_1500gnLib_01_23_2023\\\\MERFISH\\\\H15_MER_set2',\n",
       " 'Z:\\\\DCBB_1500gnLib_01_23_2023\\\\MERFISH\\\\H16_MER_set1',\n",
       " 'Z:\\\\DCBB_1500gnLib_01_23_2023\\\\MERFISH\\\\H16_MER_set2',\n",
       " 'Z:\\\\DCBB_1500gnLib_01_23_2023\\\\MERFISH\\\\H1_MERRep_set1',\n",
       " 'Z:\\\\DCBB_1500gnLib_01_23_2023\\\\MERFISH\\\\H1_MERRep_set2',\n",
       " 'Z:\\\\DCBB_1500gnLib_01_23_2023\\\\MERFISH\\\\H2_MER_set1',\n",
       " 'Z:\\\\DCBB_1500gnLib_01_23_2023\\\\MERFISH\\\\H2_MER_set2',\n",
       " 'Z:\\\\DCBB_1500gnLib_01_23_2023\\\\MERFISH\\\\H3_MER_set1',\n",
       " 'Z:\\\\DCBB_1500gnLib_01_23_2023\\\\MERFISH\\\\H3_MER_set2',\n",
       " 'Z:\\\\DCBB_1500gnLib_01_23_2023\\\\MERFISH\\\\H4_MER_set1',\n",
       " 'Z:\\\\DCBB_1500gnLib_01_23_2023\\\\MERFISH\\\\H4_MER_set2',\n",
       " 'Z:\\\\DCBB_1500gnLib_01_23_2023\\\\MERFISH\\\\H5_MER_set1',\n",
       " 'Z:\\\\DCBB_1500gnLib_01_23_2023\\\\MERFISH\\\\H5_MER_set2',\n",
       " 'Z:\\\\DCBB_1500gnLib_01_23_2023\\\\MERFISH\\\\H6_MER_set1',\n",
       " 'Z:\\\\DCBB_1500gnLib_01_23_2023\\\\MERFISH\\\\H6_MER_set2',\n",
       " 'Z:\\\\DCBB_1500gnLib_01_23_2023\\\\MERFISH\\\\H7_MER_set1',\n",
       " 'Z:\\\\DCBB_1500gnLib_01_23_2023\\\\MERFISH\\\\H7_MER_set2',\n",
       " 'Z:\\\\DCBB_1500gnLib_01_23_2023\\\\MERFISH\\\\H8_MER_set1',\n",
       " 'Z:\\\\DCBB_1500gnLib_01_23_2023\\\\MERFISH\\\\H8_MER_set2',\n",
       " 'Z:\\\\DCBB_1500gnLib_01_23_2023\\\\MERFISH\\\\H9_MERRep_set1',\n",
       " 'Z:\\\\DCBB_1500gnLib_01_23_2023\\\\MERFISH\\\\H9_MERRep_set2',\n",
       " 'Z:\\\\DCBB_1500gnLib_01_23_2023\\\\Controls\\\\H10_MER_set1',\n",
       " 'Z:\\\\DCBB_1500gnLib_01_23_2023\\\\Controls\\\\H10_MER_set2',\n",
       " 'Z:\\\\DCBB_1500gnLib_01_23_2023\\\\Controls\\\\H11_MER_set1',\n",
       " 'Z:\\\\DCBB_1500gnLib_01_23_2023\\\\Controls\\\\H11_MER_set2',\n",
       " 'Z:\\\\DCBB_1500gnLib_01_23_2023\\\\Controls\\\\H12_MER_set1',\n",
       " 'Z:\\\\DCBB_1500gnLib_01_23_2023\\\\Controls\\\\H12_MER_set2',\n",
       " 'Z:\\\\DCBB_1500gnLib_01_23_2023\\\\Controls\\\\H13_MER_set1',\n",
       " 'Z:\\\\DCBB_1500gnLib_01_23_2023\\\\Controls\\\\H1_MER_set1',\n",
       " 'Z:\\\\DCBB_1500gnLib_01_23_2023\\\\Controls\\\\H1_MER_set2',\n",
       " 'Z:\\\\DCBB_1500gnLib_01_23_2023\\\\Controls\\\\H1_PTB_set1',\n",
       " 'Z:\\\\DCBB_1500gnLib_01_23_2023\\\\Controls\\\\H1_PTB_set2',\n",
       " 'Z:\\\\DCBB_1500gnLib_01_23_2023\\\\Controls\\\\H1_Sox11_Rest_Dcx_set1',\n",
       " 'Z:\\\\DCBB_1500gnLib_01_23_2023\\\\Controls\\\\H1_Sox11_Rest_Dcx_set2',\n",
       " 'Z:\\\\DCBB_1500gnLib_01_23_2023\\\\Controls\\\\H2_Ptbp2_Neurod2_Mki67_set1',\n",
       " 'Z:\\\\DCBB_1500gnLib_01_23_2023\\\\Controls\\\\H2_Ptbp2_Neurod2_Mki67_set2',\n",
       " 'Z:\\\\DCBB_1500gnLib_01_23_2023\\\\Controls\\\\H3_Sox11_Rest_Dcx_set1',\n",
       " 'Z:\\\\DCBB_1500gnLib_01_23_2023\\\\Controls\\\\H3_Sox11_Rest_Dcx_set2',\n",
       " 'Z:\\\\DCBB_1500gnLib_01_23_2023\\\\Controls\\\\H9_MER_set1',\n",
       " 'Z:\\\\DCBB_1500gnLib_01_23_2023\\\\Controls\\\\H9_MER_set2']"
      ]
     },
     "execution_count": 16,
     "metadata": {},
     "output_type": "execute_result"
    }
   ],
   "source": [
    "#asm.Qfolders = [asm.Qfolders]\n"
   ]
  },
  {
   "cell_type": "code",
   "execution_count": 8,
   "id": "a4528f3c",
   "metadata": {},
   "outputs": [],
   "source": [
    "?asm.set_fov"
   ]
  },
  {
   "cell_type": "code",
   "execution_count": null,
   "id": "34b5703d",
   "metadata": {},
   "outputs": [],
   "source": [
    "def process_fov(ifov):\n",
    "    asm.set_fov(ifov)\n",
    "    final_segmentation(asm.fl_bk,\n",
    "                        analysis_folder=asm.save_folder,\n",
    "                        plt_val=True,\n",
    "                        rescz = 3,trimz=2, resc=4,p99=850)\n",
    "    if True:\n",
    "        for iQ in range(nQs):\n",
    "\n",
    "            asm.set_hybe(iQ)\n",
    "\n",
    "            completed = asm.check_finished_file()\n",
    "            if not completed:\n",
    "                asm.get_background(force=False)\n",
    "                asm.get_signal()\n",
    "                asm.compute_drift(sz=300)\n",
    "                #asm.get_aligned_ims()\n",
    "                #imf = asm.im_sig__/asm.im_bk__\n",
    "                resc=5\n",
    "                #asm.im_ration = np.array([norm_slice(im_,s=30)/np.median(np.abs(im_[::resc,::resc,::resc])) for im_ in asm.im_sig_])\n",
    "                #asm.im_ration = np.array([norm_slice(im_,s=30)/np.median(np.abs(im_[::resc,::resc,::resc])) for im_ in asm.im_sig_])\n",
    "\n",
    "                asm.dic_th = {0:1.25,1:0.5,2:1.25}\n",
    "                asm.get_Xh(th = 3,dic_psf=dic_psf)\n",
    "                asm.save_fits(plt_val=False)"
   ]
  }
 ],
 "metadata": {
  "kernelspec": {
   "display_name": "Python 3 (ipykernel)",
   "language": "python",
   "name": "python3"
  },
  "language_info": {
   "codemirror_mode": {
    "name": "ipython",
    "version": 3
   },
   "file_extension": ".py",
   "mimetype": "text/x-python",
   "name": "python",
   "nbconvert_exporter": "python",
   "pygments_lexer": "ipython3",
   "version": "3.8.16"
  }
 },
 "nbformat": 4,
 "nbformat_minor": 5
}
