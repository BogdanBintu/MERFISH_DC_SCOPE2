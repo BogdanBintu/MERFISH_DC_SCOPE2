{
 "cells": [
  {
   "cell_type": "code",
   "execution_count": 3,
   "id": "caf35790",
   "metadata": {},
   "outputs": [],
   "source": [
    "import numpy as np,os,sys,glob\n",
    "import matplotlib.pylab as plt\n",
    "from ioMicro import *"
   ]
  },
  {
   "cell_type": "code",
   "execution_count": 7,
   "id": "db87adce",
   "metadata": {},
   "outputs": [
    {
     "name": "stdout",
     "output_type": "stream",
     "text": [
      "Found files:579\n",
      "Found hybe folders:10\n",
      "[]\n"
     ]
    }
   ],
   "source": [
    "asm = analysis_smFISH(data_folders = [r'Z:\\DCBB_human_011823_cs4'],\n",
    "                 save_folder =r'Z:\\DCBB_human_011823_cs4_Analysis',\n",
    "                 H0folder=  r'Z:\\DCBB_human_011823_cs4\\H0*',exclude_H0=True)\n",
    "fl_save = r'\\\\Bbfishdc9\\bbfishdc9\\DCBBL1_spinal_01_25_2023\\psf_Scope2_25_1p5x_cy3_final.pkl'\n",
    "#dic_psf = pickle.load(open(fl_save,'rb'))\n",
    "#sets = np.unique(['_set'+os.path.basename(fld).split('_set')[-1] for fld in asm.Qfolders if '_set' in os.path.basename(fld)])\n",
    "print(list(sets))"
   ]
  },
  {
   "cell_type": "code",
   "execution_count": 11,
   "id": "98930354",
   "metadata": {},
   "outputs": [
    {
     "name": "stdout",
     "output_type": "stream",
     "text": [
      "### define H0 and load background\n",
      "Background file: Z:\\DCBB_human_011823_cs4\\H0_set1\\Conv_zscan__373.zarr\n"
     ]
    },
    {
     "ename": "ModuleNotFoundError",
     "evalue": "No module named 'zarr'",
     "output_type": "error",
     "traceback": [
      "\u001b[1;31m---------------------------------------------------------------------------\u001b[0m",
      "\u001b[1;31mModuleNotFoundError\u001b[0m                       Traceback (most recent call last)",
      "\u001b[1;32m~\\AppData\\Local\\Temp\\ipykernel_7932\\2218417943.py\u001b[0m in \u001b[0;36m<module>\u001b[1;34m\u001b[0m\n\u001b[0;32m      2\u001b[0m \u001b[0miQ\u001b[0m\u001b[1;33m=\u001b[0m\u001b[1;36m0\u001b[0m\u001b[1;33m\u001b[0m\u001b[1;33m\u001b[0m\u001b[0m\n\u001b[0;32m      3\u001b[0m \u001b[0masm\u001b[0m\u001b[1;33m.\u001b[0m\u001b[0mset_hybe\u001b[0m\u001b[1;33m(\u001b[0m\u001b[0miQ\u001b[0m\u001b[1;33m)\u001b[0m\u001b[1;33m\u001b[0m\u001b[1;33m\u001b[0m\u001b[0m\n\u001b[1;32m----> 4\u001b[1;33m \u001b[0masm\u001b[0m\u001b[1;33m.\u001b[0m\u001b[0mget_background\u001b[0m\u001b[1;33m(\u001b[0m\u001b[0mforce\u001b[0m\u001b[1;33m=\u001b[0m\u001b[1;32mFalse\u001b[0m\u001b[1;33m)\u001b[0m\u001b[1;33m\u001b[0m\u001b[1;33m\u001b[0m\u001b[0m\n\u001b[0m\u001b[0;32m      5\u001b[0m \u001b[0masm\u001b[0m\u001b[1;33m.\u001b[0m\u001b[0mget_signal\u001b[0m\u001b[1;33m(\u001b[0m\u001b[1;33m)\u001b[0m\u001b[1;33m\u001b[0m\u001b[1;33m\u001b[0m\u001b[0m\n\u001b[0;32m      6\u001b[0m \u001b[1;31m#            asm.compute_drift(sz=300)\u001b[0m\u001b[1;33m\u001b[0m\u001b[1;33m\u001b[0m\u001b[0m\n",
      "\u001b[1;32m~\\Scope2Analysis_Scripts\\MERFISH2\\Analysis_1500gns_MERFISH\\ioMicro.py\u001b[0m in \u001b[0;36mget_background\u001b[1;34m(self, force)\u001b[0m\n\u001b[0;32m    576\u001b[0m             \u001b[0mprint\u001b[0m\u001b[1;33m(\u001b[0m\u001b[1;34m\"Background file: \"\u001b[0m\u001b[1;33m+\u001b[0m\u001b[0mself\u001b[0m\u001b[1;33m.\u001b[0m\u001b[0mfl_bk\u001b[0m\u001b[1;33m)\u001b[0m\u001b[1;33m\u001b[0m\u001b[1;33m\u001b[0m\u001b[0m\n\u001b[0;32m    577\u001b[0m             \u001b[0mpath0\u001b[0m \u001b[1;33m=\u001b[0m  \u001b[0mself\u001b[0m\u001b[1;33m.\u001b[0m\u001b[0mfl_bk\u001b[0m\u001b[1;33m\u001b[0m\u001b[1;33m\u001b[0m\u001b[0m\n\u001b[1;32m--> 578\u001b[1;33m             \u001b[0mim0\u001b[0m\u001b[1;33m,\u001b[0m\u001b[0mx0\u001b[0m\u001b[1;33m,\u001b[0m\u001b[0my0\u001b[0m\u001b[1;33m=\u001b[0m\u001b[0mread_im\u001b[0m\u001b[1;33m(\u001b[0m\u001b[0mpath0\u001b[0m\u001b[1;33m,\u001b[0m\u001b[0mreturn_pos\u001b[0m\u001b[1;33m=\u001b[0m\u001b[1;32mTrue\u001b[0m\u001b[1;33m)\u001b[0m\u001b[1;33m\u001b[0m\u001b[1;33m\u001b[0m\u001b[0m\n\u001b[0m\u001b[0;32m    579\u001b[0m             \u001b[0mself\u001b[0m\u001b[1;33m.\u001b[0m\u001b[0mim_bk_\u001b[0m \u001b[1;33m=\u001b[0m \u001b[0mnp\u001b[0m\u001b[1;33m.\u001b[0m\u001b[0marray\u001b[0m\u001b[1;33m(\u001b[0m\u001b[0mim0\u001b[0m\u001b[1;33m,\u001b[0m\u001b[0mdtype\u001b[0m\u001b[1;33m=\u001b[0m\u001b[0mnp\u001b[0m\u001b[1;33m.\u001b[0m\u001b[0mfloat32\u001b[0m\u001b[1;33m)\u001b[0m\u001b[1;33m\u001b[0m\u001b[1;33m\u001b[0m\u001b[0m\n\u001b[0;32m    580\u001b[0m             \u001b[0mself\u001b[0m\u001b[1;33m.\u001b[0m\u001b[0mprevious_fl_bk\u001b[0m \u001b[1;33m=\u001b[0m \u001b[0mself\u001b[0m\u001b[1;33m.\u001b[0m\u001b[0mfl_bk\u001b[0m\u001b[1;33m\u001b[0m\u001b[1;33m\u001b[0m\u001b[0m\n",
      "\u001b[1;32m~\\Scope2Analysis_Scripts\\MERFISH2\\Analysis_1500gns_MERFISH\\ioMicro.py\u001b[0m in \u001b[0;36mread_im\u001b[1;34m(path, return_pos)\u001b[0m\n\u001b[0;32m    682\u001b[0m         \u001b[1;32mreturn\u001b[0m \u001b[0mim\u001b[0m\u001b[1;33m.\u001b[0m\u001b[0mastype\u001b[0m\u001b[1;33m(\u001b[0m\u001b[0mnp\u001b[0m\u001b[1;33m.\u001b[0m\u001b[0mfloat32\u001b[0m\u001b[1;33m)\u001b[0m\u001b[1;33m/\u001b[0m\u001b[0mim_med\u001b[0m\u001b[1;33m\u001b[0m\u001b[1;33m\u001b[0m\u001b[0m\n\u001b[0;32m    683\u001b[0m \u001b[1;32mdef\u001b[0m \u001b[0mread_im\u001b[0m\u001b[1;33m(\u001b[0m\u001b[0mpath\u001b[0m\u001b[1;33m,\u001b[0m\u001b[0mreturn_pos\u001b[0m\u001b[1;33m=\u001b[0m\u001b[1;32mFalse\u001b[0m\u001b[1;33m)\u001b[0m\u001b[1;33m:\u001b[0m\u001b[1;33m\u001b[0m\u001b[1;33m\u001b[0m\u001b[0m\n\u001b[1;32m--> 684\u001b[1;33m     \u001b[1;32mimport\u001b[0m \u001b[0mzarr\u001b[0m\u001b[1;33m,\u001b[0m\u001b[0mos\u001b[0m\u001b[1;33m\u001b[0m\u001b[1;33m\u001b[0m\u001b[0m\n\u001b[0m\u001b[0;32m    685\u001b[0m     \u001b[1;32mfrom\u001b[0m \u001b[0mdask\u001b[0m \u001b[1;32mimport\u001b[0m \u001b[0marray\u001b[0m \u001b[1;32mas\u001b[0m \u001b[0mda\u001b[0m\u001b[1;33m\u001b[0m\u001b[1;33m\u001b[0m\u001b[0m\n\u001b[0;32m    686\u001b[0m     \u001b[0mdirname\u001b[0m \u001b[1;33m=\u001b[0m \u001b[0mos\u001b[0m\u001b[1;33m.\u001b[0m\u001b[0mpath\u001b[0m\u001b[1;33m.\u001b[0m\u001b[0mdirname\u001b[0m\u001b[1;33m(\u001b[0m\u001b[0mpath\u001b[0m\u001b[1;33m)\u001b[0m\u001b[1;33m\u001b[0m\u001b[1;33m\u001b[0m\u001b[0m\n",
      "\u001b[1;31mModuleNotFoundError\u001b[0m: No module named 'zarr'"
     ]
    }
   ],
   "source": [
    "asm.set_fov(373,set_='set1')\n",
    "iQ=0\n",
    "asm.set_hybe(iQ)\n",
    "asm.get_background(force=False)\n",
    "asm.get_signal()\n",
    "#            asm.compute_drift(sz=300)\n",
    "#            #asm.get_aligned_ims()\n",
    "#            #imf = asm.im_sig__/asm.im_bk__\n",
    "#            resc=5"
   ]
  },
  {
   "cell_type": "code",
   "execution_count": 9,
   "id": "6d4cb834",
   "metadata": {},
   "outputs": [],
   "source": [
    "??asm.set_fov"
   ]
  },
  {
   "cell_type": "code",
   "execution_count": 21,
   "id": "4b53b9ea",
   "metadata": {},
   "outputs": [],
   "source": [
    "# psfs = np.sort(glob.glob(r'C:\\Users\\BintuLab\\Dropbox\\MNBB_chrX\\MERFISH_from_JellyFISH\\Analyze_Big_Slides\\psf_Bogdan*.npy'))\n",
    "# def get_coords(fl): return tuple(eval(fl.split('_')[-1].split('.')[0]))\n",
    "# dic_psf = {get_coords(psf_fl):np.load(psf_fl) for psf_fl in psfs}\n",
    "# fl_save = r'\\\\Bbfishdc9\\bbfishdc9\\DCBBL1_spinal_01_25_2023\\psf_Scope2_25_1p5x_cy3_final.pkl'\n",
    "# pickle.dump(dic_psf,open(fl_save,'wb'))"
   ]
  },
  {
   "cell_type": "code",
   "execution_count": 8,
   "id": "8c1e42e2",
   "metadata": {},
   "outputs": [],
   "source": []
  },
  {
   "cell_type": "code",
   "execution_count": 27,
   "id": "20a7778b",
   "metadata": {},
   "outputs": [
    {
     "name": "stdout",
     "output_type": "stream",
     "text": [
      "Found files:459\n",
      "Found hybe folders:1\n",
      "[]\n",
      "459 1\n"
     ]
    }
   ],
   "source": [
    "\n",
    "\n",
    "asm = analysis_smFISH(data_folders = [r'\\\\Bbfishdc9\\bbfishdc9\\DCBBL1_spinal_01_25_2023'],\n",
    "                 save_folder =r'\\\\Bbfishdc9\\bbfishdc9\\DCBBL1_spinal_01_25_2023_Analysis',\n",
    "                 H0folder=  r'\\\\Bbfishdc9\\bbfishdc9\\DCBBL1_spinal_01_25_2023\\H1_Ig*',exclude_H0=False)\n",
    "fl_save = r'\\\\Bbfishdc9\\bbfishdc9\\DCBBL1_spinal_01_25_2023\\psf_Scope2_25_1p5x_cy3_final.pkl'\n",
    "dic_psf = pickle.load(open(fl_save,'rb'))\n",
    "sets = np.unique(['_set'+os.path.basename(fld).split('_set')[-1] for fld in asm.Qfolders if '_set' in os.path.basename(fld)])\n",
    "print(list(sets))\n",
    "\n",
    "def process_fov(ifov):\n",
    "    asm.set_fov(ifov)\n",
    "    final_segmentation(asm.fl_bk,\n",
    "                        analysis_folder=asm.save_folder,\n",
    "                        plt_val=True,\n",
    "                        rescz = 3,trimz=2, resc=4,p99=850)\n",
    "    if False:\n",
    "        for iQ in range(nQs):\n",
    "\n",
    "            asm.set_hybe(iQ)\n",
    "\n",
    "            completed = asm.check_finished_file()\n",
    "            if not completed:\n",
    "                asm.get_background(force=False)\n",
    "                asm.get_signal()\n",
    "                asm.compute_drift(sz=300)\n",
    "                #asm.get_aligned_ims()\n",
    "                #imf = asm.im_sig__/asm.im_bk__\n",
    "                resc=5\n",
    "                #asm.im_ration = np.array([norm_slice(im_,s=30)/np.median(np.abs(im_[::resc,::resc,::resc])) for im_ in asm.im_sig_])\n",
    "                #asm.im_ration = np.array([norm_slice(im_,s=30)/np.median(np.abs(im_[::resc,::resc,::resc])) for im_ in asm.im_sig_])\n",
    "\n",
    "                asm.dic_th = {0:1.25,1:0.5,2:1.25}\n",
    "                asm.get_Xh(th = 3,dic_psf=dic_psf)\n",
    "                asm.save_fits(plt_val=False)\n",
    "            \n",
    "            \n",
    "            \n",
    "from tqdm import tqdm\n",
    "asm.set_set('')\n",
    "nfovs = len(asm.fls_bk_)\n",
    "nQs = len([fld for fld in asm.Qfolders if asm.set_ in fld])\n",
    "print(nfovs,nQs)\n",
    "\n"
   ]
  },
  {
   "cell_type": "code",
   "execution_count": null,
   "id": "b447a0f7",
   "metadata": {},
   "outputs": [],
   "source": [
    "for ifov in tqdm(np.arange(nfovs)):\n",
    "    process_fov(ifov)"
   ]
  },
  {
   "cell_type": "code",
   "execution_count": 3,
   "id": "9a727495",
   "metadata": {},
   "outputs": [
    {
     "data": {
      "text/plain": [
       "1219"
      ]
     },
     "execution_count": 3,
     "metadata": {},
     "output_type": "execute_result"
    }
   ],
   "source": [
    "ifov"
   ]
  },
  {
   "cell_type": "code",
   "execution_count": 3,
   "id": "002346e2",
   "metadata": {},
   "outputs": [
    {
     "data": {
      "text/plain": [
       "Viewer(axes=Axes(visible=False, labels=True, colored=True, dashed=False, arrows=True), camera=Camera(center=(0.0, 1399.5, 1399.5), zoom=0.159125, angles=(0.0, 0.0, 90.0), perspective=0.0, interactive=True), cursor=Cursor(position=(1.0, 1.0, 0.0, 0.0), scaled=True, size=1, style=<CursorStyle.STANDARD: 'standard'>), dims=Dims(ndim=4, ndisplay=2, last_used=0, range=((0.0, 4.0, 1.0), (0.0, 37.0, 1.0), (0.0, 2800.0, 1.0), (0.0, 2800.0, 1.0)), current_step=(2, 18, 1400, 1400), order=(0, 1, 2, 3), axis_labels=('0', '1', '2', '3')), grid=GridCanvas(stride=1, shape=(-1, -1), enabled=False), layers=[<Image layer 'im' at 0x1c9d948a130>], scale_bar=ScaleBar(visible=False, colored=False, ticks=True, position=<Position.BOTTOM_RIGHT: 'bottom_right'>, font_size=10, unit=None), text_overlay=TextOverlay(visible=False, color=(0.5, 0.5, 0.5, 1.0), font_size=10, position=<TextOverlayPosition.TOP_LEFT: 'top_left'>, text=''), overlays=Overlays(interaction_box=InteractionBox(points=None, show=False, show_handle=False, show_vertices=False, selection_box_drag=None, selection_box_final=None, transform_start=<napari.utils.transforms.transforms.Affine object at 0x000001C9AB0FE9D0>, transform_drag=<napari.utils.transforms.transforms.Affine object at 0x000001C9AB0FEA30>, transform_final=<napari.utils.transforms.transforms.Affine object at 0x000001C9AB0FEA90>, transform=<napari.utils.transforms.transforms.Affine object at 0x000001C9AB0FEAF0>, allow_new_selection=True, selected_vertex=None)), help='', status='Ready', tooltip=Tooltip(visible=False, text=''), theme='dark', title='napari', mouse_move_callbacks=[<function InteractionBoxMouseBindings.initialize_mouse_events.<locals>.mouse_move at 0x000001C9BC1911F0>], mouse_drag_callbacks=[<function InteractionBoxMouseBindings.initialize_mouse_events.<locals>.mouse_drag at 0x000001C9BC1815E0>], mouse_double_click_callbacks=[], mouse_wheel_callbacks=[<function dims_scroll at 0x000001C9AB077310>], _persisted_mouse_event={}, _mouse_drag_gen={}, _mouse_wheel_gen={}, keymap={'Shift': <function InteractionBoxMouseBindings.initialize_key_events.<locals>.hold_to_lock_aspect_ratio at 0x000001C9BC181AF0>, 'Control-Shift-R': <function InteractionBoxMouseBindings._reset_active_layer_affine at 0x000001C9BA317700>, 'Control-Shift-A': <function InteractionBoxMouseBindings._transform_active_layer at 0x000001C9BA317280>})"
      ]
     },
     "execution_count": 3,
     "metadata": {},
     "output_type": "execute_result"
    },
    {
     "name": "stdout",
     "output_type": "stream",
     "text": [
      "Cannot find steve\n"
     ]
    }
   ],
   "source": [
    "import napari\n",
    "im = read_im(asm.fl_bk)\n",
    "napari.view_image(im)"
   ]
  },
  {
   "cell_type": "code",
   "execution_count": null,
   "id": "c64ebeaf",
   "metadata": {},
   "outputs": [],
   "source": [
    "\n",
    "\n"
   ]
  }
 ],
 "metadata": {
  "kernelspec": {
   "display_name": "Python 3 (ipykernel)",
   "language": "python",
   "name": "python3"
  },
  "language_info": {
   "codemirror_mode": {
    "name": "ipython",
    "version": 3
   },
   "file_extension": ".py",
   "mimetype": "text/x-python",
   "name": "python",
   "nbconvert_exporter": "python",
   "pygments_lexer": "ipython3",
   "version": "3.8.15"
  },
  "toc": {
   "base_numbering": 1,
   "nav_menu": {},
   "number_sections": true,
   "sideBar": true,
   "skip_h1_title": false,
   "title_cell": "Table of Contents",
   "title_sidebar": "Contents",
   "toc_cell": false,
   "toc_position": {},
   "toc_section_display": true,
   "toc_window_display": false
  }
 },
 "nbformat": 4,
 "nbformat_minor": 5
}
