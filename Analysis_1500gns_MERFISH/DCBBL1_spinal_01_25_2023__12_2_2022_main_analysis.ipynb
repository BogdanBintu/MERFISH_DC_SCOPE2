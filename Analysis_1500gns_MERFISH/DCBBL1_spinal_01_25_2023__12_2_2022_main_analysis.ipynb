{
 "cells": [
  {
   "cell_type": "code",
   "execution_count": 1,
   "id": "39a06d51",
   "metadata": {},
   "outputs": [
    {
     "name": "stdout",
     "output_type": "stream",
     "text": [
      "Found files:459\n",
      "Found hybe folders:1\n",
      "[]\n",
      "459 1\n"
     ]
    }
   ],
   "source": [
    "import numpy as np,os,sys,glob\n",
    "import matplotlib.pylab as plt\n",
    "from ioMicro import *\n",
    "\n",
    "asm = analysis_smFISH(data_folders = [r'\\\\Bbfishdc9\\bbfishdc9\\DCBBL1_spinal_01_25_2023'],\n",
    "                 save_folder =r'\\\\Bbfishdc9\\bbfishdc9\\DCBBL1_spinal_01_25_2023_Analysis',\n",
    "                 H0folder=  r'\\\\Bbfishdc9\\bbfishdc9\\DCBBL1_spinal_01_25_2023\\H1_Ig*',exclude_H0=False)\n",
    "fl_save = r'\\\\Bbfishdc9\\bbfishdc9\\DCBBL1_spinal_01_25_2023\\psf_Scope2_25_1p5x_cy3_final.pkl'\n",
    "dic_psf = pickle.load(open(fl_save,'rb'))\n",
    "sets = np.unique(['_set'+os.path.basename(fld).split('_set')[-1] for fld in asm.Qfolders if '_set' in os.path.basename(fld)])\n",
    "print(list(sets))\n",
    "\n",
    "def process_fov(ifov):\n",
    "    asm.set_fov(ifov)\n",
    "#     if False:\n",
    "#         final_segmentation(asm.fl_bk,\n",
    "#                             analysis_folder=asm.save_folder,\n",
    "#                             plt_val=True,\n",
    "#                             rescz = 6,trimz=2, resc=6,p99=650)\n",
    "    for iQ in range(nQs):\n",
    "\n",
    "        asm.set_hybe(iQ)\n",
    "\n",
    "        completed = asm.check_finished_file()\n",
    "        if not completed:\n",
    "            #asm.get_background(force=False)\n",
    "            asm.get_signal()\n",
    "            if asm.fl_bk!=asm.fl: asm.compute_drift(sz=300)\n",
    "            else: asm.dic_drift = {'txyz':[0,0,0],'Ds':[],'drift_fl':asm.fl_bk}\n",
    "            #asm.get_aligned_ims()\n",
    "            #imf = asm.im_sig__/asm.im_bk__\n",
    "            #resc=5\n",
    "            #asm.im_ration = np.array([norm_slice(im_,s=30)/np.median(np.abs(im_[::resc,::resc,::resc])) for im_ in asm.im_sig_])\n",
    "            #asm.im_ration = np.array([norm_slice(im_,s=30)/np.median(np.abs(im_[::resc,::resc,::resc])) for im_ in asm.im_sig_])\n",
    "            \n",
    "            asm.dic_th = {0:1.25,1:0.5,2:1.25}\n",
    "            asm.get_Xh(th = 3,dic_psf=dic_psf)\n",
    "            asm.save_fits(plt_val=False)\n",
    "            \n",
    "            \n",
    "            \n",
    "from tqdm import tqdm\n",
    "asm.set_set('')#'_set'\n",
    "nfovs = len(asm.fls_bk_)\n",
    "nQs = len([fld for fld in asm.Qfolders if asm.set_ in fld])\n",
    "print(nfovs,nQs)\n",
    "\n"
   ]
  },
  {
   "cell_type": "code",
   "execution_count": 105,
   "id": "eccf78ea",
   "metadata": {},
   "outputs": [],
   "source": [
    "# psfs = np.sort(glob.glob(r'C:\\Users\\BintuLab\\Dropbox\\MNBB_chrX\\MERFISH_from_JellyFISH\\Analyze_Big_Slides\\psf_Bogdan*.npy'))\n",
    "# def get_coords(fl): return tuple(eval(fl.split('_')[-1].split('.')[0]))\n",
    "# dic_psf = {get_coords(psf_fl):np.roll(np.load(psf_fl),-1,axis=0) for psf_fl in psfs}\n",
    "# fl_save = r'\\\\Bbfishdc9\\bbfishdc9\\DCBBL1_spinal_01_25_2023\\psf_Scope2_25_1p5x_cy3_final.pkl'\n",
    "# pickle.dump(dic_psf,open(fl_save,'wb'))\n",
    "\n",
    "\n",
    "# fl_save = r'\\\\132.239.197.16\\Raw_data_2\\DCBB_MER250__12_2_2022\\psf_Scope3_60x_cy5_final.pkl'\n",
    "# fl_save = r'\\\\Bbfishdc9\\bbfishdc9\\DCBBL1_spinal_01_25_2023\\psf_Scope2_25_1p5x_cy3_final.pkl'\n",
    "# dic_psf = pickle.load(open(fl_save,'rb'))\n",
    "\n",
    "# im_psf = dic_psf[(0,1200,1200)]\n",
    "# np.unravel_index(np.argmax(im_psf),im_psf.shape)"
   ]
  },
  {
   "cell_type": "code",
   "execution_count": null,
   "id": "d0d66c6e",
   "metadata": {},
   "outputs": [
    {
     "name": "stderr",
     "output_type": "stream",
     "text": [
      "\r",
      "  0%|                                                                                          | 0/459 [00:00<?, ?it/s]"
     ]
    },
    {
     "name": "stdout",
     "output_type": "stream",
     "text": [
      "### load signal\n",
      "Signal file: \\\\Bbfishdc9\\bbfishdc9\\DCBBL1_spinal_01_25_2023\\H1_Igfbpl1,Aldh1l1,Ptbp1\\Conv_zscan__000.zarr\n"
     ]
    },
    {
     "name": "stderr",
     "output_type": "stream",
     "text": [
      "\r",
      "  0%|▏                                                                               | 1/459 [00:31<3:58:40, 31.27s/it]"
     ]
    },
    {
     "name": "stdout",
     "output_type": "stream",
     "text": [
      "### load signal\n",
      "Signal file: \\\\Bbfishdc9\\bbfishdc9\\DCBBL1_spinal_01_25_2023\\H1_Igfbpl1,Aldh1l1,Ptbp1\\Conv_zscan__001.zarr\n"
     ]
    },
    {
     "name": "stderr",
     "output_type": "stream",
     "text": [
      "\r",
      "  0%|▎                                                                               | 2/459 [01:02<3:56:08, 31.00s/it]"
     ]
    },
    {
     "name": "stdout",
     "output_type": "stream",
     "text": [
      "### load signal\n",
      "Signal file: \\\\Bbfishdc9\\bbfishdc9\\DCBBL1_spinal_01_25_2023\\H1_Igfbpl1,Aldh1l1,Ptbp1\\Conv_zscan__002.zarr\n"
     ]
    },
    {
     "name": "stderr",
     "output_type": "stream",
     "text": [
      "\r",
      "  1%|▌                                                                               | 3/459 [01:37<4:09:46, 32.87s/it]"
     ]
    },
    {
     "name": "stdout",
     "output_type": "stream",
     "text": [
      "### load signal\n",
      "Signal file: \\\\Bbfishdc9\\bbfishdc9\\DCBBL1_spinal_01_25_2023\\H1_Igfbpl1,Aldh1l1,Ptbp1\\Conv_zscan__003.zarr\n"
     ]
    },
    {
     "name": "stderr",
     "output_type": "stream",
     "text": [
      "\r",
      "  1%|▋                                                                               | 4/459 [02:20<4:39:11, 36.82s/it]"
     ]
    },
    {
     "name": "stdout",
     "output_type": "stream",
     "text": [
      "### load signal\n",
      "Signal file: \\\\Bbfishdc9\\bbfishdc9\\DCBBL1_spinal_01_25_2023\\H1_Igfbpl1,Aldh1l1,Ptbp1\\Conv_zscan__004.zarr\n"
     ]
    },
    {
     "name": "stderr",
     "output_type": "stream",
     "text": [
      "\r",
      "  1%|▊                                                                               | 5/459 [02:51<4:22:55, 34.75s/it]"
     ]
    },
    {
     "name": "stdout",
     "output_type": "stream",
     "text": [
      "### load signal\n",
      "Signal file: \\\\Bbfishdc9\\bbfishdc9\\DCBBL1_spinal_01_25_2023\\H1_Igfbpl1,Aldh1l1,Ptbp1\\Conv_zscan__005.zarr\n"
     ]
    },
    {
     "name": "stderr",
     "output_type": "stream",
     "text": [
      "\r",
      "  1%|█                                                                               | 6/459 [03:46<5:14:29, 41.65s/it]"
     ]
    },
    {
     "name": "stdout",
     "output_type": "stream",
     "text": [
      "### load signal\n",
      "Signal file: \\\\Bbfishdc9\\bbfishdc9\\DCBBL1_spinal_01_25_2023\\H1_Igfbpl1,Aldh1l1,Ptbp1\\Conv_zscan__006.zarr\n"
     ]
    },
    {
     "name": "stderr",
     "output_type": "stream",
     "text": [
      "\r",
      "  2%|█▏                                                                              | 7/459 [04:20<4:56:20, 39.34s/it]"
     ]
    },
    {
     "name": "stdout",
     "output_type": "stream",
     "text": [
      "### load signal\n",
      "Signal file: \\\\Bbfishdc9\\bbfishdc9\\DCBBL1_spinal_01_25_2023\\H1_Igfbpl1,Aldh1l1,Ptbp1\\Conv_zscan__007.zarr\n"
     ]
    },
    {
     "name": "stderr",
     "output_type": "stream",
     "text": [
      "\r",
      "  2%|█▍                                                                              | 8/459 [04:52<4:36:27, 36.78s/it]"
     ]
    },
    {
     "name": "stdout",
     "output_type": "stream",
     "text": [
      "### load signal\n",
      "Signal file: \\\\Bbfishdc9\\bbfishdc9\\DCBBL1_spinal_01_25_2023\\H1_Igfbpl1,Aldh1l1,Ptbp1\\Conv_zscan__008.zarr\n"
     ]
    },
    {
     "name": "stderr",
     "output_type": "stream",
     "text": [
      "\r",
      "  2%|█▌                                                                              | 9/459 [05:21<4:18:15, 34.43s/it]"
     ]
    },
    {
     "name": "stdout",
     "output_type": "stream",
     "text": [
      "### load signal\n",
      "Signal file: \\\\Bbfishdc9\\bbfishdc9\\DCBBL1_spinal_01_25_2023\\H1_Igfbpl1,Aldh1l1,Ptbp1\\Conv_zscan__009.zarr\n"
     ]
    },
    {
     "name": "stderr",
     "output_type": "stream",
     "text": [
      "\r",
      "  2%|█▋                                                                             | 10/459 [06:19<5:12:19, 41.74s/it]"
     ]
    },
    {
     "name": "stdout",
     "output_type": "stream",
     "text": [
      "### load signal\n",
      "Signal file: \\\\Bbfishdc9\\bbfishdc9\\DCBBL1_spinal_01_25_2023\\H1_Igfbpl1,Aldh1l1,Ptbp1\\Conv_zscan__010.zarr\n"
     ]
    },
    {
     "name": "stderr",
     "output_type": "stream",
     "text": [
      "\r",
      "  2%|█▉                                                                             | 11/459 [06:55<4:58:32, 39.98s/it]"
     ]
    },
    {
     "name": "stdout",
     "output_type": "stream",
     "text": [
      "### load signal\n",
      "Signal file: \\\\Bbfishdc9\\bbfishdc9\\DCBBL1_spinal_01_25_2023\\H1_Igfbpl1,Aldh1l1,Ptbp1\\Conv_zscan__011.zarr\n"
     ]
    },
    {
     "name": "stderr",
     "output_type": "stream",
     "text": [
      "\r",
      "  3%|██                                                                             | 12/459 [07:25<4:36:11, 37.07s/it]"
     ]
    },
    {
     "name": "stdout",
     "output_type": "stream",
     "text": [
      "### load signal\n",
      "Signal file: \\\\Bbfishdc9\\bbfishdc9\\DCBBL1_spinal_01_25_2023\\H1_Igfbpl1,Aldh1l1,Ptbp1\\Conv_zscan__012.zarr\n"
     ]
    },
    {
     "name": "stderr",
     "output_type": "stream",
     "text": [
      "\r",
      "  3%|██▏                                                                            | 13/459 [08:20<5:14:50, 42.36s/it]"
     ]
    },
    {
     "name": "stdout",
     "output_type": "stream",
     "text": [
      "### load signal\n",
      "Signal file: \\\\Bbfishdc9\\bbfishdc9\\DCBBL1_spinal_01_25_2023\\H1_Igfbpl1,Aldh1l1,Ptbp1\\Conv_zscan__013.zarr\n"
     ]
    },
    {
     "name": "stderr",
     "output_type": "stream",
     "text": [
      "\r",
      "  3%|██▍                                                                            | 14/459 [09:03<5:15:41, 42.57s/it]"
     ]
    },
    {
     "name": "stdout",
     "output_type": "stream",
     "text": [
      "### load signal\n",
      "Signal file: \\\\Bbfishdc9\\bbfishdc9\\DCBBL1_spinal_01_25_2023\\H1_Igfbpl1,Aldh1l1,Ptbp1\\Conv_zscan__014.zarr\n"
     ]
    },
    {
     "name": "stderr",
     "output_type": "stream",
     "text": [
      "\r",
      "  3%|██▌                                                                            | 15/459 [09:40<5:02:01, 40.81s/it]"
     ]
    },
    {
     "name": "stdout",
     "output_type": "stream",
     "text": [
      "### load signal\n",
      "Signal file: \\\\Bbfishdc9\\bbfishdc9\\DCBBL1_spinal_01_25_2023\\H1_Igfbpl1,Aldh1l1,Ptbp1\\Conv_zscan__015.zarr\n"
     ]
    },
    {
     "name": "stderr",
     "output_type": "stream",
     "text": [
      "\r",
      "  3%|██▊                                                                            | 16/459 [10:13<4:45:22, 38.65s/it]"
     ]
    },
    {
     "name": "stdout",
     "output_type": "stream",
     "text": [
      "### load signal\n",
      "Signal file: \\\\Bbfishdc9\\bbfishdc9\\DCBBL1_spinal_01_25_2023\\H1_Igfbpl1,Aldh1l1,Ptbp1\\Conv_zscan__016.zarr\n"
     ]
    },
    {
     "name": "stderr",
     "output_type": "stream",
     "text": [
      "\r",
      "  4%|██▉                                                                            | 17/459 [10:52<4:45:57, 38.82s/it]"
     ]
    },
    {
     "name": "stdout",
     "output_type": "stream",
     "text": [
      "### load signal\n",
      "Signal file: \\\\Bbfishdc9\\bbfishdc9\\DCBBL1_spinal_01_25_2023\\H1_Igfbpl1,Aldh1l1,Ptbp1\\Conv_zscan__017.zarr\n"
     ]
    },
    {
     "name": "stderr",
     "output_type": "stream",
     "text": [
      "\r",
      "  4%|███                                                                            | 18/459 [11:28<4:37:02, 37.69s/it]"
     ]
    },
    {
     "name": "stdout",
     "output_type": "stream",
     "text": [
      "### load signal\n",
      "Signal file: \\\\Bbfishdc9\\bbfishdc9\\DCBBL1_spinal_01_25_2023\\H1_Igfbpl1,Aldh1l1,Ptbp1\\Conv_zscan__018.zarr\n"
     ]
    },
    {
     "name": "stderr",
     "output_type": "stream",
     "text": [
      "\r",
      "  4%|███▎                                                                           | 19/459 [11:59<4:21:47, 35.70s/it]"
     ]
    },
    {
     "name": "stdout",
     "output_type": "stream",
     "text": [
      "### load signal\n",
      "Signal file: \\\\Bbfishdc9\\bbfishdc9\\DCBBL1_spinal_01_25_2023\\H1_Igfbpl1,Aldh1l1,Ptbp1\\Conv_zscan__019.zarr\n"
     ]
    },
    {
     "name": "stderr",
     "output_type": "stream",
     "text": [
      "\r",
      "  4%|███▍                                                                           | 20/459 [12:30<4:10:45, 34.27s/it]"
     ]
    },
    {
     "name": "stdout",
     "output_type": "stream",
     "text": [
      "### load signal\n",
      "Signal file: \\\\Bbfishdc9\\bbfishdc9\\DCBBL1_spinal_01_25_2023\\H1_Igfbpl1,Aldh1l1,Ptbp1\\Conv_zscan__021.zarr\n"
     ]
    },
    {
     "name": "stderr",
     "output_type": "stream",
     "text": [
      "\r",
      "  5%|███▊                                                                           | 22/459 [13:20<3:38:40, 30.02s/it]"
     ]
    },
    {
     "name": "stdout",
     "output_type": "stream",
     "text": [
      "### load signal\n",
      "Signal file: \\\\Bbfishdc9\\bbfishdc9\\DCBBL1_spinal_01_25_2023\\H1_Igfbpl1,Aldh1l1,Ptbp1\\Conv_zscan__022.zarr\n"
     ]
    },
    {
     "name": "stderr",
     "output_type": "stream",
     "text": [
      "\r",
      "  5%|███▉                                                                           | 23/459 [13:54<3:45:37, 31.05s/it]"
     ]
    },
    {
     "name": "stdout",
     "output_type": "stream",
     "text": [
      "### load signal\n",
      "Signal file: \\\\Bbfishdc9\\bbfishdc9\\DCBBL1_spinal_01_25_2023\\H1_Igfbpl1,Aldh1l1,Ptbp1\\Conv_zscan__023.zarr\n"
     ]
    },
    {
     "name": "stderr",
     "output_type": "stream",
     "text": [
      "\r",
      "  5%|████▏                                                                          | 24/459 [14:24<3:43:49, 30.87s/it]"
     ]
    },
    {
     "name": "stdout",
     "output_type": "stream",
     "text": [
      "### load signal\n",
      "Signal file: \\\\Bbfishdc9\\bbfishdc9\\DCBBL1_spinal_01_25_2023\\H1_Igfbpl1,Aldh1l1,Ptbp1\\Conv_zscan__024.zarr\n"
     ]
    },
    {
     "name": "stderr",
     "output_type": "stream",
     "text": [
      "\r",
      "  5%|████▎                                                                          | 25/459 [15:00<3:52:52, 32.20s/it]"
     ]
    },
    {
     "name": "stdout",
     "output_type": "stream",
     "text": [
      "### load signal\n",
      "Signal file: \\\\Bbfishdc9\\bbfishdc9\\DCBBL1_spinal_01_25_2023\\H1_Igfbpl1,Aldh1l1,Ptbp1\\Conv_zscan__025.zarr\n"
     ]
    },
    {
     "name": "stderr",
     "output_type": "stream",
     "text": [
      "\r",
      "  6%|████▍                                                                          | 26/459 [15:35<3:57:06, 32.86s/it]"
     ]
    },
    {
     "name": "stdout",
     "output_type": "stream",
     "text": [
      "### load signal\n",
      "Signal file: \\\\Bbfishdc9\\bbfishdc9\\DCBBL1_spinal_01_25_2023\\H1_Igfbpl1,Aldh1l1,Ptbp1\\Conv_zscan__026.zarr\n"
     ]
    },
    {
     "name": "stderr",
     "output_type": "stream",
     "text": [
      "\r",
      "  6%|████▋                                                                          | 27/459 [16:27<4:36:14, 38.37s/it]"
     ]
    },
    {
     "name": "stdout",
     "output_type": "stream",
     "text": [
      "### load signal\n",
      "Signal file: \\\\Bbfishdc9\\bbfishdc9\\DCBBL1_spinal_01_25_2023\\H1_Igfbpl1,Aldh1l1,Ptbp1\\Conv_zscan__027.zarr\n"
     ]
    },
    {
     "name": "stderr",
     "output_type": "stream",
     "text": [
      "\r",
      "  6%|████▊                                                                          | 28/459 [17:01<4:28:12, 37.34s/it]"
     ]
    },
    {
     "name": "stdout",
     "output_type": "stream",
     "text": [
      "### load signal\n",
      "Signal file: \\\\Bbfishdc9\\bbfishdc9\\DCBBL1_spinal_01_25_2023\\H1_Igfbpl1,Aldh1l1,Ptbp1\\Conv_zscan__028.zarr\n"
     ]
    },
    {
     "name": "stderr",
     "output_type": "stream",
     "text": [
      "\r",
      "  6%|████▉                                                                          | 29/459 [17:33<4:15:35, 35.66s/it]"
     ]
    },
    {
     "name": "stdout",
     "output_type": "stream",
     "text": [
      "### load signal\n",
      "Signal file: \\\\Bbfishdc9\\bbfishdc9\\DCBBL1_spinal_01_25_2023\\H1_Igfbpl1,Aldh1l1,Ptbp1\\Conv_zscan__029.zarr\n"
     ]
    },
    {
     "name": "stderr",
     "output_type": "stream",
     "text": [
      "\r",
      "  7%|█████▏                                                                         | 30/459 [18:20<4:37:44, 38.84s/it]"
     ]
    },
    {
     "name": "stdout",
     "output_type": "stream",
     "text": [
      "### load signal\n",
      "Signal file: \\\\Bbfishdc9\\bbfishdc9\\DCBBL1_spinal_01_25_2023\\H1_Igfbpl1,Aldh1l1,Ptbp1\\Conv_zscan__030.zarr\n"
     ]
    },
    {
     "name": "stderr",
     "output_type": "stream",
     "text": [
      "\r",
      "  7%|█████▎                                                                         | 31/459 [18:54<4:28:30, 37.64s/it]"
     ]
    },
    {
     "name": "stdout",
     "output_type": "stream",
     "text": [
      "### load signal\n",
      "Signal file: \\\\Bbfishdc9\\bbfishdc9\\DCBBL1_spinal_01_25_2023\\H1_Igfbpl1,Aldh1l1,Ptbp1\\Conv_zscan__031.zarr\n"
     ]
    },
    {
     "name": "stderr",
     "output_type": "stream",
     "text": [
      "\r",
      "  7%|█████▌                                                                         | 32/459 [19:47<5:00:28, 42.22s/it]"
     ]
    },
    {
     "name": "stdout",
     "output_type": "stream",
     "text": [
      "### load signal\n",
      "Signal file: \\\\Bbfishdc9\\bbfishdc9\\DCBBL1_spinal_01_25_2023\\H1_Igfbpl1,Aldh1l1,Ptbp1\\Conv_zscan__032.zarr\n"
     ]
    },
    {
     "name": "stderr",
     "output_type": "stream",
     "text": [
      "\r",
      "  7%|█████▋                                                                         | 33/459 [20:24<4:48:54, 40.69s/it]"
     ]
    },
    {
     "name": "stdout",
     "output_type": "stream",
     "text": [
      "### load signal\n",
      "Signal file: \\\\Bbfishdc9\\bbfishdc9\\DCBBL1_spinal_01_25_2023\\H1_Igfbpl1,Aldh1l1,Ptbp1\\Conv_zscan__033.zarr\n"
     ]
    },
    {
     "name": "stderr",
     "output_type": "stream",
     "text": [
      "\r",
      "  7%|█████▊                                                                         | 34/459 [21:00<4:38:14, 39.28s/it]"
     ]
    },
    {
     "name": "stdout",
     "output_type": "stream",
     "text": [
      "### load signal\n",
      "Signal file: \\\\Bbfishdc9\\bbfishdc9\\DCBBL1_spinal_01_25_2023\\H1_Igfbpl1,Aldh1l1,Ptbp1\\Conv_zscan__034.zarr\n"
     ]
    },
    {
     "name": "stderr",
     "output_type": "stream",
     "text": [
      "\r",
      "  8%|██████                                                                         | 35/459 [21:32<4:21:12, 36.96s/it]"
     ]
    },
    {
     "name": "stdout",
     "output_type": "stream",
     "text": [
      "### load signal\n",
      "Signal file: \\\\Bbfishdc9\\bbfishdc9\\DCBBL1_spinal_01_25_2023\\H1_Igfbpl1,Aldh1l1,Ptbp1\\Conv_zscan__035.zarr\n"
     ]
    },
    {
     "name": "stderr",
     "output_type": "stream",
     "text": [
      "\r",
      "  8%|██████▏                                                                        | 36/459 [22:06<4:13:29, 35.96s/it]"
     ]
    },
    {
     "name": "stdout",
     "output_type": "stream",
     "text": [
      "### load signal\n",
      "Signal file: \\\\Bbfishdc9\\bbfishdc9\\DCBBL1_spinal_01_25_2023\\H1_Igfbpl1,Aldh1l1,Ptbp1\\Conv_zscan__036.zarr\n"
     ]
    },
    {
     "name": "stderr",
     "output_type": "stream",
     "text": [
      "\r",
      "  8%|██████▎                                                                        | 37/459 [22:35<3:59:25, 34.04s/it]"
     ]
    },
    {
     "name": "stdout",
     "output_type": "stream",
     "text": [
      "### load signal\n",
      "Signal file: \\\\Bbfishdc9\\bbfishdc9\\DCBBL1_spinal_01_25_2023\\H1_Igfbpl1,Aldh1l1,Ptbp1\\Conv_zscan__037.zarr\n"
     ]
    },
    {
     "name": "stderr",
     "output_type": "stream",
     "text": [
      "\r",
      "  8%|██████▌                                                                        | 38/459 [23:04<3:48:52, 32.62s/it]"
     ]
    },
    {
     "name": "stdout",
     "output_type": "stream",
     "text": [
      "### load signal\n",
      "Signal file: \\\\Bbfishdc9\\bbfishdc9\\DCBBL1_spinal_01_25_2023\\H1_Igfbpl1,Aldh1l1,Ptbp1\\Conv_zscan__038.zarr\n"
     ]
    },
    {
     "name": "stderr",
     "output_type": "stream",
     "text": [
      "\r",
      "  8%|██████▋                                                                        | 39/459 [23:35<3:43:17, 31.90s/it]"
     ]
    },
    {
     "name": "stdout",
     "output_type": "stream",
     "text": [
      "### load signal\n",
      "Signal file: \\\\Bbfishdc9\\bbfishdc9\\DCBBL1_spinal_01_25_2023\\H1_Igfbpl1,Aldh1l1,Ptbp1\\Conv_zscan__039.zarr\n"
     ]
    },
    {
     "name": "stderr",
     "output_type": "stream",
     "text": [
      "\r",
      "  9%|██████▉                                                                        | 40/459 [24:04<3:37:26, 31.14s/it]"
     ]
    },
    {
     "name": "stdout",
     "output_type": "stream",
     "text": [
      "### load signal\n",
      "Signal file: \\\\Bbfishdc9\\bbfishdc9\\DCBBL1_spinal_01_25_2023\\H1_Igfbpl1,Aldh1l1,Ptbp1\\Conv_zscan__040.zarr\n"
     ]
    },
    {
     "name": "stderr",
     "output_type": "stream",
     "text": [
      "\r",
      "  9%|███████                                                                        | 41/459 [24:36<3:38:13, 31.32s/it]"
     ]
    },
    {
     "name": "stdout",
     "output_type": "stream",
     "text": [
      "### load signal\n",
      "Signal file: \\\\Bbfishdc9\\bbfishdc9\\DCBBL1_spinal_01_25_2023\\H1_Igfbpl1,Aldh1l1,Ptbp1\\Conv_zscan__041.zarr\n"
     ]
    },
    {
     "name": "stderr",
     "output_type": "stream",
     "text": [
      "\r",
      "  9%|███████▏                                                                       | 42/459 [25:19<4:02:25, 34.88s/it]"
     ]
    },
    {
     "name": "stdout",
     "output_type": "stream",
     "text": [
      "### load signal\n",
      "Signal file: \\\\Bbfishdc9\\bbfishdc9\\DCBBL1_spinal_01_25_2023\\H1_Igfbpl1,Aldh1l1,Ptbp1\\Conv_zscan__042.zarr\n"
     ]
    },
    {
     "name": "stderr",
     "output_type": "stream",
     "text": [
      "\r",
      "  9%|███████▍                                                                       | 43/459 [25:49<3:51:06, 33.33s/it]"
     ]
    },
    {
     "name": "stdout",
     "output_type": "stream",
     "text": [
      "### load signal\n",
      "Signal file: \\\\Bbfishdc9\\bbfishdc9\\DCBBL1_spinal_01_25_2023\\H1_Igfbpl1,Aldh1l1,Ptbp1\\Conv_zscan__043.zarr\n"
     ]
    },
    {
     "name": "stderr",
     "output_type": "stream",
     "text": [
      "\r",
      " 10%|███████▌                                                                       | 44/459 [26:45<4:38:42, 40.29s/it]"
     ]
    },
    {
     "name": "stdout",
     "output_type": "stream",
     "text": [
      "### load signal\n",
      "Signal file: \\\\Bbfishdc9\\bbfishdc9\\DCBBL1_spinal_01_25_2023\\H1_Igfbpl1,Aldh1l1,Ptbp1\\Conv_zscan__044.zarr\n"
     ]
    },
    {
     "name": "stderr",
     "output_type": "stream",
     "text": [
      "\r",
      " 10%|███████▋                                                                       | 45/459 [27:33<4:52:50, 42.44s/it]"
     ]
    },
    {
     "name": "stdout",
     "output_type": "stream",
     "text": [
      "### load signal\n",
      "Signal file: \\\\Bbfishdc9\\bbfishdc9\\DCBBL1_spinal_01_25_2023\\H1_Igfbpl1,Aldh1l1,Ptbp1\\Conv_zscan__045.zarr\n"
     ]
    },
    {
     "name": "stderr",
     "output_type": "stream",
     "text": [
      "\r",
      " 10%|███████▉                                                                       | 46/459 [28:19<5:01:08, 43.75s/it]"
     ]
    },
    {
     "name": "stdout",
     "output_type": "stream",
     "text": [
      "### load signal\n",
      "Signal file: \\\\Bbfishdc9\\bbfishdc9\\DCBBL1_spinal_01_25_2023\\H1_Igfbpl1,Aldh1l1,Ptbp1\\Conv_zscan__046.zarr\n"
     ]
    },
    {
     "name": "stderr",
     "output_type": "stream",
     "text": [
      "\r",
      " 10%|████████                                                                       | 47/459 [29:13<5:21:15, 46.78s/it]"
     ]
    },
    {
     "name": "stdout",
     "output_type": "stream",
     "text": [
      "### load signal\n",
      "Signal file: \\\\Bbfishdc9\\bbfishdc9\\DCBBL1_spinal_01_25_2023\\H1_Igfbpl1,Aldh1l1,Ptbp1\\Conv_zscan__047.zarr\n"
     ]
    },
    {
     "name": "stderr",
     "output_type": "stream",
     "text": [
      "\r",
      " 10%|████████▎                                                                      | 48/459 [30:06<5:31:39, 48.42s/it]"
     ]
    },
    {
     "name": "stdout",
     "output_type": "stream",
     "text": [
      "### load signal\n",
      "Signal file: \\\\Bbfishdc9\\bbfishdc9\\DCBBL1_spinal_01_25_2023\\H1_Igfbpl1,Aldh1l1,Ptbp1\\Conv_zscan__048.zarr\n"
     ]
    },
    {
     "name": "stderr",
     "output_type": "stream",
     "text": [
      "\r",
      " 11%|████████▍                                                                      | 49/459 [30:41<5:05:06, 44.65s/it]"
     ]
    },
    {
     "name": "stdout",
     "output_type": "stream",
     "text": [
      "### load signal\n",
      "Signal file: \\\\Bbfishdc9\\bbfishdc9\\DCBBL1_spinal_01_25_2023\\H1_Igfbpl1,Aldh1l1,Ptbp1\\Conv_zscan__049.zarr\n"
     ]
    },
    {
     "name": "stderr",
     "output_type": "stream",
     "text": [
      "\r",
      " 11%|████████▌                                                                      | 50/459 [31:24<4:59:40, 43.96s/it]"
     ]
    },
    {
     "name": "stdout",
     "output_type": "stream",
     "text": [
      "### load signal\n",
      "Signal file: \\\\Bbfishdc9\\bbfishdc9\\DCBBL1_spinal_01_25_2023\\H1_Igfbpl1,Aldh1l1,Ptbp1\\Conv_zscan__050.zarr\n"
     ]
    },
    {
     "name": "stderr",
     "output_type": "stream",
     "text": [
      "\r",
      " 11%|████████▊                                                                      | 51/459 [31:57<4:36:55, 40.72s/it]"
     ]
    },
    {
     "name": "stdout",
     "output_type": "stream",
     "text": [
      "### load signal\n",
      "Signal file: \\\\Bbfishdc9\\bbfishdc9\\DCBBL1_spinal_01_25_2023\\H1_Igfbpl1,Aldh1l1,Ptbp1\\Conv_zscan__051.zarr\n"
     ]
    },
    {
     "name": "stderr",
     "output_type": "stream",
     "text": [
      "\r",
      " 11%|████████▉                                                                      | 52/459 [32:28<4:16:15, 37.78s/it]"
     ]
    },
    {
     "name": "stdout",
     "output_type": "stream",
     "text": [
      "### load signal\n",
      "Signal file: \\\\Bbfishdc9\\bbfishdc9\\DCBBL1_spinal_01_25_2023\\H1_Igfbpl1,Aldh1l1,Ptbp1\\Conv_zscan__052.zarr\n"
     ]
    },
    {
     "name": "stderr",
     "output_type": "stream",
     "text": [
      "\r",
      " 12%|█████████                                                                      | 53/459 [33:24<4:53:10, 43.33s/it]"
     ]
    },
    {
     "name": "stdout",
     "output_type": "stream",
     "text": [
      "### load signal\n",
      "Signal file: \\\\Bbfishdc9\\bbfishdc9\\DCBBL1_spinal_01_25_2023\\H1_Igfbpl1,Aldh1l1,Ptbp1\\Conv_zscan__053.zarr\n"
     ]
    },
    {
     "name": "stderr",
     "output_type": "stream",
     "text": [
      "\r",
      " 12%|█████████▎                                                                     | 54/459 [34:16<5:10:14, 45.96s/it]"
     ]
    },
    {
     "name": "stdout",
     "output_type": "stream",
     "text": [
      "### load signal\n",
      "Signal file: \\\\Bbfishdc9\\bbfishdc9\\DCBBL1_spinal_01_25_2023\\H1_Igfbpl1,Aldh1l1,Ptbp1\\Conv_zscan__054.zarr\n"
     ]
    },
    {
     "name": "stderr",
     "output_type": "stream",
     "text": [
      "\r",
      " 12%|█████████▍                                                                     | 55/459 [34:57<4:58:54, 44.39s/it]"
     ]
    },
    {
     "name": "stdout",
     "output_type": "stream",
     "text": [
      "### load signal\n",
      "Signal file: \\\\Bbfishdc9\\bbfishdc9\\DCBBL1_spinal_01_25_2023\\H1_Igfbpl1,Aldh1l1,Ptbp1\\Conv_zscan__055.zarr\n"
     ]
    },
    {
     "name": "stderr",
     "output_type": "stream",
     "text": [
      "\r",
      " 12%|█████████▋                                                                     | 56/459 [35:29<4:34:06, 40.81s/it]"
     ]
    },
    {
     "name": "stdout",
     "output_type": "stream",
     "text": [
      "### load signal\n",
      "Signal file: \\\\Bbfishdc9\\bbfishdc9\\DCBBL1_spinal_01_25_2023\\H1_Igfbpl1,Aldh1l1,Ptbp1\\Conv_zscan__056.zarr\n"
     ]
    },
    {
     "name": "stderr",
     "output_type": "stream",
     "text": [
      "\r",
      " 12%|█████████▊                                                                     | 57/459 [36:16<4:45:26, 42.60s/it]"
     ]
    },
    {
     "name": "stdout",
     "output_type": "stream",
     "text": [
      "### load signal\n",
      "Signal file: \\\\Bbfishdc9\\bbfishdc9\\DCBBL1_spinal_01_25_2023\\H1_Igfbpl1,Aldh1l1,Ptbp1\\Conv_zscan__057.zarr\n"
     ]
    },
    {
     "name": "stderr",
     "output_type": "stream",
     "text": [
      "\r",
      " 13%|█████████▉                                                                     | 58/459 [36:53<4:33:17, 40.89s/it]"
     ]
    },
    {
     "name": "stdout",
     "output_type": "stream",
     "text": [
      "### load signal\n",
      "Signal file: \\\\Bbfishdc9\\bbfishdc9\\DCBBL1_spinal_01_25_2023\\H1_Igfbpl1,Aldh1l1,Ptbp1\\Conv_zscan__058.zarr\n"
     ]
    },
    {
     "name": "stderr",
     "output_type": "stream",
     "text": [
      "\r",
      " 13%|██████████▏                                                                    | 59/459 [37:47<4:59:31, 44.93s/it]"
     ]
    },
    {
     "name": "stdout",
     "output_type": "stream",
     "text": [
      "### load signal\n",
      "Signal file: \\\\Bbfishdc9\\bbfishdc9\\DCBBL1_spinal_01_25_2023\\H1_Igfbpl1,Aldh1l1,Ptbp1\\Conv_zscan__059.zarr\n"
     ]
    },
    {
     "name": "stderr",
     "output_type": "stream",
     "text": [
      "\r",
      " 13%|██████████▎                                                                    | 60/459 [38:40<5:13:19, 47.12s/it]"
     ]
    },
    {
     "name": "stdout",
     "output_type": "stream",
     "text": [
      "### load signal\n",
      "Signal file: \\\\Bbfishdc9\\bbfishdc9\\DCBBL1_spinal_01_25_2023\\H1_Igfbpl1,Aldh1l1,Ptbp1\\Conv_zscan__060.zarr\n"
     ]
    },
    {
     "name": "stderr",
     "output_type": "stream",
     "text": [
      "\r",
      " 13%|██████████▍                                                                    | 61/459 [39:10<4:39:17, 42.10s/it]"
     ]
    },
    {
     "name": "stdout",
     "output_type": "stream",
     "text": [
      "### load signal\n",
      "Signal file: \\\\Bbfishdc9\\bbfishdc9\\DCBBL1_spinal_01_25_2023\\H1_Igfbpl1,Aldh1l1,Ptbp1\\Conv_zscan__061.zarr\n"
     ]
    },
    {
     "name": "stderr",
     "output_type": "stream",
     "text": [
      "\r",
      " 14%|██████████▋                                                                    | 62/459 [39:40<4:14:17, 38.43s/it]"
     ]
    },
    {
     "name": "stdout",
     "output_type": "stream",
     "text": [
      "### load signal\n",
      "Signal file: \\\\Bbfishdc9\\bbfishdc9\\DCBBL1_spinal_01_25_2023\\H1_Igfbpl1,Aldh1l1,Ptbp1\\Conv_zscan__062.zarr\n"
     ]
    },
    {
     "name": "stderr",
     "output_type": "stream",
     "text": [
      "\r",
      " 14%|██████████▊                                                                    | 63/459 [40:09<3:55:19, 35.66s/it]"
     ]
    },
    {
     "name": "stdout",
     "output_type": "stream",
     "text": [
      "### load signal\n",
      "Signal file: \\\\Bbfishdc9\\bbfishdc9\\DCBBL1_spinal_01_25_2023\\H1_Igfbpl1,Aldh1l1,Ptbp1\\Conv_zscan__063.zarr\n"
     ]
    },
    {
     "name": "stderr",
     "output_type": "stream",
     "text": [
      "\r",
      " 14%|███████████                                                                    | 64/459 [40:40<3:44:39, 34.13s/it]"
     ]
    },
    {
     "name": "stdout",
     "output_type": "stream",
     "text": [
      "### load signal\n",
      "Signal file: \\\\Bbfishdc9\\bbfishdc9\\DCBBL1_spinal_01_25_2023\\H1_Igfbpl1,Aldh1l1,Ptbp1\\Conv_zscan__064.zarr\n"
     ]
    },
    {
     "name": "stderr",
     "output_type": "stream",
     "text": [
      "\r",
      " 14%|███████████▏                                                                   | 65/459 [41:34<4:23:34, 40.14s/it]"
     ]
    },
    {
     "name": "stdout",
     "output_type": "stream",
     "text": [
      "### load signal\n",
      "Signal file: \\\\Bbfishdc9\\bbfishdc9\\DCBBL1_spinal_01_25_2023\\H1_Igfbpl1,Aldh1l1,Ptbp1\\Conv_zscan__065.zarr\n"
     ]
    },
    {
     "name": "stderr",
     "output_type": "stream",
     "text": [
      "\r",
      " 14%|███████████▎                                                                   | 66/459 [42:10<4:15:11, 38.96s/it]"
     ]
    },
    {
     "name": "stdout",
     "output_type": "stream",
     "text": [
      "### load signal\n",
      "Signal file: \\\\Bbfishdc9\\bbfishdc9\\DCBBL1_spinal_01_25_2023\\H1_Igfbpl1,Aldh1l1,Ptbp1\\Conv_zscan__066.zarr\n"
     ]
    },
    {
     "name": "stderr",
     "output_type": "stream",
     "text": [
      "\r",
      " 15%|███████████▌                                                                   | 67/459 [42:40<3:56:21, 36.18s/it]"
     ]
    },
    {
     "name": "stdout",
     "output_type": "stream",
     "text": [
      "### load signal\n",
      "Signal file: \\\\Bbfishdc9\\bbfishdc9\\DCBBL1_spinal_01_25_2023\\H1_Igfbpl1,Aldh1l1,Ptbp1\\Conv_zscan__067.zarr\n"
     ]
    },
    {
     "name": "stderr",
     "output_type": "stream",
     "text": [
      "\r",
      " 15%|███████████▋                                                                   | 68/459 [43:20<4:03:11, 37.32s/it]"
     ]
    },
    {
     "name": "stdout",
     "output_type": "stream",
     "text": [
      "### load signal\n",
      "Signal file: \\\\Bbfishdc9\\bbfishdc9\\DCBBL1_spinal_01_25_2023\\H1_Igfbpl1,Aldh1l1,Ptbp1\\Conv_zscan__068.zarr\n"
     ]
    },
    {
     "name": "stderr",
     "output_type": "stream",
     "text": [
      "\r",
      " 15%|███████████▉                                                                   | 69/459 [44:14<4:35:57, 42.46s/it]"
     ]
    },
    {
     "name": "stdout",
     "output_type": "stream",
     "text": [
      "### load signal\n",
      "Signal file: \\\\Bbfishdc9\\bbfishdc9\\DCBBL1_spinal_01_25_2023\\H1_Igfbpl1,Aldh1l1,Ptbp1\\Conv_zscan__069.zarr\n"
     ]
    },
    {
     "name": "stderr",
     "output_type": "stream",
     "text": [
      "\r",
      " 15%|████████████                                                                   | 70/459 [45:08<4:57:04, 45.82s/it]"
     ]
    },
    {
     "name": "stdout",
     "output_type": "stream",
     "text": [
      "### load signal\n",
      "Signal file: \\\\Bbfishdc9\\bbfishdc9\\DCBBL1_spinal_01_25_2023\\H1_Igfbpl1,Aldh1l1,Ptbp1\\Conv_zscan__070.zarr\n"
     ]
    },
    {
     "name": "stderr",
     "output_type": "stream",
     "text": [
      "\r",
      " 15%|████████████▏                                                                  | 71/459 [46:04<5:16:46, 48.99s/it]"
     ]
    },
    {
     "name": "stdout",
     "output_type": "stream",
     "text": [
      "### load signal\n",
      "Signal file: \\\\Bbfishdc9\\bbfishdc9\\DCBBL1_spinal_01_25_2023\\H1_Igfbpl1,Aldh1l1,Ptbp1\\Conv_zscan__071.zarr\n"
     ]
    },
    {
     "name": "stderr",
     "output_type": "stream",
     "text": [
      "\r",
      " 16%|████████████▍                                                                  | 72/459 [46:56<5:21:13, 49.80s/it]"
     ]
    },
    {
     "name": "stdout",
     "output_type": "stream",
     "text": [
      "### load signal\n",
      "Signal file: \\\\Bbfishdc9\\bbfishdc9\\DCBBL1_spinal_01_25_2023\\H1_Igfbpl1,Aldh1l1,Ptbp1\\Conv_zscan__072.zarr\n"
     ]
    },
    {
     "name": "stderr",
     "output_type": "stream",
     "text": [
      "\r",
      " 16%|████████████▌                                                                  | 73/459 [47:46<5:21:14, 49.93s/it]"
     ]
    },
    {
     "name": "stdout",
     "output_type": "stream",
     "text": [
      "### load signal\n",
      "Signal file: \\\\Bbfishdc9\\bbfishdc9\\DCBBL1_spinal_01_25_2023\\H1_Igfbpl1,Aldh1l1,Ptbp1\\Conv_zscan__073.zarr\n"
     ]
    },
    {
     "name": "stderr",
     "output_type": "stream",
     "text": [
      "\r",
      " 16%|████████████▋                                                                  | 74/459 [48:37<5:21:57, 50.18s/it]"
     ]
    },
    {
     "name": "stdout",
     "output_type": "stream",
     "text": [
      "### load signal\n",
      "Signal file: \\\\Bbfishdc9\\bbfishdc9\\DCBBL1_spinal_01_25_2023\\H1_Igfbpl1,Aldh1l1,Ptbp1\\Conv_zscan__074.zarr\n"
     ]
    },
    {
     "name": "stderr",
     "output_type": "stream",
     "text": [
      "\r",
      " 16%|████████████▉                                                                  | 75/459 [49:19<5:05:32, 47.74s/it]"
     ]
    },
    {
     "name": "stdout",
     "output_type": "stream",
     "text": [
      "### load signal\n",
      "Signal file: \\\\Bbfishdc9\\bbfishdc9\\DCBBL1_spinal_01_25_2023\\H1_Igfbpl1,Aldh1l1,Ptbp1\\Conv_zscan__075.zarr\n"
     ]
    },
    {
     "name": "stderr",
     "output_type": "stream",
     "text": [
      "\r",
      " 17%|█████████████                                                                  | 76/459 [49:50<4:33:21, 42.82s/it]"
     ]
    },
    {
     "name": "stdout",
     "output_type": "stream",
     "text": [
      "### load signal\n",
      "Signal file: \\\\Bbfishdc9\\bbfishdc9\\DCBBL1_spinal_01_25_2023\\H1_Igfbpl1,Aldh1l1,Ptbp1\\Conv_zscan__076.zarr\n"
     ]
    },
    {
     "name": "stderr",
     "output_type": "stream",
     "text": [
      "\r",
      " 17%|█████████████▎                                                                 | 77/459 [50:22<4:11:41, 39.53s/it]"
     ]
    },
    {
     "name": "stdout",
     "output_type": "stream",
     "text": [
      "### load signal\n",
      "Signal file: \\\\Bbfishdc9\\bbfishdc9\\DCBBL1_spinal_01_25_2023\\H1_Igfbpl1,Aldh1l1,Ptbp1\\Conv_zscan__077.zarr\n"
     ]
    },
    {
     "name": "stderr",
     "output_type": "stream",
     "text": [
      "\r",
      " 17%|█████████████▍                                                                 | 78/459 [51:11<4:28:18, 42.25s/it]"
     ]
    },
    {
     "name": "stdout",
     "output_type": "stream",
     "text": [
      "### load signal\n",
      "Signal file: \\\\Bbfishdc9\\bbfishdc9\\DCBBL1_spinal_01_25_2023\\H1_Igfbpl1,Aldh1l1,Ptbp1\\Conv_zscan__078.zarr\n"
     ]
    },
    {
     "name": "stderr",
     "output_type": "stream",
     "text": [
      "\r",
      " 17%|█████████████▌                                                                 | 79/459 [51:41<4:04:07, 38.54s/it]"
     ]
    },
    {
     "name": "stdout",
     "output_type": "stream",
     "text": [
      "### load signal\n",
      "Signal file: \\\\Bbfishdc9\\bbfishdc9\\DCBBL1_spinal_01_25_2023\\H1_Igfbpl1,Aldh1l1,Ptbp1\\Conv_zscan__079.zarr\n"
     ]
    },
    {
     "name": "stderr",
     "output_type": "stream",
     "text": [
      "\r",
      " 17%|█████████████▊                                                                 | 80/459 [52:24<4:11:49, 39.87s/it]"
     ]
    },
    {
     "name": "stdout",
     "output_type": "stream",
     "text": [
      "### load signal\n",
      "Signal file: \\\\Bbfishdc9\\bbfishdc9\\DCBBL1_spinal_01_25_2023\\H1_Igfbpl1,Aldh1l1,Ptbp1\\Conv_zscan__080.zarr\n"
     ]
    },
    {
     "name": "stderr",
     "output_type": "stream",
     "text": [
      "\r",
      " 18%|█████████████▉                                                                 | 81/459 [53:15<4:33:28, 43.41s/it]"
     ]
    },
    {
     "name": "stdout",
     "output_type": "stream",
     "text": [
      "### load signal\n",
      "Signal file: \\\\Bbfishdc9\\bbfishdc9\\DCBBL1_spinal_01_25_2023\\H1_Igfbpl1,Aldh1l1,Ptbp1\\Conv_zscan__081.zarr\n"
     ]
    },
    {
     "name": "stderr",
     "output_type": "stream",
     "text": [
      "\r",
      " 18%|██████████████                                                                 | 82/459 [53:46<4:08:15, 39.51s/it]"
     ]
    },
    {
     "name": "stdout",
     "output_type": "stream",
     "text": [
      "### load signal\n",
      "Signal file: \\\\Bbfishdc9\\bbfishdc9\\DCBBL1_spinal_01_25_2023\\H1_Igfbpl1,Aldh1l1,Ptbp1\\Conv_zscan__082.zarr\n"
     ]
    },
    {
     "name": "stderr",
     "output_type": "stream",
     "text": [
      "\r",
      " 18%|██████████████▎                                                                | 83/459 [54:19<3:56:10, 37.69s/it]"
     ]
    },
    {
     "name": "stdout",
     "output_type": "stream",
     "text": [
      "### load signal\n",
      "Signal file: \\\\Bbfishdc9\\bbfishdc9\\DCBBL1_spinal_01_25_2023\\H1_Igfbpl1,Aldh1l1,Ptbp1\\Conv_zscan__083.zarr\n"
     ]
    },
    {
     "name": "stderr",
     "output_type": "stream",
     "text": [
      "\r",
      " 18%|██████████████▍                                                                | 84/459 [55:02<4:04:48, 39.17s/it]"
     ]
    },
    {
     "name": "stdout",
     "output_type": "stream",
     "text": [
      "### load signal\n",
      "Signal file: \\\\Bbfishdc9\\bbfishdc9\\DCBBL1_spinal_01_25_2023\\H1_Igfbpl1,Aldh1l1,Ptbp1\\Conv_zscan__084.zarr\n"
     ]
    },
    {
     "name": "stderr",
     "output_type": "stream",
     "text": [
      "\r",
      " 19%|██████████████▋                                                                | 85/459 [55:45<4:12:00, 40.43s/it]"
     ]
    },
    {
     "name": "stdout",
     "output_type": "stream",
     "text": [
      "### load signal\n",
      "Signal file: \\\\Bbfishdc9\\bbfishdc9\\DCBBL1_spinal_01_25_2023\\H1_Igfbpl1,Aldh1l1,Ptbp1\\Conv_zscan__085.zarr\n"
     ]
    },
    {
     "name": "stderr",
     "output_type": "stream",
     "text": [
      "\r",
      " 19%|██████████████▊                                                                | 86/459 [56:31<4:22:16, 42.19s/it]"
     ]
    },
    {
     "name": "stdout",
     "output_type": "stream",
     "text": [
      "### load signal\n",
      "Signal file: \\\\Bbfishdc9\\bbfishdc9\\DCBBL1_spinal_01_25_2023\\H1_Igfbpl1,Aldh1l1,Ptbp1\\Conv_zscan__086.zarr\n"
     ]
    },
    {
     "name": "stderr",
     "output_type": "stream",
     "text": [
      "\r",
      " 19%|██████████████▉                                                                | 87/459 [57:03<4:01:40, 38.98s/it]"
     ]
    },
    {
     "name": "stdout",
     "output_type": "stream",
     "text": [
      "### load signal\n",
      "Signal file: \\\\Bbfishdc9\\bbfishdc9\\DCBBL1_spinal_01_25_2023\\H1_Igfbpl1,Aldh1l1,Ptbp1\\Conv_zscan__087.zarr\n"
     ]
    },
    {
     "name": "stderr",
     "output_type": "stream",
     "text": [
      "\r",
      " 19%|███████████████▏                                                               | 88/459 [57:50<4:15:44, 41.36s/it]"
     ]
    },
    {
     "name": "stdout",
     "output_type": "stream",
     "text": [
      "### load signal\n",
      "Signal file: \\\\Bbfishdc9\\bbfishdc9\\DCBBL1_spinal_01_25_2023\\H1_Igfbpl1,Aldh1l1,Ptbp1\\Conv_zscan__088.zarr\n"
     ]
    },
    {
     "name": "stderr",
     "output_type": "stream",
     "text": [
      "\r",
      " 19%|███████████████▎                                                               | 89/459 [58:54<4:58:12, 48.36s/it]"
     ]
    },
    {
     "name": "stdout",
     "output_type": "stream",
     "text": [
      "### load signal\n",
      "Signal file: \\\\Bbfishdc9\\bbfishdc9\\DCBBL1_spinal_01_25_2023\\H1_Igfbpl1,Aldh1l1,Ptbp1\\Conv_zscan__089.zarr\n"
     ]
    },
    {
     "name": "stderr",
     "output_type": "stream",
     "text": [
      "\r",
      " 20%|███████████████▍                                                               | 90/459 [59:26<4:25:55, 43.24s/it]"
     ]
    },
    {
     "name": "stdout",
     "output_type": "stream",
     "text": [
      "### load signal\n",
      "Signal file: \\\\Bbfishdc9\\bbfishdc9\\DCBBL1_spinal_01_25_2023\\H1_Igfbpl1,Aldh1l1,Ptbp1\\Conv_zscan__090.zarr\n"
     ]
    },
    {
     "name": "stderr",
     "output_type": "stream",
     "text": [
      "\r",
      " 20%|███████████████▎                                                             | 91/459 [1:00:24<4:53:09, 47.80s/it]"
     ]
    },
    {
     "name": "stdout",
     "output_type": "stream",
     "text": [
      "### load signal\n",
      "Signal file: \\\\Bbfishdc9\\bbfishdc9\\DCBBL1_spinal_01_25_2023\\H1_Igfbpl1,Aldh1l1,Ptbp1\\Conv_zscan__091.zarr\n"
     ]
    },
    {
     "name": "stderr",
     "output_type": "stream",
     "text": [
      "\r",
      " 20%|███████████████▍                                                             | 92/459 [1:01:15<4:58:35, 48.82s/it]"
     ]
    },
    {
     "name": "stdout",
     "output_type": "stream",
     "text": [
      "### load signal\n",
      "Signal file: \\\\Bbfishdc9\\bbfishdc9\\DCBBL1_spinal_01_25_2023\\H1_Igfbpl1,Aldh1l1,Ptbp1\\Conv_zscan__092.zarr\n"
     ]
    },
    {
     "name": "stderr",
     "output_type": "stream",
     "text": [
      "\r",
      " 20%|███████████████▌                                                             | 93/459 [1:02:06<5:00:53, 49.33s/it]"
     ]
    },
    {
     "name": "stdout",
     "output_type": "stream",
     "text": [
      "### load signal\n",
      "Signal file: \\\\Bbfishdc9\\bbfishdc9\\DCBBL1_spinal_01_25_2023\\H1_Igfbpl1,Aldh1l1,Ptbp1\\Conv_zscan__093.zarr\n"
     ]
    },
    {
     "name": "stderr",
     "output_type": "stream",
     "text": [
      "\r",
      " 20%|███████████████▊                                                             | 94/459 [1:03:00<5:08:16, 50.68s/it]"
     ]
    },
    {
     "name": "stdout",
     "output_type": "stream",
     "text": [
      "### load signal\n",
      "Signal file: \\\\Bbfishdc9\\bbfishdc9\\DCBBL1_spinal_01_25_2023\\H1_Igfbpl1,Aldh1l1,Ptbp1\\Conv_zscan__094.zarr\n"
     ]
    },
    {
     "name": "stderr",
     "output_type": "stream",
     "text": [
      "\r",
      " 21%|███████████████▉                                                             | 95/459 [1:03:56<5:17:15, 52.30s/it]"
     ]
    },
    {
     "name": "stdout",
     "output_type": "stream",
     "text": [
      "### load signal\n",
      "Signal file: \\\\Bbfishdc9\\bbfishdc9\\DCBBL1_spinal_01_25_2023\\H1_Igfbpl1,Aldh1l1,Ptbp1\\Conv_zscan__095.zarr\n"
     ]
    },
    {
     "name": "stderr",
     "output_type": "stream",
     "text": [
      "\r",
      " 21%|████████████████                                                             | 96/459 [1:04:52<5:24:07, 53.57s/it]"
     ]
    },
    {
     "name": "stdout",
     "output_type": "stream",
     "text": [
      "### load signal\n",
      "Signal file: \\\\Bbfishdc9\\bbfishdc9\\DCBBL1_spinal_01_25_2023\\H1_Igfbpl1,Aldh1l1,Ptbp1\\Conv_zscan__096.zarr\n"
     ]
    },
    {
     "name": "stderr",
     "output_type": "stream",
     "text": [
      "\r",
      " 21%|████████████████▎                                                            | 97/459 [1:05:30<4:53:35, 48.66s/it]"
     ]
    },
    {
     "name": "stdout",
     "output_type": "stream",
     "text": [
      "### load signal\n",
      "Signal file: \\\\Bbfishdc9\\bbfishdc9\\DCBBL1_spinal_01_25_2023\\H1_Igfbpl1,Aldh1l1,Ptbp1\\Conv_zscan__097.zarr\n"
     ]
    },
    {
     "name": "stderr",
     "output_type": "stream",
     "text": [
      "\r",
      " 21%|████████████████▍                                                            | 98/459 [1:06:24<5:02:20, 50.25s/it]"
     ]
    },
    {
     "name": "stdout",
     "output_type": "stream",
     "text": [
      "### load signal\n",
      "Signal file: \\\\Bbfishdc9\\bbfishdc9\\DCBBL1_spinal_01_25_2023\\H1_Igfbpl1,Aldh1l1,Ptbp1\\Conv_zscan__098.zarr\n"
     ]
    },
    {
     "name": "stderr",
     "output_type": "stream",
     "text": [
      "\r",
      " 22%|████████████████▌                                                            | 99/459 [1:07:21<5:14:47, 52.46s/it]"
     ]
    },
    {
     "name": "stdout",
     "output_type": "stream",
     "text": [
      "### load signal\n",
      "Signal file: \\\\Bbfishdc9\\bbfishdc9\\DCBBL1_spinal_01_25_2023\\H1_Igfbpl1,Aldh1l1,Ptbp1\\Conv_zscan__099.zarr\n"
     ]
    },
    {
     "name": "stderr",
     "output_type": "stream",
     "text": [
      "\r",
      " 22%|████████████████▌                                                           | 100/459 [1:07:56<4:42:51, 47.28s/it]"
     ]
    },
    {
     "name": "stdout",
     "output_type": "stream",
     "text": [
      "### load signal\n",
      "Signal file: \\\\Bbfishdc9\\bbfishdc9\\DCBBL1_spinal_01_25_2023\\H1_Igfbpl1,Aldh1l1,Ptbp1\\Conv_zscan__100.zarr\n"
     ]
    },
    {
     "name": "stderr",
     "output_type": "stream",
     "text": [
      "\r",
      " 22%|████████████████▋                                                           | 101/459 [1:08:47<4:47:15, 48.14s/it]"
     ]
    },
    {
     "name": "stdout",
     "output_type": "stream",
     "text": [
      "### load signal\n",
      "Signal file: \\\\Bbfishdc9\\bbfishdc9\\DCBBL1_spinal_01_25_2023\\H1_Igfbpl1,Aldh1l1,Ptbp1\\Conv_zscan__101.zarr\n"
     ]
    },
    {
     "name": "stderr",
     "output_type": "stream",
     "text": [
      "\r",
      " 22%|████████████████▉                                                           | 102/459 [1:09:27<4:33:13, 45.92s/it]"
     ]
    },
    {
     "name": "stdout",
     "output_type": "stream",
     "text": [
      "### load signal\n",
      "Signal file: \\\\Bbfishdc9\\bbfishdc9\\DCBBL1_spinal_01_25_2023\\H1_Igfbpl1,Aldh1l1,Ptbp1\\Conv_zscan__102.zarr\n"
     ]
    },
    {
     "name": "stderr",
     "output_type": "stream",
     "text": [
      "\r",
      " 22%|█████████████████                                                           | 103/459 [1:10:02<4:11:52, 42.45s/it]"
     ]
    },
    {
     "name": "stdout",
     "output_type": "stream",
     "text": [
      "### load signal\n",
      "Signal file: \\\\Bbfishdc9\\bbfishdc9\\DCBBL1_spinal_01_25_2023\\H1_Igfbpl1,Aldh1l1,Ptbp1\\Conv_zscan__103.zarr\n"
     ]
    },
    {
     "name": "stderr",
     "output_type": "stream",
     "text": [
      "\r",
      " 23%|█████████████████▏                                                          | 104/459 [1:10:32<3:50:22, 38.94s/it]"
     ]
    },
    {
     "name": "stdout",
     "output_type": "stream",
     "text": [
      "### load signal\n",
      "Signal file: \\\\Bbfishdc9\\bbfishdc9\\DCBBL1_spinal_01_25_2023\\H1_Igfbpl1,Aldh1l1,Ptbp1\\Conv_zscan__104.zarr\n"
     ]
    },
    {
     "name": "stderr",
     "output_type": "stream",
     "text": [
      "\r",
      " 23%|█████████████████▍                                                          | 105/459 [1:11:31<4:24:38, 44.85s/it]"
     ]
    },
    {
     "name": "stdout",
     "output_type": "stream",
     "text": [
      "### load signal\n",
      "Signal file: \\\\Bbfishdc9\\bbfishdc9\\DCBBL1_spinal_01_25_2023\\H1_Igfbpl1,Aldh1l1,Ptbp1\\Conv_zscan__105.zarr\n"
     ]
    },
    {
     "name": "stderr",
     "output_type": "stream",
     "text": [
      "\r",
      " 23%|█████████████████▌                                                          | 106/459 [1:12:28<4:45:50, 48.59s/it]"
     ]
    },
    {
     "name": "stdout",
     "output_type": "stream",
     "text": [
      "### load signal\n",
      "Signal file: \\\\Bbfishdc9\\bbfishdc9\\DCBBL1_spinal_01_25_2023\\H1_Igfbpl1,Aldh1l1,Ptbp1\\Conv_zscan__106.zarr\n"
     ]
    },
    {
     "name": "stderr",
     "output_type": "stream",
     "text": [
      "\r",
      " 23%|█████████████████▋                                                          | 107/459 [1:13:18<4:47:14, 48.96s/it]"
     ]
    },
    {
     "name": "stdout",
     "output_type": "stream",
     "text": [
      "### load signal\n",
      "Signal file: \\\\Bbfishdc9\\bbfishdc9\\DCBBL1_spinal_01_25_2023\\H1_Igfbpl1,Aldh1l1,Ptbp1\\Conv_zscan__107.zarr\n"
     ]
    },
    {
     "name": "stderr",
     "output_type": "stream",
     "text": [
      "\r",
      " 24%|█████████████████▉                                                          | 108/459 [1:14:15<5:00:55, 51.44s/it]"
     ]
    },
    {
     "name": "stdout",
     "output_type": "stream",
     "text": [
      "### load signal\n",
      "Signal file: \\\\Bbfishdc9\\bbfishdc9\\DCBBL1_spinal_01_25_2023\\H1_Igfbpl1,Aldh1l1,Ptbp1\\Conv_zscan__108.zarr\n"
     ]
    },
    {
     "name": "stderr",
     "output_type": "stream",
     "text": [
      "\r",
      " 24%|██████████████████                                                          | 109/459 [1:15:12<5:09:34, 53.07s/it]"
     ]
    },
    {
     "name": "stdout",
     "output_type": "stream",
     "text": [
      "### load signal\n",
      "Signal file: \\\\Bbfishdc9\\bbfishdc9\\DCBBL1_spinal_01_25_2023\\H1_Igfbpl1,Aldh1l1,Ptbp1\\Conv_zscan__109.zarr\n"
     ]
    },
    {
     "name": "stderr",
     "output_type": "stream",
     "text": [
      "\r",
      " 24%|██████████████████▏                                                         | 110/459 [1:16:05<5:08:23, 53.02s/it]"
     ]
    },
    {
     "name": "stdout",
     "output_type": "stream",
     "text": [
      "### load signal\n",
      "Signal file: \\\\Bbfishdc9\\bbfishdc9\\DCBBL1_spinal_01_25_2023\\H1_Igfbpl1,Aldh1l1,Ptbp1\\Conv_zscan__110.zarr\n"
     ]
    },
    {
     "name": "stderr",
     "output_type": "stream",
     "text": [
      "\r",
      " 24%|██████████████████▍                                                         | 111/459 [1:17:00<5:11:22, 53.69s/it]"
     ]
    },
    {
     "name": "stdout",
     "output_type": "stream",
     "text": [
      "### load signal\n",
      "Signal file: \\\\Bbfishdc9\\bbfishdc9\\DCBBL1_spinal_01_25_2023\\H1_Igfbpl1,Aldh1l1,Ptbp1\\Conv_zscan__111.zarr\n"
     ]
    },
    {
     "name": "stderr",
     "output_type": "stream",
     "text": [
      "\r",
      " 24%|██████████████████▌                                                         | 112/459 [1:17:57<5:15:43, 54.59s/it]"
     ]
    },
    {
     "name": "stdout",
     "output_type": "stream",
     "text": [
      "### load signal\n",
      "Signal file: \\\\Bbfishdc9\\bbfishdc9\\DCBBL1_spinal_01_25_2023\\H1_Igfbpl1,Aldh1l1,Ptbp1\\Conv_zscan__112.zarr\n"
     ]
    },
    {
     "name": "stderr",
     "output_type": "stream",
     "text": [
      "\r",
      " 25%|██████████████████▋                                                         | 113/459 [1:18:30<4:37:51, 48.18s/it]"
     ]
    },
    {
     "name": "stdout",
     "output_type": "stream",
     "text": [
      "### load signal\n",
      "Signal file: \\\\Bbfishdc9\\bbfishdc9\\DCBBL1_spinal_01_25_2023\\H1_Igfbpl1,Aldh1l1,Ptbp1\\Conv_zscan__113.zarr\n"
     ]
    },
    {
     "name": "stderr",
     "output_type": "stream",
     "text": [
      "\r",
      " 25%|██████████████████▉                                                         | 114/459 [1:19:03<4:09:59, 43.48s/it]"
     ]
    },
    {
     "name": "stdout",
     "output_type": "stream",
     "text": [
      "### load signal\n",
      "Signal file: \\\\Bbfishdc9\\bbfishdc9\\DCBBL1_spinal_01_25_2023\\H1_Igfbpl1,Aldh1l1,Ptbp1\\Conv_zscan__114.zarr\n"
     ]
    },
    {
     "name": "stderr",
     "output_type": "stream",
     "text": [
      "\r",
      " 25%|███████████████████                                                         | 115/459 [1:19:48<4:11:57, 43.95s/it]"
     ]
    },
    {
     "name": "stdout",
     "output_type": "stream",
     "text": [
      "### load signal\n",
      "Signal file: \\\\Bbfishdc9\\bbfishdc9\\DCBBL1_spinal_01_25_2023\\H1_Igfbpl1,Aldh1l1,Ptbp1\\Conv_zscan__115.zarr\n"
     ]
    },
    {
     "name": "stderr",
     "output_type": "stream",
     "text": [
      "\r",
      " 25%|███████████████████▏                                                        | 116/459 [1:20:50<4:41:45, 49.29s/it]"
     ]
    },
    {
     "name": "stdout",
     "output_type": "stream",
     "text": [
      "### load signal\n",
      "Signal file: \\\\Bbfishdc9\\bbfishdc9\\DCBBL1_spinal_01_25_2023\\H1_Igfbpl1,Aldh1l1,Ptbp1\\Conv_zscan__116.zarr\n"
     ]
    },
    {
     "name": "stderr",
     "output_type": "stream",
     "text": [
      "\r",
      " 25%|███████████████████▎                                                        | 117/459 [1:21:20<4:08:17, 43.56s/it]"
     ]
    },
    {
     "name": "stdout",
     "output_type": "stream",
     "text": [
      "### load signal\n",
      "Signal file: \\\\Bbfishdc9\\bbfishdc9\\DCBBL1_spinal_01_25_2023\\H1_Igfbpl1,Aldh1l1,Ptbp1\\Conv_zscan__117.zarr\n"
     ]
    },
    {
     "name": "stderr",
     "output_type": "stream",
     "text": [
      "\r",
      " 26%|███████████████████▌                                                        | 118/459 [1:22:13<4:23:16, 46.32s/it]"
     ]
    },
    {
     "name": "stdout",
     "output_type": "stream",
     "text": [
      "### load signal\n",
      "Signal file: \\\\Bbfishdc9\\bbfishdc9\\DCBBL1_spinal_01_25_2023\\H1_Igfbpl1,Aldh1l1,Ptbp1\\Conv_zscan__118.zarr\n"
     ]
    },
    {
     "name": "stderr",
     "output_type": "stream",
     "text": [
      "\r",
      " 26%|███████████████████▋                                                        | 119/459 [1:23:08<4:37:35, 48.99s/it]"
     ]
    },
    {
     "name": "stdout",
     "output_type": "stream",
     "text": [
      "### load signal\n",
      "Signal file: \\\\Bbfishdc9\\bbfishdc9\\DCBBL1_spinal_01_25_2023\\H1_Igfbpl1,Aldh1l1,Ptbp1\\Conv_zscan__119.zarr\n"
     ]
    },
    {
     "name": "stderr",
     "output_type": "stream",
     "text": [
      "\r",
      " 26%|███████████████████▊                                                        | 120/459 [1:24:02<4:45:00, 50.44s/it]"
     ]
    },
    {
     "name": "stdout",
     "output_type": "stream",
     "text": [
      "### load signal\n",
      "Signal file: \\\\Bbfishdc9\\bbfishdc9\\DCBBL1_spinal_01_25_2023\\H1_Igfbpl1,Aldh1l1,Ptbp1\\Conv_zscan__120.zarr\n"
     ]
    },
    {
     "name": "stderr",
     "output_type": "stream",
     "text": [
      "\r",
      " 26%|████████████████████                                                        | 121/459 [1:24:37<4:18:31, 45.89s/it]"
     ]
    },
    {
     "name": "stdout",
     "output_type": "stream",
     "text": [
      "### load signal\n",
      "Signal file: \\\\Bbfishdc9\\bbfishdc9\\DCBBL1_spinal_01_25_2023\\H1_Igfbpl1,Aldh1l1,Ptbp1\\Conv_zscan__121.zarr\n"
     ]
    },
    {
     "name": "stderr",
     "output_type": "stream",
     "text": [
      "\r",
      " 27%|████████████████████▏                                                       | 122/459 [1:25:13<4:00:59, 42.91s/it]"
     ]
    },
    {
     "name": "stdout",
     "output_type": "stream",
     "text": [
      "### load signal\n",
      "Signal file: \\\\Bbfishdc9\\bbfishdc9\\DCBBL1_spinal_01_25_2023\\H1_Igfbpl1,Aldh1l1,Ptbp1\\Conv_zscan__122.zarr\n"
     ]
    },
    {
     "name": "stderr",
     "output_type": "stream",
     "text": [
      "\r",
      " 27%|████████████████████▎                                                       | 123/459 [1:25:44<3:39:47, 39.25s/it]"
     ]
    },
    {
     "name": "stdout",
     "output_type": "stream",
     "text": [
      "### load signal\n",
      "Signal file: \\\\Bbfishdc9\\bbfishdc9\\DCBBL1_spinal_01_25_2023\\H1_Igfbpl1,Aldh1l1,Ptbp1\\Conv_zscan__123.zarr\n"
     ]
    },
    {
     "name": "stderr",
     "output_type": "stream",
     "text": [
      "\r",
      " 27%|████████████████████▌                                                       | 124/459 [1:26:18<3:31:50, 37.94s/it]"
     ]
    },
    {
     "name": "stdout",
     "output_type": "stream",
     "text": [
      "### load signal\n",
      "Signal file: \\\\Bbfishdc9\\bbfishdc9\\DCBBL1_spinal_01_25_2023\\H1_Igfbpl1,Aldh1l1,Ptbp1\\Conv_zscan__124.zarr\n"
     ]
    },
    {
     "name": "stderr",
     "output_type": "stream",
     "text": [
      "\r",
      " 27%|████████████████████▋                                                       | 125/459 [1:27:08<3:50:48, 41.46s/it]"
     ]
    },
    {
     "name": "stdout",
     "output_type": "stream",
     "text": [
      "### load signal\n",
      "Signal file: \\\\Bbfishdc9\\bbfishdc9\\DCBBL1_spinal_01_25_2023\\H1_Igfbpl1,Aldh1l1,Ptbp1\\Conv_zscan__125.zarr\n"
     ]
    },
    {
     "name": "stderr",
     "output_type": "stream",
     "text": [
      "\r",
      " 27%|████████████████████▊                                                       | 126/459 [1:27:50<3:51:38, 41.74s/it]"
     ]
    },
    {
     "name": "stdout",
     "output_type": "stream",
     "text": [
      "### load signal\n",
      "Signal file: \\\\Bbfishdc9\\bbfishdc9\\DCBBL1_spinal_01_25_2023\\H1_Igfbpl1,Aldh1l1,Ptbp1\\Conv_zscan__126.zarr\n"
     ]
    },
    {
     "name": "stderr",
     "output_type": "stream",
     "text": [
      "\r",
      " 28%|█████████████████████                                                       | 127/459 [1:28:42<4:07:06, 44.66s/it]"
     ]
    },
    {
     "name": "stdout",
     "output_type": "stream",
     "text": [
      "### load signal\n",
      "Signal file: \\\\Bbfishdc9\\bbfishdc9\\DCBBL1_spinal_01_25_2023\\H1_Igfbpl1,Aldh1l1,Ptbp1\\Conv_zscan__127.zarr\n"
     ]
    },
    {
     "name": "stderr",
     "output_type": "stream",
     "text": [
      "\r",
      " 28%|█████████████████████▏                                                      | 128/459 [1:29:15<3:46:36, 41.08s/it]"
     ]
    },
    {
     "name": "stdout",
     "output_type": "stream",
     "text": [
      "### load signal\n",
      "Signal file: \\\\Bbfishdc9\\bbfishdc9\\DCBBL1_spinal_01_25_2023\\H1_Igfbpl1,Aldh1l1,Ptbp1\\Conv_zscan__128.zarr\n"
     ]
    },
    {
     "name": "stderr",
     "output_type": "stream",
     "text": [
      "\r",
      " 28%|█████████████████████▎                                                      | 129/459 [1:30:04<4:00:13, 43.68s/it]"
     ]
    },
    {
     "name": "stdout",
     "output_type": "stream",
     "text": [
      "### load signal\n",
      "Signal file: \\\\Bbfishdc9\\bbfishdc9\\DCBBL1_spinal_01_25_2023\\H1_Igfbpl1,Aldh1l1,Ptbp1\\Conv_zscan__129.zarr\n"
     ]
    },
    {
     "name": "stderr",
     "output_type": "stream",
     "text": [
      "\r",
      " 28%|█████████████████████▌                                                      | 130/459 [1:31:01<4:20:48, 47.57s/it]"
     ]
    },
    {
     "name": "stdout",
     "output_type": "stream",
     "text": [
      "### load signal\n",
      "Signal file: \\\\Bbfishdc9\\bbfishdc9\\DCBBL1_spinal_01_25_2023\\H1_Igfbpl1,Aldh1l1,Ptbp1\\Conv_zscan__130.zarr\n"
     ]
    },
    {
     "name": "stderr",
     "output_type": "stream",
     "text": [
      "\r",
      " 29%|█████████████████████▋                                                      | 131/459 [1:32:00<4:37:59, 50.85s/it]"
     ]
    },
    {
     "name": "stdout",
     "output_type": "stream",
     "text": [
      "### load signal\n",
      "Signal file: \\\\Bbfishdc9\\bbfishdc9\\DCBBL1_spinal_01_25_2023\\H1_Igfbpl1,Aldh1l1,Ptbp1\\Conv_zscan__131.zarr\n"
     ]
    },
    {
     "name": "stderr",
     "output_type": "stream",
     "text": [
      "\r",
      " 29%|█████████████████████▊                                                      | 132/459 [1:32:58<4:49:53, 53.19s/it]"
     ]
    },
    {
     "name": "stdout",
     "output_type": "stream",
     "text": [
      "### load signal\n",
      "Signal file: \\\\Bbfishdc9\\bbfishdc9\\DCBBL1_spinal_01_25_2023\\H1_Igfbpl1,Aldh1l1,Ptbp1\\Conv_zscan__132.zarr\n"
     ]
    },
    {
     "name": "stderr",
     "output_type": "stream",
     "text": [
      "\r",
      " 29%|██████████████████████                                                      | 133/459 [1:33:32<4:16:57, 47.29s/it]"
     ]
    },
    {
     "name": "stdout",
     "output_type": "stream",
     "text": [
      "### load signal\n",
      "Signal file: \\\\Bbfishdc9\\bbfishdc9\\DCBBL1_spinal_01_25_2023\\H1_Igfbpl1,Aldh1l1,Ptbp1\\Conv_zscan__133.zarr\n"
     ]
    },
    {
     "name": "stderr",
     "output_type": "stream",
     "text": [
      "\r",
      " 29%|██████████████████████▏                                                     | 134/459 [1:34:15<4:08:50, 45.94s/it]"
     ]
    },
    {
     "name": "stdout",
     "output_type": "stream",
     "text": [
      "### load signal\n",
      "Signal file: \\\\Bbfishdc9\\bbfishdc9\\DCBBL1_spinal_01_25_2023\\H1_Igfbpl1,Aldh1l1,Ptbp1\\Conv_zscan__134.zarr\n"
     ]
    },
    {
     "name": "stderr",
     "output_type": "stream",
     "text": [
      "\r",
      " 29%|██████████████████████▎                                                     | 135/459 [1:34:59<4:06:13, 45.60s/it]"
     ]
    },
    {
     "name": "stdout",
     "output_type": "stream",
     "text": [
      "### load signal\n",
      "Signal file: \\\\Bbfishdc9\\bbfishdc9\\DCBBL1_spinal_01_25_2023\\H1_Igfbpl1,Aldh1l1,Ptbp1\\Conv_zscan__135.zarr\n"
     ]
    },
    {
     "name": "stderr",
     "output_type": "stream",
     "text": [
      "\r",
      " 30%|██████████████████████▌                                                     | 136/459 [1:35:29<3:40:21, 40.93s/it]"
     ]
    },
    {
     "name": "stdout",
     "output_type": "stream",
     "text": [
      "### load signal\n",
      "Signal file: \\\\Bbfishdc9\\bbfishdc9\\DCBBL1_spinal_01_25_2023\\H1_Igfbpl1,Aldh1l1,Ptbp1\\Conv_zscan__136.zarr\n"
     ]
    },
    {
     "name": "stderr",
     "output_type": "stream",
     "text": [
      "\r",
      " 30%|██████████████████████▋                                                     | 137/459 [1:36:02<3:26:34, 38.49s/it]"
     ]
    },
    {
     "name": "stdout",
     "output_type": "stream",
     "text": [
      "### load signal\n",
      "Signal file: \\\\Bbfishdc9\\bbfishdc9\\DCBBL1_spinal_01_25_2023\\H1_Igfbpl1,Aldh1l1,Ptbp1\\Conv_zscan__137.zarr\n"
     ]
    },
    {
     "name": "stderr",
     "output_type": "stream",
     "text": [
      "\r",
      " 30%|██████████████████████▊                                                     | 138/459 [1:36:31<3:09:55, 35.50s/it]"
     ]
    },
    {
     "name": "stdout",
     "output_type": "stream",
     "text": [
      "### load signal\n",
      "Signal file: \\\\Bbfishdc9\\bbfishdc9\\DCBBL1_spinal_01_25_2023\\H1_Igfbpl1,Aldh1l1,Ptbp1\\Conv_zscan__138.zarr\n"
     ]
    },
    {
     "name": "stderr",
     "output_type": "stream",
     "text": [
      "\r",
      " 30%|███████████████████████                                                     | 139/459 [1:37:12<3:18:32, 37.23s/it]"
     ]
    },
    {
     "name": "stdout",
     "output_type": "stream",
     "text": [
      "### load signal\n",
      "Signal file: \\\\Bbfishdc9\\bbfishdc9\\DCBBL1_spinal_01_25_2023\\H1_Igfbpl1,Aldh1l1,Ptbp1\\Conv_zscan__139.zarr\n"
     ]
    },
    {
     "name": "stderr",
     "output_type": "stream",
     "text": [
      "\r",
      " 31%|███████████████████████▏                                                    | 140/459 [1:38:05<3:43:51, 42.11s/it]"
     ]
    },
    {
     "name": "stdout",
     "output_type": "stream",
     "text": [
      "### load signal\n",
      "Signal file: \\\\Bbfishdc9\\bbfishdc9\\DCBBL1_spinal_01_25_2023\\H1_Igfbpl1,Aldh1l1,Ptbp1\\Conv_zscan__140.zarr\n"
     ]
    },
    {
     "name": "stderr",
     "output_type": "stream",
     "text": [
      "\r",
      " 31%|███████████████████████▎                                                    | 141/459 [1:38:34<3:22:11, 38.15s/it]"
     ]
    },
    {
     "name": "stdout",
     "output_type": "stream",
     "text": [
      "### load signal\n",
      "Signal file: \\\\Bbfishdc9\\bbfishdc9\\DCBBL1_spinal_01_25_2023\\H1_Igfbpl1,Aldh1l1,Ptbp1\\Conv_zscan__141.zarr\n"
     ]
    },
    {
     "name": "stderr",
     "output_type": "stream",
     "text": [
      "\r",
      " 31%|███████████████████████▌                                                    | 142/459 [1:39:28<3:45:33, 42.69s/it]"
     ]
    },
    {
     "name": "stdout",
     "output_type": "stream",
     "text": [
      "### load signal\n",
      "Signal file: \\\\Bbfishdc9\\bbfishdc9\\DCBBL1_spinal_01_25_2023\\H1_Igfbpl1,Aldh1l1,Ptbp1\\Conv_zscan__142.zarr\n"
     ]
    },
    {
     "name": "stderr",
     "output_type": "stream",
     "text": [
      "\r",
      " 31%|███████████████████████▋                                                    | 143/459 [1:40:01<3:30:15, 39.92s/it]"
     ]
    },
    {
     "name": "stdout",
     "output_type": "stream",
     "text": [
      "### load signal\n",
      "Signal file: \\\\Bbfishdc9\\bbfishdc9\\DCBBL1_spinal_01_25_2023\\H1_Igfbpl1,Aldh1l1,Ptbp1\\Conv_zscan__143.zarr\n"
     ]
    },
    {
     "name": "stderr",
     "output_type": "stream",
     "text": [
      "\r",
      " 31%|███████████████████████▊                                                    | 144/459 [1:40:44<3:34:22, 40.83s/it]"
     ]
    },
    {
     "name": "stdout",
     "output_type": "stream",
     "text": [
      "### load signal\n",
      "Signal file: \\\\Bbfishdc9\\bbfishdc9\\DCBBL1_spinal_01_25_2023\\H1_Igfbpl1,Aldh1l1,Ptbp1\\Conv_zscan__144.zarr\n"
     ]
    },
    {
     "name": "stderr",
     "output_type": "stream",
     "text": [
      "\r",
      " 32%|████████████████████████                                                    | 145/459 [1:41:42<4:00:33, 45.97s/it]"
     ]
    },
    {
     "name": "stdout",
     "output_type": "stream",
     "text": [
      "### load signal\n",
      "Signal file: \\\\Bbfishdc9\\bbfishdc9\\DCBBL1_spinal_01_25_2023\\H1_Igfbpl1,Aldh1l1,Ptbp1\\Conv_zscan__145.zarr\n"
     ]
    },
    {
     "name": "stderr",
     "output_type": "stream",
     "text": [
      "\r",
      " 32%|████████████████████████▏                                                   | 146/459 [1:42:31<4:04:07, 46.80s/it]"
     ]
    },
    {
     "name": "stdout",
     "output_type": "stream",
     "text": [
      "### load signal\n",
      "Signal file: \\\\Bbfishdc9\\bbfishdc9\\DCBBL1_spinal_01_25_2023\\H1_Igfbpl1,Aldh1l1,Ptbp1\\Conv_zscan__146.zarr\n"
     ]
    },
    {
     "name": "stderr",
     "output_type": "stream",
     "text": [
      "\r",
      " 32%|████████████████████████▎                                                   | 147/459 [1:43:27<4:18:38, 49.74s/it]"
     ]
    },
    {
     "name": "stdout",
     "output_type": "stream",
     "text": [
      "### load signal\n",
      "Signal file: \\\\Bbfishdc9\\bbfishdc9\\DCBBL1_spinal_01_25_2023\\H1_Igfbpl1,Aldh1l1,Ptbp1\\Conv_zscan__147.zarr\n"
     ]
    },
    {
     "name": "stderr",
     "output_type": "stream",
     "text": [
      "\r",
      " 32%|████████████████████████▌                                                   | 148/459 [1:44:04<3:58:02, 45.92s/it]"
     ]
    },
    {
     "name": "stdout",
     "output_type": "stream",
     "text": [
      "### load signal\n",
      "Signal file: \\\\Bbfishdc9\\bbfishdc9\\DCBBL1_spinal_01_25_2023\\H1_Igfbpl1,Aldh1l1,Ptbp1\\Conv_zscan__148.zarr\n"
     ]
    },
    {
     "name": "stderr",
     "output_type": "stream",
     "text": [
      "\r",
      " 32%|████████████████████████▋                                                   | 149/459 [1:44:34<3:32:43, 41.17s/it]"
     ]
    },
    {
     "name": "stdout",
     "output_type": "stream",
     "text": [
      "### load signal\n",
      "Signal file: \\\\Bbfishdc9\\bbfishdc9\\DCBBL1_spinal_01_25_2023\\H1_Igfbpl1,Aldh1l1,Ptbp1\\Conv_zscan__149.zarr\n"
     ]
    },
    {
     "name": "stderr",
     "output_type": "stream",
     "text": [
      "\r",
      " 33%|████████████████████████▊                                                   | 150/459 [1:45:07<3:17:55, 38.43s/it]"
     ]
    },
    {
     "name": "stdout",
     "output_type": "stream",
     "text": [
      "### load signal\n",
      "Signal file: \\\\Bbfishdc9\\bbfishdc9\\DCBBL1_spinal_01_25_2023\\H1_Igfbpl1,Aldh1l1,Ptbp1\\Conv_zscan__150.zarr\n"
     ]
    },
    {
     "name": "stderr",
     "output_type": "stream",
     "text": [
      "\r",
      " 33%|█████████████████████████                                                   | 151/459 [1:45:56<3:34:46, 41.84s/it]"
     ]
    },
    {
     "name": "stdout",
     "output_type": "stream",
     "text": [
      "### load signal\n",
      "Signal file: \\\\Bbfishdc9\\bbfishdc9\\DCBBL1_spinal_01_25_2023\\H1_Igfbpl1,Aldh1l1,Ptbp1\\Conv_zscan__151.zarr\n"
     ]
    },
    {
     "name": "stderr",
     "output_type": "stream",
     "text": [
      "\r",
      " 33%|█████████████████████████▏                                                  | 152/459 [1:46:26<3:15:51, 38.28s/it]"
     ]
    },
    {
     "name": "stdout",
     "output_type": "stream",
     "text": [
      "### load signal\n",
      "Signal file: \\\\Bbfishdc9\\bbfishdc9\\DCBBL1_spinal_01_25_2023\\H1_Igfbpl1,Aldh1l1,Ptbp1\\Conv_zscan__152.zarr\n"
     ]
    },
    {
     "name": "stderr",
     "output_type": "stream",
     "text": [
      "\r",
      " 33%|█████████████████████████▎                                                  | 153/459 [1:47:02<3:10:51, 37.42s/it]"
     ]
    },
    {
     "name": "stdout",
     "output_type": "stream",
     "text": [
      "### load signal\n",
      "Signal file: \\\\Bbfishdc9\\bbfishdc9\\DCBBL1_spinal_01_25_2023\\H1_Igfbpl1,Aldh1l1,Ptbp1\\Conv_zscan__153.zarr\n"
     ]
    },
    {
     "name": "stderr",
     "output_type": "stream",
     "text": [
      "\r",
      " 34%|█████████████████████████▍                                                  | 154/459 [1:47:34<3:02:26, 35.89s/it]"
     ]
    },
    {
     "name": "stdout",
     "output_type": "stream",
     "text": [
      "### load signal\n",
      "Signal file: \\\\Bbfishdc9\\bbfishdc9\\DCBBL1_spinal_01_25_2023\\H1_Igfbpl1,Aldh1l1,Ptbp1\\Conv_zscan__154.zarr\n"
     ]
    },
    {
     "name": "stderr",
     "output_type": "stream",
     "text": [
      "\r",
      " 34%|█████████████████████████▋                                                  | 155/459 [1:48:31<3:33:30, 42.14s/it]"
     ]
    },
    {
     "name": "stdout",
     "output_type": "stream",
     "text": [
      "### load signal\n",
      "Signal file: \\\\Bbfishdc9\\bbfishdc9\\DCBBL1_spinal_01_25_2023\\H1_Igfbpl1,Aldh1l1,Ptbp1\\Conv_zscan__155.zarr\n"
     ]
    },
    {
     "name": "stderr",
     "output_type": "stream",
     "text": [
      "\r",
      " 34%|█████████████████████████▊                                                  | 156/459 [1:49:24<3:49:36, 45.47s/it]"
     ]
    },
    {
     "name": "stdout",
     "output_type": "stream",
     "text": [
      "### load signal\n",
      "Signal file: \\\\Bbfishdc9\\bbfishdc9\\DCBBL1_spinal_01_25_2023\\H1_Igfbpl1,Aldh1l1,Ptbp1\\Conv_zscan__156.zarr\n"
     ]
    },
    {
     "name": "stderr",
     "output_type": "stream",
     "text": [
      "\r",
      " 34%|█████████████████████████▉                                                  | 157/459 [1:50:20<4:05:07, 48.70s/it]"
     ]
    },
    {
     "name": "stdout",
     "output_type": "stream",
     "text": [
      "### load signal\n",
      "Signal file: \\\\Bbfishdc9\\bbfishdc9\\DCBBL1_spinal_01_25_2023\\H1_Igfbpl1,Aldh1l1,Ptbp1\\Conv_zscan__157.zarr\n"
     ]
    },
    {
     "name": "stderr",
     "output_type": "stream",
     "text": [
      "\r",
      " 34%|██████████████████████████▏                                                 | 158/459 [1:50:51<3:37:17, 43.31s/it]"
     ]
    },
    {
     "name": "stdout",
     "output_type": "stream",
     "text": [
      "### load signal\n",
      "Signal file: \\\\Bbfishdc9\\bbfishdc9\\DCBBL1_spinal_01_25_2023\\H1_Igfbpl1,Aldh1l1,Ptbp1\\Conv_zscan__158.zarr\n"
     ]
    },
    {
     "name": "stderr",
     "output_type": "stream",
     "text": [
      "\r",
      " 35%|██████████████████████████▎                                                 | 159/459 [1:51:46<3:54:18, 46.86s/it]"
     ]
    },
    {
     "name": "stdout",
     "output_type": "stream",
     "text": [
      "### load signal\n",
      "Signal file: \\\\Bbfishdc9\\bbfishdc9\\DCBBL1_spinal_01_25_2023\\H1_Igfbpl1,Aldh1l1,Ptbp1\\Conv_zscan__159.zarr\n"
     ]
    },
    {
     "name": "stderr",
     "output_type": "stream",
     "text": [
      "\r",
      " 35%|██████████████████████████▍                                                 | 160/459 [1:52:42<4:07:18, 49.63s/it]"
     ]
    },
    {
     "name": "stdout",
     "output_type": "stream",
     "text": [
      "### load signal\n",
      "Signal file: \\\\Bbfishdc9\\bbfishdc9\\DCBBL1_spinal_01_25_2023\\H1_Igfbpl1,Aldh1l1,Ptbp1\\Conv_zscan__160.zarr\n"
     ]
    },
    {
     "name": "stderr",
     "output_type": "stream",
     "text": [
      "\r",
      " 35%|██████████████████████████▋                                                 | 161/459 [1:53:34<4:09:31, 50.24s/it]"
     ]
    },
    {
     "name": "stdout",
     "output_type": "stream",
     "text": [
      "### load signal\n",
      "Signal file: \\\\Bbfishdc9\\bbfishdc9\\DCBBL1_spinal_01_25_2023\\H1_Igfbpl1,Aldh1l1,Ptbp1\\Conv_zscan__161.zarr\n"
     ]
    },
    {
     "name": "stderr",
     "output_type": "stream",
     "text": [
      "\r",
      " 35%|██████████████████████████▊                                                 | 162/459 [1:54:30<4:17:11, 51.96s/it]"
     ]
    },
    {
     "name": "stdout",
     "output_type": "stream",
     "text": [
      "### load signal\n",
      "Signal file: \\\\Bbfishdc9\\bbfishdc9\\DCBBL1_spinal_01_25_2023\\H1_Igfbpl1,Aldh1l1,Ptbp1\\Conv_zscan__162.zarr\n"
     ]
    },
    {
     "name": "stderr",
     "output_type": "stream",
     "text": [
      "\r",
      " 36%|██████████████████████████▉                                                 | 163/459 [1:55:29<4:26:33, 54.03s/it]"
     ]
    },
    {
     "name": "stdout",
     "output_type": "stream",
     "text": [
      "### load signal\n",
      "Signal file: \\\\Bbfishdc9\\bbfishdc9\\DCBBL1_spinal_01_25_2023\\H1_Igfbpl1,Aldh1l1,Ptbp1\\Conv_zscan__163.zarr\n"
     ]
    },
    {
     "name": "stderr",
     "output_type": "stream",
     "text": [
      "\r",
      " 36%|███████████████████████████▏                                                | 164/459 [1:56:13<4:10:53, 51.03s/it]"
     ]
    },
    {
     "name": "stdout",
     "output_type": "stream",
     "text": [
      "### load signal\n",
      "Signal file: \\\\Bbfishdc9\\bbfishdc9\\DCBBL1_spinal_01_25_2023\\H1_Igfbpl1,Aldh1l1,Ptbp1\\Conv_zscan__164.zarr\n"
     ]
    },
    {
     "name": "stderr",
     "output_type": "stream",
     "text": [
      "\r",
      " 36%|███████████████████████████▎                                                | 165/459 [1:57:06<4:13:12, 51.68s/it]"
     ]
    },
    {
     "name": "stdout",
     "output_type": "stream",
     "text": [
      "### load signal\n",
      "Signal file: \\\\Bbfishdc9\\bbfishdc9\\DCBBL1_spinal_01_25_2023\\H1_Igfbpl1,Aldh1l1,Ptbp1\\Conv_zscan__165.zarr\n"
     ]
    },
    {
     "name": "stderr",
     "output_type": "stream",
     "text": [
      "\r",
      " 36%|███████████████████████████▍                                                | 166/459 [1:57:53<4:06:21, 50.45s/it]"
     ]
    },
    {
     "name": "stdout",
     "output_type": "stream",
     "text": [
      "### load signal\n",
      "Signal file: \\\\Bbfishdc9\\bbfishdc9\\DCBBL1_spinal_01_25_2023\\H1_Igfbpl1,Aldh1l1,Ptbp1\\Conv_zscan__166.zarr\n"
     ]
    },
    {
     "name": "stderr",
     "output_type": "stream",
     "text": [
      "\r",
      " 36%|███████████████████████████▋                                                | 167/459 [1:58:45<4:07:03, 50.76s/it]"
     ]
    },
    {
     "name": "stdout",
     "output_type": "stream",
     "text": [
      "### load signal\n",
      "Signal file: \\\\Bbfishdc9\\bbfishdc9\\DCBBL1_spinal_01_25_2023\\H1_Igfbpl1,Aldh1l1,Ptbp1\\Conv_zscan__167.zarr\n"
     ]
    },
    {
     "name": "stderr",
     "output_type": "stream",
     "text": [
      "\r",
      " 37%|███████████████████████████▊                                                | 168/459 [1:59:44<4:18:05, 53.21s/it]"
     ]
    },
    {
     "name": "stdout",
     "output_type": "stream",
     "text": [
      "### load signal\n",
      "Signal file: \\\\Bbfishdc9\\bbfishdc9\\DCBBL1_spinal_01_25_2023\\H1_Igfbpl1,Aldh1l1,Ptbp1\\Conv_zscan__168.zarr\n"
     ]
    },
    {
     "name": "stderr",
     "output_type": "stream",
     "text": [
      "\r",
      " 37%|███████████████████████████▉                                                | 169/459 [2:00:36<4:15:15, 52.81s/it]"
     ]
    },
    {
     "name": "stdout",
     "output_type": "stream",
     "text": [
      "### load signal\n",
      "Signal file: \\\\Bbfishdc9\\bbfishdc9\\DCBBL1_spinal_01_25_2023\\H1_Igfbpl1,Aldh1l1,Ptbp1\\Conv_zscan__169.zarr\n"
     ]
    },
    {
     "name": "stderr",
     "output_type": "stream",
     "text": [
      "\r",
      " 37%|████████████████████████████▏                                               | 170/459 [2:01:26<4:11:04, 52.12s/it]"
     ]
    },
    {
     "name": "stdout",
     "output_type": "stream",
     "text": [
      "### load signal\n",
      "Signal file: \\\\Bbfishdc9\\bbfishdc9\\DCBBL1_spinal_01_25_2023\\H1_Igfbpl1,Aldh1l1,Ptbp1\\Conv_zscan__170.zarr\n"
     ]
    },
    {
     "name": "stderr",
     "output_type": "stream",
     "text": [
      "\r",
      " 37%|████████████████████████████▎                                               | 171/459 [2:02:19<4:10:55, 52.28s/it]"
     ]
    },
    {
     "name": "stdout",
     "output_type": "stream",
     "text": [
      "### load signal\n",
      "Signal file: \\\\Bbfishdc9\\bbfishdc9\\DCBBL1_spinal_01_25_2023\\H1_Igfbpl1,Aldh1l1,Ptbp1\\Conv_zscan__171.zarr\n"
     ]
    },
    {
     "name": "stderr",
     "output_type": "stream",
     "text": [
      "\r",
      " 37%|████████████████████████████▍                                               | 172/459 [2:03:10<4:08:41, 51.99s/it]"
     ]
    },
    {
     "name": "stdout",
     "output_type": "stream",
     "text": [
      "### load signal\n",
      "Signal file: \\\\Bbfishdc9\\bbfishdc9\\DCBBL1_spinal_01_25_2023\\H1_Igfbpl1,Aldh1l1,Ptbp1\\Conv_zscan__172.zarr\n"
     ]
    },
    {
     "name": "stderr",
     "output_type": "stream",
     "text": [
      "\r",
      " 38%|████████████████████████████▋                                               | 173/459 [2:04:01<4:06:13, 51.66s/it]"
     ]
    },
    {
     "name": "stdout",
     "output_type": "stream",
     "text": [
      "### load signal\n",
      "Signal file: \\\\Bbfishdc9\\bbfishdc9\\DCBBL1_spinal_01_25_2023\\H1_Igfbpl1,Aldh1l1,Ptbp1\\Conv_zscan__173.zarr\n"
     ]
    },
    {
     "name": "stderr",
     "output_type": "stream",
     "text": [
      "\r",
      " 38%|████████████████████████████▊                                               | 174/459 [2:04:53<4:05:45, 51.74s/it]"
     ]
    },
    {
     "name": "stdout",
     "output_type": "stream",
     "text": [
      "### load signal\n",
      "Signal file: \\\\Bbfishdc9\\bbfishdc9\\DCBBL1_spinal_01_25_2023\\H1_Igfbpl1,Aldh1l1,Ptbp1\\Conv_zscan__174.zarr\n"
     ]
    },
    {
     "name": "stderr",
     "output_type": "stream",
     "text": [
      "\r",
      " 38%|████████████████████████████▉                                               | 175/459 [2:05:49<4:11:14, 53.08s/it]"
     ]
    },
    {
     "name": "stdout",
     "output_type": "stream",
     "text": [
      "### load signal\n",
      "Signal file: \\\\Bbfishdc9\\bbfishdc9\\DCBBL1_spinal_01_25_2023\\H1_Igfbpl1,Aldh1l1,Ptbp1\\Conv_zscan__175.zarr\n"
     ]
    },
    {
     "name": "stderr",
     "output_type": "stream",
     "text": [
      "\r",
      " 38%|█████████████████████████████▏                                              | 176/459 [2:06:32<3:56:23, 50.12s/it]"
     ]
    },
    {
     "name": "stdout",
     "output_type": "stream",
     "text": [
      "### load signal\n",
      "Signal file: \\\\Bbfishdc9\\bbfishdc9\\DCBBL1_spinal_01_25_2023\\H1_Igfbpl1,Aldh1l1,Ptbp1\\Conv_zscan__176.zarr\n"
     ]
    },
    {
     "name": "stderr",
     "output_type": "stream",
     "text": [
      "\r",
      " 39%|█████████████████████████████▎                                              | 177/459 [2:07:02<3:26:09, 43.86s/it]"
     ]
    },
    {
     "name": "stdout",
     "output_type": "stream",
     "text": [
      "### load signal\n",
      "Signal file: \\\\Bbfishdc9\\bbfishdc9\\DCBBL1_spinal_01_25_2023\\H1_Igfbpl1,Aldh1l1,Ptbp1\\Conv_zscan__177.zarr\n"
     ]
    },
    {
     "name": "stderr",
     "output_type": "stream",
     "text": [
      "\r",
      " 39%|█████████████████████████████▍                                              | 178/459 [2:07:42<3:20:01, 42.71s/it]"
     ]
    },
    {
     "name": "stdout",
     "output_type": "stream",
     "text": [
      "### load signal\n",
      "Signal file: \\\\Bbfishdc9\\bbfishdc9\\DCBBL1_spinal_01_25_2023\\H1_Igfbpl1,Aldh1l1,Ptbp1\\Conv_zscan__178.zarr\n"
     ]
    },
    {
     "name": "stderr",
     "output_type": "stream",
     "text": [
      "\r",
      " 39%|█████████████████████████████▋                                              | 179/459 [2:08:34<3:31:59, 45.43s/it]"
     ]
    },
    {
     "name": "stdout",
     "output_type": "stream",
     "text": [
      "### load signal\n",
      "Signal file: \\\\Bbfishdc9\\bbfishdc9\\DCBBL1_spinal_01_25_2023\\H1_Igfbpl1,Aldh1l1,Ptbp1\\Conv_zscan__179.zarr\n"
     ]
    },
    {
     "name": "stderr",
     "output_type": "stream",
     "text": [
      "\r",
      " 39%|█████████████████████████████▊                                              | 180/459 [2:09:02<3:07:04, 40.23s/it]"
     ]
    },
    {
     "name": "stdout",
     "output_type": "stream",
     "text": [
      "### load signal\n",
      "Signal file: \\\\Bbfishdc9\\bbfishdc9\\DCBBL1_spinal_01_25_2023\\H1_Igfbpl1,Aldh1l1,Ptbp1\\Conv_zscan__180.zarr\n"
     ]
    },
    {
     "name": "stderr",
     "output_type": "stream",
     "text": [
      "\r",
      " 39%|█████████████████████████████▉                                              | 181/459 [2:09:54<3:22:41, 43.75s/it]"
     ]
    },
    {
     "name": "stdout",
     "output_type": "stream",
     "text": [
      "### load signal\n",
      "Signal file: \\\\Bbfishdc9\\bbfishdc9\\DCBBL1_spinal_01_25_2023\\H1_Igfbpl1,Aldh1l1,Ptbp1\\Conv_zscan__181.zarr\n"
     ]
    },
    {
     "name": "stderr",
     "output_type": "stream",
     "text": [
      "\r",
      " 40%|██████████████████████████████▏                                             | 182/459 [2:10:39<3:24:25, 44.28s/it]"
     ]
    },
    {
     "name": "stdout",
     "output_type": "stream",
     "text": [
      "### load signal\n",
      "Signal file: \\\\Bbfishdc9\\bbfishdc9\\DCBBL1_spinal_01_25_2023\\H1_Igfbpl1,Aldh1l1,Ptbp1\\Conv_zscan__182.zarr\n"
     ]
    },
    {
     "name": "stderr",
     "output_type": "stream",
     "text": [
      "\r",
      " 40%|██████████████████████████████▎                                             | 183/459 [2:11:38<3:43:34, 48.60s/it]"
     ]
    },
    {
     "name": "stdout",
     "output_type": "stream",
     "text": [
      "### load signal\n",
      "Signal file: \\\\Bbfishdc9\\bbfishdc9\\DCBBL1_spinal_01_25_2023\\H1_Igfbpl1,Aldh1l1,Ptbp1\\Conv_zscan__183.zarr\n"
     ]
    },
    {
     "name": "stderr",
     "output_type": "stream",
     "text": [
      "\r",
      " 40%|██████████████████████████████▍                                             | 184/459 [2:12:47<4:11:40, 54.91s/it]"
     ]
    },
    {
     "name": "stdout",
     "output_type": "stream",
     "text": [
      "### load signal\n",
      "Signal file: \\\\Bbfishdc9\\bbfishdc9\\DCBBL1_spinal_01_25_2023\\H1_Igfbpl1,Aldh1l1,Ptbp1\\Conv_zscan__184.zarr\n"
     ]
    },
    {
     "name": "stderr",
     "output_type": "stream",
     "text": [
      "\r",
      " 40%|██████████████████████████████▋                                             | 185/459 [2:13:22<3:42:30, 48.72s/it]"
     ]
    },
    {
     "name": "stdout",
     "output_type": "stream",
     "text": [
      "### load signal\n",
      "Signal file: \\\\Bbfishdc9\\bbfishdc9\\DCBBL1_spinal_01_25_2023\\H1_Igfbpl1,Aldh1l1,Ptbp1\\Conv_zscan__185.zarr\n"
     ]
    },
    {
     "name": "stderr",
     "output_type": "stream",
     "text": [
      "\r",
      " 41%|██████████████████████████████▊                                             | 186/459 [2:14:18<3:52:39, 51.13s/it]"
     ]
    },
    {
     "name": "stdout",
     "output_type": "stream",
     "text": [
      "### load signal\n",
      "Signal file: \\\\Bbfishdc9\\bbfishdc9\\DCBBL1_spinal_01_25_2023\\H1_Igfbpl1,Aldh1l1,Ptbp1\\Conv_zscan__186.zarr\n"
     ]
    },
    {
     "name": "stderr",
     "output_type": "stream",
     "text": [
      "\r",
      " 41%|██████████████████████████████▉                                             | 187/459 [2:14:47<3:21:06, 44.36s/it]"
     ]
    },
    {
     "name": "stdout",
     "output_type": "stream",
     "text": [
      "### load signal\n",
      "Signal file: \\\\Bbfishdc9\\bbfishdc9\\DCBBL1_spinal_01_25_2023\\H1_Igfbpl1,Aldh1l1,Ptbp1\\Conv_zscan__187.zarr\n"
     ]
    },
    {
     "name": "stderr",
     "output_type": "stream",
     "text": [
      "\r",
      " 41%|███████████████████████████████▏                                            | 188/459 [2:15:18<3:02:31, 40.41s/it]"
     ]
    },
    {
     "name": "stdout",
     "output_type": "stream",
     "text": [
      "### load signal\n",
      "Signal file: \\\\Bbfishdc9\\bbfishdc9\\DCBBL1_spinal_01_25_2023\\H1_Igfbpl1,Aldh1l1,Ptbp1\\Conv_zscan__188.zarr\n"
     ]
    },
    {
     "name": "stderr",
     "output_type": "stream",
     "text": [
      "\r",
      " 41%|███████████████████████████████▎                                            | 189/459 [2:15:47<2:46:05, 36.91s/it]"
     ]
    },
    {
     "name": "stdout",
     "output_type": "stream",
     "text": [
      "### load signal\n",
      "Signal file: \\\\Bbfishdc9\\bbfishdc9\\DCBBL1_spinal_01_25_2023\\H1_Igfbpl1,Aldh1l1,Ptbp1\\Conv_zscan__189.zarr\n"
     ]
    },
    {
     "name": "stderr",
     "output_type": "stream",
     "text": [
      "\r",
      " 41%|███████████████████████████████▍                                            | 190/459 [2:16:38<3:04:22, 41.12s/it]"
     ]
    },
    {
     "name": "stdout",
     "output_type": "stream",
     "text": [
      "### load signal\n",
      "Signal file: \\\\Bbfishdc9\\bbfishdc9\\DCBBL1_spinal_01_25_2023\\H1_Igfbpl1,Aldh1l1,Ptbp1\\Conv_zscan__190.zarr\n"
     ]
    },
    {
     "name": "stderr",
     "output_type": "stream",
     "text": [
      "\r",
      " 42%|███████████████████████████████▋                                            | 191/459 [2:17:29<3:16:53, 44.08s/it]"
     ]
    },
    {
     "name": "stdout",
     "output_type": "stream",
     "text": [
      "### load signal\n",
      "Signal file: \\\\Bbfishdc9\\bbfishdc9\\DCBBL1_spinal_01_25_2023\\H1_Igfbpl1,Aldh1l1,Ptbp1\\Conv_zscan__191.zarr\n"
     ]
    },
    {
     "name": "stderr",
     "output_type": "stream",
     "text": [
      "\r",
      " 42%|███████████████████████████████▊                                            | 192/459 [2:18:27<3:34:28, 48.20s/it]"
     ]
    },
    {
     "name": "stdout",
     "output_type": "stream",
     "text": [
      "### load signal\n",
      "Signal file: \\\\Bbfishdc9\\bbfishdc9\\DCBBL1_spinal_01_25_2023\\H1_Igfbpl1,Aldh1l1,Ptbp1\\Conv_zscan__192.zarr\n"
     ]
    },
    {
     "name": "stderr",
     "output_type": "stream",
     "text": [
      "\r",
      " 42%|███████████████████████████████▉                                            | 193/459 [2:19:10<3:27:35, 46.83s/it]"
     ]
    },
    {
     "name": "stdout",
     "output_type": "stream",
     "text": [
      "### load signal\n",
      "Signal file: \\\\Bbfishdc9\\bbfishdc9\\DCBBL1_spinal_01_25_2023\\H1_Igfbpl1,Aldh1l1,Ptbp1\\Conv_zscan__193.zarr\n"
     ]
    },
    {
     "name": "stderr",
     "output_type": "stream",
     "text": [
      "\r",
      " 42%|████████████████████████████████                                            | 194/459 [2:19:49<3:16:24, 44.47s/it]"
     ]
    },
    {
     "name": "stdout",
     "output_type": "stream",
     "text": [
      "### load signal\n",
      "Signal file: \\\\Bbfishdc9\\bbfishdc9\\DCBBL1_spinal_01_25_2023\\H1_Igfbpl1,Aldh1l1,Ptbp1\\Conv_zscan__194.zarr\n"
     ]
    },
    {
     "name": "stderr",
     "output_type": "stream",
     "text": [
      "\r",
      " 42%|████████████████████████████████▎                                           | 195/459 [2:20:19<2:55:48, 39.95s/it]"
     ]
    },
    {
     "name": "stdout",
     "output_type": "stream",
     "text": [
      "### load signal\n",
      "Signal file: \\\\Bbfishdc9\\bbfishdc9\\DCBBL1_spinal_01_25_2023\\H1_Igfbpl1,Aldh1l1,Ptbp1\\Conv_zscan__195.zarr\n"
     ]
    },
    {
     "name": "stderr",
     "output_type": "stream",
     "text": [
      "\r",
      " 43%|████████████████████████████████▍                                           | 196/459 [2:20:48<2:41:39, 36.88s/it]"
     ]
    },
    {
     "name": "stdout",
     "output_type": "stream",
     "text": [
      "### load signal\n",
      "Signal file: \\\\Bbfishdc9\\bbfishdc9\\DCBBL1_spinal_01_25_2023\\H1_Igfbpl1,Aldh1l1,Ptbp1\\Conv_zscan__196.zarr\n"
     ]
    },
    {
     "name": "stderr",
     "output_type": "stream",
     "text": [
      "\r",
      " 43%|████████████████████████████████▌                                           | 197/459 [2:21:37<2:56:31, 40.43s/it]"
     ]
    },
    {
     "name": "stdout",
     "output_type": "stream",
     "text": [
      "### load signal\n",
      "Signal file: \\\\Bbfishdc9\\bbfishdc9\\DCBBL1_spinal_01_25_2023\\H1_Igfbpl1,Aldh1l1,Ptbp1\\Conv_zscan__197.zarr\n"
     ]
    },
    {
     "name": "stderr",
     "output_type": "stream",
     "text": [
      "\r",
      " 43%|████████████████████████████████▊                                           | 198/459 [2:22:25<3:05:35, 42.67s/it]"
     ]
    },
    {
     "name": "stdout",
     "output_type": "stream",
     "text": [
      "### load signal\n",
      "Signal file: \\\\Bbfishdc9\\bbfishdc9\\DCBBL1_spinal_01_25_2023\\H1_Igfbpl1,Aldh1l1,Ptbp1\\Conv_zscan__198.zarr\n"
     ]
    },
    {
     "name": "stderr",
     "output_type": "stream",
     "text": [
      "\r",
      " 43%|████████████████████████████████▉                                           | 199/459 [2:23:10<3:08:09, 43.42s/it]"
     ]
    },
    {
     "name": "stdout",
     "output_type": "stream",
     "text": [
      "### load signal\n",
      "Signal file: \\\\Bbfishdc9\\bbfishdc9\\DCBBL1_spinal_01_25_2023\\H1_Igfbpl1,Aldh1l1,Ptbp1\\Conv_zscan__199.zarr\n"
     ]
    },
    {
     "name": "stderr",
     "output_type": "stream",
     "text": [
      "\r",
      " 44%|█████████████████████████████████                                           | 200/459 [2:24:06<3:23:45, 47.20s/it]"
     ]
    },
    {
     "name": "stdout",
     "output_type": "stream",
     "text": [
      "### load signal\n",
      "Signal file: \\\\Bbfishdc9\\bbfishdc9\\DCBBL1_spinal_01_25_2023\\H1_Igfbpl1,Aldh1l1,Ptbp1\\Conv_zscan__200.zarr\n"
     ]
    },
    {
     "name": "stderr",
     "output_type": "stream",
     "text": [
      "\r",
      " 44%|█████████████████████████████████▎                                          | 201/459 [2:24:56<3:26:26, 48.01s/it]"
     ]
    },
    {
     "name": "stdout",
     "output_type": "stream",
     "text": [
      "### load signal\n",
      "Signal file: \\\\Bbfishdc9\\bbfishdc9\\DCBBL1_spinal_01_25_2023\\H1_Igfbpl1,Aldh1l1,Ptbp1\\Conv_zscan__201.zarr\n"
     ]
    },
    {
     "name": "stderr",
     "output_type": "stream",
     "text": [
      "\r",
      " 44%|█████████████████████████████████▍                                          | 202/459 [2:25:53<3:37:15, 50.72s/it]"
     ]
    },
    {
     "name": "stdout",
     "output_type": "stream",
     "text": [
      "### load signal\n",
      "Signal file: \\\\Bbfishdc9\\bbfishdc9\\DCBBL1_spinal_01_25_2023\\H1_Igfbpl1,Aldh1l1,Ptbp1\\Conv_zscan__202.zarr\n"
     ]
    },
    {
     "name": "stderr",
     "output_type": "stream",
     "text": [
      "\r",
      " 44%|█████████████████████████████████▌                                          | 203/459 [2:26:49<3:43:33, 52.39s/it]"
     ]
    },
    {
     "name": "stdout",
     "output_type": "stream",
     "text": [
      "### load signal\n",
      "Signal file: \\\\Bbfishdc9\\bbfishdc9\\DCBBL1_spinal_01_25_2023\\H1_Igfbpl1,Aldh1l1,Ptbp1\\Conv_zscan__203.zarr\n"
     ]
    },
    {
     "name": "stderr",
     "output_type": "stream",
     "text": [
      "\r",
      " 44%|█████████████████████████████████▊                                          | 204/459 [2:27:47<3:49:22, 53.97s/it]"
     ]
    },
    {
     "name": "stdout",
     "output_type": "stream",
     "text": [
      "### load signal\n",
      "Signal file: \\\\Bbfishdc9\\bbfishdc9\\DCBBL1_spinal_01_25_2023\\H1_Igfbpl1,Aldh1l1,Ptbp1\\Conv_zscan__204.zarr\n"
     ]
    },
    {
     "name": "stderr",
     "output_type": "stream",
     "text": [
      "\r",
      " 45%|█████████████████████████████████▉                                          | 205/459 [2:28:18<3:18:30, 46.89s/it]"
     ]
    },
    {
     "name": "stdout",
     "output_type": "stream",
     "text": [
      "### load signal\n",
      "Signal file: \\\\Bbfishdc9\\bbfishdc9\\DCBBL1_spinal_01_25_2023\\H1_Igfbpl1,Aldh1l1,Ptbp1\\Conv_zscan__205.zarr\n"
     ]
    },
    {
     "name": "stderr",
     "output_type": "stream",
     "text": [
      "\r",
      " 45%|██████████████████████████████████                                          | 206/459 [2:28:47<2:56:20, 41.82s/it]"
     ]
    },
    {
     "name": "stdout",
     "output_type": "stream",
     "text": [
      "### load signal\n",
      "Signal file: \\\\Bbfishdc9\\bbfishdc9\\DCBBL1_spinal_01_25_2023\\H1_Igfbpl1,Aldh1l1,Ptbp1\\Conv_zscan__206.zarr\n"
     ]
    },
    {
     "name": "stderr",
     "output_type": "stream",
     "text": [
      "\r",
      " 45%|██████████████████████████████████▎                                         | 207/459 [2:29:25<2:50:16, 40.54s/it]"
     ]
    },
    {
     "name": "stdout",
     "output_type": "stream",
     "text": [
      "### load signal\n",
      "Signal file: \\\\Bbfishdc9\\bbfishdc9\\DCBBL1_spinal_01_25_2023\\H1_Igfbpl1,Aldh1l1,Ptbp1\\Conv_zscan__207.zarr\n"
     ]
    },
    {
     "name": "stderr",
     "output_type": "stream",
     "text": [
      "\r",
      " 45%|██████████████████████████████████▍                                         | 208/459 [2:29:58<2:40:37, 38.39s/it]"
     ]
    },
    {
     "name": "stdout",
     "output_type": "stream",
     "text": [
      "### load signal\n",
      "Signal file: \\\\Bbfishdc9\\bbfishdc9\\DCBBL1_spinal_01_25_2023\\H1_Igfbpl1,Aldh1l1,Ptbp1\\Conv_zscan__208.zarr\n"
     ]
    },
    {
     "name": "stderr",
     "output_type": "stream",
     "text": [
      "\r",
      " 46%|██████████████████████████████████▌                                         | 209/459 [2:30:57<3:05:20, 44.48s/it]"
     ]
    },
    {
     "name": "stdout",
     "output_type": "stream",
     "text": [
      "### load signal\n",
      "Signal file: \\\\Bbfishdc9\\bbfishdc9\\DCBBL1_spinal_01_25_2023\\H1_Igfbpl1,Aldh1l1,Ptbp1\\Conv_zscan__209.zarr\n"
     ]
    },
    {
     "name": "stderr",
     "output_type": "stream",
     "text": [
      "\r",
      " 46%|██████████████████████████████████▊                                         | 210/459 [2:31:54<3:19:45, 48.14s/it]"
     ]
    },
    {
     "name": "stdout",
     "output_type": "stream",
     "text": [
      "### load signal\n",
      "Signal file: \\\\Bbfishdc9\\bbfishdc9\\DCBBL1_spinal_01_25_2023\\H1_Igfbpl1,Aldh1l1,Ptbp1\\Conv_zscan__210.zarr\n"
     ]
    },
    {
     "name": "stderr",
     "output_type": "stream",
     "text": [
      "\r",
      " 46%|██████████████████████████████████▉                                         | 211/459 [2:32:48<3:26:03, 49.85s/it]"
     ]
    },
    {
     "name": "stdout",
     "output_type": "stream",
     "text": [
      "### load signal\n",
      "Signal file: \\\\Bbfishdc9\\bbfishdc9\\DCBBL1_spinal_01_25_2023\\H1_Igfbpl1,Aldh1l1,Ptbp1\\Conv_zscan__211.zarr\n"
     ]
    },
    {
     "name": "stderr",
     "output_type": "stream",
     "text": [
      "\r",
      " 46%|███████████████████████████████████                                         | 212/459 [2:33:39<3:27:30, 50.41s/it]"
     ]
    },
    {
     "name": "stdout",
     "output_type": "stream",
     "text": [
      "### load signal\n",
      "Signal file: \\\\Bbfishdc9\\bbfishdc9\\DCBBL1_spinal_01_25_2023\\H1_Igfbpl1,Aldh1l1,Ptbp1\\Conv_zscan__212.zarr\n"
     ]
    },
    {
     "name": "stderr",
     "output_type": "stream",
     "text": [
      "\r",
      " 46%|███████████████████████████████████▎                                        | 213/459 [2:34:24<3:19:08, 48.57s/it]"
     ]
    },
    {
     "name": "stdout",
     "output_type": "stream",
     "text": [
      "### load signal\n",
      "Signal file: \\\\Bbfishdc9\\bbfishdc9\\DCBBL1_spinal_01_25_2023\\H1_Igfbpl1,Aldh1l1,Ptbp1\\Conv_zscan__213.zarr\n"
     ]
    },
    {
     "name": "stderr",
     "output_type": "stream",
     "text": [
      "\r",
      " 47%|███████████████████████████████████▍                                        | 214/459 [2:35:16<3:22:49, 49.67s/it]"
     ]
    },
    {
     "name": "stdout",
     "output_type": "stream",
     "text": [
      "### load signal\n",
      "Signal file: \\\\Bbfishdc9\\bbfishdc9\\DCBBL1_spinal_01_25_2023\\H1_Igfbpl1,Aldh1l1,Ptbp1\\Conv_zscan__214.zarr\n"
     ]
    },
    {
     "name": "stderr",
     "output_type": "stream",
     "text": [
      "\r",
      " 47%|███████████████████████████████████▌                                        | 215/459 [2:36:08<3:25:35, 50.56s/it]"
     ]
    },
    {
     "name": "stdout",
     "output_type": "stream",
     "text": [
      "### load signal\n",
      "Signal file: \\\\Bbfishdc9\\bbfishdc9\\DCBBL1_spinal_01_25_2023\\H1_Igfbpl1,Aldh1l1,Ptbp1\\Conv_zscan__215.zarr\n"
     ]
    },
    {
     "name": "stderr",
     "output_type": "stream",
     "text": [
      "\r",
      " 47%|███████████████████████████████████▊                                        | 216/459 [2:37:05<3:31:37, 52.25s/it]"
     ]
    },
    {
     "name": "stdout",
     "output_type": "stream",
     "text": [
      "### load signal\n",
      "Signal file: \\\\Bbfishdc9\\bbfishdc9\\DCBBL1_spinal_01_25_2023\\H1_Igfbpl1,Aldh1l1,Ptbp1\\Conv_zscan__216.zarr\n"
     ]
    },
    {
     "name": "stderr",
     "output_type": "stream",
     "text": [
      "\r",
      " 47%|███████████████████████████████████▉                                        | 217/459 [2:38:02<3:36:57, 53.79s/it]"
     ]
    },
    {
     "name": "stdout",
     "output_type": "stream",
     "text": [
      "### load signal\n",
      "Signal file: \\\\Bbfishdc9\\bbfishdc9\\DCBBL1_spinal_01_25_2023\\H1_Igfbpl1,Aldh1l1,Ptbp1\\Conv_zscan__217.zarr\n"
     ]
    },
    {
     "name": "stderr",
     "output_type": "stream",
     "text": [
      "\r",
      " 47%|████████████████████████████████████                                        | 218/459 [2:38:56<3:35:42, 53.70s/it]"
     ]
    },
    {
     "name": "stdout",
     "output_type": "stream",
     "text": [
      "### load signal\n",
      "Signal file: \\\\Bbfishdc9\\bbfishdc9\\DCBBL1_spinal_01_25_2023\\H1_Igfbpl1,Aldh1l1,Ptbp1\\Conv_zscan__218.zarr\n"
     ]
    },
    {
     "name": "stderr",
     "output_type": "stream",
     "text": [
      "\r",
      " 48%|████████████████████████████████████▎                                       | 219/459 [2:39:50<3:35:55, 53.98s/it]"
     ]
    },
    {
     "name": "stdout",
     "output_type": "stream",
     "text": [
      "### load signal\n",
      "Signal file: \\\\Bbfishdc9\\bbfishdc9\\DCBBL1_spinal_01_25_2023\\H1_Igfbpl1,Aldh1l1,Ptbp1\\Conv_zscan__219.zarr\n"
     ]
    },
    {
     "name": "stderr",
     "output_type": "stream",
     "text": [
      "\r",
      " 48%|████████████████████████████████████▍                                       | 220/459 [2:40:43<3:33:31, 53.60s/it]"
     ]
    },
    {
     "name": "stdout",
     "output_type": "stream",
     "text": [
      "### load signal\n",
      "Signal file: \\\\Bbfishdc9\\bbfishdc9\\DCBBL1_spinal_01_25_2023\\H1_Igfbpl1,Aldh1l1,Ptbp1\\Conv_zscan__220.zarr\n"
     ]
    },
    {
     "name": "stderr",
     "output_type": "stream",
     "text": [
      "\r",
      " 48%|████████████████████████████████████▌                                       | 221/459 [2:41:25<3:18:48, 50.12s/it]"
     ]
    },
    {
     "name": "stdout",
     "output_type": "stream",
     "text": [
      "### load signal\n",
      "Signal file: \\\\Bbfishdc9\\bbfishdc9\\DCBBL1_spinal_01_25_2023\\H1_Igfbpl1,Aldh1l1,Ptbp1\\Conv_zscan__221.zarr\n"
     ]
    },
    {
     "name": "stderr",
     "output_type": "stream",
     "text": [
      "\r",
      " 48%|████████████████████████████████████▊                                       | 222/459 [2:42:07<3:09:01, 47.86s/it]"
     ]
    },
    {
     "name": "stdout",
     "output_type": "stream",
     "text": [
      "### load signal\n",
      "Signal file: \\\\Bbfishdc9\\bbfishdc9\\DCBBL1_spinal_01_25_2023\\H1_Igfbpl1,Aldh1l1,Ptbp1\\Conv_zscan__222.zarr\n"
     ]
    },
    {
     "name": "stderr",
     "output_type": "stream",
     "text": [
      "\r",
      " 49%|████████████████████████████████████▉                                       | 223/459 [2:42:38<2:47:47, 42.66s/it]"
     ]
    },
    {
     "name": "stdout",
     "output_type": "stream",
     "text": [
      "### load signal\n",
      "Signal file: \\\\Bbfishdc9\\bbfishdc9\\DCBBL1_spinal_01_25_2023\\H1_Igfbpl1,Aldh1l1,Ptbp1\\Conv_zscan__223.zarr\n"
     ]
    },
    {
     "name": "stderr",
     "output_type": "stream",
     "text": [
      "\r",
      " 49%|█████████████████████████████████████                                       | 224/459 [2:43:34<3:02:56, 46.71s/it]"
     ]
    },
    {
     "name": "stdout",
     "output_type": "stream",
     "text": [
      "### load signal\n",
      "Signal file: \\\\Bbfishdc9\\bbfishdc9\\DCBBL1_spinal_01_25_2023\\H1_Igfbpl1,Aldh1l1,Ptbp1\\Conv_zscan__224.zarr\n"
     ]
    },
    {
     "name": "stderr",
     "output_type": "stream",
     "text": [
      "\r",
      " 49%|█████████████████████████████████████▎                                      | 225/459 [2:44:33<3:16:12, 50.31s/it]"
     ]
    },
    {
     "name": "stdout",
     "output_type": "stream",
     "text": [
      "### load signal\n",
      "Signal file: \\\\Bbfishdc9\\bbfishdc9\\DCBBL1_spinal_01_25_2023\\H1_Igfbpl1,Aldh1l1,Ptbp1\\Conv_zscan__225.zarr\n"
     ]
    },
    {
     "name": "stderr",
     "output_type": "stream",
     "text": [
      "\r",
      " 49%|█████████████████████████████████████▍                                      | 226/459 [2:45:27<3:19:22, 51.34s/it]"
     ]
    },
    {
     "name": "stdout",
     "output_type": "stream",
     "text": [
      "### load signal\n",
      "Signal file: \\\\Bbfishdc9\\bbfishdc9\\DCBBL1_spinal_01_25_2023\\H1_Igfbpl1,Aldh1l1,Ptbp1\\Conv_zscan__226.zarr\n"
     ]
    },
    {
     "name": "stderr",
     "output_type": "stream",
     "text": [
      "\r",
      " 49%|█████████████████████████████████████▌                                      | 227/459 [2:46:24<3:24:55, 53.00s/it]"
     ]
    },
    {
     "name": "stdout",
     "output_type": "stream",
     "text": [
      "### load signal\n",
      "Signal file: \\\\Bbfishdc9\\bbfishdc9\\DCBBL1_spinal_01_25_2023\\H1_Igfbpl1,Aldh1l1,Ptbp1\\Conv_zscan__227.zarr\n"
     ]
    },
    {
     "name": "stderr",
     "output_type": "stream",
     "text": [
      "\r",
      " 50%|█████████████████████████████████████▊                                      | 228/459 [2:47:18<3:26:00, 53.51s/it]"
     ]
    },
    {
     "name": "stdout",
     "output_type": "stream",
     "text": [
      "### load signal\n",
      "Signal file: \\\\Bbfishdc9\\bbfishdc9\\DCBBL1_spinal_01_25_2023\\H1_Igfbpl1,Aldh1l1,Ptbp1\\Conv_zscan__228.zarr\n"
     ]
    },
    {
     "name": "stderr",
     "output_type": "stream",
     "text": [
      "\r",
      " 50%|█████████████████████████████████████▉                                      | 229/459 [2:48:13<3:27:08, 54.04s/it]"
     ]
    },
    {
     "name": "stdout",
     "output_type": "stream",
     "text": [
      "### load signal\n",
      "Signal file: \\\\Bbfishdc9\\bbfishdc9\\DCBBL1_spinal_01_25_2023\\H1_Igfbpl1,Aldh1l1,Ptbp1\\Conv_zscan__229.zarr\n"
     ]
    },
    {
     "name": "stderr",
     "output_type": "stream",
     "text": [
      "\r",
      " 50%|██████████████████████████████████████                                      | 230/459 [2:49:06<3:23:57, 53.44s/it]"
     ]
    },
    {
     "name": "stdout",
     "output_type": "stream",
     "text": [
      "### load signal\n",
      "Signal file: \\\\Bbfishdc9\\bbfishdc9\\DCBBL1_spinal_01_25_2023\\H1_Igfbpl1,Aldh1l1,Ptbp1\\Conv_zscan__230.zarr\n"
     ]
    },
    {
     "name": "stderr",
     "output_type": "stream",
     "text": [
      "\r",
      " 50%|██████████████████████████████████████▏                                     | 231/459 [2:49:38<2:59:05, 47.13s/it]"
     ]
    },
    {
     "name": "stdout",
     "output_type": "stream",
     "text": [
      "### load signal\n",
      "Signal file: \\\\Bbfishdc9\\bbfishdc9\\DCBBL1_spinal_01_25_2023\\H1_Igfbpl1,Aldh1l1,Ptbp1\\Conv_zscan__231.zarr\n"
     ]
    },
    {
     "name": "stderr",
     "output_type": "stream",
     "text": [
      "\r",
      " 51%|██████████████████████████████████████▍                                     | 232/459 [2:50:33<3:07:46, 49.63s/it]"
     ]
    },
    {
     "name": "stdout",
     "output_type": "stream",
     "text": [
      "### load signal\n",
      "Signal file: \\\\Bbfishdc9\\bbfishdc9\\DCBBL1_spinal_01_25_2023\\H1_Igfbpl1,Aldh1l1,Ptbp1\\Conv_zscan__232.zarr\n"
     ]
    },
    {
     "name": "stderr",
     "output_type": "stream",
     "text": [
      "\r",
      " 51%|██████████████████████████████████████▌                                     | 233/459 [2:51:31<3:15:38, 51.94s/it]"
     ]
    },
    {
     "name": "stdout",
     "output_type": "stream",
     "text": [
      "### load signal\n",
      "Signal file: \\\\Bbfishdc9\\bbfishdc9\\DCBBL1_spinal_01_25_2023\\H1_Igfbpl1,Aldh1l1,Ptbp1\\Conv_zscan__233.zarr\n"
     ]
    },
    {
     "name": "stderr",
     "output_type": "stream",
     "text": [
      "\r",
      " 51%|██████████████████████████████████████▋                                     | 234/459 [2:52:20<3:12:13, 51.26s/it]"
     ]
    },
    {
     "name": "stdout",
     "output_type": "stream",
     "text": [
      "### load signal\n",
      "Signal file: \\\\Bbfishdc9\\bbfishdc9\\DCBBL1_spinal_01_25_2023\\H1_Igfbpl1,Aldh1l1,Ptbp1\\Conv_zscan__234.zarr\n"
     ]
    },
    {
     "name": "stderr",
     "output_type": "stream",
     "text": [
      "\r",
      " 51%|██████████████████████████████████████▉                                     | 235/459 [2:53:16<3:16:08, 52.54s/it]"
     ]
    },
    {
     "name": "stdout",
     "output_type": "stream",
     "text": [
      "### load signal\n",
      "Signal file: \\\\Bbfishdc9\\bbfishdc9\\DCBBL1_spinal_01_25_2023\\H1_Igfbpl1,Aldh1l1,Ptbp1\\Conv_zscan__235.zarr\n"
     ]
    },
    {
     "name": "stderr",
     "output_type": "stream",
     "text": [
      "\r",
      " 51%|███████████████████████████████████████                                     | 236/459 [2:54:06<3:12:27, 51.78s/it]"
     ]
    },
    {
     "name": "stdout",
     "output_type": "stream",
     "text": [
      "### load signal\n",
      "Signal file: \\\\Bbfishdc9\\bbfishdc9\\DCBBL1_spinal_01_25_2023\\H1_Igfbpl1,Aldh1l1,Ptbp1\\Conv_zscan__236.zarr\n"
     ]
    },
    {
     "name": "stderr",
     "output_type": "stream",
     "text": [
      "\r",
      " 52%|███████████████████████████████████████▏                                    | 237/459 [2:54:38<2:49:52, 45.91s/it]"
     ]
    },
    {
     "name": "stdout",
     "output_type": "stream",
     "text": [
      "### load signal\n",
      "Signal file: \\\\Bbfishdc9\\bbfishdc9\\DCBBL1_spinal_01_25_2023\\H1_Igfbpl1,Aldh1l1,Ptbp1\\Conv_zscan__237.zarr\n"
     ]
    },
    {
     "name": "stderr",
     "output_type": "stream",
     "text": [
      "\r",
      " 52%|███████████████████████████████████████▍                                    | 238/459 [2:55:35<3:00:49, 49.09s/it]"
     ]
    },
    {
     "name": "stdout",
     "output_type": "stream",
     "text": [
      "### load signal\n",
      "Signal file: \\\\Bbfishdc9\\bbfishdc9\\DCBBL1_spinal_01_25_2023\\H1_Igfbpl1,Aldh1l1,Ptbp1\\Conv_zscan__238.zarr\n"
     ]
    },
    {
     "name": "stderr",
     "output_type": "stream",
     "text": [
      "\r",
      " 52%|███████████████████████████████████████▌                                    | 239/459 [2:56:33<3:10:24, 51.93s/it]"
     ]
    },
    {
     "name": "stdout",
     "output_type": "stream",
     "text": [
      "### load signal\n",
      "Signal file: \\\\Bbfishdc9\\bbfishdc9\\DCBBL1_spinal_01_25_2023\\H1_Igfbpl1,Aldh1l1,Ptbp1\\Conv_zscan__239.zarr\n"
     ]
    },
    {
     "name": "stderr",
     "output_type": "stream",
     "text": [
      "\r",
      " 52%|███████████████████████████████████████▋                                    | 240/459 [2:57:25<3:09:20, 51.88s/it]"
     ]
    },
    {
     "name": "stdout",
     "output_type": "stream",
     "text": [
      "### load signal\n",
      "Signal file: \\\\Bbfishdc9\\bbfishdc9\\DCBBL1_spinal_01_25_2023\\H1_Igfbpl1,Aldh1l1,Ptbp1\\Conv_zscan__240.zarr\n"
     ]
    },
    {
     "name": "stderr",
     "output_type": "stream",
     "text": [
      "\r",
      " 53%|███████████████████████████████████████▉                                    | 241/459 [2:58:23<3:14:51, 53.63s/it]"
     ]
    },
    {
     "name": "stdout",
     "output_type": "stream",
     "text": [
      "### load signal\n",
      "Signal file: \\\\Bbfishdc9\\bbfishdc9\\DCBBL1_spinal_01_25_2023\\H1_Igfbpl1,Aldh1l1,Ptbp1\\Conv_zscan__241.zarr\n"
     ]
    },
    {
     "name": "stderr",
     "output_type": "stream",
     "text": [
      "\r",
      " 53%|████████████████████████████████████████                                    | 242/459 [2:59:25<3:23:38, 56.31s/it]"
     ]
    },
    {
     "name": "stdout",
     "output_type": "stream",
     "text": [
      "### load signal\n",
      "Signal file: \\\\Bbfishdc9\\bbfishdc9\\DCBBL1_spinal_01_25_2023\\H1_Igfbpl1,Aldh1l1,Ptbp1\\Conv_zscan__242.zarr\n"
     ]
    },
    {
     "name": "stderr",
     "output_type": "stream",
     "text": [
      "\r",
      " 53%|████████████████████████████████████████▏                                   | 243/459 [3:00:13<3:13:38, 53.79s/it]"
     ]
    },
    {
     "name": "stdout",
     "output_type": "stream",
     "text": [
      "### load signal\n",
      "Signal file: \\\\Bbfishdc9\\bbfishdc9\\DCBBL1_spinal_01_25_2023\\H1_Igfbpl1,Aldh1l1,Ptbp1\\Conv_zscan__243.zarr\n"
     ]
    },
    {
     "name": "stderr",
     "output_type": "stream",
     "text": [
      "\r",
      " 53%|████████████████████████████████████████▍                                   | 244/459 [3:01:07<3:12:52, 53.83s/it]"
     ]
    },
    {
     "name": "stdout",
     "output_type": "stream",
     "text": [
      "### load signal\n",
      "Signal file: \\\\Bbfishdc9\\bbfishdc9\\DCBBL1_spinal_01_25_2023\\H1_Igfbpl1,Aldh1l1,Ptbp1\\Conv_zscan__244.zarr\n"
     ]
    },
    {
     "name": "stderr",
     "output_type": "stream",
     "text": [
      "\r",
      " 53%|████████████████████████████████████████▌                                   | 245/459 [3:01:59<3:10:13, 53.33s/it]"
     ]
    },
    {
     "name": "stdout",
     "output_type": "stream",
     "text": [
      "### load signal\n",
      "Signal file: \\\\Bbfishdc9\\bbfishdc9\\DCBBL1_spinal_01_25_2023\\H1_Igfbpl1,Aldh1l1,Ptbp1\\Conv_zscan__245.zarr\n"
     ]
    },
    {
     "name": "stderr",
     "output_type": "stream",
     "text": [
      "\r",
      " 54%|████████████████████████████████████████▋                                   | 246/459 [3:02:51<3:07:35, 52.84s/it]"
     ]
    },
    {
     "name": "stdout",
     "output_type": "stream",
     "text": [
      "### load signal\n",
      "Signal file: \\\\Bbfishdc9\\bbfishdc9\\DCBBL1_spinal_01_25_2023\\H1_Igfbpl1,Aldh1l1,Ptbp1\\Conv_zscan__246.zarr\n"
     ]
    },
    {
     "name": "stderr",
     "output_type": "stream",
     "text": [
      "\r",
      " 54%|████████████████████████████████████████▉                                   | 247/459 [3:03:50<3:13:36, 54.80s/it]"
     ]
    },
    {
     "name": "stdout",
     "output_type": "stream",
     "text": [
      "### load signal\n",
      "Signal file: \\\\Bbfishdc9\\bbfishdc9\\DCBBL1_spinal_01_25_2023\\H1_Igfbpl1,Aldh1l1,Ptbp1\\Conv_zscan__247.zarr\n"
     ]
    },
    {
     "name": "stderr",
     "output_type": "stream",
     "text": [
      "\r",
      " 54%|█████████████████████████████████████████                                   | 248/459 [3:04:27<2:53:32, 49.35s/it]"
     ]
    },
    {
     "name": "stdout",
     "output_type": "stream",
     "text": [
      "### load signal\n",
      "Signal file: \\\\Bbfishdc9\\bbfishdc9\\DCBBL1_spinal_01_25_2023\\H1_Igfbpl1,Aldh1l1,Ptbp1\\Conv_zscan__248.zarr\n"
     ]
    },
    {
     "name": "stderr",
     "output_type": "stream",
     "text": [
      "\r",
      " 54%|█████████████████████████████████████████▏                                  | 249/459 [3:04:59<2:34:18, 44.09s/it]"
     ]
    },
    {
     "name": "stdout",
     "output_type": "stream",
     "text": [
      "### load signal\n",
      "Signal file: \\\\Bbfishdc9\\bbfishdc9\\DCBBL1_spinal_01_25_2023\\H1_Igfbpl1,Aldh1l1,Ptbp1\\Conv_zscan__249.zarr\n"
     ]
    },
    {
     "name": "stderr",
     "output_type": "stream",
     "text": [
      "\r",
      " 54%|█████████████████████████████████████████▍                                  | 250/459 [3:05:40<2:30:28, 43.20s/it]"
     ]
    },
    {
     "name": "stdout",
     "output_type": "stream",
     "text": [
      "### load signal\n",
      "Signal file: \\\\Bbfishdc9\\bbfishdc9\\DCBBL1_spinal_01_25_2023\\H1_Igfbpl1,Aldh1l1,Ptbp1\\Conv_zscan__250.zarr\n"
     ]
    },
    {
     "name": "stderr",
     "output_type": "stream",
     "text": [
      "\r",
      " 55%|█████████████████████████████████████████▌                                  | 251/459 [3:06:53<3:00:52, 52.17s/it]"
     ]
    },
    {
     "name": "stdout",
     "output_type": "stream",
     "text": [
      "### load signal\n",
      "Signal file: \\\\Bbfishdc9\\bbfishdc9\\DCBBL1_spinal_01_25_2023\\H1_Igfbpl1,Aldh1l1,Ptbp1\\Conv_zscan__251.zarr\n"
     ]
    },
    {
     "name": "stderr",
     "output_type": "stream",
     "text": [
      "\r",
      " 55%|█████████████████████████████████████████▋                                  | 252/459 [3:07:25<2:38:53, 46.06s/it]"
     ]
    },
    {
     "name": "stdout",
     "output_type": "stream",
     "text": [
      "### load signal\n",
      "Signal file: \\\\Bbfishdc9\\bbfishdc9\\DCBBL1_spinal_01_25_2023\\H1_Igfbpl1,Aldh1l1,Ptbp1\\Conv_zscan__252.zarr\n"
     ]
    },
    {
     "name": "stderr",
     "output_type": "stream",
     "text": [
      "\r",
      " 55%|█████████████████████████████████████████▉                                  | 253/459 [3:08:25<2:52:34, 50.26s/it]"
     ]
    },
    {
     "name": "stdout",
     "output_type": "stream",
     "text": [
      "### load signal\n",
      "Signal file: \\\\Bbfishdc9\\bbfishdc9\\DCBBL1_spinal_01_25_2023\\H1_Igfbpl1,Aldh1l1,Ptbp1\\Conv_zscan__253.zarr\n"
     ]
    },
    {
     "name": "stderr",
     "output_type": "stream",
     "text": [
      "\r",
      " 55%|██████████████████████████████████████████                                  | 254/459 [3:09:31<3:08:17, 55.11s/it]"
     ]
    },
    {
     "name": "stdout",
     "output_type": "stream",
     "text": [
      "### load signal\n",
      "Signal file: \\\\Bbfishdc9\\bbfishdc9\\DCBBL1_spinal_01_25_2023\\H1_Igfbpl1,Aldh1l1,Ptbp1\\Conv_zscan__254.zarr\n"
     ]
    },
    {
     "name": "stderr",
     "output_type": "stream",
     "text": [
      "\r",
      " 56%|██████████████████████████████████████████▏                                 | 255/459 [3:10:23<3:03:56, 54.10s/it]"
     ]
    },
    {
     "name": "stdout",
     "output_type": "stream",
     "text": [
      "### load signal\n",
      "Signal file: \\\\Bbfishdc9\\bbfishdc9\\DCBBL1_spinal_01_25_2023\\H1_Igfbpl1,Aldh1l1,Ptbp1\\Conv_zscan__255.zarr\n"
     ]
    },
    {
     "name": "stderr",
     "output_type": "stream",
     "text": [
      "\r",
      " 56%|██████████████████████████████████████████▍                                 | 256/459 [3:10:54<2:40:01, 47.30s/it]"
     ]
    },
    {
     "name": "stdout",
     "output_type": "stream",
     "text": [
      "### load signal\n",
      "Signal file: \\\\Bbfishdc9\\bbfishdc9\\DCBBL1_spinal_01_25_2023\\H1_Igfbpl1,Aldh1l1,Ptbp1\\Conv_zscan__256.zarr\n"
     ]
    },
    {
     "name": "stderr",
     "output_type": "stream",
     "text": [
      "\r",
      " 56%|██████████████████████████████████████████▌                                 | 257/459 [3:11:27<2:24:20, 42.88s/it]"
     ]
    },
    {
     "name": "stdout",
     "output_type": "stream",
     "text": [
      "### load signal\n",
      "Signal file: \\\\Bbfishdc9\\bbfishdc9\\DCBBL1_spinal_01_25_2023\\H1_Igfbpl1,Aldh1l1,Ptbp1\\Conv_zscan__257.zarr\n"
     ]
    },
    {
     "name": "stderr",
     "output_type": "stream",
     "text": [
      "\r",
      " 56%|██████████████████████████████████████████▋                                 | 258/459 [3:12:21<2:35:07, 46.31s/it]"
     ]
    },
    {
     "name": "stdout",
     "output_type": "stream",
     "text": [
      "### load signal\n",
      "Signal file: \\\\Bbfishdc9\\bbfishdc9\\DCBBL1_spinal_01_25_2023\\H1_Igfbpl1,Aldh1l1,Ptbp1\\Conv_zscan__258.zarr\n"
     ]
    },
    {
     "name": "stderr",
     "output_type": "stream",
     "text": [
      "\r",
      " 56%|██████████████████████████████████████████▉                                 | 259/459 [3:12:55<2:21:22, 42.41s/it]"
     ]
    },
    {
     "name": "stdout",
     "output_type": "stream",
     "text": [
      "### load signal\n",
      "Signal file: \\\\Bbfishdc9\\bbfishdc9\\DCBBL1_spinal_01_25_2023\\H1_Igfbpl1,Aldh1l1,Ptbp1\\Conv_zscan__259.zarr\n"
     ]
    },
    {
     "name": "stderr",
     "output_type": "stream",
     "text": [
      "\r",
      " 57%|███████████████████████████████████████████                                 | 260/459 [3:13:31<2:14:45, 40.63s/it]"
     ]
    },
    {
     "name": "stdout",
     "output_type": "stream",
     "text": [
      "### load signal\n",
      "Signal file: \\\\Bbfishdc9\\bbfishdc9\\DCBBL1_spinal_01_25_2023\\H1_Igfbpl1,Aldh1l1,Ptbp1\\Conv_zscan__260.zarr\n"
     ]
    },
    {
     "name": "stderr",
     "output_type": "stream",
     "text": [
      "\r",
      " 57%|███████████████████████████████████████████▏                                | 261/459 [3:14:26<2:27:47, 44.78s/it]"
     ]
    },
    {
     "name": "stdout",
     "output_type": "stream",
     "text": [
      "### load signal\n",
      "Signal file: \\\\Bbfishdc9\\bbfishdc9\\DCBBL1_spinal_01_25_2023\\H1_Igfbpl1,Aldh1l1,Ptbp1\\Conv_zscan__261.zarr\n"
     ]
    },
    {
     "name": "stderr",
     "output_type": "stream",
     "text": [
      "\r",
      " 57%|███████████████████████████████████████████▍                                | 262/459 [3:15:10<2:27:08, 44.82s/it]"
     ]
    },
    {
     "name": "stdout",
     "output_type": "stream",
     "text": [
      "### load signal\n",
      "Signal file: \\\\Bbfishdc9\\bbfishdc9\\DCBBL1_spinal_01_25_2023\\H1_Igfbpl1,Aldh1l1,Ptbp1\\Conv_zscan__262.zarr\n"
     ]
    },
    {
     "name": "stderr",
     "output_type": "stream",
     "text": [
      "\r",
      " 57%|███████████████████████████████████████████▌                                | 263/459 [3:16:02<2:32:32, 46.69s/it]"
     ]
    },
    {
     "name": "stdout",
     "output_type": "stream",
     "text": [
      "### load signal\n",
      "Signal file: \\\\Bbfishdc9\\bbfishdc9\\DCBBL1_spinal_01_25_2023\\H1_Igfbpl1,Aldh1l1,Ptbp1\\Conv_zscan__263.zarr\n"
     ]
    },
    {
     "name": "stderr",
     "output_type": "stream",
     "text": [
      "\r",
      " 58%|███████████████████████████████████████████▋                                | 264/459 [3:16:54<2:36:54, 48.28s/it]"
     ]
    },
    {
     "name": "stdout",
     "output_type": "stream",
     "text": [
      "### load signal\n",
      "Signal file: \\\\Bbfishdc9\\bbfishdc9\\DCBBL1_spinal_01_25_2023\\H1_Igfbpl1,Aldh1l1,Ptbp1\\Conv_zscan__264.zarr\n"
     ]
    },
    {
     "name": "stderr",
     "output_type": "stream",
     "text": [
      "\r",
      " 58%|███████████████████████████████████████████▉                                | 265/459 [3:17:49<2:42:53, 50.38s/it]"
     ]
    },
    {
     "name": "stdout",
     "output_type": "stream",
     "text": [
      "### load signal\n",
      "Signal file: \\\\Bbfishdc9\\bbfishdc9\\DCBBL1_spinal_01_25_2023\\H1_Igfbpl1,Aldh1l1,Ptbp1\\Conv_zscan__265.zarr\n"
     ]
    },
    {
     "name": "stderr",
     "output_type": "stream",
     "text": [
      "\r",
      " 58%|████████████████████████████████████████████                                | 266/459 [3:18:43<2:45:57, 51.60s/it]"
     ]
    },
    {
     "name": "stdout",
     "output_type": "stream",
     "text": [
      "### load signal\n",
      "Signal file: \\\\Bbfishdc9\\bbfishdc9\\DCBBL1_spinal_01_25_2023\\H1_Igfbpl1,Aldh1l1,Ptbp1\\Conv_zscan__266.zarr\n"
     ]
    },
    {
     "name": "stderr",
     "output_type": "stream",
     "text": [
      "\r",
      " 58%|████████████████████████████████████████████▏                               | 267/459 [3:19:38<2:47:49, 52.44s/it]"
     ]
    },
    {
     "name": "stdout",
     "output_type": "stream",
     "text": [
      "### load signal\n",
      "Signal file: \\\\Bbfishdc9\\bbfishdc9\\DCBBL1_spinal_01_25_2023\\H1_Igfbpl1,Aldh1l1,Ptbp1\\Conv_zscan__267.zarr\n"
     ]
    },
    {
     "name": "stderr",
     "output_type": "stream",
     "text": [
      "\r",
      " 58%|████████████████████████████████████████████▎                               | 268/459 [3:20:36<2:52:37, 54.23s/it]"
     ]
    },
    {
     "name": "stdout",
     "output_type": "stream",
     "text": [
      "### load signal\n",
      "Signal file: \\\\Bbfishdc9\\bbfishdc9\\DCBBL1_spinal_01_25_2023\\H1_Igfbpl1,Aldh1l1,Ptbp1\\Conv_zscan__268.zarr\n"
     ]
    },
    {
     "name": "stderr",
     "output_type": "stream",
     "text": [
      "\r",
      " 59%|████████████████████████████████████████████▌                               | 269/459 [3:21:12<2:34:23, 48.76s/it]"
     ]
    },
    {
     "name": "stdout",
     "output_type": "stream",
     "text": [
      "### load signal\n",
      "Signal file: \\\\Bbfishdc9\\bbfishdc9\\DCBBL1_spinal_01_25_2023\\H1_Igfbpl1,Aldh1l1,Ptbp1\\Conv_zscan__269.zarr\n"
     ]
    },
    {
     "name": "stderr",
     "output_type": "stream",
     "text": [
      "\r",
      " 59%|████████████████████████████████████████████▋                               | 270/459 [3:21:43<2:16:35, 43.36s/it]"
     ]
    },
    {
     "name": "stdout",
     "output_type": "stream",
     "text": [
      "### load signal\n",
      "Signal file: \\\\Bbfishdc9\\bbfishdc9\\DCBBL1_spinal_01_25_2023\\H1_Igfbpl1,Aldh1l1,Ptbp1\\Conv_zscan__270.zarr\n"
     ]
    },
    {
     "name": "stderr",
     "output_type": "stream",
     "text": [
      "\r",
      " 59%|████████████████████████████████████████████▊                               | 271/459 [3:22:14<2:04:38, 39.78s/it]"
     ]
    },
    {
     "name": "stdout",
     "output_type": "stream",
     "text": [
      "### load signal\n",
      "Signal file: \\\\Bbfishdc9\\bbfishdc9\\DCBBL1_spinal_01_25_2023\\H1_Igfbpl1,Aldh1l1,Ptbp1\\Conv_zscan__271.zarr\n"
     ]
    },
    {
     "name": "stderr",
     "output_type": "stream",
     "text": [
      "\r",
      " 59%|█████████████████████████████████████████████                               | 272/459 [3:22:55<2:04:40, 40.00s/it]"
     ]
    },
    {
     "name": "stdout",
     "output_type": "stream",
     "text": [
      "### load signal\n",
      "Signal file: \\\\Bbfishdc9\\bbfishdc9\\DCBBL1_spinal_01_25_2023\\H1_Igfbpl1,Aldh1l1,Ptbp1\\Conv_zscan__272.zarr\n"
     ]
    },
    {
     "name": "stderr",
     "output_type": "stream",
     "text": [
      "\r",
      " 59%|█████████████████████████████████████████████▏                              | 273/459 [3:23:26<1:55:40, 37.31s/it]"
     ]
    },
    {
     "name": "stdout",
     "output_type": "stream",
     "text": [
      "### load signal\n",
      "Signal file: \\\\Bbfishdc9\\bbfishdc9\\DCBBL1_spinal_01_25_2023\\H1_Igfbpl1,Aldh1l1,Ptbp1\\Conv_zscan__273.zarr\n"
     ]
    },
    {
     "name": "stderr",
     "output_type": "stream",
     "text": [
      "\r",
      " 60%|█████████████████████████████████████████████▎                              | 274/459 [3:24:22<2:12:22, 42.93s/it]"
     ]
    },
    {
     "name": "stdout",
     "output_type": "stream",
     "text": [
      "### load signal\n",
      "Signal file: \\\\Bbfishdc9\\bbfishdc9\\DCBBL1_spinal_01_25_2023\\H1_Igfbpl1,Aldh1l1,Ptbp1\\Conv_zscan__274.zarr\n"
     ]
    },
    {
     "name": "stderr",
     "output_type": "stream",
     "text": [
      "\r",
      " 60%|█████████████████████████████████████████████▌                              | 275/459 [3:24:51<1:59:17, 38.90s/it]"
     ]
    },
    {
     "name": "stdout",
     "output_type": "stream",
     "text": [
      "### load signal\n",
      "Signal file: \\\\Bbfishdc9\\bbfishdc9\\DCBBL1_spinal_01_25_2023\\H1_Igfbpl1,Aldh1l1,Ptbp1\\Conv_zscan__275.zarr\n"
     ]
    },
    {
     "name": "stderr",
     "output_type": "stream",
     "text": [
      "\r",
      " 60%|█████████████████████████████████████████████▋                              | 276/459 [3:25:28<1:56:20, 38.15s/it]"
     ]
    },
    {
     "name": "stdout",
     "output_type": "stream",
     "text": [
      "### load signal\n",
      "Signal file: \\\\Bbfishdc9\\bbfishdc9\\DCBBL1_spinal_01_25_2023\\H1_Igfbpl1,Aldh1l1,Ptbp1\\Conv_zscan__276.zarr\n"
     ]
    },
    {
     "name": "stderr",
     "output_type": "stream",
     "text": [
      "\r",
      " 60%|█████████████████████████████████████████████▊                              | 277/459 [3:25:58<1:48:46, 35.86s/it]"
     ]
    },
    {
     "name": "stdout",
     "output_type": "stream",
     "text": [
      "### load signal\n",
      "Signal file: \\\\Bbfishdc9\\bbfishdc9\\DCBBL1_spinal_01_25_2023\\H1_Igfbpl1,Aldh1l1,Ptbp1\\Conv_zscan__277.zarr\n"
     ]
    },
    {
     "name": "stderr",
     "output_type": "stream",
     "text": [
      "\r",
      " 61%|██████████████████████████████████████████████                              | 278/459 [3:26:35<1:48:50, 36.08s/it]"
     ]
    },
    {
     "name": "stdout",
     "output_type": "stream",
     "text": [
      "### load signal\n",
      "Signal file: \\\\Bbfishdc9\\bbfishdc9\\DCBBL1_spinal_01_25_2023\\H1_Igfbpl1,Aldh1l1,Ptbp1\\Conv_zscan__278.zarr\n"
     ]
    },
    {
     "name": "stderr",
     "output_type": "stream",
     "text": [
      "\r",
      " 61%|██████████████████████████████████████████████▏                             | 279/459 [3:27:22<1:57:59, 39.33s/it]"
     ]
    },
    {
     "name": "stdout",
     "output_type": "stream",
     "text": [
      "### load signal\n",
      "Signal file: \\\\Bbfishdc9\\bbfishdc9\\DCBBL1_spinal_01_25_2023\\H1_Igfbpl1,Aldh1l1,Ptbp1\\Conv_zscan__279.zarr\n"
     ]
    },
    {
     "name": "stderr",
     "output_type": "stream",
     "text": [
      "\r",
      " 61%|██████████████████████████████████████████████▎                             | 280/459 [3:28:13<2:07:59, 42.90s/it]"
     ]
    },
    {
     "name": "stdout",
     "output_type": "stream",
     "text": [
      "### load signal\n",
      "Signal file: \\\\Bbfishdc9\\bbfishdc9\\DCBBL1_spinal_01_25_2023\\H1_Igfbpl1,Aldh1l1,Ptbp1\\Conv_zscan__280.zarr\n"
     ]
    },
    {
     "name": "stderr",
     "output_type": "stream",
     "text": [
      "\r",
      " 61%|██████████████████████████████████████████████▌                             | 281/459 [3:29:08<2:17:56, 46.50s/it]"
     ]
    },
    {
     "name": "stdout",
     "output_type": "stream",
     "text": [
      "### load signal\n",
      "Signal file: \\\\Bbfishdc9\\bbfishdc9\\DCBBL1_spinal_01_25_2023\\H1_Igfbpl1,Aldh1l1,Ptbp1\\Conv_zscan__281.zarr\n"
     ]
    },
    {
     "name": "stderr",
     "output_type": "stream",
     "text": [
      "\r",
      " 61%|██████████████████████████████████████████████▋                             | 282/459 [3:29:57<2:19:25, 47.26s/it]"
     ]
    },
    {
     "name": "stdout",
     "output_type": "stream",
     "text": [
      "### load signal\n",
      "Signal file: \\\\Bbfishdc9\\bbfishdc9\\DCBBL1_spinal_01_25_2023\\H1_Igfbpl1,Aldh1l1,Ptbp1\\Conv_zscan__282.zarr\n"
     ]
    },
    {
     "name": "stderr",
     "output_type": "stream",
     "text": [
      "\r",
      " 62%|██████████████████████████████████████████████▊                             | 283/459 [3:30:53<2:26:19, 49.88s/it]"
     ]
    },
    {
     "name": "stdout",
     "output_type": "stream",
     "text": [
      "### load signal\n",
      "Signal file: \\\\Bbfishdc9\\bbfishdc9\\DCBBL1_spinal_01_25_2023\\H1_Igfbpl1,Aldh1l1,Ptbp1\\Conv_zscan__283.zarr\n"
     ]
    },
    {
     "name": "stderr",
     "output_type": "stream",
     "text": [
      "\r",
      " 62%|███████████████████████████████████████████████                             | 284/459 [3:31:45<2:27:13, 50.48s/it]"
     ]
    },
    {
     "name": "stdout",
     "output_type": "stream",
     "text": [
      "### load signal\n",
      "Signal file: \\\\Bbfishdc9\\bbfishdc9\\DCBBL1_spinal_01_25_2023\\H1_Igfbpl1,Aldh1l1,Ptbp1\\Conv_zscan__284.zarr\n"
     ]
    },
    {
     "name": "stderr",
     "output_type": "stream",
     "text": [
      "\r",
      " 62%|███████████████████████████████████████████████▏                            | 285/459 [3:32:39<2:29:16, 51.47s/it]"
     ]
    },
    {
     "name": "stdout",
     "output_type": "stream",
     "text": [
      "### load signal\n",
      "Signal file: \\\\Bbfishdc9\\bbfishdc9\\DCBBL1_spinal_01_25_2023\\H1_Igfbpl1,Aldh1l1,Ptbp1\\Conv_zscan__285.zarr\n"
     ]
    },
    {
     "name": "stderr",
     "output_type": "stream",
     "text": [
      "\r",
      " 62%|███████████████████████████████████████████████▎                            | 286/459 [3:33:32<2:30:09, 52.08s/it]"
     ]
    },
    {
     "name": "stdout",
     "output_type": "stream",
     "text": [
      "### load signal\n",
      "Signal file: \\\\Bbfishdc9\\bbfishdc9\\DCBBL1_spinal_01_25_2023\\H1_Igfbpl1,Aldh1l1,Ptbp1\\Conv_zscan__286.zarr\n"
     ]
    },
    {
     "name": "stderr",
     "output_type": "stream",
     "text": [
      "\r",
      " 63%|███████████████████████████████████████████████▌                            | 287/459 [3:34:31<2:34:50, 54.02s/it]"
     ]
    },
    {
     "name": "stdout",
     "output_type": "stream",
     "text": [
      "### load signal\n",
      "Signal file: \\\\Bbfishdc9\\bbfishdc9\\DCBBL1_spinal_01_25_2023\\H1_Igfbpl1,Aldh1l1,Ptbp1\\Conv_zscan__287.zarr\n"
     ]
    },
    {
     "name": "stderr",
     "output_type": "stream",
     "text": [
      "\r",
      " 63%|███████████████████████████████████████████████▋                            | 288/459 [3:35:04<2:16:38, 47.95s/it]"
     ]
    },
    {
     "name": "stdout",
     "output_type": "stream",
     "text": [
      "### load signal\n",
      "Signal file: \\\\Bbfishdc9\\bbfishdc9\\DCBBL1_spinal_01_25_2023\\H1_Igfbpl1,Aldh1l1,Ptbp1\\Conv_zscan__288.zarr\n"
     ]
    },
    {
     "name": "stderr",
     "output_type": "stream",
     "text": [
      "\r",
      " 63%|███████████████████████████████████████████████▊                            | 289/459 [3:35:58<2:20:46, 49.68s/it]"
     ]
    },
    {
     "name": "stdout",
     "output_type": "stream",
     "text": [
      "### load signal\n",
      "Signal file: \\\\Bbfishdc9\\bbfishdc9\\DCBBL1_spinal_01_25_2023\\H1_Igfbpl1,Aldh1l1,Ptbp1\\Conv_zscan__289.zarr\n"
     ]
    },
    {
     "name": "stderr",
     "output_type": "stream",
     "text": [
      "\r",
      " 63%|████████████████████████████████████████████████                            | 290/459 [3:36:44<2:16:49, 48.57s/it]"
     ]
    },
    {
     "name": "stdout",
     "output_type": "stream",
     "text": [
      "### load signal\n",
      "Signal file: \\\\Bbfishdc9\\bbfishdc9\\DCBBL1_spinal_01_25_2023\\H1_Igfbpl1,Aldh1l1,Ptbp1\\Conv_zscan__290.zarr\n"
     ]
    },
    {
     "name": "stderr",
     "output_type": "stream",
     "text": [
      "\r",
      " 63%|████████████████████████████████████████████████▏                           | 291/459 [3:37:32<2:15:11, 48.28s/it]"
     ]
    },
    {
     "name": "stdout",
     "output_type": "stream",
     "text": [
      "### load signal\n",
      "Signal file: \\\\Bbfishdc9\\bbfishdc9\\DCBBL1_spinal_01_25_2023\\H1_Igfbpl1,Aldh1l1,Ptbp1\\Conv_zscan__291.zarr\n"
     ]
    },
    {
     "name": "stderr",
     "output_type": "stream",
     "text": [
      "\r",
      " 64%|████████████████████████████████████████████████▎                           | 292/459 [3:38:09<2:04:47, 44.83s/it]"
     ]
    },
    {
     "name": "stdout",
     "output_type": "stream",
     "text": [
      "### load signal\n",
      "Signal file: \\\\Bbfishdc9\\bbfishdc9\\DCBBL1_spinal_01_25_2023\\H1_Igfbpl1,Aldh1l1,Ptbp1\\Conv_zscan__292.zarr\n"
     ]
    },
    {
     "name": "stderr",
     "output_type": "stream",
     "text": [
      "\r",
      " 64%|████████████████████████████████████████████████▌                           | 293/459 [3:39:07<2:15:12, 48.87s/it]"
     ]
    },
    {
     "name": "stdout",
     "output_type": "stream",
     "text": [
      "### load signal\n",
      "Signal file: \\\\Bbfishdc9\\bbfishdc9\\DCBBL1_spinal_01_25_2023\\H1_Igfbpl1,Aldh1l1,Ptbp1\\Conv_zscan__293.zarr\n"
     ]
    },
    {
     "name": "stderr",
     "output_type": "stream",
     "text": [
      "\r",
      " 64%|████████████████████████████████████████████████▋                           | 294/459 [3:40:03<2:20:13, 50.99s/it]"
     ]
    },
    {
     "name": "stdout",
     "output_type": "stream",
     "text": [
      "### load signal\n",
      "Signal file: \\\\Bbfishdc9\\bbfishdc9\\DCBBL1_spinal_01_25_2023\\H1_Igfbpl1,Aldh1l1,Ptbp1\\Conv_zscan__294.zarr\n"
     ]
    },
    {
     "name": "stderr",
     "output_type": "stream",
     "text": [
      "\r",
      " 64%|████████████████████████████████████████████████▊                           | 295/459 [3:40:59<2:23:46, 52.60s/it]"
     ]
    },
    {
     "name": "stdout",
     "output_type": "stream",
     "text": [
      "### load signal\n",
      "Signal file: \\\\Bbfishdc9\\bbfishdc9\\DCBBL1_spinal_01_25_2023\\H1_Igfbpl1,Aldh1l1,Ptbp1\\Conv_zscan__295.zarr\n"
     ]
    },
    {
     "name": "stderr",
     "output_type": "stream",
     "text": [
      "\r",
      " 64%|█████████████████████████████████████████████████                           | 296/459 [3:41:34<2:08:06, 47.16s/it]"
     ]
    },
    {
     "name": "stdout",
     "output_type": "stream",
     "text": [
      "### load signal\n",
      "Signal file: \\\\Bbfishdc9\\bbfishdc9\\DCBBL1_spinal_01_25_2023\\H1_Igfbpl1,Aldh1l1,Ptbp1\\Conv_zscan__296.zarr\n"
     ]
    },
    {
     "name": "stderr",
     "output_type": "stream",
     "text": [
      "\r",
      " 65%|█████████████████████████████████████████████████▏                          | 297/459 [3:42:18<2:04:53, 46.26s/it]"
     ]
    },
    {
     "name": "stdout",
     "output_type": "stream",
     "text": [
      "### load signal\n",
      "Signal file: \\\\Bbfishdc9\\bbfishdc9\\DCBBL1_spinal_01_25_2023\\H1_Igfbpl1,Aldh1l1,Ptbp1\\Conv_zscan__297.zarr\n"
     ]
    },
    {
     "name": "stderr",
     "output_type": "stream",
     "text": [
      "\r",
      " 65%|█████████████████████████████████████████████████▎                          | 298/459 [3:43:14<2:12:25, 49.35s/it]"
     ]
    },
    {
     "name": "stdout",
     "output_type": "stream",
     "text": [
      "### load signal\n",
      "Signal file: \\\\Bbfishdc9\\bbfishdc9\\DCBBL1_spinal_01_25_2023\\H1_Igfbpl1,Aldh1l1,Ptbp1\\Conv_zscan__298.zarr\n"
     ]
    },
    {
     "name": "stderr",
     "output_type": "stream",
     "text": [
      "\r",
      " 65%|█████████████████████████████████████████████████▌                          | 299/459 [3:44:10<2:16:31, 51.20s/it]"
     ]
    },
    {
     "name": "stdout",
     "output_type": "stream",
     "text": [
      "### load signal\n",
      "Signal file: \\\\Bbfishdc9\\bbfishdc9\\DCBBL1_spinal_01_25_2023\\H1_Igfbpl1,Aldh1l1,Ptbp1\\Conv_zscan__299.zarr\n"
     ]
    },
    {
     "name": "stderr",
     "output_type": "stream",
     "text": [
      "\r",
      " 65%|█████████████████████████████████████████████████▋                          | 300/459 [3:44:58<2:13:33, 50.40s/it]"
     ]
    },
    {
     "name": "stdout",
     "output_type": "stream",
     "text": [
      "### load signal\n",
      "Signal file: \\\\Bbfishdc9\\bbfishdc9\\DCBBL1_spinal_01_25_2023\\H1_Igfbpl1,Aldh1l1,Ptbp1\\Conv_zscan__300.zarr\n"
     ]
    },
    {
     "name": "stderr",
     "output_type": "stream",
     "text": [
      "\r",
      " 66%|█████████████████████████████████████████████████▊                          | 301/459 [3:45:34<2:01:11, 46.02s/it]"
     ]
    },
    {
     "name": "stdout",
     "output_type": "stream",
     "text": [
      "### load signal\n",
      "Signal file: \\\\Bbfishdc9\\bbfishdc9\\DCBBL1_spinal_01_25_2023\\H1_Igfbpl1,Aldh1l1,Ptbp1\\Conv_zscan__301.zarr\n"
     ]
    },
    {
     "name": "stderr",
     "output_type": "stream",
     "text": [
      "\r",
      " 66%|██████████████████████████████████████████████████                          | 302/459 [3:46:15<1:56:37, 44.57s/it]"
     ]
    },
    {
     "name": "stdout",
     "output_type": "stream",
     "text": [
      "### load signal\n",
      "Signal file: \\\\Bbfishdc9\\bbfishdc9\\DCBBL1_spinal_01_25_2023\\H1_Igfbpl1,Aldh1l1,Ptbp1\\Conv_zscan__302.zarr\n"
     ]
    },
    {
     "name": "stderr",
     "output_type": "stream",
     "text": [
      "\r",
      " 66%|██████████████████████████████████████████████████▏                         | 303/459 [3:47:05<2:00:03, 46.18s/it]"
     ]
    },
    {
     "name": "stdout",
     "output_type": "stream",
     "text": [
      "### load signal\n",
      "Signal file: \\\\Bbfishdc9\\bbfishdc9\\DCBBL1_spinal_01_25_2023\\H1_Igfbpl1,Aldh1l1,Ptbp1\\Conv_zscan__303.zarr\n"
     ]
    },
    {
     "name": "stderr",
     "output_type": "stream",
     "text": [
      "\r",
      " 66%|██████████████████████████████████████████████████▎                         | 304/459 [3:47:37<1:48:26, 41.98s/it]"
     ]
    },
    {
     "name": "stdout",
     "output_type": "stream",
     "text": [
      "### load signal\n",
      "Signal file: \\\\Bbfishdc9\\bbfishdc9\\DCBBL1_spinal_01_25_2023\\H1_Igfbpl1,Aldh1l1,Ptbp1\\Conv_zscan__304.zarr\n"
     ]
    },
    {
     "name": "stderr",
     "output_type": "stream",
     "text": [
      "\r",
      " 66%|██████████████████████████████████████████████████▌                         | 305/459 [3:48:17<1:45:33, 41.13s/it]"
     ]
    },
    {
     "name": "stdout",
     "output_type": "stream",
     "text": [
      "### load signal\n",
      "Signal file: \\\\Bbfishdc9\\bbfishdc9\\DCBBL1_spinal_01_25_2023\\H1_Igfbpl1,Aldh1l1,Ptbp1\\Conv_zscan__305.zarr\n"
     ]
    },
    {
     "name": "stderr",
     "output_type": "stream",
     "text": [
      "\r",
      " 67%|██████████████████████████████████████████████████▋                         | 306/459 [3:48:55<1:43:02, 40.41s/it]"
     ]
    },
    {
     "name": "stdout",
     "output_type": "stream",
     "text": [
      "### load signal\n",
      "Signal file: \\\\Bbfishdc9\\bbfishdc9\\DCBBL1_spinal_01_25_2023\\H1_Igfbpl1,Aldh1l1,Ptbp1\\Conv_zscan__306.zarr\n"
     ]
    },
    {
     "name": "stderr",
     "output_type": "stream",
     "text": [
      "\r",
      " 67%|██████████████████████████████████████████████████▊                         | 307/459 [3:49:32<1:39:55, 39.45s/it]"
     ]
    },
    {
     "name": "stdout",
     "output_type": "stream",
     "text": [
      "### load signal\n",
      "Signal file: \\\\Bbfishdc9\\bbfishdc9\\DCBBL1_spinal_01_25_2023\\H1_Igfbpl1,Aldh1l1,Ptbp1\\Conv_zscan__307.zarr\n"
     ]
    },
    {
     "name": "stderr",
     "output_type": "stream",
     "text": [
      "\r",
      " 67%|██████████████████████████████████████████████████▉                         | 308/459 [3:50:14<1:40:54, 40.10s/it]"
     ]
    },
    {
     "name": "stdout",
     "output_type": "stream",
     "text": [
      "### load signal\n",
      "Signal file: \\\\Bbfishdc9\\bbfishdc9\\DCBBL1_spinal_01_25_2023\\H1_Igfbpl1,Aldh1l1,Ptbp1\\Conv_zscan__308.zarr\n"
     ]
    },
    {
     "name": "stderr",
     "output_type": "stream",
     "text": [
      "\r",
      " 67%|███████████████████████████████████████████████████▏                        | 309/459 [3:50:44<1:32:20, 36.94s/it]"
     ]
    },
    {
     "name": "stdout",
     "output_type": "stream",
     "text": [
      "### load signal\n",
      "Signal file: \\\\Bbfishdc9\\bbfishdc9\\DCBBL1_spinal_01_25_2023\\H1_Igfbpl1,Aldh1l1,Ptbp1\\Conv_zscan__309.zarr\n"
     ]
    },
    {
     "name": "stderr",
     "output_type": "stream",
     "text": [
      "\r",
      " 68%|███████████████████████████████████████████████████▎                        | 310/459 [3:51:30<1:38:22, 39.61s/it]"
     ]
    },
    {
     "name": "stdout",
     "output_type": "stream",
     "text": [
      "### load signal\n",
      "Signal file: \\\\Bbfishdc9\\bbfishdc9\\DCBBL1_spinal_01_25_2023\\H1_Igfbpl1,Aldh1l1,Ptbp1\\Conv_zscan__310.zarr\n"
     ]
    },
    {
     "name": "stderr",
     "output_type": "stream",
     "text": [
      "\r",
      " 68%|███████████████████████████████████████████████████▍                        | 311/459 [3:51:59<1:30:20, 36.63s/it]"
     ]
    },
    {
     "name": "stdout",
     "output_type": "stream",
     "text": [
      "### load signal\n",
      "Signal file: \\\\Bbfishdc9\\bbfishdc9\\DCBBL1_spinal_01_25_2023\\H1_Igfbpl1,Aldh1l1,Ptbp1\\Conv_zscan__311.zarr\n"
     ]
    },
    {
     "name": "stderr",
     "output_type": "stream",
     "text": [
      "\r",
      " 68%|███████████████████████████████████████████████████▋                        | 312/459 [3:52:44<1:35:45, 39.08s/it]"
     ]
    },
    {
     "name": "stdout",
     "output_type": "stream",
     "text": [
      "### load signal\n",
      "Signal file: \\\\Bbfishdc9\\bbfishdc9\\DCBBL1_spinal_01_25_2023\\H1_Igfbpl1,Aldh1l1,Ptbp1\\Conv_zscan__312.zarr\n"
     ]
    },
    {
     "name": "stderr",
     "output_type": "stream",
     "text": [
      "\r",
      " 68%|███████████████████████████████████████████████████▊                        | 313/459 [3:53:15<1:29:01, 36.59s/it]"
     ]
    },
    {
     "name": "stdout",
     "output_type": "stream",
     "text": [
      "### load signal\n",
      "Signal file: \\\\Bbfishdc9\\bbfishdc9\\DCBBL1_spinal_01_25_2023\\H1_Igfbpl1,Aldh1l1,Ptbp1\\Conv_zscan__313.zarr\n"
     ]
    },
    {
     "name": "stderr",
     "output_type": "stream",
     "text": [
      "\r",
      " 68%|███████████████████████████████████████████████████▉                        | 314/459 [3:53:45<1:23:35, 34.59s/it]"
     ]
    },
    {
     "name": "stdout",
     "output_type": "stream",
     "text": [
      "### load signal\n",
      "Signal file: \\\\Bbfishdc9\\bbfishdc9\\DCBBL1_spinal_01_25_2023\\H1_Igfbpl1,Aldh1l1,Ptbp1\\Conv_zscan__314.zarr\n"
     ]
    },
    {
     "name": "stderr",
     "output_type": "stream",
     "text": [
      "\r",
      " 69%|████████████████████████████████████████████████████▏                       | 315/459 [3:54:18<1:21:53, 34.12s/it]"
     ]
    },
    {
     "name": "stdout",
     "output_type": "stream",
     "text": [
      "### load signal\n",
      "Signal file: \\\\Bbfishdc9\\bbfishdc9\\DCBBL1_spinal_01_25_2023\\H1_Igfbpl1,Aldh1l1,Ptbp1\\Conv_zscan__315.zarr\n"
     ]
    },
    {
     "name": "stderr",
     "output_type": "stream",
     "text": [
      "\r",
      " 69%|████████████████████████████████████████████████████▎                       | 316/459 [3:55:02<1:28:39, 37.20s/it]"
     ]
    },
    {
     "name": "stdout",
     "output_type": "stream",
     "text": [
      "### load signal\n",
      "Signal file: \\\\Bbfishdc9\\bbfishdc9\\DCBBL1_spinal_01_25_2023\\H1_Igfbpl1,Aldh1l1,Ptbp1\\Conv_zscan__316.zarr\n"
     ]
    },
    {
     "name": "stderr",
     "output_type": "stream",
     "text": [
      "\r",
      " 69%|████████████████████████████████████████████████████▍                       | 317/459 [3:55:50<1:35:41, 40.43s/it]"
     ]
    },
    {
     "name": "stdout",
     "output_type": "stream",
     "text": [
      "### load signal\n",
      "Signal file: \\\\Bbfishdc9\\bbfishdc9\\DCBBL1_spinal_01_25_2023\\H1_Igfbpl1,Aldh1l1,Ptbp1\\Conv_zscan__317.zarr\n"
     ]
    },
    {
     "name": "stderr",
     "output_type": "stream",
     "text": [
      "\r",
      " 69%|████████████████████████████████████████████████████▋                       | 318/459 [3:56:21<1:28:00, 37.45s/it]"
     ]
    },
    {
     "name": "stdout",
     "output_type": "stream",
     "text": [
      "### load signal\n",
      "Signal file: \\\\Bbfishdc9\\bbfishdc9\\DCBBL1_spinal_01_25_2023\\H1_Igfbpl1,Aldh1l1,Ptbp1\\Conv_zscan__318.zarr\n"
     ]
    },
    {
     "name": "stderr",
     "output_type": "stream",
     "text": [
      "\r",
      " 69%|████████████████████████████████████████████████████▊                       | 319/459 [3:56:50<1:21:28, 34.92s/it]"
     ]
    },
    {
     "name": "stdout",
     "output_type": "stream",
     "text": [
      "### load signal\n",
      "Signal file: \\\\Bbfishdc9\\bbfishdc9\\DCBBL1_spinal_01_25_2023\\H1_Igfbpl1,Aldh1l1,Ptbp1\\Conv_zscan__319.zarr\n"
     ]
    },
    {
     "name": "stderr",
     "output_type": "stream",
     "text": [
      "\r",
      " 70%|████████████████████████████████████████████████████▉                       | 320/459 [3:57:19<1:17:17, 33.37s/it]"
     ]
    },
    {
     "name": "stdout",
     "output_type": "stream",
     "text": [
      "### load signal\n",
      "Signal file: \\\\Bbfishdc9\\bbfishdc9\\DCBBL1_spinal_01_25_2023\\H1_Igfbpl1,Aldh1l1,Ptbp1\\Conv_zscan__320.zarr\n"
     ]
    },
    {
     "name": "stderr",
     "output_type": "stream",
     "text": [
      "\r",
      " 70%|█████████████████████████████████████████████████████▏                      | 321/459 [3:58:14<1:31:13, 39.66s/it]"
     ]
    },
    {
     "name": "stdout",
     "output_type": "stream",
     "text": [
      "### load signal\n",
      "Signal file: \\\\Bbfishdc9\\bbfishdc9\\DCBBL1_spinal_01_25_2023\\H1_Igfbpl1,Aldh1l1,Ptbp1\\Conv_zscan__321.zarr\n"
     ]
    },
    {
     "name": "stderr",
     "output_type": "stream",
     "text": [
      "\r",
      " 70%|█████████████████████████████████████████████████████▎                      | 322/459 [3:58:46<1:25:39, 37.51s/it]"
     ]
    },
    {
     "name": "stdout",
     "output_type": "stream",
     "text": [
      "### load signal\n",
      "Signal file: \\\\Bbfishdc9\\bbfishdc9\\DCBBL1_spinal_01_25_2023\\H1_Igfbpl1,Aldh1l1,Ptbp1\\Conv_zscan__322.zarr\n"
     ]
    },
    {
     "name": "stderr",
     "output_type": "stream",
     "text": [
      "\r",
      " 70%|█████████████████████████████████████████████████████▍                      | 323/459 [3:59:39<1:35:14, 42.02s/it]"
     ]
    },
    {
     "name": "stdout",
     "output_type": "stream",
     "text": [
      "### load signal\n",
      "Signal file: \\\\Bbfishdc9\\bbfishdc9\\DCBBL1_spinal_01_25_2023\\H1_Igfbpl1,Aldh1l1,Ptbp1\\Conv_zscan__323.zarr\n"
     ]
    },
    {
     "name": "stderr",
     "output_type": "stream",
     "text": [
      "\r",
      " 71%|█████████████████████████████████████████████████████▋                      | 324/459 [4:00:23<1:36:21, 42.82s/it]"
     ]
    },
    {
     "name": "stdout",
     "output_type": "stream",
     "text": [
      "### load signal\n",
      "Signal file: \\\\Bbfishdc9\\bbfishdc9\\DCBBL1_spinal_01_25_2023\\H1_Igfbpl1,Aldh1l1,Ptbp1\\Conv_zscan__324.zarr\n"
     ]
    },
    {
     "name": "stderr",
     "output_type": "stream",
     "text": [
      "\r",
      " 71%|█████████████████████████████████████████████████████▊                      | 325/459 [4:01:16<1:42:24, 45.86s/it]"
     ]
    },
    {
     "name": "stdout",
     "output_type": "stream",
     "text": [
      "### load signal\n",
      "Signal file: \\\\Bbfishdc9\\bbfishdc9\\DCBBL1_spinal_01_25_2023\\H1_Igfbpl1,Aldh1l1,Ptbp1\\Conv_zscan__325.zarr\n"
     ]
    },
    {
     "name": "stderr",
     "output_type": "stream",
     "text": [
      "\r",
      " 71%|█████████████████████████████████████████████████████▉                      | 326/459 [4:02:12<1:47:55, 48.69s/it]"
     ]
    },
    {
     "name": "stdout",
     "output_type": "stream",
     "text": [
      "### load signal\n",
      "Signal file: \\\\Bbfishdc9\\bbfishdc9\\DCBBL1_spinal_01_25_2023\\H1_Igfbpl1,Aldh1l1,Ptbp1\\Conv_zscan__326.zarr\n"
     ]
    },
    {
     "name": "stderr",
     "output_type": "stream",
     "text": [
      "\r",
      " 71%|██████████████████████████████████████████████████████▏                     | 327/459 [4:03:07<1:51:25, 50.65s/it]"
     ]
    },
    {
     "name": "stdout",
     "output_type": "stream",
     "text": [
      "### load signal\n",
      "Signal file: \\\\Bbfishdc9\\bbfishdc9\\DCBBL1_spinal_01_25_2023\\H1_Igfbpl1,Aldh1l1,Ptbp1\\Conv_zscan__327.zarr\n"
     ]
    },
    {
     "name": "stderr",
     "output_type": "stream",
     "text": [
      "\r",
      " 71%|██████████████████████████████████████████████████████▎                     | 328/459 [4:03:40<1:39:04, 45.38s/it]"
     ]
    },
    {
     "name": "stdout",
     "output_type": "stream",
     "text": [
      "### load signal\n",
      "Signal file: \\\\Bbfishdc9\\bbfishdc9\\DCBBL1_spinal_01_25_2023\\H1_Igfbpl1,Aldh1l1,Ptbp1\\Conv_zscan__328.zarr\n"
     ]
    },
    {
     "name": "stderr",
     "output_type": "stream",
     "text": [
      "\r",
      " 72%|██████████████████████████████████████████████████████▍                     | 329/459 [4:04:10<1:28:32, 40.86s/it]"
     ]
    },
    {
     "name": "stdout",
     "output_type": "stream",
     "text": [
      "### load signal\n",
      "Signal file: \\\\Bbfishdc9\\bbfishdc9\\DCBBL1_spinal_01_25_2023\\H1_Igfbpl1,Aldh1l1,Ptbp1\\Conv_zscan__329.zarr\n"
     ]
    },
    {
     "name": "stderr",
     "output_type": "stream",
     "text": [
      "\r",
      " 72%|██████████████████████████████████████████████████████▋                     | 330/459 [4:04:48<1:25:38, 39.84s/it]"
     ]
    },
    {
     "name": "stdout",
     "output_type": "stream",
     "text": [
      "### load signal\n",
      "Signal file: \\\\Bbfishdc9\\bbfishdc9\\DCBBL1_spinal_01_25_2023\\H1_Igfbpl1,Aldh1l1,Ptbp1\\Conv_zscan__330.zarr\n"
     ]
    },
    {
     "name": "stderr",
     "output_type": "stream",
     "text": [
      "\r",
      " 72%|██████████████████████████████████████████████████████▊                     | 331/459 [4:05:41<1:33:37, 43.89s/it]"
     ]
    },
    {
     "name": "stdout",
     "output_type": "stream",
     "text": [
      "### load signal\n",
      "Signal file: \\\\Bbfishdc9\\bbfishdc9\\DCBBL1_spinal_01_25_2023\\H1_Igfbpl1,Aldh1l1,Ptbp1\\Conv_zscan__331.zarr\n"
     ]
    },
    {
     "name": "stderr",
     "output_type": "stream",
     "text": [
      "\r",
      " 72%|██████████████████████████████████████████████████████▉                     | 332/459 [4:06:32<1:37:38, 46.13s/it]"
     ]
    },
    {
     "name": "stdout",
     "output_type": "stream",
     "text": [
      "### load signal\n",
      "Signal file: \\\\Bbfishdc9\\bbfishdc9\\DCBBL1_spinal_01_25_2023\\H1_Igfbpl1,Aldh1l1,Ptbp1\\Conv_zscan__332.zarr\n"
     ]
    },
    {
     "name": "stderr",
     "output_type": "stream",
     "text": [
      "\r",
      " 73%|███████████████████████████████████████████████████████▏                    | 333/459 [4:07:18<1:36:24, 45.91s/it]"
     ]
    },
    {
     "name": "stdout",
     "output_type": "stream",
     "text": [
      "### load signal\n",
      "Signal file: \\\\Bbfishdc9\\bbfishdc9\\DCBBL1_spinal_01_25_2023\\H1_Igfbpl1,Aldh1l1,Ptbp1\\Conv_zscan__333.zarr\n"
     ]
    },
    {
     "name": "stderr",
     "output_type": "stream",
     "text": [
      "\r",
      " 73%|███████████████████████████████████████████████████████▎                    | 334/459 [4:08:08<1:38:02, 47.06s/it]"
     ]
    },
    {
     "name": "stdout",
     "output_type": "stream",
     "text": [
      "### load signal\n",
      "Signal file: \\\\Bbfishdc9\\bbfishdc9\\DCBBL1_spinal_01_25_2023\\H1_Igfbpl1,Aldh1l1,Ptbp1\\Conv_zscan__334.zarr\n"
     ]
    },
    {
     "name": "stderr",
     "output_type": "stream",
     "text": [
      "\r",
      " 73%|███████████████████████████████████████████████████████▍                    | 335/459 [4:08:42<1:29:36, 43.36s/it]"
     ]
    },
    {
     "name": "stdout",
     "output_type": "stream",
     "text": [
      "### load signal\n",
      "Signal file: \\\\Bbfishdc9\\bbfishdc9\\DCBBL1_spinal_01_25_2023\\H1_Igfbpl1,Aldh1l1,Ptbp1\\Conv_zscan__335.zarr\n"
     ]
    },
    {
     "name": "stderr",
     "output_type": "stream",
     "text": [
      "\r",
      " 73%|███████████████████████████████████████████████████████▋                    | 336/459 [4:09:36<1:35:18, 46.49s/it]"
     ]
    },
    {
     "name": "stdout",
     "output_type": "stream",
     "text": [
      "### load signal\n",
      "Signal file: \\\\Bbfishdc9\\bbfishdc9\\DCBBL1_spinal_01_25_2023\\H1_Igfbpl1,Aldh1l1,Ptbp1\\Conv_zscan__336.zarr\n"
     ]
    },
    {
     "name": "stderr",
     "output_type": "stream",
     "text": [
      "\r",
      " 73%|███████████████████████████████████████████████████████▊                    | 337/459 [4:10:27<1:37:30, 47.96s/it]"
     ]
    },
    {
     "name": "stdout",
     "output_type": "stream",
     "text": [
      "### load signal\n",
      "Signal file: \\\\Bbfishdc9\\bbfishdc9\\DCBBL1_spinal_01_25_2023\\H1_Igfbpl1,Aldh1l1,Ptbp1\\Conv_zscan__337.zarr\n"
     ]
    },
    {
     "name": "stderr",
     "output_type": "stream",
     "text": [
      "\r",
      " 74%|███████████████████████████████████████████████████████▉                    | 338/459 [4:11:15<1:36:41, 47.94s/it]"
     ]
    },
    {
     "name": "stdout",
     "output_type": "stream",
     "text": [
      "### load signal\n",
      "Signal file: \\\\Bbfishdc9\\bbfishdc9\\DCBBL1_spinal_01_25_2023\\H1_Igfbpl1,Aldh1l1,Ptbp1\\Conv_zscan__338.zarr\n"
     ]
    },
    {
     "name": "stderr",
     "output_type": "stream",
     "text": [
      "\r",
      " 74%|████████████████████████████████████████████████████████▏                   | 339/459 [4:11:59<1:33:05, 46.55s/it]"
     ]
    },
    {
     "name": "stdout",
     "output_type": "stream",
     "text": [
      "### load signal\n",
      "Signal file: \\\\Bbfishdc9\\bbfishdc9\\DCBBL1_spinal_01_25_2023\\H1_Igfbpl1,Aldh1l1,Ptbp1\\Conv_zscan__339.zarr\n"
     ]
    },
    {
     "name": "stderr",
     "output_type": "stream",
     "text": [
      "\r",
      " 74%|████████████████████████████████████████████████████████▎                   | 340/459 [4:12:34<1:25:28, 43.10s/it]"
     ]
    },
    {
     "name": "stdout",
     "output_type": "stream",
     "text": [
      "### load signal\n",
      "Signal file: \\\\Bbfishdc9\\bbfishdc9\\DCBBL1_spinal_01_25_2023\\H1_Igfbpl1,Aldh1l1,Ptbp1\\Conv_zscan__340.zarr\n"
     ]
    },
    {
     "name": "stderr",
     "output_type": "stream",
     "text": [
      "\r",
      " 74%|████████████████████████████████████████████████████████▍                   | 341/459 [4:13:21<1:27:06, 44.29s/it]"
     ]
    },
    {
     "name": "stdout",
     "output_type": "stream",
     "text": [
      "### load signal\n",
      "Signal file: \\\\Bbfishdc9\\bbfishdc9\\DCBBL1_spinal_01_25_2023\\H1_Igfbpl1,Aldh1l1,Ptbp1\\Conv_zscan__341.zarr\n"
     ]
    },
    {
     "name": "stderr",
     "output_type": "stream",
     "text": [
      "\r",
      " 75%|████████████████████████████████████████████████████████▋                   | 342/459 [4:14:10<1:29:27, 45.87s/it]"
     ]
    },
    {
     "name": "stdout",
     "output_type": "stream",
     "text": [
      "### load signal\n",
      "Signal file: \\\\Bbfishdc9\\bbfishdc9\\DCBBL1_spinal_01_25_2023\\H1_Igfbpl1,Aldh1l1,Ptbp1\\Conv_zscan__342.zarr\n"
     ]
    },
    {
     "name": "stderr",
     "output_type": "stream",
     "text": [
      "\r",
      " 75%|████████████████████████████████████████████████████████▊                   | 343/459 [4:15:00<1:30:49, 46.98s/it]"
     ]
    },
    {
     "name": "stdout",
     "output_type": "stream",
     "text": [
      "### load signal\n",
      "Signal file: \\\\Bbfishdc9\\bbfishdc9\\DCBBL1_spinal_01_25_2023\\H1_Igfbpl1,Aldh1l1,Ptbp1\\Conv_zscan__343.zarr\n"
     ]
    },
    {
     "name": "stderr",
     "output_type": "stream",
     "text": [
      "\r",
      " 75%|████████████████████████████████████████████████████████▉                   | 344/459 [4:15:47<1:29:57, 46.94s/it]"
     ]
    },
    {
     "name": "stdout",
     "output_type": "stream",
     "text": [
      "### load signal\n",
      "Signal file: \\\\Bbfishdc9\\bbfishdc9\\DCBBL1_spinal_01_25_2023\\H1_Igfbpl1,Aldh1l1,Ptbp1\\Conv_zscan__344.zarr\n"
     ]
    },
    {
     "name": "stderr",
     "output_type": "stream",
     "text": [
      "\r",
      " 75%|█████████████████████████████████████████████████████████                   | 345/459 [4:16:44<1:35:16, 50.15s/it]"
     ]
    },
    {
     "name": "stdout",
     "output_type": "stream",
     "text": [
      "### load signal\n",
      "Signal file: \\\\Bbfishdc9\\bbfishdc9\\DCBBL1_spinal_01_25_2023\\H1_Igfbpl1,Aldh1l1,Ptbp1\\Conv_zscan__345.zarr\n"
     ]
    },
    {
     "name": "stderr",
     "output_type": "stream",
     "text": [
      "\r",
      " 75%|█████████████████████████████████████████████████████████▎                  | 346/459 [4:17:20<1:26:11, 45.77s/it]"
     ]
    },
    {
     "name": "stdout",
     "output_type": "stream",
     "text": [
      "### load signal\n",
      "Signal file: \\\\Bbfishdc9\\bbfishdc9\\DCBBL1_spinal_01_25_2023\\H1_Igfbpl1,Aldh1l1,Ptbp1\\Conv_zscan__346.zarr\n"
     ]
    },
    {
     "name": "stderr",
     "output_type": "stream",
     "text": [
      "\r",
      " 76%|█████████████████████████████████████████████████████████▍                  | 347/459 [4:18:16<1:31:15, 48.89s/it]"
     ]
    },
    {
     "name": "stdout",
     "output_type": "stream",
     "text": [
      "### load signal\n",
      "Signal file: \\\\Bbfishdc9\\bbfishdc9\\DCBBL1_spinal_01_25_2023\\H1_Igfbpl1,Aldh1l1,Ptbp1\\Conv_zscan__347.zarr\n"
     ]
    },
    {
     "name": "stderr",
     "output_type": "stream",
     "text": [
      "\r",
      " 76%|█████████████████████████████████████████████████████████▌                  | 348/459 [4:18:47<1:20:38, 43.59s/it]"
     ]
    },
    {
     "name": "stdout",
     "output_type": "stream",
     "text": [
      "### load signal\n",
      "Signal file: \\\\Bbfishdc9\\bbfishdc9\\DCBBL1_spinal_01_25_2023\\H1_Igfbpl1,Aldh1l1,Ptbp1\\Conv_zscan__348.zarr\n"
     ]
    },
    {
     "name": "stderr",
     "output_type": "stream",
     "text": [
      "\r",
      " 76%|█████████████████████████████████████████████████████████▊                  | 349/459 [4:19:43<1:26:26, 47.15s/it]"
     ]
    },
    {
     "name": "stdout",
     "output_type": "stream",
     "text": [
      "### load signal\n",
      "Signal file: \\\\Bbfishdc9\\bbfishdc9\\DCBBL1_spinal_01_25_2023\\H1_Igfbpl1,Aldh1l1,Ptbp1\\Conv_zscan__349.zarr\n"
     ]
    },
    {
     "name": "stderr",
     "output_type": "stream",
     "text": [
      "\r",
      " 76%|█████████████████████████████████████████████████████████▉                  | 350/459 [4:20:39<1:30:46, 49.96s/it]"
     ]
    },
    {
     "name": "stdout",
     "output_type": "stream",
     "text": [
      "### load signal\n",
      "Signal file: \\\\Bbfishdc9\\bbfishdc9\\DCBBL1_spinal_01_25_2023\\H1_Igfbpl1,Aldh1l1,Ptbp1\\Conv_zscan__350.zarr\n"
     ]
    },
    {
     "name": "stderr",
     "output_type": "stream",
     "text": [
      "\r",
      " 76%|██████████████████████████████████████████████████████████                  | 351/459 [4:21:32<1:31:12, 50.67s/it]"
     ]
    },
    {
     "name": "stdout",
     "output_type": "stream",
     "text": [
      "### load signal\n",
      "Signal file: \\\\Bbfishdc9\\bbfishdc9\\DCBBL1_spinal_01_25_2023\\H1_Igfbpl1,Aldh1l1,Ptbp1\\Conv_zscan__351.zarr\n"
     ]
    },
    {
     "name": "stderr",
     "output_type": "stream",
     "text": [
      "\r",
      " 77%|██████████████████████████████████████████████████████████▎                 | 352/459 [4:22:28<1:33:12, 52.27s/it]"
     ]
    },
    {
     "name": "stdout",
     "output_type": "stream",
     "text": [
      "### load signal\n",
      "Signal file: \\\\Bbfishdc9\\bbfishdc9\\DCBBL1_spinal_01_25_2023\\H1_Igfbpl1,Aldh1l1,Ptbp1\\Conv_zscan__352.zarr\n"
     ]
    },
    {
     "name": "stderr",
     "output_type": "stream",
     "text": [
      "\r",
      " 77%|██████████████████████████████████████████████████████████▍                 | 353/459 [4:23:22<1:33:35, 52.98s/it]"
     ]
    },
    {
     "name": "stdout",
     "output_type": "stream",
     "text": [
      "### load signal\n",
      "Signal file: \\\\Bbfishdc9\\bbfishdc9\\DCBBL1_spinal_01_25_2023\\H1_Igfbpl1,Aldh1l1,Ptbp1\\Conv_zscan__353.zarr\n"
     ]
    },
    {
     "name": "stderr",
     "output_type": "stream",
     "text": [
      "\r",
      " 77%|██████████████████████████████████████████████████████████▌                 | 354/459 [4:24:18<1:34:14, 53.85s/it]"
     ]
    },
    {
     "name": "stdout",
     "output_type": "stream",
     "text": [
      "### load signal\n",
      "Signal file: \\\\Bbfishdc9\\bbfishdc9\\DCBBL1_spinal_01_25_2023\\H1_Igfbpl1,Aldh1l1,Ptbp1\\Conv_zscan__354.zarr\n"
     ]
    },
    {
     "name": "stderr",
     "output_type": "stream",
     "text": [
      "\r",
      " 77%|██████████████████████████████████████████████████████████▊                 | 355/459 [4:25:14<1:34:33, 54.55s/it]"
     ]
    },
    {
     "name": "stdout",
     "output_type": "stream",
     "text": [
      "### load signal\n",
      "Signal file: \\\\Bbfishdc9\\bbfishdc9\\DCBBL1_spinal_01_25_2023\\H1_Igfbpl1,Aldh1l1,Ptbp1\\Conv_zscan__355.zarr\n"
     ]
    },
    {
     "name": "stderr",
     "output_type": "stream",
     "text": [
      "\r",
      " 78%|██████████████████████████████████████████████████████████▉                 | 356/459 [4:26:15<1:36:40, 56.31s/it]"
     ]
    },
    {
     "name": "stdout",
     "output_type": "stream",
     "text": [
      "### load signal\n",
      "Signal file: \\\\Bbfishdc9\\bbfishdc9\\DCBBL1_spinal_01_25_2023\\H1_Igfbpl1,Aldh1l1,Ptbp1\\Conv_zscan__356.zarr\n"
     ]
    },
    {
     "name": "stderr",
     "output_type": "stream",
     "text": [
      "\r",
      " 78%|███████████████████████████████████████████████████████████                 | 357/459 [4:27:04<1:32:03, 54.15s/it]"
     ]
    },
    {
     "name": "stdout",
     "output_type": "stream",
     "text": [
      "### load signal\n",
      "Signal file: \\\\Bbfishdc9\\bbfishdc9\\DCBBL1_spinal_01_25_2023\\H1_Igfbpl1,Aldh1l1,Ptbp1\\Conv_zscan__357.zarr\n"
     ]
    },
    {
     "name": "stderr",
     "output_type": "stream",
     "text": [
      "\r",
      " 78%|███████████████████████████████████████████████████████████▎                | 358/459 [4:27:42<1:22:57, 49.29s/it]"
     ]
    },
    {
     "name": "stdout",
     "output_type": "stream",
     "text": [
      "### load signal\n",
      "Signal file: \\\\Bbfishdc9\\bbfishdc9\\DCBBL1_spinal_01_25_2023\\H1_Igfbpl1,Aldh1l1,Ptbp1\\Conv_zscan__358.zarr\n"
     ]
    },
    {
     "name": "stderr",
     "output_type": "stream",
     "text": [
      "\r",
      " 78%|███████████████████████████████████████████████████████████▍                | 359/459 [4:28:40<1:26:32, 51.93s/it]"
     ]
    },
    {
     "name": "stdout",
     "output_type": "stream",
     "text": [
      "### load signal\n",
      "Signal file: \\\\Bbfishdc9\\bbfishdc9\\DCBBL1_spinal_01_25_2023\\H1_Igfbpl1,Aldh1l1,Ptbp1\\Conv_zscan__359.zarr\n"
     ]
    },
    {
     "name": "stderr",
     "output_type": "stream",
     "text": [
      "\r",
      " 78%|███████████████████████████████████████████████████████████▌                | 360/459 [4:29:34<1:26:48, 52.61s/it]"
     ]
    },
    {
     "name": "stdout",
     "output_type": "stream",
     "text": [
      "### load signal\n",
      "Signal file: \\\\Bbfishdc9\\bbfishdc9\\DCBBL1_spinal_01_25_2023\\H1_Igfbpl1,Aldh1l1,Ptbp1\\Conv_zscan__360.zarr\n"
     ]
    },
    {
     "name": "stderr",
     "output_type": "stream",
     "text": [
      "\r",
      " 79%|███████████████████████████████████████████████████████████▊                | 361/459 [4:30:30<1:27:42, 53.70s/it]"
     ]
    },
    {
     "name": "stdout",
     "output_type": "stream",
     "text": [
      "### load signal\n",
      "Signal file: \\\\Bbfishdc9\\bbfishdc9\\DCBBL1_spinal_01_25_2023\\H1_Igfbpl1,Aldh1l1,Ptbp1\\Conv_zscan__361.zarr\n"
     ]
    },
    {
     "name": "stderr",
     "output_type": "stream",
     "text": [
      "\r",
      " 79%|███████████████████████████████████████████████████████████▉                | 362/459 [4:31:20<1:24:37, 52.35s/it]"
     ]
    },
    {
     "name": "stdout",
     "output_type": "stream",
     "text": [
      "### load signal\n",
      "Signal file: \\\\Bbfishdc9\\bbfishdc9\\DCBBL1_spinal_01_25_2023\\H1_Igfbpl1,Aldh1l1,Ptbp1\\Conv_zscan__362.zarr\n"
     ]
    },
    {
     "name": "stderr",
     "output_type": "stream",
     "text": [
      "\r",
      " 79%|████████████████████████████████████████████████████████████                | 363/459 [4:32:20<1:27:50, 54.90s/it]"
     ]
    },
    {
     "name": "stdout",
     "output_type": "stream",
     "text": [
      "### load signal\n",
      "Signal file: \\\\Bbfishdc9\\bbfishdc9\\DCBBL1_spinal_01_25_2023\\H1_Igfbpl1,Aldh1l1,Ptbp1\\Conv_zscan__363.zarr\n"
     ]
    },
    {
     "name": "stderr",
     "output_type": "stream",
     "text": [
      "\r",
      " 79%|████████████████████████████████████████████████████████████▎               | 364/459 [4:33:21<1:29:37, 56.61s/it]"
     ]
    },
    {
     "name": "stdout",
     "output_type": "stream",
     "text": [
      "### load signal\n",
      "Signal file: \\\\Bbfishdc9\\bbfishdc9\\DCBBL1_spinal_01_25_2023\\H1_Igfbpl1,Aldh1l1,Ptbp1\\Conv_zscan__364.zarr\n"
     ]
    },
    {
     "name": "stderr",
     "output_type": "stream",
     "text": [
      "\r",
      " 80%|████████████████████████████████████████████████████████████▍               | 365/459 [4:34:22<1:30:48, 57.96s/it]"
     ]
    },
    {
     "name": "stdout",
     "output_type": "stream",
     "text": [
      "### load signal\n",
      "Signal file: \\\\Bbfishdc9\\bbfishdc9\\DCBBL1_spinal_01_25_2023\\H1_Igfbpl1,Aldh1l1,Ptbp1\\Conv_zscan__365.zarr\n"
     ]
    },
    {
     "name": "stderr",
     "output_type": "stream",
     "text": [
      "\r",
      " 80%|████████████████████████████████████████████████████████████▌               | 366/459 [4:35:25<1:31:59, 59.35s/it]"
     ]
    },
    {
     "name": "stdout",
     "output_type": "stream",
     "text": [
      "### load signal\n",
      "Signal file: \\\\Bbfishdc9\\bbfishdc9\\DCBBL1_spinal_01_25_2023\\H1_Igfbpl1,Aldh1l1,Ptbp1\\Conv_zscan__366.zarr\n"
     ]
    },
    {
     "name": "stderr",
     "output_type": "stream",
     "text": [
      "\r",
      " 80%|████████████████████████████████████████████████████████████▊               | 367/459 [4:36:24<1:30:50, 59.25s/it]"
     ]
    },
    {
     "name": "stdout",
     "output_type": "stream",
     "text": [
      "### load signal\n",
      "Signal file: \\\\Bbfishdc9\\bbfishdc9\\DCBBL1_spinal_01_25_2023\\H1_Igfbpl1,Aldh1l1,Ptbp1\\Conv_zscan__367.zarr\n"
     ]
    },
    {
     "name": "stderr",
     "output_type": "stream",
     "text": [
      "\r",
      " 80%|████████████████████████████████████████████████████████████▉               | 368/459 [4:37:21<1:28:56, 58.64s/it]"
     ]
    },
    {
     "name": "stdout",
     "output_type": "stream",
     "text": [
      "### load signal\n",
      "Signal file: \\\\Bbfishdc9\\bbfishdc9\\DCBBL1_spinal_01_25_2023\\H1_Igfbpl1,Aldh1l1,Ptbp1\\Conv_zscan__368.zarr\n"
     ]
    },
    {
     "name": "stderr",
     "output_type": "stream",
     "text": [
      "\r",
      " 80%|█████████████████████████████████████████████████████████████               | 369/459 [4:38:03<1:20:19, 53.55s/it]"
     ]
    },
    {
     "name": "stdout",
     "output_type": "stream",
     "text": [
      "### load signal\n",
      "Signal file: \\\\Bbfishdc9\\bbfishdc9\\DCBBL1_spinal_01_25_2023\\H1_Igfbpl1,Aldh1l1,Ptbp1\\Conv_zscan__369.zarr\n"
     ]
    },
    {
     "name": "stderr",
     "output_type": "stream",
     "text": [
      "\r",
      " 81%|█████████████████████████████████████████████████████████████▎              | 370/459 [4:38:50<1:16:39, 51.68s/it]"
     ]
    },
    {
     "name": "stdout",
     "output_type": "stream",
     "text": [
      "### load signal\n",
      "Signal file: \\\\Bbfishdc9\\bbfishdc9\\DCBBL1_spinal_01_25_2023\\H1_Igfbpl1,Aldh1l1,Ptbp1\\Conv_zscan__370.zarr\n"
     ]
    },
    {
     "name": "stderr",
     "output_type": "stream",
     "text": [
      "\r",
      " 81%|█████████████████████████████████████████████████████████████▍              | 371/459 [4:39:45<1:17:08, 52.59s/it]"
     ]
    },
    {
     "name": "stdout",
     "output_type": "stream",
     "text": [
      "### load signal\n",
      "Signal file: \\\\Bbfishdc9\\bbfishdc9\\DCBBL1_spinal_01_25_2023\\H1_Igfbpl1,Aldh1l1,Ptbp1\\Conv_zscan__371.zarr\n"
     ]
    },
    {
     "name": "stderr",
     "output_type": "stream",
     "text": [
      "\r",
      " 81%|█████████████████████████████████████████████████████████████▌              | 372/459 [4:40:44<1:18:59, 54.48s/it]"
     ]
    },
    {
     "name": "stdout",
     "output_type": "stream",
     "text": [
      "### load signal\n",
      "Signal file: \\\\Bbfishdc9\\bbfishdc9\\DCBBL1_spinal_01_25_2023\\H1_Igfbpl1,Aldh1l1,Ptbp1\\Conv_zscan__372.zarr\n"
     ]
    },
    {
     "name": "stderr",
     "output_type": "stream",
     "text": [
      "\r",
      " 81%|█████████████████████████████████████████████████████████████▊              | 373/459 [4:41:39<1:18:26, 54.72s/it]"
     ]
    },
    {
     "name": "stdout",
     "output_type": "stream",
     "text": [
      "### load signal\n",
      "Signal file: \\\\Bbfishdc9\\bbfishdc9\\DCBBL1_spinal_01_25_2023\\H1_Igfbpl1,Aldh1l1,Ptbp1\\Conv_zscan__373.zarr\n"
     ]
    },
    {
     "name": "stderr",
     "output_type": "stream",
     "text": [
      "\r",
      " 81%|█████████████████████████████████████████████████████████████▉              | 374/459 [4:42:38<1:19:14, 55.94s/it]"
     ]
    },
    {
     "name": "stdout",
     "output_type": "stream",
     "text": [
      "### load signal\n",
      "Signal file: \\\\Bbfishdc9\\bbfishdc9\\DCBBL1_spinal_01_25_2023\\H1_Igfbpl1,Aldh1l1,Ptbp1\\Conv_zscan__374.zarr\n"
     ]
    },
    {
     "name": "stderr",
     "output_type": "stream",
     "text": [
      "\r",
      " 82%|██████████████████████████████████████████████████████████████              | 375/459 [4:43:29<1:16:30, 54.65s/it]"
     ]
    },
    {
     "name": "stdout",
     "output_type": "stream",
     "text": [
      "### load signal\n",
      "Signal file: \\\\Bbfishdc9\\bbfishdc9\\DCBBL1_spinal_01_25_2023\\H1_Igfbpl1,Aldh1l1,Ptbp1\\Conv_zscan__375.zarr\n"
     ]
    },
    {
     "name": "stderr",
     "output_type": "stream",
     "text": [
      "\r",
      " 82%|██████████████████████████████████████████████████████████████▎             | 376/459 [4:44:34<1:19:36, 57.55s/it]"
     ]
    },
    {
     "name": "stdout",
     "output_type": "stream",
     "text": [
      "### load signal\n",
      "Signal file: \\\\Bbfishdc9\\bbfishdc9\\DCBBL1_spinal_01_25_2023\\H1_Igfbpl1,Aldh1l1,Ptbp1\\Conv_zscan__376.zarr\n"
     ]
    },
    {
     "name": "stderr",
     "output_type": "stream",
     "text": [
      "\r",
      " 82%|██████████████████████████████████████████████████████████████▍             | 377/459 [4:45:38<1:21:20, 59.52s/it]"
     ]
    },
    {
     "name": "stdout",
     "output_type": "stream",
     "text": [
      "### load signal\n",
      "Signal file: \\\\Bbfishdc9\\bbfishdc9\\DCBBL1_spinal_01_25_2023\\H1_Igfbpl1,Aldh1l1,Ptbp1\\Conv_zscan__377.zarr\n"
     ]
    },
    {
     "name": "stderr",
     "output_type": "stream",
     "text": [
      "\r",
      " 82%|██████████████████████████████████████████████████████████████▌             | 378/459 [4:46:21<1:13:48, 54.68s/it]"
     ]
    },
    {
     "name": "stdout",
     "output_type": "stream",
     "text": [
      "### load signal\n",
      "Signal file: \\\\Bbfishdc9\\bbfishdc9\\DCBBL1_spinal_01_25_2023\\H1_Igfbpl1,Aldh1l1,Ptbp1\\Conv_zscan__378.zarr\n"
     ]
    },
    {
     "name": "stderr",
     "output_type": "stream",
     "text": [
      "\r",
      " 83%|██████████████████████████████████████████████████████████████▊             | 379/459 [4:47:23<1:15:53, 56.92s/it]"
     ]
    },
    {
     "name": "stdout",
     "output_type": "stream",
     "text": [
      "### load signal\n",
      "Signal file: \\\\Bbfishdc9\\bbfishdc9\\DCBBL1_spinal_01_25_2023\\H1_Igfbpl1,Aldh1l1,Ptbp1\\Conv_zscan__379.zarr\n"
     ]
    },
    {
     "name": "stderr",
     "output_type": "stream",
     "text": [
      "\r",
      " 83%|██████████████████████████████████████████████████████████████▉             | 380/459 [4:48:25<1:16:47, 58.32s/it]"
     ]
    },
    {
     "name": "stdout",
     "output_type": "stream",
     "text": [
      "### load signal\n",
      "Signal file: \\\\Bbfishdc9\\bbfishdc9\\DCBBL1_spinal_01_25_2023\\H1_Igfbpl1,Aldh1l1,Ptbp1\\Conv_zscan__380.zarr\n"
     ]
    },
    {
     "name": "stderr",
     "output_type": "stream",
     "text": [
      "\r",
      " 83%|███████████████████████████████████████████████████████████████             | 381/459 [4:49:18<1:13:50, 56.80s/it]"
     ]
    },
    {
     "name": "stdout",
     "output_type": "stream",
     "text": [
      "### load signal\n",
      "Signal file: \\\\Bbfishdc9\\bbfishdc9\\DCBBL1_spinal_01_25_2023\\H1_Igfbpl1,Aldh1l1,Ptbp1\\Conv_zscan__381.zarr\n"
     ]
    },
    {
     "name": "stderr",
     "output_type": "stream",
     "text": [
      "\r",
      " 83%|███████████████████████████████████████████████████████████████▎            | 382/459 [4:50:13<1:12:22, 56.40s/it]"
     ]
    },
    {
     "name": "stdout",
     "output_type": "stream",
     "text": [
      "### load signal\n",
      "Signal file: \\\\Bbfishdc9\\bbfishdc9\\DCBBL1_spinal_01_25_2023\\H1_Igfbpl1,Aldh1l1,Ptbp1\\Conv_zscan__382.zarr\n"
     ]
    },
    {
     "name": "stderr",
     "output_type": "stream",
     "text": [
      "\r",
      " 83%|███████████████████████████████████████████████████████████████▍            | 383/459 [4:51:14<1:12:55, 57.58s/it]"
     ]
    },
    {
     "name": "stdout",
     "output_type": "stream",
     "text": [
      "### load signal\n",
      "Signal file: \\\\Bbfishdc9\\bbfishdc9\\DCBBL1_spinal_01_25_2023\\H1_Igfbpl1,Aldh1l1,Ptbp1\\Conv_zscan__383.zarr\n"
     ]
    },
    {
     "name": "stderr",
     "output_type": "stream",
     "text": [
      "\r",
      " 84%|███████████████████████████████████████████████████████████████▌            | 384/459 [4:52:01<1:07:58, 54.38s/it]"
     ]
    },
    {
     "name": "stdout",
     "output_type": "stream",
     "text": [
      "### load signal\n",
      "Signal file: \\\\Bbfishdc9\\bbfishdc9\\DCBBL1_spinal_01_25_2023\\H1_Igfbpl1,Aldh1l1,Ptbp1\\Conv_zscan__384.zarr\n"
     ]
    },
    {
     "name": "stderr",
     "output_type": "stream",
     "text": [
      "\r",
      " 84%|███████████████████████████████████████████████████████████████▋            | 385/459 [4:53:02<1:09:39, 56.48s/it]"
     ]
    },
    {
     "name": "stdout",
     "output_type": "stream",
     "text": [
      "### load signal\n",
      "Signal file: \\\\Bbfishdc9\\bbfishdc9\\DCBBL1_spinal_01_25_2023\\H1_Igfbpl1,Aldh1l1,Ptbp1\\Conv_zscan__385.zarr\n"
     ]
    },
    {
     "name": "stderr",
     "output_type": "stream",
     "text": [
      "\r",
      " 84%|███████████████████████████████████████████████████████████████▉            | 386/459 [4:54:05<1:11:12, 58.53s/it]"
     ]
    },
    {
     "name": "stdout",
     "output_type": "stream",
     "text": [
      "### load signal\n",
      "Signal file: \\\\Bbfishdc9\\bbfishdc9\\DCBBL1_spinal_01_25_2023\\H1_Igfbpl1,Aldh1l1,Ptbp1\\Conv_zscan__386.zarr\n"
     ]
    },
    {
     "name": "stderr",
     "output_type": "stream",
     "text": [
      "\r",
      " 84%|████████████████████████████████████████████████████████████████            | 387/459 [4:55:00<1:08:45, 57.30s/it]"
     ]
    },
    {
     "name": "stdout",
     "output_type": "stream",
     "text": [
      "### load signal\n",
      "Signal file: \\\\Bbfishdc9\\bbfishdc9\\DCBBL1_spinal_01_25_2023\\H1_Igfbpl1,Aldh1l1,Ptbp1\\Conv_zscan__387.zarr\n"
     ]
    },
    {
     "name": "stderr",
     "output_type": "stream",
     "text": [
      "\r",
      " 85%|████████████████████████████████████████████████████████████████▏           | 388/459 [4:55:38<1:01:02, 51.59s/it]"
     ]
    },
    {
     "name": "stdout",
     "output_type": "stream",
     "text": [
      "### load signal\n",
      "Signal file: \\\\Bbfishdc9\\bbfishdc9\\DCBBL1_spinal_01_25_2023\\H1_Igfbpl1,Aldh1l1,Ptbp1\\Conv_zscan__388.zarr\n"
     ]
    },
    {
     "name": "stderr",
     "output_type": "stream",
     "text": [
      "\r",
      " 85%|████████████████████████████████████████████████████████████████▍           | 389/459 [4:56:38<1:03:03, 54.05s/it]"
     ]
    },
    {
     "name": "stdout",
     "output_type": "stream",
     "text": [
      "### load signal\n",
      "Signal file: \\\\Bbfishdc9\\bbfishdc9\\DCBBL1_spinal_01_25_2023\\H1_Igfbpl1,Aldh1l1,Ptbp1\\Conv_zscan__389.zarr\n"
     ]
    },
    {
     "name": "stderr",
     "output_type": "stream",
     "text": [
      "\r",
      " 85%|████████████████████████████████████████████████████████████████▌           | 390/459 [4:57:37<1:04:00, 55.66s/it]"
     ]
    },
    {
     "name": "stdout",
     "output_type": "stream",
     "text": [
      "### load signal\n",
      "Signal file: \\\\Bbfishdc9\\bbfishdc9\\DCBBL1_spinal_01_25_2023\\H1_Igfbpl1,Aldh1l1,Ptbp1\\Conv_zscan__390.zarr\n"
     ]
    },
    {
     "name": "stderr",
     "output_type": "stream",
     "text": [
      "\r",
      " 85%|████████████████████████████████████████████████████████████████▋           | 391/459 [4:58:27<1:00:59, 53.81s/it]"
     ]
    },
    {
     "name": "stdout",
     "output_type": "stream",
     "text": [
      "### load signal\n",
      "Signal file: \\\\Bbfishdc9\\bbfishdc9\\DCBBL1_spinal_01_25_2023\\H1_Igfbpl1,Aldh1l1,Ptbp1\\Conv_zscan__391.zarr\n"
     ]
    },
    {
     "name": "stderr",
     "output_type": "stream",
     "text": [
      "\r",
      " 85%|████████████████████████████████████████████████████████████████▉           | 392/459 [4:59:30<1:03:05, 56.51s/it]"
     ]
    },
    {
     "name": "stdout",
     "output_type": "stream",
     "text": [
      "### load signal\n",
      "Signal file: \\\\Bbfishdc9\\bbfishdc9\\DCBBL1_spinal_01_25_2023\\H1_Igfbpl1,Aldh1l1,Ptbp1\\Conv_zscan__392.zarr\n"
     ]
    },
    {
     "name": "stderr",
     "output_type": "stream",
     "text": [
      "\r",
      " 86%|█████████████████████████████████████████████████████████████████           | 393/459 [5:00:31<1:03:40, 57.88s/it]"
     ]
    },
    {
     "name": "stdout",
     "output_type": "stream",
     "text": [
      "### load signal\n",
      "Signal file: \\\\Bbfishdc9\\bbfishdc9\\DCBBL1_spinal_01_25_2023\\H1_Igfbpl1,Aldh1l1,Ptbp1\\Conv_zscan__393.zarr\n"
     ]
    },
    {
     "name": "stderr",
     "output_type": "stream",
     "text": [
      "\r",
      " 86%|█████████████████████████████████████████████████████████████████▏          | 394/459 [5:01:30<1:03:14, 58.37s/it]"
     ]
    },
    {
     "name": "stdout",
     "output_type": "stream",
     "text": [
      "### load signal\n",
      "Signal file: \\\\Bbfishdc9\\bbfishdc9\\DCBBL1_spinal_01_25_2023\\H1_Igfbpl1,Aldh1l1,Ptbp1\\Conv_zscan__394.zarr\n"
     ]
    },
    {
     "name": "stderr",
     "output_type": "stream",
     "text": [
      "\r",
      " 86%|█████████████████████████████████████████████████████████████████▍          | 395/459 [5:02:30<1:02:37, 58.71s/it]"
     ]
    },
    {
     "name": "stdout",
     "output_type": "stream",
     "text": [
      "### load signal\n",
      "Signal file: \\\\Bbfishdc9\\bbfishdc9\\DCBBL1_spinal_01_25_2023\\H1_Igfbpl1,Aldh1l1,Ptbp1\\Conv_zscan__395.zarr\n"
     ]
    },
    {
     "name": "stderr",
     "output_type": "stream",
     "text": [
      "\r",
      " 86%|███████████████████████████████████████████████████████████████████▎          | 396/459 [5:03:20<58:54, 56.10s/it]"
     ]
    },
    {
     "name": "stdout",
     "output_type": "stream",
     "text": [
      "### load signal\n",
      "Signal file: \\\\Bbfishdc9\\bbfishdc9\\DCBBL1_spinal_01_25_2023\\H1_Igfbpl1,Aldh1l1,Ptbp1\\Conv_zscan__396.zarr\n"
     ]
    },
    {
     "name": "stderr",
     "output_type": "stream",
     "text": [
      "\r",
      " 86%|███████████████████████████████████████████████████████████████████▍          | 397/459 [5:04:17<58:16, 56.39s/it]"
     ]
    },
    {
     "name": "stdout",
     "output_type": "stream",
     "text": [
      "### load signal\n",
      "Signal file: \\\\Bbfishdc9\\bbfishdc9\\DCBBL1_spinal_01_25_2023\\H1_Igfbpl1,Aldh1l1,Ptbp1\\Conv_zscan__397.zarr\n"
     ]
    },
    {
     "name": "stderr",
     "output_type": "stream",
     "text": [
      "\r",
      " 87%|███████████████████████████████████████████████████████████████████▋          | 398/459 [5:05:11<56:47, 55.85s/it]"
     ]
    },
    {
     "name": "stdout",
     "output_type": "stream",
     "text": [
      "### load signal\n",
      "Signal file: \\\\Bbfishdc9\\bbfishdc9\\DCBBL1_spinal_01_25_2023\\H1_Igfbpl1,Aldh1l1,Ptbp1\\Conv_zscan__398.zarr\n"
     ]
    },
    {
     "name": "stderr",
     "output_type": "stream",
     "text": [
      "\r",
      " 87%|███████████████████████████████████████████████████████████████████▊          | 399/459 [5:06:07<55:48, 55.81s/it]"
     ]
    },
    {
     "name": "stdout",
     "output_type": "stream",
     "text": [
      "### load signal\n",
      "Signal file: \\\\Bbfishdc9\\bbfishdc9\\DCBBL1_spinal_01_25_2023\\H1_Igfbpl1,Aldh1l1,Ptbp1\\Conv_zscan__399.zarr\n"
     ]
    },
    {
     "name": "stderr",
     "output_type": "stream",
     "text": [
      "\r",
      " 87%|███████████████████████████████████████████████████████████████████▉          | 400/459 [5:07:05<55:21, 56.29s/it]"
     ]
    },
    {
     "name": "stdout",
     "output_type": "stream",
     "text": [
      "### load signal\n",
      "Signal file: \\\\Bbfishdc9\\bbfishdc9\\DCBBL1_spinal_01_25_2023\\H1_Igfbpl1,Aldh1l1,Ptbp1\\Conv_zscan__400.zarr\n"
     ]
    },
    {
     "name": "stderr",
     "output_type": "stream",
     "text": [
      "\r",
      " 87%|████████████████████████████████████████████████████████████████████▏         | 401/459 [5:07:56<53:05, 54.93s/it]"
     ]
    },
    {
     "name": "stdout",
     "output_type": "stream",
     "text": [
      "### load signal\n",
      "Signal file: \\\\Bbfishdc9\\bbfishdc9\\DCBBL1_spinal_01_25_2023\\H1_Igfbpl1,Aldh1l1,Ptbp1\\Conv_zscan__401.zarr\n"
     ]
    },
    {
     "name": "stderr",
     "output_type": "stream",
     "text": [
      "\r",
      " 88%|████████████████████████████████████████████████████████████████████▎         | 402/459 [5:08:27<45:11, 47.57s/it]"
     ]
    },
    {
     "name": "stdout",
     "output_type": "stream",
     "text": [
      "### load signal\n",
      "Signal file: \\\\Bbfishdc9\\bbfishdc9\\DCBBL1_spinal_01_25_2023\\H1_Igfbpl1,Aldh1l1,Ptbp1\\Conv_zscan__402.zarr\n"
     ]
    },
    {
     "name": "stderr",
     "output_type": "stream",
     "text": [
      "\r",
      " 88%|████████████████████████████████████████████████████████████████████▍         | 403/459 [5:08:57<39:41, 42.52s/it]"
     ]
    },
    {
     "name": "stdout",
     "output_type": "stream",
     "text": [
      "### load signal\n",
      "Signal file: \\\\Bbfishdc9\\bbfishdc9\\DCBBL1_spinal_01_25_2023\\H1_Igfbpl1,Aldh1l1,Ptbp1\\Conv_zscan__403.zarr\n"
     ]
    },
    {
     "name": "stderr",
     "output_type": "stream",
     "text": [
      "\r",
      " 88%|████████████████████████████████████████████████████████████████████▋         | 404/459 [5:09:53<42:31, 46.39s/it]"
     ]
    },
    {
     "name": "stdout",
     "output_type": "stream",
     "text": [
      "### load signal\n",
      "Signal file: \\\\Bbfishdc9\\bbfishdc9\\DCBBL1_spinal_01_25_2023\\H1_Igfbpl1,Aldh1l1,Ptbp1\\Conv_zscan__404.zarr\n"
     ]
    },
    {
     "name": "stderr",
     "output_type": "stream",
     "text": [
      "\r",
      " 88%|████████████████████████████████████████████████████████████████████▊         | 405/459 [5:10:29<39:02, 43.38s/it]"
     ]
    },
    {
     "name": "stdout",
     "output_type": "stream",
     "text": [
      "### load signal\n",
      "Signal file: \\\\Bbfishdc9\\bbfishdc9\\DCBBL1_spinal_01_25_2023\\H1_Igfbpl1,Aldh1l1,Ptbp1\\Conv_zscan__405.zarr\n"
     ]
    },
    {
     "name": "stderr",
     "output_type": "stream",
     "text": [
      "\r",
      " 88%|████████████████████████████████████████████████████████████████████▉         | 406/459 [5:11:26<41:46, 47.30s/it]"
     ]
    },
    {
     "name": "stdout",
     "output_type": "stream",
     "text": [
      "### load signal\n",
      "Signal file: \\\\Bbfishdc9\\bbfishdc9\\DCBBL1_spinal_01_25_2023\\H1_Igfbpl1,Aldh1l1,Ptbp1\\Conv_zscan__406.zarr\n"
     ]
    },
    {
     "name": "stderr",
     "output_type": "stream",
     "text": [
      "\r",
      " 89%|█████████████████████████████████████████████████████████████████████▏        | 407/459 [5:12:21<43:09, 49.81s/it]"
     ]
    },
    {
     "name": "stdout",
     "output_type": "stream",
     "text": [
      "### load signal\n",
      "Signal file: \\\\Bbfishdc9\\bbfishdc9\\DCBBL1_spinal_01_25_2023\\H1_Igfbpl1,Aldh1l1,Ptbp1\\Conv_zscan__407.zarr\n"
     ]
    },
    {
     "name": "stderr",
     "output_type": "stream",
     "text": [
      "\r",
      " 89%|█████████████████████████████████████████████████████████████████████▎        | 408/459 [5:12:56<38:27, 45.25s/it]"
     ]
    },
    {
     "name": "stdout",
     "output_type": "stream",
     "text": [
      "### load signal\n",
      "Signal file: \\\\Bbfishdc9\\bbfishdc9\\DCBBL1_spinal_01_25_2023\\H1_Igfbpl1,Aldh1l1,Ptbp1\\Conv_zscan__408.zarr\n"
     ]
    },
    {
     "name": "stderr",
     "output_type": "stream",
     "text": [
      "\r",
      " 89%|█████████████████████████████████████████████████████████████████████▌        | 409/459 [5:13:46<38:51, 46.63s/it]"
     ]
    },
    {
     "name": "stdout",
     "output_type": "stream",
     "text": [
      "### load signal\n",
      "Signal file: \\\\Bbfishdc9\\bbfishdc9\\DCBBL1_spinal_01_25_2023\\H1_Igfbpl1,Aldh1l1,Ptbp1\\Conv_zscan__409.zarr\n"
     ]
    },
    {
     "name": "stderr",
     "output_type": "stream",
     "text": [
      "\r",
      " 89%|█████████████████████████████████████████████████████████████████████▋        | 410/459 [5:14:44<41:00, 50.21s/it]"
     ]
    },
    {
     "name": "stdout",
     "output_type": "stream",
     "text": [
      "### load signal\n",
      "Signal file: \\\\Bbfishdc9\\bbfishdc9\\DCBBL1_spinal_01_25_2023\\H1_Igfbpl1,Aldh1l1,Ptbp1\\Conv_zscan__410.zarr\n"
     ]
    },
    {
     "name": "stderr",
     "output_type": "stream",
     "text": [
      "\r",
      " 90%|█████████████████████████████████████████████████████████████████████▊        | 411/459 [5:15:43<42:18, 52.88s/it]"
     ]
    },
    {
     "name": "stdout",
     "output_type": "stream",
     "text": [
      "### load signal\n",
      "Signal file: \\\\Bbfishdc9\\bbfishdc9\\DCBBL1_spinal_01_25_2023\\H1_Igfbpl1,Aldh1l1,Ptbp1\\Conv_zscan__411.zarr\n"
     ]
    },
    {
     "name": "stderr",
     "output_type": "stream",
     "text": [
      "\r",
      " 90%|██████████████████████████████████████████████████████████████████████        | 412/459 [5:16:21<37:48, 48.26s/it]"
     ]
    },
    {
     "name": "stdout",
     "output_type": "stream",
     "text": [
      "### load signal\n",
      "Signal file: \\\\Bbfishdc9\\bbfishdc9\\DCBBL1_spinal_01_25_2023\\H1_Igfbpl1,Aldh1l1,Ptbp1\\Conv_zscan__412.zarr\n"
     ]
    }
   ],
   "source": [
    "for ifov in tqdm(np.arange(nfovs)):\n",
    "    process_fov(ifov)"
   ]
  },
  {
   "cell_type": "markdown",
   "id": "524b79ac",
   "metadata": {},
   "source": [
    "### Check one fov"
   ]
  },
  {
   "cell_type": "code",
   "execution_count": 112,
   "id": "ece293a4",
   "metadata": {},
   "outputs": [
    {
     "name": "stdout",
     "output_type": "stream",
     "text": [
      "### load signal\n",
      "Signal file: \\\\Bbfishdc9\\bbfishdc9\\DCBBL1_spinal_01_25_2023\\H1_Igfbpl1,Aldh1l1,Ptbp1\\Conv_zscan__020.zarr\n"
     ]
    }
   ],
   "source": [
    "process_fov(20)"
   ]
  },
  {
   "cell_type": "code",
   "execution_count": 38,
   "id": "7a97547f",
   "metadata": {},
   "outputs": [],
   "source": []
  },
  {
   "cell_type": "code",
   "execution_count": null,
   "id": "2f41b121",
   "metadata": {},
   "outputs": [],
   "source": [
    "%matplotlib notebook"
   ]
  },
  {
   "cell_type": "code",
   "execution_count": 117,
   "id": "96a95236",
   "metadata": {},
   "outputs": [
    {
     "data": {
      "application/javascript": [
       "/* Put everything inside the global mpl namespace */\n",
       "/* global mpl */\n",
       "window.mpl = {};\n",
       "\n",
       "mpl.get_websocket_type = function () {\n",
       "    if (typeof WebSocket !== 'undefined') {\n",
       "        return WebSocket;\n",
       "    } else if (typeof MozWebSocket !== 'undefined') {\n",
       "        return MozWebSocket;\n",
       "    } else {\n",
       "        alert(\n",
       "            'Your browser does not have WebSocket support. ' +\n",
       "                'Please try Chrome, Safari or Firefox ≥ 6. ' +\n",
       "                'Firefox 4 and 5 are also supported but you ' +\n",
       "                'have to enable WebSockets in about:config.'\n",
       "        );\n",
       "    }\n",
       "};\n",
       "\n",
       "mpl.figure = function (figure_id, websocket, ondownload, parent_element) {\n",
       "    this.id = figure_id;\n",
       "\n",
       "    this.ws = websocket;\n",
       "\n",
       "    this.supports_binary = this.ws.binaryType !== undefined;\n",
       "\n",
       "    if (!this.supports_binary) {\n",
       "        var warnings = document.getElementById('mpl-warnings');\n",
       "        if (warnings) {\n",
       "            warnings.style.display = 'block';\n",
       "            warnings.textContent =\n",
       "                'This browser does not support binary websocket messages. ' +\n",
       "                'Performance may be slow.';\n",
       "        }\n",
       "    }\n",
       "\n",
       "    this.imageObj = new Image();\n",
       "\n",
       "    this.context = undefined;\n",
       "    this.message = undefined;\n",
       "    this.canvas = undefined;\n",
       "    this.rubberband_canvas = undefined;\n",
       "    this.rubberband_context = undefined;\n",
       "    this.format_dropdown = undefined;\n",
       "\n",
       "    this.image_mode = 'full';\n",
       "\n",
       "    this.root = document.createElement('div');\n",
       "    this.root.setAttribute('style', 'display: inline-block');\n",
       "    this._root_extra_style(this.root);\n",
       "\n",
       "    parent_element.appendChild(this.root);\n",
       "\n",
       "    this._init_header(this);\n",
       "    this._init_canvas(this);\n",
       "    this._init_toolbar(this);\n",
       "\n",
       "    var fig = this;\n",
       "\n",
       "    this.waiting = false;\n",
       "\n",
       "    this.ws.onopen = function () {\n",
       "        fig.send_message('supports_binary', { value: fig.supports_binary });\n",
       "        fig.send_message('send_image_mode', {});\n",
       "        if (fig.ratio !== 1) {\n",
       "            fig.send_message('set_device_pixel_ratio', {\n",
       "                device_pixel_ratio: fig.ratio,\n",
       "            });\n",
       "        }\n",
       "        fig.send_message('refresh', {});\n",
       "    };\n",
       "\n",
       "    this.imageObj.onload = function () {\n",
       "        if (fig.image_mode === 'full') {\n",
       "            // Full images could contain transparency (where diff images\n",
       "            // almost always do), so we need to clear the canvas so that\n",
       "            // there is no ghosting.\n",
       "            fig.context.clearRect(0, 0, fig.canvas.width, fig.canvas.height);\n",
       "        }\n",
       "        fig.context.drawImage(fig.imageObj, 0, 0);\n",
       "    };\n",
       "\n",
       "    this.imageObj.onunload = function () {\n",
       "        fig.ws.close();\n",
       "    };\n",
       "\n",
       "    this.ws.onmessage = this._make_on_message_function(this);\n",
       "\n",
       "    this.ondownload = ondownload;\n",
       "};\n",
       "\n",
       "mpl.figure.prototype._init_header = function () {\n",
       "    var titlebar = document.createElement('div');\n",
       "    titlebar.classList =\n",
       "        'ui-dialog-titlebar ui-widget-header ui-corner-all ui-helper-clearfix';\n",
       "    var titletext = document.createElement('div');\n",
       "    titletext.classList = 'ui-dialog-title';\n",
       "    titletext.setAttribute(\n",
       "        'style',\n",
       "        'width: 100%; text-align: center; padding: 3px;'\n",
       "    );\n",
       "    titlebar.appendChild(titletext);\n",
       "    this.root.appendChild(titlebar);\n",
       "    this.header = titletext;\n",
       "};\n",
       "\n",
       "mpl.figure.prototype._canvas_extra_style = function (_canvas_div) {};\n",
       "\n",
       "mpl.figure.prototype._root_extra_style = function (_canvas_div) {};\n",
       "\n",
       "mpl.figure.prototype._init_canvas = function () {\n",
       "    var fig = this;\n",
       "\n",
       "    var canvas_div = (this.canvas_div = document.createElement('div'));\n",
       "    canvas_div.setAttribute(\n",
       "        'style',\n",
       "        'border: 1px solid #ddd;' +\n",
       "            'box-sizing: content-box;' +\n",
       "            'clear: both;' +\n",
       "            'min-height: 1px;' +\n",
       "            'min-width: 1px;' +\n",
       "            'outline: 0;' +\n",
       "            'overflow: hidden;' +\n",
       "            'position: relative;' +\n",
       "            'resize: both;'\n",
       "    );\n",
       "\n",
       "    function on_keyboard_event_closure(name) {\n",
       "        return function (event) {\n",
       "            return fig.key_event(event, name);\n",
       "        };\n",
       "    }\n",
       "\n",
       "    canvas_div.addEventListener(\n",
       "        'keydown',\n",
       "        on_keyboard_event_closure('key_press')\n",
       "    );\n",
       "    canvas_div.addEventListener(\n",
       "        'keyup',\n",
       "        on_keyboard_event_closure('key_release')\n",
       "    );\n",
       "\n",
       "    this._canvas_extra_style(canvas_div);\n",
       "    this.root.appendChild(canvas_div);\n",
       "\n",
       "    var canvas = (this.canvas = document.createElement('canvas'));\n",
       "    canvas.classList.add('mpl-canvas');\n",
       "    canvas.setAttribute('style', 'box-sizing: content-box;');\n",
       "\n",
       "    this.context = canvas.getContext('2d');\n",
       "\n",
       "    var backingStore =\n",
       "        this.context.backingStorePixelRatio ||\n",
       "        this.context.webkitBackingStorePixelRatio ||\n",
       "        this.context.mozBackingStorePixelRatio ||\n",
       "        this.context.msBackingStorePixelRatio ||\n",
       "        this.context.oBackingStorePixelRatio ||\n",
       "        this.context.backingStorePixelRatio ||\n",
       "        1;\n",
       "\n",
       "    this.ratio = (window.devicePixelRatio || 1) / backingStore;\n",
       "\n",
       "    var rubberband_canvas = (this.rubberband_canvas = document.createElement(\n",
       "        'canvas'\n",
       "    ));\n",
       "    rubberband_canvas.setAttribute(\n",
       "        'style',\n",
       "        'box-sizing: content-box; position: absolute; left: 0; top: 0; z-index: 1;'\n",
       "    );\n",
       "\n",
       "    // Apply a ponyfill if ResizeObserver is not implemented by browser.\n",
       "    if (this.ResizeObserver === undefined) {\n",
       "        if (window.ResizeObserver !== undefined) {\n",
       "            this.ResizeObserver = window.ResizeObserver;\n",
       "        } else {\n",
       "            var obs = _JSXTOOLS_RESIZE_OBSERVER({});\n",
       "            this.ResizeObserver = obs.ResizeObserver;\n",
       "        }\n",
       "    }\n",
       "\n",
       "    this.resizeObserverInstance = new this.ResizeObserver(function (entries) {\n",
       "        var nentries = entries.length;\n",
       "        for (var i = 0; i < nentries; i++) {\n",
       "            var entry = entries[i];\n",
       "            var width, height;\n",
       "            if (entry.contentBoxSize) {\n",
       "                if (entry.contentBoxSize instanceof Array) {\n",
       "                    // Chrome 84 implements new version of spec.\n",
       "                    width = entry.contentBoxSize[0].inlineSize;\n",
       "                    height = entry.contentBoxSize[0].blockSize;\n",
       "                } else {\n",
       "                    // Firefox implements old version of spec.\n",
       "                    width = entry.contentBoxSize.inlineSize;\n",
       "                    height = entry.contentBoxSize.blockSize;\n",
       "                }\n",
       "            } else {\n",
       "                // Chrome <84 implements even older version of spec.\n",
       "                width = entry.contentRect.width;\n",
       "                height = entry.contentRect.height;\n",
       "            }\n",
       "\n",
       "            // Keep the size of the canvas and rubber band canvas in sync with\n",
       "            // the canvas container.\n",
       "            if (entry.devicePixelContentBoxSize) {\n",
       "                // Chrome 84 implements new version of spec.\n",
       "                canvas.setAttribute(\n",
       "                    'width',\n",
       "                    entry.devicePixelContentBoxSize[0].inlineSize\n",
       "                );\n",
       "                canvas.setAttribute(\n",
       "                    'height',\n",
       "                    entry.devicePixelContentBoxSize[0].blockSize\n",
       "                );\n",
       "            } else {\n",
       "                canvas.setAttribute('width', width * fig.ratio);\n",
       "                canvas.setAttribute('height', height * fig.ratio);\n",
       "            }\n",
       "            canvas.setAttribute(\n",
       "                'style',\n",
       "                'width: ' + width + 'px; height: ' + height + 'px;'\n",
       "            );\n",
       "\n",
       "            rubberband_canvas.setAttribute('width', width);\n",
       "            rubberband_canvas.setAttribute('height', height);\n",
       "\n",
       "            // And update the size in Python. We ignore the initial 0/0 size\n",
       "            // that occurs as the element is placed into the DOM, which should\n",
       "            // otherwise not happen due to the minimum size styling.\n",
       "            if (fig.ws.readyState == 1 && width != 0 && height != 0) {\n",
       "                fig.request_resize(width, height);\n",
       "            }\n",
       "        }\n",
       "    });\n",
       "    this.resizeObserverInstance.observe(canvas_div);\n",
       "\n",
       "    function on_mouse_event_closure(name) {\n",
       "        return function (event) {\n",
       "            return fig.mouse_event(event, name);\n",
       "        };\n",
       "    }\n",
       "\n",
       "    rubberband_canvas.addEventListener(\n",
       "        'mousedown',\n",
       "        on_mouse_event_closure('button_press')\n",
       "    );\n",
       "    rubberband_canvas.addEventListener(\n",
       "        'mouseup',\n",
       "        on_mouse_event_closure('button_release')\n",
       "    );\n",
       "    rubberband_canvas.addEventListener(\n",
       "        'dblclick',\n",
       "        on_mouse_event_closure('dblclick')\n",
       "    );\n",
       "    // Throttle sequential mouse events to 1 every 20ms.\n",
       "    rubberband_canvas.addEventListener(\n",
       "        'mousemove',\n",
       "        on_mouse_event_closure('motion_notify')\n",
       "    );\n",
       "\n",
       "    rubberband_canvas.addEventListener(\n",
       "        'mouseenter',\n",
       "        on_mouse_event_closure('figure_enter')\n",
       "    );\n",
       "    rubberband_canvas.addEventListener(\n",
       "        'mouseleave',\n",
       "        on_mouse_event_closure('figure_leave')\n",
       "    );\n",
       "\n",
       "    canvas_div.addEventListener('wheel', function (event) {\n",
       "        if (event.deltaY < 0) {\n",
       "            event.step = 1;\n",
       "        } else {\n",
       "            event.step = -1;\n",
       "        }\n",
       "        on_mouse_event_closure('scroll')(event);\n",
       "    });\n",
       "\n",
       "    canvas_div.appendChild(canvas);\n",
       "    canvas_div.appendChild(rubberband_canvas);\n",
       "\n",
       "    this.rubberband_context = rubberband_canvas.getContext('2d');\n",
       "    this.rubberband_context.strokeStyle = '#000000';\n",
       "\n",
       "    this._resize_canvas = function (width, height, forward) {\n",
       "        if (forward) {\n",
       "            canvas_div.style.width = width + 'px';\n",
       "            canvas_div.style.height = height + 'px';\n",
       "        }\n",
       "    };\n",
       "\n",
       "    // Disable right mouse context menu.\n",
       "    this.rubberband_canvas.addEventListener('contextmenu', function (_e) {\n",
       "        event.preventDefault();\n",
       "        return false;\n",
       "    });\n",
       "\n",
       "    function set_focus() {\n",
       "        canvas.focus();\n",
       "        canvas_div.focus();\n",
       "    }\n",
       "\n",
       "    window.setTimeout(set_focus, 100);\n",
       "};\n",
       "\n",
       "mpl.figure.prototype._init_toolbar = function () {\n",
       "    var fig = this;\n",
       "\n",
       "    var toolbar = document.createElement('div');\n",
       "    toolbar.classList = 'mpl-toolbar';\n",
       "    this.root.appendChild(toolbar);\n",
       "\n",
       "    function on_click_closure(name) {\n",
       "        return function (_event) {\n",
       "            return fig.toolbar_button_onclick(name);\n",
       "        };\n",
       "    }\n",
       "\n",
       "    function on_mouseover_closure(tooltip) {\n",
       "        return function (event) {\n",
       "            if (!event.currentTarget.disabled) {\n",
       "                return fig.toolbar_button_onmouseover(tooltip);\n",
       "            }\n",
       "        };\n",
       "    }\n",
       "\n",
       "    fig.buttons = {};\n",
       "    var buttonGroup = document.createElement('div');\n",
       "    buttonGroup.classList = 'mpl-button-group';\n",
       "    for (var toolbar_ind in mpl.toolbar_items) {\n",
       "        var name = mpl.toolbar_items[toolbar_ind][0];\n",
       "        var tooltip = mpl.toolbar_items[toolbar_ind][1];\n",
       "        var image = mpl.toolbar_items[toolbar_ind][2];\n",
       "        var method_name = mpl.toolbar_items[toolbar_ind][3];\n",
       "\n",
       "        if (!name) {\n",
       "            /* Instead of a spacer, we start a new button group. */\n",
       "            if (buttonGroup.hasChildNodes()) {\n",
       "                toolbar.appendChild(buttonGroup);\n",
       "            }\n",
       "            buttonGroup = document.createElement('div');\n",
       "            buttonGroup.classList = 'mpl-button-group';\n",
       "            continue;\n",
       "        }\n",
       "\n",
       "        var button = (fig.buttons[name] = document.createElement('button'));\n",
       "        button.classList = 'mpl-widget';\n",
       "        button.setAttribute('role', 'button');\n",
       "        button.setAttribute('aria-disabled', 'false');\n",
       "        button.addEventListener('click', on_click_closure(method_name));\n",
       "        button.addEventListener('mouseover', on_mouseover_closure(tooltip));\n",
       "\n",
       "        var icon_img = document.createElement('img');\n",
       "        icon_img.src = '_images/' + image + '.png';\n",
       "        icon_img.srcset = '_images/' + image + '_large.png 2x';\n",
       "        icon_img.alt = tooltip;\n",
       "        button.appendChild(icon_img);\n",
       "\n",
       "        buttonGroup.appendChild(button);\n",
       "    }\n",
       "\n",
       "    if (buttonGroup.hasChildNodes()) {\n",
       "        toolbar.appendChild(buttonGroup);\n",
       "    }\n",
       "\n",
       "    var fmt_picker = document.createElement('select');\n",
       "    fmt_picker.classList = 'mpl-widget';\n",
       "    toolbar.appendChild(fmt_picker);\n",
       "    this.format_dropdown = fmt_picker;\n",
       "\n",
       "    for (var ind in mpl.extensions) {\n",
       "        var fmt = mpl.extensions[ind];\n",
       "        var option = document.createElement('option');\n",
       "        option.selected = fmt === mpl.default_extension;\n",
       "        option.innerHTML = fmt;\n",
       "        fmt_picker.appendChild(option);\n",
       "    }\n",
       "\n",
       "    var status_bar = document.createElement('span');\n",
       "    status_bar.classList = 'mpl-message';\n",
       "    toolbar.appendChild(status_bar);\n",
       "    this.message = status_bar;\n",
       "};\n",
       "\n",
       "mpl.figure.prototype.request_resize = function (x_pixels, y_pixels) {\n",
       "    // Request matplotlib to resize the figure. Matplotlib will then trigger a resize in the client,\n",
       "    // which will in turn request a refresh of the image.\n",
       "    this.send_message('resize', { width: x_pixels, height: y_pixels });\n",
       "};\n",
       "\n",
       "mpl.figure.prototype.send_message = function (type, properties) {\n",
       "    properties['type'] = type;\n",
       "    properties['figure_id'] = this.id;\n",
       "    this.ws.send(JSON.stringify(properties));\n",
       "};\n",
       "\n",
       "mpl.figure.prototype.send_draw_message = function () {\n",
       "    if (!this.waiting) {\n",
       "        this.waiting = true;\n",
       "        this.ws.send(JSON.stringify({ type: 'draw', figure_id: this.id }));\n",
       "    }\n",
       "};\n",
       "\n",
       "mpl.figure.prototype.handle_save = function (fig, _msg) {\n",
       "    var format_dropdown = fig.format_dropdown;\n",
       "    var format = format_dropdown.options[format_dropdown.selectedIndex].value;\n",
       "    fig.ondownload(fig, format);\n",
       "};\n",
       "\n",
       "mpl.figure.prototype.handle_resize = function (fig, msg) {\n",
       "    var size = msg['size'];\n",
       "    if (size[0] !== fig.canvas.width || size[1] !== fig.canvas.height) {\n",
       "        fig._resize_canvas(size[0], size[1], msg['forward']);\n",
       "        fig.send_message('refresh', {});\n",
       "    }\n",
       "};\n",
       "\n",
       "mpl.figure.prototype.handle_rubberband = function (fig, msg) {\n",
       "    var x0 = msg['x0'] / fig.ratio;\n",
       "    var y0 = (fig.canvas.height - msg['y0']) / fig.ratio;\n",
       "    var x1 = msg['x1'] / fig.ratio;\n",
       "    var y1 = (fig.canvas.height - msg['y1']) / fig.ratio;\n",
       "    x0 = Math.floor(x0) + 0.5;\n",
       "    y0 = Math.floor(y0) + 0.5;\n",
       "    x1 = Math.floor(x1) + 0.5;\n",
       "    y1 = Math.floor(y1) + 0.5;\n",
       "    var min_x = Math.min(x0, x1);\n",
       "    var min_y = Math.min(y0, y1);\n",
       "    var width = Math.abs(x1 - x0);\n",
       "    var height = Math.abs(y1 - y0);\n",
       "\n",
       "    fig.rubberband_context.clearRect(\n",
       "        0,\n",
       "        0,\n",
       "        fig.canvas.width / fig.ratio,\n",
       "        fig.canvas.height / fig.ratio\n",
       "    );\n",
       "\n",
       "    fig.rubberband_context.strokeRect(min_x, min_y, width, height);\n",
       "};\n",
       "\n",
       "mpl.figure.prototype.handle_figure_label = function (fig, msg) {\n",
       "    // Updates the figure title.\n",
       "    fig.header.textContent = msg['label'];\n",
       "};\n",
       "\n",
       "mpl.figure.prototype.handle_cursor = function (fig, msg) {\n",
       "    fig.rubberband_canvas.style.cursor = msg['cursor'];\n",
       "};\n",
       "\n",
       "mpl.figure.prototype.handle_message = function (fig, msg) {\n",
       "    fig.message.textContent = msg['message'];\n",
       "};\n",
       "\n",
       "mpl.figure.prototype.handle_draw = function (fig, _msg) {\n",
       "    // Request the server to send over a new figure.\n",
       "    fig.send_draw_message();\n",
       "};\n",
       "\n",
       "mpl.figure.prototype.handle_image_mode = function (fig, msg) {\n",
       "    fig.image_mode = msg['mode'];\n",
       "};\n",
       "\n",
       "mpl.figure.prototype.handle_history_buttons = function (fig, msg) {\n",
       "    for (var key in msg) {\n",
       "        if (!(key in fig.buttons)) {\n",
       "            continue;\n",
       "        }\n",
       "        fig.buttons[key].disabled = !msg[key];\n",
       "        fig.buttons[key].setAttribute('aria-disabled', !msg[key]);\n",
       "    }\n",
       "};\n",
       "\n",
       "mpl.figure.prototype.handle_navigate_mode = function (fig, msg) {\n",
       "    if (msg['mode'] === 'PAN') {\n",
       "        fig.buttons['Pan'].classList.add('active');\n",
       "        fig.buttons['Zoom'].classList.remove('active');\n",
       "    } else if (msg['mode'] === 'ZOOM') {\n",
       "        fig.buttons['Pan'].classList.remove('active');\n",
       "        fig.buttons['Zoom'].classList.add('active');\n",
       "    } else {\n",
       "        fig.buttons['Pan'].classList.remove('active');\n",
       "        fig.buttons['Zoom'].classList.remove('active');\n",
       "    }\n",
       "};\n",
       "\n",
       "mpl.figure.prototype.updated_canvas_event = function () {\n",
       "    // Called whenever the canvas gets updated.\n",
       "    this.send_message('ack', {});\n",
       "};\n",
       "\n",
       "// A function to construct a web socket function for onmessage handling.\n",
       "// Called in the figure constructor.\n",
       "mpl.figure.prototype._make_on_message_function = function (fig) {\n",
       "    return function socket_on_message(evt) {\n",
       "        if (evt.data instanceof Blob) {\n",
       "            var img = evt.data;\n",
       "            if (img.type !== 'image/png') {\n",
       "                /* FIXME: We get \"Resource interpreted as Image but\n",
       "                 * transferred with MIME type text/plain:\" errors on\n",
       "                 * Chrome.  But how to set the MIME type?  It doesn't seem\n",
       "                 * to be part of the websocket stream */\n",
       "                img.type = 'image/png';\n",
       "            }\n",
       "\n",
       "            /* Free the memory for the previous frames */\n",
       "            if (fig.imageObj.src) {\n",
       "                (window.URL || window.webkitURL).revokeObjectURL(\n",
       "                    fig.imageObj.src\n",
       "                );\n",
       "            }\n",
       "\n",
       "            fig.imageObj.src = (window.URL || window.webkitURL).createObjectURL(\n",
       "                img\n",
       "            );\n",
       "            fig.updated_canvas_event();\n",
       "            fig.waiting = false;\n",
       "            return;\n",
       "        } else if (\n",
       "            typeof evt.data === 'string' &&\n",
       "            evt.data.slice(0, 21) === 'data:image/png;base64'\n",
       "        ) {\n",
       "            fig.imageObj.src = evt.data;\n",
       "            fig.updated_canvas_event();\n",
       "            fig.waiting = false;\n",
       "            return;\n",
       "        }\n",
       "\n",
       "        var msg = JSON.parse(evt.data);\n",
       "        var msg_type = msg['type'];\n",
       "\n",
       "        // Call the  \"handle_{type}\" callback, which takes\n",
       "        // the figure and JSON message as its only arguments.\n",
       "        try {\n",
       "            var callback = fig['handle_' + msg_type];\n",
       "        } catch (e) {\n",
       "            console.log(\n",
       "                \"No handler for the '\" + msg_type + \"' message type: \",\n",
       "                msg\n",
       "            );\n",
       "            return;\n",
       "        }\n",
       "\n",
       "        if (callback) {\n",
       "            try {\n",
       "                // console.log(\"Handling '\" + msg_type + \"' message: \", msg);\n",
       "                callback(fig, msg);\n",
       "            } catch (e) {\n",
       "                console.log(\n",
       "                    \"Exception inside the 'handler_\" + msg_type + \"' callback:\",\n",
       "                    e,\n",
       "                    e.stack,\n",
       "                    msg\n",
       "                );\n",
       "            }\n",
       "        }\n",
       "    };\n",
       "};\n",
       "\n",
       "// from https://stackoverflow.com/questions/1114465/getting-mouse-location-in-canvas\n",
       "mpl.findpos = function (e) {\n",
       "    //this section is from http://www.quirksmode.org/js/events_properties.html\n",
       "    var targ;\n",
       "    if (!e) {\n",
       "        e = window.event;\n",
       "    }\n",
       "    if (e.target) {\n",
       "        targ = e.target;\n",
       "    } else if (e.srcElement) {\n",
       "        targ = e.srcElement;\n",
       "    }\n",
       "    if (targ.nodeType === 3) {\n",
       "        // defeat Safari bug\n",
       "        targ = targ.parentNode;\n",
       "    }\n",
       "\n",
       "    // pageX,Y are the mouse positions relative to the document\n",
       "    var boundingRect = targ.getBoundingClientRect();\n",
       "    var x = e.pageX - (boundingRect.left + document.body.scrollLeft);\n",
       "    var y = e.pageY - (boundingRect.top + document.body.scrollTop);\n",
       "\n",
       "    return { x: x, y: y };\n",
       "};\n",
       "\n",
       "/*\n",
       " * return a copy of an object with only non-object keys\n",
       " * we need this to avoid circular references\n",
       " * https://stackoverflow.com/a/24161582/3208463\n",
       " */\n",
       "function simpleKeys(original) {\n",
       "    return Object.keys(original).reduce(function (obj, key) {\n",
       "        if (typeof original[key] !== 'object') {\n",
       "            obj[key] = original[key];\n",
       "        }\n",
       "        return obj;\n",
       "    }, {});\n",
       "}\n",
       "\n",
       "mpl.figure.prototype.mouse_event = function (event, name) {\n",
       "    var canvas_pos = mpl.findpos(event);\n",
       "\n",
       "    if (name === 'button_press') {\n",
       "        this.canvas.focus();\n",
       "        this.canvas_div.focus();\n",
       "    }\n",
       "\n",
       "    var x = canvas_pos.x * this.ratio;\n",
       "    var y = canvas_pos.y * this.ratio;\n",
       "\n",
       "    this.send_message(name, {\n",
       "        x: x,\n",
       "        y: y,\n",
       "        button: event.button,\n",
       "        step: event.step,\n",
       "        guiEvent: simpleKeys(event),\n",
       "    });\n",
       "\n",
       "    /* This prevents the web browser from automatically changing to\n",
       "     * the text insertion cursor when the button is pressed.  We want\n",
       "     * to control all of the cursor setting manually through the\n",
       "     * 'cursor' event from matplotlib */\n",
       "    event.preventDefault();\n",
       "    return false;\n",
       "};\n",
       "\n",
       "mpl.figure.prototype._key_event_extra = function (_event, _name) {\n",
       "    // Handle any extra behaviour associated with a key event\n",
       "};\n",
       "\n",
       "mpl.figure.prototype.key_event = function (event, name) {\n",
       "    // Prevent repeat events\n",
       "    if (name === 'key_press') {\n",
       "        if (event.key === this._key) {\n",
       "            return;\n",
       "        } else {\n",
       "            this._key = event.key;\n",
       "        }\n",
       "    }\n",
       "    if (name === 'key_release') {\n",
       "        this._key = null;\n",
       "    }\n",
       "\n",
       "    var value = '';\n",
       "    if (event.ctrlKey && event.key !== 'Control') {\n",
       "        value += 'ctrl+';\n",
       "    }\n",
       "    else if (event.altKey && event.key !== 'Alt') {\n",
       "        value += 'alt+';\n",
       "    }\n",
       "    else if (event.shiftKey && event.key !== 'Shift') {\n",
       "        value += 'shift+';\n",
       "    }\n",
       "\n",
       "    value += 'k' + event.key;\n",
       "\n",
       "    this._key_event_extra(event, name);\n",
       "\n",
       "    this.send_message(name, { key: value, guiEvent: simpleKeys(event) });\n",
       "    return false;\n",
       "};\n",
       "\n",
       "mpl.figure.prototype.toolbar_button_onclick = function (name) {\n",
       "    if (name === 'download') {\n",
       "        this.handle_save(this, null);\n",
       "    } else {\n",
       "        this.send_message('toolbar_button', { name: name });\n",
       "    }\n",
       "};\n",
       "\n",
       "mpl.figure.prototype.toolbar_button_onmouseover = function (tooltip) {\n",
       "    this.message.textContent = tooltip;\n",
       "};\n",
       "\n",
       "///////////////// REMAINING CONTENT GENERATED BY embed_js.py /////////////////\n",
       "// prettier-ignore\n",
       "var _JSXTOOLS_RESIZE_OBSERVER=function(A){var t,i=new WeakMap,n=new WeakMap,a=new WeakMap,r=new WeakMap,o=new Set;function s(e){if(!(this instanceof s))throw new TypeError(\"Constructor requires 'new' operator\");i.set(this,e)}function h(){throw new TypeError(\"Function is not a constructor\")}function c(e,t,i,n){e=0 in arguments?Number(arguments[0]):0,t=1 in arguments?Number(arguments[1]):0,i=2 in arguments?Number(arguments[2]):0,n=3 in arguments?Number(arguments[3]):0,this.right=(this.x=this.left=e)+(this.width=i),this.bottom=(this.y=this.top=t)+(this.height=n),Object.freeze(this)}function d(){t=requestAnimationFrame(d);var s=new WeakMap,p=new Set;o.forEach((function(t){r.get(t).forEach((function(i){var r=t instanceof window.SVGElement,o=a.get(t),d=r?0:parseFloat(o.paddingTop),f=r?0:parseFloat(o.paddingRight),l=r?0:parseFloat(o.paddingBottom),u=r?0:parseFloat(o.paddingLeft),g=r?0:parseFloat(o.borderTopWidth),m=r?0:parseFloat(o.borderRightWidth),w=r?0:parseFloat(o.borderBottomWidth),b=u+f,F=d+l,v=(r?0:parseFloat(o.borderLeftWidth))+m,W=g+w,y=r?0:t.offsetHeight-W-t.clientHeight,E=r?0:t.offsetWidth-v-t.clientWidth,R=b+v,z=F+W,M=r?t.width:parseFloat(o.width)-R-E,O=r?t.height:parseFloat(o.height)-z-y;if(n.has(t)){var k=n.get(t);if(k[0]===M&&k[1]===O)return}n.set(t,[M,O]);var S=Object.create(h.prototype);S.target=t,S.contentRect=new c(u,d,M,O),s.has(i)||(s.set(i,[]),p.add(i)),s.get(i).push(S)}))})),p.forEach((function(e){i.get(e).call(e,s.get(e),e)}))}return s.prototype.observe=function(i){if(i instanceof window.Element){r.has(i)||(r.set(i,new Set),o.add(i),a.set(i,window.getComputedStyle(i)));var n=r.get(i);n.has(this)||n.add(this),cancelAnimationFrame(t),t=requestAnimationFrame(d)}},s.prototype.unobserve=function(i){if(i instanceof window.Element&&r.has(i)){var n=r.get(i);n.has(this)&&(n.delete(this),n.size||(r.delete(i),o.delete(i))),n.size||r.delete(i),o.size||cancelAnimationFrame(t)}},A.DOMRectReadOnly=c,A.ResizeObserver=s,A.ResizeObserverEntry=h,A}; // eslint-disable-line\n",
       "mpl.toolbar_items = [[\"Home\", \"Reset original view\", \"fa fa-home icon-home\", \"home\"], [\"Back\", \"Back to previous view\", \"fa fa-arrow-left icon-arrow-left\", \"back\"], [\"Forward\", \"Forward to next view\", \"fa fa-arrow-right icon-arrow-right\", \"forward\"], [\"\", \"\", \"\", \"\"], [\"Pan\", \"Left button pans, Right button zooms\\nx/y fixes axis, CTRL fixes aspect\", \"fa fa-arrows icon-move\", \"pan\"], [\"Zoom\", \"Zoom to rectangle\\nx/y fixes axis\", \"fa fa-square-o icon-check-empty\", \"zoom\"], [\"\", \"\", \"\", \"\"], [\"Download\", \"Download plot\", \"fa fa-floppy-o icon-save\", \"download\"]];\n",
       "\n",
       "mpl.extensions = [\"eps\", \"jpeg\", \"pgf\", \"pdf\", \"png\", \"ps\", \"raw\", \"svg\", \"tif\"];\n",
       "\n",
       "mpl.default_extension = \"png\";/* global mpl */\n",
       "\n",
       "var comm_websocket_adapter = function (comm) {\n",
       "    // Create a \"websocket\"-like object which calls the given IPython comm\n",
       "    // object with the appropriate methods. Currently this is a non binary\n",
       "    // socket, so there is still some room for performance tuning.\n",
       "    var ws = {};\n",
       "\n",
       "    ws.binaryType = comm.kernel.ws.binaryType;\n",
       "    ws.readyState = comm.kernel.ws.readyState;\n",
       "    function updateReadyState(_event) {\n",
       "        if (comm.kernel.ws) {\n",
       "            ws.readyState = comm.kernel.ws.readyState;\n",
       "        } else {\n",
       "            ws.readyState = 3; // Closed state.\n",
       "        }\n",
       "    }\n",
       "    comm.kernel.ws.addEventListener('open', updateReadyState);\n",
       "    comm.kernel.ws.addEventListener('close', updateReadyState);\n",
       "    comm.kernel.ws.addEventListener('error', updateReadyState);\n",
       "\n",
       "    ws.close = function () {\n",
       "        comm.close();\n",
       "    };\n",
       "    ws.send = function (m) {\n",
       "        //console.log('sending', m);\n",
       "        comm.send(m);\n",
       "    };\n",
       "    // Register the callback with on_msg.\n",
       "    comm.on_msg(function (msg) {\n",
       "        //console.log('receiving', msg['content']['data'], msg);\n",
       "        var data = msg['content']['data'];\n",
       "        if (data['blob'] !== undefined) {\n",
       "            data = {\n",
       "                data: new Blob(msg['buffers'], { type: data['blob'] }),\n",
       "            };\n",
       "        }\n",
       "        // Pass the mpl event to the overridden (by mpl) onmessage function.\n",
       "        ws.onmessage(data);\n",
       "    });\n",
       "    return ws;\n",
       "};\n",
       "\n",
       "mpl.mpl_figure_comm = function (comm, msg) {\n",
       "    // This is the function which gets called when the mpl process\n",
       "    // starts-up an IPython Comm through the \"matplotlib\" channel.\n",
       "\n",
       "    var id = msg.content.data.id;\n",
       "    // Get hold of the div created by the display call when the Comm\n",
       "    // socket was opened in Python.\n",
       "    var element = document.getElementById(id);\n",
       "    var ws_proxy = comm_websocket_adapter(comm);\n",
       "\n",
       "    function ondownload(figure, _format) {\n",
       "        window.open(figure.canvas.toDataURL());\n",
       "    }\n",
       "\n",
       "    var fig = new mpl.figure(id, ws_proxy, ondownload, element);\n",
       "\n",
       "    // Call onopen now - mpl needs it, as it is assuming we've passed it a real\n",
       "    // web socket which is closed, not our websocket->open comm proxy.\n",
       "    ws_proxy.onopen();\n",
       "\n",
       "    fig.parent_element = element;\n",
       "    fig.cell_info = mpl.find_output_cell(\"<div id='\" + id + \"'></div>\");\n",
       "    if (!fig.cell_info) {\n",
       "        console.error('Failed to find cell for figure', id, fig);\n",
       "        return;\n",
       "    }\n",
       "    fig.cell_info[0].output_area.element.on(\n",
       "        'cleared',\n",
       "        { fig: fig },\n",
       "        fig._remove_fig_handler\n",
       "    );\n",
       "};\n",
       "\n",
       "mpl.figure.prototype.handle_close = function (fig, msg) {\n",
       "    var width = fig.canvas.width / fig.ratio;\n",
       "    fig.cell_info[0].output_area.element.off(\n",
       "        'cleared',\n",
       "        fig._remove_fig_handler\n",
       "    );\n",
       "    fig.resizeObserverInstance.unobserve(fig.canvas_div);\n",
       "\n",
       "    // Update the output cell to use the data from the current canvas.\n",
       "    fig.push_to_output();\n",
       "    var dataURL = fig.canvas.toDataURL();\n",
       "    // Re-enable the keyboard manager in IPython - without this line, in FF,\n",
       "    // the notebook keyboard shortcuts fail.\n",
       "    IPython.keyboard_manager.enable();\n",
       "    fig.parent_element.innerHTML =\n",
       "        '<img src=\"' + dataURL + '\" width=\"' + width + '\">';\n",
       "    fig.close_ws(fig, msg);\n",
       "};\n",
       "\n",
       "mpl.figure.prototype.close_ws = function (fig, msg) {\n",
       "    fig.send_message('closing', msg);\n",
       "    // fig.ws.close()\n",
       "};\n",
       "\n",
       "mpl.figure.prototype.push_to_output = function (_remove_interactive) {\n",
       "    // Turn the data on the canvas into data in the output cell.\n",
       "    var width = this.canvas.width / this.ratio;\n",
       "    var dataURL = this.canvas.toDataURL();\n",
       "    this.cell_info[1]['text/html'] =\n",
       "        '<img src=\"' + dataURL + '\" width=\"' + width + '\">';\n",
       "};\n",
       "\n",
       "mpl.figure.prototype.updated_canvas_event = function () {\n",
       "    // Tell IPython that the notebook contents must change.\n",
       "    IPython.notebook.set_dirty(true);\n",
       "    this.send_message('ack', {});\n",
       "    var fig = this;\n",
       "    // Wait a second, then push the new image to the DOM so\n",
       "    // that it is saved nicely (might be nice to debounce this).\n",
       "    setTimeout(function () {\n",
       "        fig.push_to_output();\n",
       "    }, 1000);\n",
       "};\n",
       "\n",
       "mpl.figure.prototype._init_toolbar = function () {\n",
       "    var fig = this;\n",
       "\n",
       "    var toolbar = document.createElement('div');\n",
       "    toolbar.classList = 'btn-toolbar';\n",
       "    this.root.appendChild(toolbar);\n",
       "\n",
       "    function on_click_closure(name) {\n",
       "        return function (_event) {\n",
       "            return fig.toolbar_button_onclick(name);\n",
       "        };\n",
       "    }\n",
       "\n",
       "    function on_mouseover_closure(tooltip) {\n",
       "        return function (event) {\n",
       "            if (!event.currentTarget.disabled) {\n",
       "                return fig.toolbar_button_onmouseover(tooltip);\n",
       "            }\n",
       "        };\n",
       "    }\n",
       "\n",
       "    fig.buttons = {};\n",
       "    var buttonGroup = document.createElement('div');\n",
       "    buttonGroup.classList = 'btn-group';\n",
       "    var button;\n",
       "    for (var toolbar_ind in mpl.toolbar_items) {\n",
       "        var name = mpl.toolbar_items[toolbar_ind][0];\n",
       "        var tooltip = mpl.toolbar_items[toolbar_ind][1];\n",
       "        var image = mpl.toolbar_items[toolbar_ind][2];\n",
       "        var method_name = mpl.toolbar_items[toolbar_ind][3];\n",
       "\n",
       "        if (!name) {\n",
       "            /* Instead of a spacer, we start a new button group. */\n",
       "            if (buttonGroup.hasChildNodes()) {\n",
       "                toolbar.appendChild(buttonGroup);\n",
       "            }\n",
       "            buttonGroup = document.createElement('div');\n",
       "            buttonGroup.classList = 'btn-group';\n",
       "            continue;\n",
       "        }\n",
       "\n",
       "        button = fig.buttons[name] = document.createElement('button');\n",
       "        button.classList = 'btn btn-default';\n",
       "        button.href = '#';\n",
       "        button.title = name;\n",
       "        button.innerHTML = '<i class=\"fa ' + image + ' fa-lg\"></i>';\n",
       "        button.addEventListener('click', on_click_closure(method_name));\n",
       "        button.addEventListener('mouseover', on_mouseover_closure(tooltip));\n",
       "        buttonGroup.appendChild(button);\n",
       "    }\n",
       "\n",
       "    if (buttonGroup.hasChildNodes()) {\n",
       "        toolbar.appendChild(buttonGroup);\n",
       "    }\n",
       "\n",
       "    // Add the status bar.\n",
       "    var status_bar = document.createElement('span');\n",
       "    status_bar.classList = 'mpl-message pull-right';\n",
       "    toolbar.appendChild(status_bar);\n",
       "    this.message = status_bar;\n",
       "\n",
       "    // Add the close button to the window.\n",
       "    var buttongrp = document.createElement('div');\n",
       "    buttongrp.classList = 'btn-group inline pull-right';\n",
       "    button = document.createElement('button');\n",
       "    button.classList = 'btn btn-mini btn-primary';\n",
       "    button.href = '#';\n",
       "    button.title = 'Stop Interaction';\n",
       "    button.innerHTML = '<i class=\"fa fa-power-off icon-remove icon-large\"></i>';\n",
       "    button.addEventListener('click', function (_evt) {\n",
       "        fig.handle_close(fig, {});\n",
       "    });\n",
       "    button.addEventListener(\n",
       "        'mouseover',\n",
       "        on_mouseover_closure('Stop Interaction')\n",
       "    );\n",
       "    buttongrp.appendChild(button);\n",
       "    var titlebar = this.root.querySelector('.ui-dialog-titlebar');\n",
       "    titlebar.insertBefore(buttongrp, titlebar.firstChild);\n",
       "};\n",
       "\n",
       "mpl.figure.prototype._remove_fig_handler = function (event) {\n",
       "    var fig = event.data.fig;\n",
       "    if (event.target !== this) {\n",
       "        // Ignore bubbled events from children.\n",
       "        return;\n",
       "    }\n",
       "    fig.close_ws(fig, {});\n",
       "};\n",
       "\n",
       "mpl.figure.prototype._root_extra_style = function (el) {\n",
       "    el.style.boxSizing = 'content-box'; // override notebook setting of border-box.\n",
       "};\n",
       "\n",
       "mpl.figure.prototype._canvas_extra_style = function (el) {\n",
       "    // this is important to make the div 'focusable\n",
       "    el.setAttribute('tabindex', 0);\n",
       "    // reach out to IPython and tell the keyboard manager to turn it's self\n",
       "    // off when our div gets focus\n",
       "\n",
       "    // location in version 3\n",
       "    if (IPython.notebook.keyboard_manager) {\n",
       "        IPython.notebook.keyboard_manager.register_events(el);\n",
       "    } else {\n",
       "        // location in version 2\n",
       "        IPython.keyboard_manager.register_events(el);\n",
       "    }\n",
       "};\n",
       "\n",
       "mpl.figure.prototype._key_event_extra = function (event, _name) {\n",
       "    // Check for shift+enter\n",
       "    if (event.shiftKey && event.which === 13) {\n",
       "        this.canvas_div.blur();\n",
       "        // select the cell after this one\n",
       "        var index = IPython.notebook.find_cell_index(this.cell_info[0]);\n",
       "        IPython.notebook.select(index + 1);\n",
       "    }\n",
       "};\n",
       "\n",
       "mpl.figure.prototype.handle_save = function (fig, _msg) {\n",
       "    fig.ondownload(fig, null);\n",
       "};\n",
       "\n",
       "mpl.find_output_cell = function (html_output) {\n",
       "    // Return the cell and output element which can be found *uniquely* in the notebook.\n",
       "    // Note - this is a bit hacky, but it is done because the \"notebook_saving.Notebook\"\n",
       "    // IPython event is triggered only after the cells have been serialised, which for\n",
       "    // our purposes (turning an active figure into a static one), is too late.\n",
       "    var cells = IPython.notebook.get_cells();\n",
       "    var ncells = cells.length;\n",
       "    for (var i = 0; i < ncells; i++) {\n",
       "        var cell = cells[i];\n",
       "        if (cell.cell_type === 'code') {\n",
       "            for (var j = 0; j < cell.output_area.outputs.length; j++) {\n",
       "                var data = cell.output_area.outputs[j];\n",
       "                if (data.data) {\n",
       "                    // IPython >= 3 moved mimebundle to data attribute of output\n",
       "                    data = data.data;\n",
       "                }\n",
       "                if (data['text/html'] === html_output) {\n",
       "                    return [cell, data, j];\n",
       "                }\n",
       "            }\n",
       "        }\n",
       "    }\n",
       "};\n",
       "\n",
       "// Register the function which deals with the matplotlib target/channel.\n",
       "// The kernel may be null if the page has been refreshed.\n",
       "if (IPython.notebook.kernel !== null) {\n",
       "    IPython.notebook.kernel.comm_manager.register_target(\n",
       "        'matplotlib',\n",
       "        mpl.mpl_figure_comm\n",
       "    );\n",
       "}\n"
      ],
      "text/plain": [
       "<IPython.core.display.Javascript object>"
      ]
     },
     "metadata": {},
     "output_type": "display_data"
    },
    {
     "data": {
      "text/html": [
       "<img src=\"data:image/png;base64,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\" width=\"640\">"
      ],
      "text/plain": [
       "<IPython.core.display.HTML object>"
      ]
     },
     "metadata": {},
     "output_type": "display_data"
    },
    {
     "data": {
      "text/plain": [
       "[]"
      ]
     },
     "execution_count": 117,
     "metadata": {},
     "output_type": "execute_result"
    }
   ],
   "source": [
    "icol = 2\n",
    "im_raw = asm.im_sig_[icol]\n",
    "im_ = norm_slice(im_raw,s=30)\n",
    "resc=5\n",
    "th_ = np.std(im_[::resc,::resc,::resc])*20\n",
    "X_ = asm.Xhs[icol]\n",
    "\n",
    "#plt.plot(np.sort(X_[:,-2]))\n",
    "hn,h = X_[:,-2],X_[:,-1]\n",
    "keep = (h>1000)&(hn>0.33)\n",
    "X__ = X_[keep]\n",
    "\n",
    "\n",
    "plt.figure()\n",
    "plt.imshow(np.max(im_,axis=0),vmax=th_,vmin=0,cmap='gray')\n",
    "plt.plot(X__[:,2],X__[:,1],'rx')\n",
    "plt.plot()"
   ]
  },
  {
   "cell_type": "code",
   "execution_count": 65,
   "id": "83532b10",
   "metadata": {},
   "outputs": [],
   "source": [
    "#[zc,xc,yc,bk,a,habs,hn,h]"
   ]
  },
  {
   "cell_type": "code",
   "execution_count": null,
   "id": "a41032fd",
   "metadata": {},
   "outputs": [],
   "source": []
  },
  {
   "cell_type": "code",
   "execution_count": 7,
   "id": "c64ebeaf",
   "metadata": {},
   "outputs": [
    {
     "name": "stdout",
     "output_type": "stream",
     "text": [
      "Hellpo\n"
     ]
    }
   ],
   "source": [
    "self=asm\n",
    "if self.fl_bk==self.fl:\n",
    "    print('Hellpo')\n",
    "\n"
   ]
  },
  {
   "cell_type": "code",
   "execution_count": 12,
   "id": "2482121d",
   "metadata": {},
   "outputs": [],
   "source": [
    "??asm.get_signal"
   ]
  },
  {
   "cell_type": "code",
   "execution_count": null,
   "id": "d2b264d5",
   "metadata": {},
   "outputs": [],
   "source": []
  }
 ],
 "metadata": {
  "kernelspec": {
   "display_name": "Python 3 (ipykernel)",
   "language": "python",
   "name": "python3"
  },
  "language_info": {
   "codemirror_mode": {
    "name": "ipython",
    "version": 3
   },
   "file_extension": ".py",
   "mimetype": "text/x-python",
   "name": "python",
   "nbconvert_exporter": "python",
   "pygments_lexer": "ipython3",
   "version": "3.8.13"
  },
  "toc": {
   "base_numbering": 1,
   "nav_menu": {},
   "number_sections": true,
   "sideBar": true,
   "skip_h1_title": false,
   "title_cell": "Table of Contents",
   "title_sidebar": "Contents",
   "toc_cell": false,
   "toc_position": {},
   "toc_section_display": true,
   "toc_window_display": false
  }
 },
 "nbformat": 4,
 "nbformat_minor": 5
}
