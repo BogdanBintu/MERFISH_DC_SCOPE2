{
 "cells": [
  {
   "cell_type": "code",
   "execution_count": 1,
   "id": "23a0554d",
   "metadata": {},
   "outputs": [],
   "source": [
    "import pandas\n",
    "codebook = pandas.read_csv(r'Z:\\DCBB_1500gnLib_01_23_2023\\MERFISH\\New_DCBB-300_MERFISH_encoding_2_21_2023.csv')\n",
    "import numpy as np\n",
    "code_gene = codebook[codebook['name']=='Ptbp1'].iloc[:,2:]\n",
    "code = np.where(code_gene.iloc[0])[0]\n",
    "icol =code[0]%3 \n",
    "hybes =code//3 \n",
    "hybes,icol"
   ]
  },
  {
   "cell_type": "code",
   "execution_count": 33,
   "id": "0fc150fb",
   "metadata": {},
   "outputs": [
    {
     "data": {
      "text/plain": [
       "(array([0, 1, 4, 7], dtype=int64), 2)"
      ]
     },
     "execution_count": 33,
     "metadata": {},
     "output_type": "execute_result"
    }
   ],
   "source": []
  },
  {
   "cell_type": "code",
   "execution_count": 30,
   "id": "43af8a45",
   "metadata": {},
   "outputs": [
    {
     "data": {
      "text/plain": [
       "2"
      ]
     },
     "execution_count": 30,
     "metadata": {},
     "output_type": "execute_result"
    }
   ],
   "source": []
  },
  {
   "cell_type": "code",
   "execution_count": null,
   "id": "0c26d827",
   "metadata": {},
   "outputs": [],
   "source": []
  }
 ],
 "metadata": {
  "kernelspec": {
   "display_name": "Python 3 (ipykernel)",
   "language": "python",
   "name": "python3"
  },
  "language_info": {
   "codemirror_mode": {
    "name": "ipython",
    "version": 3
   },
   "file_extension": ".py",
   "mimetype": "text/x-python",
   "name": "python",
   "nbconvert_exporter": "python",
   "pygments_lexer": "ipython3",
   "version": "3.8.16"
  }
 },
 "nbformat": 4,
 "nbformat_minor": 5
}
