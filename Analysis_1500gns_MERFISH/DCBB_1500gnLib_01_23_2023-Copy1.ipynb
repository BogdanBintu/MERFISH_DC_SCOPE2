{
 "cells": [
  {
   "cell_type": "code",
   "execution_count": 1,
   "id": "afe6cf19",
   "metadata": {},
   "outputs": [],
   "source": [
    "import numpy as np,os,sys,glob\n",
    "import matplotlib.pylab as plt\n",
    "from ioMicro import *"
   ]
  },
  {
   "cell_type": "code",
   "execution_count": 2,
   "id": "7b0cc667",
   "metadata": {},
   "outputs": [
    {
     "name": "stdout",
     "output_type": "stream",
     "text": [
      "Found files:1295\n",
      "Found hybe folders:72\n",
      "['_set1', '_set2', '_set3', '_set4']\n"
     ]
    }
   ],
   "source": [
    "asm = analysis_smFISH(data_folders = [r'Z:\\DCBBL1_3_2_2023\\MERFISH',r'\\\\192.168.0.3\\bbfishdc10_2\\DCBBL1_3_2_2023',r'Z:\\DCBBL1_3_2_2023\\Controls'],\n",
    "                 save_folder =r'Z:\\DCBBL1_3_2_2023\\MERFISH_Analysis',\n",
    "                 H0folder=  r'Z:\\DCBBL1_3_2_2023\\Controls\\H0*',exclude_H0=False)\n",
    "#fl_save = r'\\\\Bbfishdc9\\bbfishdc9\\DCBBL1_spinal_01_25_2023\\psf_Scope2_25_1p5x_cy3_final.pkl'\n",
    "#dic_psf = pickle.load(open(fl_save,'rb'))\n",
    "sets = np.unique(['_set'+os.path.basename(fld).split('_set')[-1] for fld in asm.Qfolders if '_set' in os.path.basename(fld)])\n",
    "print(list(sets))"
   ]
  },
  {
   "cell_type": "code",
   "execution_count": 18,
   "id": "b53da93b",
   "metadata": {},
   "outputs": [],
   "source": [
    "asm.set_fov(0,set_='_set1')\n",
    "fls = asm.fls_bk_"
   ]
  },
  {
   "cell_type": "code",
   "execution_count": 21,
   "id": "a4d782fe",
   "metadata": {},
   "outputs": [
    {
     "name": "stderr",
     "output_type": "stream",
     "text": [
      "100%|████████████████████████████████████████████████████████████████████████████████| 340/340 [02:12<00:00,  2.58it/s]\n"
     ]
    }
   ],
   "source": [
    "fl = fls[0]\n",
    "resc = 5\n",
    "xs,ys,ims = [],[],[]\n",
    "for fl in tqdm(fls):\n",
    "    im,x,y = read_im(fl,return_pos=True)\n",
    "    ncols,sz,sx,sy = im.shape\n",
    "    ims.append(np.array(im[-1,sz//2,::resc,::resc],dtype=np.float32))\n",
    "    xs.append(x)\n",
    "    ys.append(y)"
   ]
  },
  {
   "cell_type": "code",
   "execution_count": 30,
   "id": "e32bba9d",
   "metadata": {},
   "outputs": [],
   "source": [
    "imM,xfov,yfov = compose_mosaic(ims,np.array(ys),-np.array(xs),ims_c=None,um_per_pix=0.108333*resc,rot = 0,return_coords=True)"
   ]
  },
  {
   "cell_type": "code",
   "execution_count": null,
   "id": "e2155c5f",
   "metadata": {},
   "outputs": [],
   "source": []
  },
  {
   "cell_type": "code",
   "execution_count": 32,
   "id": "bcb44dbe",
   "metadata": {},
   "outputs": [
    {
     "data": {
      "text/plain": [
       "<Points layer 'Points' at 0x23a1b638be0>"
      ]
     },
     "execution_count": 32,
     "metadata": {},
     "output_type": "execute_result"
    }
   ],
   "source": [
    "import napari\n",
    "viewer = napari.view_image(imM,contrast_limits=[0,5000])\n",
    "viewer.add_points(np.array([xfov,yfov]).T)"
   ]
  },
  {
   "cell_type": "code",
   "execution_count": 3,
   "id": "6d4e98e3",
   "metadata": {},
   "outputs": [],
   "source": [
    "ifov=14\n",
    "asm.set_fov(ifov,set_='_set1')\n",
    "asm.fov =os.path.basename(asm.fl_bk)\n",
    "\n",
    "MERFISH_flds = [fld for fld in asm.Qfolders if asm.set_ in os.path.basename(fld) if 'MER' in fld]\n",
    "ctrl_flds  = [fld for fld in asm.Qfolders if asm.set_ in os.path.basename(fld) if ('ptb' in os.path.basename(fld).lower()) or ('H0' in os.path.basename(fld))]\n",
    "all_flds = np.array(ctrl_flds+MERFISH_flds)\n",
    "\n",
    "def get_iH(fld): return int(os.path.basename(fld).split('_')[0][1:])\n",
    "all_flds = all_flds[np.argsort([get_iH(fld) for fld in all_flds])]\n",
    "\n",
    "ims = [read_im(fld+os.sep+asm.fov) for fld in all_flds]\n",
    "ncols,sz,sx,sy = ims[0].shape"
   ]
  },
  {
   "cell_type": "code",
   "execution_count": 50,
   "id": "f80d7dea",
   "metadata": {},
   "outputs": [
    {
     "name": "stderr",
     "output_type": "stream",
     "text": [
      "\n",
      "  0%|                                                                                           | 0/18 [00:00<?, ?it/s]\u001b[A\n",
      "  6%|████▌                                                                              | 1/18 [00:38<10:52, 38.39s/it]\u001b[A\n",
      " 11%|█████████▏                                                                         | 2/18 [01:15<10:00, 37.56s/it]\u001b[A\n",
      " 17%|█████████████▊                                                                     | 3/18 [01:54<09:32, 38.17s/it]\u001b[A\n",
      " 22%|██████████████████▍                                                                | 4/18 [02:33<08:59, 38.56s/it]\u001b[A\n",
      " 28%|███████████████████████                                                            | 5/18 [03:12<08:24, 38.80s/it]\u001b[A\n",
      " 33%|███████████████████████████▋                                                       | 6/18 [03:51<07:44, 38.73s/it]\u001b[A\n",
      " 39%|████████████████████████████████▎                                                  | 7/18 [04:29<07:04, 38.56s/it]\u001b[A\n",
      " 44%|████████████████████████████████████▉                                              | 8/18 [05:09<06:29, 38.99s/it]\u001b[A\n",
      " 50%|█████████████████████████████████████████▌                                         | 9/18 [05:47<05:48, 38.76s/it]\u001b[A\n",
      " 56%|█████████████████████████████████████████████▌                                    | 10/18 [06:26<05:10, 38.76s/it]\u001b[A\n",
      " 61%|██████████████████████████████████████████████████                                | 11/18 [07:06<04:33, 39.04s/it]\u001b[A\n",
      " 67%|██████████████████████████████████████████████████████▋                           | 12/18 [07:45<03:55, 39.25s/it]\u001b[A\n",
      " 72%|███████████████████████████████████████████████████████████▏                      | 13/18 [08:25<03:17, 39.49s/it]\u001b[A\n",
      " 78%|███████████████████████████████████████████████████████████████▊                  | 14/18 [09:06<02:38, 39.75s/it]\u001b[A\n",
      " 83%|████████████████████████████████████████████████████████████████████▎             | 15/18 [10:01<02:13, 44.48s/it]\u001b[A\n",
      " 89%|████████████████████████████████████████████████████████████████████████▉         | 16/18 [11:13<01:45, 52.59s/it]\u001b[A\n",
      " 94%|█████████████████████████████████████████████████████████████████████████████▍    | 17/18 [12:07<00:53, 53.18s/it]\u001b[A\n",
      "100%|██████████████████████████████████████████████████████████████████████████████████| 18/18 [12:49<00:00, 42.78s/it]\u001b[A\n"
     ]
    }
   ],
   "source": [
    "ims = [read_im(fld+os.sep+asm.fov) for fld in all_flds]\n",
    "ncols,sz,sx,sy = ims[0].shape\n",
    "im_ref = np.array(ims[len(ims)//2][-1],dtype=np.float32)\n",
    "drifts = [get_txyz(im[-1],im_ref,sz_norm=20, sz=500) for im in tqdm(ims)]\n",
    "drift_fl = asm.save_folder+os.sep+'drift_'+asm.fov.split('.')[0]+'.pkl'\n",
    "pickle.dump([drifts,all_flds,asm.fov],open(drift_fl,'wb'))"
   ]
  },
  {
   "cell_type": "code",
   "execution_count": 53,
   "id": "cb4399c9",
   "metadata": {},
   "outputs": [],
   "source": [
    "drift_fl = asm.save_folder+os.sep+'drift_'+asm.fov.split('.')[0]+'.pkl'\n",
    "pickle.dump([drifts,all_flds,asm.fov],open(drift_fl,'wb'))"
   ]
  },
  {
   "cell_type": "code",
   "execution_count": 4,
   "id": "e56fc1de",
   "metadata": {},
   "outputs": [],
   "source": [
    "drift_fl = asm.save_folder+os.sep+'drift_'+asm.fov.split('.')[0]+'.pkl'\n",
    "drifts,all_flds,fov = pickle.load(open(drift_fl,'rb'))"
   ]
  },
  {
   "cell_type": "code",
   "execution_count": 54,
   "id": "13887dc5",
   "metadata": {},
   "outputs": [],
   "source": [
    "from dask import array as da\n",
    "imf = da.concatenate([da.roll(read_im(fld+os.sep+asm.fov),txyz,axis=[1,2,3]).reshape([1,ncols,sz,sx,sy]) \n",
    "                      for fld,(txyz,txyzs) in zip(all_flds,drifts)])"
   ]
  },
  {
   "cell_type": "code",
   "execution_count": 67,
   "id": "8d720604",
   "metadata": {},
   "outputs": [],
   "source": [
    "fld = all_flds[2]\n",
    "im_ = read_im(fld+os.sep+asm.fov)\n",
    "icol=2\n",
    "im__ = np.array(im_[icol],dtype=np.float32)\n",
    "im_n = norm_slice(im__,s=30)"
   ]
  },
  {
   "cell_type": "code",
   "execution_count": 68,
   "id": "fdbd469d",
   "metadata": {},
   "outputs": [],
   "source": [
    "for fld in all_flds\n",
    "Xh = get_local_max(im_n,500,im_raw=im__,dic_psf=None,delta=1,delta_fit=3,dbscan=True,\n",
    "              return_centers=False,mins=None,sigmaZ=1,sigmaXY=1.5)\n"
   ]
  },
  {
   "cell_type": "code",
   "execution_count": 83,
   "id": "c804ee38",
   "metadata": {},
   "outputs": [
    {
     "data": {
      "text/plain": [
       "4"
      ]
     },
     "execution_count": 83,
     "metadata": {},
     "output_type": "execute_result"
    }
   ],
   "source": [
    "ncols"
   ]
  },
  {
   "cell_type": "code",
   "execution_count": 85,
   "id": "bcf7e490",
   "metadata": {},
   "outputs": [
    {
     "name": "stderr",
     "output_type": "stream",
     "text": [
      "100%|█████████████████████████████████████████████████████████████████████████████████| 18/18 [42:33<00:00, 141.85s/it]\n"
     ]
    }
   ],
   "source": [
    "#fld = all_flds[0]\n",
    "for fld in tqdm(all_flds):\n",
    "    for icol in range(ncols-1):\n",
    "        im_ = read_im(fld+os.sep+asm.fov)\n",
    "        #icol=2\n",
    "        im__ = np.array(im_[icol],dtype=np.float32)\n",
    "        im_n = norm_slice(im__,s=30)\n",
    "        Xh = get_local_max(im_n,500,im_raw=im__,dic_psf=None,delta=1,delta_fit=3,dbscan=True,\n",
    "              return_centers=False,mins=None,sigmaZ=1,sigmaXY=1.5)\n",
    "        tag = os.path.basename(fld)\n",
    "        save_fl = asm.save_folder+os.sep+asm.fov.split('.')[0]+'--'+tag+'--col'+str(icol)+'__Xhfits.npy'\n",
    "        np.savez_compressed(save_fl,Xh=Xh)"
   ]
  },
  {
   "cell_type": "code",
   "execution_count": 100,
   "id": "583c2e5c",
   "metadata": {},
   "outputs": [],
   "source": [
    "#len(Xh)\n",
    "icol = 0\n",
    "iH = 1\n",
    "fld = all_flds[iH]\n",
    "tag = os.path.basename(fld)\n",
    "save_fl = asm.save_folder+os.sep+asm.fov.split('.')[0]+'--'+tag+'--col'+str(icol)+'__Xhfits.npy.npz'\n",
    "Xh = np.load(save_fl)['Xh']"
   ]
  },
  {
   "cell_type": "code",
   "execution_count": 145,
   "id": "af406a07",
   "metadata": {},
   "outputs": [],
   "source": [
    "def add_points(Xh,viewer,col='y',szM = 3):\n",
    "\n",
    "    h = Xh[:,-1]\n",
    "    hM = np.percentile(h,99.9)\n",
    "    X = Xh[:,:3]\n",
    "    size= 1+np.clip(h/hM,0,1)*szM\n",
    "    text = {\n",
    "        'string': len(X)*[str(iH)],\n",
    "        'size': 10,\n",
    "        'color': col,\n",
    "    }\n",
    "    viewer.add_points(\n",
    "        X,\n",
    "        size=size,\n",
    "        face_color='transparent',\n",
    "        text=None,\n",
    "        name=\"\",\n",
    "        edge_color=col,out_of_slice_display=True\n",
    "    )\n",
    "def get_Xh(all_flds,fov,drifts,icol = 0,iH = 1):\n",
    "    fld = all_flds[iH]\n",
    "    tag = os.path.basename(fld)\n",
    "    save_fl = asm.save_folder+os.sep+fov.split('.')[0]+'--'+tag+'--col'+str(icol)+'__Xhfits.npy.npz'\n",
    "    Xh = np.load(save_fl)['Xh']\n",
    "    tzxy = drifts[iH][0]\n",
    "    Xh[:,:3]+=tzxy\n",
    "    return Xh"
   ]
  },
  {
   "cell_type": "code",
   "execution_count": 213,
   "id": "266415a2",
   "metadata": {},
   "outputs": [],
   "source": [
    "dec = decoder(analysis_folder = r'\\\\192.168.0.3\\bbfishdc10\\DCBBL1_3_2_2023\\MERFISH_Analysis')\n",
    "#dec.get_set_ifov(ifov=ifov,set_=set_,keepH = [1,2,3,4,5,6,7,8],ncols=3)"
   ]
  },
  {
   "cell_type": "code",
   "execution_count": 222,
   "id": "1186908b",
   "metadata": {},
   "outputs": [],
   "source": [
    "XH = []\n",
    "for iH in range(len(all_flds)):\n",
    "    fld = all_flds[iH]\n",
    "    if 'MER' in os.path.basename(fld):\n",
    "        for icol in range(3):\n",
    "            Xh = get_Xh(all_flds,fov,drifts,icol = icol,iH = iH)#also performs drift correction\n",
    "            ih = get_iH(fld)\n",
    "            bit = ih*3+icol\n",
    "            icolR = np.array([[icol,bit]]*len(Xh))\n",
    "            XH_ = np.concatenate([Xh,icolR],axis=-1)\n",
    "            XH.extend(XH_)\n",
    "XH = np.array(XH)"
   ]
  },
  {
   "cell_type": "code",
   "execution_count": 226,
   "id": "9b75515f",
   "metadata": {},
   "outputs": [],
   "source": [
    "dec.XH = XH[XH[:,-4]>0.25]"
   ]
  },
  {
   "cell_type": "code",
   "execution_count": 233,
   "id": "b8d84dfa",
   "metadata": {},
   "outputs": [],
   "source": [
    "#load_library(dec,lib_fl = r'codebook_DCBB250.csv',nblanks=-1)\n",
    "load_library(dec,lib_fl = r'Z:\\DCBBL1_3_2_2023\\MERFISH_Analysis\\codebook_0_New_DCBB-300_MERFISH_encoding_2_21_2023.csv',nblanks=-1)"
   ]
  },
  {
   "cell_type": "code",
   "execution_count": 242,
   "id": "638fd778",
   "metadata": {},
   "outputs": [
    {
     "name": "stderr",
     "output_type": "stream",
     "text": [
      "100%|████████████████████████████████████████████████████████████████████████████████████| 3/3 [01:41<00:00, 33.91s/it]\n"
     ]
    }
   ],
   "source": [
    "get_inters(dec,dinstance_th=2,enforce_color=True)"
   ]
  },
  {
   "cell_type": "code",
   "execution_count": 243,
   "id": "2dc3e7fc",
   "metadata": {},
   "outputs": [
    {
     "name": "stderr",
     "output_type": "stream",
     "text": [
      "100%|█████████████████████████████████████████████████████████████████████████| 50038/50038 [00:03<00:00, 16577.20it/s]\n"
     ]
    }
   ],
   "source": [
    "dec.pick_best_brightness(nUR_cutoff = 3,resample = 50000)"
   ]
  },
  {
   "cell_type": "code",
   "execution_count": 247,
   "id": "a004151a",
   "metadata": {},
   "outputs": [
    {
     "data": {
      "text/plain": [
       "array([0], dtype=int64)"
      ]
     },
     "execution_count": 247,
     "metadata": {},
     "output_type": "execute_result"
    }
   ],
   "source": [
    "#len(dec.res)\n",
    "dec.res[0]"
   ]
  },
  {
   "cell_type": "code",
   "execution_count": 249,
   "id": "9659a432",
   "metadata": {},
   "outputs": [
    {
     "data": {
      "text/plain": [
       "[-1, 3696, -1, 9887656]"
      ]
     },
     "execution_count": 249,
     "metadata": {},
     "output_type": "execute_result"
    }
   ],
   "source": []
  },
  {
   "cell_type": "code",
   "execution_count": 250,
   "id": "89d4a066",
   "metadata": {},
   "outputs": [],
   "source": [
    "self = dec\n",
    "#self.get_brightness_distance_distribution()\n",
    "res =self.res\n",
    "XH = self.XH\n",
    "codes = self.codes__\n",
    "\n",
    "RS = XH[:,-1].astype(int)\n",
    "HS = XH[:,-3]\n",
    "colS = XH[:,-2].astype(int)\n",
    "colSu = np.unique(colS)\n",
    "meds_col = np.array([np.median(HS[colS==cu]) for cu in colSu])\n",
    "\n",
    "self.HN = HS/meds_col[colS]"
   ]
  },
  {
   "cell_type": "code",
   "execution_count": 264,
   "id": "e6e88044",
   "metadata": {
    "scrolled": true
   },
   "outputs": [
    {
     "name": "stderr",
     "output_type": "stream",
     "text": [
      "\n",
      "\n",
      "\n",
      "  0%|                                                                                     | 0/15411481 [00:00<?, ?it/s]\u001b[A\u001b[A\u001b[A\n",
      "\n",
      "\n",
      "  0%|                                                                     | 14513/15411481 [00:00<01:46, 144988.41it/s]\u001b[A\u001b[A\u001b[A\n",
      "\n",
      "\n",
      "  0%|▏                                                                    | 29012/15411481 [00:00<02:26, 105180.07it/s]\u001b[A\u001b[A\u001b[A\n",
      "\n",
      "\n",
      "  0%|▏                                                                     | 40171/15411481 [00:00<02:41, 95327.34it/s]\u001b[A\u001b[A\u001b[A\n",
      "\n",
      "\n",
      "  0%|▏                                                                     | 50037/15411481 [00:00<02:53, 88716.03it/s]\u001b[A\u001b[A\u001b[A\n",
      "\n",
      "\n",
      "  0%|▎                                                                     | 59081/15411481 [00:00<02:56, 87125.64it/s]\u001b[A\u001b[A\u001b[A\n",
      "\n",
      "\n",
      "  0%|▎                                                                     | 67881/15411481 [00:00<03:12, 79574.52it/s]\u001b[A\u001b[A\u001b[A\n",
      "\n",
      "\n",
      "  0%|▎                                                                     | 75933/15411481 [00:00<03:17, 77818.74it/s]\u001b[A\u001b[A\u001b[A\n",
      "\n",
      "\n",
      "  1%|▍                                                                     | 83759/15411481 [00:00<03:20, 76524.48it/s]\u001b[A\u001b[A\u001b[A\n",
      "\n",
      "\n",
      "  1%|▍                                                                     | 91430/15411481 [00:01<03:29, 73006.88it/s]\u001b[A\u001b[A\u001b[A\n",
      "\n",
      "\n",
      "  1%|▍                                                                     | 99769/15411481 [00:01<03:25, 74374.96it/s]\u001b[A\u001b[A\u001b[A\n",
      "\n",
      "\n",
      "  1%|▍                                                                    | 107225/15411481 [00:01<03:30, 72643.73it/s]\u001b[A\u001b[A\u001b[A\n",
      "\n",
      "\n",
      "  1%|▌                                                                    | 114742/15411481 [00:01<03:29, 73070.29it/s]\u001b[A\u001b[A\u001b[A\n",
      "\n",
      "\n",
      "  1%|▌                                                                    | 122058/15411481 [00:01<03:33, 71726.50it/s]\u001b[A\u001b[A\u001b[A\n",
      "\n",
      "\n",
      "  1%|▌                                                                    | 129438/15411481 [00:01<03:32, 72035.04it/s]\u001b[A\u001b[A\u001b[A\n",
      "\n",
      "\n",
      "  1%|▌                                                                    | 136646/15411481 [00:01<03:41, 68855.50it/s]\u001b[A\u001b[A\u001b[A\n",
      "\n",
      "\n",
      "  1%|▋                                                                    | 143608/15411481 [00:01<03:41, 68937.73it/s]\u001b[A\u001b[A\u001b[A\n",
      "\n",
      "\n",
      "  1%|▋                                                                    | 150518/15411481 [00:01<03:47, 67053.01it/s]\u001b[A\u001b[A\u001b[A\n",
      "\n",
      "\n",
      "  1%|▋                                                                    | 157444/15411481 [00:02<03:49, 66534.62it/s]\u001b[A\u001b[A\u001b[A\n",
      "\n",
      "\n",
      "  1%|▋                                                                    | 164189/15411481 [00:02<03:48, 66666.11it/s]\u001b[A\u001b[A\u001b[A\n",
      "\n",
      "\n",
      "  1%|▊                                                                    | 171161/15411481 [00:02<03:45, 67537.43it/s]\u001b[A\u001b[A\u001b[A\n",
      "\n",
      "\n",
      "  1%|▊                                                                    | 178539/15411481 [00:02<03:40, 69224.79it/s]\u001b[A\u001b[A\u001b[A\n",
      "\n",
      "\n",
      "  1%|▊                                                                    | 185471/15411481 [00:02<03:42, 68487.97it/s]\u001b[A\u001b[A\u001b[A\n",
      "\n",
      "\n",
      "  1%|▊                                                                    | 192987/15411481 [00:02<03:37, 69819.15it/s]\u001b[A\u001b[A\u001b[A\n",
      "\n",
      "\n",
      "  1%|▉                                                                    | 199974/15411481 [00:02<03:53, 65242.70it/s]\u001b[A\u001b[A\u001b[A\n",
      "\n",
      "\n",
      "  1%|▉                                                                    | 206972/15411481 [00:02<03:48, 66506.48it/s]\u001b[A\u001b[A\u001b[A\n",
      "\n",
      "\n",
      "  1%|▉                                                                    | 213671/15411481 [00:02<03:48, 66515.09it/s]\u001b[A\u001b[A\u001b[A\n",
      "\n",
      "\n",
      "  1%|▉                                                                    | 220357/15411481 [00:02<03:48, 66409.97it/s]\u001b[A\u001b[A\u001b[A\n",
      "\n",
      "\n",
      "  1%|█                                                                    | 227744/15411481 [00:03<03:41, 68581.66it/s]\u001b[A\u001b[A\u001b[A\n",
      "\n",
      "\n",
      "  2%|█                                                                    | 234944/15411481 [00:03<03:38, 69444.17it/s]\u001b[A\u001b[A\u001b[A\n",
      "\n",
      "\n",
      "  2%|█                                                                    | 241905/15411481 [00:03<03:40, 68855.18it/s]\u001b[A\u001b[A\u001b[A\n",
      "\n",
      "\n",
      "  2%|█                                                                    | 248936/15411481 [00:03<03:38, 69272.14it/s]\u001b[A\u001b[A\u001b[A\n",
      "\n",
      "\n",
      "  2%|█▏                                                                   | 256019/15411481 [00:03<03:42, 68152.04it/s]\u001b[A\u001b[A\u001b[A\n",
      "\n",
      "\n",
      "  2%|█▏                                                                   | 262846/15411481 [00:03<03:44, 67425.63it/s]\u001b[A\u001b[A\u001b[A\n",
      "\n",
      "\n",
      "  2%|█▏                                                                   | 270438/15411481 [00:03<03:37, 69639.35it/s]\u001b[A\u001b[A\u001b[A\n",
      "\n",
      "\n",
      "  2%|█▏                                                                   | 277476/15411481 [00:03<03:36, 69844.80it/s]\u001b[A\u001b[A\u001b[A\n",
      "\n",
      "\n",
      "  2%|█▎                                                                   | 284909/15411481 [00:03<03:37, 69645.88it/s]\u001b[A\u001b[A\u001b[A\n",
      "\n",
      "\n",
      "  2%|█▎                                                                   | 291879/15411481 [00:04<03:37, 69531.20it/s]\u001b[A\u001b[A\u001b[A\n",
      "\n",
      "\n",
      "  2%|█▎                                                                   | 298836/15411481 [00:04<03:37, 69393.15it/s]\u001b[A\u001b[A\u001b[A\n",
      "\n",
      "\n",
      "  2%|█▎                                                                   | 305778/15411481 [00:04<03:37, 69389.76it/s]\u001b[A\u001b[A\u001b[A\n",
      "\n",
      "\n",
      "  2%|█▍                                                                   | 312719/15411481 [00:04<03:37, 69391.27it/s]\u001b[A\u001b[A\u001b[A\n",
      "\n",
      "\n",
      "  2%|█▍                                                                   | 319660/15411481 [00:04<03:43, 67648.19it/s]\u001b[A\u001b[A\u001b[A\n",
      "\n",
      "\n",
      "  2%|█▍                                                                   | 326435/15411481 [00:04<03:44, 67275.74it/s]\u001b[A\u001b[A\u001b[A\n",
      "\n",
      "\n",
      "  2%|█▍                                                                   | 333601/15411481 [00:04<03:43, 67484.92it/s]\u001b[A\u001b[A\u001b[A\n",
      "\n",
      "\n",
      "  2%|█▌                                                                   | 341006/15411481 [00:04<03:41, 67956.39it/s]\u001b[A\u001b[A\u001b[A\n",
      "\n",
      "\n",
      "  2%|█▌                                                                   | 347804/15411481 [00:04<03:42, 67683.65it/s]\u001b[A\u001b[A\u001b[A\n",
      "\n",
      "\n",
      "  2%|█▌                                                                   | 355388/15411481 [00:04<03:39, 68584.59it/s]\u001b[A\u001b[A\u001b[A\n",
      "\n",
      "\n",
      "  2%|█▌                                                                   | 362245/15411481 [00:05<03:44, 66899.54it/s]\u001b[A\u001b[A\u001b[A\n",
      "\n",
      "\n",
      "  2%|█▋                                                                   | 380460/15411481 [00:05<02:30, 99868.37it/s]\u001b[A\u001b[A\u001b[A\n",
      "\n",
      "\n",
      "  3%|█▋                                                                   | 390570/15411481 [00:05<02:34, 97177.13it/s]\u001b[A\u001b[A\u001b[A\n",
      "\n",
      "\n",
      "  3%|█▊                                                                   | 400385/15411481 [00:05<02:38, 94739.79it/s]\u001b[A\u001b[A\u001b[A\n",
      "\n",
      "\n",
      "  3%|█▊                                                                   | 409933/15411481 [00:05<02:55, 85656.30it/s]\u001b[A\u001b[A\u001b[A\n",
      "\n",
      "\n",
      "  3%|█▊                                                                   | 418691/15411481 [00:05<02:56, 84785.40it/s]\u001b[A\u001b[A\u001b[A\n",
      "\n",
      "\n",
      "  3%|█▉                                                                   | 427299/15411481 [00:05<03:06, 80426.69it/s]\u001b[A\u001b[A\u001b[A\n",
      "\n",
      "\n",
      "  3%|█▉                                                                   | 435452/15411481 [00:05<03:08, 79354.29it/s]\u001b[A\u001b[A\u001b[A\n",
      "\n",
      "\n",
      "  3%|█▉                                                                   | 443458/15411481 [00:05<03:17, 75792.76it/s]\u001b[A\u001b[A\u001b[A\n",
      "\n",
      "\n",
      "  3%|██                                                                   | 452135/15411481 [00:06<03:13, 77441.14it/s]\u001b[A\u001b[A\u001b[A\n",
      "\n",
      "\n",
      "  3%|██                                                                   | 463293/15411481 [00:06<03:21, 74207.21it/s]\u001b[A\u001b[A\u001b[A\n"
     ]
    },
    {
     "ename": "KeyboardInterrupt",
     "evalue": "",
     "output_type": "error",
     "traceback": [
      "\u001b[1;31m---------------------------------------------------------------------------\u001b[0m",
      "\u001b[1;31mKeyboardInterrupt\u001b[0m                         Traceback (most recent call last)",
      "Cell \u001b[1;32mIn[264], line 10\u001b[0m\n\u001b[0;32m      8\u001b[0m \u001b[38;5;28;01mif\u001b[39;00m \u001b[38;5;28mlen\u001b[39m(Ru)\u001b[38;5;241m>\u001b[39mnmin:\n\u001b[0;32m      9\u001b[0m     hn \u001b[38;5;241m=\u001b[39m \u001b[38;5;28mself\u001b[39m\u001b[38;5;241m.\u001b[39mHN[r]\n\u001b[1;32m---> 10\u001b[0m     X \u001b[38;5;241m=\u001b[39m \u001b[38;5;28;43mself\u001b[39;49m\u001b[38;5;241;43m.\u001b[39;49m\u001b[43mXH\u001b[49m\u001b[43m[\u001b[49m\u001b[43mr\u001b[49m\u001b[43m,\u001b[49m\u001b[43m:\u001b[49m\u001b[38;5;241;43m3\u001b[39;49m\u001b[43m]\u001b[49m\n\u001b[0;32m     11\u001b[0m     dn \u001b[38;5;241m=\u001b[39m np\u001b[38;5;241m.\u001b[39mlinalg\u001b[38;5;241m.\u001b[39mnorm(X\u001b[38;5;241m-\u001b[39mnp\u001b[38;5;241m.\u001b[39mmean(X,axis\u001b[38;5;241m=\u001b[39m\u001b[38;5;241m0\u001b[39m),axis\u001b[38;5;241m=\u001b[39m\u001b[38;5;241m-\u001b[39m\u001b[38;5;241m1\u001b[39m)\n\u001b[0;32m     12\u001b[0m     \u001b[38;5;66;03m#sc_dist = self.get_score_distance(dn)\u001b[39;00m\n\u001b[0;32m     13\u001b[0m     \u001b[38;5;66;03m#sc_br = self.get_score_brightness(hn)\u001b[39;00m\n\u001b[0;32m     14\u001b[0m     \u001b[38;5;66;03m#scores = sc_dist*sc_br\u001b[39;00m\n\u001b[0;32m     15\u001b[0m     \u001b[38;5;66;03m#[R_==R for R in Ru]\u001b[39;00m\n",
      "\u001b[1;31mKeyboardInterrupt\u001b[0m: "
     ]
    }
   ],
   "source": [
    "from tqdm import tqdm\n",
    "res_pruned = []\n",
    "nmin = 3\n",
    "for r in tqdm(res):\n",
    "    if len(r)>nmin:\n",
    "        R_ = RS[r]\n",
    "        Ru = np.unique(R_)\n",
    "        if len(Ru)>nmin:\n",
    "            hn = self.HN[r]\n",
    "            X = self.XH[r,:3]\n",
    "            dn = np.linalg.norm(X-np.mean(X,axis=0),axis=-1)\n",
    "            #sc_dist = self.get_score_distance(dn)\n",
    "            #sc_br = self.get_score_brightness(hn)\n",
    "            #scores = sc_dist*sc_br\n",
    "            #[R_==R for R in Ru]"
   ]
  },
  {
   "cell_type": "code",
   "execution_count": 267,
   "id": "51e2aa71",
   "metadata": {},
   "outputs": [],
   "source": []
  },
  {
   "cell_type": "code",
   "execution_count": 276,
   "id": "08a50d71",
   "metadata": {},
   "outputs": [],
   "source": []
  },
  {
   "cell_type": "code",
   "execution_count": 287,
   "id": "43738e18",
   "metadata": {},
   "outputs": [
    {
     "name": "stdout",
     "output_type": "stream",
     "text": [
      "25.901713848114014\n"
     ]
    }
   ],
   "source": [
    "#### unfold res which is a list of list with clusters of loc.\n",
    "import time\n",
    "start = time.time()\n",
    "nmin=3\n",
    "res = [r for r in res if len(r)>nmin]\n",
    "rlens = [len(r) for r in res]\n",
    "edges = np.cumsum([0]+rlens)\n",
    "res_unfolder = [r_ for r in res for r_ in r]\n",
    "res0 = [r[0] for r in res for r_ in r]\n",
    "ires = np.array([ir for ir,r in enumerate(res) for r_ in r])\n",
    "print(time.time()-start)\n",
    "\n",
    "### compute the scores\n",
    "import time\n",
    "start = time.time()\n",
    "hn = self.HN[res_unfolder]\n",
    "X = self.XH[:,:3][res_unfolder]\n",
    "X0 = self.XH[:,:3][res0]\n",
    "dn = np.linalg.norm(X-X0,axis=-1)\n",
    "sc_dist = self.get_score_distance(dn)\n",
    "sc_br = self.get_score_brightness(hn)\n",
    "scores = sc_dist*sc_br\n",
    "print(time.time()-start)"
   ]
  },
  {
   "cell_type": "code",
   "execution_count": null,
   "id": "c4341877",
   "metadata": {},
   "outputs": [],
   "source": [
    "Rs = self.XH[:,-1]"
   ]
  },
  {
   "cell_type": "code",
   "execution_count": 315,
   "id": "7a1e7f20",
   "metadata": {},
   "outputs": [],
   "source": [
    "uRs = ires*(np.max(Rs)+1)+Rs[res_unfolder]"
   ]
  },
  {
   "cell_type": "code",
   "execution_count": 317,
   "id": "52542095",
   "metadata": {},
   "outputs": [],
   "source": [
    "arg_scores = np.argsort(scores)[::-1]\n",
    "uRs = uRs[arg_scores]"
   ]
  },
  {
   "cell_type": "code",
   "execution_count": 328,
   "id": "79f0e9ae",
   "metadata": {},
   "outputs": [],
   "source": [
    "uvals,inv = np.unique(uRs,return_index=True)"
   ]
  },
  {
   "cell_type": "code",
   "execution_count": 343,
   "id": "9635f7f1",
   "metadata": {},
   "outputs": [],
   "source": [
    "Rs = self.XH[:,-1]\n",
    "bits = (Rs-3).astype(int)##modify\n",
    "bits_unfold = bits[res_unfolder]\n",
    "nbits = len(np.unique(bits))\n",
    "scores_bits = np.zeros([len(res),nbits])\n",
    "\n",
    "arg_scores = np.argsort(scores)"
   ]
  },
  {
   "cell_type": "code",
   "execution_count": 350,
   "id": "9c2f4b08",
   "metadata": {},
   "outputs": [],
   "source": [
    "arg_scores = np.argsort(scores)"
   ]
  },
  {
   "cell_type": "code",
   "execution_count": 351,
   "id": "aca4c9aa",
   "metadata": {},
   "outputs": [],
   "source": [
    "scores_bits[ires[arg_scores],bits_unfold[arg_scores]]=scores[arg_scores]\n",
    "icodes = np.argmax(np.dot(scores_bits[:],self.codes_01.T),axis=-1)"
   ]
  },
  {
   "cell_type": "code",
   "execution_count": 359,
   "id": "7722ed45",
   "metadata": {},
   "outputs": [
    {
     "data": {
      "text/plain": [
       "(8763001, 48)"
      ]
     },
     "execution_count": 359,
     "metadata": {},
     "output_type": "execute_result"
    }
   ],
   "source": [
    "scores_bits"
   ]
  },
  {
   "cell_type": "code",
   "execution_count": 371,
   "id": "2055b636",
   "metadata": {},
   "outputs": [
    {
     "data": {
      "text/plain": [
       "array([320, 315, 320, ..., 269, 299, 299], dtype=int64)"
      ]
     },
     "execution_count": 371,
     "metadata": {},
     "output_type": "execute_result"
    }
   ],
   "source": [
    "icodes = np.argmax(np.dot(scores_bits[:],self.codes_01.T),axis=-1)"
   ]
  },
  {
   "cell_type": "code",
   "execution_count": null,
   "id": "64096658",
   "metadata": {},
   "outputs": [],
   "source": [
    "tree = KDTree(self.codes_01)\n",
    "_,icodes = tree.query(scores_bits[:],p=1)"
   ]
  },
  {
   "cell_type": "code",
   "execution_count": 357,
   "id": "1e85b7c6",
   "metadata": {},
   "outputs": [
    {
     "data": {
      "text/plain": [
       "array([     307,  1059105,  7161879,  8089567,  9877224, 13851737],\n",
       "      dtype=int64)"
      ]
     },
     "execution_count": 357,
     "metadata": {},
     "output_type": "execute_result"
    }
   ],
   "source": [
    "r = res[6]\n",
    "r"
   ]
  },
  {
   "cell_type": "code",
   "execution_count": 361,
   "id": "daddb927",
   "metadata": {},
   "outputs": [
    {
     "data": {
      "text/plain": [
       "(575, 48)"
      ]
     },
     "execution_count": 361,
     "metadata": {},
     "output_type": "execute_result"
    }
   ],
   "source": [
    "self.codes_01.shape"
   ]
  },
  {
   "cell_type": "code",
   "execution_count": null,
   "id": "057bb7ab",
   "metadata": {},
   "outputs": [],
   "source": []
  },
  {
   "cell_type": "code",
   "execution_count": 334,
   "id": "224ac446",
   "metadata": {},
   "outputs": [
    {
     "data": {
      "text/plain": [
       "array([ 3.,  4.,  5.,  6.,  7.,  8.,  9., 10., 11., 12., 13., 14., 15.,\n",
       "       16., 17., 18., 19., 20., 21., 22., 23., 24., 25., 26., 27., 28.,\n",
       "       29., 30., 31., 32., 33., 34., 35., 36., 37., 38., 39., 40., 41.,\n",
       "       42., 43., 44., 45., 46., 47., 48., 49., 50.])"
      ]
     },
     "execution_count": 334,
     "metadata": {},
     "output_type": "execute_result"
    }
   ],
   "source": [
    "nRs = len(np.unique(Rs))"
   ]
  },
  {
   "cell_type": "code",
   "execution_count": 333,
   "id": "0549a4b4",
   "metadata": {},
   "outputs": [
    {
     "data": {
      "text/plain": [
       "48700373"
      ]
     },
     "execution_count": 333,
     "metadata": {},
     "output_type": "execute_result"
    }
   ],
   "source": [
    "len(inv)"
   ]
  },
  {
   "cell_type": "code",
   "execution_count": 358,
   "id": "8d58f4c8",
   "metadata": {},
   "outputs": [
    {
     "data": {
      "text/plain": [
       "array([0. , 0. , 0.5, 1. , 1. , 0. , 0. , 0. , 0. ])"
      ]
     },
     "execution_count": 358,
     "metadata": {},
     "output_type": "execute_result"
    }
   ],
   "source": [
    "test=np.zeros(9)\n",
    "test[[2,3,4,2,2]]=[1,1,1,1,0.5]\n",
    "test"
   ]
  },
  {
   "cell_type": "code",
   "execution_count": 319,
   "id": "b431144e",
   "metadata": {},
   "outputs": [
    {
     "data": {
      "text/plain": [
       "array([2.65845664e+08, 2.04208140e+07, 1.39030161e+08, ...,\n",
       "       2.66855479e+08, 2.43936454e+08, 2.37273811e+08])"
      ]
     },
     "execution_count": 319,
     "metadata": {},
     "output_type": "execute_result"
    }
   ],
   "source": [
    "np.unique(uRs,retur)"
   ]
  },
  {
   "cell_type": "code",
   "execution_count": 297,
   "id": "5f036a7d",
   "metadata": {},
   "outputs": [
    {
     "name": "stdout",
     "output_type": "stream",
     "text": [
      "87.53037571907043\n"
     ]
    }
   ],
   "source": [
    "0.99*scores+ires*(np.max(Rs)+1)"
   ]
  },
  {
   "cell_type": "code",
   "execution_count": 316,
   "id": "84cfa660",
   "metadata": {},
   "outputs": [
    {
     "data": {
      "text/plain": [
       "array([3.00000000e+00, 6.00000000e+00, 2.40000000e+01, ...,\n",
       "       4.46913044e+08, 4.46913044e+08, 4.46913050e+08])"
      ]
     },
     "execution_count": 316,
     "metadata": {},
     "output_type": "execute_result"
    }
   ],
   "source": [
    "uRs"
   ]
  },
  {
   "cell_type": "code",
   "execution_count": null,
   "id": "6b20f48a",
   "metadata": {},
   "outputs": [],
   "source": [
    "res_refolded = [res_unfolder[edges[ie]:edges[ie+1]] for ie in range(len(edges)-1)]"
   ]
  },
  {
   "cell_type": "code",
   "execution_count": 309,
   "id": "83540173",
   "metadata": {},
   "outputs": [
    {
     "data": {
      "text/plain": [
       "array([        0,         0,         0, ..., 876300000, 876300000,\n",
       "       876300000])"
      ]
     },
     "execution_count": 309,
     "metadata": {},
     "output_type": "execute_result"
    }
   ],
   "source": [
    "ires*100"
   ]
  },
  {
   "cell_type": "code",
   "execution_count": 313,
   "id": "5a843779",
   "metadata": {},
   "outputs": [
    {
     "data": {
      "text/plain": [
       "3.0"
      ]
     },
     "execution_count": 313,
     "metadata": {},
     "output_type": "execute_result"
    }
   ],
   "source": [
    "\n",
    "np.min(Rs)"
   ]
  },
  {
   "cell_type": "code",
   "execution_count": 307,
   "id": "4b476c82",
   "metadata": {},
   "outputs": [
    {
     "data": {
      "text/plain": [
       "array([       1,        3,        2, ..., 55242467, 55242465, 55242464],\n",
       "      dtype=int64)"
      ]
     },
     "execution_count": 307,
     "metadata": {},
     "output_type": "execute_result"
    }
   ],
   "source": [
    "#res_refolded\n",
    "np.argsort(scores+ires)"
   ]
  },
  {
   "cell_type": "code",
   "execution_count": 303,
   "id": "f892f06e",
   "metadata": {},
   "outputs": [
    {
     "data": {
      "text/plain": [
       "array([7.94826997e-02, 2.01109707e-03, 3.06271622e-02, ...,\n",
       "       1.16140412e-02, 3.35209731e-06, 1.10825370e-03])"
      ]
     },
     "execution_count": 303,
     "metadata": {},
     "output_type": "execute_result"
    }
   ],
   "source": [
    "scores"
   ]
  },
  {
   "cell_type": "code",
   "execution_count": 286,
   "id": "69017eeb",
   "metadata": {},
   "outputs": [
    {
     "data": {
      "text/plain": [
       "array([ True,  True,  True,  True,  True,  True,  True])"
      ]
     },
     "execution_count": 286,
     "metadata": {},
     "output_type": "execute_result"
    }
   ],
   "source": [
    "res_refolded[30000]==res[30000]"
   ]
  },
  {
   "cell_type": "code",
   "execution_count": null,
   "id": "827d4688",
   "metadata": {},
   "outputs": [],
   "source": []
  },
  {
   "cell_type": "code",
   "execution_count": 277,
   "id": "291525a8",
   "metadata": {},
   "outputs": [
    {
     "data": {
      "text/plain": [
       "68718621"
      ]
     },
     "execution_count": 277,
     "metadata": {},
     "output_type": "execute_result"
    }
   ],
   "source": [
    "res_refolded = []"
   ]
  },
  {
   "cell_type": "code",
   "execution_count": null,
   "id": "6b297913",
   "metadata": {},
   "outputs": [],
   "source": [
    "02:24"
   ]
  },
  {
   "cell_type": "code",
   "execution_count": null,
   "id": "cd0d8dee",
   "metadata": {},
   "outputs": [],
   "source": [
    "def pick_best_score(self,nUR_cutoff = 3,resample=1):\n",
    "    \"\"\"Pick the best code for each molecular cluster based on the fisher statistics \n",
    "    for the distance and brightness distribution\"\"\"\n",
    "    self.get_brightness_distance_distribution()\n",
    "    res =self.res\n",
    "    XH = self.XH\n",
    "    codes = self.codes__\n",
    "\n",
    "    RS = XH[:,-1].astype(int)\n",
    "    HS = XH[:,-3]\n",
    "    colS = XH[:,-2].astype(int)\n",
    "    colSu = np.unique(colS)\n",
    "    meds_col = np.array([np.median(HS[colS==cu]) for cu in colSu])\n",
    "\n",
    "    self.HN = HS/meds_col[colS]\n",
    "\n",
    "    ncodes = len(codes)\n",
    "\n",
    "    bucket = np.zeros(ncodes)\n",
    "    nbits_per_code = np.array([len(cd) for cd in codes])\n",
    "\n",
    "    icodes = []\n",
    "    res_pruned = []\n",
    "    scores_pruned = []\n",
    "    for r in tqdm(res[::resample]):\n",
    "        hn = self.HN[r]\n",
    "        X = XH[r,:3]\n",
    "        dn = np.linalg.norm(X-np.mean(X,axis=0),axis=-1)\n",
    "        sc_dist = self.get_score_distance(dn)\n",
    "        sc_br = self.get_score_brightness(hn)\n",
    "        scores = sc_dist*sc_br\n",
    "        dic_sc = {r:sc for r,sc in zip(r,scores)}\n",
    "        isort = np.argsort(scores)\n",
    "        r = np.array(r)[isort]\n",
    "        #scores = scores[isort]\n",
    "        R = RS[r]\n",
    "        dic_u = {R_:r_ for r_,R_ in zip(r,R)}\n",
    "        if len(dic_u)>=nUR_cutoff:\n",
    "            bucket_ = np.zeros(ncodes)\n",
    "            for R_ in dic_u:\n",
    "                if R_ in self.dic_bit_to_code:\n",
    "                    icds = self.dic_bit_to_code[R_]\n",
    "                    bucket_[icds]+=dic_sc[dic_u[R_]]\n",
    "            bucket_/=nbits_per_code\n",
    "            best_code = np.argmax(bucket_)\n",
    "            icodes.append(best_code)\n",
    "            rf = [dic_u.get(R_,-1) for R_ in codes[best_code]]\n",
    "            res_pruned.append(rf)\n",
    "            scores_pruned.append([dic_sc.get(r_,-1000) for r_ in rf])\n",
    "    self.res_pruned = np.array(res_pruned)\n",
    "    self.icodes = np.array(icodes)\n",
    "    self.scores_pruned = np.array(scores_pruned)\n",
    "    X1f,X2f = self.dic_pair.get(0,[[[0,0,0]],[[0,0,0]]])\n",
    "    driftf = np.mean(np.array(X1f)-X2f,axis=0)\n",
    "    X = self.XH[:,:3]-driftf\n",
    "    res_ = np.array(self.res_pruned)\n",
    "    keep = (res_>=0)[...,np.newaxis]\n",
    "    self.Xcms = np.sum(X[res_]*keep,axis=1)/np.sum(keep,axis=1)"
   ]
  },
  {
   "cell_type": "code",
   "execution_count": null,
   "id": "dc33bef4",
   "metadata": {},
   "outputs": [],
   "source": []
  },
  {
   "cell_type": "code",
   "execution_count": null,
   "id": "71418016",
   "metadata": {},
   "outputs": [],
   "source": []
  },
  {
   "cell_type": "code",
   "execution_count": null,
   "id": "04808b11",
   "metadata": {},
   "outputs": [],
   "source": []
  },
  {
   "cell_type": "code",
   "execution_count": 248,
   "id": "0c03c2bf",
   "metadata": {},
   "outputs": [],
   "source": [
    "??dec.pick_best_score"
   ]
  },
  {
   "cell_type": "code",
   "execution_count": 244,
   "id": "f5b558f0",
   "metadata": {},
   "outputs": [
    {
     "name": "stderr",
     "output_type": "stream",
     "text": [
      "100%|█████████████████████████████████████████████████████████████████████████| 34188/34188 [00:00<00:00, 58525.63it/s]\n",
      "  7%|████▊                                                                | 1063358/15411481 [02:52<38:47, 6165.34it/s]\n"
     ]
    },
    {
     "ename": "KeyboardInterrupt",
     "evalue": "",
     "output_type": "error",
     "traceback": [
      "\u001b[1;31m---------------------------------------------------------------------------\u001b[0m",
      "\u001b[1;31mKeyboardInterrupt\u001b[0m                         Traceback (most recent call last)",
      "Cell \u001b[1;32mIn[244], line 1\u001b[0m\n\u001b[1;32m----> 1\u001b[0m \u001b[43mdec\u001b[49m\u001b[38;5;241;43m.\u001b[39;49m\u001b[43mpick_best_score\u001b[49m\u001b[43m(\u001b[49m\u001b[43mnUR_cutoff\u001b[49m\u001b[43m \u001b[49m\u001b[38;5;241;43m=\u001b[39;49m\u001b[43m \u001b[49m\u001b[38;5;241;43m3\u001b[39;49m\u001b[43m)\u001b[49m\n",
      "File \u001b[1;32m~\\Scope4AnalysisScripts\\MERFISH_Spot_Analysis\\Analysis_1500gns_MERFISH\\ioMicro.py:1472\u001b[0m, in \u001b[0;36mpick_best_score\u001b[1;34m(self, nUR_cutoff, resample)\u001b[0m\n\u001b[0;32m   1470\u001b[0m HS \u001b[38;5;241m=\u001b[39m XH[:,\u001b[38;5;241m-\u001b[39m\u001b[38;5;241m3\u001b[39m]\n\u001b[0;32m   1471\u001b[0m colS \u001b[38;5;241m=\u001b[39m XH[:,\u001b[38;5;241m-\u001b[39m\u001b[38;5;241m2\u001b[39m]\u001b[38;5;241m.\u001b[39mastype(\u001b[38;5;28mint\u001b[39m)\n\u001b[1;32m-> 1472\u001b[0m colSu \u001b[38;5;241m=\u001b[39m np\u001b[38;5;241m.\u001b[39munique(colS)\n\u001b[0;32m   1473\u001b[0m meds_col \u001b[38;5;241m=\u001b[39m np\u001b[38;5;241m.\u001b[39marray([np\u001b[38;5;241m.\u001b[39mmedian(HS[colS\u001b[38;5;241m==\u001b[39mcu]) \u001b[38;5;28;01mfor\u001b[39;00m cu \u001b[38;5;129;01min\u001b[39;00m colSu])\n\u001b[0;32m   1475\u001b[0m \u001b[38;5;28mself\u001b[39m\u001b[38;5;241m.\u001b[39mHN \u001b[38;5;241m=\u001b[39m HS\u001b[38;5;241m/\u001b[39mmeds_col[colS]\n",
      "File \u001b[1;32m~\\anaconda3\\envs\\cellpose\\lib\\site-packages\\tqdm\\std.py:1205\u001b[0m, in \u001b[0;36mtqdm.__iter__\u001b[1;34m(self)\u001b[0m\n\u001b[0;32m   1203\u001b[0m dt \u001b[38;5;241m=\u001b[39m cur_t \u001b[38;5;241m-\u001b[39m last_print_t\n\u001b[0;32m   1204\u001b[0m \u001b[38;5;28;01mif\u001b[39;00m dt \u001b[38;5;241m>\u001b[39m\u001b[38;5;241m=\u001b[39m mininterval \u001b[38;5;129;01mand\u001b[39;00m cur_t \u001b[38;5;241m>\u001b[39m\u001b[38;5;241m=\u001b[39m min_start_t:\n\u001b[1;32m-> 1205\u001b[0m     \u001b[38;5;28;43mself\u001b[39;49m\u001b[38;5;241;43m.\u001b[39;49m\u001b[43mupdate\u001b[49m\u001b[43m(\u001b[49m\u001b[43mn\u001b[49m\u001b[43m \u001b[49m\u001b[38;5;241;43m-\u001b[39;49m\u001b[43m \u001b[49m\u001b[43mlast_print_n\u001b[49m\u001b[43m)\u001b[49m\n\u001b[0;32m   1206\u001b[0m     last_print_n \u001b[38;5;241m=\u001b[39m \u001b[38;5;28mself\u001b[39m\u001b[38;5;241m.\u001b[39mlast_print_n\n\u001b[0;32m   1207\u001b[0m     last_print_t \u001b[38;5;241m=\u001b[39m \u001b[38;5;28mself\u001b[39m\u001b[38;5;241m.\u001b[39mlast_print_t\n",
      "File \u001b[1;32m~\\anaconda3\\envs\\cellpose\\lib\\site-packages\\tqdm\\std.py:1256\u001b[0m, in \u001b[0;36mtqdm.update\u001b[1;34m(self, n)\u001b[0m\n\u001b[0;32m   1254\u001b[0m     \u001b[38;5;28mself\u001b[39m\u001b[38;5;241m.\u001b[39m_ema_dn(dn)\n\u001b[0;32m   1255\u001b[0m     \u001b[38;5;28mself\u001b[39m\u001b[38;5;241m.\u001b[39m_ema_dt(dt)\n\u001b[1;32m-> 1256\u001b[0m \u001b[38;5;28;43mself\u001b[39;49m\u001b[38;5;241;43m.\u001b[39;49m\u001b[43mrefresh\u001b[49m\u001b[43m(\u001b[49m\u001b[43mlock_args\u001b[49m\u001b[38;5;241;43m=\u001b[39;49m\u001b[38;5;28;43mself\u001b[39;49m\u001b[38;5;241;43m.\u001b[39;49m\u001b[43mlock_args\u001b[49m\u001b[43m)\u001b[49m\n\u001b[0;32m   1257\u001b[0m \u001b[38;5;28;01mif\u001b[39;00m \u001b[38;5;28mself\u001b[39m\u001b[38;5;241m.\u001b[39mdynamic_miniters:\n\u001b[0;32m   1258\u001b[0m     \u001b[38;5;66;03m# If no `miniters` was specified, adjust automatically to the\u001b[39;00m\n\u001b[0;32m   1259\u001b[0m     \u001b[38;5;66;03m# maximum iteration rate seen so far between two prints.\u001b[39;00m\n\u001b[0;32m   1260\u001b[0m     \u001b[38;5;66;03m# e.g.: After running `tqdm.update(5)`, subsequent\u001b[39;00m\n\u001b[0;32m   1261\u001b[0m     \u001b[38;5;66;03m# calls to `tqdm.update()` will only cause an update after\u001b[39;00m\n\u001b[0;32m   1262\u001b[0m     \u001b[38;5;66;03m# at least 5 more iterations.\u001b[39;00m\n\u001b[0;32m   1263\u001b[0m     \u001b[38;5;28;01mif\u001b[39;00m \u001b[38;5;28mself\u001b[39m\u001b[38;5;241m.\u001b[39mmaxinterval \u001b[38;5;129;01mand\u001b[39;00m dt \u001b[38;5;241m>\u001b[39m\u001b[38;5;241m=\u001b[39m \u001b[38;5;28mself\u001b[39m\u001b[38;5;241m.\u001b[39mmaxinterval:\n",
      "File \u001b[1;32m~\\anaconda3\\envs\\cellpose\\lib\\site-packages\\tqdm\\std.py:1361\u001b[0m, in \u001b[0;36mtqdm.refresh\u001b[1;34m(self, nolock, lock_args)\u001b[0m\n\u001b[0;32m   1359\u001b[0m     \u001b[38;5;28;01melse\u001b[39;00m:\n\u001b[0;32m   1360\u001b[0m         \u001b[38;5;28mself\u001b[39m\u001b[38;5;241m.\u001b[39m_lock\u001b[38;5;241m.\u001b[39macquire()\n\u001b[1;32m-> 1361\u001b[0m \u001b[38;5;28;43mself\u001b[39;49m\u001b[38;5;241;43m.\u001b[39;49m\u001b[43mdisplay\u001b[49m\u001b[43m(\u001b[49m\u001b[43m)\u001b[49m\n\u001b[0;32m   1362\u001b[0m \u001b[38;5;28;01mif\u001b[39;00m \u001b[38;5;129;01mnot\u001b[39;00m nolock:\n\u001b[0;32m   1363\u001b[0m     \u001b[38;5;28mself\u001b[39m\u001b[38;5;241m.\u001b[39m_lock\u001b[38;5;241m.\u001b[39mrelease()\n",
      "File \u001b[1;32m~\\anaconda3\\envs\\cellpose\\lib\\site-packages\\tqdm\\std.py:1509\u001b[0m, in \u001b[0;36mtqdm.display\u001b[1;34m(self, msg, pos)\u001b[0m\n\u001b[0;32m   1507\u001b[0m \u001b[38;5;28;01mif\u001b[39;00m pos:\n\u001b[0;32m   1508\u001b[0m     \u001b[38;5;28mself\u001b[39m\u001b[38;5;241m.\u001b[39mmoveto(pos)\n\u001b[1;32m-> 1509\u001b[0m \u001b[38;5;28;43mself\u001b[39;49m\u001b[38;5;241;43m.\u001b[39;49m\u001b[43msp\u001b[49m\u001b[43m(\u001b[49m\u001b[38;5;28;43mself\u001b[39;49m\u001b[38;5;241;43m.\u001b[39;49m\u001b[38;5;21;43m__str__\u001b[39;49m\u001b[43m(\u001b[49m\u001b[43m)\u001b[49m\u001b[43m \u001b[49m\u001b[38;5;28;43;01mif\u001b[39;49;00m\u001b[43m \u001b[49m\u001b[43mmsg\u001b[49m\u001b[43m \u001b[49m\u001b[38;5;129;43;01mis\u001b[39;49;00m\u001b[43m \u001b[49m\u001b[38;5;28;43;01mNone\u001b[39;49;00m\u001b[43m \u001b[49m\u001b[38;5;28;43;01melse\u001b[39;49;00m\u001b[43m \u001b[49m\u001b[43mmsg\u001b[49m\u001b[43m)\u001b[49m\n\u001b[0;32m   1510\u001b[0m \u001b[38;5;28;01mif\u001b[39;00m pos:\n\u001b[0;32m   1511\u001b[0m     \u001b[38;5;28mself\u001b[39m\u001b[38;5;241m.\u001b[39mmoveto(\u001b[38;5;241m-\u001b[39mpos)\n",
      "File \u001b[1;32m~\\anaconda3\\envs\\cellpose\\lib\\site-packages\\tqdm\\std.py:350\u001b[0m, in \u001b[0;36mtqdm.status_printer.<locals>.print_status\u001b[1;34m(s)\u001b[0m\n\u001b[0;32m    348\u001b[0m \u001b[38;5;28;01mdef\u001b[39;00m \u001b[38;5;21mprint_status\u001b[39m(s):\n\u001b[0;32m    349\u001b[0m     len_s \u001b[38;5;241m=\u001b[39m disp_len(s)\n\u001b[1;32m--> 350\u001b[0m     \u001b[43mfp_write\u001b[49m\u001b[43m(\u001b[49m\u001b[38;5;124;43m'\u001b[39;49m\u001b[38;5;130;43;01m\\r\u001b[39;49;00m\u001b[38;5;124;43m'\u001b[39;49m\u001b[43m \u001b[49m\u001b[38;5;241;43m+\u001b[39;49m\u001b[43m \u001b[49m\u001b[43ms\u001b[49m\u001b[43m \u001b[49m\u001b[38;5;241;43m+\u001b[39;49m\u001b[43m \u001b[49m\u001b[43m(\u001b[49m\u001b[38;5;124;43m'\u001b[39;49m\u001b[38;5;124;43m \u001b[39;49m\u001b[38;5;124;43m'\u001b[39;49m\u001b[43m \u001b[49m\u001b[38;5;241;43m*\u001b[39;49m\u001b[43m \u001b[49m\u001b[38;5;28;43mmax\u001b[39;49m\u001b[43m(\u001b[49m\u001b[43mlast_len\u001b[49m\u001b[43m[\u001b[49m\u001b[38;5;241;43m0\u001b[39;49m\u001b[43m]\u001b[49m\u001b[43m \u001b[49m\u001b[38;5;241;43m-\u001b[39;49m\u001b[43m \u001b[49m\u001b[43mlen_s\u001b[49m\u001b[43m,\u001b[49m\u001b[43m \u001b[49m\u001b[38;5;241;43m0\u001b[39;49m\u001b[43m)\u001b[49m\u001b[43m)\u001b[49m\u001b[43m)\u001b[49m\n\u001b[0;32m    351\u001b[0m     last_len[\u001b[38;5;241m0\u001b[39m] \u001b[38;5;241m=\u001b[39m len_s\n",
      "File \u001b[1;32m~\\anaconda3\\envs\\cellpose\\lib\\site-packages\\tqdm\\std.py:343\u001b[0m, in \u001b[0;36mtqdm.status_printer.<locals>.fp_write\u001b[1;34m(s)\u001b[0m\n\u001b[0;32m    342\u001b[0m \u001b[38;5;28;01mdef\u001b[39;00m \u001b[38;5;21mfp_write\u001b[39m(s):\n\u001b[1;32m--> 343\u001b[0m     \u001b[43mfp\u001b[49m\u001b[38;5;241;43m.\u001b[39;49m\u001b[43mwrite\u001b[49m\u001b[43m(\u001b[49m\u001b[43m_unicode\u001b[49m\u001b[43m(\u001b[49m\u001b[43ms\u001b[49m\u001b[43m)\u001b[49m\u001b[43m)\u001b[49m\n\u001b[0;32m    344\u001b[0m     fp_flush()\n",
      "File \u001b[1;32m~\\anaconda3\\envs\\cellpose\\lib\\site-packages\\tqdm\\utils.py:145\u001b[0m, in \u001b[0;36mDisableOnWriteError.disable_on_exception.<locals>.inner\u001b[1;34m(*args, **kwargs)\u001b[0m\n\u001b[0;32m    143\u001b[0m \u001b[38;5;28;01mdef\u001b[39;00m \u001b[38;5;21minner\u001b[39m(\u001b[38;5;241m*\u001b[39margs, \u001b[38;5;241m*\u001b[39m\u001b[38;5;241m*\u001b[39mkwargs):\n\u001b[0;32m    144\u001b[0m     \u001b[38;5;28;01mtry\u001b[39;00m:\n\u001b[1;32m--> 145\u001b[0m         \u001b[38;5;28;01mreturn\u001b[39;00m \u001b[43mfunc\u001b[49m\u001b[43m(\u001b[49m\u001b[38;5;241;43m*\u001b[39;49m\u001b[43margs\u001b[49m\u001b[43m,\u001b[49m\u001b[43m \u001b[49m\u001b[38;5;241;43m*\u001b[39;49m\u001b[38;5;241;43m*\u001b[39;49m\u001b[43mkwargs\u001b[49m\u001b[43m)\u001b[49m\n\u001b[0;32m    146\u001b[0m     \u001b[38;5;28;01mexcept\u001b[39;00m \u001b[38;5;167;01mOSError\u001b[39;00m \u001b[38;5;28;01mas\u001b[39;00m e:\n\u001b[0;32m    147\u001b[0m         \u001b[38;5;28;01mif\u001b[39;00m e\u001b[38;5;241m.\u001b[39merrno \u001b[38;5;241m!=\u001b[39m \u001b[38;5;241m5\u001b[39m:\n",
      "File \u001b[1;32m~\\anaconda3\\envs\\cellpose\\lib\\site-packages\\ipykernel\\iostream.py:573\u001b[0m, in \u001b[0;36mOutStream.write\u001b[1;34m(self, string)\u001b[0m\n\u001b[0;32m    571\u001b[0m         \u001b[38;5;28mself\u001b[39m\u001b[38;5;241m.\u001b[39mpub_thread\u001b[38;5;241m.\u001b[39mschedule(\u001b[38;5;28mself\u001b[39m\u001b[38;5;241m.\u001b[39m_flush)\n\u001b[0;32m    572\u001b[0m     \u001b[38;5;28;01melse\u001b[39;00m:\n\u001b[1;32m--> 573\u001b[0m         \u001b[38;5;28;43mself\u001b[39;49m\u001b[38;5;241;43m.\u001b[39;49m\u001b[43m_schedule_flush\u001b[49m\u001b[43m(\u001b[49m\u001b[43m)\u001b[49m\n\u001b[0;32m    575\u001b[0m \u001b[38;5;28;01mreturn\u001b[39;00m \u001b[38;5;28mlen\u001b[39m(string)\n",
      "File \u001b[1;32m~\\anaconda3\\envs\\cellpose\\lib\\site-packages\\ipykernel\\iostream.py:478\u001b[0m, in \u001b[0;36mOutStream._schedule_flush\u001b[1;34m(self)\u001b[0m\n\u001b[0;32m    475\u001b[0m \u001b[38;5;28;01mdef\u001b[39;00m \u001b[38;5;21m_schedule_in_thread\u001b[39m():\n\u001b[0;32m    476\u001b[0m     \u001b[38;5;28mself\u001b[39m\u001b[38;5;241m.\u001b[39m_io_loop\u001b[38;5;241m.\u001b[39mcall_later(\u001b[38;5;28mself\u001b[39m\u001b[38;5;241m.\u001b[39mflush_interval, \u001b[38;5;28mself\u001b[39m\u001b[38;5;241m.\u001b[39m_flush)\n\u001b[1;32m--> 478\u001b[0m \u001b[38;5;28;43mself\u001b[39;49m\u001b[38;5;241;43m.\u001b[39;49m\u001b[43mpub_thread\u001b[49m\u001b[38;5;241;43m.\u001b[39;49m\u001b[43mschedule\u001b[49m\u001b[43m(\u001b[49m\u001b[43m_schedule_in_thread\u001b[49m\u001b[43m)\u001b[49m\n",
      "File \u001b[1;32m~\\anaconda3\\envs\\cellpose\\lib\\site-packages\\ipykernel\\iostream.py:211\u001b[0m, in \u001b[0;36mIOPubThread.schedule\u001b[1;34m(self, f)\u001b[0m\n\u001b[0;32m    209\u001b[0m     \u001b[38;5;28mself\u001b[39m\u001b[38;5;241m.\u001b[39m_events\u001b[38;5;241m.\u001b[39mappend(f)\n\u001b[0;32m    210\u001b[0m     \u001b[38;5;66;03m# wake event thread (message content is ignored)\u001b[39;00m\n\u001b[1;32m--> 211\u001b[0m     \u001b[38;5;28;43mself\u001b[39;49m\u001b[38;5;241;43m.\u001b[39;49m\u001b[43m_event_pipe\u001b[49m\u001b[38;5;241;43m.\u001b[39;49m\u001b[43msend\u001b[49m\u001b[43m(\u001b[49m\u001b[38;5;124;43mb\u001b[39;49m\u001b[38;5;124;43m\"\u001b[39;49m\u001b[38;5;124;43m\"\u001b[39;49m\u001b[43m)\u001b[49m\n\u001b[0;32m    212\u001b[0m \u001b[38;5;28;01melse\u001b[39;00m:\n\u001b[0;32m    213\u001b[0m     f()\n",
      "File \u001b[1;32m~\\anaconda3\\envs\\cellpose\\lib\\site-packages\\zmq\\sugar\\socket.py:688\u001b[0m, in \u001b[0;36mSocket.send\u001b[1;34m(self, data, flags, copy, track, routing_id, group)\u001b[0m\n\u001b[0;32m    681\u001b[0m         data \u001b[38;5;241m=\u001b[39m zmq\u001b[38;5;241m.\u001b[39mFrame(\n\u001b[0;32m    682\u001b[0m             data,\n\u001b[0;32m    683\u001b[0m             track\u001b[38;5;241m=\u001b[39mtrack,\n\u001b[0;32m    684\u001b[0m             copy\u001b[38;5;241m=\u001b[39mcopy \u001b[38;5;129;01mor\u001b[39;00m \u001b[38;5;28;01mNone\u001b[39;00m,\n\u001b[0;32m    685\u001b[0m             copy_threshold\u001b[38;5;241m=\u001b[39m\u001b[38;5;28mself\u001b[39m\u001b[38;5;241m.\u001b[39mcopy_threshold,\n\u001b[0;32m    686\u001b[0m         )\n\u001b[0;32m    687\u001b[0m     data\u001b[38;5;241m.\u001b[39mgroup \u001b[38;5;241m=\u001b[39m group\n\u001b[1;32m--> 688\u001b[0m \u001b[38;5;28;01mreturn\u001b[39;00m \u001b[38;5;28;43msuper\u001b[39;49m\u001b[43m(\u001b[49m\u001b[43m)\u001b[49m\u001b[38;5;241;43m.\u001b[39;49m\u001b[43msend\u001b[49m\u001b[43m(\u001b[49m\u001b[43mdata\u001b[49m\u001b[43m,\u001b[49m\u001b[43m \u001b[49m\u001b[43mflags\u001b[49m\u001b[38;5;241;43m=\u001b[39;49m\u001b[43mflags\u001b[49m\u001b[43m,\u001b[49m\u001b[43m \u001b[49m\u001b[43mcopy\u001b[49m\u001b[38;5;241;43m=\u001b[39;49m\u001b[43mcopy\u001b[49m\u001b[43m,\u001b[49m\u001b[43m \u001b[49m\u001b[43mtrack\u001b[49m\u001b[38;5;241;43m=\u001b[39;49m\u001b[43mtrack\u001b[49m\u001b[43m)\u001b[49m\n",
      "File \u001b[1;32mzmq\\backend\\cython\\socket.pyx:742\u001b[0m, in \u001b[0;36mzmq.backend.cython.socket.Socket.send\u001b[1;34m()\u001b[0m\n",
      "File \u001b[1;32mzmq\\backend\\cython\\socket.pyx:789\u001b[0m, in \u001b[0;36mzmq.backend.cython.socket.Socket.send\u001b[1;34m()\u001b[0m\n",
      "File \u001b[1;32mzmq\\backend\\cython\\socket.pyx:250\u001b[0m, in \u001b[0;36mzmq.backend.cython.socket._send_copy\u001b[1;34m()\u001b[0m\n",
      "File \u001b[1;32m~\\anaconda3\\envs\\cellpose\\lib\\site-packages\\zmq\\backend\\cython\\checkrc.pxd:13\u001b[0m, in \u001b[0;36mzmq.backend.cython.checkrc._check_rc\u001b[1;34m()\u001b[0m\n",
      "\u001b[1;31mKeyboardInterrupt\u001b[0m: "
     ]
    }
   ],
   "source": [
    "dec.pick_best_score(nUR_cutoff = 3)"
   ]
  },
  {
   "cell_type": "code",
   "execution_count": null,
   "id": "635878ee",
   "metadata": {},
   "outputs": [],
   "source": []
  },
  {
   "cell_type": "code",
   "execution_count": 241,
   "id": "143f6f2c",
   "metadata": {},
   "outputs": [],
   "source": [
    "def get_inters(self,dinstance_th=2,enforce_color=False):\n",
    "    \"\"\"Get an initial intersection of points and save in self.res\"\"\"\n",
    "    res =[]\n",
    "    if enforce_color:\n",
    "        icols = self.XH[:,-2]\n",
    "        XH = self.XH\n",
    "        for icol in tqdm(np.unique(icols)):\n",
    "            inds = np.where(icols==icol)[0]\n",
    "            Xs = XH[inds,:3]\n",
    "            Ts = cKDTree(Xs)\n",
    "            res_ = Ts.query_ball_tree(Ts,dinstance_th)\n",
    "            res += [inds[r] for r in res_]\n",
    "    else:\n",
    "        XH = self.XH\n",
    "        Xs = XH[:,:3]\n",
    "        Ts = cKDTree(Xs)\n",
    "        res = Ts.query_ball_tree(Ts,dinstance_th)\n",
    "    self.res = res"
   ]
  },
  {
   "cell_type": "code",
   "execution_count": 237,
   "id": "793364f7",
   "metadata": {},
   "outputs": [
    {
     "data": {
      "text/plain": [
       "(array([0., 1., 2.]), array([5295698, 6908946, 3206837], dtype=int64))"
      ]
     },
     "execution_count": 237,
     "metadata": {},
     "output_type": "execute_result"
    }
   ],
   "source": [
    "icols = dec.XH[:,-2]\n",
    "icols[]\n",
    "np.unique(dec.XH[:,-2],return_counts=True)"
   ]
  },
  {
   "cell_type": "code",
   "execution_count": 230,
   "id": "2a5b398f",
   "metadata": {},
   "outputs": [
    {
     "data": {
      "text/plain": [
       "'C:\\\\Users\\\\BintuLab\\\\Scope4AnalysisScripts\\\\MERFISH_Spot_Analysis\\\\Analysis_1500gns_MERFISH\\\\ioMicro.py'"
      ]
     },
     "execution_count": 230,
     "metadata": {},
     "output_type": "execute_result"
    }
   ],
   "source": [
    "import ioMicro\n",
    "ioMicro.__file__"
   ]
  },
  {
   "cell_type": "code",
   "execution_count": 228,
   "id": "8cca3bee",
   "metadata": {},
   "outputs": [],
   "source": [
    "??dec.load_library"
   ]
  },
  {
   "cell_type": "code",
   "execution_count": 130,
   "id": "16d65bf8",
   "metadata": {},
   "outputs": [],
   "source": [
    "#dec.get_XH()\n",
    "print(\"Correcting for distortion acrossbits\")\n",
    "#dec.apply_distortion_correction()\n",
    "dec.load_library(lib_fl=master_analysis_folder+os.sep+'codebook_DCBB250.csv')\n",
    "dec.get_inters(dinstance_th=3)\n",
    "dec.pick_best_brightness(nUR_cutoff = 3,resample = 10000)\n",
    "dec.pick_best_score(nUR_cutoff = 3)\n",
    "np.savez_compressed(dec.save_file_dec,res_pruned=dec.res_pruned,icodes=dec.icodes,scores_pruned = dec.scores_pruned,Xcms=dec.Xcms)"
   ]
  },
  {
   "cell_type": "code",
   "execution_count": null,
   "id": "d42fcf64",
   "metadata": {},
   "outputs": [],
   "source": []
  },
  {
   "cell_type": "code",
   "execution_count": 128,
   "id": "7138bc62",
   "metadata": {},
   "outputs": [],
   "source": [
    "drift_fl = asm.save_folder+os.sep+'drift_'+asm.fov.split('.')[0]+'.pkl'\n",
    "drifts,all_flds,fov = pickle.load(open(drift_fl,'rb'))"
   ]
  },
  {
   "cell_type": "code",
   "execution_count": 146,
   "id": "23327ee2",
   "metadata": {},
   "outputs": [],
   "source": [
    "\n",
    "import napari\n",
    "viewer = napari.Viewer()\n",
    "\n",
    "\n",
    "Xh = get_Xh(all_flds,fov,drifts,icol = 2,iH = 0)\n",
    "add_points(Xh,viewer,col='w')\n",
    "Xh = get_Xh(all_flds,fov,drifts,icol = 2,iH = 1)\n",
    "add_points(Xh,viewer,col='y')\n",
    "Xh = get_Xh(all_flds,fov,drifts,icol = 2,iH = 2)\n",
    "add_points(Xh,viewer,col='r')\n",
    "Xh = get_Xh(all_flds,fov,drifts,icol = 2,iH = 3)\n",
    "add_points(Xh,viewer,col='g')\n",
    "Xh = get_Xh(all_flds,fov,drifts,icol = 2,iH = 6)\n",
    "add_points(Xh,viewer,col='b')\n",
    "Xh = get_Xh(all_flds,fov,drifts,icol = 2,iH = 9)\n",
    "add_points(Xh,viewer,col='c')"
   ]
  },
  {
   "cell_type": "code",
   "execution_count": 160,
   "id": "f3d32871",
   "metadata": {},
   "outputs": [],
   "source": [
    "MER = [2, 3, 6, 9]\n",
    "icol=2\n",
    "XH = []\n",
    "for iH in MER:\n",
    "    Xh = get_Xh(all_flds,fov,drifts,icol = icol,iH = iH)\n",
    "    Rcol = np.array([[icol,iH]]*len(Xh))\n",
    "    XH.extend(np.concatenate([Xh,Rcol],axis=-1))\n",
    "XH = np.array(XH)"
   ]
  },
  {
   "cell_type": "code",
   "execution_count": 165,
   "id": "9947b0a1",
   "metadata": {},
   "outputs": [],
   "source": [
    "from scipy.spatial import KDTree\n",
    "dinstance_th=2\n",
    "Xs = XH[:,:3]\n",
    "Ts = KDTree(Xs)\n",
    "res = Ts.query_ball_tree(Ts,dinstance_th)\n",
    "res = [r for r in res if len(r)>=4]"
   ]
  },
  {
   "cell_type": "code",
   "execution_count": 166,
   "id": "dd78592b",
   "metadata": {},
   "outputs": [
    {
     "data": {
      "text/plain": [
       "83335"
      ]
     },
     "execution_count": 166,
     "metadata": {},
     "output_type": "execute_result"
    }
   ],
   "source": [
    "Rs = XH[:,-1]\n",
    "res = [r for r in res if len(np.unique(Rs[r]))>=4]\n",
    "len(res)"
   ]
  },
  {
   "cell_type": "code",
   "execution_count": null,
   "id": "7f0b83e6",
   "metadata": {},
   "outputs": [],
   "source": []
  },
  {
   "cell_type": "code",
   "execution_count": 183,
   "id": "043e23c5",
   "metadata": {},
   "outputs": [],
   "source": []
  },
  {
   "cell_type": "code",
   "execution_count": 176,
   "id": "f835e859",
   "metadata": {},
   "outputs": [],
   "source": [
    "hs = XH[:,-3]\n",
    "res_ = []\n",
    "for r in res:\n",
    "    if len(r)>len(MER):\n",
    "        r_ = np.array(r)\n",
    "        rs_ = [np.array(r_)[Rs[r_]==R] for R in MER]\n",
    "        br = [r_[np.argmax(hs[r_])]for r_ in rs_]\n",
    "    else:\n",
    "        br=r\n",
    "    res_.append(br)\n",
    "Xdec = np.array([np.mean(Xs[r],axis=0) for r in res_])\n",
    "hdec = np.array([np.mean(hs[r],axis=0) for r in res_])"
   ]
  },
  {
   "cell_type": "code",
   "execution_count": 203,
   "id": "04fbffb3",
   "metadata": {},
   "outputs": [],
   "source": [
    "_,inv = np.unique(['_'.join([str(z),str(x),str(y)])for z,x,y in Xdec.astype(int)],return_index=True)\n",
    "Xdec_ = Xdec[inv]\n",
    "hdec_ = hdec[inv]"
   ]
  },
  {
   "cell_type": "code",
   "execution_count": 208,
   "id": "e8ce7a98",
   "metadata": {},
   "outputs": [],
   "source": [
    "import napari\n",
    "viewer = napari.Viewer()\n",
    "Xh = get_Xh(all_flds,fov,drifts,icol = 2,iH = 0)\n",
    "add_points(Xh,viewer,col='w')\n",
    "Xh = get_Xh(all_flds,fov,drifts,icol = 2,iH = 1)\n",
    "add_points(Xh,viewer,col='y')\n",
    "Xh_ = np.array([np.mean(XH[r,:-3],axis=0) for r in res_])[inv]\n",
    "add_points(Xh_,viewer,col='r')"
   ]
  },
  {
   "cell_type": "code",
   "execution_count": 206,
   "id": "167a7a35",
   "metadata": {},
   "outputs": [
    {
     "data": {
      "text/plain": [
       "array([  520.70495605,   521.00799561,   521.63006592, ...,\n",
       "       12920.2142334 , 13459.79467773, 15659.33056641])"
      ]
     },
     "execution_count": 206,
     "metadata": {},
     "output_type": "execute_result"
    }
   ],
   "source": []
  },
  {
   "cell_type": "code",
   "execution_count": null,
   "id": "01e22ef5",
   "metadata": {},
   "outputs": [],
   "source": [
    "XH = self.XH\n",
    "Xs = XH[:,:3]\n",
    "Ts = cKDTree(Xs)\n",
    "res = Ts.query_ball_tree(Ts,dinstance_th)\n",
    "self.res = res"
   ]
  },
  {
   "cell_type": "code",
   "execution_count": 94,
   "id": "87ea3fac",
   "metadata": {},
   "outputs": [],
   "source": [
    "features = {\n",
    "    'likelihood': [21.23423, 51.2315, 100],\n",
    "    'class': ['hand', 'face', 'camera'],\n",
    "}\n",
    "edge_color_cycle = ['blue', 'magenta', 'green']\n",
    "\n",
    "text = {\n",
    "    'string': '{class}: {likelihood:0.1f}%',\n",
    "    'anchor': 'upper_left',\n",
    "    'translation': [-5, 0],\n",
    "    'size': 8,\n",
    "    'color': 'green',\n",
    "}\n",
    "shapes_layer = viewer.add_points(\n",
    "    np.array([[0,1],[1,2],[2,2]]),\n",
    "    features=features,\n",
    "    edge_color='class',\n",
    "    edge_color_cycle=edge_color_cycle,\n",
    "    face_color='transparent',\n",
    "    text=text,\n",
    "    name='shapes',\n",
    ")"
   ]
  },
  {
   "cell_type": "code",
   "execution_count": null,
   "id": "50101599",
   "metadata": {},
   "outputs": [],
   "source": [
    "import napari\n",
    "viewer = napari.Viewer()"
   ]
  },
  {
   "cell_type": "code",
   "execution_count": 13,
   "id": "2377c2dc",
   "metadata": {},
   "outputs": [
    {
     "data": {
      "text/plain": [
       "array([  0,  87, 115])"
      ]
     },
     "execution_count": 13,
     "metadata": {},
     "output_type": "execute_result"
    }
   ],
   "source": [
    "drifts[iQ][0]"
   ]
  },
  {
   "cell_type": "code",
   "execution_count": 22,
   "id": "b5da4e59",
   "metadata": {},
   "outputs": [
    {
     "data": {
      "text/plain": [
       "<Image layer 'Image [1]' at 0x2f129807f40>"
      ]
     },
     "execution_count": 22,
     "metadata": {},
     "output_type": "execute_result"
    }
   ],
   "source": [
    "iQ = 2\n",
    "from dask import array as da\n",
    "im_n = norm_slice(im__,s=50)\n",
    "viewer.add_image(np.roll(im_n,drifts[iQ][0],axis=[0,1,2]))\n",
    "iQ = 1\n",
    "viewer.add_image(da.roll(read_im(all_flds[iQ]+os.sep+asm.fov),drifts[iQ][0],axis=[1,2,3])[icol])"
   ]
  },
  {
   "cell_type": "code",
   "execution_count": 29,
   "id": "8b1fe922",
   "metadata": {},
   "outputs": [],
   "source": [
    "imT = np.array(read_im(all_flds[iQ]+os.sep+asm.fov)[icol],dtype=np.float32)"
   ]
  },
  {
   "cell_type": "code",
   "execution_count": 33,
   "id": "1bdff63b",
   "metadata": {},
   "outputs": [
    {
     "data": {
      "text/plain": [
       "Viewer(axes=Axes(visible=False, labels=True, colored=True, dashed=False, arrows=True), camera=Camera(center=(0.0, 249.5, 249.5), zoom=1.0146, angles=(0.0, 0.0, 90.0), perspective=0.0, interactive=True), cursor=Cursor(position=(1.0, 1.0, 0.0), scaled=True, size=1, style=<CursorStyle.STANDARD: 'standard'>), dims=Dims(ndim=3, ndisplay=2, last_used=0, range=((0.0, 37.0, 1.0), (0.0, 500.0, 1.0), (0.0, 500.0, 1.0)), current_step=(18, 250, 250), order=(0, 1, 2), axis_labels=('0', '1', '2')), grid=GridCanvas(stride=1, shape=(-1, -1), enabled=False), layers=[<Image layer 'Image' at 0x2f1ba3516d0>], scale_bar=ScaleBar(visible=False, colored=False, ticks=True, position=<Position.BOTTOM_RIGHT: 'bottom_right'>, font_size=10, unit=None), text_overlay=TextOverlay(visible=False, color=(0.5, 0.5, 0.5, 1.0), font_size=10, position=<TextOverlayPosition.TOP_LEFT: 'top_left'>, text=''), overlays=Overlays(interaction_box=InteractionBox(points=None, show=False, show_handle=False, show_vertices=False, selection_box_drag=None, selection_box_final=None, transform_start=<napari.utils.transforms.transforms.Affine object at 0x000002F1A550E880>, transform_drag=<napari.utils.transforms.transforms.Affine object at 0x000002F1A550E8E0>, transform_final=<napari.utils.transforms.transforms.Affine object at 0x000002F1A550E940>, transform=<napari.utils.transforms.transforms.Affine object at 0x000002F1A550E9A0>, allow_new_selection=True, selected_vertex=None)), help='', status='Ready', tooltip=Tooltip(visible=False, text=''), theme='dark', title='napari', mouse_move_callbacks=[<function InteractionBoxMouseBindings.initialize_mouse_events.<locals>.mouse_move at 0x000002F1BA354DC0>], mouse_drag_callbacks=[<function InteractionBoxMouseBindings.initialize_mouse_events.<locals>.mouse_drag at 0x000002F1BA32D1F0>], mouse_double_click_callbacks=[], mouse_wheel_callbacks=[<function dims_scroll at 0x000002F12772E820>], _persisted_mouse_event={}, _mouse_drag_gen={}, _mouse_wheel_gen={}, keymap={'Shift': <function InteractionBoxMouseBindings.initialize_key_events.<locals>.hold_to_lock_aspect_ratio at 0x000002F1BA31B1F0>, 'Control-Shift-R': <function InteractionBoxMouseBindings._reset_active_layer_affine at 0x000002F1BA32D940>, 'Control-Shift-A': <function InteractionBoxMouseBindings._transform_active_layer at 0x000002F1BA32D040>})"
      ]
     },
     "execution_count": 33,
     "metadata": {},
     "output_type": "execute_result"
    }
   ],
   "source": [
    "napari.view_image()"
   ]
  },
  {
   "cell_type": "code",
   "execution_count": 37,
   "id": "1f9639c4",
   "metadata": {},
   "outputs": [],
   "source": [
    "imT_ = norm_slice(imT[:,500:1000,500:1000],s=30)"
   ]
  },
  {
   "cell_type": "code",
   "execution_count": 38,
   "id": "96090084",
   "metadata": {},
   "outputs": [
    {
     "data": {
      "text/plain": [
       "Viewer(axes=Axes(visible=False, labels=True, colored=True, dashed=False, arrows=True), camera=Camera(center=(0.0, 249.5, 249.5), zoom=2.3313, angles=(0.0, 0.0, 90.0), perspective=0.0, interactive=True), cursor=Cursor(position=(1.0, 1.0, 0.0), scaled=True, size=1, style=<CursorStyle.STANDARD: 'standard'>), dims=Dims(ndim=3, ndisplay=2, last_used=0, range=((0.0, 37.0, 1.0), (0.0, 500.0, 1.0), (0.0, 500.0, 1.0)), current_step=(18, 250, 250), order=(0, 1, 2), axis_labels=('0', '1', '2')), grid=GridCanvas(stride=1, shape=(-1, -1), enabled=False), layers=[<Image layer 'imT_' at 0x2f3504f7ca0>], scale_bar=ScaleBar(visible=False, colored=False, ticks=True, position=<Position.BOTTOM_RIGHT: 'bottom_right'>, font_size=10, unit=None), text_overlay=TextOverlay(visible=False, color=(0.5, 0.5, 0.5, 1.0), font_size=10, position=<TextOverlayPosition.TOP_LEFT: 'top_left'>, text=''), overlays=Overlays(interaction_box=InteractionBox(points=None, show=False, show_handle=False, show_vertices=False, selection_box_drag=None, selection_box_final=None, transform_start=<napari.utils.transforms.transforms.Affine object at 0x000002F2F8914190>, transform_drag=<napari.utils.transforms.transforms.Affine object at 0x000002F2F8914100>, transform_final=<napari.utils.transforms.transforms.Affine object at 0x000002F2F8914400>, transform=<napari.utils.transforms.transforms.Affine object at 0x000002F2F8914130>, allow_new_selection=True, selected_vertex=None)), help='', status='Ready', tooltip=Tooltip(visible=False, text=''), theme='dark', title='napari', mouse_move_callbacks=[<function InteractionBoxMouseBindings.initialize_mouse_events.<locals>.mouse_move at 0x000002F357211D30>], mouse_drag_callbacks=[<function InteractionBoxMouseBindings.initialize_mouse_events.<locals>.mouse_drag at 0x000002F357211790>], mouse_double_click_callbacks=[], mouse_wheel_callbacks=[<function dims_scroll at 0x000002F12772E820>], _persisted_mouse_event={}, _mouse_drag_gen={}, _mouse_wheel_gen={}, keymap={'Shift': <function InteractionBoxMouseBindings.initialize_key_events.<locals>.hold_to_lock_aspect_ratio at 0x000002F3504F0160>, 'Control-Shift-R': <function InteractionBoxMouseBindings._reset_active_layer_affine at 0x000002F357211670>, 'Control-Shift-A': <function InteractionBoxMouseBindings._transform_active_layer at 0x000002F3572115E0>})"
      ]
     },
     "execution_count": 38,
     "metadata": {},
     "output_type": "execute_result"
    }
   ],
   "source": [
    "napari.view_image(imT_)"
   ]
  },
  {
   "cell_type": "code",
   "execution_count": 66,
   "id": "de73d304",
   "metadata": {},
   "outputs": [
    {
     "name": "stderr",
     "output_type": "stream",
     "text": [
      "  0%|                                                                                            | 0/8 [00:00<?, ?it/s]C:\\Users\\BintuLab\\AppData\\Local\\Temp\\ipykernel_15444\\1722703158.py:58: VisibleDeprecationWarning: Creating an ndarray from ragged nested sequences (which is a list-or-tuple of lists-or-tuples-or ndarrays with different lengths or shapes) is deprecated. If you meant to do this, you must specify 'dtype=object' when creating the ndarray.\n",
      "  im_centers_ = np.array(im_centers)\n",
      "100%|████████████████████████████████████████████████████████████████████████████████████| 8/8 [00:06<00:00,  1.16it/s]\n"
     ]
    }
   ],
   "source": [
    "Hs = []\n",
    "paramas =[]\n",
    "for sigmaZ in tqdm(np.arange(0.5,2,0.2)):\n",
    "    for sigmaXY in np.arange(0.5,2.5,0.25):\n",
    "        Xh = get_local_max(imT_,1000,im_raw=None,dic_psf=None,delta=1,delta_fit=3,dbscan=True,return_centers=False,mins=None,sigmaZ=sigmaZ,sigmaXY=sigmaXY)\n",
    "        Hs.append(np.median(Xh[:,-2]))\n",
    "        paramas.append([sigmaZ,sigmaXY])"
   ]
  },
  {
   "cell_type": "code",
   "execution_count": 65,
   "id": "781b5c19",
   "metadata": {},
   "outputs": [
    {
     "data": {
      "text/plain": [
       "[0.35682440387054193,\n",
       " 0.4777019465771151,\n",
       " 0.5266061579705601,\n",
       " 0.531471835279339,\n",
       " 0.5149107759492777,\n",
       " 0.4920134092310091,\n",
       " 0.4530320861173032,\n",
       " 0.42166541489499554,\n",
       " 0.4019617585244928,\n",
       " 0.5421978778895774,\n",
       " 0.5993361593781625,\n",
       " 0.6207828520615402,\n",
       " 0.6187324329398474,\n",
       " 0.6001368479274907,\n",
       " 0.5588916037916883,\n",
       " 0.522434407461402,\n",
       " 0.4035767223099017,\n",
       " 0.5611276020341365,\n",
       " 0.631198128111368,\n",
       " 0.6512938283634699,\n",
       " 0.6583785179922257,\n",
       " 0.6525826688637297,\n",
       " 0.6203418113355859,\n",
       " 0.586122508057862,\n",
       " 0.39853047387558627,\n",
       " 0.5597305330054305,\n",
       " 0.6351976564270234,\n",
       " 0.6667777463166176,\n",
       " 0.6771028128368013,\n",
       " 0.6743728542225171,\n",
       " 0.654116712882578,\n",
       " 0.6213012367988969,\n",
       " 0.38569125569233176,\n",
       " 0.5426780053182625,\n",
       " 0.6186632888267203,\n",
       " 0.664809594503716,\n",
       " 0.6761181601551458,\n",
       " 0.6813549604450081,\n",
       " 0.6727891063233535,\n",
       " 0.6454782419581843,\n",
       " 0.36727699586335627,\n",
       " 0.5228672388093061,\n",
       " 0.5915414547420109,\n",
       " 0.6389362311564662,\n",
       " 0.665742850580322,\n",
       " 0.6753738338763697,\n",
       " 0.6770136347851483,\n",
       " 0.6625990957292762,\n",
       " 0.34988937317694935,\n",
       " 0.49985617637855473,\n",
       " 0.5751524358284692,\n",
       " 0.6164346121548263,\n",
       " 0.6420293660539138,\n",
       " 0.6624499228416914,\n",
       " 0.6702367590811678,\n",
       " 0.6696599626936358,\n",
       " 0.3337922720852796,\n",
       " 0.47581942815545397,\n",
       " 0.5468680265509134,\n",
       " 0.5828865290591385,\n",
       " 0.6179666367973847,\n",
       " 0.6384108760635157,\n",
       " 0.6552902131041816,\n",
       " 0.665505945480986]"
      ]
     },
     "execution_count": 65,
     "metadata": {},
     "output_type": "execute_result"
    }
   ],
   "source": [
    "Hs"
   ]
  },
  {
   "cell_type": "code",
   "execution_count": 34,
   "id": "5d535ae1",
   "metadata": {},
   "outputs": [],
   "source": [
    "def get_local_max(im_dif,th_fit,im_raw=None,dic_psf=None,delta=1,delta_fit=3,dbscan=True,return_centers=False,mins=None,\n",
    "                  sigmaZ=1,sigmaXY=1.5):\n",
    "    \"\"\"Given a 3D image <im_dif> as numpy array, get the local maxima in cube -<delta>_to_<delta> in 3D.\n",
    "    Optional a dbscan can be used to couple connected pixels with the same local maximum. \n",
    "    (This is important if saturating the camera values.)\n",
    "    Returns: Xh - a list of z,x,y and brightness of the local maxima\n",
    "    \"\"\"\n",
    "    \n",
    "    z,x,y = np.where(im_dif>th_fit)\n",
    "    zmax,xmax,ymax = im_dif.shape\n",
    "    in_im = im_dif[z,x,y]\n",
    "    keep = np.ones(len(x))>0\n",
    "    for d1 in range(-delta,delta+1):\n",
    "        for d2 in range(-delta,delta+1):\n",
    "            for d3 in range(-delta,delta+1):\n",
    "                keep &= (in_im>=im_dif[(z+d1)%zmax,(x+d2)%xmax,(y+d3)%ymax])\n",
    "    z,x,y = z[keep],x[keep],y[keep]\n",
    "    h = in_im[keep]\n",
    "    Xh = np.array([z,x,y,h]).T\n",
    "    if dbscan and len(Xh)>0:\n",
    "        from scipy import ndimage\n",
    "        im_keep = np.zeros(im_dif.shape,dtype=bool)\n",
    "        im_keep[z,x,y]=True\n",
    "        lbl, nlbl = ndimage.label(im_keep,structure=np.ones([3]*3))\n",
    "        l=lbl[z,x,y]#labels after reconnection\n",
    "        ul = np.arange(1,nlbl+1)\n",
    "        il = np.argsort(l)\n",
    "        l=l[il]\n",
    "        z,x,y,h = z[il],x[il],y[il],h[il]\n",
    "        inds = np.searchsorted(l,ul)\n",
    "        Xh = np.array([z,x,y,h]).T\n",
    "        Xh_ = []\n",
    "        for i_ in range(len(inds)):\n",
    "            j_=inds[i_+1] if i_<len(inds)-1 else len(Xh)\n",
    "            Xh_.append(np.mean(Xh[inds[i_]:j_],0))\n",
    "        Xh=np.array(Xh_)\n",
    "        z,x,y,h = Xh.T\n",
    "    im_centers=[]\n",
    "    if delta_fit!=0 and len(Xh)>0:\n",
    "        z,x,y,h = Xh.T\n",
    "        z,x,y = z.astype(int),x.astype(int),y.astype(int)\n",
    "        im_centers = [[],[],[],[],[]]\n",
    "        Xft = []\n",
    "        \n",
    "        for d1 in range(-delta_fit,delta_fit+1):\n",
    "            for d2 in range(-delta_fit,delta_fit+1):\n",
    "                for d3 in range(-delta_fit,delta_fit+1):\n",
    "                    if (d1*d1+d2*d2+d3*d3)<=(delta_fit*delta_fit):\n",
    "                        im_centers[0].append((z+d1))\n",
    "                        im_centers[1].append((x+d2))\n",
    "                        im_centers[2].append((y+d3))\n",
    "                        im_centers[3].append(im_dif[(z+d1)%zmax,(x+d2)%xmax,(y+d3)%ymax])\n",
    "                        if im_raw is not None:\n",
    "                            im_centers[4].append(im_raw[(z+d1)%zmax,(x+d2)%xmax,(y+d3)%ymax])\n",
    "                        Xft.append([d1,d2,d3])\n",
    "              \n",
    "        Xft = np.array(Xft)\n",
    "        im_centers_ = np.array(im_centers)\n",
    "        bk = np.min(im_centers_[3],axis=0)\n",
    "        im_centers_[3] -= bk\n",
    "        a = np.sum(im_centers_[3],axis=0)\n",
    "        habs = np.zeros_like(bk)\n",
    "        if im_raw is not None:\n",
    "            habs = im_raw[z%zmax,x%xmax,y%ymax]\n",
    "          \n",
    "        if dic_psf is not None:\n",
    "            keys = list(dic_psf.keys())\n",
    "            ### calculate spacing\n",
    "            im0 = dic_psf[keys[0]]\n",
    "            space = np.sort(np.diff(keys,axis=0).ravel())\n",
    "            space = space[space!=0][0]\n",
    "            ### convert to reduced space\n",
    "            zi,xi,yi = (z/space).astype(int),(x/space).astype(int),(y/space).astype(int)\n",
    "\n",
    "            keys_ =  np.array(keys)\n",
    "            sz_ = list(np.max(keys_//space,axis=0)+1)\n",
    "\n",
    "            ind_ = tuple(Xft.T+np.array(im0.shape)[:,np.newaxis]//2-1)\n",
    "\n",
    "            im_psf = np.zeros(sz_+[len(ind_[0])])\n",
    "            for key in keys_:\n",
    "                coord = tuple((key/space).astype(int))\n",
    "                im__ = dic_psf[tuple(key)][ind_]\n",
    "                im_psf[coord]=(im__-np.mean(im__))/np.std(im__)\n",
    "            im_psf_ = im_psf[zi,xi,yi]\n",
    "            im_centers__ = im_centers_[3].T.copy()\n",
    "            im_centers__ = (im_centers__-np.mean(im_centers__,axis=-1)[:,np.newaxis])/np.std(im_centers__,axis=-1)[:,np.newaxis]\n",
    "            hn = np.mean(im_centers__*im_psf_,axis=-1)\n",
    "        else:\n",
    "\n",
    "            #im_sm = im_[tuple([slice(x_-sz,x_+sz+1) for x_ in Xc])]\n",
    "            sz = delta_fit\n",
    "            Xft = (np.indices([2*sz+1]*3)-sz).reshape([3,-1]).T\n",
    "            Xft = Xft[np.linalg.norm(Xft,axis=1)<=sz]\n",
    "            \n",
    "            sigma = np.array([sigmaZ,sigmaXY,sigmaXY])[np.newaxis]\n",
    "            Xft_ = Xft/sigma\n",
    "            norm_G = np.exp(-np.sum(Xft_*Xft_,axis=-1)/2.)\n",
    "            norm_G=(norm_G-np.mean(norm_G))/np.std(norm_G)\n",
    "            im_centers__ = im_centers_[3].T.copy()\n",
    "            im_centers__ = (im_centers__-np.mean(im_centers__,axis=-1)[:,np.newaxis])/np.std(im_centers__,axis=-1)[:,np.newaxis]\n",
    "            hn = np.mean(im_centers__*norm_G,axis=-1)\n",
    "        \n",
    "        zc = np.sum(im_centers_[0]*im_centers_[3],axis=0)/np.sum(im_centers_[3],axis=0)\n",
    "        xc = np.sum(im_centers_[1]*im_centers_[3],axis=0)/np.sum(im_centers_[3],axis=0)\n",
    "        yc = np.sum(im_centers_[2]*im_centers_[3],axis=0)/np.sum(im_centers_[3],axis=0)\n",
    "        Xh = np.array([zc,xc,yc,bk,a,habs,hn,h]).T\n",
    "    if return_centers:\n",
    "        return Xh,np.array(im_centers)\n",
    "    return Xh"
   ]
  },
  {
   "cell_type": "code",
   "execution_count": null,
   "id": "81bf759e",
   "metadata": {},
   "outputs": [],
   "source": []
  },
  {
   "cell_type": "code",
   "execution_count": 26,
   "id": "63f6f2e9",
   "metadata": {},
   "outputs": [
    {
     "name": "stderr",
     "output_type": "stream",
     "text": [
      "The system cannot execute the specified program.\n"
     ]
    }
   ],
   "source": [
    "import ioMicro\n",
    "!\"{}\""
   ]
  },
  {
   "cell_type": "code",
   "execution_count": 27,
   "id": "654911b4",
   "metadata": {},
   "outputs": [
    {
     "name": "stdout",
     "output_type": "stream",
     "text": [
      "C:\\Users\\BintuLab\\Scope4AnalysisScripts\\MERFISH_Spot_Analysis\\Analysis_1500gns_MERFISH\\ioMicro.py\n"
     ]
    }
   ],
   "source": [
    "print(ioMicro.__file__)"
   ]
  },
  {
   "cell_type": "code",
   "execution_count": 67,
   "id": "7bc77930",
   "metadata": {},
   "outputs": [
    {
     "data": {
      "text/plain": [
       "Viewer(axes=Axes(visible=False, labels=True, colored=True, dashed=False, arrows=True), camera=Camera(center=(0.0, 1499.5, 1499.5), zoom=0.16909999999999997, angles=(0.0, 0.0, 90.0), perspective=0.0, interactive=True), cursor=Cursor(position=(1.0, 1.0, 0.0), scaled=True, size=1, style=<CursorStyle.STANDARD: 'standard'>), dims=Dims(ndim=3, ndisplay=2, last_used=0, range=((0.0, 37.0, 1.0), (0.0, 3000.0, 1.0), (0.0, 3000.0, 1.0)), current_step=(18, 1500, 1500), order=(0, 1, 2), axis_labels=('0', '1', '2')), grid=GridCanvas(stride=1, shape=(-1, -1), enabled=False), layers=[<Image layer 'im_n' at 0x23986840670>], scale_bar=ScaleBar(visible=False, colored=False, ticks=True, position=<Position.BOTTOM_RIGHT: 'bottom_right'>, font_size=10, unit=None), text_overlay=TextOverlay(visible=False, color=(0.5, 0.5, 0.5, 1.0), font_size=10, position=<TextOverlayPosition.TOP_LEFT: 'top_left'>, text=''), overlays=Overlays(interaction_box=InteractionBox(points=None, show=False, show_handle=False, show_vertices=False, selection_box_drag=None, selection_box_final=None, transform_start=<napari.utils.transforms.transforms.Affine object at 0x0000024052D1E730>, transform_drag=<napari.utils.transforms.transforms.Affine object at 0x0000024052D1E880>, transform_final=<napari.utils.transforms.transforms.Affine object at 0x0000024052D1E9D0>, transform=<napari.utils.transforms.transforms.Affine object at 0x0000024052D1EF70>, allow_new_selection=True, selected_vertex=None)), help='', status='Ready', tooltip=Tooltip(visible=False, text=''), theme='dark', title='napari', mouse_move_callbacks=[<function InteractionBoxMouseBindings.initialize_mouse_events.<locals>.mouse_move at 0x00000239868503A0>], mouse_drag_callbacks=[<function InteractionBoxMouseBindings.initialize_mouse_events.<locals>.mouse_drag at 0x000002398683D820>], mouse_double_click_callbacks=[], mouse_wheel_callbacks=[<function dims_scroll at 0x0000023A0C3D8D30>], _persisted_mouse_event={}, _mouse_drag_gen={}, _mouse_wheel_gen={}, keymap={'Shift': <function InteractionBoxMouseBindings.initialize_key_events.<locals>.hold_to_lock_aspect_ratio at 0x000002398683D430>, 'Control-Shift-R': <function InteractionBoxMouseBindings._reset_active_layer_affine at 0x000002398683DF70>, 'Control-Shift-A': <function InteractionBoxMouseBindings._transform_active_layer at 0x000002398683DD30>})"
      ]
     },
     "execution_count": 67,
     "metadata": {},
     "output_type": "execute_result"
    }
   ],
   "source": [
    "import napari\n",
    "napari.view_image(im_n)"
   ]
  },
  {
   "cell_type": "code",
   "execution_count": 86,
   "id": "fd2980c6",
   "metadata": {},
   "outputs": [
    {
     "data": {
      "text/plain": [
       "(array([2, 3, 6, 9], dtype=int64), 2)"
      ]
     },
     "execution_count": 86,
     "metadata": {},
     "output_type": "execute_result"
    }
   ],
   "source": [
    "import pandas\n",
    "codebook = pandas.read_csv(r'Z:\\DCBB_1500gnLib_01_23_2023\\MERFISH\\New_DCBB-300_MERFISH_encoding_2_21_2023.csv')\n",
    "import numpy as np\n",
    "code_gene = codebook[codebook['name']=='Ptbp1'].iloc[:,2:]\n",
    "code = np.where(code_gene.iloc[0])[0]\n",
    "icol =code[0]%3 \n",
    "hybes =code//3\n",
    "hybes+2,icol"
   ]
  },
  {
   "cell_type": "code",
   "execution_count": 89,
   "id": "8418803c",
   "metadata": {},
   "outputs": [
    {
     "data": {
      "text/plain": [
       "(array([2, 5, 7, 8], dtype=int64), 0)"
      ]
     },
     "execution_count": 89,
     "metadata": {},
     "output_type": "execute_result"
    }
   ],
   "source": [
    "import pandas\n",
    "codebook = pandas.read_csv(r'Z:\\DCBB_1500gnLib_01_23_2023\\MERFISH\\New_DCBB-300_MERFISH_encoding_2_21_2023.csv')\n",
    "import numpy as np\n",
    "code_gene = codebook[codebook['name']=='Igfbpl1'].iloc[:,2:]\n",
    "code = np.where(code_gene.iloc[0])[0]\n",
    "icol =code[0]%3 \n",
    "hybes =code//3 \n",
    "hybes+2,icol"
   ]
  },
  {
   "cell_type": "code",
   "execution_count": 20,
   "id": "e09a1aad",
   "metadata": {},
   "outputs": [
    {
     "data": {
      "text/plain": [
       "21"
      ]
     },
     "execution_count": 20,
     "metadata": {},
     "output_type": "execute_result"
    }
   ],
   "source": [
    "set_flds = [fld for fld in asm.Qfolders if asm.set_ in os.path.basename(fld)]\n",
    "iPTB = [ifld for ifld,fld in enumerate(set_flds) if 'PTB' in os.path.basename(fld)][0]\n",
    "iPTB"
   ]
  },
  {
   "cell_type": "code",
   "execution_count": 21,
   "id": "3e626aa7",
   "metadata": {},
   "outputs": [
    {
     "name": "stdout",
     "output_type": "stream",
     "text": [
      "### define H0 and load background\n",
      "Background file: Z:\\DCBB_1500gnLib_01_23_2023\\Controls\\H0_set1\\Conv_zscan__250.zarr\n",
      "### load signal\n",
      "Signal file: Z:\\DCBB_1500gnLib_01_23_2023\\Controls\\H1_PTB_set1\\Conv_zscan__250.zarr\n",
      "Found drift:[ 7 -2  5]\n"
     ]
    },
    {
     "ename": "NameError",
     "evalue": "name 'dic_psf' is not defined",
     "output_type": "error",
     "traceback": [
      "\u001b[1;31m---------------------------------------------------------------------------\u001b[0m",
      "\u001b[1;31mNameError\u001b[0m                                 Traceback (most recent call last)",
      "Cell \u001b[1;32mIn[21], line 15\u001b[0m\n\u001b[0;32m      8\u001b[0m \u001b[38;5;66;03m#asm.get_aligned_ims()\u001b[39;00m\n\u001b[0;32m      9\u001b[0m \u001b[38;5;66;03m#imf = asm.im_sig__/asm.im_bk__\u001b[39;00m\n\u001b[0;32m     10\u001b[0m \u001b[38;5;66;03m#resc=5\u001b[39;00m\n\u001b[0;32m     11\u001b[0m \u001b[38;5;66;03m#asm.im_ration = np.array([norm_slice(im_,s=30)/np.median(np.abs(im_[::resc,::resc,::resc])) for im_ in asm.im_sig_])\u001b[39;00m\n\u001b[0;32m     12\u001b[0m \u001b[38;5;66;03m#asm.im_ration = np.array([norm_slice(im_,s=30)/np.median(np.abs(im_[::resc,::resc,::resc])) for im_ in asm.im_sig_])\u001b[39;00m\n\u001b[0;32m     14\u001b[0m asm\u001b[38;5;241m.\u001b[39mdic_th \u001b[38;5;241m=\u001b[39m {\u001b[38;5;241m0\u001b[39m:\u001b[38;5;241m1.25\u001b[39m,\u001b[38;5;241m1\u001b[39m:\u001b[38;5;241m0.5\u001b[39m,\u001b[38;5;241m2\u001b[39m:\u001b[38;5;241m1.25\u001b[39m}\n\u001b[1;32m---> 15\u001b[0m asm\u001b[38;5;241m.\u001b[39mget_Xh(th \u001b[38;5;241m=\u001b[39m \u001b[38;5;241m3\u001b[39m,dic_psf\u001b[38;5;241m=\u001b[39m\u001b[43mdic_psf\u001b[49m)\n\u001b[0;32m     16\u001b[0m asm\u001b[38;5;241m.\u001b[39msave_fits(plt_val\u001b[38;5;241m=\u001b[39m\u001b[38;5;28;01mFalse\u001b[39;00m)\n",
      "\u001b[1;31mNameError\u001b[0m: name 'dic_psf' is not defined"
     ]
    }
   ],
   "source": [
    "asm.set_hybe(iPTB)\n",
    "\n",
    "completed = asm.check_finished_file()\n",
    "if not completed:\n",
    "    asm.get_background(force=False)\n",
    "    asm.get_signal()\n",
    "    asm.compute_drift(sz=300)\n",
    "    #asm.get_aligned_ims()\n",
    "    #imf = asm.im_sig__/asm.im_bk__\n",
    "    #resc=5\n",
    "    #asm.im_ration = np.array([norm_slice(im_,s=30)/np.median(np.abs(im_[::resc,::resc,::resc])) for im_ in asm.im_sig_])\n",
    "    #asm.im_ration = np.array([norm_slice(im_,s=30)/np.median(np.abs(im_[::resc,::resc,::resc])) for im_ in asm.im_sig_])\n",
    "\n",
    "    asm.dic_th = {0:1.25,1:0.5,2:1.25}\n",
    "    asm.get_Xh(th = 3)\n",
    "    asm.save_fits(plt_val=False)"
   ]
  },
  {
   "cell_type": "code",
   "execution_count": 26,
   "id": "ba419d82",
   "metadata": {},
   "outputs": [
    {
     "data": {
      "text/plain": [
       "Viewer(axes=Axes(visible=False, labels=True, colored=True, dashed=False, arrows=True), camera=Camera(center=(0.0, 1499.5, 1499.5), zoom=0.38158333333333333, angles=(0.0, 0.0, 90.0), perspective=0.0, interactive=True), cursor=Cursor(position=(1.0, 1.0, 0.0, 0.0), scaled=True, size=1, style=<CursorStyle.STANDARD: 'standard'>), dims=Dims(ndim=4, ndisplay=2, last_used=0, range=((0.0, 4.0, 1.0), (0.0, 37.0, 1.0), (0.0, 3000.0, 1.0), (0.0, 3000.0, 1.0)), current_step=(2, 18, 1500, 1500), order=(0, 1, 2, 3), axis_labels=('0', '1', '2', '3')), grid=GridCanvas(stride=1, shape=(-1, -1), enabled=False), layers=[<Image layer 'Image' at 0x13cf6fd7ac0>], scale_bar=ScaleBar(visible=False, colored=False, ticks=True, position=<Position.BOTTOM_RIGHT: 'bottom_right'>, font_size=10, unit=None), text_overlay=TextOverlay(visible=False, color=(0.5, 0.5, 0.5, 1.0), font_size=10, position=<TextOverlayPosition.TOP_LEFT: 'top_left'>, text=''), overlays=Overlays(interaction_box=InteractionBox(points=None, show=False, show_handle=False, show_vertices=False, selection_box_drag=None, selection_box_final=None, transform_start=<napari.utils.transforms.transforms.Affine object at 0x0000013CECDDF0D0>, transform_drag=<napari.utils.transforms.transforms.Affine object at 0x0000013CECDDF130>, transform_final=<napari.utils.transforms.transforms.Affine object at 0x0000013CECDDF190>, transform=<napari.utils.transforms.transforms.Affine object at 0x0000013CECDDF1F0>, allow_new_selection=True, selected_vertex=None)), help='', status='Ready', tooltip=Tooltip(visible=False, text=''), theme='dark', title='napari', mouse_move_callbacks=[<function InteractionBoxMouseBindings.initialize_mouse_events.<locals>.mouse_move at 0x0000013CF6D3FF70>], mouse_drag_callbacks=[<function InteractionBoxMouseBindings.initialize_mouse_events.<locals>.mouse_drag at 0x0000013CF6D3FDC0>], mouse_double_click_callbacks=[], mouse_wheel_callbacks=[<function dims_scroll at 0x0000013CECD649D0>], _persisted_mouse_event={}, _mouse_drag_gen={}, _mouse_wheel_gen={}, keymap={'Shift': <function InteractionBoxMouseBindings.initialize_key_events.<locals>.hold_to_lock_aspect_ratio at 0x0000013CF6D3F8B0>, 'Control-Shift-R': <function InteractionBoxMouseBindings._reset_active_layer_affine at 0x0000013CF6CCB310>, 'Control-Shift-A': <function InteractionBoxMouseBindings._transform_active_layer at 0x0000013CF6CCB3A0>})"
      ]
     },
     "execution_count": 26,
     "metadata": {},
     "output_type": "execute_result"
    }
   ],
   "source": [
    "import napari\n",
    "napari.view_image(asm.im_sig_)"
   ]
  },
  {
   "cell_type": "code",
   "execution_count": 22,
   "id": "6b31526b",
   "metadata": {},
   "outputs": [],
   "source": [
    "?asm.get_Xh"
   ]
  },
  {
   "cell_type": "code",
   "execution_count": 16,
   "id": "b7c0f94d",
   "metadata": {},
   "outputs": [
    {
     "data": {
      "text/plain": [
       "['Z:\\\\DCBB_1500gnLib_01_23_2023\\\\MERFISH\\\\H10_MERRep_set1',\n",
       " 'Z:\\\\DCBB_1500gnLib_01_23_2023\\\\MERFISH\\\\H10_MERRep_set2',\n",
       " 'Z:\\\\DCBB_1500gnLib_01_23_2023\\\\MERFISH\\\\H11_MERRep_set1',\n",
       " 'Z:\\\\DCBB_1500gnLib_01_23_2023\\\\MERFISH\\\\H11_MERRep_set2',\n",
       " 'Z:\\\\DCBB_1500gnLib_01_23_2023\\\\MERFISH\\\\H12_MERRep_set1',\n",
       " 'Z:\\\\DCBB_1500gnLib_01_23_2023\\\\MERFISH\\\\H12_MERRep_set2',\n",
       " 'Z:\\\\DCBB_1500gnLib_01_23_2023\\\\MERFISH\\\\H13_MERRep_set1',\n",
       " 'Z:\\\\DCBB_1500gnLib_01_23_2023\\\\MERFISH\\\\H13_MERRep_set2',\n",
       " 'Z:\\\\DCBB_1500gnLib_01_23_2023\\\\MERFISH\\\\H14_MER_set1',\n",
       " 'Z:\\\\DCBB_1500gnLib_01_23_2023\\\\MERFISH\\\\H14_MER_set2',\n",
       " 'Z:\\\\DCBB_1500gnLib_01_23_2023\\\\MERFISH\\\\H15_MER_set1',\n",
       " 'Z:\\\\DCBB_1500gnLib_01_23_2023\\\\MERFISH\\\\H15_MER_set2',\n",
       " 'Z:\\\\DCBB_1500gnLib_01_23_2023\\\\MERFISH\\\\H16_MER_set1',\n",
       " 'Z:\\\\DCBB_1500gnLib_01_23_2023\\\\MERFISH\\\\H16_MER_set2',\n",
       " 'Z:\\\\DCBB_1500gnLib_01_23_2023\\\\MERFISH\\\\H1_MERRep_set1',\n",
       " 'Z:\\\\DCBB_1500gnLib_01_23_2023\\\\MERFISH\\\\H1_MERRep_set2',\n",
       " 'Z:\\\\DCBB_1500gnLib_01_23_2023\\\\MERFISH\\\\H2_MER_set1',\n",
       " 'Z:\\\\DCBB_1500gnLib_01_23_2023\\\\MERFISH\\\\H2_MER_set2',\n",
       " 'Z:\\\\DCBB_1500gnLib_01_23_2023\\\\MERFISH\\\\H3_MER_set1',\n",
       " 'Z:\\\\DCBB_1500gnLib_01_23_2023\\\\MERFISH\\\\H3_MER_set2',\n",
       " 'Z:\\\\DCBB_1500gnLib_01_23_2023\\\\MERFISH\\\\H4_MER_set1',\n",
       " 'Z:\\\\DCBB_1500gnLib_01_23_2023\\\\MERFISH\\\\H4_MER_set2',\n",
       " 'Z:\\\\DCBB_1500gnLib_01_23_2023\\\\MERFISH\\\\H5_MER_set1',\n",
       " 'Z:\\\\DCBB_1500gnLib_01_23_2023\\\\MERFISH\\\\H5_MER_set2',\n",
       " 'Z:\\\\DCBB_1500gnLib_01_23_2023\\\\MERFISH\\\\H6_MER_set1',\n",
       " 'Z:\\\\DCBB_1500gnLib_01_23_2023\\\\MERFISH\\\\H6_MER_set2',\n",
       " 'Z:\\\\DCBB_1500gnLib_01_23_2023\\\\MERFISH\\\\H7_MER_set1',\n",
       " 'Z:\\\\DCBB_1500gnLib_01_23_2023\\\\MERFISH\\\\H7_MER_set2',\n",
       " 'Z:\\\\DCBB_1500gnLib_01_23_2023\\\\MERFISH\\\\H8_MER_set1',\n",
       " 'Z:\\\\DCBB_1500gnLib_01_23_2023\\\\MERFISH\\\\H8_MER_set2',\n",
       " 'Z:\\\\DCBB_1500gnLib_01_23_2023\\\\MERFISH\\\\H9_MERRep_set1',\n",
       " 'Z:\\\\DCBB_1500gnLib_01_23_2023\\\\MERFISH\\\\H9_MERRep_set2',\n",
       " 'Z:\\\\DCBB_1500gnLib_01_23_2023\\\\Controls\\\\H10_MER_set1',\n",
       " 'Z:\\\\DCBB_1500gnLib_01_23_2023\\\\Controls\\\\H10_MER_set2',\n",
       " 'Z:\\\\DCBB_1500gnLib_01_23_2023\\\\Controls\\\\H11_MER_set1',\n",
       " 'Z:\\\\DCBB_1500gnLib_01_23_2023\\\\Controls\\\\H11_MER_set2',\n",
       " 'Z:\\\\DCBB_1500gnLib_01_23_2023\\\\Controls\\\\H12_MER_set1',\n",
       " 'Z:\\\\DCBB_1500gnLib_01_23_2023\\\\Controls\\\\H12_MER_set2',\n",
       " 'Z:\\\\DCBB_1500gnLib_01_23_2023\\\\Controls\\\\H13_MER_set1',\n",
       " 'Z:\\\\DCBB_1500gnLib_01_23_2023\\\\Controls\\\\H1_MER_set1',\n",
       " 'Z:\\\\DCBB_1500gnLib_01_23_2023\\\\Controls\\\\H1_MER_set2',\n",
       " 'Z:\\\\DCBB_1500gnLib_01_23_2023\\\\Controls\\\\H1_PTB_set1',\n",
       " 'Z:\\\\DCBB_1500gnLib_01_23_2023\\\\Controls\\\\H1_PTB_set2',\n",
       " 'Z:\\\\DCBB_1500gnLib_01_23_2023\\\\Controls\\\\H1_Sox11_Rest_Dcx_set1',\n",
       " 'Z:\\\\DCBB_1500gnLib_01_23_2023\\\\Controls\\\\H1_Sox11_Rest_Dcx_set2',\n",
       " 'Z:\\\\DCBB_1500gnLib_01_23_2023\\\\Controls\\\\H2_Ptbp2_Neurod2_Mki67_set1',\n",
       " 'Z:\\\\DCBB_1500gnLib_01_23_2023\\\\Controls\\\\H2_Ptbp2_Neurod2_Mki67_set2',\n",
       " 'Z:\\\\DCBB_1500gnLib_01_23_2023\\\\Controls\\\\H3_Sox11_Rest_Dcx_set1',\n",
       " 'Z:\\\\DCBB_1500gnLib_01_23_2023\\\\Controls\\\\H3_Sox11_Rest_Dcx_set2',\n",
       " 'Z:\\\\DCBB_1500gnLib_01_23_2023\\\\Controls\\\\H9_MER_set1',\n",
       " 'Z:\\\\DCBB_1500gnLib_01_23_2023\\\\Controls\\\\H9_MER_set2']"
      ]
     },
     "execution_count": 16,
     "metadata": {},
     "output_type": "execute_result"
    }
   ],
   "source": [
    "#asm.Qfolders = [asm.Qfolders]\n"
   ]
  },
  {
   "cell_type": "code",
   "execution_count": 8,
   "id": "a4528f3c",
   "metadata": {},
   "outputs": [],
   "source": [
    "?asm.set_fov"
   ]
  },
  {
   "cell_type": "code",
   "execution_count": null,
   "id": "34b5703d",
   "metadata": {},
   "outputs": [],
   "source": [
    "def process_fov(ifov):\n",
    "    asm.set_fov(ifov)\n",
    "    final_segmentation(asm.fl_bk,\n",
    "                        analysis_folder=asm.save_folder,\n",
    "                        plt_val=True,\n",
    "                        rescz = 3,trimz=2, resc=4,p99=850)\n",
    "    if True:\n",
    "        for iQ in range(nQs):\n",
    "\n",
    "            asm.set_hybe(iQ)\n",
    "\n",
    "            completed = asm.check_finished_file()\n",
    "            if not completed:\n",
    "                asm.get_background(force=False)\n",
    "                asm.get_signal()\n",
    "                asm.compute_drift(sz=300)\n",
    "                #asm.get_aligned_ims()\n",
    "                #imf = asm.im_sig__/asm.im_bk__\n",
    "                resc=5\n",
    "                #asm.im_ration = np.array([norm_slice(im_,s=30)/np.median(np.abs(im_[::resc,::resc,::resc])) for im_ in asm.im_sig_])\n",
    "                #asm.im_ration = np.array([norm_slice(im_,s=30)/np.median(np.abs(im_[::resc,::resc,::resc])) for im_ in asm.im_sig_])\n",
    "\n",
    "                asm.dic_th = {0:1.25,1:0.5,2:1.25}\n",
    "                asm.get_Xh(th = 3,dic_psf=dic_psf)\n",
    "                asm.save_fits(plt_val=False)"
   ]
  }
 ],
 "metadata": {
  "kernelspec": {
   "display_name": "Python 3 (ipykernel)",
   "language": "python",
   "name": "python3"
  },
  "language_info": {
   "codemirror_mode": {
    "name": "ipython",
    "version": 3
   },
   "file_extension": ".py",
   "mimetype": "text/x-python",
   "name": "python",
   "nbconvert_exporter": "python",
   "pygments_lexer": "ipython3",
   "version": "3.8.16"
  }
 },
 "nbformat": 4,
 "nbformat_minor": 5
}
