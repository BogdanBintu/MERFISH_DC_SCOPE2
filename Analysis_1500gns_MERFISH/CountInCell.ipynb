{
 "cells": [
  {
   "cell_type": "markdown",
   "id": "c08bf3ae",
   "metadata": {},
   "source": [
    "### Determine thresholds"
   ]
  },
  {
   "cell_type": "code",
   "execution_count": 1,
   "id": "78b1a634",
   "metadata": {},
   "outputs": [],
   "source": [
    "from ioMicro import *"
   ]
  },
  {
   "cell_type": "code",
   "execution_count": 2,
   "id": "314edef3",
   "metadata": {},
   "outputs": [],
   "source": [
    "dec = decoder_simple(r\"Y:\\DCBBL1_3_15_2023__GFP\\MERFISH_Analysis\")"
   ]
  },
  {
   "cell_type": "code",
   "execution_count": 3,
   "id": "d1f59e98",
   "metadata": {},
   "outputs": [
    {
     "data": {
      "text/plain": [
       "363"
      ]
     },
     "execution_count": 3,
     "metadata": {},
     "output_type": "execute_result"
    }
   ],
   "source": [
    "dec.get_fovs_sets()\n",
    "len(dec.fov_sets)"
   ]
  },
  {
   "cell_type": "code",
   "execution_count": 9,
   "id": "db23babf",
   "metadata": {},
   "outputs": [],
   "source": [
    "def combine_cell_counts(save_folder = r\"Y:\\DCBBL1_3_15_2023__GFP\\MERFISH_Analysis\",pixel_size = 0.108*4):\n",
    "    "
   ]
  },
  {
   "cell_type": "code",
   "execution_count": 38,
   "id": "bc97e9d1",
   "metadata": {},
   "outputs": [],
   "source": [
    "def cts_fl_to_ifov_iset(ct_fl):\n",
    "    fov,set_=os.path.basename(ct_fl).replace('ctspercell_','').split('.')[0].split('--')\n",
    "    ifov = int(fov.split('__')[-1])\n",
    "    iset = int(set_.split('set')[-1])\n",
    "    return ifov,iset"
   ]
  },
  {
   "cell_type": "code",
   "execution_count": 44,
   "id": "b55a1e3d",
   "metadata": {},
   "outputs": [
    {
     "name": "stderr",
     "output_type": "stream",
     "text": [
      "100%|████████████████████████████████████████████████████████████████████████████████| 363/363 [00:30<00:00, 11.75it/s]\n"
     ]
    }
   ],
   "source": [
    "save_folder = r\"Y:\\DCBBL1_3_15_2023__GFP\\MERFISH_Analysis\"\n",
    "pixel_size = 0.108*4\n",
    "cts_fls = glob.glob(save_folder+os.sep+'ctspercell_*')\n",
    "Xcells,vols,icells = [],[],[]\n",
    "cts_all = []\n",
    "for fl in tqdm(cts_fls):\n",
    "    dic = np.load(fl)\n",
    "    Xcells_ = dic['Xcells']\n",
    "    Xfov = dic['Xfov']\n",
    "    icells_ = dic['icells']\n",
    "    vols_ = dic['vols']\n",
    "    gns_all=dic['gns_all']\n",
    "    Xcells.extend(Xcells_[:,1:]*pixel_size+Xfov[::-1]*[1,-1])\n",
    "    vols.extend(vols_)\n",
    "    ifov,iset = cts_fl_to_ifov_iset(fl)\n",
    "    icells.extend(10**6*ifov+10**10*iset+icells_)\n",
    "    cts_all.extend(dic['cts_all'].T)\n",
    "Xcells = np.array(Xcells)\n",
    "icells = np.array(icells)\n",
    "vols = np.array(vols)\n",
    "cts_all = np.array(cts_all)\n",
    "    #np.savez(save_fl_final,gns_all=gns_all,cts_all=cts_all,vols=dec.vols,Xcells=Xcells,Xfov=[dec.xfov,dec.yfov],icells = dec.icells)"
   ]
  },
  {
   "cell_type": "code",
   "execution_count": 46,
   "id": "4daa44f3",
   "metadata": {},
   "outputs": [],
   "source": [
    "np.savez(save_folder+os.sep+'finalctspercell.npz',cts_all=cts_all,Xcells=Xcells,icells=icells,vols=vols,gns_all=gns_all)"
   ]
  },
  {
   "cell_type": "code",
   "execution_count": 76,
   "id": "ce9aa7ab",
   "metadata": {},
   "outputs": [
    {
     "data": {
      "text/plain": [
       "array(['blank0280', 'blank0281', 'blank0282', 'blank0283', 'blank0284',\n",
       "       'blank0285', 'blank0286', 'blank0287', 'blank0288', 'blank0289',\n",
       "       'blank0290', 'blank0291', 'blank0292', 'blank0293', 'blank0294',\n",
       "       'blank0295', 'blank0296', 'blank0297', 'blank0298', 'blank0299',\n",
       "       'blank0300', 'Acer3', 'Actg1', 'Adcy2', 'Ahcyl2', 'Aldoc', 'Ascl1',\n",
       "       'Auts2', 'Bhlhe22', 'Bmp2', 'Bsg', 'C1qa', 'Calb1', 'Cck', 'Cdh12',\n",
       "       'Cdk4', 'Chrdl1', 'Cnr1', 'Csmd1', 'Cst3', 'Dgat2', 'Dlx1', 'Dsp',\n",
       "       'Eif4a2', 'Emx2', 'Eomes', 'Fam107a', 'Flt1', 'Foxa2', 'Foxg1',\n",
       "       'Gabbr1', 'Gad1', 'Gja1', 'Gpc4', 'Grb14', 'Grin2c', 'Hapln2',\n",
       "       'Hmgn3', 'Id3', 'Igfbpl1', 'Kcnd2', 'Lhx3', 'Lockd', 'Lrp1b',\n",
       "       'Mal', 'Mapk4', 'Mbp', 'Mgat4c', 'Mrc1', 'Myc', 'Nckap5',\n",
       "       'Neurod1', 'Neurod6', 'Nfia', 'Nkain4', 'Nog', 'Npy2r', 'Nrgn',\n",
       "       'Ntng1', 'Ogt', 'Olr1', 'Padi2', 'Pam', 'Pde1a', 'Plekha1', 'Pnoc',\n",
       "       'Prox1', 'Ptbp2', 'Rasl10a', 'Reln', 'Riiad1', 'Rpl38', 'S1pr3',\n",
       "       'Serping1', 'Sgk1', 'Slc1a3', 'Slco1c1', 'Sox11', 'Sox4', 'Spag5',\n",
       "       'Steap4', 'Tardbp', 'Tgfb1', 'Thrsp', 'Tmsb10', 'Tpt1', 'Tshz2',\n",
       "       'Unc13c', 'Vip', 'Wfs1', 'Zfp36l1', 'Acta2', 'Adarb2', 'Adgrl3',\n",
       "       'Aif1l', 'Aqp4', 'Atp1a2', 'Bcl2', 'Bmp4', 'Bsn', 'C1ql1', 'Calb2',\n",
       "       'Casp3', 'Cd14', 'Cdh13', 'Clasp1', 'Cntnap5b', 'Cspg4', 'Dcc',\n",
       "       'Dgkb', 'Dlx2', 'Efna5', 'Elavl2', 'Elavl3', 'Erbb4', 'Etv4',\n",
       "       'Fam214a', 'Fos', 'Frmd4a', 'Fxyd6', 'Fxyd7', 'Gabra1', 'Gda',\n",
       "       'Gli1', 'Gpm6a', 'Grp', 'Hdac8', 'Hopx', 'Hs6st3', 'Inpp4b',\n",
       "       'Insm1', 'Kif4', 'Lhx6', 'Lpar1', 'Lrrtm4', 'Marcks', 'Mcm2',\n",
       "       'Mertk', 'Mgl2', 'Mt2', 'Myf5', 'Ndst4', 'Nell1', 'Neurod2',\n",
       "       'Neurog1', 'Ngef', 'Nmb', 'Notch3', 'Nr3c2', 'Ntrk2', 'Olig1',\n",
       "       'Opalin', 'Pax6', 'Pdgfra', 'Pou3f2', 'Prom1', 'Psap', 'Ptgds',\n",
       "       'Rbfox3', 'Rest', 'Rtn4', 'Sall3', 'Scd2', 'Sema3a', 'Sgcd',\n",
       "       'Sin3a', 'Slc2a1', 'Slit2', 'Sorcs1', 'Sox2', 'Spink8', 'Stox2',\n",
       "       'Tac2', 'Tbr1', 'Thy1', 'Trim2', 'Unc13a', 'Unc5c', 'Vnn1',\n",
       "       'Vps13c', 'Wipf3', 'Abhd2', 'Actb', 'Adcy1', 'Agt', 'Aldh1a1',\n",
       "       'Arx', 'Atp1b1', 'Bdnf', 'Brinp3', 'Btg2', 'C1ql3', 'Casp9',\n",
       "       'Cd74', 'Cdh18', 'Cdk1', 'Cldn5', 'Cox6a1', 'Cspg5', 'Dcx', 'Dgkh',\n",
       "       'Dpysl3', 'Egfem1', 'Elavl4', 'Emx1', 'F3', 'Fam210b', 'Fbll1',\n",
       "       'Foxa1', 'Frzb', 'Fyn', 'Gabra2', 'Gal', 'Gfap', 'Gm10076', 'Gnb1',\n",
       "       'Gpr17', 'H2afz', 'Hes5', 'Htra1', 'Htt', 'Junb', 'Kcng4',\n",
       "       'Laptm5', 'Llgl1', 'Map3k15', 'Mast4', 'Mcu', 'Mfge8', 'Mki67',\n",
       "       'Mtrf1', 'Mxd3', 'Myod1', 'Necab3', 'Nes', 'Neurod4', 'Neurog2',\n",
       "       'Nkain2', 'Nnat', 'Npas3', 'Nrg3', 'Ntf3', 'Nxph1', 'Olig2',\n",
       "       'Opcml', 'Pde10a', 'Pex5l', 'Plxna1', 'Prkg1', 'Ptbp1', 'Pvalb',\n",
       "       'Rbms3', 'Rhcg', 'Robo1', 'S100b', 'Sdk1', 'Serpinf1', 'Sgcz',\n",
       "       'Slc17a6', 'Slc1a2', 'Slc5a7', 'Smarca4', 'Sox10', 'Sox9', 'Sst',\n",
       "       'Synpr', 'Tenm2', 'Tfap2c', 'Tmem108', 'Top2a', 'Trps1', 'Unc13b',\n",
       "       'Vim', 'Wdr17', 'Wnt8b', 'Zbtb20', 'Aldh1l1', 'GFP_rna',\n",
       "       'GFP_Ab1_mean', 'GFP_Ab1_th'], dtype='<U12')"
      ]
     },
     "execution_count": 76,
     "metadata": {},
     "output_type": "execute_result"
    }
   ],
   "source": [
    "gns_all[-300:]\n"
   ]
  },
  {
   "cell_type": "code",
   "execution_count": 128,
   "id": "ac748692",
   "metadata": {},
   "outputs": [],
   "source": [
    "gene = 'GFP_Ab1_th'\n",
    "ign = list(gns_all).index(gene)\n",
    "cts_ = cts_all[:,ign]\n",
    "nmax=15\n",
    "#nmax= np.percentile(cts_,99)\n",
    "cnorm=np.clip(cts_/nmax,0,1)\n",
    "size = 10+cnorm*20\n",
    "import matplotlib.cm as cmap\n",
    "col = cmap.coolwarm(cnorm)\n",
    "args = np.argsort(cnorm)\n",
    "napari.view_points(Xcells[args,::-1],face_color=col[args],size=size[args],name=gene);"
   ]
  },
  {
   "cell_type": "code",
   "execution_count": null,
   "id": "e1038fb2",
   "metadata": {},
   "outputs": [],
   "source": [
    "import scanpy as sc"
   ]
  },
  {
   "cell_type": "code",
   "execution_count": 129,
   "id": "65e8cbec",
   "metadata": {},
   "outputs": [
    {
     "data": {
      "text/plain": [
       "array(['blank0001', 'blank0002', 'blank0003', 'blank0004', 'blank0005',\n",
       "       'blank0006', 'blank0007', 'blank0008', 'blank0009', 'blank0010',\n",
       "       'blank0011', 'blank0012', 'blank0013', 'blank0014', 'blank0015',\n",
       "       'blank0016', 'blank0017', 'blank0018', 'blank0019', 'blank0020',\n",
       "       'blank0021', 'blank0022', 'blank0023', 'blank0024', 'blank0025',\n",
       "       'blank0026', 'blank0027', 'blank0028', 'blank0029', 'blank0030',\n",
       "       'blank0031', 'blank0032', 'blank0033', 'blank0034', 'blank0035',\n",
       "       'blank0036', 'blank0037', 'blank0038', 'blank0039', 'blank0040',\n",
       "       'blank0041', 'blank0042', 'blank0043', 'blank0044', 'blank0045',\n",
       "       'blank0046', 'blank0047', 'blank0048', 'blank0049', 'blank0050',\n",
       "       'blank0051', 'blank0052', 'blank0053', 'blank0054', 'blank0055',\n",
       "       'blank0056', 'blank0057', 'blank0058', 'blank0059', 'blank0060',\n",
       "       'blank0061', 'blank0062', 'blank0063', 'blank0064', 'blank0065',\n",
       "       'blank0066', 'blank0067', 'blank0068', 'blank0069', 'blank0070',\n",
       "       'blank0071', 'blank0072', 'blank0073', 'blank0074', 'blank0075',\n",
       "       'blank0076', 'blank0077', 'blank0078', 'blank0079', 'blank0080',\n",
       "       'blank0081', 'blank0082', 'blank0083', 'blank0084', 'blank0085',\n",
       "       'blank0086', 'blank0087', 'blank0088', 'blank0089', 'blank0090',\n",
       "       'blank0091', 'blank0092', 'blank0093', 'blank0094', 'blank0095',\n",
       "       'blank0096', 'blank0097', 'blank0098', 'blank0099', 'blank0100',\n",
       "       'blank0101', 'blank0102', 'blank0103', 'blank0104', 'blank0105',\n",
       "       'blank0106', 'blank0107', 'blank0108', 'blank0109', 'blank0110',\n",
       "       'blank0111', 'blank0112', 'blank0113', 'blank0114', 'blank0115',\n",
       "       'blank0116', 'blank0117', 'blank0118', 'blank0119', 'blank0120',\n",
       "       'blank0121', 'blank0122', 'blank0123', 'blank0124', 'blank0125',\n",
       "       'blank0126', 'blank0127', 'blank0128', 'blank0129', 'blank0130',\n",
       "       'blank0131', 'blank0132', 'blank0133', 'blank0134', 'blank0135',\n",
       "       'blank0136', 'blank0137', 'blank0138', 'blank0139', 'blank0140',\n",
       "       'blank0141', 'blank0142', 'blank0143', 'blank0144', 'blank0145',\n",
       "       'blank0146', 'blank0147', 'blank0148', 'blank0149', 'blank0150',\n",
       "       'blank0151', 'blank0152', 'blank0153', 'blank0154', 'blank0155',\n",
       "       'blank0156', 'blank0157', 'blank0158', 'blank0159', 'blank0160',\n",
       "       'blank0161', 'blank0162', 'blank0163', 'blank0164', 'blank0165',\n",
       "       'blank0166', 'blank0167', 'blank0168', 'blank0169', 'blank0170',\n",
       "       'blank0171', 'blank0172', 'blank0173', 'blank0174', 'blank0175',\n",
       "       'blank0176', 'blank0177', 'blank0178', 'blank0179', 'blank0180',\n",
       "       'blank0181', 'blank0182', 'blank0183', 'blank0184', 'blank0185',\n",
       "       'blank0186', 'blank0187', 'blank0188', 'blank0189', 'blank0190',\n",
       "       'blank0191', 'blank0192', 'blank0193', 'blank0194', 'blank0195',\n",
       "       'blank0196', 'blank0197', 'blank0198', 'blank0199', 'blank0200',\n",
       "       'blank0201', 'blank0202', 'blank0203', 'blank0204', 'blank0205',\n",
       "       'blank0206', 'blank0207', 'blank0208', 'blank0209', 'blank0210',\n",
       "       'blank0211', 'blank0212', 'blank0213', 'blank0214', 'blank0215',\n",
       "       'blank0216', 'blank0217', 'blank0218', 'blank0219', 'blank0220',\n",
       "       'blank0221', 'blank0222', 'blank0223', 'blank0224', 'blank0225',\n",
       "       'blank0226', 'blank0227', 'blank0228', 'blank0229', 'blank0230',\n",
       "       'blank0231', 'blank0232', 'blank0233', 'blank0234', 'blank0235',\n",
       "       'blank0236', 'blank0237', 'blank0238', 'blank0239', 'blank0240',\n",
       "       'blank0241', 'blank0242', 'blank0243', 'blank0244', 'blank0245',\n",
       "       'blank0246', 'blank0247', 'blank0248', 'blank0249', 'blank0250',\n",
       "       'blank0251', 'blank0252', 'blank0253', 'blank0254', 'blank0255',\n",
       "       'blank0256', 'blank0257', 'blank0258', 'blank0259', 'blank0260',\n",
       "       'blank0261', 'blank0262', 'blank0263', 'blank0264', 'blank0265',\n",
       "       'blank0266', 'blank0267', 'blank0268', 'blank0269', 'blank0270',\n",
       "       'blank0271', 'blank0272', 'blank0273', 'blank0274', 'blank0275',\n",
       "       'blank0276', 'blank0277', 'blank0278', 'blank0279', 'blank0280',\n",
       "       'blank0281', 'blank0282', 'blank0283', 'blank0284', 'blank0285',\n",
       "       'blank0286', 'blank0287', 'blank0288', 'blank0289', 'blank0290',\n",
       "       'blank0291', 'blank0292', 'blank0293', 'blank0294', 'blank0295',\n",
       "       'blank0296', 'blank0297', 'blank0298', 'blank0299', 'blank0300',\n",
       "       'Acer3', 'Actg1', 'Adcy2', 'Ahcyl2', 'Aldoc', 'Ascl1', 'Auts2',\n",
       "       'Bhlhe22', 'Bmp2', 'Bsg', 'C1qa', 'Calb1', 'Cck', 'Cdh12', 'Cdk4',\n",
       "       'Chrdl1', 'Cnr1', 'Csmd1', 'Cst3', 'Dgat2', 'Dlx1', 'Dsp',\n",
       "       'Eif4a2', 'Emx2', 'Eomes', 'Fam107a', 'Flt1', 'Foxa2', 'Foxg1',\n",
       "       'Gabbr1', 'Gad1', 'Gja1', 'Gpc4', 'Grb14', 'Grin2c', 'Hapln2',\n",
       "       'Hmgn3', 'Id3', 'Igfbpl1', 'Kcnd2', 'Lhx3', 'Lockd', 'Lrp1b',\n",
       "       'Mal', 'Mapk4', 'Mbp', 'Mgat4c', 'Mrc1', 'Myc', 'Nckap5',\n",
       "       'Neurod1', 'Neurod6', 'Nfia', 'Nkain4', 'Nog', 'Npy2r', 'Nrgn',\n",
       "       'Ntng1', 'Ogt', 'Olr1', 'Padi2', 'Pam', 'Pde1a', 'Plekha1', 'Pnoc',\n",
       "       'Prox1', 'Ptbp2', 'Rasl10a', 'Reln', 'Riiad1', 'Rpl38', 'S1pr3',\n",
       "       'Serping1', 'Sgk1', 'Slc1a3', 'Slco1c1', 'Sox11', 'Sox4', 'Spag5',\n",
       "       'Steap4', 'Tardbp', 'Tgfb1', 'Thrsp', 'Tmsb10', 'Tpt1', 'Tshz2',\n",
       "       'Unc13c', 'Vip', 'Wfs1', 'Zfp36l1', 'Acta2', 'Adarb2', 'Adgrl3',\n",
       "       'Aif1l', 'Aqp4', 'Atp1a2', 'Bcl2', 'Bmp4', 'Bsn', 'C1ql1', 'Calb2',\n",
       "       'Casp3', 'Cd14', 'Cdh13', 'Clasp1', 'Cntnap5b', 'Cspg4', 'Dcc',\n",
       "       'Dgkb', 'Dlx2', 'Efna5', 'Elavl2', 'Elavl3', 'Erbb4', 'Etv4',\n",
       "       'Fam214a', 'Fos', 'Frmd4a', 'Fxyd6', 'Fxyd7', 'Gabra1', 'Gda',\n",
       "       'Gli1', 'Gpm6a', 'Grp', 'Hdac8', 'Hopx', 'Hs6st3', 'Inpp4b',\n",
       "       'Insm1', 'Kif4', 'Lhx6', 'Lpar1', 'Lrrtm4', 'Marcks', 'Mcm2',\n",
       "       'Mertk', 'Mgl2', 'Mt2', 'Myf5', 'Ndst4', 'Nell1', 'Neurod2',\n",
       "       'Neurog1', 'Ngef', 'Nmb', 'Notch3', 'Nr3c2', 'Ntrk2', 'Olig1',\n",
       "       'Opalin', 'Pax6', 'Pdgfra', 'Pou3f2', 'Prom1', 'Psap', 'Ptgds',\n",
       "       'Rbfox3', 'Rest', 'Rtn4', 'Sall3', 'Scd2', 'Sema3a', 'Sgcd',\n",
       "       'Sin3a', 'Slc2a1', 'Slit2', 'Sorcs1', 'Sox2', 'Spink8', 'Stox2',\n",
       "       'Tac2', 'Tbr1', 'Thy1', 'Trim2', 'Unc13a', 'Unc5c', 'Vnn1',\n",
       "       'Vps13c', 'Wipf3', 'Abhd2', 'Actb', 'Adcy1', 'Agt', 'Aldh1a1',\n",
       "       'Arx', 'Atp1b1', 'Bdnf', 'Brinp3', 'Btg2', 'C1ql3', 'Casp9',\n",
       "       'Cd74', 'Cdh18', 'Cdk1', 'Cldn5', 'Cox6a1', 'Cspg5', 'Dcx', 'Dgkh',\n",
       "       'Dpysl3', 'Egfem1', 'Elavl4', 'Emx1', 'F3', 'Fam210b', 'Fbll1',\n",
       "       'Foxa1', 'Frzb', 'Fyn', 'Gabra2', 'Gal', 'Gfap', 'Gm10076', 'Gnb1',\n",
       "       'Gpr17', 'H2afz', 'Hes5', 'Htra1', 'Htt', 'Junb', 'Kcng4',\n",
       "       'Laptm5', 'Llgl1', 'Map3k15', 'Mast4', 'Mcu', 'Mfge8', 'Mki67',\n",
       "       'Mtrf1', 'Mxd3', 'Myod1', 'Necab3', 'Nes', 'Neurod4', 'Neurog2',\n",
       "       'Nkain2', 'Nnat', 'Npas3', 'Nrg3', 'Ntf3', 'Nxph1', 'Olig2',\n",
       "       'Opcml', 'Pde10a', 'Pex5l', 'Plxna1', 'Prkg1', 'Ptbp1', 'Pvalb',\n",
       "       'Rbms3', 'Rhcg', 'Robo1', 'S100b', 'Sdk1', 'Serpinf1', 'Sgcz',\n",
       "       'Slc17a6', 'Slc1a2', 'Slc5a7', 'Smarca4', 'Sox10', 'Sox9', 'Sst',\n",
       "       'Synpr', 'Tenm2', 'Tfap2c', 'Tmem108', 'Top2a', 'Trps1', 'Unc13b',\n",
       "       'Vim', 'Wdr17', 'Wnt8b', 'Zbtb20', 'Aldh1l1', 'GFP_rna',\n",
       "       'GFP_Ab1_mean', 'GFP_Ab1_th'], dtype='<U12')"
      ]
     },
     "execution_count": 129,
     "metadata": {},
     "output_type": "execute_result"
    }
   ],
   "source": [
    "gns_all"
   ]
  },
  {
   "cell_type": "code",
   "execution_count": 118,
   "id": "739a14a2",
   "metadata": {},
   "outputs": [
    {
     "data": {
      "text/plain": [
       "(array([7.00177174e-01, 1.06431201e-01, 6.66835404e-02, 4.07040957e-02,\n",
       "        2.38107839e-02, 1.42797975e-02, 6.78401595e-03, 3.68116276e-03,\n",
       "        1.90174873e-03, 9.45313698e-04, 4.67096180e-04, 2.33548090e-04,\n",
       "        1.77941402e-04, 1.11213376e-04, 7.78493634e-05, 6.67280258e-05,\n",
       "        3.33640129e-05, 5.56066881e-05, 3.33640129e-05, 0.00000000e+00,\n",
       "        0.00000000e+00, 0.00000000e+00, 0.00000000e+00, 0.00000000e+00,\n",
       "        1.11213376e-05, 0.00000000e+00, 0.00000000e+00, 0.00000000e+00,\n",
       "        0.00000000e+00]),\n",
       " array([ 0.        ,  1.03448276,  2.06896552,  3.10344828,  4.13793103,\n",
       "         5.17241379,  6.20689655,  7.24137931,  8.27586207,  9.31034483,\n",
       "        10.34482759, 11.37931034, 12.4137931 , 13.44827586, 14.48275862,\n",
       "        15.51724138, 16.55172414, 17.5862069 , 18.62068966, 19.65517241,\n",
       "        20.68965517, 21.72413793, 22.75862069, 23.79310345, 24.82758621,\n",
       "        25.86206897, 26.89655172, 27.93103448, 28.96551724, 30.        ]),\n",
       " <BarContainer object of 29 artists>)"
      ]
     },
     "execution_count": 118,
     "metadata": {},
     "output_type": "execute_result"
    },
    {
     "data": {
      "image/png": "[encoded data removed]",
      "text/plain": [
       "<Figure size 640x480 with 1 Axes>"
      ]
     },
     "metadata": {},
     "output_type": "display_data"
    }
   ],
   "source": [
    "plt.hist(cts_all[icells//10**10==1,ign],bins=np.linspace(0,30,30),density='True')\n",
    "plt.hist(cts_all[icells//10**10==2,ign],bins=np.linspace(0,30,30),density='True')\n"
   ]
  },
  {
   "cell_type": "code",
   "execution_count": 95,
   "id": "ec665f90",
   "metadata": {},
   "outputs": [
    {
     "data": {
      "text/plain": [
       "array(['Vim', 'Wdr17', 'Wnt8b', 'Zbtb20', 'Aldh1l1'], dtype='<U12')"
      ]
     },
     "execution_count": 95,
     "metadata": {},
     "output_type": "execute_result"
    }
   ],
   "source": [
    "gns_all[:-3]"
   ]
  },
  {
   "cell_type": "code",
   "execution_count": 98,
   "id": "86fda3e1",
   "metadata": {},
   "outputs": [
    {
     "data": {
      "text/plain": [
       "'Nrgn'"
      ]
     },
     "execution_count": 98,
     "metadata": {},
     "output_type": "execute_result"
    }
   ],
   "source": []
  },
  {
   "cell_type": "code",
   "execution_count": 26,
   "id": "0ba6a569",
   "metadata": {},
   "outputs": [
    {
     "data": {
      "text/plain": [
       "Viewer(axes=Axes(visible=False, labels=True, colored=True, dashed=False, arrows=True), camera=Camera(center=(0.0, 1173.6829720725132, 543.1122779850748), zoom=0.1721526431317588, angles=(0.0, 0.0, 90.0), perspective=0.0, interactive=True), cursor=Cursor(position=(1.0, 1.0), scaled=True, size=1, style=<CursorStyle.STANDARD: 'standard'>), dims=Dims(ndim=2, ndisplay=2, last_used=0, range=((-2366.344, 4714.709944145026, 1.0), (-5455.380249999999, 6542.604805970149, 1.0)), current_step=(3540, 5998), order=(0, 1), axis_labels=('0', '1')), grid=GridCanvas(stride=1, shape=(-1, -1), enabled=False), layers=[<Points layer 'Xcells' at 0x22a3c245fa0>], scale_bar=ScaleBar(visible=False, colored=False, color=array([1., 0., 1., 1.], dtype=float32), ticks=True, position=<Position.BOTTOM_RIGHT: 'bottom_right'>, font_size=10.0, box=False, box_color=array([0. , 0. , 0. , 0.6], dtype=float32), unit=None), text_overlay=TextOverlay(visible=False, color=array([0.5, 0.5, 0.5, 1. ], dtype=float32), font_size=10.0, position=<TextOverlayPosition.TOP_LEFT: 'top_left'>, text=''), overlays=Overlays(interaction_box=InteractionBox(points=None, show=False, show_handle=False, show_vertices=False, selection_box_drag=None, selection_box_final=None, transform_start=<napari.utils.transforms.transforms.Affine object at 0x0000022A33C78850>, transform_drag=<napari.utils.transforms.transforms.Affine object at 0x0000022A33BF1F10>, transform_final=<napari.utils.transforms.transforms.Affine object at 0x0000022A33BF1640>, transform=<napari.utils.transforms.transforms.Affine object at 0x0000022A3F3CA460>, allow_new_selection=True, selected_vertex=None)), help='use <2> for add points, use <3> for select points', status='Ready', tooltip=Tooltip(visible=False, text=''), theme='dark', title='napari', mouse_over_canvas=False, mouse_move_callbacks=[<function InteractionBoxMouseBindings.initialize_mouse_events.<locals>.mouse_move at 0x0000022A34C1D9D0>], mouse_drag_callbacks=[<function InteractionBoxMouseBindings.initialize_mouse_events.<locals>.mouse_drag at 0x0000022A34C1D790>], mouse_double_click_callbacks=[], mouse_wheel_callbacks=[<function dims_scroll at 0x0000022A32812CA0>], _persisted_mouse_event={}, _mouse_drag_gen={}, _mouse_wheel_gen={}, keymap={'Shift': <function InteractionBoxMouseBindings.initialize_key_events.<locals>.hold_to_lock_aspect_ratio at 0x0000022A34C1D430>, 'Control-Shift-R': <function InteractionBoxMouseBindings._reset_active_layer_affine at 0x0000022A34C1D670>, 'Control-Shift-A': <function InteractionBoxMouseBindings._transform_active_layer at 0x0000022A34C1D4C0>})"
      ]
     },
     "execution_count": 26,
     "metadata": {},
     "output_type": "execute_result"
    }
   ],
   "source": [
    "\n",
    "import napari\n",
    "\n",
    "napari.view_points(Xcells)"
   ]
  },
  {
   "cell_type": "code",
   "execution_count": null,
   "id": "7a8b0b96",
   "metadata": {},
   "outputs": [],
   "source": [
    "cts_fls = glob.glob(save_folder+os.sep+'ctspercell_*')\n",
    "    \n",
    "for fl in cts_fls:\n",
    "    dic = np.load(fl)\n",
    "    Xcells = dic['Xcells']\n",
    "    Xfov = dic['Xfov']\n",
    "    icells_ = dic['icells']"
   ]
  },
  {
   "cell_type": "code",
   "execution_count": null,
   "id": "367161a7",
   "metadata": {},
   "outputs": [],
   "source": []
  },
  {
   "cell_type": "code",
   "execution_count": 4,
   "id": "b52ba9f1",
   "metadata": {},
   "outputs": [
    {
     "name": "stderr",
     "output_type": "stream",
     "text": [
      "100%|██████████████████████████████████████████████████████████████████████████████| 363/363 [00:00<00:00, 1117.82it/s]\n"
     ]
    }
   ],
   "source": [
    "test = []\n",
    "for dec.fov,dec.set_ in tqdm(dec.fov_sets):\n",
    "    save_fl_final = dec.save_folder+os.sep+'ctspercell_'+dec.fov.split('.')[0]+'--'+dec.set_+'.npz'\n",
    "    test.append(os.path.exists(save_fl_final))"
   ]
  },
  {
   "cell_type": "code",
   "execution_count": 7,
   "id": "5d453f64",
   "metadata": {},
   "outputs": [
    {
     "data": {
      "text/plain": [
       "363"
      ]
     },
     "execution_count": 7,
     "metadata": {},
     "output_type": "execute_result"
    }
   ],
   "source": [
    "len(glob.glob(dec.save_folder+os.sep+'ctspercell_*'))"
   ]
  },
  {
   "cell_type": "markdown",
   "id": "75b3b771",
   "metadata": {},
   "source": [
    "### Calculate for each cell the good decoding spots"
   ]
  },
  {
   "cell_type": "code",
   "execution_count": 6,
   "id": "2fe1095c",
   "metadata": {
    "scrolled": true
   },
   "outputs": [
    {
     "name": "stderr",
     "output_type": "stream",
     "text": [
      "\r",
      "  0%|                                                                                          | 0/363 [00:00<?, ?it/s]"
     ]
    },
    {
     "name": "stdout",
     "output_type": "stream",
     "text": [
      "Loaded decoded: -1.4077234268188477\n"
     ]
    },
    {
     "name": "stderr",
     "output_type": "stream",
     "text": [
      "\n",
      "  0%|                                                                                           | 0/48 [00:00<?, ?it/s]\u001b[A\n",
      "  4%|███▍                                                                               | 2/48 [00:00<00:04, 10.48it/s]\u001b[A\n",
      "  8%|██████▉                                                                            | 4/48 [00:00<00:04, 10.92it/s]\u001b[A\n",
      " 12%|██████████▍                                                                        | 6/48 [00:00<00:03, 10.88it/s]\u001b[A\n",
      " 17%|█████████████▊                                                                     | 8/48 [00:00<00:03, 10.21it/s]\u001b[A\n",
      " 21%|█████████████████                                                                 | 10/48 [00:00<00:03, 10.42it/s]\u001b[A\n",
      " 25%|████████████████████▌                                                             | 12/48 [00:01<00:03, 10.49it/s]\u001b[A\n",
      " 29%|███████████████████████▉                                                          | 14/48 [00:01<00:03, 10.25it/s]\u001b[A\n",
      " 33%|███████████████████████████▎                                                      | 16/48 [00:01<00:03, 10.55it/s]\u001b[A\n",
      " 38%|██████████████████████████████▊                                                   | 18/48 [00:01<00:02, 10.37it/s]\u001b[A\n",
      " 42%|██████████████████████████████████▏                                               | 20/48 [00:01<00:02, 10.40it/s]\u001b[A\n",
      " 46%|█████████████████████████████████████▌                                            | 22/48 [00:02<00:02, 10.44it/s]\u001b[A\n",
      " 50%|█████████████████████████████████████████                                         | 24/48 [00:02<00:02, 10.24it/s]\u001b[A\n",
      " 54%|████████████████████████████████████████████▍                                     | 26/48 [00:02<00:02, 10.70it/s]\u001b[A\n",
      " 58%|███████████████████████████████████████████████▊                                  | 28/48 [00:02<00:01, 10.66it/s]\u001b[A\n",
      " 62%|███████████████████████████████████████████████████▎                              | 30/48 [00:02<00:01, 10.80it/s]\u001b[A\n",
      " 67%|██████████████████████████████████████████████████████▋                           | 32/48 [00:03<00:01, 10.50it/s]\u001b[A\n",
      " 71%|██████████████████████████████████████████████████████████                        | 34/48 [00:03<00:01, 10.62it/s]\u001b[A\n",
      " 75%|█████████████████████████████████████████████████████████████▌                    | 36/48 [00:03<00:01, 10.80it/s]\u001b[A\n",
      " 79%|████████████████████████████████████████████████████████████████▉                 | 38/48 [00:03<00:00, 10.94it/s]\u001b[A\n",
      " 83%|████████████████████████████████████████████████████████████████████▎             | 40/48 [00:03<00:00, 10.72it/s]\u001b[A\n",
      " 88%|███████████████████████████████████████████████████████████████████████▊          | 42/48 [00:03<00:00, 10.57it/s]\u001b[A\n",
      " 92%|███████████████████████████████████████████████████████████████████████████▏      | 44/48 [00:04<00:00, 10.80it/s]\u001b[A\n",
      " 96%|██████████████████████████████████████████████████████████████████████████████▌   | 46/48 [00:04<00:00, 10.78it/s]\u001b[A\n",
      "100%|██████████████████████████████████████████████████████████████████████████████████| 48/48 [00:04<00:00, 10.61it/s]\u001b[A\n",
      "\n",
      "  0%|                                                                                           | 0/48 [00:00<?, ?it/s]\u001b[A\n",
      "  4%|███▍                                                                               | 2/48 [00:00<00:03, 14.73it/s]\u001b[A\n",
      "  8%|██████▉                                                                            | 4/48 [00:00<00:03, 14.40it/s]\u001b[A\n",
      " 12%|██████████▍                                                                        | 6/48 [00:00<00:02, 14.37it/s]\u001b[A\n",
      " 17%|█████████████▊                                                                     | 8/48 [00:00<00:02, 13.68it/s]\u001b[A\n",
      " 21%|█████████████████                                                                 | 10/48 [00:00<00:02, 13.64it/s]\u001b[A\n",
      " 25%|████████████████████▌                                                             | 12/48 [00:00<00:02, 13.35it/s]\u001b[A\n",
      " 29%|███████████████████████▉                                                          | 14/48 [00:01<00:02, 12.97it/s]\u001b[A\n",
      " 33%|███████████████████████████▎                                                      | 16/48 [00:01<00:02, 13.46it/s]\u001b[A\n",
      " 38%|██████████████████████████████▊                                                   | 18/48 [00:01<00:02, 13.17it/s]\u001b[A\n",
      " 42%|██████████████████████████████████▏                                               | 20/48 [00:01<00:02, 13.36it/s]\u001b[A\n",
      " 46%|█████████████████████████████████████▌                                            | 22/48 [00:01<00:01, 13.36it/s]\u001b[A\n",
      " 50%|█████████████████████████████████████████                                         | 24/48 [00:01<00:01, 13.25it/s]\u001b[A\n",
      " 54%|████████████████████████████████████████████▍                                     | 26/48 [00:01<00:01, 13.77it/s]\u001b[A\n",
      " 58%|███████████████████████████████████████████████▊                                  | 28/48 [00:02<00:01, 13.91it/s]\u001b[A\n",
      " 62%|███████████████████████████████████████████████████▎                              | 30/48 [00:02<00:01, 14.23it/s]\u001b[A\n",
      " 67%|██████████████████████████████████████████████████████▋                           | 32/48 [00:02<00:01, 13.91it/s]\u001b[A\n",
      " 71%|██████████████████████████████████████████████████████████                        | 34/48 [00:02<00:00, 14.22it/s]\u001b[A\n",
      " 75%|█████████████████████████████████████████████████████████████▌                    | 36/48 [00:02<00:00, 14.51it/s]\u001b[A\n",
      " 79%|████████████████████████████████████████████████████████████████▉                 | 38/48 [00:02<00:00, 14.28it/s]\u001b[A\n",
      " 83%|████████████████████████████████████████████████████████████████████▎             | 40/48 [00:02<00:00, 14.39it/s]\u001b[A\n",
      " 88%|███████████████████████████████████████████████████████████████████████▊          | 42/48 [00:03<00:00, 14.08it/s]\u001b[A\n",
      " 92%|███████████████████████████████████████████████████████████████████████████▏      | 44/48 [00:03<00:00, 14.14it/s]\u001b[A\n",
      " 96%|██████████████████████████████████████████████████████████████████████████████▌   | 46/48 [00:03<00:00, 14.33it/s]\u001b[A\n",
      "100%|██████████████████████████████████████████████████████████████████████████████████| 48/48 [00:03<00:00, 13.87it/s]\u001b[A\n",
      "\n",
      "  0%|                                                                                           | 0/48 [00:00<?, ?it/s]\u001b[A\n",
      "  4%|███▍                                                                               | 2/48 [00:00<00:03, 14.38it/s]\u001b[A\n",
      "  8%|██████▉                                                                            | 4/48 [00:00<00:03, 14.50it/s]\u001b[A\n",
      " 12%|██████████▍                                                                        | 6/48 [00:00<00:02, 14.19it/s]\u001b[A\n",
      " 17%|█████████████▊                                                                     | 8/48 [00:00<00:03, 13.25it/s]\u001b[A\n",
      " 21%|█████████████████                                                                 | 10/48 [00:00<00:02, 13.83it/s]\u001b[A\n",
      " 25%|████████████████████▌                                                             | 12/48 [00:00<00:02, 13.12it/s]\u001b[A\n",
      " 29%|███████████████████████▉                                                          | 14/48 [00:01<00:02, 12.96it/s]\u001b[A\n",
      " 33%|███████████████████████████▎                                                      | 16/48 [00:01<00:02, 13.28it/s]\u001b[A\n",
      " 38%|██████████████████████████████▊                                                   | 18/48 [00:01<00:02, 13.17it/s]\u001b[A\n",
      " 42%|██████████████████████████████████▏                                               | 20/48 [00:01<00:02, 13.46it/s]\u001b[A\n",
      " 46%|█████████████████████████████████████▌                                            | 22/48 [00:01<00:01, 13.30it/s]\u001b[A\n",
      " 50%|█████████████████████████████████████████                                         | 24/48 [00:01<00:01, 12.65it/s]\u001b[A\n",
      " 54%|████████████████████████████████████████████▍                                     | 26/48 [00:01<00:01, 13.49it/s]\u001b[A\n",
      " 58%|███████████████████████████████████████████████▊                                  | 28/48 [00:02<00:01, 13.65it/s]\u001b[A\n",
      " 62%|███████████████████████████████████████████████████▎                              | 30/48 [00:02<00:01, 14.03it/s]\u001b[A\n"
     ]
    },
    {
     "name": "stderr",
     "output_type": "stream",
     "text": [
      " 67%|██████████████████████████████████████████████████████▋                           | 32/48 [00:02<00:01, 13.67it/s]\u001b[A\n",
      " 71%|██████████████████████████████████████████████████████████                        | 34/48 [00:02<00:00, 14.06it/s]\u001b[A\n",
      " 75%|█████████████████████████████████████████████████████████████▌                    | 36/48 [00:02<00:00, 14.17it/s]\u001b[A\n",
      " 79%|████████████████████████████████████████████████████████████████▉                 | 38/48 [00:02<00:00, 14.44it/s]\u001b[A\n",
      " 83%|████████████████████████████████████████████████████████████████████▎             | 40/48 [00:02<00:00, 14.31it/s]\u001b[A\n",
      " 88%|███████████████████████████████████████████████████████████████████████▊          | 42/48 [00:03<00:00, 14.06it/s]\u001b[A\n",
      " 92%|███████████████████████████████████████████████████████████████████████████▏      | 44/48 [00:03<00:00, 14.26it/s]\u001b[A\n",
      " 96%|██████████████████████████████████████████████████████████████████████████████▌   | 46/48 [00:03<00:00, 14.34it/s]\u001b[A\n",
      "100%|██████████████████████████████████████████████████████████████████████████████████| 48/48 [00:03<00:00, 13.77it/s]\u001b[A\n",
      "\n",
      "  0%|                                                                                           | 0/48 [00:00<?, ?it/s]\u001b[A\n",
      "  4%|███▍                                                                               | 2/48 [00:00<00:03, 14.71it/s]\u001b[A\n",
      "  8%|██████▉                                                                            | 4/48 [00:00<00:03, 14.28it/s]\u001b[A\n",
      " 12%|██████████▍                                                                        | 6/48 [00:00<00:02, 14.12it/s]\u001b[A\n",
      " 17%|█████████████▊                                                                     | 8/48 [00:00<00:03, 13.27it/s]\u001b[A\n",
      " 21%|█████████████████                                                                 | 10/48 [00:00<00:02, 13.47it/s]\u001b[A\n",
      " 25%|████████████████████▌                                                             | 12/48 [00:00<00:02, 13.28it/s]\u001b[A\n",
      " 29%|███████████████████████▉                                                          | 14/48 [00:01<00:02, 13.16it/s]\u001b[A\n",
      " 33%|███████████████████████████▎                                                      | 16/48 [00:01<00:02, 13.42it/s]\u001b[A\n",
      " 38%|██████████████████████████████▊                                                   | 18/48 [00:01<00:02, 13.17it/s]\u001b[A\n",
      " 42%|██████████████████████████████████▏                                               | 20/48 [00:01<00:02, 13.38it/s]\u001b[A\n",
      " 46%|█████████████████████████████████████▌                                            | 22/48 [00:01<00:01, 13.53it/s]\u001b[A\n",
      " 50%|█████████████████████████████████████████                                         | 24/48 [00:01<00:01, 13.39it/s]\u001b[A\n",
      " 54%|████████████████████████████████████████████▍                                     | 26/48 [00:01<00:01, 13.67it/s]\u001b[A\n",
      " 58%|███████████████████████████████████████████████▊                                  | 28/48 [00:02<00:01, 14.00it/s]\u001b[A\n",
      " 62%|███████████████████████████████████████████████████▎                              | 30/48 [00:02<00:01, 14.03it/s]\u001b[A\n",
      " 67%|██████████████████████████████████████████████████████▋                           | 32/48 [00:02<00:01, 13.81it/s]\u001b[A\n",
      " 71%|██████████████████████████████████████████████████████████                        | 34/48 [00:02<00:01, 13.90it/s]\u001b[A\n",
      " 75%|█████████████████████████████████████████████████████████████▌                    | 36/48 [00:02<00:00, 14.24it/s]\u001b[A\n",
      " 79%|████████████████████████████████████████████████████████████████▉                 | 38/48 [00:02<00:00, 14.35it/s]\u001b[A\n",
      " 83%|████████████████████████████████████████████████████████████████████▎             | 40/48 [00:02<00:00, 13.85it/s]\u001b[A\n",
      " 88%|███████████████████████████████████████████████████████████████████████▊          | 42/48 [00:03<00:00, 13.49it/s]\u001b[A\n",
      " 92%|███████████████████████████████████████████████████████████████████████████▏      | 44/48 [00:03<00:00, 13.84it/s]\u001b[A\n",
      " 96%|██████████████████████████████████████████████████████████████████████████████▌   | 46/48 [00:03<00:00, 14.04it/s]\u001b[A\n",
      "100%|██████████████████████████████████████████████████████████████████████████████████| 48/48 [00:03<00:00, 13.74it/s]\u001b[A\n",
      "\n",
      "  0%|                                                                                          | 0/575 [00:00<?, ?it/s]\u001b[A\n",
      " 19%|██████████████▉                                                               | 110/575 [00:00<00:00, 1068.09it/s]\u001b[A\n",
      " 39%|██████████████████████████████                                                | 222/575 [00:00<00:00, 1088.23it/s]\u001b[A\n",
      " 58%|████████████████████████████████████████████▉                                 | 331/575 [00:00<00:00, 1051.54it/s]\u001b[A\n",
      " 76%|████████████████████████████████████████████████████████████                   | 437/575 [00:00<00:00, 956.37it/s]\u001b[A\n",
      "100%|███████████████████████████████████████████████████████████████████████████████| 575/575 [00:00<00:00, 924.40it/s]\u001b[A\n",
      "  4%|███▎                                                                             | 15/363 [00:52<20:18,  3.50s/it]"
     ]
    },
    {
     "name": "stdout",
     "output_type": "stream",
     "text": [
      "Loaded decoded: -0.8410046100616455\n"
     ]
    },
    {
     "name": "stderr",
     "output_type": "stream",
     "text": [
      "\n",
      "  0%|                                                                                           | 0/48 [00:00<?, ?it/s]\u001b[A\n",
      "  4%|███▍                                                                               | 2/48 [00:00<00:03, 13.34it/s]\u001b[A\n",
      "  8%|██████▉                                                                            | 4/48 [00:00<00:03, 13.44it/s]\u001b[A\n",
      " 12%|██████████▍                                                                        | 6/48 [00:00<00:03, 13.67it/s]\u001b[A\n",
      " 17%|█████████████▊                                                                     | 8/48 [00:00<00:03, 12.85it/s]\u001b[A\n",
      " 21%|█████████████████                                                                 | 10/48 [00:00<00:02, 13.17it/s]\u001b[A\n",
      " 25%|████████████████████▌                                                             | 12/48 [00:00<00:02, 13.11it/s]\u001b[A\n",
      " 29%|███████████████████████▉                                                          | 14/48 [00:01<00:02, 12.76it/s]\u001b[A\n",
      " 33%|███████████████████████████▎                                                      | 16/48 [00:01<00:02, 12.95it/s]\u001b[A\n",
      " 38%|██████████████████████████████▊                                                   | 18/48 [00:01<00:02, 12.94it/s]\u001b[A\n",
      " 42%|██████████████████████████████████▏                                               | 20/48 [00:01<00:02, 12.68it/s]\u001b[A\n",
      " 46%|█████████████████████████████████████▌                                            | 22/48 [00:01<00:02, 12.82it/s]\u001b[A\n",
      " 50%|█████████████████████████████████████████                                         | 24/48 [00:01<00:01, 13.07it/s]\u001b[A\n",
      " 56%|██████████████████████████████████████████████▏                                   | 27/48 [00:01<00:01, 15.83it/s]\u001b[A\n",
      " 62%|███████████████████████████████████████████████████▎                              | 30/48 [00:02<00:00, 18.88it/s]\u001b[A\n",
      " 69%|████████████████████████████████████████████████████████▍                         | 33/48 [00:02<00:00, 20.08it/s]\u001b[A\n",
      " 75%|█████████████████████████████████████████████████████████████▌                    | 36/48 [00:02<00:00, 21.17it/s]\u001b[A\n",
      " 81%|██████████████████████████████████████████████████████████████████▋               | 39/48 [00:02<00:00, 23.25it/s]\u001b[A\n",
      " 88%|███████████████████████████████████████████████████████████████████████▊          | 42/48 [00:02<00:00, 22.50it/s]\u001b[A\n",
      " 94%|████████████████████████████████████████████████████████████████████████████▉     | 45/48 [00:02<00:00, 22.76it/s]\u001b[A\n",
      "100%|██████████████████████████████████████████████████████████████████████████████████| 48/48 [00:02<00:00, 16.91it/s]\u001b[A\n",
      "\n",
      "  0%|                                                                                           | 0/48 [00:00<?, ?it/s]\u001b[A\n",
      "  4%|███▍                                                                               | 2/48 [00:00<00:02, 18.74it/s]\u001b[A\n",
      "  8%|██████▉                                                                            | 4/48 [00:00<00:02, 18.53it/s]\u001b[A\n",
      " 15%|████████████                                                                       | 7/48 [00:00<00:02, 18.78it/s]\u001b[A\n",
      " 19%|███████████████▌                                                                   | 9/48 [00:00<00:02, 18.17it/s]\u001b[A\n",
      " 23%|██████████████████▊                                                               | 11/48 [00:00<00:02, 17.82it/s]\u001b[A\n",
      " 27%|██████████████████████▏                                                           | 13/48 [00:00<00:01, 17.93it/s]\u001b[A\n",
      " 31%|█████████████████████████▋                                                        | 15/48 [00:00<00:01, 17.74it/s]\u001b[A\n",
      " 35%|█████████████████████████████                                                     | 17/48 [00:00<00:01, 17.55it/s]\u001b[A\n",
      " 40%|████████████████████████████████▍                                                 | 19/48 [00:01<00:01, 17.65it/s]\u001b[A\n",
      " 44%|███████████████████████████████████▉                                              | 21/48 [00:01<00:01, 17.84it/s]\u001b[A\n",
      " 48%|███████████████████████████████████████▎                                          | 23/48 [00:01<00:01, 17.93it/s]\u001b[A\n",
      " 54%|████████████████████████████████████████████▍                                     | 26/48 [00:01<00:01, 21.27it/s]\u001b[A\n",
      " 62%|███████████████████████████████████████████████████▎                              | 30/48 [00:01<00:00, 25.43it/s]\u001b[A\n",
      " 71%|██████████████████████████████████████████████████████████                        | 34/48 [00:01<00:00, 27.88it/s]\u001b[A\n",
      " 79%|████████████████████████████████████████████████████████████████▉                 | 38/48 [00:01<00:00, 30.44it/s]\u001b[A\n",
      " 88%|███████████████████████████████████████████████████████████████████████▊          | 42/48 [00:01<00:00, 31.20it/s]\u001b[A\n",
      "100%|██████████████████████████████████████████████████████████████████████████████████| 48/48 [00:02<00:00, 23.65it/s]\u001b[A\n",
      "\n",
      "  0%|                                                                                           | 0/48 [00:00<?, ?it/s]\u001b[A\n",
      "  4%|███▍                                                                               | 2/48 [00:00<00:02, 17.83it/s]\u001b[A\n",
      "  8%|██████▉                                                                            | 4/48 [00:00<00:02, 18.04it/s]\u001b[A\n",
      " 12%|██████████▍                                                                        | 6/48 [00:00<00:02, 18.53it/s]\u001b[A\n",
      " 17%|█████████████▊                                                                     | 8/48 [00:00<00:02, 17.79it/s]\u001b[A\n",
      " 21%|█████████████████                                                                 | 10/48 [00:00<00:02, 18.11it/s]\u001b[A\n",
      " 25%|████████████████████▌                                                             | 12/48 [00:00<00:01, 18.31it/s]\u001b[A\n",
      " 29%|███████████████████████▉                                                          | 14/48 [00:00<00:01, 17.77it/s]\u001b[A\n",
      " 33%|███████████████████████████▎                                                      | 16/48 [00:00<00:01, 18.27it/s]\u001b[A\n",
      " 38%|██████████████████████████████▊                                                   | 18/48 [00:00<00:01, 17.96it/s]\u001b[A\n",
      " 42%|██████████████████████████████████▏                                               | 20/48 [00:01<00:01, 17.76it/s]\u001b[A\n",
      " 46%|█████████████████████████████████████▌                                            | 22/48 [00:01<00:01, 18.10it/s]\u001b[A\n",
      " 50%|█████████████████████████████████████████                                         | 24/48 [00:01<00:01, 17.88it/s]\u001b[A\n",
      " 58%|███████████████████████████████████████████████▊                                  | 28/48 [00:01<00:00, 23.36it/s]\u001b[A\n",
      " 67%|██████████████████████████████████████████████████████▋                           | 32/48 [00:01<00:00, 26.76it/s]\u001b[A\n",
      " 75%|█████████████████████████████████████████████████████████████▌                    | 36/48 [00:01<00:00, 29.64it/s]\u001b[A\n",
      " 83%|████████████████████████████████████████████████████████████████████▎             | 40/48 [00:01<00:00, 32.34it/s]\u001b[A\n",
      " 92%|███████████████████████████████████████████████████████████████████████████▏      | 44/48 [00:01<00:00, 31.47it/s]\u001b[A\n",
      "100%|██████████████████████████████████████████████████████████████████████████████████| 48/48 [00:02<00:00, 23.81it/s]\u001b[A\n",
      "\n",
      "  0%|                                                                                           | 0/48 [00:00<?, ?it/s]\u001b[A\n",
      "  4%|███▍                                                                               | 2/48 [00:00<00:02, 17.26it/s]\u001b[A\n",
      " 10%|████████▋                                                                          | 5/48 [00:00<00:02, 17.99it/s]\u001b[A\n",
      " 17%|█████████████▊                                                                     | 8/48 [00:00<00:02, 18.54it/s]\u001b[A\n",
      " 21%|█████████████████                                                                 | 10/48 [00:00<00:02, 18.98it/s]\u001b[A\n",
      " 25%|████████████████████▌                                                             | 12/48 [00:00<00:01, 18.36it/s]\u001b[A\n",
      " 29%|███████████████████████▉                                                          | 14/48 [00:00<00:01, 17.98it/s]\u001b[A\n",
      " 35%|█████████████████████████████                                                     | 17/48 [00:00<00:01, 18.25it/s]\u001b[A\n"
     ]
    },
    {
     "name": "stderr",
     "output_type": "stream",
     "text": [
      " 40%|████████████████████████████████▍                                                 | 19/48 [00:01<00:01, 17.94it/s]\u001b[A\n",
      " 44%|███████████████████████████████████▉                                              | 21/48 [00:01<00:01, 18.27it/s]\u001b[A\n",
      " 48%|███████████████████████████████████████▎                                          | 23/48 [00:01<00:01, 17.87it/s]\u001b[A\n",
      " 56%|██████████████████████████████████████████████▏                                   | 27/48 [00:01<00:00, 21.65it/s]\u001b[A\n",
      " 67%|██████████████████████████████████████████████████████▋                           | 32/48 [00:01<00:00, 26.36it/s]\u001b[A\n",
      " 75%|█████████████████████████████████████████████████████████████▌                    | 36/48 [00:01<00:00, 29.42it/s]\u001b[A\n",
      " 83%|████████████████████████████████████████████████████████████████████▎             | 40/48 [00:01<00:00, 31.83it/s]\u001b[A\n",
      " 92%|███████████████████████████████████████████████████████████████████████████▏      | 44/48 [00:01<00:00, 31.44it/s]\u001b[A\n",
      "100%|██████████████████████████████████████████████████████████████████████████████████| 48/48 [00:02<00:00, 23.99it/s]\u001b[A\n",
      "\n",
      "  0%|                                                                                          | 0/575 [00:00<?, ?it/s]\u001b[A\n",
      " 35%|███████████████████████████▌                                                  | 203/575 [00:00<00:00, 2013.92it/s]\u001b[A\n",
      "100%|██████████████████████████████████████████████████████████████████████████████| 575/575 [00:00<00:00, 1794.71it/s]\u001b[A\n",
      "  4%|███▌                                                                             | 16/363 [01:35<39:51,  6.89s/it]"
     ]
    },
    {
     "name": "stdout",
     "output_type": "stream",
     "text": [
      "Loaded decoded: -1.776768684387207\n"
     ]
    },
    {
     "name": "stderr",
     "output_type": "stream",
     "text": [
      "\n",
      "  0%|                                                                                           | 0/48 [00:00<?, ?it/s]\u001b[A\n",
      "  4%|███▍                                                                               | 2/48 [00:00<00:04, 10.15it/s]\u001b[A\n",
      "  8%|██████▉                                                                            | 4/48 [00:00<00:04, 10.35it/s]\u001b[A\n",
      " 12%|██████████▍                                                                        | 6/48 [00:00<00:04, 10.47it/s]\u001b[A\n",
      " 17%|█████████████▊                                                                     | 8/48 [00:00<00:04,  9.67it/s]\u001b[A\n",
      " 21%|█████████████████                                                                 | 10/48 [00:00<00:03,  9.94it/s]\u001b[A\n",
      " 25%|████████████████████▌                                                             | 12/48 [00:01<00:03,  9.88it/s]\u001b[A\n",
      " 27%|██████████████████████▏                                                           | 13/48 [00:01<00:03,  9.88it/s]\u001b[A\n",
      " 29%|███████████████████████▉                                                          | 14/48 [00:01<00:03,  9.74it/s]\u001b[A\n",
      " 31%|█████████████████████████▋                                                        | 15/48 [00:01<00:03,  9.69it/s]\u001b[A\n",
      " 33%|███████████████████████████▎                                                      | 16/48 [00:01<00:03,  9.76it/s]\u001b[A\n",
      " 35%|█████████████████████████████                                                     | 17/48 [00:01<00:03,  9.67it/s]\u001b[A\n",
      " 40%|████████████████████████████████▍                                                 | 19/48 [00:01<00:02,  9.90it/s]\u001b[A\n",
      " 42%|██████████████████████████████████▏                                               | 20/48 [00:02<00:02,  9.85it/s]\u001b[A\n",
      " 46%|█████████████████████████████████████▌                                            | 22/48 [00:02<00:02,  9.96it/s]\u001b[A\n",
      " 48%|███████████████████████████████████████▎                                          | 23/48 [00:02<00:02,  9.63it/s]\u001b[A\n",
      " 52%|██████████████████████████████████████████▋                                       | 25/48 [00:02<00:02, 10.03it/s]\u001b[A\n",
      " 56%|██████████████████████████████████████████████▏                                   | 27/48 [00:02<00:02, 10.50it/s]\u001b[A\n",
      " 60%|█████████████████████████████████████████████████▌                                | 29/48 [00:02<00:01, 10.67it/s]\u001b[A\n",
      " 65%|████████████████████████████████████████████████████▉                             | 31/48 [00:03<00:01, 10.54it/s]\u001b[A\n",
      " 69%|████████████████████████████████████████████████████████▍                         | 33/48 [00:03<00:01, 10.36it/s]\u001b[A\n",
      " 73%|███████████████████████████████████████████████████████████▊                      | 35/48 [00:03<00:01, 10.32it/s]\u001b[A\n",
      " 77%|███████████████████████████████████████████████████████████████▏                  | 37/48 [00:03<00:01, 10.49it/s]\u001b[A\n",
      " 81%|██████████████████████████████████████████████████████████████████▋               | 39/48 [00:03<00:00, 10.47it/s]\u001b[A\n",
      " 85%|██████████████████████████████████████████████████████████████████████            | 41/48 [00:04<00:00, 10.37it/s]\u001b[A\n",
      " 90%|█████████████████████████████████████████████████████████████████████████▍        | 43/48 [00:04<00:00, 10.43it/s]\u001b[A\n",
      " 94%|████████████████████████████████████████████████████████████████████████████▉     | 45/48 [00:04<00:00, 10.43it/s]\u001b[A\n",
      "100%|██████████████████████████████████████████████████████████████████████████████████| 48/48 [00:04<00:00, 10.16it/s]\u001b[A\n",
      "\n",
      "  0%|                                                                                           | 0/48 [00:00<?, ?it/s]\u001b[A\n",
      "  4%|███▍                                                                               | 2/48 [00:00<00:03, 13.63it/s]\u001b[A\n",
      "  8%|██████▉                                                                            | 4/48 [00:00<00:03, 13.37it/s]\u001b[A\n",
      " 12%|██████████▍                                                                        | 6/48 [00:00<00:03, 13.48it/s]\u001b[A\n",
      " 17%|█████████████▊                                                                     | 8/48 [00:00<00:03, 12.45it/s]\u001b[A\n",
      " 21%|█████████████████                                                                 | 10/48 [00:00<00:02, 12.83it/s]\u001b[A\n",
      " 25%|████████████████████▌                                                             | 12/48 [00:00<00:02, 12.38it/s]\u001b[A\n",
      " 29%|███████████████████████▉                                                          | 14/48 [00:01<00:02, 12.28it/s]\u001b[A\n",
      " 33%|███████████████████████████▎                                                      | 16/48 [00:01<00:02, 12.59it/s]\u001b[A\n",
      " 38%|██████████████████████████████▊                                                   | 18/48 [00:01<00:02, 12.56it/s]\u001b[A\n",
      " 42%|██████████████████████████████████▏                                               | 20/48 [00:01<00:02, 12.72it/s]\u001b[A\n",
      " 46%|█████████████████████████████████████▌                                            | 22/48 [00:01<00:02, 12.64it/s]\u001b[A\n",
      " 50%|█████████████████████████████████████████                                         | 24/48 [00:01<00:01, 12.50it/s]\u001b[A\n",
      " 54%|████████████████████████████████████████████▍                                     | 26/48 [00:02<00:01, 13.16it/s]\u001b[A\n",
      " 58%|███████████████████████████████████████████████▊                                  | 28/48 [00:02<00:01, 13.45it/s]\u001b[A\n",
      " 62%|███████████████████████████████████████████████████▎                              | 30/48 [00:02<00:01, 13.73it/s]\u001b[A\n",
      " 67%|██████████████████████████████████████████████████████▋                           | 32/48 [00:02<00:01, 13.20it/s]\u001b[A\n",
      " 71%|██████████████████████████████████████████████████████████                        | 34/48 [00:02<00:01, 13.46it/s]\u001b[A\n",
      " 75%|█████████████████████████████████████████████████████████████▌                    | 36/48 [00:02<00:00, 13.49it/s]\u001b[A\n",
      " 79%|████████████████████████████████████████████████████████████████▉                 | 38/48 [00:02<00:00, 13.94it/s]\u001b[A\n",
      " 83%|████████████████████████████████████████████████████████████████████▎             | 40/48 [00:03<00:00, 13.80it/s]\u001b[A\n",
      " 88%|███████████████████████████████████████████████████████████████████████▊          | 42/48 [00:03<00:00, 13.24it/s]\u001b[A\n",
      " 92%|███████████████████████████████████████████████████████████████████████████▏      | 44/48 [00:03<00:00, 13.35it/s]\u001b[A\n",
      " 96%|██████████████████████████████████████████████████████████████████████████████▌   | 46/48 [00:03<00:00, 13.32it/s]\u001b[A\n",
      "100%|██████████████████████████████████████████████████████████████████████████████████| 48/48 [00:03<00:00, 13.09it/s]\u001b[A\n",
      "\n",
      "  0%|                                                                                           | 0/48 [00:00<?, ?it/s]\u001b[A\n",
      "  4%|███▍                                                                               | 2/48 [00:00<00:03, 13.77it/s]\u001b[A\n",
      "  8%|██████▉                                                                            | 4/48 [00:00<00:03, 13.22it/s]\u001b[A\n",
      " 12%|██████████▍                                                                        | 6/48 [00:00<00:03, 13.51it/s]\u001b[A\n",
      " 17%|█████████████▊                                                                     | 8/48 [00:00<00:03, 12.37it/s]\u001b[A\n",
      " 21%|█████████████████                                                                 | 10/48 [00:00<00:03, 12.66it/s]\u001b[A\n",
      " 25%|████████████████████▌                                                             | 12/48 [00:00<00:02, 12.13it/s]\u001b[A\n",
      " 29%|███████████████████████▉                                                          | 14/48 [00:01<00:02, 12.22it/s]\u001b[A\n",
      " 33%|███████████████████████████▎                                                      | 16/48 [00:01<00:02, 12.47it/s]\u001b[A\n",
      " 38%|██████████████████████████████▊                                                   | 18/48 [00:01<00:02, 12.28it/s]\u001b[A\n",
      " 42%|██████████████████████████████████▏                                               | 20/48 [00:01<00:02, 12.61it/s]\u001b[A\n",
      " 46%|█████████████████████████████████████▌                                            | 22/48 [00:01<00:02, 12.64it/s]\u001b[A\n",
      " 50%|█████████████████████████████████████████                                         | 24/48 [00:01<00:01, 12.38it/s]\u001b[A\n"
     ]
    },
    {
     "name": "stderr",
     "output_type": "stream",
     "text": [
      " 54%|████████████████████████████████████████████▍                                     | 26/48 [00:02<00:01, 13.09it/s]\u001b[A\n",
      " 58%|███████████████████████████████████████████████▊                                  | 28/48 [00:02<00:01, 13.40it/s]\u001b[A\n",
      " 62%|███████████████████████████████████████████████████▎                              | 30/48 [00:02<00:01, 13.61it/s]\u001b[A\n",
      " 67%|██████████████████████████████████████████████████████▋                           | 32/48 [00:02<00:01, 13.15it/s]\u001b[A\n",
      " 71%|██████████████████████████████████████████████████████████                        | 34/48 [00:02<00:01, 13.24it/s]\u001b[A\n",
      " 75%|█████████████████████████████████████████████████████████████▌                    | 36/48 [00:02<00:00, 13.47it/s]\u001b[A\n",
      " 79%|████████████████████████████████████████████████████████████████▉                 | 38/48 [00:02<00:00, 13.57it/s]\u001b[A\n",
      " 83%|████████████████████████████████████████████████████████████████████▎             | 40/48 [00:03<00:00, 13.64it/s]\u001b[A\n",
      " 88%|███████████████████████████████████████████████████████████████████████▊          | 42/48 [00:03<00:00, 13.18it/s]\u001b[A\n",
      " 92%|███████████████████████████████████████████████████████████████████████████▏      | 44/48 [00:03<00:00, 13.37it/s]\u001b[A\n",
      " 96%|██████████████████████████████████████████████████████████████████████████████▌   | 46/48 [00:03<00:00, 13.45it/s]\u001b[A\n",
      "100%|██████████████████████████████████████████████████████████████████████████████████| 48/48 [00:03<00:00, 13.01it/s]\u001b[A\n",
      "\n",
      "  0%|                                                                                           | 0/48 [00:00<?, ?it/s]\u001b[A\n",
      "  4%|███▍                                                                               | 2/48 [00:00<00:03, 12.94it/s]\u001b[A\n",
      "  8%|██████▉                                                                            | 4/48 [00:00<00:03, 13.21it/s]\u001b[A\n",
      " 12%|██████████▍                                                                        | 6/48 [00:00<00:03, 13.36it/s]\u001b[A\n",
      " 17%|█████████████▊                                                                     | 8/48 [00:00<00:03, 12.38it/s]\u001b[A\n",
      " 21%|█████████████████                                                                 | 10/48 [00:00<00:02, 12.69it/s]\u001b[A\n",
      " 25%|████████████████████▌                                                             | 12/48 [00:00<00:02, 12.58it/s]\u001b[A\n",
      " 29%|███████████████████████▉                                                          | 14/48 [00:01<00:02, 12.34it/s]\u001b[A\n",
      " 33%|███████████████████████████▎                                                      | 16/48 [00:01<00:02, 12.56it/s]\u001b[A\n",
      " 38%|██████████████████████████████▊                                                   | 18/48 [00:01<00:02, 12.46it/s]\u001b[A\n",
      " 42%|██████████████████████████████████▏                                               | 20/48 [00:01<00:02, 12.61it/s]\u001b[A\n",
      " 46%|█████████████████████████████████████▌                                            | 22/48 [00:01<00:02, 11.55it/s]\u001b[A\n",
      " 50%|█████████████████████████████████████████                                         | 24/48 [00:01<00:02, 11.83it/s]\u001b[A\n",
      " 54%|████████████████████████████████████████████▍                                     | 26/48 [00:02<00:01, 12.59it/s]\u001b[A\n",
      " 58%|███████████████████████████████████████████████▊                                  | 28/48 [00:02<00:01, 13.05it/s]\u001b[A\n",
      " 62%|███████████████████████████████████████████████████▎                              | 30/48 [00:02<00:01, 13.51it/s]\u001b[A\n",
      " 67%|██████████████████████████████████████████████████████▋                           | 32/48 [00:02<00:01, 13.19it/s]\u001b[A\n",
      " 71%|██████████████████████████████████████████████████████████                        | 34/48 [00:02<00:01, 13.21it/s]\u001b[A\n",
      " 75%|█████████████████████████████████████████████████████████████▌                    | 36/48 [00:02<00:00, 13.41it/s]\u001b[A\n",
      " 79%|████████████████████████████████████████████████████████████████▉                 | 38/48 [00:02<00:00, 13.60it/s]\u001b[A\n",
      " 83%|████████████████████████████████████████████████████████████████████▎             | 40/48 [00:03<00:00, 13.73it/s]\u001b[A\n",
      " 88%|███████████████████████████████████████████████████████████████████████▊          | 42/48 [00:03<00:00, 13.32it/s]\u001b[A\n",
      " 92%|███████████████████████████████████████████████████████████████████████████▏      | 44/48 [00:03<00:00, 13.37it/s]\u001b[A\n",
      " 96%|██████████████████████████████████████████████████████████████████████████████▌   | 46/48 [00:03<00:00, 13.38it/s]\u001b[A\n",
      "100%|██████████████████████████████████████████████████████████████████████████████████| 48/48 [00:03<00:00, 12.81it/s]\u001b[A\n",
      "\n",
      "  0%|                                                                                          | 0/575 [00:00<?, ?it/s]\u001b[A\n",
      " 16%|████████████▋                                                                   | 91/575 [00:00<00:00, 906.00it/s]\u001b[A\n",
      " 33%|█████████████████████████▊                                                     | 188/575 [00:00<00:00, 912.39it/s]\u001b[A\n",
      " 50%|███████████████████████████████████████▍                                       | 287/575 [00:00<00:00, 936.44it/s]\u001b[A\n",
      " 66%|████████████████████████████████████████████████████▎                          | 381/575 [00:00<00:00, 855.82it/s]\u001b[A\n",
      " 81%|████████████████████████████████████████████████████████████████▎              | 468/575 [00:00<00:00, 796.09it/s]\u001b[A\n",
      "100%|███████████████████████████████████████████████████████████████████████████████| 575/575 [00:00<00:00, 796.68it/s]\u001b[A\n",
      "  5%|███▋                                                                           | 17/363 [02:29<1:09:54, 12.12s/it]"
     ]
    },
    {
     "name": "stdout",
     "output_type": "stream",
     "text": [
      "Loaded decoded: -0.8644883632659912\n"
     ]
    },
    {
     "name": "stderr",
     "output_type": "stream",
     "text": [
      "\n",
      "  0%|                                                                                           | 0/48 [00:00<?, ?it/s]\u001b[A\n",
      "  4%|███▍                                                                               | 2/48 [00:00<00:03, 13.34it/s]\u001b[A\n",
      "  8%|██████▉                                                                            | 4/48 [00:00<00:03, 13.71it/s]\u001b[A\n",
      " 12%|██████████▍                                                                        | 6/48 [00:00<00:02, 14.13it/s]\u001b[A\n",
      " 17%|█████████████▊                                                                     | 8/48 [00:00<00:03, 13.20it/s]\u001b[A\n",
      " 21%|█████████████████                                                                 | 10/48 [00:00<00:02, 13.68it/s]\u001b[A\n",
      " 25%|████████████████████▌                                                             | 12/48 [00:00<00:02, 13.27it/s]\u001b[A\n",
      " 29%|███████████████████████▉                                                          | 14/48 [00:01<00:02, 13.13it/s]\u001b[A\n",
      " 33%|███████████████████████████▎                                                      | 16/48 [00:01<00:02, 13.28it/s]\u001b[A\n",
      " 38%|██████████████████████████████▊                                                   | 18/48 [00:01<00:02, 13.04it/s]\u001b[A\n",
      " 42%|██████████████████████████████████▏                                               | 20/48 [00:01<00:02, 13.22it/s]\u001b[A\n",
      " 46%|█████████████████████████████████████▌                                            | 22/48 [00:01<00:01, 13.12it/s]\u001b[A\n",
      " 50%|█████████████████████████████████████████                                         | 24/48 [00:01<00:01, 13.08it/s]\u001b[A\n",
      " 56%|██████████████████████████████████████████████▏                                   | 27/48 [00:01<00:01, 15.41it/s]\u001b[A\n",
      " 60%|█████████████████████████████████████████████████▌                                | 29/48 [00:02<00:01, 15.83it/s]\u001b[A\n",
      " 65%|████████████████████████████████████████████████████▉                             | 31/48 [00:02<00:01, 16.49it/s]\u001b[A\n",
      " 69%|████████████████████████████████████████████████████████▍                         | 33/48 [00:02<00:00, 17.03it/s]\u001b[A\n",
      " 75%|█████████████████████████████████████████████████████████████▌                    | 36/48 [00:02<00:00, 18.84it/s]\u001b[A\n",
      " 81%|██████████████████████████████████████████████████████████████████▋               | 39/48 [00:02<00:00, 21.49it/s]\u001b[A\n",
      " 88%|███████████████████████████████████████████████████████████████████████▊          | 42/48 [00:02<00:00, 22.15it/s]\u001b[A\n",
      " 94%|████████████████████████████████████████████████████████████████████████████▉     | 45/48 [00:02<00:00, 22.99it/s]\u001b[A\n",
      "100%|██████████████████████████████████████████████████████████████████████████████████| 48/48 [00:02<00:00, 16.53it/s]\u001b[A\n",
      "\n",
      "  0%|                                                                                           | 0/48 [00:00<?, ?it/s]\u001b[A\n",
      "  4%|███▍                                                                               | 2/48 [00:00<00:02, 18.52it/s]\u001b[A\n",
      "  8%|██████▉                                                                            | 4/48 [00:00<00:02, 19.23it/s]\u001b[A\n",
      " 15%|████████████                                                                       | 7/48 [00:00<00:02, 20.02it/s]\u001b[A\n",
      " 19%|███████████████▌                                                                   | 9/48 [00:00<00:02, 19.03it/s]\u001b[A\n",
      " 23%|██████████████████▊                                                               | 11/48 [00:00<00:02, 18.12it/s]\u001b[A\n",
      " 27%|██████████████████████▏                                                           | 13/48 [00:00<00:01, 18.40it/s]\u001b[A\n",
      " 31%|█████████████████████████▋                                                        | 15/48 [00:00<00:01, 18.20it/s]\u001b[A\n",
      " 35%|█████████████████████████████                                                     | 17/48 [00:00<00:01, 18.47it/s]\u001b[A\n",
      " 40%|████████████████████████████████▍                                                 | 19/48 [00:01<00:01, 18.60it/s]\u001b[A\n",
      " 44%|███████████████████████████████████▉                                              | 21/48 [00:01<00:01, 18.49it/s]\u001b[A\n",
      " 48%|███████████████████████████████████████▎                                          | 23/48 [00:01<00:01, 18.53it/s]\u001b[A\n",
      " 54%|████████████████████████████████████████████▍                                     | 26/48 [00:01<00:01, 20.82it/s]\u001b[A\n",
      " 60%|█████████████████████████████████████████████████▌                                | 29/48 [00:01<00:00, 21.88it/s]\u001b[A\n",
      " 67%|██████████████████████████████████████████████████████▋                           | 32/48 [00:01<00:00, 22.57it/s]\u001b[A\n",
      " 73%|███████████████████████████████████████████████████████████▊                      | 35/48 [00:01<00:00, 24.51it/s]\u001b[A\n",
      " 83%|████████████████████████████████████████████████████████████████████▎             | 40/48 [00:01<00:00, 30.27it/s]\u001b[A\n",
      " 92%|███████████████████████████████████████████████████████████████████████████▏      | 44/48 [00:01<00:00, 30.85it/s]\u001b[A\n",
      "100%|██████████████████████████████████████████████████████████████████████████████████| 48/48 [00:02<00:00, 23.30it/s]\u001b[A\n",
      "\n",
      "  0%|                                                                                           | 0/48 [00:00<?, ?it/s]\u001b[A\n",
      "  4%|███▍                                                                               | 2/48 [00:00<00:02, 18.13it/s]\u001b[A\n",
      "  8%|██████▉                                                                            | 4/48 [00:00<00:02, 18.64it/s]\u001b[A\n",
      " 15%|████████████                                                                       | 7/48 [00:00<00:02, 19.32it/s]\u001b[A\n",
      " 19%|███████████████▌                                                                   | 9/48 [00:00<00:02, 18.79it/s]\u001b[A\n",
      " 23%|██████████████████▊                                                               | 11/48 [00:00<00:01, 18.75it/s]\u001b[A\n",
      " 27%|██████████████████████▏                                                           | 13/48 [00:00<00:01, 18.30it/s]\u001b[A\n",
      " 31%|█████████████████████████▋                                                        | 15/48 [00:00<00:01, 18.29it/s]\u001b[A\n",
      " 35%|█████████████████████████████                                                     | 17/48 [00:00<00:01, 18.53it/s]\u001b[A\n",
      " 40%|████████████████████████████████▍                                                 | 19/48 [00:01<00:01, 18.71it/s]\u001b[A\n",
      " 44%|███████████████████████████████████▉                                              | 21/48 [00:01<00:01, 18.52it/s]\u001b[A\n",
      " 48%|███████████████████████████████████████▎                                          | 23/48 [00:01<00:01, 18.21it/s]\u001b[A\n",
      " 54%|████████████████████████████████████████████▍                                     | 26/48 [00:01<00:01, 20.96it/s]\u001b[A\n",
      " 60%|█████████████████████████████████████████████████▌                                | 29/48 [00:01<00:00, 21.88it/s]\u001b[A\n",
      " 67%|██████████████████████████████████████████████████████▋                           | 32/48 [00:01<00:00, 22.98it/s]\u001b[A\n",
      " 73%|███████████████████████████████████████████████████████████▊                      | 35/48 [00:01<00:00, 24.68it/s]\u001b[A\n",
      " 83%|████████████████████████████████████████████████████████████████████▎             | 40/48 [00:01<00:00, 30.81it/s]\u001b[A\n",
      " 92%|███████████████████████████████████████████████████████████████████████████▏      | 44/48 [00:01<00:00, 31.13it/s]\u001b[A\n",
      "100%|██████████████████████████████████████████████████████████████████████████████████| 48/48 [00:02<00:00, 23.30it/s]\u001b[A\n",
      "\n",
      "  0%|                                                                                           | 0/48 [00:00<?, ?it/s]\u001b[A\n",
      "  4%|███▍                                                                               | 2/48 [00:00<00:02, 19.82it/s]\u001b[A\n",
      "  8%|██████▉                                                                            | 4/48 [00:00<00:02, 18.99it/s]\u001b[A\n",
      " 15%|████████████                                                                       | 7/48 [00:00<00:02, 19.87it/s]\u001b[A\n",
      " 19%|███████████████▌                                                                   | 9/48 [00:00<00:02, 19.12it/s]\u001b[A\n",
      " 23%|██████████████████▊                                                               | 11/48 [00:00<00:02, 18.41it/s]\u001b[A\n"
     ]
    },
    {
     "name": "stderr",
     "output_type": "stream",
     "text": [
      " 27%|██████████████████████▏                                                           | 13/48 [00:00<00:01, 18.41it/s]\u001b[A\n",
      " 31%|█████████████████████████▋                                                        | 15/48 [00:00<00:01, 18.02it/s]\u001b[A\n",
      " 35%|█████████████████████████████                                                     | 17/48 [00:00<00:01, 17.73it/s]\u001b[A\n",
      " 40%|████████████████████████████████▍                                                 | 19/48 [00:01<00:01, 17.93it/s]\u001b[A\n",
      " 44%|███████████████████████████████████▉                                              | 21/48 [00:01<00:01, 18.04it/s]\u001b[A\n",
      " 48%|███████████████████████████████████████▎                                          | 23/48 [00:01<00:01, 18.22it/s]\u001b[A\n",
      " 54%|████████████████████████████████████████████▍                                     | 26/48 [00:01<00:01, 20.58it/s]\u001b[A\n",
      " 60%|█████████████████████████████████████████████████▌                                | 29/48 [00:01<00:00, 22.06it/s]\u001b[A\n",
      " 67%|██████████████████████████████████████████████████████▋                           | 32/48 [00:01<00:00, 22.92it/s]\u001b[A\n",
      " 73%|███████████████████████████████████████████████████████████▊                      | 35/48 [00:01<00:00, 24.53it/s]\u001b[A\n",
      " 83%|████████████████████████████████████████████████████████████████████▎             | 40/48 [00:01<00:00, 30.36it/s]\u001b[A\n",
      " 92%|███████████████████████████████████████████████████████████████████████████▏      | 44/48 [00:01<00:00, 30.36it/s]\u001b[A\n",
      "100%|██████████████████████████████████████████████████████████████████████████████████| 48/48 [00:02<00:00, 23.08it/s]\u001b[A\n",
      "\n",
      "  0%|                                                                                          | 0/575 [00:00<?, ?it/s]\u001b[A\n",
      " 35%|███████████████████████████▎                                                  | 201/575 [00:00<00:00, 1984.45it/s]\u001b[A\n",
      "100%|██████████████████████████████████████████████████████████████████████████████| 575/575 [00:00<00:00, 1784.87it/s]\u001b[A\n",
      "  5%|███▉                                                                           | 18/363 [03:20<1:40:10, 17.42s/it]"
     ]
    },
    {
     "name": "stdout",
     "output_type": "stream",
     "text": [
      "Loaded decoded: -1.3952672481536865\n"
     ]
    },
    {
     "name": "stderr",
     "output_type": "stream",
     "text": [
      "\n",
      "  0%|                                                                                           | 0/48 [00:00<?, ?it/s]\u001b[A\n",
      "  4%|███▍                                                                               | 2/48 [00:00<00:04, 11.30it/s]\u001b[A\n",
      "  8%|██████▉                                                                            | 4/48 [00:00<00:03, 11.37it/s]\u001b[A\n",
      " 12%|██████████▍                                                                        | 6/48 [00:00<00:03, 10.90it/s]\u001b[A\n",
      " 17%|█████████████▊                                                                     | 8/48 [00:00<00:03, 10.55it/s]\u001b[A\n",
      " 21%|█████████████████                                                                 | 10/48 [00:00<00:03, 10.86it/s]\u001b[A\n",
      " 25%|████████████████████▌                                                             | 12/48 [00:01<00:03, 10.85it/s]\u001b[A\n",
      " 29%|███████████████████████▉                                                          | 14/48 [00:01<00:03, 10.72it/s]\u001b[A\n",
      " 33%|███████████████████████████▎                                                      | 16/48 [00:01<00:02, 10.86it/s]\u001b[A\n",
      " 38%|██████████████████████████████▊                                                   | 18/48 [00:01<00:02, 10.92it/s]\u001b[A\n",
      " 42%|██████████████████████████████████▏                                               | 20/48 [00:01<00:02, 10.76it/s]\u001b[A\n",
      " 46%|█████████████████████████████████████▌                                            | 22/48 [00:02<00:02, 10.98it/s]\u001b[A\n",
      " 50%|█████████████████████████████████████████                                         | 24/48 [00:02<00:02, 10.79it/s]\u001b[A\n",
      " 54%|████████████████████████████████████████████▍                                     | 26/48 [00:02<00:01, 11.50it/s]\u001b[A\n",
      " 58%|███████████████████████████████████████████████▊                                  | 28/48 [00:02<00:01, 11.62it/s]\u001b[A\n",
      " 62%|███████████████████████████████████████████████████▎                              | 30/48 [00:02<00:01, 11.99it/s]\u001b[A\n",
      " 67%|██████████████████████████████████████████████████████▋                           | 32/48 [00:02<00:01, 11.71it/s]\u001b[A\n",
      " 71%|██████████████████████████████████████████████████████████                        | 34/48 [00:03<00:01, 11.94it/s]\u001b[A\n",
      " 75%|█████████████████████████████████████████████████████████████▌                    | 36/48 [00:03<00:00, 12.32it/s]\u001b[A\n",
      " 79%|████████████████████████████████████████████████████████████████▉                 | 38/48 [00:03<00:00, 12.02it/s]\u001b[A\n",
      " 83%|████████████████████████████████████████████████████████████████████▎             | 40/48 [00:03<00:00, 12.11it/s]\u001b[A\n",
      " 88%|███████████████████████████████████████████████████████████████████████▊          | 42/48 [00:03<00:00, 11.88it/s]\u001b[A\n",
      " 92%|███████████████████████████████████████████████████████████████████████████▏      | 44/48 [00:03<00:00, 11.79it/s]\u001b[A\n",
      " 96%|██████████████████████████████████████████████████████████████████████████████▌   | 46/48 [00:04<00:00, 12.26it/s]\u001b[A\n",
      "100%|██████████████████████████████████████████████████████████████████████████████████| 48/48 [00:04<00:00, 11.49it/s]\u001b[A\n",
      "\n",
      "  0%|                                                                                           | 0/48 [00:00<?, ?it/s]\u001b[A\n",
      "  4%|███▍                                                                               | 2/48 [00:00<00:03, 14.89it/s]\u001b[A\n",
      "  8%|██████▉                                                                            | 4/48 [00:00<00:02, 14.84it/s]\u001b[A\n",
      " 12%|██████████▍                                                                        | 6/48 [00:00<00:02, 14.48it/s]\u001b[A\n",
      " 17%|█████████████▊                                                                     | 8/48 [00:00<00:02, 13.88it/s]\u001b[A\n",
      " 21%|█████████████████                                                                 | 10/48 [00:00<00:02, 14.07it/s]\u001b[A\n",
      " 25%|████████████████████▌                                                             | 12/48 [00:00<00:02, 14.23it/s]\u001b[A\n",
      " 29%|███████████████████████▉                                                          | 14/48 [00:00<00:02, 13.96it/s]\u001b[A\n",
      " 33%|███████████████████████████▎                                                      | 16/48 [00:01<00:02, 14.19it/s]\u001b[A\n",
      " 38%|██████████████████████████████▊                                                   | 18/48 [00:01<00:02, 14.22it/s]\u001b[A\n",
      " 42%|██████████████████████████████████▏                                               | 20/48 [00:01<00:01, 14.14it/s]\u001b[A\n",
      " 46%|█████████████████████████████████████▌                                            | 22/48 [00:01<00:01, 14.27it/s]\u001b[A\n",
      " 50%|█████████████████████████████████████████                                         | 24/48 [00:01<00:01, 14.05it/s]\u001b[A\n",
      " 54%|████████████████████████████████████████████▍                                     | 26/48 [00:01<00:01, 15.21it/s]\u001b[A\n",
      " 58%|███████████████████████████████████████████████▊                                  | 28/48 [00:01<00:01, 15.35it/s]\u001b[A\n",
      " 62%|███████████████████████████████████████████████████▎                              | 30/48 [00:02<00:01, 16.00it/s]\u001b[A\n",
      " 67%|██████████████████████████████████████████████████████▋                           | 32/48 [00:02<00:01, 15.64it/s]\u001b[A\n",
      " 71%|██████████████████████████████████████████████████████████                        | 34/48 [00:02<00:00, 16.02it/s]\u001b[A\n",
      " 75%|█████████████████████████████████████████████████████████████▌                    | 36/48 [00:02<00:00, 16.58it/s]\u001b[A\n",
      " 79%|████████████████████████████████████████████████████████████████▉                 | 38/48 [00:02<00:00, 16.21it/s]\u001b[A\n",
      " 83%|████████████████████████████████████████████████████████████████████▎             | 40/48 [00:02<00:00, 16.00it/s]\u001b[A\n",
      " 88%|███████████████████████████████████████████████████████████████████████▊          | 42/48 [00:02<00:00, 15.87it/s]\u001b[A\n",
      " 92%|███████████████████████████████████████████████████████████████████████████▏      | 44/48 [00:02<00:00, 15.87it/s]\u001b[A\n",
      " 96%|██████████████████████████████████████████████████████████████████████████████▌   | 46/48 [00:03<00:00, 16.54it/s]\u001b[A\n",
      "100%|██████████████████████████████████████████████████████████████████████████████████| 48/48 [00:03<00:00, 15.24it/s]\u001b[A\n",
      "\n",
      "  0%|                                                                                           | 0/48 [00:00<?, ?it/s]\u001b[A\n",
      "  4%|███▍                                                                               | 2/48 [00:00<00:03, 13.91it/s]\u001b[A\n",
      "  8%|██████▉                                                                            | 4/48 [00:00<00:02, 14.76it/s]\u001b[A\n",
      " 12%|██████████▍                                                                        | 6/48 [00:00<00:02, 14.25it/s]\u001b[A\n",
      " 17%|█████████████▊                                                                     | 8/48 [00:00<00:02, 13.58it/s]\u001b[A\n",
      " 21%|█████████████████                                                                 | 10/48 [00:00<00:02, 14.21it/s]\u001b[A\n",
      " 25%|████████████████████▌                                                             | 12/48 [00:00<00:02, 14.25it/s]\u001b[A\n",
      " 29%|███████████████████████▉                                                          | 14/48 [00:00<00:02, 14.23it/s]\u001b[A\n",
      " 33%|███████████████████████████▎                                                      | 16/48 [00:01<00:02, 14.20it/s]\u001b[A\n",
      " 38%|██████████████████████████████▊                                                   | 18/48 [00:01<00:02, 14.20it/s]\u001b[A\n",
      " 42%|██████████████████████████████████▏                                               | 20/48 [00:01<00:01, 14.18it/s]\u001b[A\n",
      " 46%|█████████████████████████████████████▌                                            | 22/48 [00:01<00:01, 14.20it/s]\u001b[A\n",
      " 50%|█████████████████████████████████████████                                         | 24/48 [00:01<00:01, 14.13it/s]\u001b[A\n",
      " 54%|████████████████████████████████████████████▍                                     | 26/48 [00:01<00:01, 15.35it/s]\u001b[A\n",
      " 58%|███████████████████████████████████████████████▊                                  | 28/48 [00:01<00:01, 15.66it/s]\u001b[A\n",
      " 62%|███████████████████████████████████████████████████▎                              | 30/48 [00:02<00:01, 15.77it/s]\u001b[A\n"
     ]
    },
    {
     "name": "stderr",
     "output_type": "stream",
     "text": [
      " 67%|██████████████████████████████████████████████████████▋                           | 32/48 [00:02<00:01, 14.73it/s]\u001b[A\n",
      " 71%|██████████████████████████████████████████████████████████                        | 34/48 [00:02<00:00, 15.52it/s]\u001b[A\n",
      " 75%|█████████████████████████████████████████████████████████████▌                    | 36/48 [00:02<00:00, 16.14it/s]\u001b[A\n",
      " 79%|████████████████████████████████████████████████████████████████▉                 | 38/48 [00:02<00:00, 16.07it/s]\u001b[A\n",
      " 83%|████████████████████████████████████████████████████████████████████▎             | 40/48 [00:02<00:00, 16.21it/s]\u001b[A\n",
      " 88%|███████████████████████████████████████████████████████████████████████▊          | 42/48 [00:02<00:00, 16.00it/s]\u001b[A\n",
      " 92%|███████████████████████████████████████████████████████████████████████████▏      | 44/48 [00:02<00:00, 15.94it/s]\u001b[A\n",
      " 96%|██████████████████████████████████████████████████████████████████████████████▌   | 46/48 [00:03<00:00, 16.59it/s]\u001b[A\n",
      "100%|██████████████████████████████████████████████████████████████████████████████████| 48/48 [00:03<00:00, 15.09it/s]\u001b[A\n",
      "\n",
      "  0%|                                                                                           | 0/48 [00:00<?, ?it/s]\u001b[A\n",
      "  4%|███▍                                                                               | 2/48 [00:00<00:03, 14.42it/s]\u001b[A\n",
      "  8%|██████▉                                                                            | 4/48 [00:00<00:02, 14.87it/s]\u001b[A\n",
      " 12%|██████████▍                                                                        | 6/48 [00:00<00:02, 14.55it/s]\u001b[A\n",
      " 17%|█████████████▊                                                                     | 8/48 [00:00<00:02, 13.68it/s]\u001b[A\n",
      " 21%|█████████████████                                                                 | 10/48 [00:00<00:02, 13.87it/s]\u001b[A\n",
      " 25%|████████████████████▌                                                             | 12/48 [00:00<00:02, 14.27it/s]\u001b[A\n",
      " 29%|███████████████████████▉                                                          | 14/48 [00:00<00:02, 14.15it/s]\u001b[A\n",
      " 33%|███████████████████████████▎                                                      | 16/48 [00:01<00:02, 14.26it/s]\u001b[A\n",
      " 38%|██████████████████████████████▊                                                   | 18/48 [00:01<00:02, 14.26it/s]\u001b[A\n",
      " 42%|██████████████████████████████████▏                                               | 20/48 [00:01<00:01, 14.28it/s]\u001b[A\n",
      " 46%|█████████████████████████████████████▌                                            | 22/48 [00:01<00:01, 14.37it/s]\u001b[A\n",
      " 50%|█████████████████████████████████████████                                         | 24/48 [00:01<00:01, 14.05it/s]\u001b[A\n",
      " 54%|████████████████████████████████████████████▍                                     | 26/48 [00:01<00:01, 14.95it/s]\u001b[A\n",
      " 58%|███████████████████████████████████████████████▊                                  | 28/48 [00:01<00:01, 15.49it/s]\u001b[A\n",
      " 62%|███████████████████████████████████████████████████▎                              | 30/48 [00:02<00:01, 15.93it/s]\u001b[A\n",
      " 67%|██████████████████████████████████████████████████████▋                           | 32/48 [00:02<00:01, 15.52it/s]\u001b[A\n",
      " 71%|██████████████████████████████████████████████████████████                        | 34/48 [00:02<00:00, 16.05it/s]\u001b[A\n",
      " 75%|█████████████████████████████████████████████████████████████▌                    | 36/48 [00:02<00:00, 16.69it/s]\u001b[A\n",
      " 79%|████████████████████████████████████████████████████████████████▉                 | 38/48 [00:02<00:00, 16.28it/s]\u001b[A\n",
      " 83%|████████████████████████████████████████████████████████████████████▎             | 40/48 [00:02<00:00, 15.47it/s]\u001b[A\n",
      " 88%|███████████████████████████████████████████████████████████████████████▊          | 42/48 [00:02<00:00, 15.51it/s]\u001b[A\n",
      " 92%|███████████████████████████████████████████████████████████████████████████▏      | 44/48 [00:02<00:00, 15.63it/s]\u001b[A\n",
      " 96%|██████████████████████████████████████████████████████████████████████████████▌   | 46/48 [00:03<00:00, 16.45it/s]\u001b[A\n",
      "100%|██████████████████████████████████████████████████████████████████████████████████| 48/48 [00:03<00:00, 15.14it/s]\u001b[A\n",
      "\n",
      "  0%|                                                                                          | 0/575 [00:00<?, ?it/s]\u001b[A\n",
      " 22%|█████████████████▍                                                            | 129/575 [00:00<00:00, 1233.91it/s]\u001b[A\n",
      " 45%|██████████████████████████████████▋                                           | 256/575 [00:00<00:00, 1242.31it/s]\u001b[A\n",
      " 66%|███████████████████████████████████████████████████▋                          | 381/575 [00:00<00:00, 1140.90it/s]\u001b[A\n",
      "100%|██████████████████████████████████████████████████████████████████████████████| 575/575 [00:00<00:00, 1075.29it/s]\u001b[A\n",
      "  5%|████▏                                                                          | 19/363 [04:06<2:06:39, 22.09s/it]"
     ]
    },
    {
     "name": "stdout",
     "output_type": "stream",
     "text": [
      "Loaded decoded: -0.9792516231536865\n"
     ]
    },
    {
     "name": "stderr",
     "output_type": "stream",
     "text": [
      "\n",
      "  0%|                                                                                           | 0/48 [00:00<?, ?it/s]\u001b[A\n",
      "  4%|███▍                                                                               | 2/48 [00:00<00:03, 13.48it/s]\u001b[A\n",
      "  8%|██████▉                                                                            | 4/48 [00:00<00:03, 13.84it/s]\u001b[A\n",
      " 12%|██████████▍                                                                        | 6/48 [00:00<00:02, 14.06it/s]\u001b[A\n",
      " 17%|█████████████▊                                                                     | 8/48 [00:00<00:03, 13.01it/s]\u001b[A\n",
      " 21%|█████████████████                                                                 | 10/48 [00:00<00:02, 13.10it/s]\u001b[A\n",
      " 25%|████████████████████▌                                                             | 12/48 [00:00<00:02, 12.23it/s]\u001b[A\n",
      " 29%|███████████████████████▉                                                          | 14/48 [00:01<00:02, 12.30it/s]\u001b[A\n",
      " 33%|███████████████████████████▎                                                      | 16/48 [00:01<00:02, 12.49it/s]\u001b[A\n",
      " 38%|██████████████████████████████▊                                                   | 18/48 [00:01<00:02, 12.52it/s]\u001b[A\n",
      " 42%|██████████████████████████████████▏                                               | 20/48 [00:01<00:02, 12.69it/s]\u001b[A\n",
      " 46%|█████████████████████████████████████▌                                            | 22/48 [00:01<00:02, 12.83it/s]\u001b[A\n",
      " 50%|█████████████████████████████████████████                                         | 24/48 [00:01<00:01, 12.25it/s]\u001b[A\n",
      " 54%|████████████████████████████████████████████▍                                     | 26/48 [00:01<00:01, 13.78it/s]\u001b[A\n",
      " 58%|███████████████████████████████████████████████▊                                  | 28/48 [00:02<00:01, 14.09it/s]\u001b[A\n",
      " 62%|███████████████████████████████████████████████████▎                              | 30/48 [00:02<00:01, 14.65it/s]\u001b[A\n",
      " 67%|██████████████████████████████████████████████████████▋                           | 32/48 [00:02<00:01, 13.97it/s]\u001b[A\n",
      " 71%|██████████████████████████████████████████████████████████                        | 34/48 [00:02<00:00, 14.34it/s]\u001b[A\n",
      " 75%|█████████████████████████████████████████████████████████████▌                    | 36/48 [00:02<00:00, 14.69it/s]\u001b[A\n",
      " 79%|████████████████████████████████████████████████████████████████▉                 | 38/48 [00:02<00:00, 15.12it/s]\u001b[A\n",
      " 83%|████████████████████████████████████████████████████████████████████▎             | 40/48 [00:02<00:00, 14.93it/s]\u001b[A\n",
      " 88%|███████████████████████████████████████████████████████████████████████▊          | 42/48 [00:03<00:00, 14.35it/s]\u001b[A\n",
      " 92%|███████████████████████████████████████████████████████████████████████████▏      | 44/48 [00:03<00:00, 14.31it/s]\u001b[A\n",
      " 96%|██████████████████████████████████████████████████████████████████████████████▌   | 46/48 [00:03<00:00, 14.28it/s]\u001b[A\n",
      "100%|██████████████████████████████████████████████████████████████████████████████████| 48/48 [00:03<00:00, 13.67it/s]\u001b[A\n",
      "\n",
      "  0%|                                                                                           | 0/48 [00:00<?, ?it/s]\u001b[A\n",
      "  4%|███▍                                                                               | 2/48 [00:00<00:02, 17.75it/s]\u001b[A\n",
      "  8%|██████▉                                                                            | 4/48 [00:00<00:02, 18.33it/s]\u001b[A\n",
      " 12%|██████████▍                                                                        | 6/48 [00:00<00:02, 18.91it/s]\u001b[A\n",
      " 17%|█████████████▊                                                                     | 8/48 [00:00<00:02, 17.68it/s]\u001b[A\n",
      " 21%|█████████████████                                                                 | 10/48 [00:00<00:02, 17.97it/s]\u001b[A\n",
      " 25%|████████████████████▌                                                             | 12/48 [00:00<00:02, 17.93it/s]\u001b[A\n",
      " 29%|███████████████████████▉                                                          | 14/48 [00:00<00:01, 17.69it/s]\u001b[A\n",
      " 33%|███████████████████████████▎                                                      | 16/48 [00:00<00:01, 17.83it/s]\u001b[A\n",
      " 38%|██████████████████████████████▊                                                   | 18/48 [00:01<00:01, 17.84it/s]\u001b[A\n",
      " 42%|██████████████████████████████████▏                                               | 20/48 [00:01<00:01, 17.78it/s]\u001b[A\n",
      " 46%|█████████████████████████████████████▌                                            | 22/48 [00:01<00:01, 17.67it/s]\u001b[A\n",
      " 50%|█████████████████████████████████████████                                         | 24/48 [00:01<00:01, 17.77it/s]\u001b[A\n",
      " 56%|██████████████████████████████████████████████▏                                   | 27/48 [00:01<00:01, 19.76it/s]\u001b[A\n",
      " 62%|███████████████████████████████████████████████████▎                              | 30/48 [00:01<00:00, 20.70it/s]\u001b[A\n",
      " 69%|████████████████████████████████████████████████████████▍                         | 33/48 [00:01<00:00, 20.40it/s]\u001b[A\n",
      " 75%|█████████████████████████████████████████████████████████████▌                    | 36/48 [00:01<00:00, 20.63it/s]\u001b[A\n",
      " 81%|██████████████████████████████████████████████████████████████████▋               | 39/48 [00:02<00:00, 20.76it/s]\u001b[A\n",
      " 88%|███████████████████████████████████████████████████████████████████████▊          | 42/48 [00:02<00:00, 20.57it/s]\u001b[A\n",
      " 94%|████████████████████████████████████████████████████████████████████████████▉     | 45/48 [00:02<00:00, 20.87it/s]\u001b[A\n",
      "100%|██████████████████████████████████████████████████████████████████████████████████| 48/48 [00:02<00:00, 19.37it/s]\u001b[A\n",
      "\n",
      "  0%|                                                                                           | 0/48 [00:00<?, ?it/s]\u001b[A\n",
      "  4%|███▍                                                                               | 2/48 [00:00<00:02, 18.29it/s]\u001b[A\n",
      "  8%|██████▉                                                                            | 4/48 [00:00<00:02, 19.26it/s]\u001b[A\n",
      " 12%|██████████▍                                                                        | 6/48 [00:00<00:02, 18.92it/s]\u001b[A\n",
      " 17%|█████████████▊                                                                     | 8/48 [00:00<00:02, 17.34it/s]\u001b[A\n",
      " 21%|█████████████████                                                                 | 10/48 [00:00<00:02, 17.59it/s]\u001b[A\n",
      " 25%|████████████████████▌                                                             | 12/48 [00:00<00:02, 17.59it/s]\u001b[A\n",
      " 29%|███████████████████████▉                                                          | 14/48 [00:00<00:01, 17.52it/s]\u001b[A\n",
      " 33%|███████████████████████████▎                                                      | 16/48 [00:00<00:01, 17.91it/s]\u001b[A\n",
      " 38%|██████████████████████████████▊                                                   | 18/48 [00:01<00:01, 17.58it/s]\u001b[A\n",
      " 42%|██████████████████████████████████▏                                               | 20/48 [00:01<00:01, 17.64it/s]\u001b[A\n",
      " 46%|█████████████████████████████████████▌                                            | 22/48 [00:01<00:01, 17.74it/s]\u001b[A\n",
      " 50%|█████████████████████████████████████████                                         | 24/48 [00:01<00:01, 17.58it/s]\u001b[A\n",
      " 56%|██████████████████████████████████████████████▏                                   | 27/48 [00:01<00:01, 19.43it/s]\u001b[A\n",
      " 62%|███████████████████████████████████████████████████▎                              | 30/48 [00:01<00:00, 20.21it/s]\u001b[A\n",
      " 69%|████████████████████████████████████████████████████████▍                         | 33/48 [00:01<00:00, 20.39it/s]\u001b[A\n",
      " 75%|█████████████████████████████████████████████████████████████▌                    | 36/48 [00:01<00:00, 20.52it/s]\u001b[A\n",
      " 81%|██████████████████████████████████████████████████████████████████▋               | 39/48 [00:02<00:00, 20.35it/s]\u001b[A\n",
      " 88%|███████████████████████████████████████████████████████████████████████▊          | 42/48 [00:02<00:00, 20.61it/s]\u001b[A\n",
      " 94%|████████████████████████████████████████████████████████████████████████████▉     | 45/48 [00:02<00:00, 20.27it/s]\u001b[A\n"
     ]
    },
    {
     "name": "stderr",
     "output_type": "stream",
     "text": [
      "100%|██████████████████████████████████████████████████████████████████████████████████| 48/48 [00:02<00:00, 19.17it/s]\u001b[A\n",
      "\n",
      "  0%|                                                                                           | 0/48 [00:00<?, ?it/s]\u001b[A\n",
      "  4%|███▍                                                                               | 2/48 [00:00<00:02, 19.26it/s]\u001b[A\n",
      "  8%|██████▉                                                                            | 4/48 [00:00<00:02, 19.40it/s]\u001b[A\n",
      " 12%|██████████▍                                                                        | 6/48 [00:00<00:02, 19.45it/s]\u001b[A\n",
      " 17%|█████████████▊                                                                     | 8/48 [00:00<00:02, 18.04it/s]\u001b[A\n",
      " 21%|█████████████████                                                                 | 10/48 [00:00<00:02, 18.21it/s]\u001b[A\n",
      " 25%|████████████████████▌                                                             | 12/48 [00:00<00:02, 17.60it/s]\u001b[A\n",
      " 29%|███████████████████████▉                                                          | 14/48 [00:00<00:01, 17.73it/s]\u001b[A\n",
      " 33%|███████████████████████████▎                                                      | 16/48 [00:00<00:01, 17.54it/s]\u001b[A\n",
      " 38%|██████████████████████████████▊                                                   | 18/48 [00:01<00:01, 17.59it/s]\u001b[A\n",
      " 42%|██████████████████████████████████▏                                               | 20/48 [00:01<00:01, 17.81it/s]\u001b[A\n",
      " 46%|█████████████████████████████████████▌                                            | 22/48 [00:01<00:01, 17.91it/s]\u001b[A\n",
      " 50%|█████████████████████████████████████████                                         | 24/48 [00:01<00:01, 17.97it/s]\u001b[A\n",
      " 56%|██████████████████████████████████████████████▏                                   | 27/48 [00:01<00:01, 19.68it/s]\u001b[A\n",
      " 62%|███████████████████████████████████████████████████▎                              | 30/48 [00:01<00:00, 20.53it/s]\u001b[A\n",
      " 69%|████████████████████████████████████████████████████████▍                         | 33/48 [00:01<00:00, 20.23it/s]\u001b[A\n",
      " 75%|█████████████████████████████████████████████████████████████▌                    | 36/48 [00:01<00:00, 20.45it/s]\u001b[A\n",
      " 81%|██████████████████████████████████████████████████████████████████▋               | 39/48 [00:02<00:00, 20.60it/s]\u001b[A\n",
      " 88%|███████████████████████████████████████████████████████████████████████▊          | 42/48 [00:02<00:00, 20.41it/s]\u001b[A\n",
      " 94%|████████████████████████████████████████████████████████████████████████████▉     | 45/48 [00:02<00:00, 20.76it/s]\u001b[A\n",
      "100%|██████████████████████████████████████████████████████████████████████████████████| 48/48 [00:02<00:00, 19.37it/s]\u001b[A\n",
      "\n",
      "  0%|                                                                                          | 0/575 [00:00<?, ?it/s]\u001b[A\n",
      " 29%|██████████████████████▉                                                       | 169/575 [00:00<00:00, 1674.52it/s]\u001b[A\n",
      " 59%|█████████████████████████████████████████████▊                                | 338/575 [00:00<00:00, 1678.11it/s]\u001b[A\n",
      "100%|██████████████████████████████████████████████████████████████████████████████| 575/575 [00:00<00:00, 1514.82it/s]\u001b[A\n",
      "  6%|████▎                                                                          | 20/363 [04:55<2:35:15, 27.16s/it]"
     ]
    },
    {
     "name": "stdout",
     "output_type": "stream",
     "text": [
      "Loaded decoded: -1.6675589084625244\n"
     ]
    },
    {
     "name": "stderr",
     "output_type": "stream",
     "text": [
      "\n",
      "  0%|                                                                                           | 0/48 [00:00<?, ?it/s]\u001b[A\n",
      "  4%|███▍                                                                               | 2/48 [00:00<00:04, 11.22it/s]\u001b[A\n",
      "  8%|██████▉                                                                            | 4/48 [00:00<00:03, 11.51it/s]\u001b[A\n",
      " 12%|██████████▍                                                                        | 6/48 [00:00<00:03, 11.57it/s]\u001b[A\n",
      " 17%|█████████████▊                                                                     | 8/48 [00:00<00:03, 10.85it/s]\u001b[A\n",
      " 21%|█████████████████                                                                 | 10/48 [00:00<00:03, 10.97it/s]\u001b[A\n",
      " 25%|████████████████████▌                                                             | 12/48 [00:01<00:03, 11.04it/s]\u001b[A\n",
      " 29%|███████████████████████▉                                                          | 14/48 [00:01<00:03, 10.91it/s]\u001b[A\n",
      " 33%|███████████████████████████▎                                                      | 16/48 [00:01<00:02, 11.01it/s]\u001b[A\n",
      " 38%|██████████████████████████████▊                                                   | 18/48 [00:01<00:02, 10.55it/s]\u001b[A\n",
      " 42%|██████████████████████████████████▏                                               | 20/48 [00:01<00:02, 10.60it/s]\u001b[A\n",
      " 46%|█████████████████████████████████████▌                                            | 22/48 [00:02<00:02, 10.87it/s]\u001b[A\n",
      " 50%|█████████████████████████████████████████                                         | 24/48 [00:02<00:02, 10.97it/s]\u001b[A\n",
      " 54%|████████████████████████████████████████████▍                                     | 26/48 [00:02<00:01, 11.53it/s]\u001b[A\n",
      " 58%|███████████████████████████████████████████████▊                                  | 28/48 [00:02<00:01, 11.63it/s]\u001b[A\n",
      " 62%|███████████████████████████████████████████████████▎                              | 30/48 [00:02<00:01, 11.53it/s]\u001b[A\n",
      " 67%|██████████████████████████████████████████████████████▋                           | 32/48 [00:02<00:01, 11.36it/s]\u001b[A\n",
      " 71%|██████████████████████████████████████████████████████████                        | 34/48 [00:03<00:01, 11.39it/s]\u001b[A\n",
      " 75%|█████████████████████████████████████████████████████████████▌                    | 36/48 [00:03<00:01, 11.53it/s]\u001b[A\n",
      " 79%|████████████████████████████████████████████████████████████████▉                 | 38/48 [00:03<00:00, 11.49it/s]\u001b[A\n",
      " 83%|████████████████████████████████████████████████████████████████████▎             | 40/48 [00:03<00:00, 11.68it/s]\u001b[A\n",
      " 88%|███████████████████████████████████████████████████████████████████████▊          | 42/48 [00:03<00:00, 11.22it/s]\u001b[A\n",
      " 92%|███████████████████████████████████████████████████████████████████████████▏      | 44/48 [00:03<00:00, 11.20it/s]\u001b[A\n",
      " 96%|██████████████████████████████████████████████████████████████████████████████▌   | 46/48 [00:04<00:00, 11.93it/s]\u001b[A\n",
      "100%|██████████████████████████████████████████████████████████████████████████████████| 48/48 [00:04<00:00, 11.35it/s]\u001b[A\n",
      "\n",
      "  0%|                                                                                           | 0/48 [00:00<?, ?it/s]\u001b[A\n",
      "  4%|███▍                                                                               | 2/48 [00:00<00:03, 14.74it/s]\u001b[A\n",
      "  8%|██████▉                                                                            | 4/48 [00:00<00:02, 14.88it/s]\u001b[A\n",
      " 12%|██████████▍                                                                        | 6/48 [00:00<00:02, 15.05it/s]\u001b[A\n",
      " 17%|█████████████▊                                                                     | 8/48 [00:00<00:02, 14.38it/s]\u001b[A\n",
      " 21%|█████████████████                                                                 | 10/48 [00:00<00:02, 14.47it/s]\u001b[A\n",
      " 25%|████████████████████▌                                                             | 12/48 [00:00<00:02, 14.71it/s]\u001b[A\n",
      " 29%|███████████████████████▉                                                          | 14/48 [00:00<00:02, 14.11it/s]\u001b[A\n",
      " 33%|███████████████████████████▎                                                      | 16/48 [00:01<00:02, 14.21it/s]\u001b[A\n",
      " 38%|██████████████████████████████▊                                                   | 18/48 [00:01<00:02, 14.21it/s]\u001b[A\n",
      " 42%|██████████████████████████████████▏                                               | 20/48 [00:01<00:01, 14.24it/s]\u001b[A\n",
      " 46%|█████████████████████████████████████▌                                            | 22/48 [00:01<00:01, 14.52it/s]\u001b[A\n",
      " 50%|█████████████████████████████████████████                                         | 24/48 [00:01<00:01, 14.46it/s]\u001b[A\n",
      " 54%|████████████████████████████████████████████▍                                     | 26/48 [00:01<00:01, 15.38it/s]\u001b[A\n",
      " 58%|███████████████████████████████████████████████▊                                  | 28/48 [00:01<00:01, 15.73it/s]\u001b[A\n",
      " 62%|███████████████████████████████████████████████████▎                              | 30/48 [00:02<00:01, 15.03it/s]\u001b[A\n",
      " 67%|██████████████████████████████████████████████████████▋                           | 32/48 [00:02<00:01, 15.31it/s]\u001b[A\n",
      " 71%|██████████████████████████████████████████████████████████                        | 34/48 [00:02<00:00, 15.21it/s]\u001b[A\n",
      " 75%|█████████████████████████████████████████████████████████████▌                    | 36/48 [00:02<00:00, 15.14it/s]\u001b[A\n",
      " 79%|████████████████████████████████████████████████████████████████▉                 | 38/48 [00:02<00:00, 15.52it/s]\u001b[A\n",
      " 83%|████████████████████████████████████████████████████████████████████▎             | 40/48 [00:02<00:00, 15.51it/s]\u001b[A\n",
      " 88%|███████████████████████████████████████████████████████████████████████▊          | 42/48 [00:02<00:00, 15.22it/s]\u001b[A\n",
      " 92%|███████████████████████████████████████████████████████████████████████████▏      | 44/48 [00:02<00:00, 15.30it/s]\u001b[A\n",
      " 96%|██████████████████████████████████████████████████████████████████████████████▌   | 46/48 [00:03<00:00, 15.93it/s]\u001b[A\n",
      "100%|██████████████████████████████████████████████████████████████████████████████████| 48/48 [00:03<00:00, 15.09it/s]\u001b[A\n",
      "\n",
      "  0%|                                                                                           | 0/48 [00:00<?, ?it/s]\u001b[A\n",
      "  4%|███▍                                                                               | 2/48 [00:00<00:02, 15.35it/s]\u001b[A\n",
      "  8%|██████▉                                                                            | 4/48 [00:00<00:02, 15.37it/s]\u001b[A\n",
      " 12%|██████████▍                                                                        | 6/48 [00:00<00:02, 15.55it/s]\u001b[A\n",
      " 17%|█████████████▊                                                                     | 8/48 [00:00<00:02, 14.17it/s]\u001b[A\n",
      " 21%|█████████████████                                                                 | 10/48 [00:00<00:02, 14.32it/s]\u001b[A\n",
      " 25%|████████████████████▌                                                             | 12/48 [00:00<00:02, 14.50it/s]\u001b[A\n",
      " 29%|███████████████████████▉                                                          | 14/48 [00:00<00:02, 14.21it/s]\u001b[A\n",
      " 33%|███████████████████████████▎                                                      | 16/48 [00:01<00:02, 14.57it/s]\u001b[A\n",
      " 38%|██████████████████████████████▊                                                   | 18/48 [00:01<00:02, 14.63it/s]\u001b[A\n",
      " 42%|██████████████████████████████████▏                                               | 20/48 [00:01<00:01, 14.32it/s]\u001b[A\n",
      " 46%|█████████████████████████████████████▌                                            | 22/48 [00:01<00:01, 13.67it/s]\u001b[A\n",
      " 50%|█████████████████████████████████████████                                         | 24/48 [00:01<00:01, 13.86it/s]\u001b[A\n",
      " 54%|████████████████████████████████████████████▍                                     | 26/48 [00:01<00:01, 14.93it/s]\u001b[A\n",
      " 58%|███████████████████████████████████████████████▊                                  | 28/48 [00:01<00:01, 15.41it/s]\u001b[A\n",
      " 62%|███████████████████████████████████████████████████▎                              | 30/48 [00:02<00:01, 15.36it/s]\u001b[A\n"
     ]
    },
    {
     "name": "stderr",
     "output_type": "stream",
     "text": [
      " 67%|██████████████████████████████████████████████████████▋                           | 32/48 [00:02<00:01, 15.31it/s]\u001b[A\n",
      " 71%|██████████████████████████████████████████████████████████                        | 34/48 [00:02<00:00, 15.42it/s]\u001b[A\n",
      " 75%|█████████████████████████████████████████████████████████████▌                    | 36/48 [00:02<00:00, 15.31it/s]\u001b[A\n",
      " 79%|████████████████████████████████████████████████████████████████▉                 | 38/48 [00:02<00:00, 14.46it/s]\u001b[A\n",
      " 83%|████████████████████████████████████████████████████████████████████▎             | 40/48 [00:02<00:00, 15.04it/s]\u001b[A\n",
      " 88%|███████████████████████████████████████████████████████████████████████▊          | 42/48 [00:02<00:00, 15.01it/s]\u001b[A\n",
      " 92%|███████████████████████████████████████████████████████████████████████████▏      | 44/48 [00:02<00:00, 15.00it/s]\u001b[A\n",
      " 96%|██████████████████████████████████████████████████████████████████████████████▌   | 46/48 [00:03<00:00, 16.01it/s]\u001b[A\n",
      "100%|██████████████████████████████████████████████████████████████████████████████████| 48/48 [00:03<00:00, 14.98it/s]\u001b[A\n",
      "\n",
      "  0%|                                                                                           | 0/48 [00:00<?, ?it/s]\u001b[A\n",
      "  4%|███▍                                                                               | 2/48 [00:00<00:03, 15.18it/s]\u001b[A\n",
      "  8%|██████▉                                                                            | 4/48 [00:00<00:02, 15.17it/s]\u001b[A\n",
      " 12%|██████████▍                                                                        | 6/48 [00:00<00:02, 15.00it/s]\u001b[A\n",
      " 17%|█████████████▊                                                                     | 8/48 [00:00<00:02, 14.46it/s]\u001b[A\n",
      " 21%|█████████████████                                                                 | 10/48 [00:00<00:02, 14.61it/s]\u001b[A\n",
      " 25%|████████████████████▌                                                             | 12/48 [00:00<00:02, 14.69it/s]\u001b[A\n",
      " 29%|███████████████████████▉                                                          | 14/48 [00:00<00:02, 13.46it/s]\u001b[A\n",
      " 33%|███████████████████████████▎                                                      | 16/48 [00:01<00:02, 13.89it/s]\u001b[A\n",
      " 38%|██████████████████████████████▊                                                   | 18/48 [00:01<00:02, 13.92it/s]\u001b[A\n",
      " 42%|██████████████████████████████████▏                                               | 20/48 [00:01<00:01, 14.09it/s]\u001b[A\n",
      " 46%|█████████████████████████████████████▌                                            | 22/48 [00:01<00:01, 14.25it/s]\u001b[A\n",
      " 50%|█████████████████████████████████████████                                         | 24/48 [00:01<00:01, 14.47it/s]\u001b[A\n",
      " 54%|████████████████████████████████████████████▍                                     | 26/48 [00:01<00:01, 15.55it/s]\u001b[A\n",
      " 58%|███████████████████████████████████████████████▊                                  | 28/48 [00:01<00:01, 15.82it/s]\u001b[A\n",
      " 62%|███████████████████████████████████████████████████▎                              | 30/48 [00:02<00:01, 14.58it/s]\u001b[A\n",
      " 67%|██████████████████████████████████████████████████████▋                           | 32/48 [00:02<00:01, 14.74it/s]\u001b[A\n",
      " 71%|██████████████████████████████████████████████████████████                        | 34/48 [00:02<00:00, 15.00it/s]\u001b[A\n",
      " 75%|█████████████████████████████████████████████████████████████▌                    | 36/48 [00:02<00:00, 15.01it/s]\u001b[A\n",
      " 79%|████████████████████████████████████████████████████████████████▉                 | 38/48 [00:02<00:00, 15.31it/s]\u001b[A\n",
      " 83%|████████████████████████████████████████████████████████████████████▎             | 40/48 [00:02<00:00, 15.63it/s]\u001b[A\n",
      " 88%|███████████████████████████████████████████████████████████████████████▊          | 42/48 [00:02<00:00, 15.38it/s]\u001b[A\n",
      " 92%|███████████████████████████████████████████████████████████████████████████▏      | 44/48 [00:03<00:00, 14.16it/s]\u001b[A\n",
      " 96%|██████████████████████████████████████████████████████████████████████████████▌   | 46/48 [00:03<00:00, 15.37it/s]\u001b[A\n",
      "100%|██████████████████████████████████████████████████████████████████████████████████| 48/48 [00:03<00:00, 14.88it/s]\u001b[A\n",
      "\n",
      "  0%|                                                                                          | 0/575 [00:00<?, ?it/s]\u001b[A\n",
      " 22%|█████████████████▎                                                            | 128/575 [00:00<00:00, 1212.59it/s]\u001b[A\n",
      " 44%|██████████████████████████████████▍                                           | 254/575 [00:00<00:00, 1215.95it/s]\u001b[A\n",
      " 65%|███████████████████████████████████████████████████                           | 376/575 [00:00<00:00, 1120.52it/s]\u001b[A\n",
      "100%|██████████████████████████████████████████████████████████████████████████████| 575/575 [00:00<00:00, 1080.56it/s]\u001b[A\n",
      "  6%|████▌                                                                          | 21/363 [05:45<3:03:22, 32.17s/it]"
     ]
    },
    {
     "name": "stdout",
     "output_type": "stream",
     "text": [
      "Loaded decoded: -1.3290331363677979\n"
     ]
    },
    {
     "name": "stderr",
     "output_type": "stream",
     "text": [
      "\n",
      "  0%|                                                                                           | 0/48 [00:00<?, ?it/s]\u001b[A\n",
      "  4%|███▍                                                                               | 2/48 [00:00<00:04, 10.78it/s]\u001b[A\n",
      "  8%|██████▉                                                                            | 4/48 [00:00<00:03, 11.04it/s]\u001b[A\n",
      " 12%|██████████▍                                                                        | 6/48 [00:00<00:03, 10.84it/s]\u001b[A\n",
      " 17%|█████████████▊                                                                     | 8/48 [00:00<00:03, 10.16it/s]\u001b[A\n",
      " 21%|█████████████████                                                                 | 10/48 [00:00<00:03, 10.50it/s]\u001b[A\n",
      " 25%|████████████████████▌                                                             | 12/48 [00:01<00:03, 10.57it/s]\u001b[A\n",
      " 29%|███████████████████████▉                                                          | 14/48 [00:01<00:03, 10.47it/s]\u001b[A\n",
      " 33%|███████████████████████████▎                                                      | 16/48 [00:01<00:03, 10.57it/s]\u001b[A\n",
      " 38%|██████████████████████████████▊                                                   | 18/48 [00:01<00:02, 10.41it/s]\u001b[A\n",
      " 42%|██████████████████████████████████▏                                               | 20/48 [00:01<00:02, 10.24it/s]\u001b[A\n",
      " 46%|█████████████████████████████████████▌                                            | 22/48 [00:02<00:02, 10.36it/s]\u001b[A\n",
      " 50%|█████████████████████████████████████████                                         | 24/48 [00:02<00:02, 10.32it/s]\u001b[A\n",
      " 54%|████████████████████████████████████████████▍                                     | 26/48 [00:02<00:01, 11.19it/s]\u001b[A\n",
      " 58%|███████████████████████████████████████████████▊                                  | 28/48 [00:02<00:01, 11.06it/s]\u001b[A\n",
      " 62%|███████████████████████████████████████████████████▎                              | 30/48 [00:02<00:01, 11.16it/s]\u001b[A\n",
      " 67%|██████████████████████████████████████████████████████▋                           | 32/48 [00:02<00:01, 11.05it/s]\u001b[A\n",
      " 71%|██████████████████████████████████████████████████████████                        | 34/48 [00:03<00:01, 11.27it/s]\u001b[A\n",
      " 75%|█████████████████████████████████████████████████████████████▌                    | 36/48 [00:03<00:01, 11.51it/s]\u001b[A\n",
      " 79%|████████████████████████████████████████████████████████████████▉                 | 38/48 [00:03<00:00, 11.41it/s]\u001b[A\n",
      " 83%|████████████████████████████████████████████████████████████████████▎             | 40/48 [00:03<00:00, 11.36it/s]\u001b[A\n",
      " 88%|███████████████████████████████████████████████████████████████████████▊          | 42/48 [00:03<00:00, 11.15it/s]\u001b[A\n",
      " 92%|███████████████████████████████████████████████████████████████████████████▏      | 44/48 [00:04<00:00, 11.19it/s]\u001b[A\n",
      " 96%|██████████████████████████████████████████████████████████████████████████████▌   | 46/48 [00:04<00:00, 11.47it/s]\u001b[A\n",
      "100%|██████████████████████████████████████████████████████████████████████████████████| 48/48 [00:04<00:00, 10.96it/s]\u001b[A\n",
      "\n",
      "  0%|                                                                                           | 0/48 [00:00<?, ?it/s]\u001b[A\n",
      "  4%|███▍                                                                               | 2/48 [00:00<00:03, 13.21it/s]\u001b[A\n",
      "  8%|██████▉                                                                            | 4/48 [00:00<00:03, 13.80it/s]\u001b[A\n",
      " 12%|██████████▍                                                                        | 6/48 [00:00<00:03, 13.91it/s]\u001b[A\n",
      " 17%|█████████████▊                                                                     | 8/48 [00:00<00:03, 13.09it/s]\u001b[A\n",
      " 21%|█████████████████                                                                 | 10/48 [00:00<00:02, 13.43it/s]\u001b[A\n",
      " 25%|████████████████████▌                                                             | 12/48 [00:00<00:02, 13.48it/s]\u001b[A\n",
      " 29%|███████████████████████▉                                                          | 14/48 [00:01<00:02, 13.37it/s]\u001b[A\n",
      " 33%|███████████████████████████▎                                                      | 16/48 [00:01<00:02, 13.59it/s]\u001b[A\n",
      " 38%|██████████████████████████████▊                                                   | 18/48 [00:01<00:02, 13.45it/s]\u001b[A\n",
      " 42%|██████████████████████████████████▏                                               | 20/48 [00:01<00:02, 13.41it/s]\u001b[A\n",
      " 46%|█████████████████████████████████████▌                                            | 22/48 [00:01<00:01, 13.53it/s]\u001b[A\n",
      " 50%|█████████████████████████████████████████                                         | 24/48 [00:01<00:01, 13.58it/s]\u001b[A\n",
      " 54%|████████████████████████████████████████████▍                                     | 26/48 [00:01<00:01, 14.20it/s]\u001b[A\n",
      " 58%|███████████████████████████████████████████████▊                                  | 28/48 [00:02<00:01, 14.45it/s]\u001b[A\n",
      " 62%|███████████████████████████████████████████████████▎                              | 30/48 [00:02<00:01, 14.69it/s]\u001b[A\n",
      " 67%|██████████████████████████████████████████████████████▋                           | 32/48 [00:02<00:01, 14.72it/s]\u001b[A\n",
      " 71%|██████████████████████████████████████████████████████████                        | 34/48 [00:02<00:00, 15.05it/s]\u001b[A\n",
      " 75%|█████████████████████████████████████████████████████████████▌                    | 36/48 [00:02<00:00, 15.51it/s]\u001b[A\n",
      " 79%|████████████████████████████████████████████████████████████████▉                 | 38/48 [00:02<00:00, 15.21it/s]\u001b[A\n",
      " 83%|████████████████████████████████████████████████████████████████████▎             | 40/48 [00:02<00:00, 13.81it/s]\u001b[A\n",
      " 88%|███████████████████████████████████████████████████████████████████████▊          | 42/48 [00:03<00:00, 13.94it/s]\u001b[A\n",
      " 92%|███████████████████████████████████████████████████████████████████████████▏      | 44/48 [00:03<00:00, 14.16it/s]\u001b[A\n",
      " 96%|██████████████████████████████████████████████████████████████████████████████▌   | 46/48 [00:03<00:00, 14.72it/s]\u001b[A\n",
      "100%|██████████████████████████████████████████████████████████████████████████████████| 48/48 [00:03<00:00, 14.14it/s]\u001b[A\n",
      "\n",
      "  0%|                                                                                           | 0/48 [00:00<?, ?it/s]\u001b[A\n",
      "  4%|███▍                                                                               | 2/48 [00:00<00:03, 13.59it/s]\u001b[A\n",
      "  8%|██████▉                                                                            | 4/48 [00:00<00:03, 13.62it/s]\u001b[A\n",
      " 12%|██████████▍                                                                        | 6/48 [00:00<00:03, 13.67it/s]\u001b[A\n",
      " 17%|█████████████▊                                                                     | 8/48 [00:00<00:03, 13.17it/s]\u001b[A\n",
      " 21%|█████████████████                                                                 | 10/48 [00:00<00:02, 13.58it/s]\u001b[A\n",
      " 25%|████████████████████▌                                                             | 12/48 [00:00<00:02, 13.64it/s]\u001b[A\n",
      " 29%|███████████████████████▉                                                          | 14/48 [00:01<00:02, 13.21it/s]\u001b[A\n",
      " 33%|███████████████████████████▎                                                      | 16/48 [00:01<00:02, 13.36it/s]\u001b[A\n",
      " 38%|██████████████████████████████▊                                                   | 18/48 [00:01<00:02, 13.37it/s]\u001b[A\n",
      " 42%|██████████████████████████████████▏                                               | 20/48 [00:01<00:02, 13.16it/s]\u001b[A\n",
      " 46%|█████████████████████████████████████▌                                            | 22/48 [00:01<00:01, 13.45it/s]\u001b[A\n",
      " 50%|█████████████████████████████████████████                                         | 24/48 [00:01<00:01, 13.56it/s]\u001b[A\n",
      " 54%|████████████████████████████████████████████▍                                     | 26/48 [00:01<00:01, 14.49it/s]\u001b[A\n",
      " 58%|███████████████████████████████████████████████▊                                  | 28/48 [00:02<00:01, 14.58it/s]\u001b[A\n",
      " 62%|███████████████████████████████████████████████████▎                              | 30/48 [00:02<00:01, 14.56it/s]\u001b[A\n"
     ]
    },
    {
     "name": "stderr",
     "output_type": "stream",
     "text": [
      " 67%|██████████████████████████████████████████████████████▋                           | 32/48 [00:02<00:01, 14.42it/s]\u001b[A\n",
      " 71%|██████████████████████████████████████████████████████████                        | 34/48 [00:02<00:00, 14.85it/s]\u001b[A\n",
      " 75%|█████████████████████████████████████████████████████████████▌                    | 36/48 [00:02<00:00, 15.45it/s]\u001b[A\n",
      " 79%|████████████████████████████████████████████████████████████████▉                 | 38/48 [00:02<00:00, 15.33it/s]\u001b[A\n",
      " 83%|████████████████████████████████████████████████████████████████████▎             | 40/48 [00:02<00:00, 15.17it/s]\u001b[A\n",
      " 88%|███████████████████████████████████████████████████████████████████████▊          | 42/48 [00:02<00:00, 14.90it/s]\u001b[A\n",
      " 92%|███████████████████████████████████████████████████████████████████████████▏      | 44/48 [00:03<00:00, 14.51it/s]\u001b[A\n",
      " 96%|██████████████████████████████████████████████████████████████████████████████▌   | 46/48 [00:03<00:00, 15.33it/s]\u001b[A\n",
      "100%|██████████████████████████████████████████████████████████████████████████████████| 48/48 [00:03<00:00, 14.30it/s]\u001b[A\n",
      "\n",
      "  0%|                                                                                           | 0/48 [00:00<?, ?it/s]\u001b[A\n",
      "  4%|███▍                                                                               | 2/48 [00:00<00:03, 13.91it/s]\u001b[A\n",
      "  8%|██████▉                                                                            | 4/48 [00:00<00:03, 14.08it/s]\u001b[A\n",
      " 12%|██████████▍                                                                        | 6/48 [00:00<00:03, 13.90it/s]\u001b[A\n",
      " 17%|█████████████▊                                                                     | 8/48 [00:00<00:03, 12.98it/s]\u001b[A\n",
      " 21%|█████████████████                                                                 | 10/48 [00:00<00:02, 13.60it/s]\u001b[A\n",
      " 25%|████████████████████▌                                                             | 12/48 [00:00<00:02, 13.52it/s]\u001b[A\n",
      " 29%|███████████████████████▉                                                          | 14/48 [00:01<00:02, 13.38it/s]\u001b[A\n",
      " 33%|███████████████████████████▎                                                      | 16/48 [00:01<00:02, 13.61it/s]\u001b[A\n",
      " 38%|██████████████████████████████▊                                                   | 18/48 [00:01<00:02, 13.33it/s]\u001b[A\n",
      " 42%|██████████████████████████████████▏                                               | 20/48 [00:01<00:02, 13.30it/s]\u001b[A\n",
      " 46%|█████████████████████████████████████▌                                            | 22/48 [00:01<00:01, 13.53it/s]\u001b[A\n",
      " 50%|█████████████████████████████████████████                                         | 24/48 [00:01<00:01, 13.53it/s]\u001b[A\n",
      " 54%|████████████████████████████████████████████▍                                     | 26/48 [00:01<00:01, 14.63it/s]\u001b[A\n",
      " 58%|███████████████████████████████████████████████▊                                  | 28/48 [00:02<00:01, 14.56it/s]\u001b[A\n",
      " 62%|███████████████████████████████████████████████████▎                              | 30/48 [00:02<00:01, 14.66it/s]\u001b[A\n",
      " 67%|██████████████████████████████████████████████████████▋                           | 32/48 [00:02<00:01, 14.65it/s]\u001b[A\n",
      " 71%|██████████████████████████████████████████████████████████                        | 34/48 [00:02<00:00, 14.70it/s]\u001b[A\n",
      " 75%|█████████████████████████████████████████████████████████████▌                    | 36/48 [00:02<00:00, 15.50it/s]\u001b[A\n",
      " 79%|████████████████████████████████████████████████████████████████▉                 | 38/48 [00:02<00:00, 15.09it/s]\u001b[A\n",
      " 83%|████████████████████████████████████████████████████████████████████▎             | 40/48 [00:02<00:00, 15.04it/s]\u001b[A\n",
      " 88%|███████████████████████████████████████████████████████████████████████▊          | 42/48 [00:02<00:00, 15.05it/s]\u001b[A\n",
      " 92%|███████████████████████████████████████████████████████████████████████████▏      | 44/48 [00:03<00:00, 14.77it/s]\u001b[A\n",
      " 96%|██████████████████████████████████████████████████████████████████████████████▌   | 46/48 [00:03<00:00, 15.50it/s]\u001b[A\n",
      "100%|██████████████████████████████████████████████████████████████████████████████████| 48/48 [00:03<00:00, 14.31it/s]\u001b[A\n",
      "\n",
      "  0%|                                                                                          | 0/575 [00:00<?, ?it/s]\u001b[A\n",
      " 21%|████████████████▍                                                             | 121/575 [00:00<00:00, 1165.77it/s]\u001b[A\n",
      " 42%|████████████████████████████████▉                                             | 243/575 [00:00<00:00, 1164.17it/s]\u001b[A\n",
      " 63%|████████████████████████████████████████████████▊                             | 360/575 [00:00<00:00, 1112.74it/s]\u001b[A\n",
      " 82%|████████████████████████████████████████████████████████████████              | 472/575 [00:00<00:00, 1020.41it/s]\u001b[A\n",
      "100%|██████████████████████████████████████████████████████████████████████████████| 575/575 [00:00<00:00, 1030.51it/s]\u001b[A\n",
      "  6%|████▊                                                                          | 22/363 [06:36<3:26:53, 36.40s/it]"
     ]
    },
    {
     "name": "stdout",
     "output_type": "stream",
     "text": [
      "Loaded decoded: -1.4517760276794434\n"
     ]
    },
    {
     "name": "stderr",
     "output_type": "stream",
     "text": [
      "\n",
      "  0%|                                                                                           | 0/48 [00:00<?, ?it/s]\u001b[A\n",
      "  4%|███▍                                                                               | 2/48 [00:00<00:04, 11.04it/s]\u001b[A\n",
      "  8%|██████▉                                                                            | 4/48 [00:00<00:04, 10.84it/s]\u001b[A\n",
      " 12%|██████████▍                                                                        | 6/48 [00:00<00:03, 10.70it/s]\u001b[A\n",
      " 17%|█████████████▊                                                                     | 8/48 [00:00<00:03, 10.01it/s]\u001b[A\n",
      " 21%|█████████████████                                                                 | 10/48 [00:00<00:03, 10.28it/s]\u001b[A\n",
      " 25%|████████████████████▌                                                             | 12/48 [00:01<00:03, 10.51it/s]\u001b[A\n",
      " 29%|███████████████████████▉                                                          | 14/48 [00:01<00:03, 10.52it/s]\u001b[A\n",
      " 33%|███████████████████████████▎                                                      | 16/48 [00:01<00:03, 10.63it/s]\u001b[A\n",
      " 38%|██████████████████████████████▊                                                   | 18/48 [00:01<00:02, 10.37it/s]\u001b[A\n",
      " 42%|██████████████████████████████████▏                                               | 20/48 [00:01<00:02, 10.47it/s]\u001b[A\n",
      " 46%|█████████████████████████████████████▌                                            | 22/48 [00:02<00:02, 10.41it/s]\u001b[A\n",
      " 50%|█████████████████████████████████████████                                         | 24/48 [00:02<00:02, 10.49it/s]\u001b[A\n",
      " 54%|████████████████████████████████████████████▍                                     | 26/48 [00:02<00:02, 10.87it/s]\u001b[A\n",
      " 58%|███████████████████████████████████████████████▊                                  | 28/48 [00:02<00:01, 10.84it/s]\u001b[A\n",
      " 62%|███████████████████████████████████████████████████▎                              | 30/48 [00:02<00:01, 11.08it/s]\u001b[A\n",
      " 67%|██████████████████████████████████████████████████████▋                           | 32/48 [00:02<00:01, 11.28it/s]\u001b[A\n",
      " 71%|██████████████████████████████████████████████████████████                        | 34/48 [00:03<00:01, 11.34it/s]\u001b[A\n",
      " 75%|█████████████████████████████████████████████████████████████▌                    | 36/48 [00:03<00:01, 11.94it/s]\u001b[A\n",
      " 79%|████████████████████████████████████████████████████████████████▉                 | 38/48 [00:03<00:00, 11.49it/s]\u001b[A\n",
      " 83%|████████████████████████████████████████████████████████████████████▎             | 40/48 [00:03<00:00, 11.46it/s]\u001b[A\n",
      " 88%|███████████████████████████████████████████████████████████████████████▊          | 42/48 [00:03<00:00, 11.20it/s]\u001b[A\n",
      " 92%|███████████████████████████████████████████████████████████████████████████▏      | 44/48 [00:04<00:00, 11.34it/s]\u001b[A\n",
      " 96%|██████████████████████████████████████████████████████████████████████████████▌   | 46/48 [00:04<00:00, 11.89it/s]\u001b[A\n",
      "100%|██████████████████████████████████████████████████████████████████████████████████| 48/48 [00:04<00:00, 11.01it/s]\u001b[A\n",
      "\n",
      "  0%|                                                                                           | 0/48 [00:00<?, ?it/s]\u001b[A\n",
      "  4%|███▍                                                                               | 2/48 [00:00<00:03, 13.94it/s]\u001b[A\n",
      "  8%|██████▉                                                                            | 4/48 [00:00<00:03, 14.16it/s]\u001b[A\n",
      " 12%|██████████▍                                                                        | 6/48 [00:00<00:02, 14.01it/s]\u001b[A\n",
      " 17%|█████████████▊                                                                     | 8/48 [00:00<00:03, 13.24it/s]\u001b[A\n",
      " 21%|█████████████████                                                                 | 10/48 [00:00<00:02, 13.52it/s]\u001b[A\n",
      " 25%|████████████████████▌                                                             | 12/48 [00:00<00:02, 13.08it/s]\u001b[A\n",
      " 29%|███████████████████████▉                                                          | 14/48 [00:01<00:02, 13.30it/s]\u001b[A\n",
      " 33%|███████████████████████████▎                                                      | 16/48 [00:01<00:02, 13.55it/s]\u001b[A\n",
      " 38%|██████████████████████████████▊                                                   | 18/48 [00:01<00:02, 13.59it/s]\u001b[A\n",
      " 42%|██████████████████████████████████▏                                               | 20/48 [00:01<00:02, 13.49it/s]\u001b[A\n",
      " 46%|█████████████████████████████████████▌                                            | 22/48 [00:01<00:01, 13.60it/s]\u001b[A\n",
      " 50%|█████████████████████████████████████████                                         | 24/48 [00:01<00:01, 13.67it/s]\u001b[A\n",
      " 54%|████████████████████████████████████████████▍                                     | 26/48 [00:01<00:01, 13.44it/s]\u001b[A\n",
      " 58%|███████████████████████████████████████████████▊                                  | 28/48 [00:02<00:01, 14.11it/s]\u001b[A\n",
      " 62%|███████████████████████████████████████████████████▎                              | 30/48 [00:02<00:01, 14.67it/s]\u001b[A\n",
      " 67%|██████████████████████████████████████████████████████▋                           | 32/48 [00:02<00:01, 14.79it/s]\u001b[A\n",
      " 71%|██████████████████████████████████████████████████████████                        | 34/48 [00:02<00:00, 15.18it/s]\u001b[A\n",
      " 75%|█████████████████████████████████████████████████████████████▌                    | 36/48 [00:02<00:00, 15.69it/s]\u001b[A\n",
      " 79%|████████████████████████████████████████████████████████████████▉                 | 38/48 [00:02<00:00, 15.27it/s]\u001b[A\n",
      " 83%|████████████████████████████████████████████████████████████████████▎             | 40/48 [00:02<00:00, 14.48it/s]\u001b[A\n",
      " 88%|███████████████████████████████████████████████████████████████████████▊          | 42/48 [00:02<00:00, 14.65it/s]\u001b[A\n",
      " 92%|███████████████████████████████████████████████████████████████████████████▏      | 44/48 [00:03<00:00, 14.71it/s]\u001b[A\n",
      " 96%|██████████████████████████████████████████████████████████████████████████████▌   | 46/48 [00:03<00:00, 15.57it/s]\u001b[A\n",
      "100%|██████████████████████████████████████████████████████████████████████████████████| 48/48 [00:03<00:00, 14.30it/s]\u001b[A\n",
      "\n",
      "  0%|                                                                                           | 0/48 [00:00<?, ?it/s]\u001b[A\n",
      "  4%|███▍                                                                               | 2/48 [00:00<00:03, 12.65it/s]\u001b[A\n",
      "  8%|██████▉                                                                            | 4/48 [00:00<00:03, 13.50it/s]\u001b[A\n",
      " 12%|██████████▍                                                                        | 6/48 [00:00<00:03, 13.66it/s]\u001b[A\n",
      " 17%|█████████████▊                                                                     | 8/48 [00:00<00:03, 13.07it/s]\u001b[A\n",
      " 21%|█████████████████                                                                 | 10/48 [00:00<00:02, 13.48it/s]\u001b[A\n",
      " 25%|████████████████████▌                                                             | 12/48 [00:00<00:02, 13.63it/s]\u001b[A\n",
      " 29%|███████████████████████▉                                                          | 14/48 [00:01<00:02, 13.73it/s]\u001b[A\n",
      " 33%|███████████████████████████▎                                                      | 16/48 [00:01<00:02, 13.11it/s]\u001b[A\n",
      " 38%|██████████████████████████████▊                                                   | 18/48 [00:01<00:02, 13.08it/s]\u001b[A\n",
      " 42%|██████████████████████████████████▏                                               | 20/48 [00:01<00:02, 13.05it/s]\u001b[A\n",
      " 46%|█████████████████████████████████████▌                                            | 22/48 [00:01<00:01, 13.33it/s]\u001b[A\n",
      " 50%|█████████████████████████████████████████                                         | 24/48 [00:01<00:01, 13.61it/s]\u001b[A\n",
      " 54%|████████████████████████████████████████████▍                                     | 26/48 [00:01<00:01, 14.27it/s]\u001b[A\n",
      " 58%|███████████████████████████████████████████████▊                                  | 28/48 [00:02<00:01, 14.67it/s]\u001b[A\n",
      " 62%|███████████████████████████████████████████████████▎                              | 30/48 [00:02<00:01, 14.12it/s]\u001b[A\n"
     ]
    },
    {
     "name": "stderr",
     "output_type": "stream",
     "text": [
      " 67%|██████████████████████████████████████████████████████▋                           | 32/48 [00:02<00:01, 14.67it/s]\u001b[A\n",
      " 71%|██████████████████████████████████████████████████████████                        | 34/48 [00:02<00:00, 14.87it/s]\u001b[A\n",
      " 75%|█████████████████████████████████████████████████████████████▌                    | 36/48 [00:02<00:00, 15.68it/s]\u001b[A\n",
      " 79%|████████████████████████████████████████████████████████████████▉                 | 38/48 [00:02<00:00, 15.14it/s]\u001b[A\n",
      " 83%|████████████████████████████████████████████████████████████████████▎             | 40/48 [00:02<00:00, 15.37it/s]\u001b[A\n",
      " 88%|███████████████████████████████████████████████████████████████████████▊          | 42/48 [00:02<00:00, 15.14it/s]\u001b[A\n",
      " 92%|███████████████████████████████████████████████████████████████████████████▏      | 44/48 [00:03<00:00, 14.71it/s]\u001b[A\n",
      " 96%|██████████████████████████████████████████████████████████████████████████████▌   | 46/48 [00:03<00:00, 15.50it/s]\u001b[A\n",
      "100%|██████████████████████████████████████████████████████████████████████████████████| 48/48 [00:03<00:00, 14.29it/s]\u001b[A\n",
      "\n",
      "  0%|                                                                                           | 0/48 [00:00<?, ?it/s]\u001b[A\n",
      "  4%|███▍                                                                               | 2/48 [00:00<00:03, 14.42it/s]\u001b[A\n",
      "  8%|██████▉                                                                            | 4/48 [00:00<00:03, 14.12it/s]\u001b[A\n",
      " 12%|██████████▍                                                                        | 6/48 [00:00<00:03, 12.78it/s]\u001b[A\n",
      " 17%|█████████████▊                                                                     | 8/48 [00:00<00:03, 12.40it/s]\u001b[A\n",
      " 21%|█████████████████                                                                 | 10/48 [00:00<00:02, 12.92it/s]\u001b[A\n",
      " 25%|████████████████████▌                                                             | 12/48 [00:00<00:02, 13.46it/s]\u001b[A\n",
      " 29%|███████████████████████▉                                                          | 14/48 [00:01<00:02, 13.36it/s]\u001b[A\n",
      " 33%|███████████████████████████▎                                                      | 16/48 [00:01<00:02, 13.68it/s]\u001b[A\n",
      " 38%|██████████████████████████████▊                                                   | 18/48 [00:01<00:02, 13.21it/s]\u001b[A\n",
      " 42%|██████████████████████████████████▏                                               | 20/48 [00:01<00:02, 13.23it/s]\u001b[A\n",
      " 46%|█████████████████████████████████████▌                                            | 22/48 [00:01<00:01, 13.44it/s]\u001b[A\n",
      " 50%|█████████████████████████████████████████                                         | 24/48 [00:01<00:01, 13.57it/s]\u001b[A\n",
      " 54%|████████████████████████████████████████████▍                                     | 26/48 [00:01<00:01, 14.29it/s]\u001b[A\n",
      " 58%|███████████████████████████████████████████████▊                                  | 28/48 [00:02<00:01, 14.56it/s]\u001b[A\n",
      " 62%|███████████████████████████████████████████████████▎                              | 30/48 [00:02<00:01, 15.05it/s]\u001b[A\n",
      " 67%|██████████████████████████████████████████████████████▋                           | 32/48 [00:02<00:01, 15.16it/s]\u001b[A\n",
      " 71%|██████████████████████████████████████████████████████████                        | 34/48 [00:02<00:00, 14.36it/s]\u001b[A\n",
      " 75%|█████████████████████████████████████████████████████████████▌                    | 36/48 [00:02<00:00, 15.13it/s]\u001b[A\n",
      " 79%|████████████████████████████████████████████████████████████████▉                 | 38/48 [00:02<00:00, 14.99it/s]\u001b[A\n",
      " 83%|████████████████████████████████████████████████████████████████████▎             | 40/48 [00:02<00:00, 15.20it/s]\u001b[A\n",
      " 88%|███████████████████████████████████████████████████████████████████████▊          | 42/48 [00:02<00:00, 14.92it/s]\u001b[A\n",
      " 92%|███████████████████████████████████████████████████████████████████████████▏      | 44/48 [00:03<00:00, 15.13it/s]\u001b[A\n",
      " 96%|██████████████████████████████████████████████████████████████████████████████▌   | 46/48 [00:03<00:00, 15.90it/s]\u001b[A\n",
      "100%|██████████████████████████████████████████████████████████████████████████████████| 48/48 [00:03<00:00, 14.21it/s]\u001b[A\n",
      "\n",
      "  0%|                                                                                          | 0/575 [00:00<?, ?it/s]\u001b[A\n",
      " 23%|█████████████████▊                                                            | 131/575 [00:00<00:00, 1226.76it/s]\u001b[A\n",
      " 44%|██████████████████████████████████▍                                           | 254/575 [00:00<00:00, 1225.22it/s]\u001b[A\n",
      " 66%|███████████████████████████████████████████████████▏                          | 377/575 [00:00<00:00, 1124.13it/s]\u001b[A\n",
      "100%|██████████████████████████████████████████████████████████████████████████████| 575/575 [00:00<00:00, 1074.50it/s]\u001b[A\n",
      "  6%|█████                                                                          | 23/363 [07:28<3:48:44, 40.37s/it]"
     ]
    },
    {
     "name": "stdout",
     "output_type": "stream",
     "text": [
      "Loaded decoded: -1.880384922027588\n"
     ]
    },
    {
     "name": "stderr",
     "output_type": "stream",
     "text": [
      "\n",
      "  0%|                                                                                           | 0/48 [00:00<?, ?it/s]\u001b[A\n",
      "  4%|███▍                                                                               | 2/48 [00:00<00:04, 10.33it/s]\u001b[A\n",
      "  8%|██████▉                                                                            | 4/48 [00:00<00:04, 10.57it/s]\u001b[A\n",
      " 12%|██████████▍                                                                        | 6/48 [00:00<00:04, 10.42it/s]\u001b[A\n",
      " 17%|█████████████▊                                                                     | 8/48 [00:00<00:04,  9.75it/s]\u001b[A\n",
      " 21%|█████████████████                                                                 | 10/48 [00:00<00:03, 10.10it/s]\u001b[A\n",
      " 25%|████████████████████▌                                                             | 12/48 [00:01<00:03,  9.85it/s]\u001b[A\n",
      " 27%|██████████████████████▏                                                           | 13/48 [00:01<00:03,  9.86it/s]\u001b[A\n",
      " 29%|███████████████████████▉                                                          | 14/48 [00:01<00:03,  9.61it/s]\u001b[A\n",
      " 33%|███████████████████████████▎                                                      | 16/48 [00:01<00:03,  9.90it/s]\u001b[A\n",
      " 35%|█████████████████████████████                                                     | 17/48 [00:01<00:03,  9.72it/s]\u001b[A\n",
      " 38%|██████████████████████████████▊                                                   | 18/48 [00:01<00:03,  9.77it/s]\u001b[A\n",
      " 40%|████████████████████████████████▍                                                 | 19/48 [00:01<00:02,  9.82it/s]\u001b[A\n",
      " 42%|██████████████████████████████████▏                                               | 20/48 [00:02<00:02,  9.87it/s]\u001b[A\n",
      " 44%|███████████████████████████████████▉                                              | 21/48 [00:02<00:02,  9.67it/s]\u001b[A\n",
      " 48%|███████████████████████████████████████▎                                          | 23/48 [00:02<00:02,  9.53it/s]\u001b[A\n",
      " 52%|██████████████████████████████████████████▋                                       | 25/48 [00:02<00:02, 10.14it/s]\u001b[A\n",
      " 56%|██████████████████████████████████████████████▏                                   | 27/48 [00:02<00:02, 10.41it/s]\u001b[A\n",
      " 60%|█████████████████████████████████████████████████▌                                | 29/48 [00:02<00:01, 10.51it/s]\u001b[A\n",
      " 65%|████████████████████████████████████████████████████▉                             | 31/48 [00:03<00:01, 10.41it/s]\u001b[A\n",
      " 69%|████████████████████████████████████████████████████████▍                         | 33/48 [00:03<00:01, 10.21it/s]\u001b[A\n",
      " 73%|███████████████████████████████████████████████████████████▊                      | 35/48 [00:03<00:01, 10.17it/s]\u001b[A\n",
      " 77%|███████████████████████████████████████████████████████████████▏                  | 37/48 [00:03<00:01, 10.36it/s]\u001b[A\n",
      " 81%|██████████████████████████████████████████████████████████████████▋               | 39/48 [00:03<00:00, 10.24it/s]\u001b[A\n",
      " 85%|██████████████████████████████████████████████████████████████████████            | 41/48 [00:04<00:00, 10.27it/s]\u001b[A\n",
      " 90%|█████████████████████████████████████████████████████████████████████████▍        | 43/48 [00:04<00:00, 10.22it/s]\u001b[A\n",
      " 94%|████████████████████████████████████████████████████████████████████████████▉     | 45/48 [00:04<00:00, 10.18it/s]\u001b[A\n",
      "100%|██████████████████████████████████████████████████████████████████████████████████| 48/48 [00:04<00:00, 10.08it/s]\u001b[A\n",
      "\n",
      "  0%|                                                                                           | 0/48 [00:00<?, ?it/s]\u001b[A\n",
      "  4%|███▍                                                                               | 2/48 [00:00<00:03, 13.59it/s]\u001b[A\n",
      "  8%|██████▉                                                                            | 4/48 [00:00<00:03, 13.53it/s]\u001b[A\n",
      " 12%|██████████▍                                                                        | 6/48 [00:00<00:03, 13.67it/s]\u001b[A\n",
      " 17%|█████████████▊                                                                     | 8/48 [00:00<00:03, 12.39it/s]\u001b[A\n",
      " 21%|█████████████████                                                                 | 10/48 [00:00<00:03, 12.45it/s]\u001b[A\n",
      " 25%|████████████████████▌                                                             | 12/48 [00:00<00:02, 12.51it/s]\u001b[A\n",
      " 29%|███████████████████████▉                                                          | 14/48 [00:01<00:02, 12.38it/s]\u001b[A\n",
      " 33%|███████████████████████████▎                                                      | 16/48 [00:01<00:02, 12.66it/s]\u001b[A\n",
      " 38%|██████████████████████████████▊                                                   | 18/48 [00:01<00:02, 12.39it/s]\u001b[A\n",
      " 42%|██████████████████████████████████▏                                               | 20/48 [00:01<00:02, 12.60it/s]\u001b[A\n",
      " 46%|█████████████████████████████████████▌                                            | 22/48 [00:01<00:02, 12.57it/s]\u001b[A\n",
      " 50%|█████████████████████████████████████████                                         | 24/48 [00:01<00:01, 12.34it/s]\u001b[A\n",
      " 54%|████████████████████████████████████████████▍                                     | 26/48 [00:02<00:01, 13.14it/s]\u001b[A\n",
      " 58%|███████████████████████████████████████████████▊                                  | 28/48 [00:02<00:01, 13.37it/s]\u001b[A\n",
      " 62%|███████████████████████████████████████████████████▎                              | 30/48 [00:02<00:01, 13.52it/s]\u001b[A\n",
      " 67%|██████████████████████████████████████████████████████▋                           | 32/48 [00:02<00:01, 13.23it/s]\u001b[A\n",
      " 71%|██████████████████████████████████████████████████████████                        | 34/48 [00:02<00:01, 13.12it/s]\u001b[A\n",
      " 75%|█████████████████████████████████████████████████████████████▌                    | 36/48 [00:02<00:00, 13.29it/s]\u001b[A\n",
      " 79%|████████████████████████████████████████████████████████████████▉                 | 38/48 [00:02<00:00, 13.40it/s]\u001b[A\n",
      " 83%|████████████████████████████████████████████████████████████████████▎             | 40/48 [00:03<00:00, 13.54it/s]\u001b[A\n",
      " 88%|███████████████████████████████████████████████████████████████████████▊          | 42/48 [00:03<00:00, 13.08it/s]\u001b[A\n",
      " 92%|███████████████████████████████████████████████████████████████████████████▏      | 44/48 [00:03<00:00, 13.09it/s]\u001b[A\n",
      " 96%|██████████████████████████████████████████████████████████████████████████████▌   | 46/48 [00:03<00:00, 13.10it/s]\u001b[A\n",
      "100%|██████████████████████████████████████████████████████████████████████████████████| 48/48 [00:03<00:00, 12.96it/s]\u001b[A\n",
      "\n",
      "  0%|                                                                                           | 0/48 [00:00<?, ?it/s]\u001b[A\n",
      "  4%|███▍                                                                               | 2/48 [00:00<00:03, 13.56it/s]\u001b[A\n",
      "  8%|██████▉                                                                            | 4/48 [00:00<00:03, 13.58it/s]\u001b[A\n",
      " 12%|██████████▍                                                                        | 6/48 [00:00<00:03, 13.35it/s]\u001b[A\n",
      " 17%|█████████████▊                                                                     | 8/48 [00:00<00:03, 12.25it/s]\u001b[A\n",
      " 21%|█████████████████                                                                 | 10/48 [00:00<00:03, 12.53it/s]\u001b[A\n",
      " 25%|████████████████████▌                                                             | 12/48 [00:00<00:02, 12.51it/s]\u001b[A\n",
      " 29%|███████████████████████▉                                                          | 14/48 [00:01<00:02, 12.30it/s]\u001b[A\n",
      " 33%|███████████████████████████▎                                                      | 16/48 [00:01<00:02, 12.58it/s]\u001b[A\n",
      " 38%|██████████████████████████████▊                                                   | 18/48 [00:01<00:02, 12.43it/s]\u001b[A\n",
      " 42%|██████████████████████████████████▏                                               | 20/48 [00:01<00:02, 12.71it/s]\u001b[A\n",
      " 46%|█████████████████████████████████████▌                                            | 22/48 [00:01<00:02, 12.36it/s]\u001b[A\n",
      " 50%|█████████████████████████████████████████                                         | 24/48 [00:01<00:01, 12.37it/s]\u001b[A\n"
     ]
    },
    {
     "name": "stderr",
     "output_type": "stream",
     "text": [
      " 54%|████████████████████████████████████████████▍                                     | 26/48 [00:02<00:01, 12.99it/s]\u001b[A\n",
      " 58%|███████████████████████████████████████████████▊                                  | 28/48 [00:02<00:01, 13.28it/s]\u001b[A\n",
      " 62%|███████████████████████████████████████████████████▎                              | 30/48 [00:02<00:01, 13.79it/s]\u001b[A\n",
      " 67%|██████████████████████████████████████████████████████▋                           | 32/48 [00:02<00:01, 13.12it/s]\u001b[A\n",
      " 71%|██████████████████████████████████████████████████████████                        | 34/48 [00:02<00:01, 13.08it/s]\u001b[A\n",
      " 75%|█████████████████████████████████████████████████████████████▌                    | 36/48 [00:02<00:00, 13.22it/s]\u001b[A\n",
      " 79%|████████████████████████████████████████████████████████████████▉                 | 38/48 [00:02<00:00, 13.51it/s]\u001b[A\n",
      " 83%|████████████████████████████████████████████████████████████████████▎             | 40/48 [00:03<00:00, 13.38it/s]\u001b[A\n",
      " 88%|███████████████████████████████████████████████████████████████████████▊          | 42/48 [00:03<00:00, 12.92it/s]\u001b[A\n",
      " 92%|███████████████████████████████████████████████████████████████████████████▏      | 44/48 [00:03<00:00, 12.87it/s]\u001b[A\n",
      " 96%|██████████████████████████████████████████████████████████████████████████████▌   | 46/48 [00:03<00:00, 12.95it/s]\u001b[A\n",
      "100%|██████████████████████████████████████████████████████████████████████████████████| 48/48 [00:03<00:00, 12.76it/s]\u001b[A\n",
      "\n",
      "  0%|                                                                                           | 0/48 [00:00<?, ?it/s]\u001b[A\n",
      "  4%|███▍                                                                               | 2/48 [00:00<00:03, 12.98it/s]\u001b[A\n",
      "  8%|██████▉                                                                            | 4/48 [00:00<00:03, 13.55it/s]\u001b[A\n",
      " 12%|██████████▍                                                                        | 6/48 [00:00<00:03, 13.18it/s]\u001b[A\n",
      " 17%|█████████████▊                                                                     | 8/48 [00:00<00:03, 12.14it/s]\u001b[A\n",
      " 21%|█████████████████                                                                 | 10/48 [00:00<00:03, 12.51it/s]\u001b[A\n",
      " 25%|████████████████████▌                                                             | 12/48 [00:00<00:02, 12.49it/s]\u001b[A\n",
      " 29%|███████████████████████▉                                                          | 14/48 [00:01<00:02, 12.33it/s]\u001b[A\n",
      " 33%|███████████████████████████▎                                                      | 16/48 [00:01<00:02, 12.47it/s]\u001b[A\n",
      " 38%|██████████████████████████████▊                                                   | 18/48 [00:01<00:02, 12.21it/s]\u001b[A\n",
      " 42%|██████████████████████████████████▏                                               | 20/48 [00:01<00:02, 12.42it/s]\u001b[A\n",
      " 46%|█████████████████████████████████████▌                                            | 22/48 [00:01<00:02, 12.44it/s]\u001b[A\n",
      " 50%|█████████████████████████████████████████                                         | 24/48 [00:01<00:01, 12.47it/s]\u001b[A\n",
      " 54%|████████████████████████████████████████████▍                                     | 26/48 [00:02<00:01, 13.01it/s]\u001b[A\n",
      " 58%|███████████████████████████████████████████████▊                                  | 28/48 [00:02<00:01, 13.40it/s]\u001b[A\n",
      " 62%|███████████████████████████████████████████████████▎                              | 30/48 [00:02<00:01, 13.75it/s]\u001b[A\n",
      " 67%|██████████████████████████████████████████████████████▋                           | 32/48 [00:02<00:01, 12.91it/s]\u001b[A\n",
      " 71%|██████████████████████████████████████████████████████████                        | 34/48 [00:02<00:01, 13.03it/s]\u001b[A\n",
      " 75%|█████████████████████████████████████████████████████████████▌                    | 36/48 [00:02<00:00, 13.35it/s]\u001b[A\n",
      " 79%|████████████████████████████████████████████████████████████████▉                 | 38/48 [00:02<00:00, 13.62it/s]\u001b[A\n",
      " 83%|████████████████████████████████████████████████████████████████████▎             | 40/48 [00:03<00:00, 13.43it/s]\u001b[A\n",
      " 88%|███████████████████████████████████████████████████████████████████████▊          | 42/48 [00:03<00:00, 13.11it/s]\u001b[A\n",
      " 92%|███████████████████████████████████████████████████████████████████████████▏      | 44/48 [00:03<00:00, 12.94it/s]\u001b[A\n",
      " 96%|██████████████████████████████████████████████████████████████████████████████▌   | 46/48 [00:03<00:00, 12.97it/s]\u001b[A\n",
      "100%|██████████████████████████████████████████████████████████████████████████████████| 48/48 [00:03<00:00, 12.85it/s]\u001b[A\n",
      "\n",
      "  0%|                                                                                          | 0/575 [00:00<?, ?it/s]\u001b[A\n",
      " 17%|█████████████▎                                                                  | 96/575 [00:00<00:00, 906.72it/s]\u001b[A\n",
      " 33%|█████████████████████████▉                                                     | 189/575 [00:00<00:00, 911.50it/s]\u001b[A\n",
      " 50%|███████████████████████████████████████▏                                       | 285/575 [00:00<00:00, 922.47it/s]\u001b[A\n",
      " 66%|███████████████████████████████████████████████████▉                           | 378/575 [00:00<00:00, 821.34it/s]\u001b[A\n",
      " 80%|███████████████████████████████████████████████████████████████▍               | 462/575 [00:00<00:00, 797.34it/s]\u001b[A\n",
      "100%|███████████████████████████████████████████████████████████████████████████████| 575/575 [00:00<00:00, 787.43it/s]\u001b[A\n",
      "  7%|█████▏                                                                         | 24/363 [08:20<4:04:46, 43.32s/it]"
     ]
    },
    {
     "name": "stdout",
     "output_type": "stream",
     "text": [
      "Loaded decoded: -1.2682313919067383\n"
     ]
    },
    {
     "name": "stderr",
     "output_type": "stream",
     "text": [
      "\n",
      "  0%|                                                                                           | 0/48 [00:00<?, ?it/s]\u001b[A\n",
      "  4%|███▍                                                                               | 2/48 [00:00<00:04, 10.91it/s]\u001b[A\n",
      "  8%|██████▉                                                                            | 4/48 [00:00<00:04, 10.54it/s]\u001b[A\n",
      " 12%|██████████▍                                                                        | 6/48 [00:00<00:04, 10.49it/s]\u001b[A\n",
      " 17%|█████████████▊                                                                     | 8/48 [00:00<00:03, 10.30it/s]\u001b[A\n",
      " 21%|█████████████████                                                                 | 10/48 [00:00<00:03, 10.37it/s]\u001b[A\n",
      " 25%|████████████████████▌                                                             | 12/48 [00:01<00:03, 10.39it/s]\u001b[A\n",
      " 29%|███████████████████████▉                                                          | 14/48 [00:01<00:03, 10.20it/s]\u001b[A\n",
      " 33%|███████████████████████████▎                                                      | 16/48 [00:01<00:03, 10.25it/s]\u001b[A\n",
      " 38%|██████████████████████████████▊                                                   | 18/48 [00:01<00:02, 10.06it/s]\u001b[A\n",
      " 42%|██████████████████████████████████▏                                               | 20/48 [00:01<00:02, 10.15it/s]\u001b[A\n",
      " 46%|█████████████████████████████████████▌                                            | 22/48 [00:02<00:02, 10.32it/s]\u001b[A\n",
      " 50%|█████████████████████████████████████████                                         | 24/48 [00:02<00:02, 10.38it/s]\u001b[A\n",
      " 54%|████████████████████████████████████████████▍                                     | 26/48 [00:02<00:01, 11.51it/s]\u001b[A\n",
      " 58%|███████████████████████████████████████████████▊                                  | 28/48 [00:02<00:01, 12.26it/s]\u001b[A\n",
      " 62%|███████████████████████████████████████████████████▎                              | 30/48 [00:02<00:01, 13.74it/s]\u001b[A\n",
      " 67%|██████████████████████████████████████████████████████▋                           | 32/48 [00:02<00:01, 15.16it/s]\u001b[A\n",
      " 71%|██████████████████████████████████████████████████████████                        | 34/48 [00:02<00:00, 15.91it/s]\u001b[A\n",
      " 75%|█████████████████████████████████████████████████████████████▌                    | 36/48 [00:03<00:00, 15.35it/s]\u001b[A\n",
      " 79%|████████████████████████████████████████████████████████████████▉                 | 38/48 [00:03<00:00, 15.77it/s]\u001b[A\n",
      " 83%|████████████████████████████████████████████████████████████████████▎             | 40/48 [00:03<00:00, 16.42it/s]\u001b[A\n",
      " 88%|███████████████████████████████████████████████████████████████████████▊          | 42/48 [00:03<00:00, 14.89it/s]\u001b[A\n",
      " 92%|███████████████████████████████████████████████████████████████████████████▏      | 44/48 [00:03<00:00, 14.61it/s]\u001b[A\n",
      " 96%|██████████████████████████████████████████████████████████████████████████████▌   | 46/48 [00:03<00:00, 14.72it/s]\u001b[A\n",
      "100%|██████████████████████████████████████████████████████████████████████████████████| 48/48 [00:03<00:00, 12.43it/s]\u001b[A\n",
      "\n",
      "  0%|                                                                                           | 0/48 [00:00<?, ?it/s]\u001b[A\n",
      "  4%|███▍                                                                               | 2/48 [00:00<00:03, 14.65it/s]\u001b[A\n",
      "  8%|██████▉                                                                            | 4/48 [00:00<00:03, 13.26it/s]\u001b[A\n",
      " 12%|██████████▍                                                                        | 6/48 [00:00<00:03, 13.79it/s]\u001b[A\n",
      " 17%|█████████████▊                                                                     | 8/48 [00:00<00:03, 13.17it/s]\u001b[A\n",
      " 21%|█████████████████                                                                 | 10/48 [00:00<00:02, 13.60it/s]\u001b[A\n",
      " 25%|████████████████████▌                                                             | 12/48 [00:00<00:02, 13.26it/s]\u001b[A\n",
      " 29%|███████████████████████▉                                                          | 14/48 [00:01<00:02, 13.10it/s]\u001b[A\n",
      " 33%|███████████████████████████▎                                                      | 16/48 [00:01<00:02, 12.87it/s]\u001b[A\n",
      " 38%|██████████████████████████████▊                                                   | 18/48 [00:01<00:02, 12.59it/s]\u001b[A\n",
      " 42%|██████████████████████████████████▏                                               | 20/48 [00:01<00:02, 12.94it/s]\u001b[A\n",
      " 46%|█████████████████████████████████████▌                                            | 22/48 [00:01<00:01, 13.11it/s]\u001b[A\n",
      " 50%|█████████████████████████████████████████                                         | 24/48 [00:01<00:01, 13.26it/s]\u001b[A\n",
      " 54%|████████████████████████████████████████████▍                                     | 26/48 [00:01<00:01, 14.68it/s]\u001b[A\n",
      " 60%|█████████████████████████████████████████████████▌                                | 29/48 [00:02<00:01, 16.65it/s]\u001b[A\n",
      " 67%|██████████████████████████████████████████████████████▋                           | 32/48 [00:02<00:00, 18.28it/s]\u001b[A\n",
      " 73%|███████████████████████████████████████████████████████████▊                      | 35/48 [00:02<00:00, 19.44it/s]\u001b[A\n",
      " 79%|████████████████████████████████████████████████████████████████▉                 | 38/48 [00:02<00:00, 20.25it/s]\u001b[A\n",
      " 85%|██████████████████████████████████████████████████████████████████████            | 41/48 [00:02<00:00, 20.77it/s]\u001b[A\n",
      " 92%|███████████████████████████████████████████████████████████████████████████▏      | 44/48 [00:02<00:00, 20.03it/s]\u001b[A\n",
      "100%|██████████████████████████████████████████████████████████████████████████████████| 48/48 [00:02<00:00, 16.13it/s]\u001b[A\n",
      "\n",
      "  0%|                                                                                           | 0/48 [00:00<?, ?it/s]\u001b[A\n",
      "  4%|███▍                                                                               | 2/48 [00:00<00:03, 13.66it/s]\u001b[A\n",
      "  8%|██████▉                                                                            | 4/48 [00:00<00:03, 13.77it/s]\u001b[A\n",
      " 12%|██████████▍                                                                        | 6/48 [00:00<00:02, 14.06it/s]\u001b[A\n",
      " 17%|█████████████▊                                                                     | 8/48 [00:00<00:03, 13.20it/s]\u001b[A\n",
      " 21%|█████████████████                                                                 | 10/48 [00:00<00:02, 13.36it/s]\u001b[A\n",
      " 25%|████████████████████▌                                                             | 12/48 [00:00<00:02, 12.70it/s]\u001b[A\n",
      " 29%|███████████████████████▉                                                          | 14/48 [00:01<00:02, 12.89it/s]\u001b[A\n",
      " 33%|███████████████████████████▎                                                      | 16/48 [00:01<00:02, 13.11it/s]\u001b[A\n",
      " 38%|██████████████████████████████▊                                                   | 18/48 [00:01<00:02, 12.74it/s]\u001b[A\n",
      " 42%|██████████████████████████████████▏                                               | 20/48 [00:01<00:02, 12.98it/s]\u001b[A\n",
      " 46%|█████████████████████████████████████▌                                            | 22/48 [00:01<00:01, 13.23it/s]\u001b[A\n",
      " 50%|█████████████████████████████████████████                                         | 24/48 [00:01<00:01, 13.34it/s]\u001b[A\n",
      " 54%|████████████████████████████████████████████▍                                     | 26/48 [00:01<00:01, 14.79it/s]\u001b[A\n",
      " 58%|███████████████████████████████████████████████▊                                  | 28/48 [00:02<00:01, 15.93it/s]\u001b[A\n",
      " 65%|████████████████████████████████████████████████████▉                             | 31/48 [00:02<00:00, 19.01it/s]\u001b[A\n",
      " 71%|██████████████████████████████████████████████████████████                        | 34/48 [00:02<00:00, 20.52it/s]\u001b[A\n",
      " 77%|███████████████████████████████████████████████████████████████▏                  | 37/48 [00:02<00:00, 20.34it/s]\u001b[A\n",
      " 83%|████████████████████████████████████████████████████████████████████▎             | 40/48 [00:02<00:00, 21.43it/s]\u001b[A\n",
      " 90%|█████████████████████████████████████████████████████████████████████████▍        | 43/48 [00:02<00:00, 20.55it/s]\u001b[A\n"
     ]
    },
    {
     "name": "stderr",
     "output_type": "stream",
     "text": [
      "100%|██████████████████████████████████████████████████████████████████████████████████| 48/48 [00:02<00:00, 16.14it/s]\u001b[A\n",
      "\n",
      "  0%|                                                                                           | 0/48 [00:00<?, ?it/s]\u001b[A\n",
      "  4%|███▍                                                                               | 2/48 [00:00<00:03, 13.81it/s]\u001b[A\n",
      "  8%|██████▉                                                                            | 4/48 [00:00<00:03, 13.22it/s]\u001b[A\n",
      " 12%|██████████▍                                                                        | 6/48 [00:00<00:03, 13.84it/s]\u001b[A\n",
      " 17%|█████████████▊                                                                     | 8/48 [00:00<00:03, 13.13it/s]\u001b[A\n",
      " 21%|█████████████████                                                                 | 10/48 [00:00<00:02, 13.22it/s]\u001b[A\n",
      " 25%|████████████████████▌                                                             | 12/48 [00:00<00:02, 13.20it/s]\u001b[A\n",
      " 29%|███████████████████████▉                                                          | 14/48 [00:01<00:02, 13.17it/s]\u001b[A\n",
      " 33%|███████████████████████████▎                                                      | 16/48 [00:01<00:02, 13.37it/s]\u001b[A\n",
      " 38%|██████████████████████████████▊                                                   | 18/48 [00:01<00:02, 12.85it/s]\u001b[A\n",
      " 42%|██████████████████████████████████▏                                               | 20/48 [00:01<00:02, 13.05it/s]\u001b[A\n",
      " 46%|█████████████████████████████████████▌                                            | 22/48 [00:01<00:01, 13.20it/s]\u001b[A\n",
      " 50%|█████████████████████████████████████████                                         | 24/48 [00:01<00:01, 13.32it/s]\u001b[A\n",
      " 56%|██████████████████████████████████████████████▏                                   | 27/48 [00:01<00:01, 15.23it/s]\u001b[A\n",
      " 62%|███████████████████████████████████████████████████▎                              | 30/48 [00:02<00:01, 17.69it/s]\u001b[A\n",
      " 69%|████████████████████████████████████████████████████████▍                         | 33/48 [00:02<00:00, 20.48it/s]\u001b[A\n",
      " 75%|█████████████████████████████████████████████████████████████▌                    | 36/48 [00:02<00:00, 20.05it/s]\u001b[A\n",
      " 81%|██████████████████████████████████████████████████████████████████▋               | 39/48 [00:02<00:00, 21.45it/s]\u001b[A\n",
      " 88%|███████████████████████████████████████████████████████████████████████▊          | 42/48 [00:02<00:00, 20.29it/s]\u001b[A\n",
      " 94%|████████████████████████████████████████████████████████████████████████████▉     | 45/48 [00:02<00:00, 19.89it/s]\u001b[A\n",
      "100%|██████████████████████████████████████████████████████████████████████████████████| 48/48 [00:02<00:00, 16.33it/s]\u001b[A\n",
      "\n",
      "  0%|                                                                                          | 0/575 [00:00<?, ?it/s]\u001b[A\n",
      " 22%|████████████████▉                                                             | 125/575 [00:00<00:00, 1212.16it/s]\u001b[A\n",
      " 44%|██████████████████████████████████                                            | 251/575 [00:00<00:00, 1204.64it/s]\u001b[A\n",
      " 65%|██████████████████████████████████████████████████▍                           | 372/575 [00:00<00:00, 1133.87it/s]\u001b[A\n",
      "100%|██████████████████████████████████████████████████████████████████████████████| 575/575 [00:00<00:00, 1079.53it/s]\u001b[A\n",
      "  7%|█████▍                                                                         | 25/363 [09:17<4:25:18, 47.10s/it]"
     ]
    },
    {
     "name": "stdout",
     "output_type": "stream",
     "text": [
      "Loaded decoded: -1.0873134136199951\n"
     ]
    },
    {
     "name": "stderr",
     "output_type": "stream",
     "text": [
      "\n",
      "  0%|                                                                                           | 0/48 [00:00<?, ?it/s]\u001b[A\n",
      "  4%|███▍                                                                               | 2/48 [00:00<00:03, 12.31it/s]\u001b[A\n",
      "  8%|██████▉                                                                            | 4/48 [00:00<00:03, 12.04it/s]\u001b[A\n",
      " 12%|██████████▍                                                                        | 6/48 [00:00<00:03, 12.21it/s]\u001b[A\n",
      " 17%|█████████████▊                                                                     | 8/48 [00:00<00:03, 11.62it/s]\u001b[A\n",
      " 21%|█████████████████                                                                 | 10/48 [00:00<00:03, 11.86it/s]\u001b[A\n",
      " 25%|████████████████████▌                                                             | 12/48 [00:01<00:03, 11.83it/s]"
     ]
    }
   ],
   "source": [
    "dec.fov,dec.set_ = 'Conv_zscan__111','_set1'\n",
    "for dec.fov,dec.set_ in tqdm(dec.fov_sets):\n",
    "    save_fl_final = dec.save_folder+os.sep+'ctspercell_'+dec.fov.split('.')[0]+'--'+dec.set_+'.npz'\n",
    "    if not os.path.exists(save_fl_final):\n",
    "        try:\n",
    "            dec.decoded_fl = dec.save_folder+os.sep+'decoded_'+dec.fov.split('.')[0]+'--'+dec.set_+'.npz'\n",
    "            load_segmentation(dec)\n",
    "            dec.load_decoded()\n",
    "            apply_fine_drift(dec,plt_val=False)\n",
    "            for i in range(3):\n",
    "                apply_brightness_correction(dec)\n",
    "            get_scores(dec,plt_val=False)\n",
    "            dec.th=-0.75\n",
    "            #plot_1gene(dec,gene='Gad1',viewer = None)\n",
    "\n",
    "\n",
    "            keepf=  dec.scoreA>-0.75 ### keep good score\n",
    "            XHf = np.mean(dec.XH_pruned[keepf],axis=1)\n",
    "            icodesf = dec.icodesN[keepf]\n",
    "            dec.icells = np.unique(dec.im_segm_)\n",
    "            dec.icells = dec.icells[dec.icells>0]\n",
    "            cts_all = []\n",
    "            gns_all = []\n",
    "            for ign,gn in enumerate(tqdm(dec.gns_names)):\n",
    "                Xh = XHf[icodesf==ign]\n",
    "                ctsf = get_counts_per_cell(dec,Xh)\n",
    "                gns_all.append(gn)\n",
    "                cts_all.append(ctsf)\n",
    "\n",
    "\n",
    "            ### get ALdh1l1\n",
    "            dec.get_XH_tag(tag='Aldh1')\n",
    "            Xh = dec.Xh[dec.Xh[:,-2]==1]\n",
    "            Xh = Xh[Xh[:,-3]>4500]\n",
    "            ctsf = get_counts_per_cell(dec,Xh)\n",
    "            gns_all.append('Aldh1l1')\n",
    "            cts_all.append(ctsf)\n",
    "            #viewer = plot_points_direct(Xh,gene='Aldh1l1',percentage_max=100)\n",
    "            ### get GFP - RNA\n",
    "            load_GFP(dec,th_cor=0.25,th_h=2000,th_d=2,plt_val=False)\n",
    "\n",
    "            ctsf = get_counts_per_cell(dec,dec.Xh1GFP)\n",
    "            gns_all.append('GFP_rna')\n",
    "            cts_all.append(ctsf)\n",
    "\n",
    "            ### Get antibody\n",
    "\n",
    "            get_signal_ab(dec,fld_dapi = r'Y:\\DCBBL1_3_15_2023__GFP\\H9_MER',\n",
    "                          fld_ab= r'Y:\\DCBBL1_3_15_2023__GFP\\A5_GFPAb_B_B_',th_sig = 5000,sz_drift=20,icol=0)\n",
    "\n",
    "            gns_all.append('GFP_Ab1_mean')\n",
    "            cts_all.append(dec.ab_sigs)\n",
    "\n",
    "            gns_all.append('GFP_Ab1_th')\n",
    "            cts_all.append(dec.ab_sigs2)\n",
    "\n",
    "            Xcells = nd.center_of_mass(dec.im_segm_>0,dec.im_segm_,dec.icells)\n",
    "\n",
    "\n",
    "            np.savez(save_fl_final,gns_all=gns_all,cts_all=cts_all,vols=dec.vols,Xcells=Xcells,Xfov=[dec.xfov,dec.yfov],icells = dec.icells)\n",
    "        except:\n",
    "            print(\"Failed\",save_fl_final)"
   ]
  },
  {
   "cell_type": "code",
   "execution_count": 61,
   "id": "b1c4f0b3",
   "metadata": {},
   "outputs": [],
   "source": [
    "im_ = read_im(r'Y:\\DCBBL1_3_15_2023__GFP\\A5_GFPAb_B_B_'+dec.set_+os.sep+dec.fov+'.zarr')\n",
    "im_GFP = np.array(im_[0][::2],dtype=np.float32)"
   ]
  },
  {
   "cell_type": "code",
   "execution_count": 66,
   "id": "5874b371",
   "metadata": {},
   "outputs": [],
   "source": [
    "im_GFPn = norm_slice(im_GFP,s=150)"
   ]
  },
  {
   "cell_type": "code",
   "execution_count": 70,
   "id": "e0b80d78",
   "metadata": {},
   "outputs": [],
   "source": [
    "resize()"
   ]
  },
  {
   "cell_type": "code",
   "execution_count": 76,
   "id": "e4e5b783",
   "metadata": {},
   "outputs": [
    {
     "data": {
      "text/plain": [
       "<Image layer 'im_GFPn' at 0x29c4b63ecd0>"
      ]
     },
     "execution_count": 76,
     "metadata": {},
     "output_type": "execute_result"
    }
   ],
   "source": [
    "#v = napari.view_image(im_GFPn>5000)\n",
    "viewer.add_image(im_GFPn)"
   ]
  },
  {
   "cell_type": "code",
   "execution_count": 57,
   "id": "9aefc7ea",
   "metadata": {},
   "outputs": [],
   "source": [
    "import napari\n",
    "viewer = napari.view_image(im_)\n",
    "viewer=plot_points_direct(dec.Xh1GFP,gene='GFP',color=[0,1,0],minsz=0,maxsz=20,percentage_max = 95,viewer = viewer)\n",
    "viewer=plot_points_direct(dec.Xh2GFP,gene='GFP',color=[0,0.5,0],minsz=0,maxsz=20,percentage_max = 95,viewer=viewer);\n",
    "#plot_1gene('Gad1',viewer=viewer)"
   ]
  },
  {
   "cell_type": "code",
   "execution_count": null,
   "id": "e1787eb0",
   "metadata": {},
   "outputs": [],
   "source": []
  },
  {
   "cell_type": "code",
   "execution_count": 20,
   "id": "f2952cd0",
   "metadata": {},
   "outputs": [
    {
     "name": "stdout",
     "output_type": "stream",
     "text": [
      "Fraction error: 0.11939396445600899\n"
     ]
    },
    {
     "data": {
      "image/png": "[encoded data removed]",
      "text/plain": [
       "<Figure size 640x480 with 1 Axes>"
      ]
     },
     "metadata": {},
     "output_type": "display_data"
    },
    {
     "name": "stderr",
     "output_type": "stream",
     "text": [
      "WARNING: Traceback (most recent call last):\n",
      "  File \"C:\\Users\\BintuLabUser\\anaconda3\\envs\\cellpose\\lib\\runpy.py\", line 194, in _run_module_as_main\n",
      "    return _run_code(code, main_globals, None,\n",
      "  File \"C:\\Users\\BintuLabUser\\anaconda3\\envs\\cellpose\\lib\\runpy.py\", line 87, in _run_code\n",
      "    exec(code, run_globals)\n",
      "  File \"C:\\Users\\BintuLabUser\\anaconda3\\envs\\cellpose\\lib\\site-packages\\ipykernel_launcher.py\", line 17, in <module>\n",
      "    app.launch_new_instance()\n",
      "  File \"C:\\Users\\BintuLabUser\\anaconda3\\envs\\cellpose\\lib\\site-packages\\traitlets\\config\\application.py\", line 1043, in launch_instance\n",
      "    app.start()\n",
      "  File \"C:\\Users\\BintuLabUser\\anaconda3\\envs\\cellpose\\lib\\site-packages\\ipykernel\\kernelapp.py\", line 728, in start\n",
      "    self.io_loop.start()\n",
      "  File \"C:\\Users\\BintuLabUser\\anaconda3\\envs\\cellpose\\lib\\site-packages\\tornado\\platform\\asyncio.py\", line 215, in start\n",
      "    self.asyncio_loop.run_forever()\n",
      "  File \"C:\\Users\\BintuLabUser\\anaconda3\\envs\\cellpose\\lib\\asyncio\\base_events.py\", line 570, in run_forever\n",
      "    self._run_once()\n",
      "  File \"C:\\Users\\BintuLabUser\\anaconda3\\envs\\cellpose\\lib\\asyncio\\base_events.py\", line 1859, in _run_once\n",
      "    handle._run()\n",
      "  File \"C:\\Users\\BintuLabUser\\anaconda3\\envs\\cellpose\\lib\\asyncio\\events.py\", line 81, in _run\n",
      "    self._context.run(self._callback, *self._args)\n",
      "  File \"C:\\Users\\BintuLabUser\\anaconda3\\envs\\cellpose\\lib\\site-packages\\tornado\\ioloop.py\", line 740, in _run_callback\n",
      "    ret = callback()\n",
      "  File \"C:\\Users\\BintuLabUser\\anaconda3\\envs\\cellpose\\lib\\site-packages\\ipykernel\\kernelbase.py\", line 458, in advance_eventloop\n",
      "    eventloop(self)\n",
      "  File \"C:\\Users\\BintuLabUser\\anaconda3\\envs\\cellpose\\lib\\site-packages\\ipykernel\\eventloops.py\", line 128, in loop_qt\n",
      "    el.exec() if hasattr(el, 'exec') else el.exec_()\n",
      "  File \"C:\\Users\\BintuLabUser\\anaconda3\\envs\\cellpose\\lib\\site-packages\\vispy\\app\\backends\\_qt.py\", line 567, in event\n",
      "    out = super(QtBaseCanvasBackend, self).event(ev)\n",
      "  File \"C:\\Users\\BintuLabUser\\anaconda3\\envs\\cellpose\\lib\\site-packages\\vispy\\app\\backends\\_qt.py\", line 532, in mouseMoveEvent\n",
      "    self._vispy_mouse_move(\n",
      "  File \"C:\\Users\\BintuLabUser\\anaconda3\\envs\\cellpose\\lib\\site-packages\\vispy\\app\\base.py\", line 216, in _vispy_mouse_move\n",
      "    ev = self._vispy_canvas.events.mouse_move(**kwargs)\n",
      "  File \"C:\\Users\\BintuLabUser\\anaconda3\\envs\\cellpose\\lib\\site-packages\\vispy\\util\\event.py\", line 453, in __call__\n",
      "    self._invoke_callback(cb, event)\n",
      "  File \"C:\\Users\\BintuLabUser\\anaconda3\\envs\\cellpose\\lib\\site-packages\\vispy\\util\\event.py\", line 469, in _invoke_callback\n",
      "    cb(event)\n",
      "  File \"C:\\Users\\BintuLabUser\\anaconda3\\envs\\cellpose\\lib\\site-packages\\napari\\_vispy\\canvas.py\", line 96, in _process_mouse_event\n",
      "    super()._process_mouse_event(event)\n",
      "  File \"C:\\Users\\BintuLabUser\\anaconda3\\envs\\cellpose\\lib\\site-packages\\vispy\\scene\\canvas.py\", line 369, in _process_mouse_event\n",
      "    getattr(picked.events, event.type)(scene_event)\n",
      "  File \"C:\\Users\\BintuLabUser\\anaconda3\\envs\\cellpose\\lib\\site-packages\\vispy\\util\\event.py\", line 453, in __call__\n",
      "    self._invoke_callback(cb, event)\n",
      "  File \"C:\\Users\\BintuLabUser\\anaconda3\\envs\\cellpose\\lib\\site-packages\\vispy\\util\\event.py\", line 471, in _invoke_callback\n",
      "    _handle_exception(self.ignore_callback_errors,\n",
      "  << caught exception here: >>\n",
      "  File \"C:\\Users\\BintuLabUser\\anaconda3\\envs\\cellpose\\lib\\site-packages\\vispy\\util\\event.py\", line 469, in _invoke_callback\n",
      "    cb(event)\n",
      "  File \"C:\\Users\\BintuLabUser\\anaconda3\\envs\\cellpose\\lib\\site-packages\\vispy\\scene\\cameras\\perspective.py\", line 227, in viewbox_mouse_event\n",
      "    self._update_rotation(event)\n",
      "  File \"C:\\Users\\BintuLabUser\\anaconda3\\envs\\cellpose\\lib\\site-packages\\vispy\\scene\\cameras\\arcball.py\", line 65, in _update_rotation\n",
      "    Quaternion(*_arcball(self._event_value, wh)) *\n",
      "  File \"C:\\Users\\BintuLabUser\\anaconda3\\envs\\cellpose\\lib\\site-packages\\vispy\\scene\\cameras\\arcball.py\", line 101, in _arcball\n",
      "    x, y = xy\n",
      "ValueError: too many values to unpack (expected 2)\n",
      "ERROR: Invoking <bound method Base3DRotationCamera.viewbox_mouse_event of <ArcballCamera at 0x17464acbdf0>> for SceneMouseEvent\n",
      "WARNING: Traceback (most recent call last):\n",
      "  File \"C:\\Users\\BintuLabUser\\anaconda3\\envs\\cellpose\\lib\\runpy.py\", line 194, in _run_module_as_main\n",
      "    return _run_code(code, main_globals, None,\n",
      "  File \"C:\\Users\\BintuLabUser\\anaconda3\\envs\\cellpose\\lib\\runpy.py\", line 87, in _run_code\n",
      "    exec(code, run_globals)\n",
      "  File \"C:\\Users\\BintuLabUser\\anaconda3\\envs\\cellpose\\lib\\site-packages\\ipykernel_launcher.py\", line 17, in <module>\n",
      "    app.launch_new_instance()\n",
      "  File \"C:\\Users\\BintuLabUser\\anaconda3\\envs\\cellpose\\lib\\site-packages\\traitlets\\config\\application.py\", line 1043, in launch_instance\n",
      "    app.start()\n",
      "  File \"C:\\Users\\BintuLabUser\\anaconda3\\envs\\cellpose\\lib\\site-packages\\ipykernel\\kernelapp.py\", line 728, in start\n",
      "    self.io_loop.start()\n",
      "  File \"C:\\Users\\BintuLabUser\\anaconda3\\envs\\cellpose\\lib\\site-packages\\tornado\\platform\\asyncio.py\", line 215, in start\n",
      "    self.asyncio_loop.run_forever()\n",
      "  File \"C:\\Users\\BintuLabUser\\anaconda3\\envs\\cellpose\\lib\\asyncio\\base_events.py\", line 570, in run_forever\n",
      "    self._run_once()\n",
      "  File \"C:\\Users\\BintuLabUser\\anaconda3\\envs\\cellpose\\lib\\asyncio\\base_events.py\", line 1859, in _run_once\n",
      "    handle._run()\n",
      "  File \"C:\\Users\\BintuLabUser\\anaconda3\\envs\\cellpose\\lib\\asyncio\\events.py\", line 81, in _run\n",
      "    self._context.run(self._callback, *self._args)\n",
      "  File \"C:\\Users\\BintuLabUser\\anaconda3\\envs\\cellpose\\lib\\site-packages\\tornado\\ioloop.py\", line 740, in _run_callback\n",
      "    ret = callback()\n",
      "  File \"C:\\Users\\BintuLabUser\\anaconda3\\envs\\cellpose\\lib\\site-packages\\ipykernel\\kernelbase.py\", line 458, in advance_eventloop\n",
      "    eventloop(self)\n",
      "  File \"C:\\Users\\BintuLabUser\\anaconda3\\envs\\cellpose\\lib\\site-packages\\ipykernel\\eventloops.py\", line 128, in loop_qt\n",
      "    el.exec() if hasattr(el, 'exec') else el.exec_()\n",
      "  File \"C:\\Users\\BintuLabUser\\anaconda3\\envs\\cellpose\\lib\\site-packages\\vispy\\app\\backends\\_qt.py\", line 567, in event\n",
      "    out = super(QtBaseCanvasBackend, self).event(ev)\n",
      "  File \"C:\\Users\\BintuLabUser\\anaconda3\\envs\\cellpose\\lib\\site-packages\\vispy\\app\\backends\\_qt.py\", line 532, in mouseMoveEvent\n",
      "    self._vispy_mouse_move(\n",
      "  File \"C:\\Users\\BintuLabUser\\anaconda3\\envs\\cellpose\\lib\\site-packages\\vispy\\app\\base.py\", line 216, in _vispy_mouse_move\n",
      "    ev = self._vispy_canvas.events.mouse_move(**kwargs)\n",
      "  File \"C:\\Users\\BintuLabUser\\anaconda3\\envs\\cellpose\\lib\\site-packages\\vispy\\util\\event.py\", line 453, in __call__\n",
      "    self._invoke_callback(cb, event)\n",
      "  File \"C:\\Users\\BintuLabUser\\anaconda3\\envs\\cellpose\\lib\\site-packages\\vispy\\util\\event.py\", line 469, in _invoke_callback\n",
      "    cb(event)\n",
      "  File \"C:\\Users\\BintuLabUser\\anaconda3\\envs\\cellpose\\lib\\site-packages\\napari\\_vispy\\canvas.py\", line 96, in _process_mouse_event\n",
      "    super()._process_mouse_event(event)\n",
      "  File \"C:\\Users\\BintuLabUser\\anaconda3\\envs\\cellpose\\lib\\site-packages\\vispy\\scene\\canvas.py\", line 369, in _process_mouse_event\n",
      "    getattr(picked.events, event.type)(scene_event)\n",
      "  File \"C:\\Users\\BintuLabUser\\anaconda3\\envs\\cellpose\\lib\\site-packages\\vispy\\util\\event.py\", line 453, in __call__\n",
      "    self._invoke_callback(cb, event)\n",
      "  File \"C:\\Users\\BintuLabUser\\anaconda3\\envs\\cellpose\\lib\\site-packages\\vispy\\util\\event.py\", line 471, in _invoke_callback\n",
      "    _handle_exception(self.ignore_callback_errors,\n",
      "  << caught exception here: >>\n",
      "  File \"C:\\Users\\BintuLabUser\\anaconda3\\envs\\cellpose\\lib\\site-packages\\vispy\\util\\event.py\", line 469, in _invoke_callback\n",
      "    cb(event)\n",
      "  File \"C:\\Users\\BintuLabUser\\anaconda3\\envs\\cellpose\\lib\\site-packages\\vispy\\scene\\cameras\\perspective.py\", line 227, in viewbox_mouse_event\n",
      "    self._update_rotation(event)\n",
      "  File \"C:\\Users\\BintuLabUser\\anaconda3\\envs\\cellpose\\lib\\site-packages\\vispy\\scene\\cameras\\arcball.py\", line 65, in _update_rotation\n",
      "    Quaternion(*_arcball(self._event_value, wh)) *\n",
      "  File \"C:\\Users\\BintuLabUser\\anaconda3\\envs\\cellpose\\lib\\site-packages\\vispy\\scene\\cameras\\arcball.py\", line 101, in _arcball\n",
      "    x, y = xy\n",
      "ValueError: too many values to unpack (expected 2)\n",
      "ERROR: Invoking <bound method Base3DRotationCamera.viewbox_mouse_event of <ArcballCamera at 0x17464acbdf0>> for SceneMouseEvent\n"
     ]
    }
   ],
   "source": [
    "dec.get_is_bright(th_dic = {0:0,1:0,2:0})\n",
    "viewer = dec.plot_points(genes=['Ptbp1','Flt1','Sox9','Gad1','Pvalb','Ptbp2','Sox11','Dcx'],\n",
    "                         cols=['r','g','b','c','y','orange','w','m','purple'])"
   ]
  },
  {
   "cell_type": "code",
   "execution_count": 339,
   "id": "d0933613",
   "metadata": {},
   "outputs": [],
   "source": []
  },
  {
   "cell_type": "code",
   "execution_count": 195,
   "id": "b4144dd8",
   "metadata": {},
   "outputs": [
    {
     "name": "stderr",
     "output_type": "stream",
     "text": [
      "100%|██████████████████████████████████████████████████████████████████████████████████| 48/48 [00:04<00:00, 11.20it/s]\n"
     ]
    }
   ],
   "source": []
  },
  {
   "cell_type": "code",
   "execution_count": 315,
   "id": "eb3c19f7",
   "metadata": {},
   "outputs": [
    {
     "data": {
      "image/png": "[encoded data removed]",
      "text/plain": [
       "<Figure size 640x480 with 1 Axes>"
      ]
     },
     "metadata": {},
     "output_type": "display_data"
    }
   ],
   "source": [
    "H = np.median(dec.XH_pruned[...,4],axis=1)\n",
    "Hd = np.std(dec.XH_pruned[...,4],axis=1)/H\n",
    "D = dec.XH_pruned[...,:3]-np.mean(dec.XH_pruned[...,:3],axis=1)[:,np.newaxis]\n",
    "D = np.mean(np.linalg.norm(D,axis=-1),axis=-1)\n",
    "score = np.array([H,-D])\n",
    "scoreA = np.argsort(np.argsort(score,axis=-1),axis=-1)+1\n",
    "scoreA = np.sum(np.log(scoreA)-np.log(len(D)),axis=0)\n",
    "\n",
    "bad_igns = [ign for ign,gn in enumerate(dec.gns_names) if 'blank' in gn.lower()]\n",
    "good_igns = [ign for ign,gn in enumerate(dec.gns_names) if 'blank' not in gn.lower()]\n",
    "is_good_gn = np.in1d(dec.icodesN,good_igns)\n",
    "is_gn = dec.icodesN==(list(dec.gns_names).index('Aqp4'))\n",
    "plt.hist(scoreA[is_good_gn],density=True,bins=100,alpha=0.5)\n",
    "plt.hist(scoreA[~is_good_gn],density=True,bins=100,alpha=0.5);"
   ]
  },
  {
   "cell_type": "code",
   "execution_count": 30,
   "id": "af3aea57",
   "metadata": {},
   "outputs": [],
   "source": []
  },
  {
   "cell_type": "code",
   "execution_count": 19,
   "id": "53c93fda",
   "metadata": {},
   "outputs": [
    {
     "name": "stdout",
     "output_type": "stream",
     "text": [
      "0.03578260292475738 0.2610676895853545\n",
      "0.015979229822232537 15.276666666666667 956.0327272727272\n"
     ]
    }
   ],
   "source": [
    "th = -0.75\n",
    "print(np.mean(scoreA[~is_good_gn]>th),np.mean(scoreA[is_good_gn]>th))\n",
    "nbds = np.sum(scoreA[~is_good_gn]>th)/len(bad_igns)\n",
    "ngds = np.sum(scoreA[is_good_gn]>th)/len(good_igns)\n",
    "print(nbds/ngds,nbds,ngds)"
   ]
  },
  {
   "cell_type": "code",
   "execution_count": 325,
   "id": "8bb9a415",
   "metadata": {},
   "outputs": [
    {
     "data": {
      "text/plain": [
       "array(['blank0276', 'blank0277', 'blank0278', 'blank0279', 'blank0280',\n",
       "       'blank0281', 'blank0282', 'blank0283', 'blank0284', 'blank0285',\n",
       "       'blank0286', 'blank0287', 'blank0288', 'blank0289', 'blank0290',\n",
       "       'blank0291', 'blank0292', 'blank0293', 'blank0294', 'blank0295',\n",
       "       'blank0296', 'blank0297', 'blank0298', 'blank0299', 'blank0300',\n",
       "       'Acer3', 'Actg1', 'Adcy2', 'Ahcyl2', 'Aldoc', 'Ascl1', 'Auts2',\n",
       "       'Bhlhe22', 'Bmp2', 'Bsg', 'C1qa', 'Calb1', 'Cck', 'Cdh12', 'Cdk4',\n",
       "       'Chrdl1', 'Cnr1', 'Csmd1', 'Cst3', 'Dgat2', 'Dlx1', 'Dsp',\n",
       "       'Eif4a2', 'Emx2', 'Eomes', 'Fam107a', 'Flt1', 'Foxa2', 'Foxg1',\n",
       "       'Gabbr1', 'Gad1', 'Gja1', 'Gpc4', 'Grb14', 'Grin2c', 'Hapln2',\n",
       "       'Hmgn3', 'Id3', 'Igfbpl1', 'Kcnd2', 'Lhx3', 'Lockd', 'Lrp1b',\n",
       "       'Mal', 'Mapk4', 'Mbp', 'Mgat4c', 'Mrc1', 'Myc', 'Nckap5',\n",
       "       'Neurod1', 'Neurod6', 'Nfia', 'Nkain4', 'Nog', 'Npy2r', 'Nrgn',\n",
       "       'Ntng1', 'Ogt', 'Olr1', 'Padi2', 'Pam', 'Pde1a', 'Plekha1', 'Pnoc',\n",
       "       'Prox1', 'Ptbp2', 'Rasl10a', 'Reln', 'Riiad1', 'Rpl38', 'S1pr3',\n",
       "       'Serping1', 'Sgk1', 'Slc1a3', 'Slco1c1', 'Sox11', 'Sox4', 'Spag5',\n",
       "       'Steap4', 'Tardbp', 'Tgfb1', 'Thrsp', 'Tmsb10', 'Tpt1', 'Tshz2',\n",
       "       'Unc13c', 'Vip', 'Wfs1', 'Zfp36l1', 'Acta2', 'Adarb2', 'Adgrl3',\n",
       "       'Aif1l', 'Aqp4', 'Atp1a2', 'Bcl2', 'Bmp4', 'Bsn', 'C1ql1', 'Calb2',\n",
       "       'Casp3', 'Cd14', 'Cdh13', 'Clasp1', 'Cntnap5b', 'Cspg4', 'Dcc',\n",
       "       'Dgkb', 'Dlx2', 'Efna5', 'Elavl2', 'Elavl3', 'Erbb4', 'Etv4',\n",
       "       'Fam214a', 'Fos', 'Frmd4a', 'Fxyd6', 'Fxyd7', 'Gabra1', 'Gda',\n",
       "       'Gli1', 'Gpm6a', 'Grp', 'Hdac8', 'Hopx', 'Hs6st3', 'Inpp4b',\n",
       "       'Insm1', 'Kif4', 'Lhx6', 'Lpar1', 'Lrrtm4', 'Marcks', 'Mcm2',\n",
       "       'Mertk', 'Mgl2', 'Mt2', 'Myf5', 'Ndst4', 'Nell1', 'Neurod2',\n",
       "       'Neurog1', 'Ngef', 'Nmb', 'Notch3', 'Nr3c2', 'Ntrk2', 'Olig1',\n",
       "       'Opalin', 'Pax6', 'Pdgfra', 'Pou3f2', 'Prom1', 'Psap', 'Ptgds',\n",
       "       'Rbfox3', 'Rest', 'Rtn4', 'Sall3', 'Scd2', 'Sema3a', 'Sgcd',\n",
       "       'Sin3a', 'Slc2a1', 'Slit2', 'Sorcs1', 'Sox2', 'Spink8', 'Stox2',\n",
       "       'Tac2', 'Tbr1', 'Thy1', 'Trim2', 'Unc13a', 'Unc5c', 'Vnn1',\n",
       "       'Vps13c', 'Wipf3', 'Abhd2', 'Actb', 'Adcy1', 'Agt', 'Aldh1a1',\n",
       "       'Arx', 'Atp1b1', 'Bdnf', 'Brinp3', 'Btg2', 'C1ql3', 'Casp9',\n",
       "       'Cd74', 'Cdh18', 'Cdk1', 'Cldn5', 'Cox6a1', 'Cspg5', 'Dcx', 'Dgkh',\n",
       "       'Dpysl3', 'Egfem1', 'Elavl4', 'Emx1', 'F3', 'Fam210b', 'Fbll1',\n",
       "       'Foxa1', 'Frzb', 'Fyn', 'Gabra2', 'Gal', 'Gfap', 'Gm10076', 'Gnb1',\n",
       "       'Gpr17', 'H2afz', 'Hes5', 'Htra1', 'Htt', 'Junb', 'Kcng4',\n",
       "       'Laptm5', 'Llgl1', 'Map3k15', 'Mast4', 'Mcu', 'Mfge8', 'Mki67',\n",
       "       'Mtrf1', 'Mxd3', 'Myod1', 'Necab3', 'Nes', 'Neurod4', 'Neurog2',\n",
       "       'Nkain2', 'Nnat', 'Npas3', 'Nrg3', 'Ntf3', 'Nxph1', 'Olig2',\n",
       "       'Opcml', 'Pde10a', 'Pex5l', 'Plxna1', 'Prkg1', 'Ptbp1', 'Pvalb',\n",
       "       'Rbms3', 'Rhcg', 'Robo1', 'S100b', 'Sdk1', 'Serpinf1', 'Sgcz',\n",
       "       'Slc17a6', 'Slc1a2', 'Slc5a7', 'Smarca4', 'Sox10', 'Sox9', 'Sst',\n",
       "       'Synpr', 'Tenm2', 'Tfap2c', 'Tmem108', 'Top2a', 'Trps1', 'Unc13b',\n",
       "       'Vim', 'Wdr17', 'Wnt8b', 'Zbtb20'], dtype='<U9')"
      ]
     },
     "execution_count": 325,
     "metadata": {},
     "output_type": "execute_result"
    }
   ],
   "source": [
    "dec.gns_names[-300:]"
   ]
  },
  {
   "cell_type": "code",
   "execution_count": 338,
   "id": "8f298f86",
   "metadata": {},
   "outputs": [],
   "source": []
  },
  {
   "cell_type": "code",
   "execution_count": 295,
   "id": "da7c73b4",
   "metadata": {},
   "outputs": [
    {
     "data": {
      "text/plain": [
       "(1241, 10)"
      ]
     },
     "execution_count": 295,
     "metadata": {},
     "output_type": "execute_result"
    }
   ],
   "source": [
    "Xcms[is_gn][keep_gn].shape"
   ]
  },
  {
   "cell_type": "code",
   "execution_count": null,
   "id": "04577f60",
   "metadata": {},
   "outputs": [],
   "source": []
  },
  {
   "cell_type": "code",
   "execution_count": 282,
   "id": "f3a5e923",
   "metadata": {},
   "outputs": [
    {
     "data": {
      "text/plain": [
       "(300, 275)"
      ]
     },
     "execution_count": 282,
     "metadata": {},
     "output_type": "execute_result"
    }
   ],
   "source": [
    "len(bad_igns),len(good_igns)"
   ]
  },
  {
   "cell_type": "code",
   "execution_count": 279,
   "id": "de25bb78",
   "metadata": {},
   "outputs": [
    {
     "data": {
      "text/plain": [
       "((1257484,), 550023)"
      ]
     },
     "execution_count": 279,
     "metadata": {},
     "output_type": "execute_result"
    }
   ],
   "source": [
    "scoreA.shape,np.sum(scoreA[is_good_gn]>-2.5)"
   ]
  },
  {
   "cell_type": "code",
   "execution_count": 264,
   "id": "3862b978",
   "metadata": {},
   "outputs": [
    {
     "data": {
      "text/plain": [
       "array(['blank0001', 'blank0002', 'blank0003', 'blank0004', 'blank0005',\n",
       "       'blank0006', 'blank0007', 'blank0008', 'blank0009', 'blank0010',\n",
       "       'blank0011', 'blank0012', 'blank0013', 'blank0014', 'blank0015',\n",
       "       'blank0016', 'blank0017', 'blank0018', 'blank0019', 'blank0020',\n",
       "       'blank0021', 'blank0022', 'blank0023', 'blank0024', 'blank0025',\n",
       "       'blank0026', 'blank0027', 'blank0028', 'blank0029', 'blank0030',\n",
       "       'blank0031', 'blank0032', 'blank0033', 'blank0034', 'blank0035',\n",
       "       'blank0036', 'blank0037', 'blank0038', 'blank0039', 'blank0040',\n",
       "       'blank0041', 'blank0042', 'blank0043', 'blank0044', 'blank0045',\n",
       "       'blank0046', 'blank0047', 'blank0048', 'blank0049', 'blank0050',\n",
       "       'blank0051', 'blank0052', 'blank0053', 'blank0054', 'blank0055',\n",
       "       'blank0056', 'blank0057', 'blank0058', 'blank0059', 'blank0060',\n",
       "       'blank0061', 'blank0062', 'blank0063', 'blank0064', 'blank0065',\n",
       "       'blank0066', 'blank0067', 'blank0068', 'blank0069', 'blank0070',\n",
       "       'blank0071', 'blank0072', 'blank0073', 'blank0074', 'blank0075',\n",
       "       'blank0076', 'blank0077', 'blank0078', 'blank0079', 'blank0080',\n",
       "       'blank0081', 'blank0082', 'blank0083', 'blank0084', 'blank0085',\n",
       "       'blank0086', 'blank0087', 'blank0088', 'blank0089', 'blank0090',\n",
       "       'blank0091', 'blank0092', 'blank0093', 'blank0094', 'blank0095',\n",
       "       'blank0096', 'blank0097', 'blank0098', 'blank0099', 'blank0100',\n",
       "       'blank0101', 'blank0102', 'blank0103', 'blank0104', 'blank0105',\n",
       "       'blank0106', 'blank0107', 'blank0108', 'blank0109', 'blank0110',\n",
       "       'blank0111', 'blank0112', 'blank0113', 'blank0114', 'blank0115',\n",
       "       'blank0116', 'blank0117', 'blank0118', 'blank0119', 'blank0120',\n",
       "       'blank0121', 'blank0122', 'blank0123', 'blank0124', 'blank0125',\n",
       "       'blank0126', 'blank0127', 'blank0128', 'blank0129', 'blank0130',\n",
       "       'blank0131', 'blank0132', 'blank0133', 'blank0134', 'blank0135',\n",
       "       'blank0136', 'blank0137', 'blank0138', 'blank0139', 'blank0140',\n",
       "       'blank0141', 'blank0142', 'blank0143', 'blank0144', 'blank0145',\n",
       "       'blank0146', 'blank0147', 'blank0148', 'blank0149', 'blank0150',\n",
       "       'blank0151', 'blank0152', 'blank0153', 'blank0154', 'blank0155',\n",
       "       'blank0156', 'blank0157', 'blank0158', 'blank0159', 'blank0160',\n",
       "       'blank0161', 'blank0162', 'blank0163', 'blank0164', 'blank0165',\n",
       "       'blank0166', 'blank0167', 'blank0168', 'blank0169', 'blank0170',\n",
       "       'blank0171', 'blank0172', 'blank0173', 'blank0174', 'blank0175',\n",
       "       'blank0176', 'blank0177', 'blank0178', 'blank0179', 'blank0180',\n",
       "       'blank0181', 'blank0182', 'blank0183', 'blank0184', 'blank0185',\n",
       "       'blank0186', 'blank0187', 'blank0188', 'blank0189', 'blank0190',\n",
       "       'blank0191', 'blank0192', 'blank0193', 'blank0194', 'blank0195',\n",
       "       'blank0196', 'blank0197', 'blank0198', 'blank0199', 'blank0200',\n",
       "       'blank0201', 'blank0202', 'blank0203', 'blank0204', 'blank0205',\n",
       "       'blank0206', 'blank0207', 'blank0208', 'blank0209', 'blank0210',\n",
       "       'blank0211', 'blank0212', 'blank0213', 'blank0214', 'blank0215',\n",
       "       'blank0216', 'blank0217', 'blank0218', 'blank0219', 'blank0220',\n",
       "       'blank0221', 'blank0222', 'blank0223', 'blank0224', 'blank0225',\n",
       "       'blank0226', 'blank0227', 'blank0228', 'blank0229', 'blank0230',\n",
       "       'blank0231', 'blank0232', 'blank0233', 'blank0234', 'blank0235',\n",
       "       'blank0236', 'blank0237', 'blank0238', 'blank0239', 'blank0240',\n",
       "       'blank0241', 'blank0242', 'blank0243', 'blank0244', 'blank0245',\n",
       "       'blank0246', 'blank0247', 'blank0248', 'blank0249', 'blank0250',\n",
       "       'blank0251', 'blank0252', 'blank0253', 'blank0254', 'blank0255',\n",
       "       'blank0256', 'blank0257', 'blank0258', 'blank0259', 'blank0260',\n",
       "       'blank0261', 'blank0262', 'blank0263', 'blank0264', 'blank0265',\n",
       "       'blank0266', 'blank0267', 'blank0268', 'blank0269', 'blank0270',\n",
       "       'blank0271', 'blank0272', 'blank0273', 'blank0274', 'blank0275',\n",
       "       'blank0276', 'blank0277', 'blank0278', 'blank0279', 'blank0280',\n",
       "       'blank0281', 'blank0282', 'blank0283', 'blank0284', 'blank0285',\n",
       "       'blank0286', 'blank0287', 'blank0288', 'blank0289', 'blank0290',\n",
       "       'blank0291', 'blank0292', 'blank0293', 'blank0294', 'blank0295',\n",
       "       'blank0296', 'blank0297', 'blank0298', 'blank0299', 'blank0300',\n",
       "       'Acer3', 'Actg1', 'Adcy2', 'Ahcyl2', 'Aldoc', 'Ascl1', 'Auts2',\n",
       "       'Bhlhe22', 'Bmp2', 'Bsg', 'C1qa', 'Calb1', 'Cck', 'Cdh12', 'Cdk4',\n",
       "       'Chrdl1', 'Cnr1', 'Csmd1', 'Cst3', 'Dgat2', 'Dlx1', 'Dsp',\n",
       "       'Eif4a2', 'Emx2', 'Eomes', 'Fam107a', 'Flt1', 'Foxa2', 'Foxg1',\n",
       "       'Gabbr1', 'Gad1', 'Gja1', 'Gpc4', 'Grb14', 'Grin2c', 'Hapln2',\n",
       "       'Hmgn3', 'Id3', 'Igfbpl1', 'Kcnd2', 'Lhx3', 'Lockd', 'Lrp1b',\n",
       "       'Mal', 'Mapk4', 'Mbp', 'Mgat4c', 'Mrc1', 'Myc', 'Nckap5',\n",
       "       'Neurod1', 'Neurod6', 'Nfia', 'Nkain4', 'Nog', 'Npy2r', 'Nrgn',\n",
       "       'Ntng1', 'Ogt', 'Olr1', 'Padi2', 'Pam', 'Pde1a', 'Plekha1', 'Pnoc',\n",
       "       'Prox1', 'Ptbp2', 'Rasl10a', 'Reln', 'Riiad1', 'Rpl38', 'S1pr3',\n",
       "       'Serping1', 'Sgk1', 'Slc1a3', 'Slco1c1', 'Sox11', 'Sox4', 'Spag5',\n",
       "       'Steap4', 'Tardbp', 'Tgfb1', 'Thrsp', 'Tmsb10', 'Tpt1', 'Tshz2',\n",
       "       'Unc13c', 'Vip', 'Wfs1', 'Zfp36l1', 'Acta2', 'Adarb2', 'Adgrl3',\n",
       "       'Aif1l', 'Aqp4', 'Atp1a2', 'Bcl2', 'Bmp4', 'Bsn', 'C1ql1', 'Calb2',\n",
       "       'Casp3', 'Cd14', 'Cdh13', 'Clasp1', 'Cntnap5b', 'Cspg4', 'Dcc',\n",
       "       'Dgkb', 'Dlx2', 'Efna5', 'Elavl2', 'Elavl3', 'Erbb4', 'Etv4',\n",
       "       'Fam214a', 'Fos', 'Frmd4a', 'Fxyd6', 'Fxyd7', 'Gabra1', 'Gda',\n",
       "       'Gli1', 'Gpm6a', 'Grp', 'Hdac8', 'Hopx', 'Hs6st3', 'Inpp4b',\n",
       "       'Insm1', 'Kif4', 'Lhx6', 'Lpar1', 'Lrrtm4', 'Marcks', 'Mcm2',\n",
       "       'Mertk', 'Mgl2', 'Mt2', 'Myf5', 'Ndst4', 'Nell1', 'Neurod2',\n",
       "       'Neurog1', 'Ngef', 'Nmb', 'Notch3', 'Nr3c2', 'Ntrk2', 'Olig1',\n",
       "       'Opalin', 'Pax6', 'Pdgfra', 'Pou3f2', 'Prom1', 'Psap', 'Ptgds',\n",
       "       'Rbfox3', 'Rest', 'Rtn4', 'Sall3', 'Scd2', 'Sema3a', 'Sgcd',\n",
       "       'Sin3a', 'Slc2a1', 'Slit2', 'Sorcs1', 'Sox2', 'Spink8', 'Stox2',\n",
       "       'Tac2', 'Tbr1', 'Thy1', 'Trim2', 'Unc13a', 'Unc5c', 'Vnn1',\n",
       "       'Vps13c', 'Wipf3', 'Abhd2', 'Actb', 'Adcy1', 'Agt', 'Aldh1a1',\n",
       "       'Arx', 'Atp1b1', 'Bdnf', 'Brinp3', 'Btg2', 'C1ql3', 'Casp9',\n",
       "       'Cd74', 'Cdh18', 'Cdk1', 'Cldn5', 'Cox6a1', 'Cspg5', 'Dcx', 'Dgkh',\n",
       "       'Dpysl3', 'Egfem1', 'Elavl4', 'Emx1', 'F3', 'Fam210b', 'Fbll1',\n",
       "       'Foxa1', 'Frzb', 'Fyn', 'Gabra2', 'Gal', 'Gfap', 'Gm10076', 'Gnb1',\n",
       "       'Gpr17', 'H2afz', 'Hes5', 'Htra1', 'Htt', 'Junb', 'Kcng4',\n",
       "       'Laptm5', 'Llgl1', 'Map3k15', 'Mast4', 'Mcu', 'Mfge8', 'Mki67',\n",
       "       'Mtrf1', 'Mxd3', 'Myod1', 'Necab3', 'Nes', 'Neurod4', 'Neurog2',\n",
       "       'Nkain2', 'Nnat', 'Npas3', 'Nrg3', 'Ntf3', 'Nxph1', 'Olig2',\n",
       "       'Opcml', 'Pde10a', 'Pex5l', 'Plxna1', 'Prkg1', 'Ptbp1', 'Pvalb',\n",
       "       'Rbms3', 'Rhcg', 'Robo1', 'S100b', 'Sdk1', 'Serpinf1', 'Sgcz',\n",
       "       'Slc17a6', 'Slc1a2', 'Slc5a7', 'Smarca4', 'Sox10', 'Sox9', 'Sst',\n",
       "       'Synpr', 'Tenm2', 'Tfap2c', 'Tmem108', 'Top2a', 'Trps1', 'Unc13b',\n",
       "       'Vim', 'Wdr17', 'Wnt8b', 'Zbtb20'], dtype='<U9')"
      ]
     },
     "execution_count": 264,
     "metadata": {},
     "output_type": "execute_result"
    }
   ],
   "source": [
    "dec.gns_names"
   ]
  },
  {
   "cell_type": "code",
   "execution_count": 213,
   "id": "87576bbf",
   "metadata": {},
   "outputs": [],
   "source": [
    "args = np.argsort(np.argsort([9,1,2,3,4,8]))"
   ]
  },
  {
   "cell_type": "code",
   "execution_count": 214,
   "id": "f313ad2e",
   "metadata": {},
   "outputs": [
    {
     "data": {
      "text/plain": [
       "array([5, 0, 1, 2, 3, 4], dtype=int64)"
      ]
     },
     "execution_count": 214,
     "metadata": {},
     "output_type": "execute_result"
    }
   ],
   "source": [
    "args"
   ]
  },
  {
   "cell_type": "code",
   "execution_count": null,
   "id": "e05bb01e",
   "metadata": {},
   "outputs": [],
   "source": []
  },
  {
   "cell_type": "code",
   "execution_count": 173,
   "id": "7d76d602",
   "metadata": {},
   "outputs": [
    {
     "name": "stdout",
     "output_type": "stream",
     "text": [
      "0.03333333333333333 0.01\n",
      "100.0 30.0\n",
      "0.03333333333333333 0.01\n",
      "100.0 30.0\n",
      "0.03333333333333333 0.01\n",
      "100.0 30.0\n",
      "0.03333333333333333 0.01\n",
      "100.0 30.0\n",
      "0.03333333333333333 0.01\n",
      "100.0 30.0\n"
     ]
    }
   ],
   "source": [
    "a,b=100,30\n",
    "for i in range(10):\n",
    "    a,b=a/a/b,b/a/b\n",
    "    print(a,b)"
   ]
  },
  {
   "cell_type": "code",
   "execution_count": null,
   "id": "312e4278",
   "metadata": {},
   "outputs": [],
   "source": []
  },
  {
   "cell_type": "code",
   "execution_count": 170,
   "id": "62cec043",
   "metadata": {},
   "outputs": [
    {
     "data": {
      "text/plain": [
       "(array([[54936.7109375 , 55784.0234375 , 52976.23046875, 53666.921875  ],\n",
       "        [56435.5625    , 56999.92578125, 55034.5859375 , 55161.62109375],\n",
       "        [57354.2578125 , 57367.49609375, 57445.1953125 , 57026.90625   ],\n",
       "        ...,\n",
       "        [  506.35668945,   532.39770508,   512.05102539,   507.0144043 ],\n",
       "        [  523.11450195,   513.89233398,   505.27099609,   510.73120117],\n",
       "        [  519.83007812,   501.97753906,   507.46484375,   508.96337891]]),\n",
       " array([[54936.7109375 , 55784.0234375 , 52976.23046875, 53666.921875  ],\n",
       "        [56435.5625    , 56999.92578125, 55034.5859375 , 55161.62109375],\n",
       "        [57354.2578125 , 57367.49609375, 57445.1953125 , 57026.90625   ],\n",
       "        ...,\n",
       "        [  506.35668945,   532.39770508,   512.05102539,   507.0144043 ],\n",
       "        [  523.11450195,   513.89233398,   505.27099609,   510.73120117],\n",
       "        [  519.83007812,   501.97753906,   507.46484375,   508.96337891]]))"
      ]
     },
     "execution_count": 170,
     "metadata": {},
     "output_type": "execute_result"
    }
   ],
   "source": [
    "dec.XH_pruned[:,:,4],dec.XH_pruned[:,:,-3]"
   ]
  },
  {
   "cell_type": "code",
   "execution_count": 169,
   "id": "0b3f7bc0",
   "metadata": {},
   "outputs": [
    {
     "name": "stderr",
     "output_type": "stream",
     "text": [
      "  4%|███▍                                                                               | 2/48 [00:00<00:05,  8.26it/s]"
     ]
    },
    {
     "name": "stdout",
     "output_type": "stream",
     "text": [
      "0 1.0735344261277961 105743\n",
      "1 1.1612388437043955 119220\n"
     ]
    },
    {
     "name": "stderr",
     "output_type": "stream",
     "text": [
      "  8%|██████▉                                                                            | 4/48 [00:00<00:05,  7.83it/s]"
     ]
    },
    {
     "name": "stdout",
     "output_type": "stream",
     "text": [
      "2 1.1597179076894526 127383\n",
      "3 1.0174593941220076 136537\n"
     ]
    },
    {
     "name": "stderr",
     "output_type": "stream",
     "text": [
      " 12%|██████████▍                                                                        | 6/48 [00:00<00:05,  8.08it/s]"
     ]
    },
    {
     "name": "stdout",
     "output_type": "stream",
     "text": [
      "4 0.9924827251760142 153022\n",
      "5 0.9379327883658864 91920\n"
     ]
    },
    {
     "name": "stderr",
     "output_type": "stream",
     "text": [
      " 17%|█████████████▊                                                                     | 8/48 [00:01<00:05,  7.12it/s]"
     ]
    },
    {
     "name": "stdout",
     "output_type": "stream",
     "text": [
      "6 0.9869958845839988 131298\n",
      "7 1.0031950550371591 180022\n"
     ]
    },
    {
     "name": "stderr",
     "output_type": "stream",
     "text": [
      " 21%|█████████████████                                                                 | 10/48 [00:01<00:05,  7.59it/s]"
     ]
    },
    {
     "name": "stdout",
     "output_type": "stream",
     "text": [
      "8 0.9225507054368287 105695\n",
      "9 0.9593935083523599 120995\n"
     ]
    },
    {
     "name": "stderr",
     "output_type": "stream",
     "text": [
      " 25%|████████████████████▌                                                             | 12/48 [00:01<00:04,  7.34it/s]"
     ]
    },
    {
     "name": "stdout",
     "output_type": "stream",
     "text": [
      "10 0.9279623933915375 115710\n",
      "11 0.9330269580704613 115831\n"
     ]
    },
    {
     "name": "stderr",
     "output_type": "stream",
     "text": [
      " 29%|███████████████████████▉                                                          | 14/48 [00:01<00:04,  6.99it/s]"
     ]
    },
    {
     "name": "stdout",
     "output_type": "stream",
     "text": [
      "12 0.9743820703926829 125372\n",
      "13 0.9409013777346191 134373\n"
     ]
    },
    {
     "name": "stderr",
     "output_type": "stream",
     "text": [
      "\r",
      " 31%|█████████████████████████▋                                                        | 15/48 [00:02<00:05,  6.05it/s]"
     ]
    },
    {
     "name": "stdout",
     "output_type": "stream",
     "text": [
      "14 0.9583146034598296 137166\n"
     ]
    },
    {
     "name": "stderr",
     "output_type": "stream",
     "text": [
      " 35%|█████████████████████████████                                                     | 17/48 [00:02<00:05,  5.84it/s]"
     ]
    },
    {
     "name": "stdout",
     "output_type": "stream",
     "text": [
      "15 0.9880984022022441 124061\n",
      "16 0.9672519518816757 156415\n"
     ]
    },
    {
     "name": "stderr",
     "output_type": "stream",
     "text": [
      " 40%|████████████████████████████████▍                                                 | 19/48 [00:02<00:04,  6.24it/s]"
     ]
    },
    {
     "name": "stdout",
     "output_type": "stream",
     "text": [
      "17 1.0092646811037285 127725\n",
      "18 0.9790943685137408 135359\n"
     ]
    },
    {
     "name": "stderr",
     "output_type": "stream",
     "text": [
      " 44%|███████████████████████████████████▉                                              | 21/48 [00:03<00:04,  6.27it/s]"
     ]
    },
    {
     "name": "stdout",
     "output_type": "stream",
     "text": [
      "19 0.9747997657421947 123569\n",
      "20 1.034641671896533 112626\n"
     ]
    },
    {
     "name": "stderr",
     "output_type": "stream",
     "text": [
      " 48%|███████████████████████████████████████▎                                          | 23/48 [00:03<00:04,  5.83it/s]"
     ]
    },
    {
     "name": "stdout",
     "output_type": "stream",
     "text": [
      "21 0.9962776515038618 128585\n",
      "22 1.012844180006087 140339\n"
     ]
    },
    {
     "name": "stderr",
     "output_type": "stream",
     "text": [
      " 52%|██████████████████████████████████████████▋                                       | 25/48 [00:03<00:03,  6.74it/s]"
     ]
    },
    {
     "name": "stdout",
     "output_type": "stream",
     "text": [
      "23 0.9564723864158069 91886\n",
      "24 0.9521051484835202 58599\n"
     ]
    },
    {
     "name": "stderr",
     "output_type": "stream",
     "text": [
      " 56%|██████████████████████████████████████████████▏                                   | 27/48 [00:03<00:02,  7.59it/s]"
     ]
    },
    {
     "name": "stdout",
     "output_type": "stream",
     "text": [
      "25 0.9919912539135858 83343\n",
      "26 1.017017932403652 66658\n"
     ]
    },
    {
     "name": "stderr",
     "output_type": "stream",
     "text": [
      " 60%|█████████████████████████████████████████████████▌                                | 29/48 [00:04<00:02,  7.85it/s]"
     ]
    },
    {
     "name": "stdout",
     "output_type": "stream",
     "text": [
      "27 0.9721617248587708 97342\n",
      "28 0.9588763845511212 74638\n"
     ]
    },
    {
     "name": "stderr",
     "output_type": "stream",
     "text": [
      " 65%|████████████████████████████████████████████████████▉                             | 31/48 [00:04<00:02,  7.65it/s]"
     ]
    },
    {
     "name": "stdout",
     "output_type": "stream",
     "text": [
      "29 0.9582758975000514 84948\n",
      "30 0.9853264207258663 79384\n"
     ]
    },
    {
     "name": "stderr",
     "output_type": "stream",
     "text": [
      " 69%|████████████████████████████████████████████████████████▍                         | 33/48 [00:04<00:01,  7.66it/s]"
     ]
    },
    {
     "name": "stdout",
     "output_type": "stream",
     "text": [
      "31 0.9560856584909363 140169\n",
      "32 0.9782407657169275 78460\n"
     ]
    },
    {
     "name": "stderr",
     "output_type": "stream",
     "text": [
      " 73%|███████████████████████████████████████████████████████████▊                      | 35/48 [00:04<00:01,  7.50it/s]"
     ]
    },
    {
     "name": "stdout",
     "output_type": "stream",
     "text": [
      "33 1.0261921721912648 94949\n",
      "34 0.9636357638263618 79513\n"
     ]
    },
    {
     "name": "stderr",
     "output_type": "stream",
     "text": [
      " 77%|███████████████████████████████████████████████████████████████▏                  | 37/48 [00:05<00:01,  7.25it/s]"
     ]
    },
    {
     "name": "stdout",
     "output_type": "stream",
     "text": [
      "35 0.9586398661436736 62667\n",
      "36 1.0322174639108748 97924\n"
     ]
    },
    {
     "name": "stderr",
     "output_type": "stream",
     "text": [
      " 81%|██████████████████████████████████████████████████████████████████▋               | 39/48 [00:05<00:01,  7.38it/s]"
     ]
    },
    {
     "name": "stdout",
     "output_type": "stream",
     "text": [
      "37 1.0625087776887163 91352\n",
      "38 1.0389853832040474 82427\n"
     ]
    },
    {
     "name": "stderr",
     "output_type": "stream",
     "text": [
      " 85%|██████████████████████████████████████████████████████████████████████            | 41/48 [00:05<00:00,  7.58it/s]"
     ]
    },
    {
     "name": "stdout",
     "output_type": "stream",
     "text": [
      "39 0.9620202258088395 58630\n",
      "40 1.0018461276741562 111464\n"
     ]
    },
    {
     "name": "stderr",
     "output_type": "stream",
     "text": [
      " 90%|█████████████████████████████████████████████████████████████████████████▍        | 43/48 [00:06<00:00,  7.15it/s]"
     ]
    },
    {
     "name": "stdout",
     "output_type": "stream",
     "text": [
      "41 1.0524384683610815 85099\n",
      "42 1.0263541134025136 84112\n"
     ]
    },
    {
     "name": "stderr",
     "output_type": "stream",
     "text": [
      " 94%|████████████████████████████████████████████████████████████████████████████▉     | 45/48 [00:06<00:00,  7.80it/s]"
     ]
    },
    {
     "name": "stdout",
     "output_type": "stream",
     "text": [
      "43 1.0203883910315907 95043\n",
      "44 1.0139002097868706 47788\n",
      "45 0.947673596577425 52186\n"
     ]
    },
    {
     "name": "stderr",
     "output_type": "stream",
     "text": [
      "100%|██████████████████████████████████████████████████████████████████████████████████| 48/48 [00:06<00:00,  7.23it/s]\n"
     ]
    },
    {
     "name": "stdout",
     "output_type": "stream",
     "text": [
      "46 1.0175895646598478 119704\n",
      "47 0.9619569630001895 62685\n"
     ]
    },
    {
     "name": "stderr",
     "output_type": "stream",
     "text": [
      "  4%|███▍                                                                               | 2/48 [00:00<00:05,  8.06it/s]"
     ]
    },
    {
     "name": "stdout",
     "output_type": "stream",
     "text": [
      "0 1.0735344261277961 105743\n",
      "1 1.1612388437043955 119220\n"
     ]
    },
    {
     "name": "stderr",
     "output_type": "stream",
     "text": [
      "  8%|██████▉                                                                            | 4/48 [00:00<00:05,  7.66it/s]"
     ]
    },
    {
     "name": "stdout",
     "output_type": "stream",
     "text": [
      "2 1.1597179076894526 127383\n",
      "3 1.0174593941220076 136537\n"
     ]
    },
    {
     "name": "stderr",
     "output_type": "stream",
     "text": [
      " 12%|██████████▍                                                                        | 6/48 [00:00<00:05,  8.05it/s]"
     ]
    },
    {
     "name": "stdout",
     "output_type": "stream",
     "text": [
      "4 0.9924827251760142 153022\n",
      "5 0.9379327883658864 91920\n"
     ]
    },
    {
     "name": "stderr",
     "output_type": "stream",
     "text": [
      " 17%|█████████████▊                                                                     | 8/48 [00:01<00:05,  7.46it/s]"
     ]
    },
    {
     "name": "stdout",
     "output_type": "stream",
     "text": [
      "6 0.9869958845839988 131298\n",
      "7 1.0031950550371591 180022\n"
     ]
    },
    {
     "name": "stderr",
     "output_type": "stream",
     "text": [
      " 21%|█████████████████                                                                 | 10/48 [00:01<00:04,  7.82it/s]"
     ]
    },
    {
     "name": "stdout",
     "output_type": "stream",
     "text": [
      "8 0.9225507054368287 105695\n",
      "9 0.9593935083523599 120995\n"
     ]
    },
    {
     "name": "stderr",
     "output_type": "stream",
     "text": [
      " 25%|████████████████████▌                                                             | 12/48 [00:01<00:04,  7.93it/s]"
     ]
    },
    {
     "name": "stdout",
     "output_type": "stream",
     "text": [
      "10 0.9279623933915375 115710\n",
      "11 0.9330269580704613 115831\n"
     ]
    },
    {
     "name": "stderr",
     "output_type": "stream",
     "text": [
      " 29%|███████████████████████▉                                                          | 14/48 [00:01<00:04,  7.86it/s]"
     ]
    },
    {
     "name": "stdout",
     "output_type": "stream",
     "text": [
      "12 0.9743820703926829 125372\n",
      "13 0.9409013777346191 134373\n"
     ]
    },
    {
     "name": "stderr",
     "output_type": "stream",
     "text": [
      " 33%|███████████████████████████▎                                                      | 16/48 [00:02<00:04,  7.79it/s]"
     ]
    },
    {
     "name": "stdout",
     "output_type": "stream",
     "text": [
      "14 0.9583146034598296 137166\n",
      "15 0.9880984022022441 124061\n"
     ]
    },
    {
     "name": "stderr",
     "output_type": "stream",
     "text": [
      " 38%|██████████████████████████████▊                                                   | 18/48 [00:02<00:04,  6.63it/s]"
     ]
    },
    {
     "name": "stdout",
     "output_type": "stream",
     "text": [
      "16 0.9672519518816757 156415\n",
      "17 1.0092646811037285 127725\n"
     ]
    },
    {
     "name": "stderr",
     "output_type": "stream",
     "text": [
      " 42%|██████████████████████████████████▏                                               | 20/48 [00:02<00:03,  7.00it/s]"
     ]
    },
    {
     "name": "stdout",
     "output_type": "stream",
     "text": [
      "18 0.9790943685137408 135359\n",
      "19 0.9747997657421947 123569\n"
     ]
    },
    {
     "name": "stderr",
     "output_type": "stream",
     "text": [
      " 46%|█████████████████████████████████████▌                                            | 22/48 [00:02<00:03,  7.00it/s]"
     ]
    },
    {
     "name": "stdout",
     "output_type": "stream",
     "text": [
      "20 1.034641671896533 112626\n",
      "21 0.9962776515038618 128585\n"
     ]
    },
    {
     "name": "stderr",
     "output_type": "stream",
     "text": [
      " 50%|█████████████████████████████████████████                                         | 24/48 [00:03<00:03,  6.23it/s]"
     ]
    },
    {
     "name": "stdout",
     "output_type": "stream",
     "text": [
      "22 1.012844180006087 140339\n",
      "23 0.9564723864158069 91886\n"
     ]
    },
    {
     "name": "stderr",
     "output_type": "stream",
     "text": [
      " 54%|████████████████████████████████████████████▍                                     | 26/48 [00:03<00:03,  7.06it/s]"
     ]
    },
    {
     "name": "stdout",
     "output_type": "stream",
     "text": [
      "24 0.9521051484835202 58599\n",
      "25 0.9919912539135858 83343\n"
     ]
    },
    {
     "name": "stderr",
     "output_type": "stream",
     "text": [
      " 58%|███████████████████████████████████████████████▊                                  | 28/48 [00:03<00:02,  7.40it/s]"
     ]
    },
    {
     "name": "stdout",
     "output_type": "stream",
     "text": [
      "26 1.017017932403652 66658\n",
      "27 0.9721617248587708 97342\n"
     ]
    },
    {
     "name": "stderr",
     "output_type": "stream",
     "text": [
      " 62%|███████████████████████████████████████████████████▎                              | 30/48 [00:04<00:02,  8.00it/s]"
     ]
    },
    {
     "name": "stdout",
     "output_type": "stream",
     "text": [
      "28 0.9588763845511212 74638\n",
      "29 0.9582758975000514 84948\n"
     ]
    },
    {
     "name": "stderr",
     "output_type": "stream",
     "text": [
      "\r",
      " 65%|████████████████████████████████████████████████████▉                             | 31/48 [00:04<00:02,  7.61it/s]"
     ]
    },
    {
     "name": "stdout",
     "output_type": "stream",
     "text": [
      "30 0.9853264207258663 79384\n"
     ]
    },
    {
     "name": "stderr",
     "output_type": "stream",
     "text": [
      " 69%|████████████████████████████████████████████████████████▍                         | 33/48 [00:04<00:02,  6.55it/s]"
     ]
    },
    {
     "name": "stdout",
     "output_type": "stream",
     "text": [
      "31 0.9560856584909363 140169\n",
      "32 0.9782407657169275 78460\n"
     ]
    },
    {
     "name": "stderr",
     "output_type": "stream",
     "text": [
      " 73%|███████████████████████████████████████████████████████████▊                      | 35/48 [00:04<00:01,  7.47it/s]"
     ]
    },
    {
     "name": "stdout",
     "output_type": "stream",
     "text": [
      "33 1.0261921721912648 94949\n",
      "34 0.9636357638263618 79513\n"
     ]
    },
    {
     "name": "stderr",
     "output_type": "stream",
     "text": [
      " 77%|███████████████████████████████████████████████████████████████▏                  | 37/48 [00:05<00:01,  7.32it/s]"
     ]
    },
    {
     "name": "stdout",
     "output_type": "stream",
     "text": [
      "35 0.9586398661436736 62667\n",
      "36 1.0322174639108748 97924\n"
     ]
    },
    {
     "name": "stderr",
     "output_type": "stream",
     "text": [
      " 81%|██████████████████████████████████████████████████████████████████▋               | 39/48 [00:05<00:01,  7.45it/s]"
     ]
    },
    {
     "name": "stdout",
     "output_type": "stream",
     "text": [
      "37 1.0625087776887163 91352\n",
      "38 1.0389853832040474 82427\n"
     ]
    },
    {
     "name": "stderr",
     "output_type": "stream",
     "text": [
      " 85%|██████████████████████████████████████████████████████████████████████            | 41/48 [00:05<00:00,  7.89it/s]"
     ]
    },
    {
     "name": "stdout",
     "output_type": "stream",
     "text": [
      "39 0.9620202258088395 58630\n",
      "40 1.0018461276741562 111464\n"
     ]
    },
    {
     "name": "stderr",
     "output_type": "stream",
     "text": [
      " 90%|█████████████████████████████████████████████████████████████████████████▍        | 43/48 [00:05<00:00,  7.89it/s]"
     ]
    },
    {
     "name": "stdout",
     "output_type": "stream",
     "text": [
      "41 1.0524384683610815 85099\n",
      "42 1.0263541134025136 84112\n"
     ]
    },
    {
     "name": "stderr",
     "output_type": "stream",
     "text": [
      " 94%|████████████████████████████████████████████████████████████████████████████▉     | 45/48 [00:06<00:00,  8.47it/s]"
     ]
    },
    {
     "name": "stdout",
     "output_type": "stream",
     "text": [
      "43 1.0203883910315907 95043\n",
      "44 1.0139002097868706 47788\n"
     ]
    },
    {
     "name": "stderr",
     "output_type": "stream",
     "text": [
      " 98%|████████████████████████████████████████████████████████████████████████████████▎ | 47/48 [00:06<00:00,  7.92it/s]"
     ]
    },
    {
     "name": "stdout",
     "output_type": "stream",
     "text": [
      "45 0.947673596577425 52186\n",
      "46 1.0175895646598478 119704\n"
     ]
    },
    {
     "name": "stderr",
     "output_type": "stream",
     "text": [
      "100%|██████████████████████████████████████████████████████████████████████████████████| 48/48 [00:06<00:00,  7.45it/s]\n"
     ]
    },
    {
     "name": "stdout",
     "output_type": "stream",
     "text": [
      "47 0.9619569630001895 62685\n"
     ]
    },
    {
     "name": "stderr",
     "output_type": "stream",
     "text": [
      "  4%|███▍                                                                               | 2/48 [00:00<00:06,  6.75it/s]"
     ]
    },
    {
     "name": "stdout",
     "output_type": "stream",
     "text": [
      "0 1.0735344261277961 105743\n",
      "1 1.1612388437043955 119220\n"
     ]
    },
    {
     "name": "stderr",
     "output_type": "stream",
     "text": [
      "  8%|██████▉                                                                            | 4/48 [00:00<00:06,  6.53it/s]"
     ]
    },
    {
     "name": "stdout",
     "output_type": "stream",
     "text": [
      "2 1.1597179076894526 127383\n",
      "3 1.0174593941220076 136537\n"
     ]
    },
    {
     "name": "stderr",
     "output_type": "stream",
     "text": [
      " 12%|██████████▍                                                                        | 6/48 [00:00<00:05,  7.06it/s]"
     ]
    },
    {
     "name": "stdout",
     "output_type": "stream",
     "text": [
      "4 0.9924827251760142 153022\n",
      "5 0.9379327883658864 91920\n"
     ]
    },
    {
     "name": "stderr",
     "output_type": "stream",
     "text": [
      " 17%|█████████████▊                                                                     | 8/48 [00:01<00:05,  6.98it/s]"
     ]
    },
    {
     "name": "stdout",
     "output_type": "stream",
     "text": [
      "6 0.9869958845839988 131298\n",
      "7 1.0031950550371591 180022\n"
     ]
    },
    {
     "name": "stderr",
     "output_type": "stream",
     "text": [
      " 21%|█████████████████                                                                 | 10/48 [00:01<00:05,  7.49it/s]"
     ]
    },
    {
     "name": "stdout",
     "output_type": "stream",
     "text": [
      "8 0.9225507054368287 105695\n",
      "9 0.9593935083523599 120995\n"
     ]
    },
    {
     "name": "stderr",
     "output_type": "stream",
     "text": [
      " 25%|████████████████████▌                                                             | 12/48 [00:01<00:04,  7.86it/s]"
     ]
    },
    {
     "name": "stdout",
     "output_type": "stream",
     "text": [
      "10 0.9279623933915375 115710\n",
      "11 0.9330269580704613 115831\n"
     ]
    },
    {
     "name": "stderr",
     "output_type": "stream",
     "text": [
      " 29%|███████████████████████▉                                                          | 14/48 [00:01<00:04,  7.75it/s]"
     ]
    },
    {
     "name": "stdout",
     "output_type": "stream",
     "text": [
      "12 0.9743820703926829 125372\n",
      "13 0.9409013777346191 134373\n"
     ]
    },
    {
     "name": "stderr",
     "output_type": "stream",
     "text": [
      " 33%|███████████████████████████▎                                                      | 16/48 [00:02<00:04,  7.76it/s]"
     ]
    },
    {
     "name": "stdout",
     "output_type": "stream",
     "text": [
      "14 0.9583146034598296 137166\n",
      "15 0.9880984022022441 124061\n"
     ]
    },
    {
     "name": "stderr",
     "output_type": "stream",
     "text": [
      " 38%|██████████████████████████████▊                                                   | 18/48 [00:02<00:03,  7.79it/s]"
     ]
    },
    {
     "name": "stdout",
     "output_type": "stream",
     "text": [
      "16 0.9672519518816757 156415\n",
      "17 1.0092646811037285 127725\n"
     ]
    },
    {
     "name": "stderr",
     "output_type": "stream",
     "text": [
      " 42%|██████████████████████████████████▏                                               | 20/48 [00:02<00:03,  7.36it/s]"
     ]
    },
    {
     "name": "stdout",
     "output_type": "stream",
     "text": [
      "18 0.9790943685137408 135359\n",
      "19 0.9747997657421947 123569\n"
     ]
    },
    {
     "name": "stderr",
     "output_type": "stream",
     "text": [
      " 46%|█████████████████████████████████████▌                                            | 22/48 [00:03<00:03,  6.91it/s]"
     ]
    },
    {
     "name": "stdout",
     "output_type": "stream",
     "text": [
      "20 1.034641671896533 112626\n",
      "21 0.9962776515038618 128585\n"
     ]
    },
    {
     "name": "stderr",
     "output_type": "stream",
     "text": [
      " 50%|█████████████████████████████████████████                                         | 24/48 [00:03<00:03,  6.69it/s]"
     ]
    },
    {
     "name": "stdout",
     "output_type": "stream",
     "text": [
      "22 1.012844180006087 140339\n",
      "23 0.9564723864158069 91886\n"
     ]
    },
    {
     "name": "stderr",
     "output_type": "stream",
     "text": [
      " 54%|████████████████████████████████████████████▍                                     | 26/48 [00:03<00:02,  7.58it/s]"
     ]
    },
    {
     "name": "stdout",
     "output_type": "stream",
     "text": [
      "24 0.9521051484835202 58599\n",
      "25 0.9919912539135858 83343\n"
     ]
    },
    {
     "name": "stderr",
     "output_type": "stream",
     "text": [
      " 58%|███████████████████████████████████████████████▊                                  | 28/48 [00:03<00:02,  7.53it/s]"
     ]
    },
    {
     "name": "stdout",
     "output_type": "stream",
     "text": [
      "26 1.017017932403652 66658\n",
      "27 0.9721617248587708 97342\n"
     ]
    },
    {
     "name": "stderr",
     "output_type": "stream",
     "text": [
      " 62%|███████████████████████████████████████████████████▎                              | 30/48 [00:04<00:02,  7.19it/s]"
     ]
    },
    {
     "name": "stdout",
     "output_type": "stream",
     "text": [
      "28 0.9588763845511212 74638\n",
      "29 0.9582758975000514 84948\n"
     ]
    },
    {
     "name": "stderr",
     "output_type": "stream",
     "text": [
      " 67%|██████████████████████████████████████████████████████▋                           | 32/48 [00:04<00:02,  7.05it/s]"
     ]
    },
    {
     "name": "stdout",
     "output_type": "stream",
     "text": [
      "30 0.9853264207258663 79384\n",
      "31 0.9560856584909363 140169\n"
     ]
    },
    {
     "name": "stderr",
     "output_type": "stream",
     "text": [
      " 71%|██████████████████████████████████████████████████████████                        | 34/48 [00:04<00:01,  7.45it/s]"
     ]
    },
    {
     "name": "stdout",
     "output_type": "stream",
     "text": [
      "32 0.9782407657169275 78460\n",
      "33 1.0261921721912648 94949\n"
     ]
    },
    {
     "name": "stderr",
     "output_type": "stream",
     "text": [
      " 75%|█████████████████████████████████████████████████████████████▌                    | 36/48 [00:04<00:01,  6.91it/s]"
     ]
    },
    {
     "name": "stdout",
     "output_type": "stream",
     "text": [
      "34 0.9636357638263618 79513\n",
      "35 0.9586398661436736 62667\n"
     ]
    },
    {
     "name": "stderr",
     "output_type": "stream",
     "text": [
      " 79%|████████████████████████████████████████████████████████████████▉                 | 38/48 [00:05<00:01,  7.16it/s]"
     ]
    },
    {
     "name": "stdout",
     "output_type": "stream",
     "text": [
      "36 1.0322174639108748 97924\n",
      "37 1.0625087776887163 91352\n"
     ]
    },
    {
     "name": "stderr",
     "output_type": "stream",
     "text": [
      "\r",
      " 81%|██████████████████████████████████████████████████████████████████▋               | 39/48 [00:05<00:01,  7.31it/s]"
     ]
    },
    {
     "name": "stdout",
     "output_type": "stream",
     "text": [
      "38 1.0389853832040474 82427\n",
      "39 0.9620202258088395 58630\n"
     ]
    },
    {
     "name": "stderr",
     "output_type": "stream",
     "text": [
      " 88%|███████████████████████████████████████████████████████████████████████▊          | 42/48 [00:05<00:00,  7.36it/s]"
     ]
    },
    {
     "name": "stdout",
     "output_type": "stream",
     "text": [
      "40 1.0018461276741562 111464\n",
      "41 1.0524384683610815 85099\n"
     ]
    },
    {
     "name": "stderr",
     "output_type": "stream",
     "text": [
      " 92%|███████████████████████████████████████████████████████████████████████████▏      | 44/48 [00:06<00:00,  6.87it/s]"
     ]
    },
    {
     "name": "stdout",
     "output_type": "stream",
     "text": [
      "42 1.0263541134025136 84112\n",
      "43 1.0203883910315907 95043\n"
     ]
    },
    {
     "name": "stderr",
     "output_type": "stream",
     "text": [
      " 96%|██████████████████████████████████████████████████████████████████████████████▌   | 46/48 [00:06<00:00,  7.94it/s]"
     ]
    },
    {
     "name": "stdout",
     "output_type": "stream",
     "text": [
      "44 1.0139002097868706 47788\n",
      "45 0.947673596577425 52186\n"
     ]
    },
    {
     "name": "stderr",
     "output_type": "stream",
     "text": [
      "100%|██████████████████████████████████████████████████████████████████████████████████| 48/48 [00:06<00:00,  7.31it/s]"
     ]
    },
    {
     "name": "stdout",
     "output_type": "stream",
     "text": [
      "46 1.0175895646598478 119704\n",
      "47 0.9619569630001895 62685\n"
     ]
    },
    {
     "name": "stderr",
     "output_type": "stream",
     "text": [
      "\n"
     ]
    }
   ],
   "source": [
    "apply_brightness_correction(dec)"
   ]
  },
  {
   "cell_type": "code",
   "execution_count": null,
   "id": "92e1007e",
   "metadata": {},
   "outputs": [],
   "source": []
  },
  {
   "cell_type": "code",
   "execution_count": null,
   "id": "d96caa0f",
   "metadata": {},
   "outputs": [],
   "source": []
  },
  {
   "cell_type": "code",
   "execution_count": 10,
   "id": "010c44f3",
   "metadata": {},
   "outputs": [
    {
     "data": {
      "text/plain": [
       "Viewer(axes=Axes(visible=False, labels=True, colored=True, dashed=False, arrows=True), camera=Camera(center=(0.0, 374.5, 374.5), zoom=0.7030000000000001, angles=(0.0, 0.0, 90.0), perspective=0.0, interactive=True), cursor=Cursor(position=(4.0, 1.0, 0.0), scaled=True, size=10, style=<CursorStyle.STANDARD: 'standard'>), dims=Dims(ndim=3, ndisplay=2, last_used=0, range=((0.0, 8.0, 1.0), (0.0, 750.0, 1.0), (0.0, 750.0, 1.0)), current_step=(4, 375, 375), order=(0, 1, 2), axis_labels=('0', '1', '2')), grid=GridCanvas(stride=1, shape=(-1, -1), enabled=False), layers=[<Labels layer 'im_segm_' at 0x1746046af40>], scale_bar=ScaleBar(visible=False, colored=False, color=array([1., 0., 1., 1.], dtype=float32), ticks=True, position=<Position.BOTTOM_RIGHT: 'bottom_right'>, font_size=10.0, box=False, box_color=array([0. , 0. , 0. , 0.6], dtype=float32), unit=None), text_overlay=TextOverlay(visible=False, color=array([0.5, 0.5, 0.5, 1. ], dtype=float32), font_size=10.0, position=<TextOverlayPosition.TOP_LEFT: 'top_left'>, text=''), overlays=Overlays(interaction_box=InteractionBox(points=None, show=False, show_handle=False, show_vertices=False, selection_box_drag=None, selection_box_final=None, transform_start=<napari.utils.transforms.transforms.Affine object at 0x000001745FBD1160>, transform_drag=<napari.utils.transforms.transforms.Affine object at 0x000001745FBD11C0>, transform_final=<napari.utils.transforms.transforms.Affine object at 0x000001745FBD1220>, transform=<napari.utils.transforms.transforms.Affine object at 0x000001745FBD1280>, allow_new_selection=True, selected_vertex=None)), help='use <1> for activate the label eraser, use <2> for activate the paint brush, use <3> for activate the fill bucket, use <4> for pick mode', status='Ready', tooltip=Tooltip(visible=False, text=''), theme='dark', title='napari', mouse_over_canvas=False, mouse_move_callbacks=[<function InteractionBoxMouseBindings.initialize_mouse_events.<locals>.mouse_move at 0x000001746043D790>], mouse_drag_callbacks=[<function InteractionBoxMouseBindings.initialize_mouse_events.<locals>.mouse_drag at 0x000001746043D5E0>], mouse_double_click_callbacks=[], mouse_wheel_callbacks=[<function dims_scroll at 0x00000174555395E0>], _persisted_mouse_event={}, _mouse_drag_gen={}, _mouse_wheel_gen={}, keymap={'Shift': <function InteractionBoxMouseBindings.initialize_key_events.<locals>.hold_to_lock_aspect_ratio at 0x000001746043D4C0>, 'Control-Shift-R': <function InteractionBoxMouseBindings._reset_active_layer_affine at 0x000001746043D160>, 'Control-Shift-A': <function InteractionBoxMouseBindings._transform_active_layer at 0x000001746043D550>})"
      ]
     },
     "execution_count": 10,
     "metadata": {},
     "output_type": "execute_result"
    }
   ],
   "source": [
    "import napari\n",
    "napari.view_labels(im_segm_)\n"
   ]
  },
  {
   "cell_type": "code",
   "execution_count": 15,
   "id": "e0cab0da",
   "metadata": {},
   "outputs": [],
   "source": [
    "#np.sort([fov for fov,set_ in dec.fov_sets if set_=='_set2'])"
   ]
  },
  {
   "cell_type": "code",
   "execution_count": 25,
   "id": "6b878f67",
   "metadata": {},
   "outputs": [
    {
     "data": {
      "text/plain": [
       "[]"
      ]
     },
     "execution_count": 25,
     "metadata": {},
     "output_type": "execute_result"
    }
   ],
   "source": [
    "glob.glob(dec.save_folder+os.sep+'*Seg*')"
   ]
  },
  {
   "cell_type": "code",
   "execution_count": null,
   "id": "576ec1ae",
   "metadata": {},
   "outputs": [],
   "source": []
  }
 ],
 "metadata": {
  "kernelspec": {
   "display_name": "Python 3 (ipykernel)",
   "language": "python",
   "name": "python3"
  },
  "language_info": {
   "codemirror_mode": {
    "name": "ipython",
    "version": 3
   },
   "file_extension": ".py",
   "mimetype": "text/x-python",
   "name": "python",
   "nbconvert_exporter": "python",
   "pygments_lexer": "ipython3",
   "version": "3.8.16"
  }
 },
 "nbformat": 4,
 "nbformat_minor": 5
}
