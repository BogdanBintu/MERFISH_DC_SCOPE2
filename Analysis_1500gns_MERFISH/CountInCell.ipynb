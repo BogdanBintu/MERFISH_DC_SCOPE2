{
 "cells": [
  {
   "cell_type": "markdown",
   "id": "51e3ff6a",
   "metadata": {},
   "source": [
    "### Determine thresholds"
   ]
  },
  {
   "cell_type": "code",
   "execution_count": 1,
   "id": "a81f2276",
   "metadata": {},
   "outputs": [],
   "source": [
    "from ioMicro import *"
   ]
  },
  {
   "cell_type": "code",
   "execution_count": 3,
   "id": "486f608f",
   "metadata": {},
   "outputs": [],
   "source": [
    "dec = decoder_simple(r\"Y:\\DCBBL1_3_15_2023__GFP\\MERFISH_Analysis\")"
   ]
  },
  {
   "cell_type": "code",
   "execution_count": 4,
   "id": "2dfb04a9",
   "metadata": {},
   "outputs": [],
   "source": [
    "dec.get_fovs_sets()"
   ]
  },
  {
   "cell_type": "code",
   "execution_count": 5,
   "id": "6f75ad89",
   "metadata": {},
   "outputs": [
    {
     "data": {
      "text/plain": [
       "115"
      ]
     },
     "execution_count": 5,
     "metadata": {},
     "output_type": "execute_result"
    }
   ],
   "source": [
    "len(dec.fov_sets)"
   ]
  },
  {
   "cell_type": "code",
   "execution_count": null,
   "id": "72b8713a",
   "metadata": {},
   "outputs": [],
   "source": []
  }
 ],
 "metadata": {
  "kernelspec": {
   "display_name": "Python 3 (ipykernel)",
   "language": "python",
   "name": "python3"
  },
  "language_info": {
   "codemirror_mode": {
    "name": "ipython",
    "version": 3
   },
   "file_extension": ".py",
   "mimetype": "text/x-python",
   "name": "python",
   "nbconvert_exporter": "python",
   "pygments_lexer": "ipython3",
   "version": "3.8.16"
  }
 },
 "nbformat": 4,
 "nbformat_minor": 5
}
