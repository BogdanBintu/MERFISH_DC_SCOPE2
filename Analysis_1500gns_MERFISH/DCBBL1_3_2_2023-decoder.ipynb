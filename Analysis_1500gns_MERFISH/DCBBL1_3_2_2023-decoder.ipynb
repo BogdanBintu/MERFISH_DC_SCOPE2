{
 "cells": [
  {
   "cell_type": "code",
   "execution_count": 1,
   "id": "f26f3665",
   "metadata": {},
   "outputs": [],
   "source": [
    "import numpy as np,os,sys,glob\n",
    "import matplotlib.pylab as plt\n",
    "from ioMicro import *\n",
    "def add_points(Xh,viewer,col='y',szM = 3):\n",
    "\n",
    "    h = Xh[:,-1]\n",
    "    hM = np.percentile(h,99.9)\n",
    "    X = Xh[:,:3]\n",
    "    size= 1+np.clip(h/hM,0,1)*szM\n",
    "    text = {\n",
    "        'string': len(X)*[str(iH)],\n",
    "        'size': 10,\n",
    "        'color': col,\n",
    "    }\n",
    "    viewer.add_points(\n",
    "        X,\n",
    "        size=size,\n",
    "        face_color='transparent',\n",
    "        text=None,\n",
    "        name=\"\",\n",
    "        edge_color=col,out_of_slice_display=True\n",
    "    )\n",
    "def get_iH(fld): return int(os.path.basename(fld).split('_')[0][1:])\n",
    "def get_Xh(all_flds,fov,drifts,save_folder,icol = 0,iH = 1):\n",
    "    fld = all_flds[iH]\n",
    "    tag = os.path.basename(fld)\n",
    "    save_fl = save_folder+os.sep+fov.split('.')[0]+'--'+tag+'--col'+str(icol)+'__Xhfits.npy.npz'\n",
    "    Xh = np.load(save_fl)['Xh']\n",
    "    tzxy = drifts[iH][0]\n",
    "    Xh[:,:3]+=tzxy\n",
    "    return Xh"
   ]
  },
  {
   "cell_type": "code",
   "execution_count": 2,
   "id": "8dc29c4f",
   "metadata": {},
   "outputs": [],
   "source": [
    "dec = decoder(analysis_folder = r'\\\\192.168.0.3\\bbfishdc10\\DCBBL1_3_2_2023\\MERFISH_Analysis')"
   ]
  },
  {
   "cell_type": "code",
   "execution_count": 7,
   "id": "ac73de2c",
   "metadata": {},
   "outputs": [],
   "source": [
    "fov = 'Conv_zscan__014'\n",
    "drift_fl = dec.analysis_folder+os.sep+'drift_'+fov.split('.')[0]+'.pkl'\n",
    "drifts,all_flds,fov = pickle.load(open(drift_fl,'rb'))"
   ]
  },
  {
   "cell_type": "code",
   "execution_count": null,
   "id": "a2b020fd",
   "metadata": {},
   "outputs": [],
   "source": [
    "save_folder = \n",
    "def get_Xh(all_flds,fov,drifts,save_folder,icol = 0,iH = 1):\n",
    "    fld = all_flds[iH]\n",
    "    tag = os.path.basename(fld)\n",
    "    save_fl = save_folder+os.sep+fov.split('.')[0]+'--'+tag+'--col'+str(icol)+'__Xhfits.npy.npz'\n",
    "    Xh = np.load(save_fl)['Xh']\n",
    "    tzxy = drifts[iH][0]\n",
    "    Xh[:,:3]+=tzxy\n",
    "    return Xh"
   ]
  },
  {
   "cell_type": "code",
   "execution_count": 153,
   "id": "22a4b078",
   "metadata": {},
   "outputs": [],
   "source": [
    "from ioMicro import *\n",
    "def get_iH(fld): return int(os.path.basename(fld).split('_')[0][1:])\n",
    "class decoder_simple():\n",
    "    def __init__(self,save_folder,fov='Conv_zscan__001',set_='_set1'):\n",
    "        self.save_folder = save_folder\n",
    "        self.fov,self.set_ = fov,set_\n",
    "        save_folder = self.save_folder\n",
    "        self.decoded_fl = save_folder+os.sep+'decoded_'+fov.split('.')[0]+'--'+set_+'.npz'\n",
    "        self.drift_fl = save_folder+os.sep+'drift_'+fov.split('.')[0]+'--'+set_+'.pkl'\n",
    "    def check_is_complete(self):\n",
    "        if os.path.exists(self.decoded_fl):\n",
    "            print(\"Completed\")\n",
    "            return 1\n",
    "        if not os.path.exists(self.drift_fl):\n",
    "            print(\"Did not detect fit files\")\n",
    "            return -1\n",
    "        print(\"Not completed\")\n",
    "        return 0\n",
    "        \n",
    "    def get_fovs_sets(self):\n",
    "        self.drift_fls = glob.glob(self.save_folder+os.sep+'drift_*.pkl')\n",
    "        self.fov_sets = [os.path.basename(fl).replace('drift_','').replace('.pkl','').split('--')\n",
    "                         for fl in self.drift_fls]\n",
    "    def get_XH(self,fov,set_,ncols=3):\n",
    "        self.set_ = set_\n",
    "        save_folder = self.save_folder\n",
    "        drift_fl = save_folder+os.sep+'drift_'+fov.split('.')[0]+'--'+set_+'.pkl'\n",
    "        drifts,all_flds,fov = pickle.load(open(drift_fl,'rb'))\n",
    "        self.drifts,self.all_flds,self.fov = drifts,all_flds,fov\n",
    "\n",
    "        XH = []\n",
    "        for iH in tqdm(np.arange(len(all_flds))):\n",
    "            fld = all_flds[iH]\n",
    "            if 'MER' in os.path.basename(fld):\n",
    "                for icol in range(ncols):\n",
    "                    tag = os.path.basename(fld)\n",
    "                    save_fl = save_folder+os.sep+fov.split('.')[0]+'--'+tag+'--col'+str(icol)+'__Xhfits.npy.npz'\n",
    "                    if not os.path.exists(save_fl):save_fl = save_fl.replace('.npy','')\n",
    "                    Xh = np.load(save_fl)['Xh']\n",
    "                    tzxy = drifts[iH][0]\n",
    "                    Xh[:,:3]+=tzxy# drift correction\n",
    "                    ih = get_iH(fld) # get bit\n",
    "                    bit = (ih-1)*3+icol\n",
    "                    icolR = np.array([[icol,bit]]*len(Xh))\n",
    "                    XH_ = np.concatenate([Xh,icolR],axis=-1)\n",
    "                    XH.extend(XH_)\n",
    "        self.XH = np.array(XH)\n",
    "    def get_inters(self,dinstance_th=2,enforce_color=False):\n",
    "        \"\"\"Get an initial intersection of points and save in self.res\"\"\"\n",
    "        res =[]\n",
    "        if enforce_color:\n",
    "            icols = self.XH[:,-2]\n",
    "            XH = self.XH\n",
    "            for icol in tqdm(np.unique(icols)):\n",
    "                inds = np.where(icols==icol)[0]\n",
    "                Xs = XH[inds,:3]\n",
    "                Ts = cKDTree(Xs)\n",
    "                res_ = Ts.query_ball_tree(Ts,dinstance_th)\n",
    "                res += [inds[r] for r in res_]\n",
    "        else:\n",
    "            XH = self.XH\n",
    "            Xs = XH[:,:3]\n",
    "            Ts = cKDTree(Xs)\n",
    "            res = Ts.query_ball_tree(Ts,dinstance_th)\n",
    "        self.res = res\n",
    "        \n",
    "    def load_library(self,lib_fl = r'Z:\\DCBBL1_3_2_2023\\MERFISH_Analysis\\codebook_0_New_DCBB-300_MERFISH_encoding_2_21_2023.csv',nblanks=-1):\n",
    "        code_txt = np.array([ln.replace('\\n','').split(',') for ln in open(lib_fl,'r') if ',' in ln])\n",
    "        gns = code_txt[1:,0]\n",
    "        code_01 = code_txt[1:,2:].astype(int)\n",
    "        codes = np.array([np.where(cd)[0] for cd in code_01])\n",
    "        codes_ = [list(np.sort(cd)) for cd in codes]\n",
    "        nbits = np.max(codes)+1\n",
    "\n",
    "        codes__ = codes_\n",
    "        gns__ = list(gns)\n",
    "        if nblanks>=0:\n",
    "            ### get extrablanks\n",
    "            from itertools import combinations\n",
    "            X_codes = np.array((list(combinations(range(nbits),4))))\n",
    "            X_code_01 = []\n",
    "            for cd in X_codes:\n",
    "                l_ = np.zeros(nbits)\n",
    "                l_[cd] = 1\n",
    "                X_code_01.append(l_)\n",
    "            X_code_01 = np.array(X_code_01,dtype=int)\n",
    "            from scipy.spatial.distance import cdist\n",
    "            eblanks = np.where(np.min(cdist(code_01,X_code_01,metric='hamming'),0)>=4/float(nbits))[0]\n",
    "            codes__ = codes_ + [list(e)for e in X_codes[eblanks]]\n",
    "            gns__ = list(gns)+ ['blanke'+str(ign+1).zfill(4) for ign in range(len(eblanks))]\n",
    "        \n",
    "        bad_gns = np.array(['blank' in e for e in gns__])\n",
    "        good_gns = np.where(~bad_gns)[0]\n",
    "        bad_gns = np.where(bad_gns)[0]\n",
    "\n",
    "        \n",
    "        \n",
    "        self.lib_fl = lib_fl ### name of coding library\n",
    "        self.nbits = nbits ### number of bits\n",
    "        self.gns_names = gns__  ### names of genes and blank codes\n",
    "        self.bad_gns = bad_gns ### indices of the blank codes\n",
    "        self.good_gns = good_gns ### indices of the good gene codes\n",
    "        self.codes__ = codes__ ### final extended codes of form [bit1,bit2,bit3,bit4]\n",
    "        self.codes_01 = code_01\n",
    "        if nblanks>=0:\n",
    "            self.codes_01 = np.concatenate([code_01,X_code_01[eblanks]],axis=0) ### final extended codes of form [0,1,0,0,1...]\n",
    "        \n",
    "        dic_bit_to_code = {}\n",
    "        for icd,cd in enumerate(self.codes__): \n",
    "            for bit in cd:\n",
    "                if bit not in dic_bit_to_code: dic_bit_to_code[bit]=[]\n",
    "                dic_bit_to_code[bit].append(icd)\n",
    "        self.dic_bit_to_code = dic_bit_to_code  ### a dictinary in which each bit is mapped to the inde of a code\n",
    "    def get_icodes(self,nmin_bits=4,method = 'top4',redo=False):    \n",
    "        #### unfold res which is a list of list with clusters of loc.\n",
    "        \n",
    "        \n",
    "        res = self.res\n",
    "\n",
    "        import time\n",
    "        start = time.time()\n",
    "        res = [r for r in res if len(r)>=nmin_bits]\n",
    "        #rlens = [len(r) for r in res]\n",
    "        #edges = np.cumsum([0]+rlens)\n",
    "        res_unfolder = np.array([r_ for r in res for r_ in r])\n",
    "        #res0 = np.array([r[0] for r in res for r_ in r])\n",
    "        ires = np.array([ir for ir,r in enumerate(res) for r_ in r])\n",
    "        print(\"Unfolded molecules:\",time.time()-start)\n",
    "\n",
    "        ### get scores across bits\n",
    "        import time\n",
    "        start = time.time()\n",
    "        RS = self.XH[:,-1].astype(int)\n",
    "        scores = self.XH[:,-3][res_unfolder]\n",
    "        bits_unfold = RS[res_unfolder]\n",
    "        nbits = len(np.unique(RS))\n",
    "        scores_bits = np.zeros([len(res),nbits])\n",
    "        arg_scores = np.argsort(scores)\n",
    "        scores_bits[ires[arg_scores],bits_unfold[arg_scores]]=scores[arg_scores]\n",
    "\n",
    "        import time\n",
    "        start = time.time()\n",
    "        ### There are multiple avenues here: \n",
    "        #### nearest neighbors - slowest\n",
    "        #### best dot product - reasonable and can return missing elements - medium speed\n",
    "        #### find top 4 bits and call that a code - simplest and fastest\n",
    "\n",
    "\n",
    "        if method == 'top4':\n",
    "            codes = self.codes__\n",
    "            vals = np.argsort(scores_bits,axis=-1)\n",
    "            bcodes = np.sort(vals[:,-4:],axis=-1)\n",
    "            base = [nbits**3,nbits**2,nbits**1,nbits**0]\n",
    "            bcodes_b = np.sum(bcodes*base,axis=1)\n",
    "            codes_b = np.sum(np.sort(codes,axis=-1)*base,axis=1)\n",
    "            icodesN = np.zeros(len(bcodes_b),dtype=int)-1\n",
    "            for icd,cd in enumerate(codes_b):\n",
    "                icodesN[bcodes_b==cd]=icd\n",
    "            bad = np.sum(scores_bits>0,axis=-1)<4\n",
    "            icodesN[bad]=-1\n",
    "            igood = np.where(icodesN>-1)[0]\n",
    "            inds_spotsN =  np.zeros([len(res),nbits],dtype=int)-1\n",
    "            inds_spotsN[ires[arg_scores],bits_unfold[arg_scores]]=res_unfolder[arg_scores]\n",
    "            res_prunedN = np.array([inds_spotsN[imol][codes[icd]] for imol,icd in enumerate(icodesN) if icd>-1])\n",
    "            scores_prunedN = np.array([scores_bits[imol][codes[icd]] for imol,icd in enumerate(icodesN) if icd>-1])\n",
    "            icodesN = icodesN[igood]\n",
    "        elif method == 'dot':\n",
    "            icodesN = np.argmax(np.dot(scores_bits[:],self.codes_01.T),axis=-1)\n",
    "            inds_spotsN =  np.zeros([len(res),nbits],dtype=int)-1\n",
    "            inds_spotsN[ires[arg_scores],bits_unfold[arg_scores]]=res_unfolder[arg_scores]\n",
    "            res_prunedN = np.array([inds_spotsN[imol][codes[icd]] for imol,icd in enumerate(icodesN) if icd>-1])\n",
    "            scores_prunedN = np.array([scores_bits[imol][codes[icd]] for imol,icd in enumerate(icodesN) if icd>-1])\n",
    "\n",
    "        print(\"Computed the decoding:\",time.time()-start)\n",
    "\n",
    "        import time\n",
    "        start = time.time()\n",
    "\n",
    "        mean_scores = np.mean(scores_prunedN,axis=-1)\n",
    "        ordered_mols = np.argsort(mean_scores)[::-1]\n",
    "        keep_mols = []\n",
    "        visited = np.zeros(len(self.XH))\n",
    "        for imol in tqdm(ordered_mols):\n",
    "            r = np.array(res_prunedN[imol])\n",
    "            r_ = r[r>=0]\n",
    "            if np.all(visited[r_]==0):\n",
    "                keep_mols.append(imol)\n",
    "                visited[r_]=1\n",
    "        keep_mols = np.array(keep_mols)\n",
    "        self.scores_prunedN = scores_prunedN[keep_mols]\n",
    "        self.res_prunedN = res_prunedN[keep_mols]\n",
    "        self.icodesN = icodesN[keep_mols]\n",
    "        print(\"Computed best unique assigment:\",time.time()-start)\n",
    "        \n",
    "        XH_pruned = self.XH[self.res_prunedN]\n",
    "        np.savez_compressed(self.decoded_fl,XH_pruned=XH_pruned,icodesN=dec.icodesN,gns_names = np.array(self.gns_names))\n",
    "    def load_decoded(self):\n",
    "        import time\n",
    "        start= time.time()\n",
    "        self.XH_pruned = np.load(self.decoded_fl)['XH_pruned']\n",
    "        self.icodesN = np.load(self.decoded_fl)['icodesN']\n",
    "        self.gns_names = np.load(self.decoded_fl)['gns_names']\n",
    "        print(\"Loaded decoded:\",start-time.time())\n",
    "    def get_is_bright(self,th_dic = {0:1500,1:1500,2:750},get_stats=True):\n",
    "        self.th_dic = th_dic\n",
    "        gns_names,icodesN,XH_pruned = self.gns_names,self.icodesN,self.XH_pruned\n",
    "        th_arr = np.array([th_dic[e]for e in np.sort(list(th_dic.keys()))])\n",
    "        good_codes = np.where(~np.array(['blank' in gn_nm for gn_nm in gns_names]))[0]\n",
    "        is_blank = ~np.in1d(icodesN,good_codes)\n",
    "        Rs = XH_pruned[:,:,-2].astype(int)\n",
    "        scores_prunedN = XH_pruned[:,:,-3]\n",
    "        is_bright= np.all(dec.scores_prunedN>th_arr[Rs],axis=-1)\n",
    "        self.is_bright = is_bright\n",
    "        fr_blank = np.sum(is_bright[is_blank])/np.sum(is_bright)\n",
    "        if get_stats:\n",
    "            print(\"Fraction error:\",fr_blank)\n",
    "            icodesN_ = icodesN[is_bright]\n",
    "            icds,ncts = np.unique(icodesN_,return_counts=True)\n",
    "            keep_good = np.in1d(icds,good_codes)\n",
    "\n",
    "            plt.figure()\n",
    "            plt.plot(ncts,'-')\n",
    "            plt.plot(ncts[~keep_good],'-')\n",
    "\n",
    "    def plot_points(self,genes=['Olig2','Gfap'],cols=['r','g'],viewer = None):\n",
    "        icodesN,XH_pruned = self.icodesN,self.XH_pruned\n",
    "        is_bright = self.is_bright\n",
    "        gns_names = list(self.gns_names)\n",
    "        icodesf = icodesN[is_bright]\n",
    "        Xcms = np.mean(XH_pruned[is_bright],axis=1)\n",
    "        H = Xcms[:,-3]\n",
    "        X = Xcms[:,:3]\n",
    "        size = 1+np.clip(H/np.percentile(H,95),0,1)*20\n",
    "\n",
    "        if viewer is None:\n",
    "            import napari\n",
    "            viewer = napari.Viewer()\n",
    "        for ign in range(len(genes)):\n",
    "            if cols is not None:\n",
    "                color = cols[ign%len(cols)]\n",
    "            else:\n",
    "                color='white'\n",
    "            gene = genes[ign]\n",
    "            icode = gns_names.index(gene)\n",
    "            is_code = icode==icodesf\n",
    "            viewer.add_points(X[is_code],size=size[is_code],face_color=color,name=gene)\n",
    "        return viewer"
   ]
  },
  {
   "cell_type": "code",
   "execution_count": 142,
   "id": "266d4b5d",
   "metadata": {},
   "outputs": [
    {
     "data": {
      "text/plain": [
       "270"
      ]
     },
     "execution_count": 142,
     "metadata": {},
     "output_type": "execute_result"
    }
   ],
   "source": [
    "dec2 = decoder_simple(r'Y:\\DCBBL1_3_2_2023\\MERFISH_Analysis','','')\n",
    "dec2.get_fovs_sets()\n",
    "len(dec2.fov_sets)"
   ]
  },
  {
   "cell_type": "code",
   "execution_count": 104,
   "id": "1276c5dd",
   "metadata": {},
   "outputs": [],
   "source": [
    "#dec.fov_sets"
   ]
  },
  {
   "cell_type": "code",
   "execution_count": 152,
   "id": "e8f54a7c",
   "metadata": {},
   "outputs": [
    {
     "name": "stdout",
     "output_type": "stream",
     "text": [
      "Found analysis files: 270\n",
      "Conv_zscan__339 _set1\n",
      "Not completed\n"
     ]
    },
    {
     "name": "stderr",
     "output_type": "stream",
     "text": [
      "100%|██████████████████████████████████████████████████████████████████████████████████| 16/16 [01:39<00:00,  6.24s/it]\n",
      "100%|████████████████████████████████████████████████████████████████████████████████████| 3/3 [02:57<00:00, 59.16s/it]\n"
     ]
    },
    {
     "name": "stdout",
     "output_type": "stream",
     "text": [
      "Unfolded molecules: 41.373528242111206\n",
      "Computed the decoding: 44.27942514419556\n"
     ]
    },
    {
     "name": "stderr",
     "output_type": "stream",
     "text": [
      "100%|█████████████████████████████████████████████████████████████████████| 3799290/3799290 [00:43<00:00, 87840.33it/s]\n"
     ]
    },
    {
     "name": "stdout",
     "output_type": "stream",
     "text": [
      "Computed best unique assigment: 44.07386517524719\n"
     ]
    }
   ],
   "source": [
    "dec = decoder_simple(r'Y:\\DCBBL1_3_2_2023\\MERFISH_Analysis','','')\n",
    "dec.get_fovs_sets()\n",
    "print(\"Found analysis files:\",len(dec.fov_sets))\n",
    "fov,set_ = dec.fov_sets[31] \n",
    "print(fov,set_)\n",
    "#fov,set_ = ['Conv_zscan__117', '_set1']\n",
    "dec = decoder_simple(r'Y:\\DCBBL1_3_2_2023\\MERFISH_Analysis',fov,set_)\n",
    "complete = dec.check_is_complete()\n",
    "if complete==0:\n",
    "    dec.get_XH(fov,set_,ncols=3)\n",
    "    dec.XH = dec.XH[dec.XH[:,-4]>0.25]\n",
    "    dec.load_library(lib_fl = r'Z:\\DCBBL1_3_2_2023\\MERFISH_Analysis\\codebook_0_New_DCBB-300_MERFISH_encoding_2_21_2023.csv',nblanks=-1)\n",
    "    dec.get_inters(dinstance_th=2,enforce_color=True)\n",
    "    dec.get_icodes(nmin_bits=4,method = 'top4')"
   ]
  },
  {
   "cell_type": "code",
   "execution_count": 148,
   "id": "0a01f547",
   "metadata": {},
   "outputs": [
    {
     "data": {
      "text/plain": [
       "7.804101240634918"
      ]
     },
     "execution_count": 148,
     "metadata": {},
     "output_type": "execute_result"
    }
   ],
   "source": [
    "np.median(np.diff(np.sort(times)))/60."
   ]
  },
  {
   "cell_type": "code",
   "execution_count": 150,
   "id": "8cb8fcb9",
   "metadata": {},
   "outputs": [
    {
     "data": {
      "text/plain": [
       "144.0"
      ]
     },
     "execution_count": 150,
     "metadata": {},
     "output_type": "execute_result"
    }
   ],
   "source": [
    "24*60/10"
   ]
  },
  {
   "cell_type": "code",
   "execution_count": 154,
   "id": "80a3f359",
   "metadata": {},
   "outputs": [
    {
     "name": "stdout",
     "output_type": "stream",
     "text": [
      "Loaded decoded: -4.389737844467163\n"
     ]
    }
   ],
   "source": [
    "load_decoded(dec)"
   ]
  },
  {
   "cell_type": "code",
   "execution_count": 143,
   "id": "3d66b09c",
   "metadata": {},
   "outputs": [
    {
     "data": {
      "text/plain": [
       "[<matplotlib.lines.Line2D at 0x21b8fdc70d0>]"
      ]
     },
     "execution_count": 143,
     "metadata": {},
     "output_type": "execute_result"
    },
    {
     "data": {
      "image/png": "[encoded data removed]",
      "text/plain": [
       "<Figure size 640x480 with 1 Axes>"
      ]
     },
     "metadata": {},
     "output_type": "display_data"
    }
   ],
   "source": [
    "fls = glob.glob(dec.save_folder+os.sep+'*.pkl')\n",
    "times = [os.path.getctime(fl) for fl in fls]\n",
    "plt.plot(np.sort(times))"
   ]
  },
  {
   "cell_type": "code",
   "execution_count": 165,
   "id": "da878252",
   "metadata": {},
   "outputs": [
    {
     "name": "stdout",
     "output_type": "stream",
     "text": [
      "['Abhd2', 'Acer3', 'Acta2', 'Actb', 'Actg1', 'Adarb2', 'Adcy1', 'Adcy2', 'Adgrl3', 'Agt', 'Ahcyl2', 'Aif1l', 'Aldh1a1', 'Aldoc', 'Aqp4', 'Arx', 'Ascl1', 'Atp1a2', 'Atp1b1', 'Auts2', 'Bcl2', 'Bdnf', 'Bhlhe22', 'Bmp2', 'Bmp4', 'Brinp3', 'Bsg', 'Bsn', 'Btg2', 'C1qa', 'C1ql1', 'C1ql3', 'Calb1', 'Calb2', 'Casp3', 'Casp9', 'Cck', 'Cd14', 'Cd74', 'Cdh12', 'Cdh13', 'Cdh18', 'Cdk1', 'Cdk4', 'Chrdl1', 'Clasp1', 'Cldn5', 'Cnr1', 'Cntnap5b', 'Cox6a1', 'Csmd1', 'Cspg4', 'Cspg5', 'Cst3', 'Dcc', 'Dcx', 'Dgat2', 'Dgkb', 'Dgkh', 'Dlx1', 'Dlx2', 'Dpysl3', 'Dsp', 'Efna5', 'Egfem1', 'Eif4a2', 'Elavl2', 'Elavl3', 'Elavl4', 'Emx1', 'Emx2', 'Eomes', 'Erbb4', 'Etv4', 'F3', 'Fam107a', 'Fam210b', 'Fam214a', 'Fbll1', 'Flt1', 'Fos', 'Foxa1', 'Foxa2', 'Foxg1', 'Frmd4a', 'Frzb', 'Fxyd6', 'Fxyd7', 'Fyn', 'Gabbr1', 'Gabra1', 'Gabra2', 'Gad1', 'Gal', 'Gda', 'Gfap', 'Gja1', 'Gli1', 'Gm10076', 'Gnb1', 'Gpc4', 'Gpm6a', 'Gpr17', 'Grb14', 'Grin2c', 'Grp', 'H2afz', 'Hapln2', 'Hdac8', 'Hes5', 'Hmgn3', 'Hopx', 'Hs6st3', 'Htra1', 'Htt', 'Id3', 'Igfbpl1', 'Inpp4b', 'Insm1', 'Junb', 'Kcnd2', 'Kcng4', 'Kif4', 'Laptm5', 'Lhx3', 'Lhx6', 'Llgl1', 'Lockd', 'Lpar1', 'Lrp1b', 'Lrrtm4', 'Mal', 'Map3k15', 'Mapk4', 'Marcks', 'Mast4', 'Mbp', 'Mcm2', 'Mcu', 'Mertk', 'Mfge8', 'Mgat4c', 'Mgl2', 'Mki67', 'Mrc1', 'Mt2', 'Mtrf1', 'Mxd3', 'Myc', 'Myf5', 'Myod1', 'Nckap5', 'Ndst4', 'Necab3', 'Nell1', 'Nes', 'Neurod1', 'Neurod2', 'Neurod4', 'Neurod6', 'Neurog1', 'Neurog2', 'Nfia', 'Ngef', 'Nkain2', 'Nkain4', 'Nmb', 'Nnat', 'Nog', 'Notch3', 'Npas3', 'Npy2r', 'Nr3c2', 'Nrg3', 'Nrgn', 'Ntf3', 'Ntng1', 'Ntrk2', 'Nxph1', 'Ogt', 'Olig1', 'Olig2', 'Olr1', 'Opalin', 'Opcml', 'Padi2', 'Pam', 'Pax6', 'Pde10a', 'Pde1a', 'Pdgfra', 'Pex5l', 'Plekha1', 'Plxna1', 'Pnoc', 'Pou3f2', 'Prkg1', 'Prom1', 'Prox1', 'Psap', 'Ptbp1', 'Ptbp2', 'Ptgds', 'Pvalb', 'Rasl10a', 'Rbfox3', 'Rbms3', 'Reln', 'Rest', 'Rhcg', 'Riiad1', 'Robo1', 'Rpl38', 'Rtn4', 'S100b', 'S1pr3', 'Sall3', 'Scd2', 'Sdk1', 'Sema3a', 'Serpinf1', 'Serping1', 'Sgcd', 'Sgcz', 'Sgk1', 'Sin3a', 'Slc17a6', 'Slc1a2', 'Slc1a3', 'Slc2a1', 'Slc5a7', 'Slco1c1', 'Slit2', 'Smarca4', 'Sorcs1', 'Sox10', 'Sox11', 'Sox2', 'Sox4', 'Sox9', 'Spag5', 'Spink8', 'Sst', 'Steap4', 'Stox2', 'Synpr', 'Tac2', 'Tardbp', 'Tbr1', 'Tenm2', 'Tfap2c', 'Tgfb1', 'Thrsp', 'Thy1', 'Tmem108', 'Tmsb10', 'Top2a', 'Tpt1', 'Trim2', 'Trps1', 'Tshz2', 'Unc13a', 'Unc13b', 'Unc13c', 'Unc5c', 'Vim', 'Vip', 'Vnn1', 'Vps13c', 'Wdr17', 'Wfs1', 'Wipf3', 'Wnt8b', 'Zbtb20', 'Zfp36l1']\n"
     ]
    }
   ],
   "source": [
    "print(list(np.sort([e for e in dec.gns_names if 'blank' not in e])))"
   ]
  },
  {
   "cell_type": "code",
   "execution_count": 167,
   "id": "716fa725",
   "metadata": {},
   "outputs": [
    {
     "name": "stdout",
     "output_type": "stream",
     "text": [
      "Fraction error: 0.11924287971211656\n",
      "['Adcy1' 'Neurod1' 'Atp1a2' 'Aldoc' 'Bsg' 'Slc1a2' 'Unc13a' 'Nfia'\n",
      " 'Rbfox3' 'Calb2' 'Gfap' 'Unc5c' 'Reln' 'Olig1' 'Bsn' 'Smarca4' 'Prox1'\n",
      " 'Dcc' 'Aqp4' 'Ptgds' 'Actg1' 'Stox2' 'blank0152' 'Mcm2' 'Auts2' 'Slc2a1'\n",
      " 'Grin2c' 'Sox9' 'Pex5l' 'Mertk' 'Fam214a' 'Flt1' 'Hapln2' 'Sox11' 'Casp3'\n",
      " 'Fos' 'Hdac8' 'Gabra1' 'Vps13c' 'Kcng4' 'Nmb' 'Hopx' 'Nr3c2' 'blank0018'\n",
      " 'Sox10' 'Mcu' 'Ogt' 'Dlx1' 'Bmp4' 'Cldn5']\n"
     ]
    },
    {
     "data": {
      "image/png": "[encoded data removed]",
      "text/plain": [
       "<Figure size 640x480 with 1 Axes>"
      ]
     },
     "metadata": {},
     "output_type": "display_data"
    }
   ],
   "source": [
    "\n",
    "get_is_bright(dec,th_dic = {0:0,1:0,2:0})\n",
    "#get_is_bright(dec,th_dic = {0:1500,1:1500,2:750})\n",
    "icodesN_ = dec.icodesN[dec.is_bright]\n",
    "icds,ncts = np.unique(icodesN_,return_counts=True)\n",
    "gns = dec.gns_names[icds[np.argsort(ncts)[::-1]]]\n",
    "print(gns[:50])\n",
    "#viewer = plot_points(dec,genes=gns[:20],cols=['r','g','b','c','y','orange','w','m','purple'])\n",
    "viewer = plot_points(dec,genes=['Flt1','Calb2','Sox2'],cols=['r','g','b','c','y','orange','w','m','purple'])\n"
   ]
  },
  {
   "cell_type": "code",
   "execution_count": 138,
   "id": "eebfbddb",
   "metadata": {},
   "outputs": [
    {
     "name": "stdout",
     "output_type": "stream",
     "text": [
      "Conv_zscan__123 _set2\n"
     ]
    }
   ],
   "source": [
    "print(fov,set_)"
   ]
  },
  {
   "cell_type": "code",
   "execution_count": 140,
   "id": "97e51b7f",
   "metadata": {},
   "outputs": [
    {
     "data": {
      "text/plain": [
       "Viewer(axes=Axes(visible=False, labels=True, colored=True, dashed=False, arrows=True), camera=Camera(center=(0.0, 0.0, 0.0), zoom=1.0, angles=(0.0, 0.0, 90.0), perspective=0, interactive=True), cursor=Cursor(position=(1, 1), scaled=True, size=1, style=<CursorStyle.STANDARD: 'standard'>), dims=Dims(ndim=2, ndisplay=2, last_used=0, range=((0, 2, 1), (0, 2, 1)), current_step=(0, 0), order=(0, 1), axis_labels=('0', '1')), grid=GridCanvas(stride=1, shape=(-1, -1), enabled=False), layers=[], scale_bar=ScaleBar(visible=False, colored=False, ticks=True, position=<Position.BOTTOM_RIGHT: 'bottom_right'>, font_size=10, unit=None), text_overlay=TextOverlay(visible=False, color=(0.5, 0.5, 0.5, 1.0), font_size=10, position=<TextOverlayPosition.TOP_LEFT: 'top_left'>, text=''), overlays=Overlays(interaction_box=InteractionBox(points=None, show=False, show_handle=False, show_vertices=False, selection_box_drag=None, selection_box_final=None, transform_start=<napari.utils.transforms.transforms.Affine object at 0x0000021B810DC2E0>, transform_drag=<napari.utils.transforms.transforms.Affine object at 0x0000021B810DC340>, transform_final=<napari.utils.transforms.transforms.Affine object at 0x0000021B810DC3A0>, transform=<napari.utils.transforms.transforms.Affine object at 0x0000021B810DC400>, allow_new_selection=True, selected_vertex=None)), help='', status='Ready', tooltip=Tooltip(visible=False, text=''), theme='dark', title='napari', mouse_move_callbacks=[<function InteractionBoxMouseBindings.initialize_mouse_events.<locals>.mouse_move at 0x0000021B53D81940>], mouse_drag_callbacks=[<function InteractionBoxMouseBindings.initialize_mouse_events.<locals>.mouse_drag at 0x0000021B53D81820>], mouse_double_click_callbacks=[], mouse_wheel_callbacks=[<function dims_scroll at 0x0000021CA7381550>], _persisted_mouse_event={}, _mouse_drag_gen={}, _mouse_wheel_gen={}, keymap={'Shift': <function InteractionBoxMouseBindings.initialize_key_events.<locals>.hold_to_lock_aspect_ratio at 0x0000021B53D81430>, 'Control-Shift-R': <function InteractionBoxMouseBindings._reset_active_layer_affine at 0x0000021B53D81700>, 'Control-Shift-A': <function InteractionBoxMouseBindings._transform_active_layer at 0x0000021B53D81670>})"
      ]
     },
     "execution_count": 140,
     "metadata": {},
     "output_type": "execute_result"
    }
   ],
   "source": [
    "napari.Viewer()"
   ]
  },
  {
   "cell_type": "code",
   "execution_count": 98,
   "id": "16092271",
   "metadata": {},
   "outputs": [
    {
     "data": {
      "text/plain": [
       "<Points layer 'Arx' at 0x21b4f058af0>"
      ]
     },
     "execution_count": 98,
     "metadata": {},
     "output_type": "execute_result"
    }
   ],
   "source": [
    "#resf = dec.res_prunedN[is_bright]\n",
    "icodesf = icodesN[is_bright]\n",
    "Xcms = np.mean(XH_pruned[is_bright],axis=1)\n",
    "H = Xcms[:,-3]\n",
    "X = Xcms[:,:3]\n",
    "size = 1+np.clip(H/np.percentile(H,95),0,1)*20\n",
    "import napari\n",
    "viewer = napari.Viewer()\n",
    "\n",
    "gene,color = 'Olig1','r'\n",
    "icode = dec.gns_names.index(gene)\n",
    "is_code = icode==icodesf\n",
    "viewer.add_points(X[is_code],size=size[is_code],face_color=color,name=gene)# size[is_code])\n",
    "gene,color = 'Sox9',[0,1,0.2]\n",
    "icode = dec.gns_names.index(gene)\n",
    "is_code = icode==icodesf\n",
    "viewer.add_points(X[is_code],size=size[is_code],face_color=color,name=gene)# size[is_code])\n",
    "\n",
    "gene,color = 'Calb1','c'\n",
    "icode = dec.gns_names.index(gene)\n",
    "is_code = icode==icodesf\n",
    "viewer.add_points(X[is_code],size=size[is_code],face_color=color,name=gene)\n",
    "\n",
    "gene,color = 'Adcy1','y'\n",
    "icode = dec.gns_names.index(gene)\n",
    "is_code = icode==icodesf\n",
    "viewer.add_points(X[is_code],size=size[is_code],face_color=color,name=gene)\n",
    "\n",
    "gene,color = 'Arx','orange'\n",
    "icode = dec.gns_names.index(gene)\n",
    "is_code = icode==icodesf\n",
    "viewer.add_points(X[is_code],size=size[is_code],face_color=color,name=gene)"
   ]
  },
  {
   "cell_type": "code",
   "execution_count": 91,
   "id": "2409900b",
   "metadata": {},
   "outputs": [
    {
     "data": {
      "text/plain": [
       "array([], shape=(0, 10), dtype=float64)"
      ]
     },
     "execution_count": 91,
     "metadata": {},
     "output_type": "execute_result"
    }
   ],
   "source": [
    "Xcms[is_code]"
   ]
  },
  {
   "cell_type": "code",
   "execution_count": null,
   "id": "73d8d184",
   "metadata": {},
   "outputs": [],
   "source": []
  },
  {
   "cell_type": "code",
   "execution_count": 81,
   "id": "7a098d27",
   "metadata": {},
   "outputs": [
    {
     "data": {
      "text/plain": [
       "array(['Slc1a2', 'Atp1a2', 'Adcy1', 'Aldoc', 'Olig1', 'Pex5l', 'Bsg',\n",
       "       'Cdh13', 'Sox10', 'Gfap', 'Smarca4', 'Elavl4', 'Tpt1', 'Cldn5',\n",
       "       'Ptgds', 'Actg1', 'Wfs1', 'Unc13a', 'Agt', 'Tshz2', 'Stox2',\n",
       "       'Dpysl3', 'Lpar1', 'Arx', 'Hapln2', 'Olig2', 'Pde10a', 'Unc5c',\n",
       "       'Fyn', 'Slc2a1', 'Sox9', 'Dcc', 'Sst', 'Nfia', 'blank0034',\n",
       "       'Neurod1', 'Cspg5', 'Pvalb', 'Serpinf1', 'Pam', 'Padi2', 'Prox1',\n",
       "       'Kcng4', 'Rbms3', 'Auts2', 'Fam210b', 'Dlx1', 'blank0231', 'Ptbp1',\n",
       "       'Sgcd', 'Mfge8', 'Nr3c2', 'blank0152', 'Ogt', 'blank0218',\n",
       "       'blank0185', 'blank0094', 'Fam214a', 'Egfem1', 'Opalin', 'Tmem108',\n",
       "       'Fxyd6', 'Casp9', 'Bcl2', 'Mcu', 'Bdnf', 'Sox4', 'Bsn',\n",
       "       'blank0276', 'Sox11', 'Gm10076', 'Abhd2', 'Sgk1', 'Dlx2', 'Myod1',\n",
       "       'Plxna1', 'Cdk4', 'Trps1', 'Nxph1', 'Wdr17', 'Notch3', 'Ahcyl2',\n",
       "       'Necab3', 'Flt1', 'Btg2', 'Rhcg', 'Unc13c', 'Hdac8', 'Sgcz',\n",
       "       'Vps13c', 'Mapk4', 'Fbll1', 'blank0236', 'Mertk', 'Gja1', 'Aqp4',\n",
       "       'Ndst4', 'Hopx', 'Laptm5', 'Pdgfra', 'Fos', 'Cdh18', 'Aif1l',\n",
       "       'Tfap2c', 'Mki67', 'Dgkh', 'Hes5', 'Spag5', 'Gabra2', 'Eomes',\n",
       "       'Grin2c', 'Top2a', 'Pou3f2', 'blank0219', 'blank0284', 'Mxd3',\n",
       "       'Slc5a7', 'Mcm2', 'Slc17a6', 'Rest', 'Cspg4', 'Mtrf1', 'Emx1',\n",
       "       'Pnoc', 'Gabra1', 'Casp3', 'Prkg1', 'Gpr17', 'Ntf3', 'blank0149',\n",
       "       'Clasp1', 'Calb1', 'blank0217', 'Dgat2', 'blank0256', 'blank0064',\n",
       "       'blank0205', 'Dcx', 'blank0087', 'Slco1c1', 'Slit2', 'Calb2',\n",
       "       'Htra1', 'blank0269', 'Tardbp', 'Sall3', 'Lhx6', 'C1qa', 'Ptbp2',\n",
       "       'blank0237', 'Ngef', 'Rbfox3', 'Tbr1', 'blank0091', 'blank0018',\n",
       "       'blank0084', 'Grb14', 'Id3', 'Brinp3', 'blank0167', 'Cd74',\n",
       "       'Nckap5', 'Nes', 'blank0246', 'Bmp2', 'blank0257', 'blank0285',\n",
       "       'Prom1', 'blank0163', 'blank0280', 'Gli1', 'Foxg1', 'Sox2',\n",
       "       'Aldh1a1', 'Grp', 'Mal', 'Nell1', 'blank0277', 'Htt', 'Synpr',\n",
       "       'Tgfb1', 'Reln', 'F3', 'Gda', 'Neurog2', 'Vip', 'Gpc4', 'S100b',\n",
       "       'Wnt8b', 'Neurod6', 'Neurod4', 'Acer3', 'Slc1a3', 'Bmp4', 'Cdk1',\n",
       "       'Kif4', 'blank0090', 'C1ql1', 'blank0121', 'blank0177', 'Tac2',\n",
       "       'blank0143', 'blank0147', 'Mgl2', 'blank0227', 'Frzb', 'Mt2',\n",
       "       'Efna5', 'blank0233', 'Cntnap5b', 'Foxa1', 'H2afz', 'blank0286',\n",
       "       'blank0262', 'blank0275', 'Cd14', 'blank0243', 'S1pr3',\n",
       "       'blank0281', 'blank0154', 'Thrsp', 'Adcy2', 'blank0133', 'Rasl10a',\n",
       "       'Rpl38', 'Vim', 'blank0278', 'C1ql3', 'blank0140', 'Unc13b',\n",
       "       'blank0274', 'Riiad1', 'blank0168', 'blank0225', 'Junb', 'Nkain4',\n",
       "       'Spink8', 'blank0029', 'blank0101', 'blank0061', 'Sdk1', 'Map3k15',\n",
       "       'blank0014', 'Zfp36l1', 'Insm1', 'blank0195', 'Mast4', 'Etv4',\n",
       "       'Sema3a', 'blank0164', 'Vnn1', 'blank0027', 'Nmb', 'blank0238',\n",
       "       'blank0070', 'blank0160', 'blank0211', 'Wipf3', 'blank0012',\n",
       "       'Sorcs1', 'blank0230', 'blank0059', 'blank0201', 'blank0232',\n",
       "       'Sin3a', 'blank0122', 'Neurog1', 'Plekha1', 'Myf5', 'Lhx3',\n",
       "       'blank0244', 'blank0058', 'blank0139', 'blank0241', 'blank0191',\n",
       "       'blank0080', 'Inpp4b', 'blank0126', 'Pax6', 'blank0221',\n",
       "       'blank0209', 'blank0207', 'Acta2', 'blank0194', 'blank0079',\n",
       "       'blank0148', 'blank0212', 'Myc', 'blank0156', 'Neurod2',\n",
       "       'blank0022', 'Fam107a', 'Fxyd7', 'blank0025', 'blank0161',\n",
       "       'blank0141', 'blank0102', 'blank0204', 'Steap4', 'Npy2r', 'Llgl1',\n",
       "       'blank0072', 'blank0222', 'blank0146', 'blank0074', 'blank0251',\n",
       "       'blank0024', 'blank0060', 'blank0112', 'blank0260', 'blank0213',\n",
       "       'Igfbpl1', 'Dsp', 'blank0151', 'Emx2', 'blank0272', 'blank0111',\n",
       "       'blank0081', 'Cdh12', 'Gal', 'blank0249', 'Serping1', 'blank0252',\n",
       "       'blank0250', 'blank0157', 'blank0261', 'blank0083', 'Ascl1',\n",
       "       'Bhlhe22', 'blank0170', 'Olr1', 'Mrc1', 'Chrdl1', 'blank0115',\n",
       "       'Foxa2', 'blank0038', 'blank0190', 'blank0041', 'blank0108',\n",
       "       'blank0216', 'blank0001', 'blank0054', 'blank0089', 'blank0120',\n",
       "       'blank0138', 'blank0002', 'Ntng1', 'blank0075', 'blank0078',\n",
       "       'Lockd', 'blank0016', 'blank0063', 'blank0073', 'Hmgn3',\n",
       "       'blank0023', 'blank0020', 'blank0069', 'blank0093', 'blank0145',\n",
       "       'blank0158', 'Nog', 'blank0068', 'blank0010', 'blank0042',\n",
       "       'blank0187', 'blank0048', 'blank0071', 'blank0006', 'blank0110',\n",
       "       'blank0057', 'blank0067', 'blank0159', 'blank0021', 'blank0053',\n",
       "       'blank0056', 'blank0004'], dtype='<U9')"
      ]
     },
     "execution_count": 81,
     "metadata": {},
     "output_type": "execute_result"
    }
   ],
   "source": []
  },
  {
   "cell_type": "code",
   "execution_count": null,
   "id": "2d4e78c7",
   "metadata": {},
   "outputs": [],
   "source": []
  },
  {
   "cell_type": "code",
   "execution_count": 114,
   "id": "ec737c5c",
   "metadata": {},
   "outputs": [
    {
     "data": {
      "image/png": "[encoded data removed]",
      "text/plain": [
       "<Figure size 640x480 with 1 Axes>"
      ]
     },
     "metadata": {},
     "output_type": "display_data"
    }
   ],
   "source": [
    "R = 0\n",
    "is_blank = ~np.in1d(dec.icodesN,good_codes)\n",
    "bits = dec.XH[:,-2].astype(int)[dec.res_prunedN]\n",
    "blankH = dec.scores_prunedN[is_blank][bits[is_blank]==R]\n",
    "goodH = dec.scores_prunedN[~is_blank][bits[~is_blank]==R]\n",
    "plt.figure()\n",
    "plt.hist(np.log(blankH),density=False,bins=100,alpha=0.2)\n",
    "plt.hist(np.log(goodH),density=False,bins=100,alpha=0.2);"
   ]
  },
  {
   "cell_type": "code",
   "execution_count": 110,
   "id": "19d23a19",
   "metadata": {},
   "outputs": [
    {
     "data": {
      "text/plain": [
       "0.08663431596799133"
      ]
     },
     "execution_count": 110,
     "metadata": {},
     "output_type": "execute_result"
    }
   ],
   "source": [
    "th = np.exp(6.5)\n",
    "np.sum(blankH>th)/np.sum(goodH>th)"
   ]
  },
  {
   "cell_type": "code",
   "execution_count": 115,
   "id": "d02212b9",
   "metadata": {},
   "outputs": [
    {
     "data": {
      "text/plain": [
       "1808.0424144560632"
      ]
     },
     "execution_count": 115,
     "metadata": {},
     "output_type": "execute_result"
    }
   ],
   "source": [
    "np.exp(7.5)"
   ]
  },
  {
   "cell_type": "code",
   "execution_count": 62,
   "id": "5f2dc89d",
   "metadata": {},
   "outputs": [
    {
     "data": {
      "text/plain": [
       "1096.6331584284585"
      ]
     },
     "execution_count": 62,
     "metadata": {},
     "output_type": "execute_result"
    }
   ],
   "source": [
    "np.exp(7)"
   ]
  },
  {
   "cell_type": "code",
   "execution_count": 36,
   "id": "279ce737",
   "metadata": {},
   "outputs": [
    {
     "data": {
      "text/plain": [
       "array([[52666.6875    , 38893.375     , 52587.296875  , 37381.89453125],\n",
       "       [48522.390625  , 43494.66796875, 37091.5859375 , 46859.40625   ],\n",
       "       [52131.69140625, 33922.890625  , 29404.89453125, 50829.66796875],\n",
       "       ...,\n",
       "       [  522.87988281,   501.92993164,   521.60351562,   500.30566406],\n",
       "       [  511.45214844,   507.79321289,   521.67993164,   505.4699707 ],\n",
       "       [  523.09326172,   503.81787109,   503.68432617,   513.50878906]])"
      ]
     },
     "execution_count": 36,
     "metadata": {},
     "output_type": "execute_result"
    }
   ],
   "source": [
    "dec.scores_prunedN[]"
   ]
  },
  {
   "cell_type": "code",
   "execution_count": 31,
   "id": "3f57f199",
   "metadata": {},
   "outputs": [
    {
     "data": {
      "text/plain": [
       "(3402.6637931034484, 874.3819444444445)"
      ]
     },
     "execution_count": 31,
     "metadata": {},
     "output_type": "execute_result"
    },
    {
     "data": {
      "image/png": "[encoded data removed]",
      "text/plain": [
       "<Figure size 640x480 with 1 Axes>"
      ]
     },
     "metadata": {},
     "output_type": "display_data"
    }
   ],
   "source": [
    "icodesN_ = dec.icodesN\n",
    "icds,ncts = np.unique(icodesN_,return_counts=True)\n",
    "good_codes = np.array([ign for ign,gn in enumerate(dec.gns_names) if 'blank' not in gn])\n",
    "keep_good = np.in1d(icds,good_codes)\n",
    "\n",
    "#print(np.median(ncts[np.in1d(icds,good_codes)]),np.median(ncts[~np.in1d(icds,good_codes)]))\n",
    "plt.figure()\n",
    "plt.plot(ncts[keep_good],'-')\n",
    "plt.plot(ncts[~keep_good],'-')\n",
    "#plt.figure()\n",
    "#plt.semilogy(ncts[~keep_good],'-')\n",
    "np.mean(ncts[keep_good]),np.mean(ncts[~keep_good])"
   ]
  },
  {
   "cell_type": "code",
   "execution_count": null,
   "id": "d0030beb",
   "metadata": {},
   "outputs": [],
   "source": [
    "icodesN_ =  icodesN[keep_mols]\n",
    "#icds,ncts = np.unique(icodesN_[dist_from_code<th],return_counts=True)\n",
    "icds,ncts = np.unique(icodesN_,return_counts=True)\n",
    "good_codes = np.array([ign for ign,gn in enumerate(self.gns_names) if 'blank' not in gn])\n",
    "keep_good = np.in1d(icds,good_codes)\n",
    "\n",
    "#print(np.median(ncts[np.in1d(icds,good_codes)]),np.median(ncts[~np.in1d(icds,good_codes)]))\n",
    "plt.figure()\n",
    "plt.semilogy(ncts[keep_good],'-')\n",
    "plt.semilogy(ncts[~keep_good],'-')\n",
    "#plt.figure()\n",
    "#plt.semilogy(ncts[~keep_good],'-')\n",
    "np.mean(ncts[keep_good]),np.mean(ncts[~keep_good])"
   ]
  },
  {
   "cell_type": "code",
   "execution_count": 169,
   "id": "f428b595",
   "metadata": {},
   "outputs": [
    {
     "data": {
      "text/plain": [
       "['blank0001',\n",
       " 'blank0002',\n",
       " 'blank0003',\n",
       " 'blank0004',\n",
       " 'blank0005',\n",
       " 'blank0006',\n",
       " 'blank0007',\n",
       " 'blank0008',\n",
       " 'blank0009',\n",
       " 'blank0010',\n",
       " 'blank0011',\n",
       " 'blank0012',\n",
       " 'blank0013',\n",
       " 'blank0014',\n",
       " 'blank0015',\n",
       " 'blank0016',\n",
       " 'blank0017',\n",
       " 'blank0018',\n",
       " 'blank0019',\n",
       " 'blank0020',\n",
       " 'blank0021',\n",
       " 'blank0022',\n",
       " 'blank0023',\n",
       " 'blank0024',\n",
       " 'blank0025',\n",
       " 'blank0026',\n",
       " 'blank0027',\n",
       " 'blank0028',\n",
       " 'blank0029',\n",
       " 'blank0030',\n",
       " 'blank0031',\n",
       " 'blank0032',\n",
       " 'blank0033',\n",
       " 'blank0034',\n",
       " 'blank0035',\n",
       " 'blank0036',\n",
       " 'blank0037',\n",
       " 'blank0038',\n",
       " 'blank0039',\n",
       " 'blank0040',\n",
       " 'blank0041',\n",
       " 'blank0042',\n",
       " 'blank0043',\n",
       " 'blank0044',\n",
       " 'blank0045',\n",
       " 'blank0046',\n",
       " 'blank0047',\n",
       " 'blank0048',\n",
       " 'blank0049',\n",
       " 'blank0050',\n",
       " 'blank0051',\n",
       " 'blank0052',\n",
       " 'blank0053',\n",
       " 'blank0054',\n",
       " 'blank0055',\n",
       " 'blank0056',\n",
       " 'blank0057',\n",
       " 'blank0058',\n",
       " 'blank0059',\n",
       " 'blank0060',\n",
       " 'blank0061',\n",
       " 'blank0062',\n",
       " 'blank0063',\n",
       " 'blank0064',\n",
       " 'blank0065',\n",
       " 'blank0066',\n",
       " 'blank0067',\n",
       " 'blank0068',\n",
       " 'blank0069',\n",
       " 'blank0070',\n",
       " 'blank0071',\n",
       " 'blank0072',\n",
       " 'blank0073',\n",
       " 'blank0074',\n",
       " 'blank0075',\n",
       " 'blank0076',\n",
       " 'blank0077',\n",
       " 'blank0078',\n",
       " 'blank0079',\n",
       " 'blank0080',\n",
       " 'blank0081',\n",
       " 'blank0082',\n",
       " 'blank0083',\n",
       " 'blank0084',\n",
       " 'blank0085',\n",
       " 'blank0086',\n",
       " 'blank0087',\n",
       " 'blank0088',\n",
       " 'blank0089',\n",
       " 'blank0090',\n",
       " 'blank0091',\n",
       " 'blank0092',\n",
       " 'blank0093',\n",
       " 'blank0094',\n",
       " 'blank0095',\n",
       " 'blank0096',\n",
       " 'blank0097',\n",
       " 'blank0098',\n",
       " 'blank0099',\n",
       " 'blank0100',\n",
       " 'blank0101',\n",
       " 'blank0102',\n",
       " 'blank0103',\n",
       " 'blank0104',\n",
       " 'blank0105',\n",
       " 'blank0106',\n",
       " 'blank0107',\n",
       " 'blank0108',\n",
       " 'blank0109',\n",
       " 'blank0110',\n",
       " 'blank0111',\n",
       " 'blank0112',\n",
       " 'blank0113',\n",
       " 'blank0114',\n",
       " 'blank0115',\n",
       " 'blank0116',\n",
       " 'blank0117',\n",
       " 'blank0118',\n",
       " 'blank0119',\n",
       " 'blank0120',\n",
       " 'blank0121',\n",
       " 'blank0122',\n",
       " 'blank0123',\n",
       " 'blank0124',\n",
       " 'blank0125',\n",
       " 'blank0126',\n",
       " 'blank0127',\n",
       " 'blank0128',\n",
       " 'blank0129',\n",
       " 'blank0130',\n",
       " 'blank0131',\n",
       " 'blank0132',\n",
       " 'blank0133',\n",
       " 'blank0134',\n",
       " 'blank0135',\n",
       " 'blank0136',\n",
       " 'blank0137',\n",
       " 'blank0138',\n",
       " 'blank0139',\n",
       " 'blank0140',\n",
       " 'blank0141',\n",
       " 'blank0142',\n",
       " 'blank0143',\n",
       " 'blank0144',\n",
       " 'blank0145',\n",
       " 'blank0146',\n",
       " 'blank0147',\n",
       " 'blank0148',\n",
       " 'blank0149',\n",
       " 'blank0150',\n",
       " 'blank0151',\n",
       " 'blank0152',\n",
       " 'blank0153',\n",
       " 'blank0154',\n",
       " 'blank0155',\n",
       " 'blank0156',\n",
       " 'blank0157',\n",
       " 'blank0158',\n",
       " 'blank0159',\n",
       " 'blank0160',\n",
       " 'blank0161',\n",
       " 'blank0162',\n",
       " 'blank0163',\n",
       " 'blank0164',\n",
       " 'blank0165',\n",
       " 'blank0166',\n",
       " 'blank0167',\n",
       " 'blank0168',\n",
       " 'blank0169',\n",
       " 'blank0170',\n",
       " 'blank0171',\n",
       " 'blank0172',\n",
       " 'blank0173',\n",
       " 'blank0174',\n",
       " 'blank0175',\n",
       " 'blank0176',\n",
       " 'blank0177',\n",
       " 'blank0178',\n",
       " 'blank0179',\n",
       " 'blank0180',\n",
       " 'blank0181',\n",
       " 'blank0182',\n",
       " 'blank0183',\n",
       " 'blank0184',\n",
       " 'blank0185',\n",
       " 'blank0186',\n",
       " 'blank0187',\n",
       " 'blank0188',\n",
       " 'blank0189',\n",
       " 'blank0190',\n",
       " 'blank0191',\n",
       " 'blank0192',\n",
       " 'blank0193',\n",
       " 'blank0194',\n",
       " 'blank0195',\n",
       " 'blank0196',\n",
       " 'blank0197',\n",
       " 'blank0198',\n",
       " 'blank0199',\n",
       " 'blank0200',\n",
       " 'blank0201',\n",
       " 'blank0202',\n",
       " 'blank0203',\n",
       " 'blank0204',\n",
       " 'blank0205',\n",
       " 'blank0206',\n",
       " 'blank0207',\n",
       " 'blank0208',\n",
       " 'blank0209',\n",
       " 'blank0210',\n",
       " 'blank0211',\n",
       " 'blank0212',\n",
       " 'blank0213',\n",
       " 'blank0214',\n",
       " 'blank0215',\n",
       " 'blank0216',\n",
       " 'blank0217',\n",
       " 'blank0218',\n",
       " 'blank0219',\n",
       " 'blank0220',\n",
       " 'blank0221',\n",
       " 'blank0222',\n",
       " 'blank0223',\n",
       " 'blank0224',\n",
       " 'blank0225',\n",
       " 'blank0226',\n",
       " 'blank0227',\n",
       " 'blank0228',\n",
       " 'blank0229',\n",
       " 'blank0230',\n",
       " 'blank0231',\n",
       " 'blank0232',\n",
       " 'blank0233',\n",
       " 'blank0234',\n",
       " 'blank0235',\n",
       " 'blank0236',\n",
       " 'blank0237',\n",
       " 'blank0238',\n",
       " 'blank0239',\n",
       " 'blank0240',\n",
       " 'blank0241',\n",
       " 'blank0242',\n",
       " 'blank0243',\n",
       " 'blank0244',\n",
       " 'blank0245',\n",
       " 'blank0246',\n",
       " 'blank0247',\n",
       " 'blank0248',\n",
       " 'blank0249',\n",
       " 'blank0250',\n",
       " 'blank0251',\n",
       " 'blank0252',\n",
       " 'blank0253',\n",
       " 'blank0254',\n",
       " 'blank0255',\n",
       " 'blank0256',\n",
       " 'blank0257',\n",
       " 'blank0258',\n",
       " 'blank0259',\n",
       " 'blank0260',\n",
       " 'blank0261',\n",
       " 'blank0262',\n",
       " 'blank0263',\n",
       " 'blank0264',\n",
       " 'blank0265',\n",
       " 'blank0266',\n",
       " 'blank0267',\n",
       " 'blank0268',\n",
       " 'blank0269',\n",
       " 'blank0270',\n",
       " 'blank0271',\n",
       " 'blank0272',\n",
       " 'blank0273',\n",
       " 'blank0274',\n",
       " 'blank0275',\n",
       " 'blank0276',\n",
       " 'blank0277',\n",
       " 'blank0278',\n",
       " 'blank0279',\n",
       " 'blank0280',\n",
       " 'blank0281',\n",
       " 'blank0282',\n",
       " 'blank0283',\n",
       " 'blank0284',\n",
       " 'blank0285',\n",
       " 'blank0286',\n",
       " 'blank0287',\n",
       " 'blank0288',\n",
       " 'blank0289',\n",
       " 'blank0290',\n",
       " 'blank0291',\n",
       " 'blank0292',\n",
       " 'blank0293',\n",
       " 'blank0294',\n",
       " 'blank0295',\n",
       " 'blank0296',\n",
       " 'blank0297',\n",
       " 'blank0298',\n",
       " 'blank0299',\n",
       " 'blank0300',\n",
       " 'Acer3',\n",
       " 'Actg1',\n",
       " 'Adcy2',\n",
       " 'Ahcyl2',\n",
       " 'Aldoc',\n",
       " 'Ascl1',\n",
       " 'Auts2',\n",
       " 'Bhlhe22',\n",
       " 'Bmp2',\n",
       " 'Bsg',\n",
       " 'C1qa',\n",
       " 'Calb1',\n",
       " 'Cck',\n",
       " 'Cdh12',\n",
       " 'Cdk4',\n",
       " 'Chrdl1',\n",
       " 'Cnr1',\n",
       " 'Csmd1',\n",
       " 'Cst3',\n",
       " 'Dgat2',\n",
       " 'Dlx1',\n",
       " 'Dsp',\n",
       " 'Eif4a2',\n",
       " 'Emx2',\n",
       " 'Eomes',\n",
       " 'Fam107a',\n",
       " 'Flt1',\n",
       " 'Foxa2',\n",
       " 'Foxg1',\n",
       " 'Gabbr1',\n",
       " 'Gad1',\n",
       " 'Gja1',\n",
       " 'Gpc4',\n",
       " 'Grb14',\n",
       " 'Grin2c',\n",
       " 'Hapln2',\n",
       " 'Hmgn3',\n",
       " 'Id3',\n",
       " 'Igfbpl1',\n",
       " 'Kcnd2',\n",
       " 'Lhx3',\n",
       " 'Lockd',\n",
       " 'Lrp1b',\n",
       " 'Mal',\n",
       " 'Mapk4',\n",
       " 'Mbp',\n",
       " 'Mgat4c',\n",
       " 'Mrc1',\n",
       " 'Myc',\n",
       " 'Nckap5',\n",
       " 'Neurod1',\n",
       " 'Neurod6',\n",
       " 'Nfia',\n",
       " 'Nkain4',\n",
       " 'Nog',\n",
       " 'Npy2r',\n",
       " 'Nrgn',\n",
       " 'Ntng1',\n",
       " 'Ogt',\n",
       " 'Olr1',\n",
       " 'Padi2',\n",
       " 'Pam',\n",
       " 'Pde1a',\n",
       " 'Plekha1',\n",
       " 'Pnoc',\n",
       " 'Prox1',\n",
       " 'Ptbp2',\n",
       " 'Rasl10a',\n",
       " 'Reln',\n",
       " 'Riiad1',\n",
       " 'Rpl38',\n",
       " 'S1pr3',\n",
       " 'Serping1',\n",
       " 'Sgk1',\n",
       " 'Slc1a3',\n",
       " 'Slco1c1',\n",
       " 'Sox11',\n",
       " 'Sox4',\n",
       " 'Spag5',\n",
       " 'Steap4',\n",
       " 'Tardbp',\n",
       " 'Tgfb1',\n",
       " 'Thrsp',\n",
       " 'Tmsb10',\n",
       " 'Tpt1',\n",
       " 'Tshz2',\n",
       " 'Unc13c',\n",
       " 'Vip',\n",
       " 'Wfs1',\n",
       " 'Zfp36l1',\n",
       " 'Acta2',\n",
       " 'Adarb2',\n",
       " 'Adgrl3',\n",
       " 'Aif1l',\n",
       " 'Aqp4',\n",
       " 'Atp1a2',\n",
       " 'Bcl2',\n",
       " 'Bmp4',\n",
       " 'Bsn',\n",
       " 'C1ql1',\n",
       " 'Calb2',\n",
       " 'Casp3',\n",
       " 'Cd14',\n",
       " 'Cdh13',\n",
       " 'Clasp1',\n",
       " 'Cntnap5b',\n",
       " 'Cspg4',\n",
       " 'Dcc',\n",
       " 'Dgkb',\n",
       " 'Dlx2',\n",
       " 'Efna5',\n",
       " 'Elavl2',\n",
       " 'Elavl3',\n",
       " 'Erbb4',\n",
       " 'Etv4',\n",
       " 'Fam214a',\n",
       " 'Fos',\n",
       " 'Frmd4a',\n",
       " 'Fxyd6',\n",
       " 'Fxyd7',\n",
       " 'Gabra1',\n",
       " 'Gda',\n",
       " 'Gli1',\n",
       " 'Gpm6a',\n",
       " 'Grp',\n",
       " 'Hdac8',\n",
       " 'Hopx',\n",
       " 'Hs6st3',\n",
       " 'Inpp4b',\n",
       " 'Insm1',\n",
       " 'Kif4',\n",
       " 'Lhx6',\n",
       " 'Lpar1',\n",
       " 'Lrrtm4',\n",
       " 'Marcks',\n",
       " 'Mcm2',\n",
       " 'Mertk',\n",
       " 'Mgl2',\n",
       " 'Mt2',\n",
       " 'Myf5',\n",
       " 'Ndst4',\n",
       " 'Nell1',\n",
       " 'Neurod2',\n",
       " 'Neurog1',\n",
       " 'Ngef',\n",
       " 'Nmb',\n",
       " 'Notch3',\n",
       " 'Nr3c2',\n",
       " 'Ntrk2',\n",
       " 'Olig1',\n",
       " 'Opalin',\n",
       " 'Pax6',\n",
       " 'Pdgfra',\n",
       " 'Pou3f2',\n",
       " 'Prom1',\n",
       " 'Psap',\n",
       " 'Ptgds',\n",
       " 'Rbfox3',\n",
       " 'Rest',\n",
       " 'Rtn4',\n",
       " 'Sall3',\n",
       " 'Scd2',\n",
       " 'Sema3a',\n",
       " 'Sgcd',\n",
       " 'Sin3a',\n",
       " 'Slc2a1',\n",
       " 'Slit2',\n",
       " 'Sorcs1',\n",
       " 'Sox2',\n",
       " 'Spink8',\n",
       " 'Stox2',\n",
       " 'Tac2',\n",
       " 'Tbr1',\n",
       " 'Thy1',\n",
       " 'Trim2',\n",
       " 'Unc13a',\n",
       " 'Unc5c',\n",
       " 'Vnn1',\n",
       " 'Vps13c',\n",
       " 'Wipf3',\n",
       " 'Abhd2',\n",
       " 'Actb',\n",
       " 'Adcy1',\n",
       " 'Agt',\n",
       " 'Aldh1a1',\n",
       " 'Arx',\n",
       " 'Atp1b1',\n",
       " 'Bdnf',\n",
       " 'Brinp3',\n",
       " 'Btg2',\n",
       " 'C1ql3',\n",
       " 'Casp9',\n",
       " 'Cd74',\n",
       " 'Cdh18',\n",
       " 'Cdk1',\n",
       " 'Cldn5',\n",
       " 'Cox6a1',\n",
       " 'Cspg5',\n",
       " 'Dcx',\n",
       " 'Dgkh',\n",
       " 'Dpysl3',\n",
       " 'Egfem1',\n",
       " 'Elavl4',\n",
       " 'Emx1',\n",
       " 'F3',\n",
       " 'Fam210b',\n",
       " 'Fbll1',\n",
       " 'Foxa1',\n",
       " 'Frzb',\n",
       " 'Fyn',\n",
       " 'Gabra2',\n",
       " 'Gal',\n",
       " 'Gfap',\n",
       " 'Gm10076',\n",
       " 'Gnb1',\n",
       " 'Gpr17',\n",
       " 'H2afz',\n",
       " 'Hes5',\n",
       " 'Htra1',\n",
       " 'Htt',\n",
       " 'Junb',\n",
       " 'Kcng4',\n",
       " 'Laptm5',\n",
       " 'Llgl1',\n",
       " 'Map3k15',\n",
       " 'Mast4',\n",
       " 'Mcu',\n",
       " 'Mfge8',\n",
       " 'Mki67',\n",
       " 'Mtrf1',\n",
       " 'Mxd3',\n",
       " 'Myod1',\n",
       " 'Necab3',\n",
       " 'Nes',\n",
       " 'Neurod4',\n",
       " 'Neurog2',\n",
       " 'Nkain2',\n",
       " 'Nnat',\n",
       " 'Npas3',\n",
       " 'Nrg3',\n",
       " 'Ntf3',\n",
       " 'Nxph1',\n",
       " 'Olig2',\n",
       " 'Opcml',\n",
       " 'Pde10a',\n",
       " 'Pex5l',\n",
       " 'Plxna1',\n",
       " 'Prkg1',\n",
       " 'Ptbp1',\n",
       " 'Pvalb',\n",
       " 'Rbms3',\n",
       " 'Rhcg',\n",
       " 'Robo1',\n",
       " 'S100b',\n",
       " 'Sdk1',\n",
       " 'Serpinf1',\n",
       " 'Sgcz',\n",
       " 'Slc17a6',\n",
       " 'Slc1a2',\n",
       " 'Slc5a7',\n",
       " 'Smarca4',\n",
       " 'Sox10',\n",
       " 'Sox9',\n",
       " 'Sst',\n",
       " 'Synpr',\n",
       " 'Tenm2',\n",
       " 'Tfap2c',\n",
       " 'Tmem108',\n",
       " 'Top2a',\n",
       " 'Trps1',\n",
       " 'Unc13b',\n",
       " 'Vim',\n",
       " 'Wdr17',\n",
       " 'Wnt8b',\n",
       " 'Zbtb20']"
      ]
     },
     "execution_count": 169,
     "metadata": {},
     "output_type": "execute_result"
    }
   ],
   "source": [
    "dec.gns_names"
   ]
  },
  {
   "cell_type": "code",
   "execution_count": 193,
   "id": "31db4d3d",
   "metadata": {},
   "outputs": [
    {
     "data": {
      "text/plain": [
       "Viewer(axes=Axes(visible=False, labels=True, colored=True, dashed=False, arrows=True), camera=Camera(center=(0.0, 1505.8091033348585, 1535.121919512604), zoom=0.11566182448652004, angles=(0.0, 0.0, 90.0), perspective=0.0, interactive=True), cursor=Cursor(position=(1.0, 1.0, 0.0), scaled=True, size=1, style=<CursorStyle.STANDARD: 'standard'>), dims=Dims(ndim=3, ndisplay=2, last_used=0, range=((-0.14978531877366988, 30.942852230163012, 1.0), (90.01342414871633, 2922.6047825210007, 1.0), (114.16906207990486, 2957.0747769453033, 1.0)), current_step=(15, 1416, 1421), order=(0, 1, 2), axis_labels=('0', '1', '2')), grid=GridCanvas(stride=1, shape=(-1, -1), enabled=False), layers=[<Points layer 'Points' at 0x1dbf5cae5e0>], scale_bar=ScaleBar(visible=False, colored=False, ticks=True, position=<Position.BOTTOM_RIGHT: 'bottom_right'>, font_size=10, unit=None), text_overlay=TextOverlay(visible=False, color=(0.5, 0.5, 0.5, 1.0), font_size=10, position=<TextOverlayPosition.TOP_LEFT: 'top_left'>, text=''), overlays=Overlays(interaction_box=InteractionBox(points=None, show=False, show_handle=False, show_vertices=False, selection_box_drag=None, selection_box_final=None, transform_start=<napari.utils.transforms.transforms.Affine object at 0x000001DBF34B9580>, transform_drag=<napari.utils.transforms.transforms.Affine object at 0x000001DBF34B9520>, transform_final=<napari.utils.transforms.transforms.Affine object at 0x000001DBF34B91C0>, transform=<napari.utils.transforms.transforms.Affine object at 0x000001DBF34B9910>, allow_new_selection=True, selected_vertex=None)), help='', status='Ready', tooltip=Tooltip(visible=False, text=''), theme='dark', title='napari', mouse_move_callbacks=[<function InteractionBoxMouseBindings.initialize_mouse_events.<locals>.mouse_move at 0x000001DBF5CEECA0>], mouse_drag_callbacks=[<function InteractionBoxMouseBindings.initialize_mouse_events.<locals>.mouse_drag at 0x000001DBF5CEE790>], mouse_double_click_callbacks=[], mouse_wheel_callbacks=[<function dims_scroll at 0x000001DCC49463A0>], _persisted_mouse_event={}, _mouse_drag_gen={}, _mouse_wheel_gen={}, keymap={'Shift': <function InteractionBoxMouseBindings.initialize_key_events.<locals>.hold_to_lock_aspect_ratio at 0x000001DBF5CB31F0>, 'Control-Shift-R': <function InteractionBoxMouseBindings._reset_active_layer_affine at 0x000001DBF5CEE700>, 'Control-Shift-A': <function InteractionBoxMouseBindings._transform_active_layer at 0x000001DBF5CEE5E0>})"
      ]
     },
     "execution_count": 193,
     "metadata": {},
     "output_type": "execute_result"
    }
   ],
   "source": [
    "resf = dec.res_prunedN[is_bright]\n",
    "icodesf = dec.icodesN[is_bright]\n",
    "Xcms = np.mean(dec.XH[resf],axis=1)\n",
    "H = Xcms[:,-3]\n",
    "X = Xcms[:,:3]\n",
    "size = 1+np.clip(H/np.percentile(H,95),0,1)*20\n",
    "icode = dec.gns_names.index('Wnt8b')\n",
    "is_code = icode==icodesf\n",
    "import napari\n",
    "napari.view_points(X[is_code],size=size[is_code])# size[is_code])"
   ]
  },
  {
   "cell_type": "code",
   "execution_count": 159,
   "id": "19aed686",
   "metadata": {},
   "outputs": [
    {
     "data": {
      "text/plain": [
       "0"
      ]
     },
     "execution_count": 159,
     "metadata": {},
     "output_type": "execute_result"
    }
   ],
   "source": [
    "np.sum(is_code)"
   ]
  },
  {
   "cell_type": "code",
   "execution_count": null,
   "id": "ac15d47c",
   "metadata": {},
   "outputs": [],
   "source": [
    "size = 1+np.clip(scoresT/np.max(scoresT),0,1)*20\n"
   ]
  },
  {
   "cell_type": "code",
   "execution_count": null,
   "id": "92c66f64",
   "metadata": {},
   "outputs": [],
   "source": [
    "import napari\n",
    "viewer.add_points(X,size=size,face_color='m',blending='additive')"
   ]
  },
  {
   "cell_type": "code",
   "execution_count": 144,
   "id": "d591ec78",
   "metadata": {},
   "outputs": [
    {
     "data": {
      "text/plain": [
       "(312384, 10)"
      ]
     },
     "execution_count": 144,
     "metadata": {},
     "output_type": "execute_result"
    }
   ],
   "source": [
    "Xcms.shape"
   ]
  },
  {
   "cell_type": "code",
   "execution_count": null,
   "id": "1986c1e6",
   "metadata": {},
   "outputs": [],
   "source": [
    "viewer = napari.Viewer()\n",
    "scoresf = scores_prunedN[keep_mols]\n",
    "resf = res_prunedN[keep_mols]\n",
    "icodesf = icodesN[keep_mols]\n",
    "isnan = resf*0.\n",
    "isnan[resf<0]=np.nan\n",
    "Xcms = np.nanmean(XH[resf][:,:,:3]+isnan[...,np.newaxis],axis=1)\n",
    "\n",
    "icode = self.gns_names.index('Flt1')\n",
    "good = np.sum(resf>=0,axis=-1)>=3\n",
    "is_code = icodesf[good]==icode\n",
    "#really_good = np.all(scoresf[good][is_code]>0.25,axis=1)\n",
    "X = Xcms[good][is_code]#[really_good]\n",
    "scoresT = np.mean(scoresf[good][is_code],axis=-1)\n",
    "size = 1+np.clip(scoresT/np.max(scoresT),0,1)*20\n",
    "import napari\n",
    "viewer.add_points(X,size=size,face_color='m',blending='additive')\n",
    "\n",
    "icol = int(self.XH[resf[good][is_code][0][0]][-2])\n",
    "keep = scoresT>th_dic.get(icol,0)\n",
    "viewer.add_points(X[keep],size=10,face_color='c',blending='additive')\n",
    "\n",
    "XhT = get_Xh(all_flds,fov,drifts,save_folder,icol = 2,iH = 1)\n",
    "h = XhT[:,-1]\n",
    "XT = XhT[:,:3]\n",
    "size = 1+np.clip(h/np.max(h),0,1)*20\n",
    "viewer.add_points(XT,size=size,face_color='g',blending='additive')\n"
   ]
  },
  {
   "cell_type": "code",
   "execution_count": null,
   "id": "beed4dac",
   "metadata": {},
   "outputs": [],
   "source": []
  },
  {
   "cell_type": "code",
   "execution_count": null,
   "id": "c0cfa08a",
   "metadata": {},
   "outputs": [],
   "source": []
  },
  {
   "cell_type": "code",
   "execution_count": 24,
   "id": "78527952",
   "metadata": {},
   "outputs": [],
   "source": [
    "self = dec\n",
    "\n",
    "res =self.res\n",
    "XH = self.XH\n",
    "codes = self.codes__\n",
    "\n",
    "RS = XH[:,-1].astype(int)\n",
    "HS = XH[:,-3]\n",
    "colS = XH[:,-2].astype(int)\n",
    "colSu = np.unique(colS)\n",
    "meds_col = np.array([np.median(HS[colS==cu]) for cu in colSu])\n",
    "HN = HS/meds_col[colS]"
   ]
  },
  {
   "cell_type": "code",
   "execution_count": 25,
   "id": "de467573",
   "metadata": {},
   "outputs": [
    {
     "name": "stdout",
     "output_type": "stream",
     "text": [
      "45.71554970741272\n"
     ]
    }
   ],
   "source": []
  },
  {
   "cell_type": "code",
   "execution_count": 51,
   "id": "b17abdd6",
   "metadata": {},
   "outputs": [],
   "source": []
  },
  {
   "cell_type": "code",
   "execution_count": 26,
   "id": "e60185c5",
   "metadata": {},
   "outputs": [
    {
     "name": "stdout",
     "output_type": "stream",
     "text": [
      "97.27494812011719\n"
     ]
    }
   ],
   "source": [
    "### compute the scores unfolded\n",
    "import time\n",
    "start = time.time()\n",
    "hn = HN[res_unfolder]\n",
    "X = XH[:,:3][res_unfolder]\n",
    "X0 = XH[:,:3][res0]\n",
    "dn = np.linalg.norm(X-X0,axis=-1)\n",
    "sc_dist = self.get_score_distance(dn)\n",
    "sc_br = self.get_score_brightness(hn)\n",
    "scores = sc_dist*sc_br\n",
    "print(time.time()-start)"
   ]
  },
  {
   "cell_type": "code",
   "execution_count": 64,
   "id": "ec65e6c7",
   "metadata": {},
   "outputs": [
    {
     "name": "stdout",
     "output_type": "stream",
     "text": [
      "60.09611368179321\n"
     ]
    }
   ],
   "source": [
    "### get scores across bits\n",
    "import time\n",
    "start = time.time()\n",
    "bits_unfold = RS[res_unfolder]\n",
    "nbits = len(np.unique(RS))\n",
    "scores_bits = np.zeros([len(res),nbits])\n",
    "arg_scores = np.argsort(scores)\n",
    "scores_bits[ires[arg_scores],bits_unfold[arg_scores]]=scores[arg_scores]\n",
    "\n",
    "### Find the best codes based on dot product\n",
    "inds_spots =  np.zeros([len(res),nbits],dtype=int)-1\n",
    "inds_spots[ires[arg_scores],bits_unfold[arg_scores]]=res_unfolder[arg_scores]\n",
    "icodes = np.argmax(np.dot(scores_bits[:],self.codes_01.T),axis=-1)\n",
    "res_pruned = np.array([inds_spots[imol][codes[icd]] for imol,icd in enumerate(icodes)])\n",
    "scores_pruned = np.array([scores_bits[imol][codes[icd]] for imol,icd in enumerate(icodes)])\n",
    "\n",
    "print(time.time()-start)\n"
   ]
  },
  {
   "cell_type": "code",
   "execution_count": null,
   "id": "b332a0ed",
   "metadata": {},
   "outputs": [],
   "source": [
    "codes = self.codes__"
   ]
  },
  {
   "cell_type": "code",
   "execution_count": 2,
   "id": "84d5f092",
   "metadata": {},
   "outputs": [
    {
     "name": "stdout",
     "output_type": "stream",
     "text": [
      " Volume in drive C has no label.\n",
      " Volume Serial Number is 32D8-8765\n",
      "\n",
      " Directory of C:\\Users\\BintuLab\\Scope4AnalysisScripts\\MERFISH_Spot_Analysis\\Analysis_1500gns_MERFISH\n",
      "\n",
      "03/09/2023  10:03 PM    <DIR>          .\n",
      "03/09/2023  10:03 PM    <DIR>          ..\n",
      "03/09/2023  03:55 PM    <DIR>          .ipynb_checkpoints\n",
      "03/03/2023  12:54 PM            13,493 codebook_DCBB250.csv\n",
      "03/03/2023  12:54 PM    <DIR>          CommonTools\n",
      "03/09/2023  09:58 PM           383,415 DCBBL1_3_2_2023-decoder.ipynb\n",
      "03/03/2023  12:54 PM         2,430,396 DCBBL1_spinal_01_25_2023_main_analysis-CellSegmentation.ipynb\n",
      "03/03/2023  12:54 PM           766,931 DCBBL1_spinal_01_25_2023__12_2_2022_main_analysis.ipynb\n",
      "03/09/2023  09:52 PM           101,864 DCBB_1500gnLib_01_23_2023-Copy1.ipynb\n",
      "03/07/2023  02:23 PM            21,159 DCBB_1500gnLib_01_23_2023.ipynb\n",
      "03/03/2023  12:54 PM           161,865 DCBB_human_011823_cs4_main_analysis-CellSegmentation-Copy1.ipynb\n",
      "03/03/2023  12:54 PM           830,296 DCBB_human_011823_cs4_main_analysis-CellSegmentation.ipynb\n",
      "03/07/2023  12:59 PM            14,399 DCBB_MER250__12_2_2022_main_analysis-CellSegmentation.ipynb\n",
      "03/09/2023  10:30 AM            72,249 ioMicro.py\n",
      "03/03/2023  12:54 PM             7,582 Load_ASO_and_PTB.ipynb\n",
      "03/07/2023  12:58 PM            17,225 TestWorker.ipynb\n",
      "03/07/2023  02:06 PM             1,717 Untitled.ipynb\n",
      "03/09/2023  10:03 PM             5,436 Untitled1.ipynb\n",
      "03/03/2023  12:54 PM             4,372 worker2.py\n",
      "03/03/2023  12:54 PM             4,101 worker_test2.py\n",
      "03/09/2023  09:32 PM    <DIR>          __pycache__\n",
      "              16 File(s)      4,836,500 bytes\n",
      "               5 Dir(s)  3,782,951,215,104 bytes free\n"
     ]
    }
   ],
   "source": [
    "!dir"
   ]
  },
  {
   "cell_type": "code",
   "execution_count": 704,
   "id": "1083116d",
   "metadata": {},
   "outputs": [
    {
     "name": "stdout",
     "output_type": "stream",
     "text": [
      "15.700292825698853\n"
     ]
    }
   ],
   "source": [
    "### Find the best codes\n",
    "import time\n",
    "start = time.time()\n",
    "scores_ = XH[:,-3][res_unfolder] # get the original brighnesses of all unravelled spots\n",
    "bits_unfold = RS[res_unfolder] # get the bits of all unravelled spots\n",
    "# construct scores_bits of size Nclusters x nbits such that the maximum score is deposited in the appropriate bit\n",
    "nbits = len(np.unique(RS))\n",
    "scores_bits = np.zeros([len(res),nbits])\n",
    "arg_scores = np.argsort(scores_)\n",
    "scores_bits[ires[arg_scores],bits_unfold[arg_scores]]=scores_[arg_scores]\n",
    "print(time.time()-start)"
   ]
  },
  {
   "cell_type": "code",
   "execution_count": 714,
   "id": "6fe97476",
   "metadata": {},
   "outputs": [
    {
     "name": "stdout",
     "output_type": "stream",
     "text": [
      "31.587443828582764\n"
     ]
    }
   ],
   "source": [
    "import time\n",
    "start = time.time()\n",
    "### There are multiple avenues here: \n",
    "#### nearest neighbors - slowest\n",
    "#### best dot product - reasonable and can return missing elements - medium speed\n",
    "#### find top 4 bits and call that a code - simplest and fastest\n",
    "\n",
    "method = 'top4'\n",
    "if method == 'top4':\n",
    "    codes = self.codes__\n",
    "    vals = np.argsort(scores_bits,axis=-1)\n",
    "    bcodes = np.sort(vals[:,-4:],axis=-1)\n",
    "    base = [nbits**3,nbits**2,nbits**1,nbits**0]\n",
    "    bcodes_b = np.sum(bcodes*base,axis=1)\n",
    "    codes_b = np.sum(np.sort(codes,axis=-1)*base,axis=1)\n",
    "    icodesN = np.zeros(len(bcodes_b),dtype=int)-1\n",
    "    for icd,cd in enumerate(codes_b):\n",
    "        icodesN[bcodes_b==cd]=icd\n",
    "    bad = np.sum(scores_bits>0,axis=-1)<4\n",
    "    icodesN[bad]=-1\n",
    "    igood = np.where(icodesN>-1)[0]\n",
    "    inds_spotsN =  np.zeros([len(res),nbits],dtype=int)-1\n",
    "    inds_spotsN[ires[arg_scores],bits_unfold[arg_scores]]=res_unfolder[arg_scores]\n",
    "    res_prunedN = np.array([inds_spotsN[imol][codes[icd]] for imol,icd in enumerate(icodesN) if icd>-1])\n",
    "    scores_prunedN = np.array([scores_bits[imol][codes[icd]] for imol,icd in enumerate(icodesN) if icd>-1])\n",
    "    icodesN = icodesN[igood]\n",
    "elif method == 'dot':\n",
    "    icodesN = np.argmax(np.dot(scores_bits[:],self.codes_01.T),axis=-1)\n",
    "    inds_spotsN =  np.zeros([len(res),nbits],dtype=int)-1\n",
    "    inds_spotsN[ires[arg_scores],bits_unfold[arg_scores]]=res_unfolder[arg_scores]\n",
    "    res_prunedN = np.array([inds_spotsN[imol][codes[icd]] for imol,icd in enumerate(icodesN) if icd>-1])\n",
    "    scores_prunedN = np.array([scores_bits[imol][codes[icd]] for imol,icd in enumerate(icodesN) if icd>-1])\n",
    "\n",
    "\n",
    "print(time.time()-start)"
   ]
  },
  {
   "cell_type": "code",
   "execution_count": 715,
   "id": "1d8ae1bb",
   "metadata": {},
   "outputs": [
    {
     "data": {
      "text/plain": [
       "(3537832, 3537832)"
      ]
     },
     "execution_count": 715,
     "metadata": {},
     "output_type": "execute_result"
    }
   ],
   "source": [
    "len(icodesN),len(res_prunedN)"
   ]
  },
  {
   "cell_type": "code",
   "execution_count": 716,
   "id": "494667ec",
   "metadata": {},
   "outputs": [
    {
     "data": {
      "text/plain": [
       "array([    346, 1059272, 5161119, 7165251])"
      ]
     },
     "execution_count": 716,
     "metadata": {},
     "output_type": "execute_result"
    }
   ],
   "source": [
    "res_prunedN[0]"
   ]
  },
  {
   "cell_type": "code",
   "execution_count": 717,
   "id": "f384da25",
   "metadata": {},
   "outputs": [
    {
     "name": "stderr",
     "output_type": "stream",
     "text": [
      "100%|█████████████████████████████████████████████████████████████████████| 3537832/3537832 [00:39<00:00, 90306.02it/s]\n"
     ]
    }
   ],
   "source": [
    "mean_scores = np.mean(scores_prunedN,axis=-1)\n",
    "ordered_mols = np.argsort(mean_scores)[::-1]\n",
    "keep_mols = []\n",
    "visited = np.zeros(len(self.XH))\n",
    "for imol in tqdm(ordered_mols):\n",
    "    r = np.array(res_prunedN[imol])\n",
    "    r_ = r[r>=0]\n",
    "    if np.all(visited[r_]==0):\n",
    "        keep_mols.append(imol)\n",
    "        visited[r_]=1\n",
    "keep_mols = np.array(keep_mols)"
   ]
  },
  {
   "cell_type": "code",
   "execution_count": 759,
   "id": "89abded5",
   "metadata": {},
   "outputs": [
    {
     "data": {
      "text/plain": [
       "(3049.1163636363635, 338.14666666666665)"
      ]
     },
     "execution_count": 759,
     "metadata": {},
     "output_type": "execute_result"
    },
    {
     "data": {
      "image/png": "[encoded data removed]",
      "text/plain": [
       "<Figure size 640x480 with 1 Axes>"
      ]
     },
     "metadata": {},
     "output_type": "display_data"
    }
   ],
   "source": [
    "#th = np.percentile(dist_from_code[~keep_good_cd],33)\n",
    "#np.sum(dist_from_code[keep_good_cd]<th),len(dist_from_code[keep_good_cd])\n",
    "#np.sum(dist_from_code[~keep_good_cd]<th),len(dist_from_code[~keep_good_cd])\n",
    "icodesN_ =  icodesN[keep_mols]\n",
    "#icds,ncts = np.unique(icodesN_[dist_from_code<th],return_counts=True)\n",
    "icds,ncts = np.unique(icodesN_,return_counts=True)\n",
    "good_codes = np.array([ign for ign,gn in enumerate(self.gns_names) if 'blank' not in gn])\n",
    "keep_good = np.in1d(icds,good_codes)\n",
    "\n",
    "#print(np.median(ncts[np.in1d(icds,good_codes)]),np.median(ncts[~np.in1d(icds,good_codes)]))\n",
    "plt.figure()\n",
    "plt.semilogy(ncts[keep_good],'-')\n",
    "plt.semilogy(ncts[~keep_good],'-')\n",
    "#plt.figure()\n",
    "#plt.semilogy(ncts[~keep_good],'-')\n",
    "np.mean(ncts[keep_good]),np.mean(ncts[~keep_good])"
   ]
  },
  {
   "cell_type": "code",
   "execution_count": 718,
   "id": "232067c4",
   "metadata": {},
   "outputs": [
    {
     "data": {
      "text/plain": [
       "array([[ 9158473, 12024516, 13022322, 14006353],\n",
       "       [ 8405176, 10251926, 14153924, 14832763],\n",
       "       [ 9050347, 11917322, 12947469, 13922023],\n",
       "       ...,\n",
       "       [  215869,  4208011,  5354260,  6375931],\n",
       "       [ 3878995,  8898284, 11776223, 14553825],\n",
       "       [  895479,  2057173,  7012790,  7999262]])"
      ]
     },
     "execution_count": 718,
     "metadata": {},
     "output_type": "execute_result"
    }
   ],
   "source": [
    "resf = res_prunedN[keep_mols]\n",
    "resf"
   ]
  },
  {
   "cell_type": "code",
   "execution_count": 732,
   "id": "1a4a70e3",
   "metadata": {},
   "outputs": [
    {
     "data": {
      "text/plain": [
       "(8763001, 3537831, 3537832)"
      ]
     },
     "execution_count": 732,
     "metadata": {},
     "output_type": "execute_result"
    }
   ],
   "source": [
    "len(scores_bits),np.max(keep_mols),len(igood)"
   ]
  },
  {
   "cell_type": "code",
   "execution_count": 753,
   "id": "765f63db",
   "metadata": {},
   "outputs": [
    {
     "data": {
      "image/png": "[encoded data removed]",
      "text/plain": [
       "<Figure size 640x480 with 1 Axes>"
      ]
     },
     "metadata": {},
     "output_type": "display_data"
    }
   ],
   "source": [
    "resf = res_prunedN[keep_mols]\n",
    "icodesf = icodesN[keep_mols]\n",
    "#keep_pm = np.all(resf>0,axis=-1)\n",
    "#icodesf=icodesf[keep_pm]\n",
    "#resf=resf[keep_pm]\n",
    "\n",
    "good_codes = np.array([ign for ign,gn in enumerate(self.gns_names) if 'blank' not in gn])\n",
    "keep_good = np.in1d(icodesf,good_codes)\n",
    "XHall = self.XH[resf][keep_good]\n",
    "Rmol = XHall[:,:,-1]\n",
    "H = XHall[:,:,-3]\n",
    "Hbits = np.array([np.percentile(H[Rmol==R],50) for R in np.arange(nbits)])\n",
    "#keep_code = icodesN>=0\n",
    "#icodesN_ = icodesN[keep_code]\n",
    "icodesf = icodesN[keep_mols]\n",
    "scores_bitsn_ = scores_bits[igood][keep_mols] ### igood\n",
    "scores_bitsn_ = np.clip(scores_bitsn_/Hbits,0,1)\n",
    "\n",
    "keep_good_cd = np.in1d(icodesf,good_codes)\n",
    "best_codes = self.codes_01[icodesf]\n",
    "\n",
    "dist_from_code = np.mean(np.abs(scores_bitsn_-best_codes),axis=-1)\n",
    "off_codes = 1-best_codes\n",
    "on_off_target = np.sum(scores_bitsn_*off_codes,axis=-1)/np.sum(scores_bitsn_*best_codes,axis=-1)#/np.sum(best_codes,axis=-1)\n",
    "\n",
    "plt.figure()\n",
    "plt.hist(dist_from_code[keep_good_cd],bins=100,density=True,alpha=0.5);\n",
    "plt.hist(dist_from_code[~keep_good_cd],bins=100,density=True,alpha=0.5);\n",
    "if False:\n",
    "    on_target = np.sum(scores_bitsn_*best_codes,axis=-1)/np.sum(best_codes,axis=-1)\n",
    "    off_codes = 1-best_codes\n",
    "    off_target = np.sum(scores_bitsn_*off_codes,axis=-1)/np.sum(off_codes,axis=-1)\n",
    "    plt.figure()\n",
    "    plt.hist(off_target[keep_good_cd],bins=100,density=True,alpha=0.5);\n",
    "    plt.hist(off_target[~keep_good_cd],bins=100,density=True,alpha=0.5);\n",
    "    plt.figure()\n",
    "    plt.hist(on_target[keep_good_cd],bins=100,density=True,alpha=0.5);\n",
    "    plt.hist(on_target[~keep_good_cd],bins=100,density=True,alpha=0.5);"
   ]
  },
  {
   "cell_type": "code",
   "execution_count": 750,
   "id": "96e340b4",
   "metadata": {},
   "outputs": [
    {
     "data": {
      "image/png": "[encoded data removed]",
      "text/plain": [
       "<Figure size 640x480 with 1 Axes>"
      ]
     },
     "metadata": {},
     "output_type": "display_data"
    }
   ],
   "source": [
    "scores_bitsn_ = scores_bits[igood][keep_mols]\n",
    "#scores_bits[igood]#[keep_good_cd]\n",
    "R=20\n",
    "es = scores_bitsn_[keep_good_cd][:,R]\n",
    "plt.hist(np.log(es[es>0]),density=True,bins=100,alpha=0.5);\n",
    "es = scores_bitsn_[~keep_good_cd][:,R]\n",
    "plt.hist(np.log(es[es>0]),density=True,bins=100,alpha=0.5);"
   ]
  },
  {
   "cell_type": "code",
   "execution_count": null,
   "id": "e18b8097",
   "metadata": {},
   "outputs": [],
   "source": [
    "2*6"
   ]
  },
  {
   "cell_type": "code",
   "execution_count": 696,
   "id": "a88887fd",
   "metadata": {},
   "outputs": [
    {
     "data": {
      "text/plain": [
       "[<matplotlib.lines.Line2D at 0x1c2a5122790>]"
      ]
     },
     "execution_count": 696,
     "metadata": {},
     "output_type": "execute_result"
    },
    {
     "data": {
      "image/png": "[encoded data removed]",
      "text/plain": [
       "<Figure size 640x480 with 1 Axes>"
      ]
     },
     "metadata": {},
     "output_type": "display_data"
    }
   ],
   "source": [
    "#th = np.percentile(dist_from_code[~keep_good_cd],33)\n",
    "#np.sum(dist_from_code[keep_good_cd]<th),len(dist_from_code[keep_good_cd])\n",
    "#np.sum(dist_from_code[~keep_good_cd]<th),len(dist_from_code[~keep_good_cd])\n",
    "icodesN_ =  icodesN[keep_mols]\n",
    "#icds,ncts = np.unique(icodesN_[dist_from_code<th],return_counts=True)\n",
    "icds,ncts = np.unique(icodesN_,return_counts=True)\n",
    "#print(np.median(ncts[np.in1d(icds,good_codes)]),np.median(ncts[~np.in1d(icds,good_codes)]))\n",
    "plt.plot(ncts,'-')"
   ]
  },
  {
   "cell_type": "code",
   "execution_count": null,
   "id": "792e6c70",
   "metadata": {},
   "outputs": [],
   "source": [
    "np.argsort"
   ]
  },
  {
   "cell_type": "code",
   "execution_count": null,
   "id": "aa0849c3",
   "metadata": {},
   "outputs": [],
   "source": []
  },
  {
   "cell_type": "code",
   "execution_count": null,
   "id": "1b26b3a6",
   "metadata": {},
   "outputs": [],
   "source": []
  },
  {
   "cell_type": "code",
   "execution_count": 667,
   "id": "23cf3d5a",
   "metadata": {},
   "outputs": [
    {
     "data": {
      "text/plain": [
       "[<matplotlib.lines.Line2D at 0x1c2bd30d400>]"
      ]
     },
     "execution_count": 667,
     "metadata": {},
     "output_type": "execute_result"
    },
    {
     "data": {
      "image/png": "[encoded data removed]",
      "text/plain": [
       "<Figure size 640x480 with 1 Axes>"
      ]
     },
     "metadata": {},
     "output_type": "display_data"
    }
   ],
   "source": [
    "#th = np.percentile(dist_from_code[~keep_good_cd],33)\n",
    "#np.sum(dist_from_code[keep_good_cd]<th),len(dist_from_code[keep_good_cd])\n",
    "#np.sum(dist_from_code[~keep_good_cd]<th),len(dist_from_code[~keep_good_cd])\n",
    "icodesN_ =  icodesN[keep_mols]\n",
    "#icds,ncts = np.unique(icodesN_[dist_from_code<th],return_counts=True)\n",
    "icds,ncts = np.unique(icodesN_,return_counts=True)\n",
    "#print(np.median(ncts[np.in1d(icds,good_codes)]),np.median(ncts[~np.in1d(icds,good_codes)]))\n",
    "plt.plot(ncts,'-')"
   ]
  },
  {
   "cell_type": "code",
   "execution_count": 666,
   "id": "a7b53748",
   "metadata": {},
   "outputs": [
    {
     "data": {
      "text/plain": [
       "array([ 31, 315, 320, ..., 286, 299, 299], dtype=int64)"
      ]
     },
     "execution_count": 666,
     "metadata": {},
     "output_type": "execute_result"
    }
   ],
   "source": [
    "icodesN"
   ]
  },
  {
   "cell_type": "code",
   "execution_count": 327,
   "id": "ea83db45",
   "metadata": {},
   "outputs": [
    {
     "name": "stderr",
     "output_type": "stream",
     "text": [
      "100%|█████████████████████████████████████████████████████████████████████| 3537832/3537832 [00:37<00:00, 93168.68it/s]\n"
     ]
    }
   ],
   "source": []
  },
  {
   "cell_type": "code",
   "execution_count": 280,
   "id": "845be65e",
   "metadata": {},
   "outputs": [],
   "source": [
    "icode = self.gns_names.index('Igfbpl1')"
   ]
  },
  {
   "cell_type": "code",
   "execution_count": 846,
   "id": "755ba8ca",
   "metadata": {},
   "outputs": [],
   "source": [
    "th_dic = {0:2000,1:1500,2:750}"
   ]
  },
  {
   "cell_type": "code",
   "execution_count": 866,
   "id": "bf071040",
   "metadata": {},
   "outputs": [
    {
     "data": {
      "text/plain": [
       "<Points layer 'XT' at 0x1c93ca0efd0>"
      ]
     },
     "execution_count": 866,
     "metadata": {},
     "output_type": "execute_result"
    }
   ],
   "source": [
    "viewer = napari.Viewer()\n",
    "scoresf = scores_prunedN[keep_mols]\n",
    "resf = res_prunedN[keep_mols]\n",
    "icodesf = icodesN[keep_mols]\n",
    "isnan = resf*0.\n",
    "isnan[resf<0]=np.nan\n",
    "Xcms = np.nanmean(XH[resf][:,:,:3]+isnan[...,np.newaxis],axis=1)\n",
    "\n",
    "icode = self.gns_names.index('Flt1')\n",
    "good = np.sum(resf>=0,axis=-1)>=3\n",
    "is_code = icodesf[good]==icode\n",
    "#really_good = np.all(scoresf[good][is_code]>0.25,axis=1)\n",
    "X = Xcms[good][is_code]#[really_good]\n",
    "scoresT = np.mean(scoresf[good][is_code],axis=-1)\n",
    "size = 1+np.clip(scoresT/np.max(scoresT),0,1)*20\n",
    "import napari\n",
    "viewer.add_points(X,size=size,face_color='m',blending='additive')\n",
    "\n",
    "icol = int(self.XH[resf[good][is_code][0][0]][-2])\n",
    "keep = scoresT>th_dic.get(icol,0)\n",
    "viewer.add_points(X[keep],size=10,face_color='c',blending='additive')\n",
    "\n",
    "XhT = get_Xh(all_flds,fov,drifts,save_folder,icol = 2,iH = 1)\n",
    "h = XhT[:,-1]\n",
    "XT = XhT[:,:3]\n",
    "size = 1+np.clip(h/np.max(h),0,1)*20\n",
    "viewer.add_points(XT,size=size,face_color='g',blending='additive')\n"
   ]
  },
  {
   "cell_type": "code",
   "execution_count": 865,
   "id": "7a9d82d0",
   "metadata": {},
   "outputs": [
    {
     "data": {
      "text/plain": [
       "1"
      ]
     },
     "execution_count": 865,
     "metadata": {},
     "output_type": "execute_result"
    }
   ],
   "source": [
    "icol"
   ]
  },
  {
   "cell_type": "code",
   "execution_count": 843,
   "id": "5bb04725",
   "metadata": {},
   "outputs": [
    {
     "data": {
      "text/plain": [
       "['blank0291',\n",
       " 'blank0292',\n",
       " 'blank0293',\n",
       " 'blank0294',\n",
       " 'blank0295',\n",
       " 'blank0296',\n",
       " 'blank0297',\n",
       " 'blank0298',\n",
       " 'blank0299',\n",
       " 'blank0300',\n",
       " 'Acer3',\n",
       " 'Actg1',\n",
       " 'Adcy2',\n",
       " 'Ahcyl2',\n",
       " 'Aldoc',\n",
       " 'Ascl1',\n",
       " 'Auts2',\n",
       " 'Bhlhe22',\n",
       " 'Bmp2',\n",
       " 'Bsg',\n",
       " 'C1qa',\n",
       " 'Calb1',\n",
       " 'Cck',\n",
       " 'Cdh12',\n",
       " 'Cdk4',\n",
       " 'Chrdl1',\n",
       " 'Cnr1',\n",
       " 'Csmd1',\n",
       " 'Cst3',\n",
       " 'Dgat2',\n",
       " 'Dlx1',\n",
       " 'Dsp',\n",
       " 'Eif4a2',\n",
       " 'Emx2',\n",
       " 'Eomes',\n",
       " 'Fam107a',\n",
       " 'Flt1',\n",
       " 'Foxa2',\n",
       " 'Foxg1',\n",
       " 'Gabbr1',\n",
       " 'Gad1',\n",
       " 'Gja1',\n",
       " 'Gpc4',\n",
       " 'Grb14',\n",
       " 'Grin2c',\n",
       " 'Hapln2',\n",
       " 'Hmgn3',\n",
       " 'Id3',\n",
       " 'Igfbpl1',\n",
       " 'Kcnd2',\n",
       " 'Lhx3',\n",
       " 'Lockd',\n",
       " 'Lrp1b',\n",
       " 'Mal',\n",
       " 'Mapk4',\n",
       " 'Mbp',\n",
       " 'Mgat4c',\n",
       " 'Mrc1',\n",
       " 'Myc',\n",
       " 'Nckap5',\n",
       " 'Neurod1',\n",
       " 'Neurod6',\n",
       " 'Nfia',\n",
       " 'Nkain4',\n",
       " 'Nog',\n",
       " 'Npy2r',\n",
       " 'Nrgn',\n",
       " 'Ntng1',\n",
       " 'Ogt',\n",
       " 'Olr1',\n",
       " 'Padi2',\n",
       " 'Pam',\n",
       " 'Pde1a',\n",
       " 'Plekha1',\n",
       " 'Pnoc',\n",
       " 'Prox1',\n",
       " 'Ptbp2',\n",
       " 'Rasl10a',\n",
       " 'Reln',\n",
       " 'Riiad1',\n",
       " 'Rpl38',\n",
       " 'S1pr3',\n",
       " 'Serping1',\n",
       " 'Sgk1',\n",
       " 'Slc1a3',\n",
       " 'Slco1c1',\n",
       " 'Sox11',\n",
       " 'Sox4',\n",
       " 'Spag5',\n",
       " 'Steap4',\n",
       " 'Tardbp',\n",
       " 'Tgfb1',\n",
       " 'Thrsp',\n",
       " 'Tmsb10',\n",
       " 'Tpt1',\n",
       " 'Tshz2',\n",
       " 'Unc13c',\n",
       " 'Vip',\n",
       " 'Wfs1',\n",
       " 'Zfp36l1',\n",
       " 'Acta2',\n",
       " 'Adarb2',\n",
       " 'Adgrl3',\n",
       " 'Aif1l',\n",
       " 'Aqp4',\n",
       " 'Atp1a2',\n",
       " 'Bcl2',\n",
       " 'Bmp4',\n",
       " 'Bsn',\n",
       " 'C1ql1',\n",
       " 'Calb2',\n",
       " 'Casp3',\n",
       " 'Cd14',\n",
       " 'Cdh13',\n",
       " 'Clasp1',\n",
       " 'Cntnap5b',\n",
       " 'Cspg4',\n",
       " 'Dcc',\n",
       " 'Dgkb',\n",
       " 'Dlx2',\n",
       " 'Efna5',\n",
       " 'Elavl2',\n",
       " 'Elavl3',\n",
       " 'Erbb4',\n",
       " 'Etv4',\n",
       " 'Fam214a',\n",
       " 'Fos',\n",
       " 'Frmd4a',\n",
       " 'Fxyd6',\n",
       " 'Fxyd7',\n",
       " 'Gabra1',\n",
       " 'Gda',\n",
       " 'Gli1',\n",
       " 'Gpm6a',\n",
       " 'Grp',\n",
       " 'Hdac8',\n",
       " 'Hopx',\n",
       " 'Hs6st3',\n",
       " 'Inpp4b',\n",
       " 'Insm1',\n",
       " 'Kif4',\n",
       " 'Lhx6',\n",
       " 'Lpar1',\n",
       " 'Lrrtm4',\n",
       " 'Marcks',\n",
       " 'Mcm2',\n",
       " 'Mertk',\n",
       " 'Mgl2',\n",
       " 'Mt2',\n",
       " 'Myf5',\n",
       " 'Ndst4',\n",
       " 'Nell1',\n",
       " 'Neurod2',\n",
       " 'Neurog1',\n",
       " 'Ngef',\n",
       " 'Nmb',\n",
       " 'Notch3',\n",
       " 'Nr3c2',\n",
       " 'Ntrk2',\n",
       " 'Olig1',\n",
       " 'Opalin',\n",
       " 'Pax6',\n",
       " 'Pdgfra',\n",
       " 'Pou3f2',\n",
       " 'Prom1',\n",
       " 'Psap',\n",
       " 'Ptgds',\n",
       " 'Rbfox3',\n",
       " 'Rest',\n",
       " 'Rtn4',\n",
       " 'Sall3',\n",
       " 'Scd2',\n",
       " 'Sema3a',\n",
       " 'Sgcd',\n",
       " 'Sin3a',\n",
       " 'Slc2a1',\n",
       " 'Slit2',\n",
       " 'Sorcs1',\n",
       " 'Sox2',\n",
       " 'Spink8',\n",
       " 'Stox2',\n",
       " 'Tac2',\n",
       " 'Tbr1',\n",
       " 'Thy1',\n",
       " 'Trim2',\n",
       " 'Unc13a',\n",
       " 'Unc5c',\n",
       " 'Vnn1',\n",
       " 'Vps13c',\n",
       " 'Wipf3',\n",
       " 'Abhd2',\n",
       " 'Actb',\n",
       " 'Adcy1',\n",
       " 'Agt',\n",
       " 'Aldh1a1',\n",
       " 'Arx',\n",
       " 'Atp1b1',\n",
       " 'Bdnf',\n",
       " 'Brinp3',\n",
       " 'Btg2',\n",
       " 'C1ql3',\n",
       " 'Casp9',\n",
       " 'Cd74',\n",
       " 'Cdh18',\n",
       " 'Cdk1',\n",
       " 'Cldn5',\n",
       " 'Cox6a1',\n",
       " 'Cspg5',\n",
       " 'Dcx',\n",
       " 'Dgkh',\n",
       " 'Dpysl3',\n",
       " 'Egfem1',\n",
       " 'Elavl4',\n",
       " 'Emx1',\n",
       " 'F3',\n",
       " 'Fam210b',\n",
       " 'Fbll1',\n",
       " 'Foxa1',\n",
       " 'Frzb',\n",
       " 'Fyn',\n",
       " 'Gabra2',\n",
       " 'Gal',\n",
       " 'Gfap',\n",
       " 'Gm10076',\n",
       " 'Gnb1',\n",
       " 'Gpr17',\n",
       " 'H2afz',\n",
       " 'Hes5',\n",
       " 'Htra1',\n",
       " 'Htt',\n",
       " 'Junb',\n",
       " 'Kcng4',\n",
       " 'Laptm5',\n",
       " 'Llgl1',\n",
       " 'Map3k15',\n",
       " 'Mast4',\n",
       " 'Mcu',\n",
       " 'Mfge8',\n",
       " 'Mki67',\n",
       " 'Mtrf1',\n",
       " 'Mxd3',\n",
       " 'Myod1',\n",
       " 'Necab3',\n",
       " 'Nes',\n",
       " 'Neurod4',\n",
       " 'Neurog2',\n",
       " 'Nkain2',\n",
       " 'Nnat',\n",
       " 'Npas3',\n",
       " 'Nrg3',\n",
       " 'Ntf3',\n",
       " 'Nxph1',\n",
       " 'Olig2',\n",
       " 'Opcml',\n",
       " 'Pde10a',\n",
       " 'Pex5l',\n",
       " 'Plxna1',\n",
       " 'Prkg1',\n",
       " 'Ptbp1',\n",
       " 'Pvalb',\n",
       " 'Rbms3',\n",
       " 'Rhcg',\n",
       " 'Robo1',\n",
       " 'S100b',\n",
       " 'Sdk1',\n",
       " 'Serpinf1',\n",
       " 'Sgcz',\n",
       " 'Slc17a6',\n",
       " 'Slc1a2',\n",
       " 'Slc5a7',\n",
       " 'Smarca4',\n",
       " 'Sox10',\n",
       " 'Sox9',\n",
       " 'Sst',\n",
       " 'Synpr',\n",
       " 'Tenm2',\n",
       " 'Tfap2c',\n",
       " 'Tmem108',\n",
       " 'Top2a',\n",
       " 'Trps1',\n",
       " 'Unc13b',\n",
       " 'Vim',\n",
       " 'Wdr17',\n",
       " 'Wnt8b',\n",
       " 'Zbtb20']"
      ]
     },
     "execution_count": 843,
     "metadata": {},
     "output_type": "execute_result"
    }
   ],
   "source": [
    "self.gns_names[290:]"
   ]
  },
  {
   "cell_type": "code",
   "execution_count": 812,
   "id": "ad9efebf",
   "metadata": {},
   "outputs": [
    {
     "data": {
      "text/plain": [
       "(3128, 36681)"
      ]
     },
     "execution_count": 812,
     "metadata": {},
     "output_type": "execute_result"
    }
   ],
   "source": [
    "len(scoresT),len(XT)"
   ]
  },
  {
   "cell_type": "code",
   "execution_count": 836,
   "id": "f2ac967f",
   "metadata": {},
   "outputs": [
    {
     "data": {
      "text/plain": [
       "[2, 5, 14, 20]"
      ]
     },
     "execution_count": 836,
     "metadata": {},
     "output_type": "execute_result"
    }
   ],
   "source": [
    "codes[icode]"
   ]
  },
  {
   "cell_type": "code",
   "execution_count": 796,
   "id": "89b64a86",
   "metadata": {},
   "outputs": [
    {
     "data": {
      "text/plain": [
       "(array([1684.68115234, 1584.24316406, 1215.78442383, 1121.23681641]),\n",
       " 1401.4863891601562)"
      ]
     },
     "execution_count": 796,
     "metadata": {},
     "output_type": "execute_result"
    }
   ],
   "source": [
    "scoresf[good][is_code][1286],np.mean(scoresf[good][is_code][1286])"
   ]
  },
  {
   "cell_type": "code",
   "execution_count": 827,
   "id": "f783c9da",
   "metadata": {},
   "outputs": [
    {
     "data": {
      "text/plain": [
       "0"
      ]
     },
     "execution_count": 827,
     "metadata": {},
     "output_type": "execute_result"
    }
   ],
   "source": [
    "icol"
   ]
  },
  {
   "cell_type": "code",
   "execution_count": 804,
   "id": "0c5b8e22",
   "metadata": {},
   "outputs": [],
   "source": []
  },
  {
   "cell_type": "code",
   "execution_count": 801,
   "id": "e8950dfa",
   "metadata": {},
   "outputs": [
    {
     "data": {
      "text/plain": [
       "[0, 9, 15, 18]"
      ]
     },
     "execution_count": 801,
     "metadata": {},
     "output_type": "execute_result"
    }
   ],
   "source": [
    "codes[icode]"
   ]
  },
  {
   "cell_type": "code",
   "execution_count": null,
   "id": "92b9ccbc",
   "metadata": {},
   "outputs": [],
   "source": []
  },
  {
   "cell_type": "code",
   "execution_count": null,
   "id": "5636f982",
   "metadata": {},
   "outputs": [],
   "source": [
    "\n"
   ]
  },
  {
   "cell_type": "code",
   "execution_count": 456,
   "id": "946ba419",
   "metadata": {},
   "outputs": [],
   "source": [
    "### compute drift based on current decoding\n",
    "def get_refined_drift_per_bit(self,resf,scoresf,icodesf,npoints = 100000,npoint=50,ncols=3):\n",
    "    drift_arr = np.zeros([nbits,3])\n",
    "    mnscores = np.mean(scoresf,axis=1)\n",
    "    mol_realign = np.argsort(mnscores)[:npoints]\n",
    "    dic_dif = {}\n",
    "    for r,icd in zip(resf[mol_realign],icodesf[mol_realign]):\n",
    "        if 'blank' not in self.gns_names[icd]:\n",
    "            r_ = np.array(r)\n",
    "            r_ = r_[r_>=0]\n",
    "            R = RS[r_]\n",
    "            X = self.XH[r_,:3]\n",
    "            for i in range(len(R)):\n",
    "                for j in range(i):\n",
    "                    key = (R[i],R[j])\n",
    "                    if key not in dic_dif: dic_dif[key]=[]\n",
    "                    dic_dif[key].append(X[i]-X[j])\n",
    "\n",
    "    dic_drift = {}\n",
    "    for icol in range(ncols):\n",
    "        dic = compute_hybe_drift(dic_dif,npoint=npoint,ncols=ncols,color=icol)\n",
    "        dic_drift.update(dic)\n",
    "    dic_drift = {e:dic_drift[e]for e in np.sort(list(dic_drift.keys()))}\n",
    "    for e in dic_drift:\n",
    "        drift_arr[e]=dic_drift[e]\n",
    "    return drift_arr"
   ]
  },
  {
   "cell_type": "code",
   "execution_count": 473,
   "id": "8f54b7f1",
   "metadata": {},
   "outputs": [
    {
     "data": {
      "text/plain": [
       "array([[58340.98046875, 58684.12109375, 59353.96875   , 59088.46875   ],\n",
       "       [58254.890625  , 57834.1171875 , 59088.171875  , 58197.1171875 ],\n",
       "       [57748.25      , 57947.25      , 58577.2265625 , 57818.0234375 ],\n",
       "       ...,\n",
       "       [  512.80102539,   510.40673828,   517.7800293 ,   502.16796875],\n",
       "       [  506.68212891,   509.44897461,   502.44995117,   523.42333984],\n",
       "       [  509.27783203,   502.19775391,   506.12548828,   513.63549805]])"
      ]
     },
     "execution_count": 473,
     "metadata": {},
     "output_type": "execute_result"
    }
   ],
   "source": [
    "scoresf"
   ]
  },
  {
   "cell_type": "code",
   "execution_count": 485,
   "id": "be81f089",
   "metadata": {},
   "outputs": [
    {
     "data": {
      "text/plain": [
       "(8763001, 48)"
      ]
     },
     "execution_count": 485,
     "metadata": {},
     "output_type": "execute_result"
    }
   ],
   "source": [
    "scores_bits.shape"
   ]
  },
  {
   "cell_type": "code",
   "execution_count": 496,
   "id": "dfabcf3b",
   "metadata": {},
   "outputs": [
    {
     "data": {
      "text/plain": [
       "array([58340.98046875, 58684.12109375, 59353.96875   , 59088.46875   ])"
      ]
     },
     "execution_count": 496,
     "metadata": {},
     "output_type": "execute_result"
    }
   ],
   "source": [
    "scoresf[0]"
   ]
  },
  {
   "cell_type": "code",
   "execution_count": 588,
   "id": "8b55e71f",
   "metadata": {},
   "outputs": [],
   "source": [
    "good_codes = np.array([ign for ign,gn in enumerate(self.gns_names) if 'blank' not in gn])\n",
    "keep_good = np.in1d(icodesf,good_codes)\n",
    "XHall = self.XH[resf][keep_good]\n",
    "Rmol = XHall[:,:,-1]\n",
    "H = XHall[:,:,-3]\n",
    "Hbits = np.array([np.percentile(H[Rmol==R],50) for R in np.arange(nbits)])\n",
    "keep_code = icodesN>=0\n",
    "icodesN_ = icodesN[keep_code]\n",
    "scores_bitsn_ = scores_bits[keep_code]\n",
    "scores_bitsn_ = np.clip(scores_bitsn_/Hbits,0,1)"
   ]
  },
  {
   "cell_type": "code",
   "execution_count": 507,
   "id": "f00bb1c4",
   "metadata": {},
   "outputs": [],
   "source": [
    "#tuple([ 0,  3, 21, 27]) in [tuple(e)for e in codes]"
   ]
  },
  {
   "cell_type": "code",
   "execution_count": 579,
   "id": "d2c5d2d4",
   "metadata": {},
   "outputs": [
    {
     "data": {
      "text/plain": [
       "array([     87,     184,     295, ..., 1134951, 1135098, 1136606],\n",
       "      dtype=int64)"
      ]
     },
     "execution_count": 579,
     "metadata": {},
     "output_type": "execute_result"
    }
   ],
   "source": [
    "np.where(icodesN_==self.gns_names.index('Igfbpl1'))[0]"
   ]
  },
  {
   "cell_type": "code",
   "execution_count": 629,
   "id": "54c5bb25",
   "metadata": {},
   "outputs": [],
   "source": [
    "best_codes = self.codes_01[icodesN_]\n",
    "on_target = np.sum(scores_bitsn_*best_codes,axis=-1)/np.sum(best_codes,axis=-1)\n",
    "off_codes = 1-best_codes\n",
    "off_target = np.sum(scores_bitsn_*off_codes,axis=-1)/np.sum(off_codes,axis=-1)"
   ]
  },
  {
   "cell_type": "code",
   "execution_count": 671,
   "id": "a00af2f5",
   "metadata": {},
   "outputs": [
    {
     "data": {
      "text/plain": [
       "(8763001, 8763001)"
      ]
     },
     "execution_count": 671,
     "metadata": {},
     "output_type": "execute_result"
    }
   ],
   "source": [
    "len(res_prunedN),len(icodesN)"
   ]
  },
  {
   "cell_type": "code",
   "execution_count": 589,
   "id": "6a5bb259",
   "metadata": {},
   "outputs": [],
   "source": [
    "keep_good_cd = np.in1d(icodesN_,good_codes)\n",
    "dist_from_code = np.mean(np.abs(scores_bitsn_-self.codes_01[icodesN_]),axis=-1)"
   ]
  },
  {
   "cell_type": "code",
   "execution_count": 674,
   "id": "10cc22ab",
   "metadata": {},
   "outputs": [
    {
     "data": {
      "text/plain": [
       "array([ True,  True,  True, ..., False, False, False])"
      ]
     },
     "execution_count": 674,
     "metadata": {},
     "output_type": "execute_result"
    }
   ],
   "source": [
    "resf = res_prunedN[keep_mols]\n",
    "icodesf = icodesN[keep_mols]\n",
    "np.all(resf>0,axis=-1)"
   ]
  },
  {
   "cell_type": "code",
   "execution_count": 689,
   "id": "3f693bd7",
   "metadata": {},
   "outputs": [
    {
     "data": {
      "image/png": "[encoded data removed]",
      "text/plain": [
       "<Figure size 640x480 with 1 Axes>"
      ]
     },
     "metadata": {},
     "output_type": "display_data"
    }
   ],
   "source": [
    "resf = res_prunedN[keep_mols]\n",
    "icodesf = icodesN[keep_mols]\n",
    "keep_pm = np.all(resf>0,axis=-1)\n",
    "icodesf=icodesf[keep_pm]\n",
    "resf=resf[keep_pm]\n",
    "\n",
    "good_codes = np.array([ign for ign,gn in enumerate(self.gns_names) if 'blank' not in gn])\n",
    "keep_good = np.in1d(icodesf,good_codes)\n",
    "XHall = self.XH[resf][keep_good]\n",
    "Rmol = XHall[:,:,-1]\n",
    "H = XHall[:,:,-3]\n",
    "Hbits = np.array([np.percentile(H[Rmol==R],50) for R in np.arange(nbits)])\n",
    "#keep_code = icodesN>=0\n",
    "#icodesN_ = icodesN[keep_code]\n",
    "icodesf = icodesN[keep_mols]\n",
    "scores_bitsn_ = scores_bits[keep_mols]\n",
    "scores_bitsn_ = np.clip(scores_bitsn_/Hbits,0,1)\n",
    "\n",
    "keep_good_cd = np.in1d(icodesf,good_codes)\n",
    "best_codes = self.codes_01[icodesf]\n",
    "\n",
    "dist_from_code = np.mean(np.abs(scores_bitsn_-best_codes),axis=-1)\n",
    "plt.figure()\n",
    "plt.hist(dist_from_code[keep_good_cd],bins=100,density=True,alpha=0.5);\n",
    "plt.hist(dist_from_code[~keep_good_cd],bins=100,density=True,alpha=0.5);\n",
    "if False:\n",
    "    on_target = np.sum(scores_bitsn_*best_codes,axis=-1)/np.sum(best_codes,axis=-1)\n",
    "    off_codes = 1-best_codes\n",
    "    off_target = np.sum(scores_bitsn_*off_codes,axis=-1)/np.sum(off_codes,axis=-1)\n",
    "    plt.figure()\n",
    "    plt.hist(off_target[keep_good_cd],bins=100,density=True,alpha=0.5);\n",
    "    plt.hist(off_target[~keep_good_cd],bins=100,density=True,alpha=0.5);\n",
    "    plt.figure()\n",
    "    plt.hist(on_target[keep_good_cd],bins=100,density=True,alpha=0.5);\n",
    "    plt.hist(on_target[~keep_good_cd],bins=100,density=True,alpha=0.5);"
   ]
  },
  {
   "cell_type": "code",
   "execution_count": 693,
   "id": "304d715a",
   "metadata": {},
   "outputs": [
    {
     "name": "stdout",
     "output_type": "stream",
     "text": [
      "742.0 59.5\n"
     ]
    },
    {
     "data": {
      "text/plain": [
       "[<matplotlib.lines.Line2D at 0x1c2bcd31760>]"
      ]
     },
     "execution_count": 693,
     "metadata": {},
     "output_type": "execute_result"
    },
    {
     "data": {
      "image/png": "[encoded data removed]",
      "text/plain": [
       "<Figure size 640x480 with 1 Axes>"
      ]
     },
     "metadata": {},
     "output_type": "display_data"
    }
   ],
   "source": [
    "th = np.percentile(dist_from_code[~keep_good_cd],5)\n",
    "np.sum(dist_from_code[keep_good_cd]<th),len(dist_from_code[keep_good_cd])\n",
    "#np.sum(dist_from_code[~keep_good_cd]<th),len(dist_from_code[~keep_good_cd])\n",
    "icds,ncts = np.unique(icodesf[dist_from_code<th],return_counts=True)\n",
    "print(np.median(ncts[np.in1d(icds,good_codes)]),np.median(ncts[~np.in1d(icds,good_codes)]))\n",
    "plt.plot(ncts,'-')"
   ]
  },
  {
   "cell_type": "code",
   "execution_count": 614,
   "id": "2f4b8957",
   "metadata": {},
   "outputs": [
    {
     "data": {
      "text/plain": [
       "(3378.0, 183.0)"
      ]
     },
     "execution_count": 614,
     "metadata": {},
     "output_type": "execute_result"
    }
   ],
   "source": []
  },
  {
   "cell_type": "code",
   "execution_count": null,
   "id": "75c8a214",
   "metadata": {},
   "outputs": [],
   "source": [
    "icds,ncts = np.unique(icodesf,return_counts=True)\n",
    "plt.semilogy(ncts,'-')"
   ]
  },
  {
   "cell_type": "code",
   "execution_count": null,
   "id": "57ff7bec",
   "metadata": {},
   "outputs": [],
   "source": []
  },
  {
   "cell_type": "code",
   "execution_count": 516,
   "id": "13b37ab6",
   "metadata": {},
   "outputs": [
    {
     "data": {
      "text/plain": [
       "((8763001, 48), (8763001,))"
      ]
     },
     "execution_count": 516,
     "metadata": {},
     "output_type": "execute_result"
    }
   ],
   "source": [
    "scores_bitsn.shape,icodesN.shape"
   ]
  },
  {
   "cell_type": "code",
   "execution_count": 518,
   "id": "02fbf15d",
   "metadata": {},
   "outputs": [
    {
     "data": {
      "text/plain": [
       "array([1, 0, 0, 1, 0, 0, 0, 0, 0, 0, 0, 0, 1, 0, 0, 0, 0, 0, 1, 0, 0, 0,\n",
       "       0, 0, 0, 0, 0, 0, 0, 0, 0, 0, 0, 0, 0, 0, 0, 0, 0, 0, 0, 0, 0, 0,\n",
       "       0, 0, 0, 0])"
      ]
     },
     "execution_count": 518,
     "metadata": {},
     "output_type": "execute_result"
    }
   ],
   "source": []
  },
  {
   "cell_type": "code",
   "execution_count": 463,
   "id": "1c3bcdfe",
   "metadata": {},
   "outputs": [],
   "source": [
    "scoresf = scores_prunedN[keep_mols]\n",
    "resf = res_prunedN[keep_mols]\n",
    "icodesf = icodesN[igood][keep_mols]"
   ]
  },
  {
   "cell_type": "code",
   "execution_count": 471,
   "id": "7b69ad56",
   "metadata": {},
   "outputs": [
    {
     "data": {
      "text/plain": [
       "[<matplotlib.lines.Line2D at 0x1c3012078e0>]"
      ]
     },
     "execution_count": 471,
     "metadata": {},
     "output_type": "execute_result"
    },
    {
     "data": {
      "image/png": "[encoded data removed]",
      "text/plain": [
       "<Figure size 640x480 with 1 Axes>"
      ]
     },
     "metadata": {},
     "output_type": "display_data"
    }
   ],
   "source": [
    "icds,ncts = np.unique(icodesf,return_counts=True)\n",
    "plt.semilogy(ncts,'-')"
   ]
  },
  {
   "cell_type": "code",
   "execution_count": null,
   "id": "1a667f0a",
   "metadata": {},
   "outputs": [],
   "source": [
    "self.X[resf]"
   ]
  },
  {
   "cell_type": "code",
   "execution_count": 461,
   "id": "86a28a92",
   "metadata": {},
   "outputs": [
    {
     "name": "stderr",
     "output_type": "stream",
     "text": [
      "C:\\Users\\BintuLab\\AppData\\Local\\Temp\\ipykernel_8744\\398209399.py:30: FutureWarning: `rcond` parameter will change to the default of machine precision times ``max(M, N)`` where M and N are the input matrix dimensions.\n",
      "To use the future default and silence this warning we advise to pass `rcond=None`, to keep using the old, explicitly pass `rcond=-1`.\n",
      "  res = np.linalg.lstsq(a,b)[0]\n"
     ]
    }
   ],
   "source": [
    "drift_arr = get_refined_drift_per_bit(self,resf,scoresf,icodesf,npoints = 100000)"
   ]
  },
  {
   "cell_type": "code",
   "execution_count": 462,
   "id": "b4da7697",
   "metadata": {},
   "outputs": [
    {
     "data": {
      "text/plain": [
       "array([[ 9158473, 12024516, 13022322, 14006353],\n",
       "       [ 8405176, 10251926, 14153924, 14832763],\n",
       "       [ 9050347, 11917322, 12947469, 13922023],\n",
       "       ...,\n",
       "       [  215869,  4208011,  5354260,  6375931],\n",
       "       [ 3878995,  8898284, 11776223, 14553825],\n",
       "       [  895479,  2057173,  7012790,  7999262]])"
      ]
     },
     "execution_count": 462,
     "metadata": {},
     "output_type": "execute_result"
    }
   ],
   "source": [
    "resf"
   ]
  },
  {
   "cell_type": "code",
   "execution_count": null,
   "id": "80d2062f",
   "metadata": {},
   "outputs": [],
   "source": []
  },
  {
   "cell_type": "code",
   "execution_count": 396,
   "id": "ce1489d5",
   "metadata": {},
   "outputs": [
    {
     "name": "stderr",
     "output_type": "stream",
     "text": [
      "C:\\Users\\BintuLab\\AppData\\Local\\Temp\\ipykernel_8744\\4208250622.py:28: FutureWarning: `rcond` parameter will change to the default of machine precision times ``max(M, N)`` where M and N are the input matrix dimensions.\n",
      "To use the future default and silence this warning we advise to pass `rcond=None`, to keep using the old, explicitly pass `rcond=-1`.\n",
      "  res = np.linalg.lstsq(a,b)[0]\n"
     ]
    },
    {
     "data": {
      "text/plain": [
       "{1: array([ 0.08791336,  0.00868208, -0.12275102]),\n",
       " 4: array([-0.16408585,  0.06442818, -0.15257464]),\n",
       " 7: array([-0.00881748, -0.03818002,  0.0158877 ]),\n",
       " 10: array([0.22705596, 0.04617315, 0.03573623]),\n",
       " 13: array([-0.20255843, -0.05612838,  0.06030312]),\n",
       " 16: array([0.02067641, 0.15478052, 0.06743058]),\n",
       " 19: array([-0.22769791, -0.08846816,  0.26405038]),\n",
       " 22: array([0.02806747, 0.05155341, 0.02852504]),\n",
       " 25: array([-5.55111512e-17,  8.32667268e-17,  2.39391840e-16]),\n",
       " 28: array([0.00410733, 0.09927529, 0.00097602]),\n",
       " 31: array([0.2056569 , 0.09170316, 0.07400148]),\n",
       " 34: array([ 0.04453348, -0.06187283,  0.14448151]),\n",
       " 37: array([0.15557457, 0.26211588, 0.14892511]),\n",
       " 40: array([0.28966189, 0.16998839, 0.03977684]),\n",
       " 43: array([-0.27551189, -0.06418398,  0.19876137]),\n",
       " 46: array([0.21831414, 0.09955491, 0.08266714])}"
      ]
     },
     "execution_count": 396,
     "metadata": {},
     "output_type": "execute_result"
    }
   ],
   "source": [
    "compute_hybe_drift(dic_dif,npoint=50,ncols=3,color=1)"
   ]
  },
  {
   "cell_type": "code",
   "execution_count": 436,
   "id": "cad25d79",
   "metadata": {},
   "outputs": [
    {
     "name": "stderr",
     "output_type": "stream",
     "text": [
      "C:\\Users\\BintuLab\\AppData\\Local\\Temp\\ipykernel_8744\\3817848431.py:30: FutureWarning: `rcond` parameter will change to the default of machine precision times ``max(M, N)`` where M and N are the input matrix dimensions.\n",
      "To use the future default and silence this warning we advise to pass `rcond=None`, to keep using the old, explicitly pass `rcond=-1`.\n",
      "  res = np.linalg.lstsq(a,b)[0]\n"
     ]
    }
   ],
   "source": []
  },
  {
   "cell_type": "code",
   "execution_count": 437,
   "id": "58563c87",
   "metadata": {},
   "outputs": [
    {
     "data": {
      "text/plain": [
       "{0: array([ 0.08009705,  0.0179869 , -0.06754207]),\n",
       " 1: array([ 0.06139969, -0.0122857 , -0.07451072]),\n",
       " 2: array([ 0.08368265,  0.03224237, -0.0909919 ]),\n",
       " 3: array([-0.09609455,  0.0441536 , -0.0777158 ]),\n",
       " 4: array([-0.10583684,  0.02355695, -0.08102224]),\n",
       " 5: array([-0.12571432,  0.07263605, -0.11880513]),\n",
       " 6: array([-0.01036425, -0.01234283,  0.04351473]),\n",
       " 7: array([-0.01273847, -0.02965515,  0.01365485]),\n",
       " 8: array([-0.00043569,  0.01768332,  0.04870253]),\n",
       " 9: array([0.22162171, 0.0263753 , 0.05918071]),\n",
       " 10: array([0.20408823, 0.013518  , 0.01900736]),\n",
       " 11: array([0.27913815, 0.06415604, 0.08370515]),\n",
       " 12: array([-0.14152912, -0.02401427,  0.09083088]),\n",
       " 13: array([-0.16504273, -0.04173065,  0.04374708]),\n",
       " 14: array([-0.18154704,  0.02041422,  0.11197338]),\n",
       " 15: array([0.01725598, 0.10954497, 0.11181589]),\n",
       " 16: array([0.00078388, 0.07365739, 0.04312835]),\n",
       " 17: array([-0.01676185,  0.16343186,  0.14684788]),\n",
       " 18: array([-0.20457098, -0.08854092,  0.32270994]),\n",
       " 19: array([-0.18139028, -0.0716488 ,  0.19966876]),\n",
       " 20: array([-0.21045075, -0.06582731,  0.53524221]),\n",
       " 21: array([0.04460176, 0.04345092, 0.05905603]),\n",
       " 22: array([0.02065742, 0.0167955 , 0.02147291]),\n",
       " 23: array([0.00845615, 0.08185834, 0.09363477]),\n",
       " 24: array([-2.91433544e-16,  2.08166817e-17,  0.00000000e+00]),\n",
       " 25: array([6.93889390e-18, 7.97972799e-17, 2.37006595e-16]),\n",
       " 26: array([-1.66533454e-16,  1.11022302e-16,  6.93889390e-18]),\n",
       " 27: array([-0.00525538,  0.07555992,  0.07349409]),\n",
       " 28: array([-0.01085908,  0.05898365,  0.00382633]),\n",
       " 29: array([-0.02145247,  0.13004818,  0.0403023 ]),\n",
       " 30: array([0.14307859, 0.044579  , 0.10202714]),\n",
       " 31: array([0.15659043, 0.04521811, 0.04334896]),\n",
       " 32: array([0.1123453 , 0.07196274, 0.11510309]),\n",
       " 33: array([0.01720173, 0.00300467, 0.1239207 ]),\n",
       " 34: array([ 0.01468399, -0.065193  ,  0.08233706]),\n",
       " 35: array([-0.02805258, -0.06881134,  0.17216932]),\n",
       " 36: array([0.14799178, 0.29520467, 0.13616964]),\n",
       " 37: array([0.11157904, 0.1727338 , 0.07594303]),\n",
       " 38: array([0.0907603 , 0.52666647, 0.19212712]),\n",
       " 39: array([0.21883649, 0.1242943 , 0.03876343]),\n",
       " 40: array([0.21402503, 0.09701759, 0.02345979]),\n",
       " 41: array([0.19824229, 0.17628368, 0.04566365]),\n",
       " 42: array([-0.37761729, -0.09008966,  0.19237275]),\n",
       " 43: array([-0.3530225 , -0.04520346,  0.1100139 ]),\n",
       " 44: array([-0.50525523, -0.10864301,  0.27987649]),\n",
       " 45: array([0.11254218, 0.08601116, 0.08021629]),\n",
       " 46: array([0.16807719, 0.05359556, 0.04542749]),\n",
       " 47: array([0.10687063, 0.11392713, 0.10988457])}"
      ]
     },
     "execution_count": 437,
     "metadata": {},
     "output_type": "execute_result"
    }
   ],
   "source": [
    "dic_drift"
   ]
  },
  {
   "cell_type": "code",
   "execution_count": 424,
   "id": "118b9eb8",
   "metadata": {},
   "outputs": [
    {
     "data": {
      "text/plain": [
       "{0: array([ 0.08009705,  0.0179869 , -0.06754207]),\n",
       " 1: array([ 0.06139969, -0.0122857 , -0.07451072]),\n",
       " 2: array([ 0.08368265,  0.03224237, -0.0909919 ]),\n",
       " 3: array([-0.09609455,  0.0441536 , -0.0777158 ]),\n",
       " 4: array([-0.10583684,  0.02355695, -0.08102224]),\n",
       " 5: array([-0.12571432,  0.07263605, -0.11880513]),\n",
       " 6: array([-0.01036425, -0.01234283,  0.04351473]),\n",
       " 7: array([-0.01273847, -0.02965515,  0.01365485]),\n",
       " 8: array([-0.00043569,  0.01768332,  0.04870253]),\n",
       " 9: array([0.22162171, 0.0263753 , 0.05918071]),\n",
       " 10: array([0.20408823, 0.013518  , 0.01900736]),\n",
       " 11: array([0.27913815, 0.06415604, 0.08370515]),\n",
       " 12: array([-0.14152912, -0.02401427,  0.09083088]),\n",
       " 13: array([-0.16504273, -0.04173065,  0.04374708]),\n",
       " 14: array([-0.18154704,  0.02041422,  0.11197338]),\n",
       " 15: array([0.01725598, 0.10954497, 0.11181589]),\n",
       " 16: array([0.00078388, 0.07365739, 0.04312835]),\n",
       " 17: array([-0.01676185,  0.16343186,  0.14684788]),\n",
       " 18: array([-0.20457098, -0.08854092,  0.32270994]),\n",
       " 19: array([-0.18139028, -0.0716488 ,  0.19966876]),\n",
       " 20: array([-0.21045075, -0.06582731,  0.53524221]),\n",
       " 21: array([0.04460176, 0.04345092, 0.05905603]),\n",
       " 22: array([0.02065742, 0.0167955 , 0.02147291]),\n",
       " 23: array([0.00845615, 0.08185834, 0.09363477]),\n",
       " 24: array([-2.91433544e-16,  2.08166817e-17,  0.00000000e+00]),\n",
       " 25: array([6.93889390e-18, 7.97972799e-17, 2.37006595e-16]),\n",
       " 26: array([-1.66533454e-16,  1.11022302e-16,  6.93889390e-18]),\n",
       " 27: array([-0.00525538,  0.07555992,  0.07349409]),\n",
       " 28: array([-0.01085908,  0.05898365,  0.00382633]),\n",
       " 29: array([-0.02145247,  0.13004818,  0.0403023 ]),\n",
       " 30: array([0.14307859, 0.044579  , 0.10202714]),\n",
       " 31: array([0.15659043, 0.04521811, 0.04334896]),\n",
       " 32: array([0.1123453 , 0.07196274, 0.11510309]),\n",
       " 33: array([0.01720173, 0.00300467, 0.1239207 ]),\n",
       " 34: array([ 0.01468399, -0.065193  ,  0.08233706]),\n",
       " 35: array([-0.02805258, -0.06881134,  0.17216932]),\n",
       " 36: array([0.14799178, 0.29520467, 0.13616964]),\n",
       " 37: array([0.11157904, 0.1727338 , 0.07594303]),\n",
       " 38: array([0.0907603 , 0.52666647, 0.19212712]),\n",
       " 39: array([0.21883649, 0.1242943 , 0.03876343]),\n",
       " 40: array([0.21402503, 0.09701759, 0.02345979]),\n",
       " 41: array([0.19824229, 0.17628368, 0.04566365]),\n",
       " 42: array([-0.37761729, -0.09008966,  0.19237275]),\n",
       " 43: array([-0.3530225 , -0.04520346,  0.1100139 ]),\n",
       " 44: array([-0.50525523, -0.10864301,  0.27987649]),\n",
       " 45: array([0.11254218, 0.08601116, 0.08021629]),\n",
       " 46: array([0.16807719, 0.05359556, 0.04542749]),\n",
       " 47: array([0.10687063, 0.11392713, 0.10988457])}"
      ]
     },
     "execution_count": 424,
     "metadata": {},
     "output_type": "execute_result"
    }
   ],
   "source": []
  },
  {
   "cell_type": "code",
   "execution_count": 429,
   "id": "7d39cceb",
   "metadata": {},
   "outputs": [],
   "source": [
    "Xs = []\n",
    "for key in dic_dif:\n",
    "    for X in dic_dif[key]:\n",
    "        Xs.append(X)\n",
    "Xs = np.array(Xs)"
   ]
  },
  {
   "cell_type": "code",
   "execution_count": 435,
   "id": "8df1b15d",
   "metadata": {},
   "outputs": [
    {
     "data": {
      "image/png": "[encoded data removed]",
      "text/plain": [
       "<Figure size 640x480 with 1 Axes>"
      ]
     },
     "metadata": {},
     "output_type": "display_data"
    }
   ],
   "source": [
    "plt.hist(Xs[:,2],bins=200);"
   ]
  },
  {
   "cell_type": "code",
   "execution_count": 421,
   "id": "fc461d47",
   "metadata": {},
   "outputs": [
    {
     "data": {
      "text/plain": [
       "array([ 0.61212586,  0.22257014, -0.16999191])"
      ]
     },
     "execution_count": 421,
     "metadata": {},
     "output_type": "execute_result"
    }
   ],
   "source": [
    "dic_drift[47]-dic_drift[44]"
   ]
  },
  {
   "cell_type": "code",
   "execution_count": 407,
   "id": "3334e2c9",
   "metadata": {},
   "outputs": [
    {
     "data": {
      "text/plain": [
       "(939951, 939951)"
      ]
     },
     "execution_count": 407,
     "metadata": {},
     "output_type": "execute_result"
    }
   ],
   "source": [
    "len(icodesf),len(keep_mols)"
   ]
  },
  {
   "cell_type": "code",
   "execution_count": 440,
   "id": "ce868a06",
   "metadata": {},
   "outputs": [],
   "source": []
  },
  {
   "cell_type": "code",
   "execution_count": 408,
   "id": "172e1582",
   "metadata": {},
   "outputs": [
    {
     "data": {
      "text/plain": [
       "array([ 0.74183133,  0.14774728, -0.11896925])"
      ]
     },
     "execution_count": 408,
     "metadata": {},
     "output_type": "execute_result"
    }
   ],
   "source": [
    "np.median(dic_dif[(47, 44)],axis=0)"
   ]
  },
  {
   "cell_type": "code",
   "execution_count": 382,
   "id": "e11fc899",
   "metadata": {},
   "outputs": [
    {
     "data": {
      "text/plain": [
       "2013"
      ]
     },
     "execution_count": 382,
     "metadata": {},
     "output_type": "execute_result"
    }
   ],
   "source": [
    "len(dic_dif[(47, 44)])"
   ]
  },
  {
   "cell_type": "code",
   "execution_count": 389,
   "id": "beaad3c1",
   "metadata": {},
   "outputs": [
    {
     "data": {
      "text/plain": [
       "360"
      ]
     },
     "execution_count": 389,
     "metadata": {},
     "output_type": "execute_result"
    }
   ],
   "source": [
    "8*15*3"
   ]
  },
  {
   "cell_type": "code",
   "execution_count": 384,
   "id": "f57c2ddb",
   "metadata": {},
   "outputs": [
    {
     "data": {
      "text/plain": [
       "219"
      ]
     },
     "execution_count": 384,
     "metadata": {},
     "output_type": "execute_result"
    }
   ],
   "source": [
    "len(dic_dif.keys())"
   ]
  },
  {
   "cell_type": "code",
   "execution_count": 71,
   "id": "52e420c3",
   "metadata": {},
   "outputs": [
    {
     "name": "stderr",
     "output_type": "stream",
     "text": [
      "100%|█████████████████████████████████████████████████████████████████████| 8763001/8763001 [01:36<00:00, 90368.40it/s]\n"
     ]
    }
   ],
   "source": [
    "visited = np.zeros(len(XH))\n",
    "scores_pruned_ = scores_pruned.copy()\n",
    "scores_pruned_[res_pruned<0]=-1000\n",
    "mean_scores = np.mean(scores_pruned_,axis=-1)\n",
    "ordered_mols = np.argsort(mean_scores)[::-1]\n",
    "keep_mols = []\n",
    "for imol in tqdm(ordered_mols):\n",
    "    r = np.array(res_pruned[imol])\n",
    "    r_ = r[r>=0]\n",
    "    if np.all(visited[r_]==0):\n",
    "        keep_mols.append(imol)\n",
    "        visited[r_]=1\n",
    "keep_mols = np.array(keep_mols)"
   ]
  },
  {
   "cell_type": "code",
   "execution_count": 78,
   "id": "43c1150b",
   "metadata": {},
   "outputs": [],
   "source": [
    "#scoresT = [sc for r,sc in zip(res_pruned,mean_scores) for r_ in r]"
   ]
  },
  {
   "cell_type": "code",
   "execution_count": 104,
   "id": "73730fc8",
   "metadata": {},
   "outputs": [],
   "source": []
  },
  {
   "cell_type": "code",
   "execution_count": 139,
   "id": "37dc77f6",
   "metadata": {},
   "outputs": [
    {
     "data": {
      "text/plain": [
       "['blank0001',\n",
       " 'blank0002',\n",
       " 'blank0003',\n",
       " 'blank0004',\n",
       " 'blank0005',\n",
       " 'blank0006',\n",
       " 'blank0007',\n",
       " 'blank0008',\n",
       " 'blank0009',\n",
       " 'blank0010',\n",
       " 'blank0011',\n",
       " 'blank0012',\n",
       " 'blank0013',\n",
       " 'blank0014',\n",
       " 'blank0015',\n",
       " 'blank0016',\n",
       " 'blank0017',\n",
       " 'blank0018',\n",
       " 'blank0019',\n",
       " 'blank0020',\n",
       " 'blank0021',\n",
       " 'blank0022',\n",
       " 'blank0023',\n",
       " 'blank0024',\n",
       " 'blank0025',\n",
       " 'blank0026',\n",
       " 'blank0027',\n",
       " 'blank0028',\n",
       " 'blank0029',\n",
       " 'blank0030',\n",
       " 'blank0031',\n",
       " 'blank0032',\n",
       " 'blank0033',\n",
       " 'blank0034',\n",
       " 'blank0035',\n",
       " 'blank0036',\n",
       " 'blank0037',\n",
       " 'blank0038',\n",
       " 'blank0039',\n",
       " 'blank0040',\n",
       " 'blank0041',\n",
       " 'blank0042',\n",
       " 'blank0043',\n",
       " 'blank0044',\n",
       " 'blank0045',\n",
       " 'blank0046',\n",
       " 'blank0047',\n",
       " 'blank0048',\n",
       " 'blank0049',\n",
       " 'blank0050',\n",
       " 'blank0051',\n",
       " 'blank0052',\n",
       " 'blank0053',\n",
       " 'blank0054',\n",
       " 'blank0055',\n",
       " 'blank0056',\n",
       " 'blank0057',\n",
       " 'blank0058',\n",
       " 'blank0059',\n",
       " 'blank0060',\n",
       " 'blank0061',\n",
       " 'blank0062',\n",
       " 'blank0063',\n",
       " 'blank0064',\n",
       " 'blank0065',\n",
       " 'blank0066',\n",
       " 'blank0067',\n",
       " 'blank0068',\n",
       " 'blank0069',\n",
       " 'blank0070',\n",
       " 'blank0071',\n",
       " 'blank0072',\n",
       " 'blank0073',\n",
       " 'blank0074',\n",
       " 'blank0075',\n",
       " 'blank0076',\n",
       " 'blank0077',\n",
       " 'blank0078',\n",
       " 'blank0079',\n",
       " 'blank0080',\n",
       " 'blank0081',\n",
       " 'blank0082',\n",
       " 'blank0083',\n",
       " 'blank0084',\n",
       " 'blank0085',\n",
       " 'blank0086',\n",
       " 'blank0087',\n",
       " 'blank0088',\n",
       " 'blank0089',\n",
       " 'blank0090',\n",
       " 'blank0091',\n",
       " 'blank0092',\n",
       " 'blank0093',\n",
       " 'blank0094',\n",
       " 'blank0095',\n",
       " 'blank0096',\n",
       " 'blank0097',\n",
       " 'blank0098',\n",
       " 'blank0099',\n",
       " 'blank0100',\n",
       " 'blank0101',\n",
       " 'blank0102',\n",
       " 'blank0103',\n",
       " 'blank0104',\n",
       " 'blank0105',\n",
       " 'blank0106',\n",
       " 'blank0107',\n",
       " 'blank0108',\n",
       " 'blank0109',\n",
       " 'blank0110',\n",
       " 'blank0111',\n",
       " 'blank0112',\n",
       " 'blank0113',\n",
       " 'blank0114',\n",
       " 'blank0115',\n",
       " 'blank0116',\n",
       " 'blank0117',\n",
       " 'blank0118',\n",
       " 'blank0119',\n",
       " 'blank0120',\n",
       " 'blank0121',\n",
       " 'blank0122',\n",
       " 'blank0123',\n",
       " 'blank0124',\n",
       " 'blank0125',\n",
       " 'blank0126',\n",
       " 'blank0127',\n",
       " 'blank0128',\n",
       " 'blank0129',\n",
       " 'blank0130',\n",
       " 'blank0131',\n",
       " 'blank0132',\n",
       " 'blank0133',\n",
       " 'blank0134',\n",
       " 'blank0135',\n",
       " 'blank0136',\n",
       " 'blank0137',\n",
       " 'blank0138',\n",
       " 'blank0139',\n",
       " 'blank0140',\n",
       " 'blank0141',\n",
       " 'blank0142',\n",
       " 'blank0143',\n",
       " 'blank0144',\n",
       " 'blank0145',\n",
       " 'blank0146',\n",
       " 'blank0147',\n",
       " 'blank0148',\n",
       " 'blank0149',\n",
       " 'blank0150',\n",
       " 'blank0151',\n",
       " 'blank0152',\n",
       " 'blank0153',\n",
       " 'blank0154',\n",
       " 'blank0155',\n",
       " 'blank0156',\n",
       " 'blank0157',\n",
       " 'blank0158',\n",
       " 'blank0159',\n",
       " 'blank0160',\n",
       " 'blank0161',\n",
       " 'blank0162',\n",
       " 'blank0163',\n",
       " 'blank0164',\n",
       " 'blank0165',\n",
       " 'blank0166',\n",
       " 'blank0167',\n",
       " 'blank0168',\n",
       " 'blank0169',\n",
       " 'blank0170',\n",
       " 'blank0171',\n",
       " 'blank0172',\n",
       " 'blank0173',\n",
       " 'blank0174',\n",
       " 'blank0175',\n",
       " 'blank0176',\n",
       " 'blank0177',\n",
       " 'blank0178',\n",
       " 'blank0179',\n",
       " 'blank0180',\n",
       " 'blank0181',\n",
       " 'blank0182',\n",
       " 'blank0183',\n",
       " 'blank0184',\n",
       " 'blank0185',\n",
       " 'blank0186',\n",
       " 'blank0187',\n",
       " 'blank0188',\n",
       " 'blank0189',\n",
       " 'blank0190',\n",
       " 'blank0191',\n",
       " 'blank0192',\n",
       " 'blank0193',\n",
       " 'blank0194',\n",
       " 'blank0195',\n",
       " 'blank0196',\n",
       " 'blank0197',\n",
       " 'blank0198',\n",
       " 'blank0199',\n",
       " 'blank0200',\n",
       " 'blank0201',\n",
       " 'blank0202',\n",
       " 'blank0203',\n",
       " 'blank0204',\n",
       " 'blank0205',\n",
       " 'blank0206',\n",
       " 'blank0207',\n",
       " 'blank0208',\n",
       " 'blank0209',\n",
       " 'blank0210',\n",
       " 'blank0211',\n",
       " 'blank0212',\n",
       " 'blank0213',\n",
       " 'blank0214',\n",
       " 'blank0215',\n",
       " 'blank0216',\n",
       " 'blank0217',\n",
       " 'blank0218',\n",
       " 'blank0219',\n",
       " 'blank0220',\n",
       " 'blank0221',\n",
       " 'blank0222',\n",
       " 'blank0223',\n",
       " 'blank0224',\n",
       " 'blank0225',\n",
       " 'blank0226',\n",
       " 'blank0227',\n",
       " 'blank0228',\n",
       " 'blank0229',\n",
       " 'blank0230',\n",
       " 'blank0231',\n",
       " 'blank0232',\n",
       " 'blank0233',\n",
       " 'blank0234',\n",
       " 'blank0235',\n",
       " 'blank0236',\n",
       " 'blank0237',\n",
       " 'blank0238',\n",
       " 'blank0239',\n",
       " 'blank0240',\n",
       " 'blank0241',\n",
       " 'blank0242',\n",
       " 'blank0243',\n",
       " 'blank0244',\n",
       " 'blank0245',\n",
       " 'blank0246',\n",
       " 'blank0247',\n",
       " 'blank0248',\n",
       " 'blank0249',\n",
       " 'blank0250',\n",
       " 'blank0251',\n",
       " 'blank0252',\n",
       " 'blank0253',\n",
       " 'blank0254',\n",
       " 'blank0255',\n",
       " 'blank0256',\n",
       " 'blank0257',\n",
       " 'blank0258',\n",
       " 'blank0259',\n",
       " 'blank0260',\n",
       " 'blank0261',\n",
       " 'blank0262',\n",
       " 'blank0263',\n",
       " 'blank0264',\n",
       " 'blank0265',\n",
       " 'blank0266',\n",
       " 'blank0267',\n",
       " 'blank0268',\n",
       " 'blank0269',\n",
       " 'blank0270',\n",
       " 'blank0271',\n",
       " 'blank0272',\n",
       " 'blank0273',\n",
       " 'blank0274',\n",
       " 'blank0275',\n",
       " 'blank0276',\n",
       " 'blank0277',\n",
       " 'blank0278',\n",
       " 'blank0279',\n",
       " 'blank0280',\n",
       " 'blank0281',\n",
       " 'blank0282',\n",
       " 'blank0283',\n",
       " 'blank0284',\n",
       " 'blank0285',\n",
       " 'blank0286',\n",
       " 'blank0287',\n",
       " 'blank0288',\n",
       " 'blank0289',\n",
       " 'blank0290',\n",
       " 'blank0291',\n",
       " 'blank0292',\n",
       " 'blank0293',\n",
       " 'blank0294',\n",
       " 'blank0295',\n",
       " 'blank0296',\n",
       " 'blank0297',\n",
       " 'blank0298',\n",
       " 'blank0299',\n",
       " 'blank0300',\n",
       " 'Acer3',\n",
       " 'Actg1',\n",
       " 'Adcy2',\n",
       " 'Ahcyl2',\n",
       " 'Aldoc',\n",
       " 'Ascl1',\n",
       " 'Auts2',\n",
       " 'Bhlhe22',\n",
       " 'Bmp2',\n",
       " 'Bsg',\n",
       " 'C1qa',\n",
       " 'Calb1',\n",
       " 'Cck',\n",
       " 'Cdh12',\n",
       " 'Cdk4',\n",
       " 'Chrdl1',\n",
       " 'Cnr1',\n",
       " 'Csmd1',\n",
       " 'Cst3',\n",
       " 'Dgat2',\n",
       " 'Dlx1',\n",
       " 'Dsp',\n",
       " 'Eif4a2',\n",
       " 'Emx2',\n",
       " 'Eomes',\n",
       " 'Fam107a',\n",
       " 'Flt1',\n",
       " 'Foxa2',\n",
       " 'Foxg1',\n",
       " 'Gabbr1',\n",
       " 'Gad1',\n",
       " 'Gja1',\n",
       " 'Gpc4',\n",
       " 'Grb14',\n",
       " 'Grin2c',\n",
       " 'Hapln2',\n",
       " 'Hmgn3',\n",
       " 'Id3',\n",
       " 'Igfbpl1',\n",
       " 'Kcnd2',\n",
       " 'Lhx3',\n",
       " 'Lockd',\n",
       " 'Lrp1b',\n",
       " 'Mal',\n",
       " 'Mapk4',\n",
       " 'Mbp',\n",
       " 'Mgat4c',\n",
       " 'Mrc1',\n",
       " 'Myc',\n",
       " 'Nckap5',\n",
       " 'Neurod1',\n",
       " 'Neurod6',\n",
       " 'Nfia',\n",
       " 'Nkain4',\n",
       " 'Nog',\n",
       " 'Npy2r',\n",
       " 'Nrgn',\n",
       " 'Ntng1',\n",
       " 'Ogt',\n",
       " 'Olr1',\n",
       " 'Padi2',\n",
       " 'Pam',\n",
       " 'Pde1a',\n",
       " 'Plekha1',\n",
       " 'Pnoc',\n",
       " 'Prox1',\n",
       " 'Ptbp2',\n",
       " 'Rasl10a',\n",
       " 'Reln',\n",
       " 'Riiad1',\n",
       " 'Rpl38',\n",
       " 'S1pr3',\n",
       " 'Serping1',\n",
       " 'Sgk1',\n",
       " 'Slc1a3',\n",
       " 'Slco1c1',\n",
       " 'Sox11',\n",
       " 'Sox4',\n",
       " 'Spag5',\n",
       " 'Steap4',\n",
       " 'Tardbp',\n",
       " 'Tgfb1',\n",
       " 'Thrsp',\n",
       " 'Tmsb10',\n",
       " 'Tpt1',\n",
       " 'Tshz2',\n",
       " 'Unc13c',\n",
       " 'Vip',\n",
       " 'Wfs1',\n",
       " 'Zfp36l1',\n",
       " 'Acta2',\n",
       " 'Adarb2',\n",
       " 'Adgrl3',\n",
       " 'Aif1l',\n",
       " 'Aqp4',\n",
       " 'Atp1a2',\n",
       " 'Bcl2',\n",
       " 'Bmp4',\n",
       " 'Bsn',\n",
       " 'C1ql1',\n",
       " 'Calb2',\n",
       " 'Casp3',\n",
       " 'Cd14',\n",
       " 'Cdh13',\n",
       " 'Clasp1',\n",
       " 'Cntnap5b',\n",
       " 'Cspg4',\n",
       " 'Dcc',\n",
       " 'Dgkb',\n",
       " 'Dlx2',\n",
       " 'Efna5',\n",
       " 'Elavl2',\n",
       " 'Elavl3',\n",
       " 'Erbb4',\n",
       " 'Etv4',\n",
       " 'Fam214a',\n",
       " 'Fos',\n",
       " 'Frmd4a',\n",
       " 'Fxyd6',\n",
       " 'Fxyd7',\n",
       " 'Gabra1',\n",
       " 'Gda',\n",
       " 'Gli1',\n",
       " 'Gpm6a',\n",
       " 'Grp',\n",
       " 'Hdac8',\n",
       " 'Hopx',\n",
       " 'Hs6st3',\n",
       " 'Inpp4b',\n",
       " 'Insm1',\n",
       " 'Kif4',\n",
       " 'Lhx6',\n",
       " 'Lpar1',\n",
       " 'Lrrtm4',\n",
       " 'Marcks',\n",
       " 'Mcm2',\n",
       " 'Mertk',\n",
       " 'Mgl2',\n",
       " 'Mt2',\n",
       " 'Myf5',\n",
       " 'Ndst4',\n",
       " 'Nell1',\n",
       " 'Neurod2',\n",
       " 'Neurog1',\n",
       " 'Ngef',\n",
       " 'Nmb',\n",
       " 'Notch3',\n",
       " 'Nr3c2',\n",
       " 'Ntrk2',\n",
       " 'Olig1',\n",
       " 'Opalin',\n",
       " 'Pax6',\n",
       " 'Pdgfra',\n",
       " 'Pou3f2',\n",
       " 'Prom1',\n",
       " 'Psap',\n",
       " 'Ptgds',\n",
       " 'Rbfox3',\n",
       " 'Rest',\n",
       " 'Rtn4',\n",
       " 'Sall3',\n",
       " 'Scd2',\n",
       " 'Sema3a',\n",
       " 'Sgcd',\n",
       " 'Sin3a',\n",
       " 'Slc2a1',\n",
       " 'Slit2',\n",
       " 'Sorcs1',\n",
       " 'Sox2',\n",
       " 'Spink8',\n",
       " 'Stox2',\n",
       " 'Tac2',\n",
       " 'Tbr1',\n",
       " 'Thy1',\n",
       " 'Trim2',\n",
       " 'Unc13a',\n",
       " 'Unc5c',\n",
       " 'Vnn1',\n",
       " 'Vps13c',\n",
       " 'Wipf3',\n",
       " 'Abhd2',\n",
       " 'Actb',\n",
       " 'Adcy1',\n",
       " 'Agt',\n",
       " 'Aldh1a1',\n",
       " 'Arx',\n",
       " 'Atp1b1',\n",
       " 'Bdnf',\n",
       " 'Brinp3',\n",
       " 'Btg2',\n",
       " 'C1ql3',\n",
       " 'Casp9',\n",
       " 'Cd74',\n",
       " 'Cdh18',\n",
       " 'Cdk1',\n",
       " 'Cldn5',\n",
       " 'Cox6a1',\n",
       " 'Cspg5',\n",
       " 'Dcx',\n",
       " 'Dgkh',\n",
       " 'Dpysl3',\n",
       " 'Egfem1',\n",
       " 'Elavl4',\n",
       " 'Emx1',\n",
       " 'F3',\n",
       " 'Fam210b',\n",
       " 'Fbll1',\n",
       " 'Foxa1',\n",
       " 'Frzb',\n",
       " 'Fyn',\n",
       " 'Gabra2',\n",
       " 'Gal',\n",
       " 'Gfap',\n",
       " 'Gm10076',\n",
       " 'Gnb1',\n",
       " 'Gpr17',\n",
       " 'H2afz',\n",
       " 'Hes5',\n",
       " 'Htra1',\n",
       " 'Htt',\n",
       " 'Junb',\n",
       " 'Kcng4',\n",
       " 'Laptm5',\n",
       " 'Llgl1',\n",
       " 'Map3k15',\n",
       " 'Mast4',\n",
       " 'Mcu',\n",
       " 'Mfge8',\n",
       " 'Mki67',\n",
       " 'Mtrf1',\n",
       " 'Mxd3',\n",
       " 'Myod1',\n",
       " 'Necab3',\n",
       " 'Nes',\n",
       " 'Neurod4',\n",
       " 'Neurog2',\n",
       " 'Nkain2',\n",
       " 'Nnat',\n",
       " 'Npas3',\n",
       " 'Nrg3',\n",
       " 'Ntf3',\n",
       " 'Nxph1',\n",
       " 'Olig2',\n",
       " 'Opcml',\n",
       " 'Pde10a',\n",
       " 'Pex5l',\n",
       " 'Plxna1',\n",
       " 'Prkg1',\n",
       " 'Ptbp1',\n",
       " 'Pvalb',\n",
       " 'Rbms3',\n",
       " 'Rhcg',\n",
       " 'Robo1',\n",
       " 'S100b',\n",
       " 'Sdk1',\n",
       " 'Serpinf1',\n",
       " 'Sgcz',\n",
       " 'Slc17a6',\n",
       " 'Slc1a2',\n",
       " 'Slc5a7',\n",
       " 'Smarca4',\n",
       " 'Sox10',\n",
       " 'Sox9',\n",
       " 'Sst',\n",
       " 'Synpr',\n",
       " 'Tenm2',\n",
       " 'Tfap2c',\n",
       " 'Tmem108',\n",
       " 'Top2a',\n",
       " 'Trps1',\n",
       " 'Unc13b',\n",
       " 'Vim',\n",
       " 'Wdr17',\n",
       " 'Wnt8b',\n",
       " 'Zbtb20']"
      ]
     },
     "execution_count": 139,
     "metadata": {},
     "output_type": "execute_result"
    }
   ],
   "source": [
    "self.gns_names"
   ]
  },
  {
   "cell_type": "code",
   "execution_count": 160,
   "id": "b848826a",
   "metadata": {},
   "outputs": [],
   "source": [
    "scoresf = scores_pruned#[keep_mols]\n",
    "resf = res_pruned#[keep_mols]\n",
    "icodesf = icodes#[keep_mols]\n",
    "isnan = resf*0.\n",
    "isnan[resf<0]=np.nan\n",
    "Xcms = np.nanmean(XH[resf][:,:,:3]+isnan[...,np.newaxis],axis=1)\n",
    "\n",
    "icode = self.gns_names.index('Igfbpl1')\n",
    "good = np.sum(resf>=0,axis=-1)>=4\n",
    "is_code = icodesf[good]==icode\n",
    "X = Xcms[good][is_code]\n",
    "scoresT = np.mean(scoresf[good][is_code],axis=-1)\n",
    "size = 1+np.clip(scoresT/np.max(scoresT),0,1)*20\n",
    "import napari\n",
    "viewer = napari.view_points(X,size=size)\n",
    "XhT = get_Xh(all_flds,fov,drifts,save_folder,icol = 0,iH = 1)"
   ]
  },
  {
   "cell_type": "code",
   "execution_count": 188,
   "id": "b95ca15d",
   "metadata": {},
   "outputs": [
    {
     "data": {
      "text/plain": [
       "<Points layer 'XT' at 0x1c716d3b790>"
      ]
     },
     "execution_count": 188,
     "metadata": {},
     "output_type": "execute_result"
    }
   ],
   "source": [
    "viewer = napari.Viewer()\n",
    "scoresf = scores_pruned[keep_mols]\n",
    "resf = res_pruned[keep_mols]\n",
    "icodesf = icodes[keep_mols]\n",
    "isnan = resf*0.\n",
    "isnan[resf<0]=np.nan\n",
    "Xcms = np.nanmean(XH[resf][:,:,:3]+isnan[...,np.newaxis],axis=1)\n",
    "\n",
    "icode = self.gns_names.index('Igfbpl1')\n",
    "good = np.sum(resf>=0,axis=-1)>=4\n",
    "is_code = icodesf[good]==icode\n",
    "#really_good = np.all(scoresf[good][is_code]>0.25,axis=1)\n",
    "X = Xcms[good][is_code]#[really_good]\n",
    "scoresT = np.mean(scoresf[good][is_code],axis=-1)\n",
    "size = 1+np.clip(scoresT/np.max(scoresT),0,1)*20\n",
    "import napari\n",
    "viewer.add_points(X,size=size,face_color='r')\n",
    "XhT = get_Xh(all_flds,fov,drifts,save_folder,icol = 0,iH = 1)\n",
    "h = XhT[:,-1]\n",
    "XT = XhT[:,:3]\n",
    "size = 1+np.clip(h/np.max(h),0,1)*20\n",
    "viewer.add_points(XT,size=size,face_color='y')"
   ]
  },
  {
   "cell_type": "code",
   "execution_count": 215,
   "id": "4dd7414a",
   "metadata": {},
   "outputs": [
    {
     "name": "stdout",
     "output_type": "stream",
     "text": [
      "[ 226853 3188509 5344503 6375503] [0.9363701  0.38860467 0.35438121 0.00743161]\n",
      "hrel [6173. 1220. 3248. 5719.]\n",
      "habs [12038.  5447.  6116. 12503.]\n",
      "[ 103351 3086289 5229893 6239970] [0.91588936 0.14569466 0.42449822 0.01148169]\n",
      "hrel [5437. 1448. 2809. 4784.]\n",
      "habs [12347.  6096.  8743. 11837.]\n",
      "[ 237541 3206602 5353763 6399147] [0.95368345 0.05627862 0.25808809 0.03490156]\n",
      "hrel [7098. 1025. 3304. 5987.]\n",
      "habs [14417.  6040.  7134. 14097.]\n",
      "[  41887 3038256 5191607 6192614] [0.93765854 0.15584369 0.54775106 0.01299277]\n",
      "hrel [6239. 1097. 2970. 4980.]\n",
      "habs [11843.  5165.  6058. 11223.]\n",
      "[  72466 3050588 5204750 6207802] [0.96570884 0.03614265 0.68613336 0.05770314]\n",
      "hrel [8032. 1252. 5100. 8376.]\n",
      "habs [13052.  4971.  8063. 13677.]\n"
     ]
    }
   ],
   "source": [
    "imol=35\n",
    "for imol in [35,61,93,39,29]:\n",
    "    print(resf[good][is_code][imol],scoresf[good][is_code][imol])\n",
    "    print(\"hrel\",np.round(self.XH[resf[good][is_code][imol]][:,-3]))\n",
    "    print(\"habs\",self.XH[resf[good][is_code][imol]][:,-5])"
   ]
  },
  {
   "cell_type": "code",
   "execution_count": 209,
   "id": "c27e6dd1",
   "metadata": {},
   "outputs": [
    {
     "data": {
      "text/plain": [
       "array([0.73869098, 0.3458337 , 0.34269595, 1.04566013])"
      ]
     },
     "execution_count": 209,
     "metadata": {},
     "output_type": "execute_result"
    }
   ],
   "source": [
    "np.linalg.norm(self.XH[resf[good][is_code][imol]][:,:3]-Xcms[good][is_code][imol],axis=-1)"
   ]
  },
  {
   "cell_type": "code",
   "execution_count": null,
   "id": "7553287b",
   "metadata": {},
   "outputs": [],
   "source": []
  },
  {
   "cell_type": "code",
   "execution_count": 173,
   "id": "f0c50781",
   "metadata": {},
   "outputs": [
    {
     "data": {
      "text/plain": [
       "array([0.94293307, 0.62346928, 0.33046134, 0.3961057 ])"
      ]
     },
     "execution_count": 173,
     "metadata": {},
     "output_type": "execute_result"
    }
   ],
   "source": [
    "scoresf[good][is_code][5]"
   ]
  },
  {
   "cell_type": "code",
   "execution_count": 158,
   "id": "b78d1a6e",
   "metadata": {},
   "outputs": [
    {
     "data": {
      "text/plain": [
       "<Points layer 'XT' at 0x1c6d7244ac0>"
      ]
     },
     "execution_count": 158,
     "metadata": {},
     "output_type": "execute_result"
    }
   ],
   "source": []
  },
  {
   "cell_type": "code",
   "execution_count": 73,
   "id": "dfabd841",
   "metadata": {},
   "outputs": [
    {
     "data": {
      "text/plain": [
       "array([ 2723066,  2723067,  2723065, ..., 25065791, 24002927, 24002925],\n",
       "      dtype=int64)"
      ]
     },
     "execution_count": 73,
     "metadata": {},
     "output_type": "execute_result"
    }
   ],
   "source": [
    "asorts = np.argsort(scoresT)"
   ]
  },
  {
   "cell_type": "code",
   "execution_count": 74,
   "id": "5735db48",
   "metadata": {},
   "outputs": [],
   "source": [
    "imols = np.zeros(len(XH))\n",
    "imols[]"
   ]
  },
  {
   "cell_type": "code",
   "execution_count": 63,
   "id": "1e1b1e3e",
   "metadata": {},
   "outputs": [
    {
     "data": {
      "text/plain": [
       "array([[0.07235368, 0.00153301, 0.        , 0.02335244],\n",
       "       [0.04180703, 0.03764141, 0.        , 0.00062008],\n",
       "       [0.05015501, 0.04875243, 0.        , 0.00185626],\n",
       "       ...,\n",
       "       [0.13064194, 0.12055154, 0.        , 0.00224743],\n",
       "       [0.        , 0.08817727, 0.25896592, 0.10772075],\n",
       "       [0.        , 0.23527359, 0.00889696, 0.00084318]])"
      ]
     },
     "execution_count": 63,
     "metadata": {},
     "output_type": "execute_result"
    }
   ],
   "source": []
  },
  {
   "cell_type": "code",
   "execution_count": 50,
   "id": "e95f9906",
   "metadata": {},
   "outputs": [
    {
     "data": {
      "text/plain": [
       "array([[ 0,  3, 18, 21],\n",
       "       [ 0,  3,  6, 15],\n",
       "       [ 0,  3, 18, 21],\n",
       "       ...,\n",
       "       [14, 17, 26, 47],\n",
       "       [ 2, 14, 38, 47],\n",
       "       [32, 38, 41, 47]], dtype=int64)"
      ]
     },
     "execution_count": 50,
     "metadata": {},
     "output_type": "execute_result"
    }
   ],
   "source": [
    "codes=np.array(codes)#[icodes]\n",
    "codes[icodes]"
   ]
  },
  {
   "cell_type": "code",
   "execution_count": 44,
   "id": "fff86d8e",
   "metadata": {},
   "outputs": [
    {
     "data": {
      "text/plain": [
       "[[0, 3, 24, 27],\n",
       " [0, 3, 30, 33],\n",
       " [0, 3, 42, 45],\n",
       " [0, 6, 30, 33],\n",
       " [0, 6, 42, 45],\n",
       " [0, 9, 30, 33],\n",
       " [0, 9, 42, 45],\n",
       " [0, 12, 27, 42],\n",
       " [0, 12, 39, 42],\n",
       " [0, 15, 27, 30],\n",
       " [0, 15, 33, 45],\n",
       " [0, 18, 24, 36],\n",
       " [0, 18, 30, 45],\n",
       " [0, 21, 24, 36],\n",
       " [0, 21, 30, 42],\n",
       " [0, 24, 27, 36],\n",
       " [0, 24, 36, 42],\n",
       " [0, 27, 36, 39],\n",
       " [0, 30, 39, 45],\n",
       " [3, 6, 24, 33],\n",
       " [3, 6, 30, 39],\n",
       " [3, 9, 24, 27],\n",
       " [3, 9, 30, 36],\n",
       " [3, 12, 18, 39],\n",
       " [3, 12, 27, 39],\n",
       " [3, 12, 36, 45],\n",
       " [3, 15, 24, 36],\n",
       " [3, 15, 30, 42],\n",
       " [3, 18, 21, 39],\n",
       " [3, 18, 27, 42],\n",
       " [3, 18, 39, 42],\n",
       " [3, 21, 27, 42],\n",
       " [3, 21, 39, 42],\n",
       " [3, 24, 33, 36],\n",
       " [3, 27, 30, 42],\n",
       " [3, 30, 33, 42],\n",
       " [3, 36, 39, 42],\n",
       " [6, 9, 27, 36],\n",
       " [6, 9, 36, 42],\n",
       " [6, 12, 24, 42],\n",
       " [6, 12, 33, 36],\n",
       " [6, 15, 21, 39],\n",
       " [6, 15, 27, 42],\n",
       " [6, 15, 39, 42],\n",
       " [6, 18, 24, 45],\n",
       " [6, 18, 33, 42],\n",
       " [6, 21, 24, 45],\n",
       " [6, 21, 33, 39],\n",
       " [6, 24, 27, 45],\n",
       " [6, 24, 39, 45],\n",
       " [6, 27, 39, 42],\n",
       " [6, 33, 36, 42],\n",
       " [9, 12, 21, 39],\n",
       " [9, 12, 27, 39],\n",
       " [9, 12, 36, 45],\n",
       " [9, 15, 24, 30],\n",
       " [9, 15, 30, 39],\n",
       " [9, 18, 21, 30],\n",
       " [9, 18, 27, 33],\n",
       " [9, 18, 36, 39],\n",
       " [9, 21, 27, 30],\n",
       " [9, 21, 33, 45],\n",
       " [9, 24, 30, 36],\n",
       " [9, 27, 30, 33],\n",
       " [9, 27, 42, 45],\n",
       " [9, 33, 39, 42],\n",
       " [12, 15, 21, 33],\n",
       " [12, 15, 27, 33],\n",
       " [12, 15, 36, 39],\n",
       " [12, 18, 24, 30],\n",
       " [12, 18, 30, 39],\n",
       " [12, 21, 24, 30],\n",
       " [12, 21, 30, 39],\n",
       " [12, 24, 27, 33],\n",
       " [12, 24, 36, 39],\n",
       " [12, 27, 33, 45],\n",
       " [12, 30, 39, 42],\n",
       " [15, 18, 21, 30],\n",
       " [15, 18, 27, 33],\n",
       " [15, 18, 36, 39],\n",
       " [15, 21, 27, 30],\n",
       " [15, 21, 33, 45],\n",
       " [15, 24, 30, 36],\n",
       " [15, 27, 30, 33],\n",
       " [15, 27, 42, 45],\n",
       " [15, 33, 39, 42],\n",
       " [18, 21, 27, 30],\n",
       " [18, 21, 33, 45],\n",
       " [18, 24, 30, 39],\n",
       " [18, 27, 30, 36],\n",
       " [18, 30, 33, 36],\n",
       " [18, 33, 39, 45],\n",
       " [21, 24, 30, 39],\n",
       " [21, 27, 30, 33],\n",
       " [21, 27, 42, 45],\n",
       " [21, 33, 39, 42],\n",
       " [24, 27, 39, 42],\n",
       " [24, 33, 39, 42],\n",
       " [27, 30, 42, 45],\n",
       " [33, 36, 42, 45],\n",
       " [1, 4, 25, 28],\n",
       " [1, 4, 31, 34],\n",
       " [1, 4, 43, 46],\n",
       " [1, 7, 28, 46],\n",
       " [1, 7, 40, 46],\n",
       " [1, 10, 28, 43],\n",
       " [1, 10, 40, 43],\n",
       " [1, 13, 28, 40],\n",
       " [1, 13, 37, 46],\n",
       " [1, 16, 28, 34],\n",
       " [1, 16, 37, 40],\n",
       " [1, 19, 28, 31],\n",
       " [1, 19, 34, 43],\n",
       " [1, 22, 25, 46],\n",
       " [1, 22, 34, 40],\n",
       " [1, 25, 28, 46],\n",
       " [1, 25, 40, 43],\n",
       " [1, 28, 37, 46],\n",
       " [1, 31, 43, 46],\n",
       " [4, 7, 25, 34],\n",
       " [4, 7, 31, 40],\n",
       " [4, 10, 22, 37],\n",
       " [4, 10, 28, 43],\n",
       " [4, 10, 37, 46],\n",
       " [4, 13, 25, 46],\n",
       " [4, 13, 34, 40],\n",
       " [4, 16, 22, 46],\n",
       " [4, 16, 28, 46],\n",
       " [4, 16, 40, 46],\n",
       " [4, 19, 25, 46],\n",
       " [4, 19, 34, 43],\n",
       " [4, 22, 25, 43],\n",
       " [4, 22, 34, 40],\n",
       " [4, 25, 28, 46],\n",
       " [4, 25, 40, 43],\n",
       " [4, 28, 37, 46],\n",
       " [4, 31, 43, 46],\n",
       " [7, 10, 25, 34],\n",
       " [7, 10, 31, 40],\n",
       " [7, 13, 25, 28],\n",
       " [7, 13, 31, 34],\n",
       " [7, 13, 43, 46],\n",
       " [7, 16, 28, 31],\n",
       " [7, 16, 34, 46],\n",
       " [7, 19, 25, 34],\n",
       " [7, 19, 31, 40],\n",
       " [7, 22, 25, 31],\n",
       " [7, 22, 31, 37],\n",
       " [7, 25, 28, 31],\n",
       " [7, 25, 34, 43],\n",
       " [7, 28, 34, 40],\n",
       " [7, 31, 37, 40],\n",
       " [7, 37, 43, 46],\n",
       " [10, 13, 28, 31],\n",
       " [10, 13, 34, 46],\n",
       " [10, 16, 25, 31],\n",
       " [10, 16, 31, 37],\n",
       " [10, 19, 22, 34],\n",
       " [10, 19, 28, 34],\n",
       " [10, 19, 37, 40],\n",
       " [10, 22, 28, 31],\n",
       " [10, 22, 34, 46],\n",
       " [10, 25, 31, 37],\n",
       " [10, 28, 31, 34],\n",
       " [10, 28, 40, 46],\n",
       " [10, 34, 37, 46],\n",
       " [13, 16, 25, 28],\n",
       " [13, 16, 31, 34],\n",
       " [13, 16, 43, 46],\n",
       " [13, 19, 28, 31],\n",
       " [13, 19, 34, 46],\n",
       " [13, 22, 25, 46],\n",
       " [13, 22, 34, 43],\n",
       " [13, 25, 28, 46],\n",
       " [13, 25, 40, 46],\n",
       " [13, 28, 37, 46],\n",
       " [13, 34, 37, 40],\n",
       " [16, 19, 22, 43],\n",
       " [16, 19, 28, 46],\n",
       " [16, 19, 40, 46],\n",
       " [16, 22, 28, 43],\n",
       " [16, 22, 40, 43],\n",
       " [16, 25, 31, 46],\n",
       " [16, 28, 31, 43],\n",
       " [16, 31, 34, 40],\n",
       " [16, 34, 43, 46],\n",
       " [19, 22, 28, 37],\n",
       " [19, 22, 37, 43],\n",
       " [19, 25, 31, 43],\n",
       " [19, 28, 31, 37],\n",
       " [19, 31, 34, 37],\n",
       " [19, 34, 40, 43],\n",
       " [22, 25, 31, 43],\n",
       " [22, 28, 31, 37],\n",
       " [22, 31, 34, 37],\n",
       " [22, 34, 40, 43],\n",
       " [25, 28, 43, 46],\n",
       " [25, 34, 40, 46],\n",
       " [28, 31, 43, 46],\n",
       " [34, 37, 40, 43],\n",
       " [2, 5, 23, 38],\n",
       " [2, 5, 29, 47],\n",
       " [2, 5, 44, 47],\n",
       " [2, 8, 29, 32],\n",
       " [2, 8, 38, 41],\n",
       " [2, 11, 23, 47],\n",
       " [2, 11, 32, 38],\n",
       " [2, 14, 20, 44],\n",
       " [2, 14, 29, 38],\n",
       " [2, 14, 38, 47],\n",
       " [2, 17, 26, 29],\n",
       " [2, 17, 32, 41],\n",
       " [2, 20, 23, 41],\n",
       " [2, 20, 29, 47],\n",
       " [2, 20, 44, 47],\n",
       " [2, 23, 32, 35],\n",
       " [2, 26, 29, 32],\n",
       " [2, 26, 38, 41],\n",
       " [2, 29, 38, 41],\n",
       " [2, 32, 41, 47],\n",
       " [5, 8, 20, 38],\n",
       " [5, 8, 29, 35],\n",
       " [5, 8, 38, 44],\n",
       " [5, 11, 20, 47],\n",
       " [5, 11, 29, 35],\n",
       " [5, 11, 38, 44],\n",
       " [5, 14, 26, 32],\n",
       " [5, 14, 32, 44],\n",
       " [5, 17, 20, 44],\n",
       " [5, 17, 29, 32],\n",
       " [5, 17, 38, 41],\n",
       " [5, 20, 26, 41],\n",
       " [5, 20, 35, 41],\n",
       " [5, 23, 26, 47],\n",
       " [5, 23, 35, 44],\n",
       " [5, 26, 32, 38],\n",
       " [5, 29, 32, 38],\n",
       " [5, 32, 35, 41],\n",
       " [5, 35, 44, 47],\n",
       " [8, 11, 20, 44],\n",
       " [8, 11, 29, 35],\n",
       " [8, 11, 38, 44],\n",
       " [8, 14, 23, 35],\n",
       " [8, 14, 29, 38],\n",
       " [8, 14, 38, 47],\n",
       " [8, 17, 26, 32],\n",
       " [8, 17, 32, 44],\n",
       " [8, 20, 23, 44],\n",
       " [8, 20, 32, 35],\n",
       " [8, 23, 26, 29],\n",
       " [8, 23, 32, 41],\n",
       " [8, 26, 29, 41],\n",
       " [8, 26, 38, 47],\n",
       " [8, 29, 38, 47],\n",
       " [8, 35, 38, 44],\n",
       " [11, 14, 20, 38],\n",
       " [11, 14, 29, 32],\n",
       " [11, 14, 35, 47],\n",
       " [11, 17, 23, 44],\n",
       " [11, 17, 32, 35],\n",
       " [11, 20, 23, 35],\n",
       " [11, 20, 29, 41],\n",
       " [11, 20, 38, 47],\n",
       " [11, 23, 29, 44],\n",
       " [11, 23, 41, 47],\n",
       " [11, 26, 35, 44],\n",
       " [11, 29, 35, 44],\n",
       " [11, 32, 38, 47],\n",
       " [14, 17, 20, 38],\n",
       " [14, 17, 26, 47],\n",
       " [14, 17, 35, 47],\n",
       " [14, 20, 26, 35],\n",
       " [14, 20, 32, 47],\n",
       " [14, 23, 26, 41],\n",
       " [14, 23, 35, 41],\n",
       " [14, 26, 32, 38],\n",
       " [14, 29, 32, 35],\n",
       " [14, 32, 35, 38],\n",
       " [14, 35, 44, 47],\n",
       " [17, 20, 26, 38],\n",
       " [17, 20, 35, 38],\n",
       " [17, 23, 26, 44],\n",
       " [17, 23, 35, 44],\n",
       " [17, 26, 32, 41],\n",
       " [17, 29, 32, 41],\n",
       " [17, 32, 35, 41],\n",
       " [17, 38, 41, 44],\n",
       " [20, 23, 29, 44],\n",
       " [20, 23, 41, 47],\n",
       " [20, 26, 35, 47],\n",
       " [20, 29, 35, 44],\n",
       " [20, 32, 41, 44],\n",
       " [23, 26, 29, 44],\n",
       " [23, 26, 41, 47],\n",
       " [23, 29, 41, 47],\n",
       " [23, 35, 38, 47],\n",
       " [26, 29, 38, 47],\n",
       " [26, 35, 38, 44],\n",
       " [29, 32, 41, 47],\n",
       " [32, 38, 41, 47],\n",
       " [3, 9, 15, 21],\n",
       " [18, 21, 24, 36],\n",
       " [0, 3, 9, 24],\n",
       " [3, 9, 15, 24],\n",
       " [6, 9, 18, 21],\n",
       " [0, 6, 9, 15],\n",
       " [30, 33, 36, 39],\n",
       " [0, 6, 15, 21],\n",
       " [0, 6, 9, 18],\n",
       " [27, 30, 33, 36],\n",
       " [0, 9, 15, 21],\n",
       " [0, 15, 18, 21],\n",
       " [27, 33, 39, 45],\n",
       " [0, 3, 6, 24],\n",
       " [3, 6, 12, 18],\n",
       " [0, 3, 6, 15],\n",
       " [27, 39, 42, 45],\n",
       " [33, 39, 42, 45],\n",
       " [27, 33, 36, 42],\n",
       " [3, 9, 12, 21],\n",
       " [0, 3, 18, 21],\n",
       " [3, 6, 9, 15],\n",
       " [33, 36, 39, 45],\n",
       " [0, 9, 12, 18],\n",
       " [3, 6, 9, 18],\n",
       " [6, 9, 12, 15],\n",
       " [0, 3, 12, 21],\n",
       " [0, 6, 12, 18],\n",
       " [3, 6, 9, 12],\n",
       " [27, 30, 33, 45],\n",
       " [24, 33, 36, 42],\n",
       " [0, 3, 15, 18],\n",
       " [6, 9, 12, 21],\n",
       " [0, 12, 15, 21],\n",
       " [3, 6, 9, 21],\n",
       " [0, 3, 9, 18],\n",
       " [6, 15, 21, 24],\n",
       " [6, 9, 12, 18],\n",
       " [0, 9, 15, 18],\n",
       " [30, 36, 42, 45],\n",
       " [0, 3, 9, 12],\n",
       " [0, 6, 12, 15],\n",
       " [30, 39, 42, 45],\n",
       " [6, 12, 15, 18],\n",
       " [3, 6, 15, 21],\n",
       " [27, 36, 39, 42],\n",
       " [24, 30, 36, 45],\n",
       " [0, 9, 12, 15],\n",
       " [3, 6, 12, 15],\n",
       " [6, 9, 15, 18],\n",
       " [0, 3, 12, 18],\n",
       " [3, 12, 15, 21],\n",
       " [3, 12, 18, 21],\n",
       " [0, 3, 15, 21],\n",
       " [0, 6, 9, 12],\n",
       " [0, 6, 12, 21],\n",
       " [30, 33, 42, 45],\n",
       " [9, 15, 21, 24],\n",
       " [12, 24, 27, 30],\n",
       " [0, 3, 6, 9],\n",
       " [0, 3, 6, 21],\n",
       " [24, 27, 30, 33],\n",
       " [24, 27, 30, 42],\n",
       " [6, 12, 15, 21],\n",
       " [3, 6, 15, 18],\n",
       " [3, 9, 12, 18],\n",
       " [6, 12, 18, 21],\n",
       " [0, 12, 15, 18],\n",
       " [9, 12, 18, 21],\n",
       " [0, 3, 9, 21],\n",
       " [24, 27, 30, 39],\n",
       " [0, 6, 15, 18],\n",
       " [0, 3, 6, 12],\n",
       " [0, 12, 18, 21],\n",
       " [3, 6, 12, 21],\n",
       " [0, 3, 12, 15],\n",
       " [3, 12, 15, 18],\n",
       " [0, 9, 18, 21],\n",
       " [24, 27, 30, 36],\n",
       " [0, 3, 9, 15],\n",
       " [9, 12, 15, 18],\n",
       " [0, 3, 6, 18],\n",
       " [3, 9, 12, 15],\n",
       " [36, 39, 42, 45],\n",
       " [24, 27, 33, 36],\n",
       " [18, 24, 27, 30],\n",
       " [0, 6, 18, 21],\n",
       " [6, 9, 21, 24],\n",
       " [3, 9, 15, 18],\n",
       " [0, 6, 9, 21],\n",
       " [1, 7, 13, 19],\n",
       " [34, 37, 43, 46],\n",
       " [31, 34, 40, 43],\n",
       " [1, 7, 10, 19],\n",
       " [1, 7, 10, 22],\n",
       " [4, 7, 16, 22],\n",
       " [4, 10, 16, 19],\n",
       " [1, 4, 7, 16],\n",
       " [1, 7, 10, 28],\n",
       " [4, 10, 13, 19],\n",
       " [10, 13, 19, 22],\n",
       " [1, 10, 13, 19],\n",
       " [4, 10, 13, 16],\n",
       " [7, 13, 16, 28],\n",
       " [1, 13, 16, 22],\n",
       " [10, 16, 19, 22],\n",
       " [1, 4, 13, 16],\n",
       " [25, 28, 31, 40],\n",
       " [25, 28, 34, 43],\n",
       " [7, 10, 13, 19],\n",
       " [7, 10, 16, 22],\n",
       " [25, 28, 37, 43],\n",
       " [28, 37, 40, 43],\n",
       " [37, 40, 43, 46],\n",
       " [1, 7, 13, 16],\n",
       " [1, 10, 13, 22],\n",
       " [1, 4, 19, 22],\n",
       " [31, 34, 37, 43],\n",
       " [22, 25, 31, 34],\n",
       " [1, 13, 19, 22],\n",
       " [25, 34, 37, 40],\n",
       " [19, 22, 25, 28],\n",
       " [1, 4, 13, 19],\n",
       " [34, 40, 43, 46],\n",
       " [1, 4, 7, 22],\n",
       " [10, 13, 16, 19],\n",
       " [1, 4, 13, 22],\n",
       " [28, 34, 37, 43],\n",
       " [1, 10, 19, 22],\n",
       " [1, 7, 10, 16],\n",
       " [1, 4, 10, 19],\n",
       " [4, 7, 10, 22],\n",
       " [1, 7, 19, 22],\n",
       " [34, 37, 40, 46],\n",
       " [25, 28, 31, 43],\n",
       " [1, 4, 7, 13],\n",
       " [1, 4, 7, 10],\n",
       " [1, 4, 10, 13],\n",
       " [1, 4, 16, 22],\n",
       " [1, 7, 10, 13],\n",
       " [4, 10, 13, 22],\n",
       " [4, 7, 19, 22],\n",
       " [1, 10, 16, 22],\n",
       " [1, 10, 13, 16],\n",
       " [7, 13, 16, 19],\n",
       " [1, 4, 10, 16],\n",
       " [4, 7, 13, 16],\n",
       " [4, 16, 19, 25],\n",
       " [25, 31, 43, 46],\n",
       " [4, 7, 13, 22],\n",
       " [1, 4, 10, 22],\n",
       " [1, 7, 16, 19],\n",
       " [1, 4, 7, 19],\n",
       " [1, 7, 16, 22],\n",
       " [4, 7, 13, 19],\n",
       " [31, 37, 40, 46],\n",
       " [10, 25, 28, 31],\n",
       " [22, 25, 28, 40],\n",
       " [4, 7, 10, 13],\n",
       " [31, 37, 43, 46],\n",
       " [7, 10, 13, 16],\n",
       " [25, 28, 31, 46],\n",
       " [1, 7, 13, 22],\n",
       " [25, 28, 31, 37],\n",
       " [4, 7, 10, 19],\n",
       " [1, 13, 16, 19],\n",
       " [7, 13, 19, 22],\n",
       " [16, 19, 25, 28],\n",
       " [4, 7, 10, 16],\n",
       " [1, 4, 16, 19],\n",
       " [4, 13, 16, 22],\n",
       " [4, 7, 16, 19],\n",
       " [4, 13, 16, 19],\n",
       " [31, 34, 40, 46],\n",
       " [28, 31, 40, 46],\n",
       " [7, 10, 13, 22],\n",
       " [25, 28, 31, 34],\n",
       " [1, 10, 16, 19],\n",
       " [7, 10, 16, 19],\n",
       " [1, 4, 13, 25],\n",
       " [2, 14, 17, 20],\n",
       " [35, 38, 41, 47],\n",
       " [11, 17, 20, 26],\n",
       " [2, 8, 14, 17],\n",
       " [2, 5, 17, 23],\n",
       " [8, 14, 17, 20],\n",
       " [38, 41, 44, 47],\n",
       " [11, 14, 17, 20],\n",
       " [11, 14, 26, 29],\n",
       " [5, 11, 14, 20],\n",
       " [8, 17, 20, 23],\n",
       " [2, 8, 14, 23],\n",
       " [5, 8, 11, 17],\n",
       " [2, 11, 17, 26],\n",
       " [2, 8, 11, 17],\n",
       " [8, 11, 14, 20],\n",
       " [32, 41, 44, 47],\n",
       " [8, 14, 20, 23],\n",
       " [8, 11, 17, 20],\n",
       " [8, 11, 14, 23],\n",
       " [5, 14, 17, 23],\n",
       " [26, 29, 32, 41],\n",
       " [17, 23, 26, 32],\n",
       " [2, 8, 11, 14],\n",
       " [2, 8, 11, 20],\n",
       " [8, 11, 14, 17],\n",
       " [5, 8, 17, 20],\n",
       " [2, 5, 8, 11],\n",
       " [2, 5, 11, 23],\n",
       " [2, 5, 14, 26],\n",
       " [23, 26, 29, 32],\n",
       " [2, 8, 11, 23],\n",
       " [2, 11, 14, 17],\n",
       " [17, 26, 29, 32],\n",
       " [29, 35, 41, 44],\n",
       " [5, 8, 14, 23],\n",
       " [23, 26, 29, 35],\n",
       " [2, 11, 17, 20],\n",
       " [2, 5, 20, 23],\n",
       " [5, 11, 17, 23],\n",
       " [2, 11, 20, 23],\n",
       " [2, 5, 11, 20],\n",
       " [5, 14, 17, 20],\n",
       " [2, 8, 20, 23],\n",
       " [2, 5, 8, 23],\n",
       " [5, 11, 20, 23],\n",
       " [5, 11, 14, 23],\n",
       " [5, 8, 14, 20],\n",
       " [2, 5, 14, 20],\n",
       " [2, 8, 14, 20],\n",
       " [2, 5, 8, 14],\n",
       " [5, 8, 14, 17],\n",
       " [5, 8, 20, 23],\n",
       " [5, 8, 11, 20],\n",
       " [2, 5, 8, 17],\n",
       " [2, 5, 8, 20],\n",
       " [32, 38, 44, 47],\n",
       " [29, 32, 38, 47],\n",
       " [26, 29, 35, 47],\n",
       " [35, 41, 44, 47],\n",
       " [2, 11, 14, 23],\n",
       " [14, 26, 29, 32],\n",
       " [5, 8, 11, 14],\n",
       " [35, 38, 41, 44],\n",
       " [29, 32, 35, 41],\n",
       " [20, 26, 29, 32],\n",
       " [2, 14, 20, 23],\n",
       " [17, 20, 23, 26],\n",
       " [2, 5, 14, 23],\n",
       " [2, 5, 8, 26],\n",
       " [8, 20, 26, 32],\n",
       " [2, 5, 11, 14],\n",
       " [29, 32, 44, 47],\n",
       " [5, 8, 11, 23],\n",
       " [5, 8, 17, 23],\n",
       " [2, 5, 17, 20],\n",
       " [26, 29, 32, 35],\n",
       " [5, 14, 20, 23],\n",
       " [26, 29, 32, 38],\n",
       " [2, 14, 17, 23],\n",
       " [8, 14, 17, 23],\n",
       " [5, 11, 14, 17],\n",
       " [2, 11, 14, 20],\n",
       " [32, 35, 38, 41],\n",
       " [8, 26, 29, 32],\n",
       " [35, 38, 44, 47],\n",
       " [2, 5, 11, 17],\n",
       " [2, 5, 11, 26],\n",
       " [2, 5, 14, 17],\n",
       " [11, 14, 20, 23],\n",
       " [2, 11, 17, 23],\n",
       " [2, 8, 17, 23],\n",
       " [5, 11, 17, 20],\n",
       " [2, 8, 17, 20],\n",
       " [29, 38, 41, 47]]"
      ]
     },
     "execution_count": 44,
     "metadata": {},
     "output_type": "execute_result"
    }
   ],
   "source": [
    "codes_01"
   ]
  },
  {
   "cell_type": "code",
   "execution_count": 37,
   "id": "be637029",
   "metadata": {},
   "outputs": [
    {
     "data": {
      "text/plain": [
       "0.06038196726824384"
      ]
     },
     "execution_count": 37,
     "metadata": {},
     "output_type": "execute_result"
    }
   ],
   "source": [
    "scores_bits[67][0]"
   ]
  },
  {
   "cell_type": "code",
   "execution_count": 38,
   "id": "ca4cbf8a",
   "metadata": {},
   "outputs": [
    {
     "data": {
      "text/plain": [
       "array([    2371,     2735,  3015094,  7166659, 10925699], dtype=int64)"
      ]
     },
     "execution_count": 38,
     "metadata": {},
     "output_type": "execute_result"
    }
   ],
   "source": [
    "res[67]"
   ]
  },
  {
   "cell_type": "code",
   "execution_count": 43,
   "id": "141a6bab",
   "metadata": {},
   "outputs": [],
   "source": [
    "#scores[edges[67]:edges[67+1]][0:2]"
   ]
  },
  {
   "cell_type": "code",
   "execution_count": null,
   "id": "7b05b619",
   "metadata": {},
   "outputs": [],
   "source": []
  }
 ],
 "metadata": {
  "kernelspec": {
   "display_name": "Python 3 (ipykernel)",
   "language": "python",
   "name": "python3"
  },
  "language_info": {
   "codemirror_mode": {
    "name": "ipython",
    "version": 3
   },
   "file_extension": ".py",
   "mimetype": "text/x-python",
   "name": "python",
   "nbconvert_exporter": "python",
   "pygments_lexer": "ipython3",
   "version": "3.8.16"
  }
 },
 "nbformat": 4,
 "nbformat_minor": 5
}
