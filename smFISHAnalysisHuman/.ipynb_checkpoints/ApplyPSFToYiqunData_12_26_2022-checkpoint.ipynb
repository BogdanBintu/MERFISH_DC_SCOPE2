{
 "cells": [
  {
   "cell_type": "code",
   "execution_count": 1,
   "id": "cb312346",
   "metadata": {},
   "outputs": [],
   "source": [
    "import napari\n",
    "import ioMicro as io\n",
    "import numpy as np\n",
    "import glob,os,sys"
   ]
  },
  {
   "cell_type": "code",
   "execution_count": 116,
   "id": "9763e744",
   "metadata": {},
   "outputs": [],
   "source": [
    "psf1 = np.load('psf_YiqunData_30-60-60.npy')"
   ]
  },
  {
   "cell_type": "code",
   "execution_count": 117,
   "id": "8bf0ae4a",
   "metadata": {},
   "outputs": [
    {
     "data": {
      "text/plain": [
       "(0.000113613685, 1.0000001, (30, 60, 60))"
      ]
     },
     "execution_count": 117,
     "metadata": {},
     "output_type": "execute_result"
    }
   ],
   "source": [
    "psf= psf1\n",
    "-np.min(psf)+np.max(psf),np.sum(psf),psf.shape"
   ]
  },
  {
   "cell_type": "code",
   "execution_count": 121,
   "id": "78344e15",
   "metadata": {},
   "outputs": [],
   "source": [
    "key = (0,1200,1200)\n",
    "fl = 'psf_Bogdan_30-60-60_'+str(list(key))+'.npy'\n",
    "psf2 = np.load(fl)"
   ]
  },
  {
   "cell_type": "code",
   "execution_count": 122,
   "id": "fc5a3ae0",
   "metadata": {},
   "outputs": [
    {
     "data": {
      "text/plain": [
       "(0.00026213427, 0.99999994, (30, 60, 60))"
      ]
     },
     "execution_count": 122,
     "metadata": {},
     "output_type": "execute_result"
    }
   ],
   "source": [
    "psf= psf2\n",
    "-np.min(psf)+np.max(psf),np.sum(psf),psf.shape"
   ]
  },
  {
   "cell_type": "code",
   "execution_count": null,
   "id": "0cae1c34",
   "metadata": {},
   "outputs": [],
   "source": [
    "import napari\n",
    "napari.view_image(psf);"
   ]
  },
  {
   "cell_type": "code",
   "execution_count": 130,
   "id": "7f1ffb21",
   "metadata": {},
   "outputs": [],
   "source": [
    "imtest = np.load('imtest.npy')\n",
    "imtest = imtest[:450,300:,300:]"
   ]
  },
  {
   "cell_type": "code",
   "execution_count": null,
   "id": "f73ccb15",
   "metadata": {},
   "outputs": [],
   "source": []
  },
  {
   "cell_type": "code",
   "execution_count": 131,
   "id": "e58264a9",
   "metadata": {},
   "outputs": [],
   "source": [
    "psf=psf2\n",
    "from pycudadecon import rl_decon, rl_init, rl_cleanup, TemporaryOTF\n",
    "with TemporaryOTF(psf, dzpsf=0.5, dxpsf=0.173, wavelength=545, na=1.05, nimm=1.405) as otf:\n",
    "    rl_init(imtest.shape, otf.path, dzdata=0.5, dzpsf=0.5, dxdata=0.173, dxpsf=0.173)\n",
    "    result=rl_decon(imtest, background=np.median(imtest[0]), n_iters=20)#,output_shape=imtest.shape)\n",
    "    rl_cleanup()"
   ]
  },
  {
   "cell_type": "code",
   "execution_count": 132,
   "id": "b6bb787a",
   "metadata": {},
   "outputs": [
    {
     "data": {
      "text/plain": [
       "<Image layer 'result' at 0x1cdd6e71950>"
      ]
     },
     "execution_count": 132,
     "metadata": {},
     "output_type": "execute_result"
    }
   ],
   "source": [
    "viewer = napari.view_image(imtest)\n",
    "viewer.add_image(result)"
   ]
  },
  {
   "cell_type": "code",
   "execution_count": null,
   "id": "f46d9003",
   "metadata": {},
   "outputs": [],
   "source": []
  },
  {
   "cell_type": "code",
   "execution_count": null,
   "id": "73391142",
   "metadata": {},
   "outputs": [],
   "source": []
  },
  {
   "cell_type": "code",
   "execution_count": null,
   "id": "d3654d2c",
   "metadata": {},
   "outputs": [],
   "source": []
  },
  {
   "cell_type": "code",
   "execution_count": 2,
   "id": "39a04cec",
   "metadata": {},
   "outputs": [],
   "source": [
    "#pickle.dump([im_PSFs,im_NPSFs],open(r'\\\\BBFISH7DC\\Raw_data\\Yiqun\\im_psfs_fovs__25x_1p5.pkl','wb'))"
   ]
  },
  {
   "cell_type": "code",
   "execution_count": 97,
   "id": "d437ff7e",
   "metadata": {},
   "outputs": [
    {
     "data": {
      "text/plain": [
       "(60, 60, 60)"
      ]
     },
     "execution_count": 97,
     "metadata": {},
     "output_type": "execute_result"
    }
   ],
   "source": [
    "import pickle\n",
    "im_PSFs,im_NPSFs = pickle.load(open(r'\\\\BBFISH7DC\\Raw_data\\Yiqun\\im_psfs_fovs__25x_1p5.pkl','rb'))\n",
    "#im_PSFs,im_NPSFs=im_PSFs[1::2],im_NPSFs[1::2]\n",
    "imNf = np.sum([imN for imP,imN in zip(im_PSFs,im_NPSFs)],axis=0)\n",
    "im_PSFf = np.sum([imP*imN/imNf for imP,imN in zip(im_PSFs,im_NPSFs)],axis=0)\n",
    "psf = im_PSFf[:-1,:-1,:-1]\n",
    "psf -=np.min(psf)\n",
    "psf = psf/np.sum(psf)\n",
    "#psf/=np.max(psf)\n",
    "psf = psf.astype(np.float32)\n",
    "psf.shape"
   ]
  },
  {
   "cell_type": "code",
   "execution_count": 96,
   "id": "40b758ff",
   "metadata": {},
   "outputs": [],
   "source": [
    "np.save('psf_YiqunData_30-60-60.npy',psf)"
   ]
  },
  {
   "cell_type": "code",
   "execution_count": 98,
   "id": "6787e694",
   "metadata": {},
   "outputs": [],
   "source": [
    "np.save('psf_YiqunData_60-60-60.npy',psf)"
   ]
  },
  {
   "cell_type": "code",
   "execution_count": 99,
   "id": "829b3cc1",
   "metadata": {},
   "outputs": [
    {
     "data": {
      "text/plain": [
       "Viewer(axes=Axes(visible=False, labels=True, colored=True, dashed=False, arrows=True), camera=Camera(center=(0.0, 29.5, 29.5), zoom=6.808333333333334, angles=(0.0, 0.0, 90.0), perspective=0.0, interactive=True), cursor=Cursor(position=(30.0, 1.0, 0.0), scaled=True, size=1, style=<CursorStyle.STANDARD: 'standard'>), dims=Dims(ndim=3, ndisplay=2, last_used=0, range=((0.0, 60.0, 1.0), (0.0, 60.0, 1.0), (0.0, 60.0, 1.0)), current_step=(30, 30, 30), order=(0, 1, 2), axis_labels=('0', '1', '2')), grid=GridCanvas(stride=1, shape=(-1, -1), enabled=False), layers=[<Image layer 'psf' at 0x1cd9b123f50>], scale_bar=ScaleBar(visible=False, colored=False, color=array([1., 0., 1., 1.], dtype=float32), ticks=True, position=<Position.BOTTOM_RIGHT: 'bottom_right'>, font_size=10.0, box=False, box_color=array([0. , 0. , 0. , 0.6], dtype=float32), unit=None), text_overlay=TextOverlay(visible=False, color=array([0.5, 0.5, 0.5, 1. ], dtype=float32), font_size=10.0, position=<TextOverlayPosition.TOP_LEFT: 'top_left'>, text=''), overlays=Overlays(interaction_box=InteractionBox(points=None, show=False, show_handle=False, show_vertices=False, selection_box_drag=None, selection_box_final=None, transform_start=<napari.utils.transforms.transforms.Affine object at 0x000001CD9B106410>, transform_drag=<napari.utils.transforms.transforms.Affine object at 0x000001CD9B12F6D0>, transform_final=<napari.utils.transforms.transforms.Affine object at 0x000001CD9B1046D0>, transform=<napari.utils.transforms.transforms.Affine object at 0x000001CD9B104A90>, allow_new_selection=True, selected_vertex=None)), help='', status='Ready', tooltip=Tooltip(visible=False, text=''), theme='dark', title='napari', mouse_over_canvas=False, mouse_move_callbacks=[<function InteractionBoxMouseBindings.initialize_mouse_events.<locals>.mouse_move at 0x000001CDA28C3D80>], mouse_drag_callbacks=[<function InteractionBoxMouseBindings.initialize_mouse_events.<locals>.mouse_drag at 0x000001CDA28C3EC0>], mouse_double_click_callbacks=[], mouse_wheel_callbacks=[<function dims_scroll at 0x000001CD84521080>], _persisted_mouse_event={}, _mouse_drag_gen={}, _mouse_wheel_gen={}, keymap={'Shift': <function InteractionBoxMouseBindings.initialize_key_events.<locals>.hold_to_lock_aspect_ratio at 0x000001CDA28C2340>, 'Control-Shift-R': <function InteractionBoxMouseBindings._reset_active_layer_affine at 0x000001CDA28C20C0>, 'Control-Shift-A': <function InteractionBoxMouseBindings._transform_active_layer at 0x000001CDA28C2020>})"
      ]
     },
     "execution_count": 99,
     "metadata": {},
     "output_type": "execute_result"
    }
   ],
   "source": [
    "napari.view_image(psf)"
   ]
  },
  {
   "cell_type": "code",
   "execution_count": null,
   "id": "3ab79a09",
   "metadata": {},
   "outputs": [],
   "source": []
  },
  {
   "cell_type": "code",
   "execution_count": 35,
   "id": "c2ab141e",
   "metadata": {},
   "outputs": [],
   "source": [
    "fls = glob.glob(r'\\\\BBFISH7DC\\Raw_data\\Yiqun\\Echinoderm_Lib1\\Lpictus_Lib1_1dpf_Nov4_2022\\Hyb2_emx1l_ets1_fgfr2-ephb3l\\*.zarr')\n",
    "im = io.read_im(fls[-1])\n",
    "im_ = np.array(im[1],dtype=np.float32)"
   ]
  },
  {
   "cell_type": "code",
   "execution_count": 55,
   "id": "0deae212",
   "metadata": {},
   "outputs": [],
   "source": [
    "imtest = im_[:,600:900,600:900]"
   ]
  },
  {
   "cell_type": "code",
   "execution_count": 38,
   "id": "a2686d0c",
   "metadata": {},
   "outputs": [
    {
     "data": {
      "text/plain": [
       "(470, 900, 900)"
      ]
     },
     "execution_count": 38,
     "metadata": {},
     "output_type": "execute_result"
    }
   ],
   "source": [
    "imtest.shape"
   ]
  },
  {
   "cell_type": "code",
   "execution_count": 39,
   "id": "f975b7a4",
   "metadata": {},
   "outputs": [],
   "source": [
    "np.save('imtest.npy',imtest)"
   ]
  },
  {
   "cell_type": "code",
   "execution_count": 51,
   "id": "8bd5ea6b",
   "metadata": {},
   "outputs": [
    {
     "data": {
      "text/plain": [
       "Viewer(axes=Axes(visible=False, labels=True, colored=True, dashed=False, arrows=True), camera=Camera(center=(0.0, 29.5, 29.5), zoom=6.808333333333334, angles=(0.0, 0.0, 90.0), perspective=0.0, interactive=True), cursor=Cursor(position=(15.0, 1.0, 0.0), scaled=True, size=1, style=<CursorStyle.STANDARD: 'standard'>), dims=Dims(ndim=3, ndisplay=2, last_used=0, range=((0.0, 30.0, 1.0), (0.0, 60.0, 1.0), (0.0, 60.0, 1.0)), current_step=(15, 30, 30), order=(0, 1, 2), axis_labels=('0', '1', '2')), grid=GridCanvas(stride=1, shape=(-1, -1), enabled=False), layers=[<Image layer 'psf' at 0x1cd950c0950>], scale_bar=ScaleBar(visible=False, colored=False, color=array([1., 0., 1., 1.], dtype=float32), ticks=True, position=<Position.BOTTOM_RIGHT: 'bottom_right'>, font_size=10.0, box=False, box_color=array([0. , 0. , 0. , 0.6], dtype=float32), unit=None), text_overlay=TextOverlay(visible=False, color=array([0.5, 0.5, 0.5, 1. ], dtype=float32), font_size=10.0, position=<TextOverlayPosition.TOP_LEFT: 'top_left'>, text=''), overlays=Overlays(interaction_box=InteractionBox(points=None, show=False, show_handle=False, show_vertices=False, selection_box_drag=None, selection_box_final=None, transform_start=<napari.utils.transforms.transforms.Affine object at 0x000001CD94CAFC90>, transform_drag=<napari.utils.transforms.transforms.Affine object at 0x000001CDA558B5D0>, transform_final=<napari.utils.transforms.transforms.Affine object at 0x000001CD94CAFD90>, transform=<napari.utils.transforms.transforms.Affine object at 0x000001CD94CAFE10>, allow_new_selection=True, selected_vertex=None)), help='', status='Ready', tooltip=Tooltip(visible=False, text=''), theme='dark', title='napari', mouse_over_canvas=False, mouse_move_callbacks=[<function InteractionBoxMouseBindings.initialize_mouse_events.<locals>.mouse_move at 0x000001CD95125800>], mouse_drag_callbacks=[<function InteractionBoxMouseBindings.initialize_mouse_events.<locals>.mouse_drag at 0x000001CD95125940>], mouse_double_click_callbacks=[], mouse_wheel_callbacks=[<function dims_scroll at 0x000001CD84521080>], _persisted_mouse_event={}, _mouse_drag_gen={}, _mouse_wheel_gen={}, keymap={'Shift': <function InteractionBoxMouseBindings.initialize_key_events.<locals>.hold_to_lock_aspect_ratio at 0x000001CD950EFC40>, 'Control-Shift-R': <function InteractionBoxMouseBindings._reset_active_layer_affine at 0x000001CD950EF600>, 'Control-Shift-A': <function InteractionBoxMouseBindings._transform_active_layer at 0x000001CD950EF6A0>})"
      ]
     },
     "execution_count": 51,
     "metadata": {},
     "output_type": "execute_result"
    }
   ],
   "source": [
    "napari.view_image(psf)"
   ]
  },
  {
   "cell_type": "code",
   "execution_count": 3,
   "id": "bb4de8b1",
   "metadata": {},
   "outputs": [],
   "source": [
    "import pickle\n",
    "dic_psf = pickle.load(open(r'Y:\\YiqunPSF\\psf_Scope2_25x-1p5_cy3_shallow_small.pkl','rb'))"
   ]
  },
  {
   "cell_type": "code",
   "execution_count": 52,
   "id": "3d9f0e59",
   "metadata": {},
   "outputs": [
    {
     "name": "stderr",
     "output_type": "stream",
     "text": [
      "C:\\Users\\Bogdan\\anaconda3\\envs\\cudadecon\\Lib\\site-packages\\numpy\\lib\\nanfunctions.py:1217: RuntimeWarning: All-NaN slice encountered\n",
      "  r, k = function_base._ureduce(a, func=_nanmedian, axis=axis, out=out,\n",
      "I:\\Shared drives\\YiqunWang_shared\\Scripts\\ioMicro.py:20: RuntimeWarning: invalid value encountered in divide\n",
      "  im_PSFf = np.nansum([dic_psf[key][igood][0]*(dic_psf[key][igood][-1]/im_Nmax) for igood in igoodfovs],axis=0)\n"
     ]
    },
    {
     "name": "stdout",
     "output_type": "stream",
     "text": [
      "0.8349514563106796\n"
     ]
    }
   ],
   "source": [
    "im_PSF = io.get_psf(dic_psf,key = (0, 900, 1200),sz_sm = 5,N=10,plt_val=False,thcor=0.92,slice_=slice(None))"
   ]
  },
  {
   "cell_type": "code",
   "execution_count": 104,
   "id": "cea0abbe",
   "metadata": {
    "scrolled": true
   },
   "outputs": [
    {
     "name": "stderr",
     "output_type": "stream",
     "text": [
      "C:\\Users\\Bogdan\\anaconda3\\envs\\cudadecon\\Lib\\site-packages\\numpy\\lib\\nanfunctions.py:1217: RuntimeWarning: All-NaN slice encountered\n",
      "  r, k = function_base._ureduce(a, func=_nanmedian, axis=axis, out=out,\n",
      "I:\\Shared drives\\YiqunWang_shared\\Scripts\\ioMicro.py:20: RuntimeWarning: invalid value encountered in divide\n",
      "  im_PSFf = np.nansum([dic_psf[key][igood][0]*(dic_psf[key][igood][-1]/im_Nmax) for igood in igoodfovs],axis=0)\n"
     ]
    },
    {
     "name": "stdout",
     "output_type": "stream",
     "text": [
      "0.7038834951456311\n",
      "0.7621359223300971\n",
      "0.8058252427184466\n",
      "0.8155339805825242\n",
      "0.8155339805825242\n",
      "0.7815533980582524\n",
      "0.7718446601941747\n",
      "0.7718446601941747\n",
      "0.7427184466019418\n",
      "0.6796116504854369\n",
      "0.7524271844660194\n",
      "0.7766990291262136\n",
      "0.8398058252427184\n",
      "0.8252427184466019\n",
      "0.7961165048543689\n",
      "0.8203883495145631\n",
      "0.8058252427184466\n",
      "0.7475728155339806\n",
      "0.7766990291262136\n",
      "0.7330097087378641\n",
      "0.7864077669902912\n",
      "0.7912621359223301\n",
      "0.8252427184466019\n",
      "0.8155339805825242\n",
      "0.8203883495145631\n",
      "0.8398058252427184\n",
      "0.8106796116504854\n",
      "0.7961165048543689\n",
      "0.7718446601941747\n",
      "0.7621359223300971\n",
      "0.7766990291262136\n",
      "0.7815533980582524\n",
      "0.8058252427184466\n",
      "0.8349514563106796\n",
      "0.8349514563106796\n",
      "0.8398058252427184\n",
      "0.8058252427184466\n",
      "0.8155339805825242\n",
      "0.7766990291262136\n",
      "0.7766990291262136\n",
      "0.8058252427184466\n",
      "0.8203883495145631\n",
      "0.8155339805825242\n",
      "0.8495145631067961\n",
      "0.8300970873786407\n",
      "0.8495145631067961\n",
      "0.8252427184466019\n",
      "0.8106796116504854\n",
      "0.7912621359223301\n",
      "0.7864077669902912\n",
      "0.8203883495145631\n",
      "0.8349514563106796\n",
      "0.8640776699029126\n",
      "0.8543689320388349\n",
      "0.8640776699029126\n",
      "0.8446601941747572\n",
      "0.8300970873786407\n",
      "0.8349514563106796\n",
      "0.7912621359223301\n",
      "0.7718446601941747\n",
      "0.8300970873786407\n",
      "0.8106796116504854\n",
      "0.8446601941747572\n",
      "0.8495145631067961\n",
      "0.8495145631067961\n",
      "0.8300970873786407\n",
      "0.8349514563106796\n",
      "0.8203883495145631\n",
      "0.8058252427184466\n",
      "0.7864077669902912\n",
      "0.8155339805825242\n",
      "0.8446601941747572\n",
      "0.8009708737864077\n",
      "0.8349514563106796\n",
      "0.8252427184466019\n",
      "0.8349514563106796\n",
      "0.8106796116504854\n",
      "0.8058252427184466\n",
      "0.8009708737864077\n",
      "0.8009708737864077\n",
      "0.8106796116504854\n",
      "0.8203883495145631\n",
      "0.8203883495145631\n",
      "0.8543689320388349\n",
      "0.8252427184466019\n",
      "0.8446601941747572\n",
      "0.8058252427184466\n",
      "0.8058252427184466\n",
      "0.7815533980582524\n",
      "0.7815533980582524\n",
      "0.7233009708737864\n",
      "0.7912621359223301\n",
      "0.8106796116504854\n",
      "0.8155339805825242\n",
      "0.8543689320388349\n",
      "0.8300970873786407\n",
      "0.8106796116504854\n",
      "0.8106796116504854\n",
      "0.7815533980582524\n",
      "0.7330097087378641\n"
     ]
    }
   ],
   "source": [
    "for key in dic_psf.keys():\n",
    "    im_PSF = io.get_psf(dic_psf,key = key,sz_sm = 5,N=10,plt_val=False,thcor=0.92,slice_=slice(None))\n",
    "    name_file = 'psf_Bogdan_30-60-60_'+str(list(key))+'.npy'\n",
    "    data = im_PSF\n",
    "    psf = data[15:-16,1:,1:]\n",
    "    psf -= np.min(psf)\n",
    "    psf/=np.sum(psf)\n",
    "    psf = psf.astype(np.float32)\n",
    "    np.save(name_file,psf)"
   ]
  },
  {
   "cell_type": "code",
   "execution_count": null,
   "id": "a8c55de7",
   "metadata": {},
   "outputs": [],
   "source": [
    "data = im_PSF\n",
    "psf = data[15:-16,1:,1:]\n",
    "psf -= np.min(psf)\n",
    "psf/=np.sum(psf)\n",
    "psf = psf.astype(np.float32)"
   ]
  },
  {
   "cell_type": "code",
   "execution_count": 6,
   "id": "067f2a99",
   "metadata": {},
   "outputs": [],
   "source": [
    "from pycudadecon import rl_decon, rl_init, rl_cleanup, TemporaryOTF"
   ]
  },
  {
   "cell_type": "code",
   "execution_count": 7,
   "id": "99c4613a",
   "metadata": {},
   "outputs": [],
   "source": [
    "rl_cleanup()"
   ]
  },
  {
   "cell_type": "code",
   "execution_count": 8,
   "id": "2cefa399",
   "metadata": {},
   "outputs": [],
   "source": [
    "imtest = np.load('imtest.npy')"
   ]
  },
  {
   "cell_type": "code",
   "execution_count": 87,
   "id": "ac772eea",
   "metadata": {},
   "outputs": [
    {
     "data": {
      "text/plain": [
       "(30, 60, 60)"
      ]
     },
     "execution_count": 87,
     "metadata": {},
     "output_type": "execute_result"
    }
   ],
   "source": [
    "psf.shape"
   ]
  },
  {
   "cell_type": "code",
   "execution_count": 13,
   "id": "986dad2f",
   "metadata": {},
   "outputs": [],
   "source": [
    "from pycudadecon import decon"
   ]
  },
  {
   "cell_type": "code",
   "execution_count": 26,
   "id": "1df52f71",
   "metadata": {},
   "outputs": [
    {
     "data": {
      "text/plain": [
       "0.0"
      ]
     },
     "execution_count": 26,
     "metadata": {},
     "output_type": "execute_result"
    }
   ],
   "source": [
    "np.min(psf)"
   ]
  },
  {
   "cell_type": "code",
   "execution_count": 70,
   "id": "da7486b6",
   "metadata": {},
   "outputs": [],
   "source": [
    "data = im_PSF\n",
    "psf = data[10:-11,1:,1:]\n",
    "psf -= np.min(psf)\n",
    "psf/=np.sum(psf)\n",
    "psf = psf.astype(np.float32)"
   ]
  },
  {
   "cell_type": "code",
   "execution_count": 89,
   "id": "9aed6e1d",
   "metadata": {},
   "outputs": [
    {
     "ename": "OSError",
     "evalue": "[WinError -529697949] Windows Error 0xe06d7363",
     "output_type": "error",
     "traceback": [
      "\u001b[1;31m---------------------------------------------------------------------------\u001b[0m",
      "\u001b[1;31mOSError\u001b[0m                                   Traceback (most recent call last)",
      "Cell \u001b[1;32mIn[89], line 1\u001b[0m\n\u001b[1;32m----> 1\u001b[0m result3 \u001b[38;5;241m=\u001b[39m \u001b[43mdecon\u001b[49m\u001b[43m(\u001b[49m\u001b[43mimtest\u001b[49m\u001b[43m,\u001b[49m\u001b[43mpsf\u001b[49m\u001b[43m)\u001b[49m\n",
      "File \u001b[1;32m~\\anaconda3\\envs\\cudadecon\\Lib\\site-packages\\pycudadecon\\deconvolution.py:402\u001b[0m, in \u001b[0;36mdecon\u001b[1;34m(images, psf, fpattern, **kwargs)\u001b[0m\n\u001b[0;32m    399\u001b[0m \u001b[38;5;28;01mwith\u001b[39;00m RLContext(shp, otf\u001b[38;5;241m.\u001b[39mpath, \u001b[38;5;241m*\u001b[39m\u001b[38;5;241m*\u001b[39minit_kwargs) \u001b[38;5;28;01mas\u001b[39;00m ctx:  \u001b[38;5;66;03m# type: ignore\u001b[39;00m\n\u001b[0;32m    400\u001b[0m     \u001b[38;5;28;01mwhile\u001b[39;00m \u001b[38;5;28;01mTrue\u001b[39;00m:\n\u001b[0;32m    401\u001b[0m         out\u001b[38;5;241m.\u001b[39mappend(\n\u001b[1;32m--> 402\u001b[0m             \u001b[43mrl_decon\u001b[49m\u001b[43m(\u001b[49m\u001b[43mnext_im\u001b[49m\u001b[43m,\u001b[49m\u001b[43m \u001b[49m\u001b[43moutput_shape\u001b[49m\u001b[38;5;241;43m=\u001b[39;49m\u001b[43mctx\u001b[49m\u001b[38;5;241;43m.\u001b[39;49m\u001b[43mout_shape\u001b[49m\u001b[43m,\u001b[49m\u001b[43m \u001b[49m\u001b[38;5;241;43m*\u001b[39;49m\u001b[38;5;241;43m*\u001b[39;49m\u001b[43mdecon_kwargs\u001b[49m\u001b[43m)\u001b[49m\n\u001b[0;32m    403\u001b[0m         )\n\u001b[0;32m    404\u001b[0m         \u001b[38;5;28;01mtry\u001b[39;00m:\n\u001b[0;32m    405\u001b[0m             next_im \u001b[38;5;241m=\u001b[39m \u001b[38;5;28mnext\u001b[39m(arraygen)\n",
      "File \u001b[1;32m~\\anaconda3\\envs\\cudadecon\\Lib\\site-packages\\pycudadecon\\deconvolution.py:194\u001b[0m, in \u001b[0;36mrl_decon\u001b[1;34m(im, background, n_iters, shift, save_deskewed, output_shape, napodize, nz_blend, pad_val, dup_rev_z, skewed_decon)\u001b[0m\n\u001b[0;32m    191\u001b[0m \u001b[38;5;28;01mif\u001b[39;00m lib\u001b[38;5;241m.\u001b[39mlib\u001b[38;5;241m.\u001b[39mversion \u001b[38;5;241m>\u001b[39m\u001b[38;5;241m=\u001b[39m (\u001b[38;5;241m0\u001b[39m, \u001b[38;5;241m6\u001b[39m):\n\u001b[0;32m    192\u001b[0m     args \u001b[38;5;241m+\u001b[39m\u001b[38;5;241m=\u001b[39m [skewed_decon]\n\u001b[1;32m--> 194\u001b[0m \u001b[43mlib\u001b[49m\u001b[38;5;241;43m.\u001b[39;49m\u001b[43mRL_interface\u001b[49m\u001b[43m(\u001b[49m\u001b[38;5;241;43m*\u001b[39;49m\u001b[43margs\u001b[49m\u001b[43m)\u001b[49m\n\u001b[0;32m    196\u001b[0m \u001b[38;5;28;01mif\u001b[39;00m save_deskewed:\n\u001b[0;32m    197\u001b[0m     \u001b[38;5;28;01mreturn\u001b[39;00m decon_result, deskew_result\n",
      "File \u001b[1;32m~\\anaconda3\\envs\\cudadecon\\Lib\\site-packages\\pycudadecon\\_ctyped.py:74\u001b[0m, in \u001b[0;36mLibrary.function.<locals>.CTypesFunction.__call__\u001b[1;34m(self, *args, **kw)\u001b[0m\n\u001b[0;32m     73\u001b[0m \u001b[38;5;28;01mdef\u001b[39;00m \u001b[38;5;21m__call__\u001b[39m(\u001b[38;5;28mself\u001b[39m, \u001b[38;5;241m*\u001b[39margs, \u001b[38;5;241m*\u001b[39m\u001b[38;5;241m*\u001b[39mkw):\n\u001b[1;32m---> 74\u001b[0m     \u001b[38;5;28;01mreturn\u001b[39;00m \u001b[38;5;28;43mself\u001b[39;49m\u001b[38;5;241;43m.\u001b[39;49m\u001b[43m_func\u001b[49m\u001b[43m(\u001b[49m\u001b[38;5;241;43m*\u001b[39;49m\u001b[43margs\u001b[49m\u001b[43m,\u001b[49m\u001b[43m \u001b[49m\u001b[38;5;241;43m*\u001b[39;49m\u001b[38;5;241;43m*\u001b[39;49m\u001b[43mkw\u001b[49m\u001b[43m)\u001b[49m\n",
      "\u001b[1;31mOSError\u001b[0m: [WinError -529697949] Windows Error 0xe06d7363"
     ]
    }
   ],
   "source": [
    "result3 = decon(imtest,psf)"
   ]
  },
  {
   "cell_type": "code",
   "execution_count": 54,
   "id": "364885d1",
   "metadata": {},
   "outputs": [
    {
     "data": {
      "text/plain": [
       "Viewer(axes=Axes(visible=False, labels=True, colored=True, dashed=False, arrows=True), camera=Camera(center=(0.0, 29.5, 29.5), zoom=6.808333333333334, angles=(0.0, 0.0, 90.0), perspective=0.0, interactive=True), cursor=Cursor(position=(15.0, 1.0, 0.0), scaled=True, size=1, style=<CursorStyle.STANDARD: 'standard'>), dims=Dims(ndim=3, ndisplay=2, last_used=0, range=((0.0, 30.0, 1.0), (0.0, 60.0, 1.0), (0.0, 60.0, 1.0)), current_step=(15, 30, 30), order=(0, 1, 2), axis_labels=('0', '1', '2')), grid=GridCanvas(stride=1, shape=(-1, -1), enabled=False), layers=[<Image layer 'psf' at 0x1cd95d22710>], scale_bar=ScaleBar(visible=False, colored=False, color=array([1., 0., 1., 1.], dtype=float32), ticks=True, position=<Position.BOTTOM_RIGHT: 'bottom_right'>, font_size=10.0, box=False, box_color=array([0. , 0. , 0. , 0.6], dtype=float32), unit=None), text_overlay=TextOverlay(visible=False, color=array([0.5, 0.5, 0.5, 1. ], dtype=float32), font_size=10.0, position=<TextOverlayPosition.TOP_LEFT: 'top_left'>, text=''), overlays=Overlays(interaction_box=InteractionBox(points=None, show=False, show_handle=False, show_vertices=False, selection_box_drag=None, selection_box_final=None, transform_start=<napari.utils.transforms.transforms.Affine object at 0x000001CD951DF610>, transform_drag=<napari.utils.transforms.transforms.Affine object at 0x000001CD951535D0>, transform_final=<napari.utils.transforms.transforms.Affine object at 0x000001CD951DC510>, transform=<napari.utils.transforms.transforms.Affine object at 0x000001CD951DD510>, allow_new_selection=True, selected_vertex=None)), help='', status='Ready', tooltip=Tooltip(visible=False, text=''), theme='dark', title='napari', mouse_over_canvas=False, mouse_move_callbacks=[<function InteractionBoxMouseBindings.initialize_mouse_events.<locals>.mouse_move at 0x000001CDA56B4FE0>], mouse_drag_callbacks=[<function InteractionBoxMouseBindings.initialize_mouse_events.<locals>.mouse_drag at 0x000001CDA56B5120>], mouse_double_click_callbacks=[], mouse_wheel_callbacks=[<function dims_scroll at 0x000001CD84521080>], _persisted_mouse_event={}, _mouse_drag_gen={}, _mouse_wheel_gen={}, keymap={'Shift': <function InteractionBoxMouseBindings.initialize_key_events.<locals>.hold_to_lock_aspect_ratio at 0x000001CDA5676200>, 'Control-Shift-R': <function InteractionBoxMouseBindings._reset_active_layer_affine at 0x000001CDA5675EE0>, 'Control-Shift-A': <function InteractionBoxMouseBindings._transform_active_layer at 0x000001CDA5675F80>})"
      ]
     },
     "execution_count": 54,
     "metadata": {},
     "output_type": "execute_result"
    }
   ],
   "source": [
    "napari.view_image(psf)"
   ]
  },
  {
   "cell_type": "code",
   "execution_count": 91,
   "id": "1990f517",
   "metadata": {},
   "outputs": [],
   "source": [
    "rl_cleanup()"
   ]
  },
  {
   "cell_type": "code",
   "execution_count": 62,
   "id": "8d0a8ff2",
   "metadata": {},
   "outputs": [],
   "source": [
    "psf = psf.swapaxes(0,-1)\n",
    "imtest = imtest.swapaxes(0,-1)"
   ]
  },
  {
   "cell_type": "code",
   "execution_count": 72,
   "id": "3cdea0a2",
   "metadata": {},
   "outputs": [],
   "source": [
    "psf = psf.swapaxes(0,-1)"
   ]
  },
  {
   "cell_type": "code",
   "execution_count": 94,
   "id": "8e586762",
   "metadata": {},
   "outputs": [
    {
     "ename": "OSError",
     "evalue": "[WinError -529697949] Windows Error 0xe06d7363",
     "output_type": "error",
     "traceback": [
      "\u001b[1;31m---------------------------------------------------------------------------\u001b[0m",
      "\u001b[1;31mOSError\u001b[0m                                   Traceback (most recent call last)",
      "Cell \u001b[1;32mIn[94], line 4\u001b[0m\n\u001b[0;32m      2\u001b[0m \u001b[38;5;28;01mwith\u001b[39;00m TemporaryOTF(psf, dzpsf\u001b[38;5;241m=\u001b[39m\u001b[38;5;241m0.5\u001b[39m, dxpsf\u001b[38;5;241m=\u001b[39m\u001b[38;5;241m0.173\u001b[39m, wavelength\u001b[38;5;241m=\u001b[39m\u001b[38;5;241m545\u001b[39m, na\u001b[38;5;241m=\u001b[39m\u001b[38;5;241m1.05\u001b[39m, nimm\u001b[38;5;241m=\u001b[39m\u001b[38;5;241m1.405\u001b[39m) \u001b[38;5;28;01mas\u001b[39;00m otf:\n\u001b[0;32m      3\u001b[0m     rl_init(imtest\u001b[38;5;241m.\u001b[39mshape, otf\u001b[38;5;241m.\u001b[39mpath, dzdata\u001b[38;5;241m=\u001b[39m\u001b[38;5;241m0.5\u001b[39m, dzpsf\u001b[38;5;241m=\u001b[39m\u001b[38;5;241m0.5\u001b[39m, dxdata\u001b[38;5;241m=\u001b[39m\u001b[38;5;241m0.173\u001b[39m, dxpsf\u001b[38;5;241m=\u001b[39m\u001b[38;5;241m0.173\u001b[39m)\n\u001b[1;32m----> 4\u001b[0m     result\u001b[38;5;241m=\u001b[39m\u001b[43mrl_decon\u001b[49m\u001b[43m(\u001b[49m\u001b[43mimtest\u001b[49m\u001b[43m,\u001b[49m\u001b[43m \u001b[49m\u001b[43mbackground\u001b[49m\u001b[38;5;241;43m=\u001b[39;49m\u001b[43mnp\u001b[49m\u001b[38;5;241;43m.\u001b[39;49m\u001b[43mmedian\u001b[49m\u001b[43m(\u001b[49m\u001b[43mimtest\u001b[49m\u001b[43m[\u001b[49m\u001b[38;5;241;43m0\u001b[39;49m\u001b[43m]\u001b[49m\u001b[43m)\u001b[49m\u001b[43m,\u001b[49m\u001b[43m \u001b[49m\u001b[43mn_iters\u001b[49m\u001b[38;5;241;43m=\u001b[39;49m\u001b[38;5;241;43m20\u001b[39;49m\u001b[43m)\u001b[49m\u001b[38;5;66;03m#,output_shape=imtest.shape)\u001b[39;00m\n\u001b[0;32m      5\u001b[0m     rl_cleanup()\n",
      "File \u001b[1;32m~\\anaconda3\\envs\\cudadecon\\Lib\\site-packages\\pycudadecon\\deconvolution.py:194\u001b[0m, in \u001b[0;36mrl_decon\u001b[1;34m(im, background, n_iters, shift, save_deskewed, output_shape, napodize, nz_blend, pad_val, dup_rev_z, skewed_decon)\u001b[0m\n\u001b[0;32m    191\u001b[0m \u001b[38;5;28;01mif\u001b[39;00m lib\u001b[38;5;241m.\u001b[39mlib\u001b[38;5;241m.\u001b[39mversion \u001b[38;5;241m>\u001b[39m\u001b[38;5;241m=\u001b[39m (\u001b[38;5;241m0\u001b[39m, \u001b[38;5;241m6\u001b[39m):\n\u001b[0;32m    192\u001b[0m     args \u001b[38;5;241m+\u001b[39m\u001b[38;5;241m=\u001b[39m [skewed_decon]\n\u001b[1;32m--> 194\u001b[0m \u001b[43mlib\u001b[49m\u001b[38;5;241;43m.\u001b[39;49m\u001b[43mRL_interface\u001b[49m\u001b[43m(\u001b[49m\u001b[38;5;241;43m*\u001b[39;49m\u001b[43margs\u001b[49m\u001b[43m)\u001b[49m\n\u001b[0;32m    196\u001b[0m \u001b[38;5;28;01mif\u001b[39;00m save_deskewed:\n\u001b[0;32m    197\u001b[0m     \u001b[38;5;28;01mreturn\u001b[39;00m decon_result, deskew_result\n",
      "File \u001b[1;32m~\\anaconda3\\envs\\cudadecon\\Lib\\site-packages\\pycudadecon\\_ctyped.py:74\u001b[0m, in \u001b[0;36mLibrary.function.<locals>.CTypesFunction.__call__\u001b[1;34m(self, *args, **kw)\u001b[0m\n\u001b[0;32m     73\u001b[0m \u001b[38;5;28;01mdef\u001b[39;00m \u001b[38;5;21m__call__\u001b[39m(\u001b[38;5;28mself\u001b[39m, \u001b[38;5;241m*\u001b[39margs, \u001b[38;5;241m*\u001b[39m\u001b[38;5;241m*\u001b[39mkw):\n\u001b[1;32m---> 74\u001b[0m     \u001b[38;5;28;01mreturn\u001b[39;00m \u001b[38;5;28;43mself\u001b[39;49m\u001b[38;5;241;43m.\u001b[39;49m\u001b[43m_func\u001b[49m\u001b[43m(\u001b[49m\u001b[38;5;241;43m*\u001b[39;49m\u001b[43margs\u001b[49m\u001b[43m,\u001b[49m\u001b[43m \u001b[49m\u001b[38;5;241;43m*\u001b[39;49m\u001b[38;5;241;43m*\u001b[39;49m\u001b[43mkw\u001b[49m\u001b[43m)\u001b[49m\n",
      "\u001b[1;31mOSError\u001b[0m: [WinError -529697949] Windows Error 0xe06d7363"
     ]
    }
   ],
   "source": [
    "from pycudadecon import rl_decon, rl_init, rl_cleanup, TemporaryOTF\n",
    "with TemporaryOTF(psf, dzpsf=0.5, dxpsf=0.173, wavelength=545, na=1.05, nimm=1.405) as otf:\n",
    "    rl_init(imtest.shape, otf.path, dzdata=0.5, dzpsf=0.5, dxdata=0.173, dxpsf=0.173)\n",
    "    result=rl_decon(imtest, background=np.median(imtest[0]), n_iters=20)#,output_shape=imtest.shape)\n",
    "    rl_cleanup()"
   ]
  },
  {
   "cell_type": "code",
   "execution_count": 85,
   "id": "2b4624ff",
   "metadata": {},
   "outputs": [
    {
     "data": {
      "text/plain": [
       "dtype('float32')"
      ]
     },
     "execution_count": 85,
     "metadata": {},
     "output_type": "execute_result"
    }
   ],
   "source": [
    "psf.dtype"
   ]
  },
  {
   "cell_type": "code",
   "execution_count": 74,
   "id": "521c95ae",
   "metadata": {},
   "outputs": [
    {
     "data": {
      "text/plain": [
       "<Image layer 'imtest' at 0x1cdcbc00f50>"
      ]
     },
     "execution_count": 74,
     "metadata": {},
     "output_type": "execute_result"
    }
   ],
   "source": [
    "viewer = napari.view_image(result)#,scale=[0.5,0.173,0.173])\n",
    "viewer.add_image(imtest)#,scale=[0.5,0.173,0.173])"
   ]
  },
  {
   "cell_type": "code",
   "execution_count": 69,
   "id": "a7a1ccb5",
   "metadata": {},
   "outputs": [
    {
     "data": {
      "text/plain": [
       "(300, 300, 450)"
      ]
     },
     "execution_count": 69,
     "metadata": {},
     "output_type": "execute_result"
    }
   ],
   "source": [
    "result.shape"
   ]
  },
  {
   "cell_type": "code",
   "execution_count": 80,
   "id": "bc81ce1c",
   "metadata": {},
   "outputs": [],
   "source": [
    "imtest = imtest.swapaxes(0,-1)"
   ]
  },
  {
   "cell_type": "code",
   "execution_count": null,
   "id": "d8a227bd",
   "metadata": {},
   "outputs": [],
   "source": []
  }
 ],
 "metadata": {
  "kernelspec": {
   "display_name": "Python 3 (ipykernel)",
   "language": "python",
   "name": "python3"
  },
  "language_info": {
   "codemirror_mode": {
    "name": "ipython",
    "version": 3
   },
   "file_extension": ".py",
   "mimetype": "text/x-python",
   "name": "python",
   "nbconvert_exporter": "python",
   "pygments_lexer": "ipython3",
   "version": "3.9.7"
  },
  "toc": {
   "base_numbering": 1,
   "nav_menu": {},
   "number_sections": true,
   "sideBar": true,
   "skip_h1_title": false,
   "title_cell": "Table of Contents",
   "title_sidebar": "Contents",
   "toc_cell": false,
   "toc_position": {},
   "toc_section_display": true,
   "toc_window_display": false
  },
  "varInspector": {
   "cols": {
    "lenName": 16,
    "lenType": 16,
    "lenVar": 40
   },
   "kernels_config": {
    "python": {
     "delete_cmd_postfix": "",
     "delete_cmd_prefix": "del ",
     "library": "var_list.py",
     "varRefreshCmd": "print(var_dic_list())"
    },
    "r": {
     "delete_cmd_postfix": ") ",
     "delete_cmd_prefix": "rm(",
     "library": "var_list.r",
     "varRefreshCmd": "cat(var_dic_list()) "
    }
   },
   "types_to_exclude": [
    "module",
    "function",
    "builtin_function_or_method",
    "instance",
    "_Feature"
   ],
   "window_display": false
  }
 },
 "nbformat": 4,
 "nbformat_minor": 5
}
