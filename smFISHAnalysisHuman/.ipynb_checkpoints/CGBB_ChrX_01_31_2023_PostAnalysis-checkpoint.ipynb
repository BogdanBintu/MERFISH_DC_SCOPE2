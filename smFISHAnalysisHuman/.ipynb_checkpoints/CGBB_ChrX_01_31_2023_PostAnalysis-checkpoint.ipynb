{
 "cells": [
  {
   "cell_type": "code",
   "execution_count": 1,
   "id": "299e350a",
   "metadata": {},
   "outputs": [],
   "source": [
    "import numpy as np,os,sys,glob\n",
    "import matplotlib.pylab as plt\n",
    "from ioMicro import *"
   ]
  },
  {
   "cell_type": "code",
   "execution_count": 2,
   "id": "c22b9fb0",
   "metadata": {},
   "outputs": [],
   "source": [
    "import os,sys,glob,numpy as np\n",
    "def get_dic_fls(analysis_fls):\n",
    "    dic_fls = {} \n",
    "    for fl in analysis_fls:\n",
    "        ifov = get_ifov(fl)\n",
    "        if ifov not in dic_fls: dic_fls[ifov] = []\n",
    "        if '_Q' in os.path.basename(fl):\n",
    "            dic_fls[ifov]+=[fl]\n",
    "    return dic_fls\n",
    "\n",
    "class post_analysis():\n",
    "    def __init__(self,analysis_fls = r'Y:\\Glass_MERFISH\\CGBB_ChrX_01_31_2023_Analysis\\*_C*_Xh_RNAs.pkl',force=False):\n",
    "        self.save_folder = self.analysis_folder =os.path.dirname(analysis_fls)\n",
    "        save_Afls = self.save_folder+os.sep+'analysis_fls.npy'\n",
    "        if os.path.exists(save_Afls) and not force:\n",
    "            self.analysis_fls = np.load(save_Afls)\n",
    "        else:\n",
    "            self.analysis_fls = np.array(glob.glob(analysis_fls))\n",
    "            np.save(save_Afls,self.analysis_fls)\n",
    "        self.dic_fls = get_dic_fls(self.analysis_fls)\n",
    "        \n",
    "    def get_Xh(ifov=0,iH=0,icol=0):\n",
    "        self.iH = iH\n",
    "        self.icol = icol\n",
    "        self.ifov=ifov\n",
    "        \n",
    "        self.fit_fls = self.dic_fls[self.ifov]\n",
    "        self.fit_fl = self.fit_fls[self.iH]\n",
    "        self.Xhs,self.dic_drift = pickle.load(open(fl,'rb'))\n",
    "        self.Xh = Xhs[self.icol]\n",
    "def get_Xh_Q(self,ifov=0,Q = 'Q1'):\n",
    "    if True:#try:\n",
    "        self.ifov=ifov\n",
    "        self.fit_fls = self.dic_fls[self.ifov]\n",
    "        fls = self.fit_fls\n",
    "        iQ = int(Q[1:])\n",
    "        iQs = [list(eval(fl.split('Q')[-1].split('_')[0])) for fl in fls]\n",
    "        self.iH,self.icol = [[iH_,iQ_.index(iQ)] for iH_,iQ_ in enumerate(iQs) if iQ in iQ_][0]\n",
    "        self.fl = self.fit_fls[self.iH]\n",
    "        self.Xhs,self.dic_drift = pickle.load(open(self.fl,'rb'))\n",
    "        self.Xh = self.Xhs[self.icol]\n",
    "        self.Q=Q\n",
    "        return 1\n",
    "    else:#except:\n",
    "        return -1"
   ]
  },
  {
   "cell_type": "code",
   "execution_count": 3,
   "id": "961fe558",
   "metadata": {},
   "outputs": [],
   "source": [
    "def plot_Xh(self,viewer=None,color='white',dic_th={},rescale=True):\n",
    "    Xh = self.Xh.copy()\n",
    "    \n",
    "    cor = Xh[:,-2]\n",
    "    h = Xh[:,-1]\n",
    "    th_br = dic_th.get(self.icol,0)\n",
    "    Xh = Xh[h>th_br]\n",
    "    \n",
    "    h = Xh[:,-1]\n",
    "    #import napari\n",
    "    #napari.view_points()\n",
    "    #bad = cor>0.25\n",
    "    if rescale:\n",
    "        min_,max_ = np.sort(h)[np.array([50,-10])%len(h)]\n",
    "        h_n = np.clip((h-min_)/(max_-min_),0,1)\n",
    "        size=20*h_n\n",
    "    else:\n",
    "        size=10\n",
    "    import napari\n",
    "    if viewer is None:\n",
    "        viewer = napari.Viewer()\n",
    "    viewer.add_points(Xh[:,:3],size=size,name = self.Q,face_color=color)#,text=h.astype(int).astype(str))\n",
    "    return viewer"
   ]
  },
  {
   "cell_type": "code",
   "execution_count": 12,
   "id": "0457c561",
   "metadata": {},
   "outputs": [],
   "source": []
  },
  {
   "cell_type": "code",
   "execution_count": 80,
   "id": "c71e63fb",
   "metadata": {},
   "outputs": [
    {
     "data": {
      "text/plain": [
       "Viewer(axes=Axes(visible=False, labels=True, colored=True, dashed=False, arrows=True), camera=Camera(center=(0.0, 1447.0393365866958, 1676.3828883491803), zoom=0.1840481876612741, angles=(0.0, 0.0, 90.0), perspective=0.0, interactive=True), cursor=Cursor(position=(1.0, 1.0, 0.0), scaled=True, size=1, style=<CursorStyle.STANDARD: 'standard'>), dims=Dims(ndim=3, ndisplay=2, last_used=0, range=((-0.34062494008251426, 59.31283827073042, 1.0), (-0.3119521571776054, 2896.126517798412, 1.0), (3.9616775428015547, 2900.05624964158, 1.0)), current_step=(23, 1378, 1189), order=(0, 1, 2), axis_labels=('0', '1', '2')), grid=GridCanvas(stride=1, shape=(-1, -1), enabled=False), layers=[<Points layer 'Q5' at 0x25381a79a90>, <Points layer 'Q5 [1]' at 0x253abd47670>], scale_bar=ScaleBar(visible=False, colored=False, ticks=True, position=<Position.BOTTOM_RIGHT: 'bottom_right'>, font_size=10, unit=None), text_overlay=TextOverlay(visible=False, color=(0.5, 0.5, 0.5, 1.0), font_size=10, position=<TextOverlayPosition.TOP_LEFT: 'top_left'>, text=''), overlays=Overlays(interaction_box=InteractionBox(points=None, show=False, show_handle=False, show_vertices=False, selection_box_drag=None, selection_box_final=None, transform_start=<napari.utils.transforms.transforms.Affine object at 0x00000253A48E2E20>, transform_drag=<napari.utils.transforms.transforms.Affine object at 0x00000253A48E2E80>, transform_final=<napari.utils.transforms.transforms.Affine object at 0x00000253A48E2EE0>, transform=<napari.utils.transforms.transforms.Affine object at 0x00000253A48E2F40>, allow_new_selection=True, selected_vertex=None)), help='', status='Ready', tooltip=Tooltip(visible=False, text=''), theme='dark', title='napari', mouse_move_callbacks=[<function InteractionBoxMouseBindings.initialize_mouse_events.<locals>.mouse_move at 0x000002538175C820>], mouse_drag_callbacks=[<function InteractionBoxMouseBindings.initialize_mouse_events.<locals>.mouse_drag at 0x000002538175C430>], mouse_double_click_callbacks=[], mouse_wheel_callbacks=[<function dims_scroll at 0x00000253F4C223A0>], _persisted_mouse_event={}, _mouse_drag_gen={}, _mouse_wheel_gen={}, keymap={'Shift': <function InteractionBoxMouseBindings.initialize_key_events.<locals>.hold_to_lock_aspect_ratio at 0x000002538175C4C0>, 'Control-Shift-R': <function InteractionBoxMouseBindings._reset_active_layer_affine at 0x000002538175C1F0>, 'Control-Shift-A': <function InteractionBoxMouseBindings._transform_active_layer at 0x000002538175C700>})"
      ]
     },
     "execution_count": 80,
     "metadata": {},
     "output_type": "execute_result"
    }
   ],
   "source": [
    "pa = post_analysis(r'Y:\\Glass_MERFISH\\CGBB_ChrX_01_31_2023_Analysis\\*_C*_Xh_RNAs.pkl')\n",
    "get_Xh_Q(pa,ifov=20,Q = 'Q5')\n",
    "viewr = plot_Xh(pa,viewer=None,color='green',dic_th={0:5000,1:5000,2:7500},rescale=False);\n",
    "plot_Xh(pa,viewer=viewr,color='red')"
   ]
  },
  {
   "cell_type": "code",
   "execution_count": null,
   "id": "03155788",
   "metadata": {},
   "outputs": [],
   "source": [
    "def add_png_image(self,viewer=None):\n",
    "    import cv2,napari\n",
    "    self.im_png = im_png = cv2.imread(self.fl.replace('--_Xh_RNAs.pkl','_signal-col'+str(self.icol)+'.png'))\n",
    "    im_ = im_png[...,0]\n",
    "    xs = np.where(np.diff(np.min(im_,axis=1)>254)!=0)[0]+1\n",
    "    xm,xM = np.min(xs),np.max(xs)\n",
    "    ys = np.where(np.diff(np.min(im_,axis=0)>254)!=0)[0]+1\n",
    "    ym,yM = np.min(ys),np.max(ys)\n",
    "    im_=im_[xm:xM,ym:yM]\n",
    "    new_shape = [1]+list(np.max(self.Xh[:,:3],axis=0).astype(int)[1:])\n",
    "    im__ = resize(im_[np.newaxis],new_shape)\n",
    "    if viewer is None: viewer = napari.Viewer()\n",
    "    viewer.add_image(im__)"
   ]
  },
  {
   "cell_type": "code",
   "execution_count": 66,
   "id": "24cd3eb3",
   "metadata": {},
   "outputs": [],
   "source": []
  },
  {
   "cell_type": "code",
   "execution_count": 79,
   "id": "f69f76c2",
   "metadata": {},
   "outputs": [],
   "source": []
  },
  {
   "cell_type": "code",
   "execution_count": 76,
   "id": "fcfd7e98",
   "metadata": {},
   "outputs": [
    {
     "data": {
      "text/plain": [
       "[2895, 2899]"
      ]
     },
     "execution_count": 76,
     "metadata": {},
     "output_type": "execute_result"
    }
   ],
   "source": [
    "[1,list(np.max(pa.Xh[:,:3],axis=0).astype(int)[1:])]"
   ]
  },
  {
   "cell_type": "code",
   "execution_count": null,
   "id": "0d89cf62",
   "metadata": {},
   "outputs": [],
   "source": []
  },
  {
   "cell_type": "code",
   "execution_count": 26,
   "id": "216dd576",
   "metadata": {},
   "outputs": [
    {
     "data": {
      "text/plain": [
       "array([ 478, 3561, 3570, 3580], dtype=int64)"
      ]
     },
     "execution_count": 26,
     "metadata": {},
     "output_type": "execute_result"
    }
   ],
   "source": [
    " np.where(np.diff(np.mean(im_,axis=1)>254)!=0)[0]"
   ]
  },
  {
   "cell_type": "code",
   "execution_count": 13,
   "id": "63014d97",
   "metadata": {},
   "outputs": [
    {
     "data": {
      "text/plain": [
       "Viewer(axes=Axes(visible=False, labels=True, colored=True, dashed=False, arrows=True), camera=Camera(center=(0.0, 1999.5, 1999.5), zoom=0.30708749999999996, angles=(0.0, 0.0, 90.0), perspective=0, interactive=True), cursor=Cursor(position=(1, 1), scaled=True, size=1, style=<CursorStyle.STANDARD: 'standard'>), dims=Dims(ndim=2, ndisplay=2, last_used=0, range=((0.0, 4000.0, 1.0), (0.0, 4000.0, 1.0)), current_step=(2000, 2000), order=(0, 1), axis_labels=('0', '1')), grid=GridCanvas(stride=1, shape=(-1, -1), enabled=False), layers=[<Image layer 'im_png' at 0x253888e5670>], scale_bar=ScaleBar(visible=False, colored=False, ticks=True, position=<Position.BOTTOM_RIGHT: 'bottom_right'>, font_size=10, unit=None), text_overlay=TextOverlay(visible=False, color=(0.5, 0.5, 0.5, 1.0), font_size=10, position=<TextOverlayPosition.TOP_LEFT: 'top_left'>, text=''), overlays=Overlays(interaction_box=InteractionBox(points=None, show=False, show_handle=False, show_vertices=False, selection_box_drag=None, selection_box_final=None, transform_start=<napari.utils.transforms.transforms.Affine object at 0x0000025387F09100>, transform_drag=<napari.utils.transforms.transforms.Affine object at 0x0000025387F099A0>, transform_final=<napari.utils.transforms.transforms.Affine object at 0x0000025387F096D0>, transform=<napari.utils.transforms.transforms.Affine object at 0x0000025387F09820>, allow_new_selection=True, selected_vertex=None)), help='', status='Ready', tooltip=Tooltip(visible=False, text=''), theme='dark', title='napari', mouse_move_callbacks=[<function InteractionBoxMouseBindings.initialize_mouse_events.<locals>.mouse_move at 0x0000025388928820>], mouse_drag_callbacks=[<function InteractionBoxMouseBindings.initialize_mouse_events.<locals>.mouse_drag at 0x0000025388928430>], mouse_double_click_callbacks=[], mouse_wheel_callbacks=[<function dims_scroll at 0x00000253F4C223A0>], _persisted_mouse_event={}, _mouse_drag_gen={}, _mouse_wheel_gen={}, keymap={'Shift': <function InteractionBoxMouseBindings.initialize_key_events.<locals>.hold_to_lock_aspect_ratio at 0x00000253889284C0>, 'Control-Shift-R': <function InteractionBoxMouseBindings._reset_active_layer_affine at 0x00000253889281F0>, 'Control-Shift-A': <function InteractionBoxMouseBindings._transform_active_layer at 0x0000025388928700>})"
      ]
     },
     "execution_count": 13,
     "metadata": {},
     "output_type": "execute_result"
    }
   ],
   "source": [
    "import napari\n",
    "napari.view_image(im_png)"
   ]
  },
  {
   "cell_type": "code",
   "execution_count": 104,
   "id": "ef93370e",
   "metadata": {},
   "outputs": [
    {
     "data": {
      "text/plain": [
       "4304.580852331805"
      ]
     },
     "execution_count": 104,
     "metadata": {},
     "output_type": "execute_result"
    }
   ],
   "source": [
    "np.median(pa.Xh[:,-1])+np.std(pa.Xh[:,-1])*5"
   ]
  },
  {
   "cell_type": "code",
   "execution_count": 98,
   "id": "d637fc1d",
   "metadata": {},
   "outputs": [
    {
     "data": {
      "text/plain": [
       "array([ 9916.,  9930.,  9944.,  9951.,  9956.,  9985.,  9994., 10010.,\n",
       "       10020., 10051., 10077., 10094., 10116., 10119., 10127., 10133.,\n",
       "       10143., 10148., 10184., 10187., 10193., 10199., 10203., 10211.,\n",
       "       10219., 10220., 10228., 10234., 10268., 10281., 10284., 10291.,\n",
       "       10291., 10302., 10329., 10332., 10340., 10353., 10365., 10405.,\n",
       "       10428., 10434., 10440., 10451., 10499., 10508., 10516., 10576.,\n",
       "       10580., 10582., 10586., 10593., 10606., 10623., 10624., 10644.,\n",
       "       10647., 10653., 10667., 10680., 10710., 10718., 10725., 10728.,\n",
       "       10753., 10759., 10785., 10788., 10823., 10831., 10839., 10860.,\n",
       "       10862., 10873., 10875., 10902., 10913., 10981., 10988., 10989.,\n",
       "       10990., 10990., 11007., 11040., 11042., 11045., 11056., 11069.,\n",
       "       11076., 11081., 11087., 11107., 11123., 11131., 11185., 11208.,\n",
       "       11217., 11258., 11291., 11322., 11325., 11336., 11349., 11363.,\n",
       "       11375., 11382., 11396., 11420., 11447., 11479., 11503., 11504.,\n",
       "       11519., 11523., 11531., 11543., 11573., 11574., 11588., 11690.,\n",
       "       11731., 11755., 11756., 11771., 11774., 11786., 11791., 11793.,\n",
       "       11809., 11849., 11871., 11881., 11892., 11926., 11946., 11948.,\n",
       "       11985., 12010., 12011., 12018., 12023., 12041., 12058., 12061.,\n",
       "       12078., 12114., 12144., 12252., 12274., 12293., 12294., 12317.,\n",
       "       12342., 12352., 12358., 12367., 12409., 12425., 12474., 12477.,\n",
       "       12478., 12478., 12481., 12495., 12501., 12510., 12526., 12552.,\n",
       "       12564., 12575., 12587., 12594., 12599., 12600., 12627., 12642.,\n",
       "       12656., 12664., 12675., 12676., 12728., 12738., 12744., 12760.,\n",
       "       12803., 12832., 12859., 12860., 12873., 12960., 12973., 13014.,\n",
       "       13061., 13081., 13085., 13120., 13226., 13237., 13251., 13259.,\n",
       "       13315., 13320., 13324., 13359., 13385., 13418., 13439., 13443.,\n",
       "       13467., 13504., 13548., 13596., 13614., 13620., 13762., 13837.,\n",
       "       13856., 13903., 13908., 13909., 13911., 13914., 13920., 13946.,\n",
       "       13953., 13962., 14014., 14014., 14020., 14044., 14075., 14098.,\n",
       "       14120., 14121., 14136., 14140., 14141., 14161., 14221., 14229.,\n",
       "       14243., 14243., 14246., 14254., 14265., 14273., 14322., 14329.,\n",
       "       14458., 14487., 14487., 14517., 14518., 14525., 14540., 14639.,\n",
       "       14691., 14721., 14800., 14814., 14898., 14926., 15018., 15039.,\n",
       "       15071., 15119., 15120., 15142., 15269., 15390., 15424., 15445.,\n",
       "       15471., 15549., 15590., 15628., 15669., 15723., 15827., 15837.,\n",
       "       15860., 15866., 15888., 15896., 15900., 15904., 15907., 15996.,\n",
       "       16142., 16195., 16239., 16310., 16381., 16429., 16440., 16467.,\n",
       "       16467., 16514., 16539., 16585., 16633., 16655., 16661., 16740.,\n",
       "       16803., 16818., 16948., 16956., 16975., 16977., 17081., 17089.,\n",
       "       17097., 17117., 17196., 17223., 17255., 17256., 17383., 17443.,\n",
       "       17461., 17547., 17584., 17645., 17674., 17740., 17761., 17763.,\n",
       "       17766., 17812., 17814., 17917., 18015., 18078., 18082., 18086.,\n",
       "       18086., 18133., 18239., 18259., 18307., 18328., 18339., 18349.,\n",
       "       18363., 18382., 18557., 18767., 18835., 18896., 18919., 18930.,\n",
       "       18975., 19064., 19222., 19417., 19465., 19671., 19708., 19713.,\n",
       "       19739., 19867., 19936., 20015., 20034., 20510., 20754., 20790.,\n",
       "       20852., 20882., 21009., 21114., 21130., 21145., 21162., 21162.,\n",
       "       21192., 21222., 21234., 21486., 21873., 22109., 22117., 22229.,\n",
       "       22407., 22482., 22863., 22997., 23356., 23623., 23634., 24032.,\n",
       "       24226., 24987., 25500., 26252., 26567., 28172., 28866., 49856.])"
      ]
     },
     "execution_count": 98,
     "metadata": {},
     "output_type": "execute_result"
    }
   ],
   "source": [
    "np.round(np.sort(pa.Xh[:,-1])[-400:])"
   ]
  },
  {
   "cell_type": "code",
   "execution_count": 24,
   "id": "af7aad80",
   "metadata": {},
   "outputs": [],
   "source": []
  },
  {
   "cell_type": "code",
   "execution_count": 88,
   "id": "4d507d5e",
   "metadata": {},
   "outputs": [],
   "source": [
    "get_Xh_Q(pa,ifov=40,Q = 'Q4')\n",
    "viewer = plot_Xh(pa,viewer=None,color='green')\n",
    "get_Xh_Q(pa,ifov=40,Q = 'Q5')\n",
    "plot_Xh(pa,viewer=viewer,color='cyan');\n",
    "get_Xh_Q(pa,ifov=40,Q = 'Q6')\n",
    "plot_Xh(pa,viewer=viewer,color='red');"
   ]
  },
  {
   "cell_type": "code",
   "execution_count": 37,
   "id": "0f1e4821",
   "metadata": {},
   "outputs": [
    {
     "data": {
      "text/plain": [
       "1"
      ]
     },
     "execution_count": 37,
     "metadata": {},
     "output_type": "execute_result"
    }
   ],
   "source": [
    "get_Xh_Q(pa,ifov=20,Q = 'Q4')"
   ]
  },
  {
   "cell_type": "code",
   "execution_count": 29,
   "id": "01d65540",
   "metadata": {},
   "outputs": [
    {
     "data": {
      "text/plain": [
       "0"
      ]
     },
     "execution_count": 29,
     "metadata": {},
     "output_type": "execute_result"
    }
   ],
   "source": [
    "pa.icol"
   ]
  },
  {
   "cell_type": "code",
   "execution_count": null,
   "id": "c76b63a2",
   "metadata": {},
   "outputs": [],
   "source": [
    "cor = Xh[:,-2]\n",
    "h = Xh[:,-1]\n",
    "#import napari\n",
    "#napari.view_points()\n",
    "bad = cor<0.5\n",
    "min_,max_ = np.sort(h)[np.array([50,-10])%len(h)]\n",
    "h_n = np.clip((h-min_)/(max_-min_),0,1)\n",
    "size=20*h_n\n",
    "import napari\n",
    "napari.view_points(Xh[:,:3],size=size)\n"
   ]
  }
 ],
 "metadata": {
  "kernelspec": {
   "display_name": "Python 3 (ipykernel)",
   "language": "python",
   "name": "python3"
  },
  "language_info": {
   "codemirror_mode": {
    "name": "ipython",
    "version": 3
   },
   "file_extension": ".py",
   "mimetype": "text/x-python",
   "name": "python",
   "nbconvert_exporter": "python",
   "pygments_lexer": "ipython3",
   "version": "3.9.7"
  }
 },
 "nbformat": 4,
 "nbformat_minor": 5
}
