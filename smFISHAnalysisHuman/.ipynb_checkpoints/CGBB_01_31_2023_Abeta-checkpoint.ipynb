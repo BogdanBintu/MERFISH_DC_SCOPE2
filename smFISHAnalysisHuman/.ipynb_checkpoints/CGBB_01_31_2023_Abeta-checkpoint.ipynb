{
 "cells": [
  {
   "cell_type": "code",
   "execution_count": 38,
   "id": "01d4fb0a",
   "metadata": {},
   "outputs": [],
   "source": [
    "from ioMicro import *\n",
    "def get_tzxy_fast(im1,im2,sz=6):\n",
    "    ncols,Sz,Sx,Sy = im1.shape\n",
    "    im1_ = im1[-1,((Sz-sz)//2):((Sz+sz)//2)]\n",
    "    im2_ = im2[-1,((Sz-sz)//2):((Sz+sz)//2)]\n",
    "    txyz,txyzs = get_txyz(im1_,im2_,sz_norm=25,sz = 400,nelems=5)\n",
    "    return txyz,txyzs"
   ]
  },
  {
   "cell_type": "code",
   "execution_count": 52,
   "id": "19b942ea",
   "metadata": {},
   "outputs": [],
   "source": [
    "abeta = r\"Y:\\Glass_MERFISH\\CGBB_ChrX_01_31_2023\\H79_4G8allPos_AD\"\n",
    "abeta_bk = r\"Y:\\Glass_MERFISH\\CGBB_ChrX_01_31_2023\\H08_cleanAb2_AD\"\n",
    "seg_fld = r\"Y:\\Glass_MERFISH\\CGBB_ChrX_01_31_2023\\H0_AD\""
   ]
  },
  {
   "cell_type": "code",
   "execution_count": 53,
   "id": "3b393454",
   "metadata": {},
   "outputs": [],
   "source": [
    "fls = np.sort(glob.glob(abeta+os.sep+'*.zarr'))"
   ]
  },
  {
   "cell_type": "code",
   "execution_count": 56,
   "id": "4a39fb0c",
   "metadata": {},
   "outputs": [
    {
     "name": "stdout",
     "output_type": "stream",
     "text": [
      "[  0 -74  27] [array([  0, -73,  27], dtype=int64), array([  0, -74,  27], dtype=int64), array([  0, -74,  27], dtype=int64), array([  0, -74,  28], dtype=int64), array([  0, -75,  27], dtype=int64)]\n",
      "[  0 -14   5] [array([  0, -13,   5], dtype=int64), array([  0, -14,   4], dtype=int64), array([  0, -14,   5], dtype=int64), array([  0, -14,   4], dtype=int64), array([  0, -14,   5], dtype=int64)]\n"
     ]
    }
   ],
   "source": [
    "fl =  fls[69]\n",
    "fl_bk = fl.replace(abeta,abeta_bk)\n",
    "fl_seg = fl.replace(abeta,seg_fld)\n",
    "im = read_im(fl)\n",
    "im_bk = read_im(fl_bk)\n",
    "im_seg = read_im(fl_seg)\n",
    "ncols,sz,sx,sy = im.shape\n",
    "tzxy,_ = get_tzxy_fast(im,im_seg,sz=10)\n",
    "print(tzxy,_)\n",
    "tzxy_bk,_ = get_tzxy_fast(im_bk,im,sz=10)\n",
    "print(tzxy_bk,_)"
   ]
  },
  {
   "cell_type": "code",
   "execution_count": 62,
   "id": "88d973f5",
   "metadata": {},
   "outputs": [],
   "source": [
    "im_dif = im.astype(np.float32)-da.roll(im_bk.astype(np.float32),tzxy_bk,axis=[1,2,3])\n",
    "im_diff = da.roll(im_dif,tzxy,axis=[1,2,3])"
   ]
  },
  {
   "cell_type": "code",
   "execution_count": 63,
   "id": "d26d976c",
   "metadata": {},
   "outputs": [
    {
     "data": {
      "text/plain": [
       "array([  0, -74,  27])"
      ]
     },
     "execution_count": 63,
     "metadata": {},
     "output_type": "execute_result"
    }
   ],
   "source": [
    "tzxy"
   ]
  },
  {
   "cell_type": "code",
   "execution_count": 60,
   "id": "8b52036e",
   "metadata": {},
   "outputs": [
    {
     "data": {
      "text/plain": [
       "<Image layer 'im_seg' at 0x18ca9aa4ee0>"
      ]
     },
     "execution_count": 60,
     "metadata": {},
     "output_type": "execute_result"
    }
   ],
   "source": [
    "from dask import array as da\n",
    "import napari\n",
    "viewer = napari.view_image(da.roll(im,tzxy,axis=[1,2,3]),name='Abeta')\n",
    "viewer.add_image(da.roll(im_bk,tzxy+tzxy_bk,axis=[1,2,3]),name='Abeta_BK')\n",
    "viewer.add_image(da.roll(im_dif,tzxy,axis=[1,2,3]),name='Abeta_diff')\n",
    "viewer.add_image(im_seg)"
   ]
  },
  {
   "cell_type": "code",
   "execution_count": 58,
   "id": "375fa866",
   "metadata": {},
   "outputs": [],
   "source": []
  },
  {
   "cell_type": "code",
   "execution_count": 17,
   "id": "e48a4b50",
   "metadata": {},
   "outputs": [
    {
     "data": {
      "text/html": [
       "<table>\n",
       "    <tr>\n",
       "        <td>\n",
       "            <table>\n",
       "                <thead>\n",
       "                    <tr>\n",
       "                        <td> </td>\n",
       "                        <th> Array </th>\n",
       "                        <th> Chunk </th>\n",
       "                    </tr>\n",
       "                </thead>\n",
       "                <tbody>\n",
       "                    \n",
       "                    <tr>\n",
       "                        <th> Bytes </th>\n",
       "                        <td> 1.41 GiB </td>\n",
       "                        <td> 16.04 MiB </td>\n",
       "                    </tr>\n",
       "                    \n",
       "                    <tr>\n",
       "                        <th> Shape </th>\n",
       "                        <td> (90, 2900, 2900) </td>\n",
       "                        <td> (1, 2900, 2900) </td>\n",
       "                    </tr>\n",
       "                    <tr>\n",
       "                        <th> Count </th>\n",
       "                        <td> 1082 Tasks </td>\n",
       "                        <td> 90 Chunks </td>\n",
       "                    </tr>\n",
       "                    <tr>\n",
       "                    <th> Type </th>\n",
       "                    <td> uint16 </td>\n",
       "                    <td> numpy.ndarray </td>\n",
       "                    </tr>\n",
       "                </tbody>\n",
       "            </table>\n",
       "        </td>\n",
       "        <td>\n",
       "        <svg width=\"198\" height=\"188\" style=\"stroke:rgb(0,0,0);stroke-width:1\" >\n",
       "\n",
       "  <!-- Horizontal lines -->\n",
       "  <line x1=\"10\" y1=\"0\" x2=\"28\" y2=\"18\" style=\"stroke-width:2\" />\n",
       "  <line x1=\"10\" y1=\"120\" x2=\"28\" y2=\"138\" style=\"stroke-width:2\" />\n",
       "\n",
       "  <!-- Vertical lines -->\n",
       "  <line x1=\"10\" y1=\"0\" x2=\"10\" y2=\"120\" style=\"stroke-width:2\" />\n",
       "  <line x1=\"10\" y1=\"0\" x2=\"10\" y2=\"120\" />\n",
       "  <line x1=\"11\" y1=\"1\" x2=\"11\" y2=\"121\" />\n",
       "  <line x1=\"12\" y1=\"2\" x2=\"12\" y2=\"122\" />\n",
       "  <line x1=\"13\" y1=\"3\" x2=\"13\" y2=\"123\" />\n",
       "  <line x1=\"14\" y1=\"4\" x2=\"14\" y2=\"124\" />\n",
       "  <line x1=\"15\" y1=\"5\" x2=\"15\" y2=\"125\" />\n",
       "  <line x1=\"16\" y1=\"6\" x2=\"16\" y2=\"126\" />\n",
       "  <line x1=\"17\" y1=\"7\" x2=\"17\" y2=\"127\" />\n",
       "  <line x1=\"18\" y1=\"8\" x2=\"18\" y2=\"128\" />\n",
       "  <line x1=\"19\" y1=\"9\" x2=\"19\" y2=\"129\" />\n",
       "  <line x1=\"20\" y1=\"10\" x2=\"20\" y2=\"130\" />\n",
       "  <line x1=\"21\" y1=\"11\" x2=\"21\" y2=\"131\" />\n",
       "  <line x1=\"22\" y1=\"12\" x2=\"22\" y2=\"132\" />\n",
       "  <line x1=\"23\" y1=\"13\" x2=\"23\" y2=\"133\" />\n",
       "  <line x1=\"24\" y1=\"14\" x2=\"24\" y2=\"134\" />\n",
       "  <line x1=\"25\" y1=\"15\" x2=\"25\" y2=\"135\" />\n",
       "  <line x1=\"26\" y1=\"16\" x2=\"26\" y2=\"136\" />\n",
       "  <line x1=\"27\" y1=\"17\" x2=\"27\" y2=\"137\" />\n",
       "  <line x1=\"28\" y1=\"18\" x2=\"28\" y2=\"138\" style=\"stroke-width:2\" />\n",
       "\n",
       "  <!-- Colored Rectangle -->\n",
       "  <polygon points=\"10.0,0.0 28.584498119285655,18.584498119285655 28.584498119285655,138.58449811928566 10.0,120.0\" style=\"fill:#8B4903A0;stroke-width:0\"/>\n",
       "\n",
       "  <!-- Horizontal lines -->\n",
       "  <line x1=\"10\" y1=\"0\" x2=\"130\" y2=\"0\" style=\"stroke-width:2\" />\n",
       "  <line x1=\"10\" y1=\"0\" x2=\"130\" y2=\"0\" />\n",
       "  <line x1=\"11\" y1=\"1\" x2=\"131\" y2=\"1\" />\n",
       "  <line x1=\"12\" y1=\"2\" x2=\"132\" y2=\"2\" />\n",
       "  <line x1=\"13\" y1=\"3\" x2=\"133\" y2=\"3\" />\n",
       "  <line x1=\"14\" y1=\"4\" x2=\"134\" y2=\"4\" />\n",
       "  <line x1=\"15\" y1=\"5\" x2=\"135\" y2=\"5\" />\n",
       "  <line x1=\"16\" y1=\"6\" x2=\"136\" y2=\"6\" />\n",
       "  <line x1=\"17\" y1=\"7\" x2=\"137\" y2=\"7\" />\n",
       "  <line x1=\"18\" y1=\"8\" x2=\"138\" y2=\"8\" />\n",
       "  <line x1=\"19\" y1=\"9\" x2=\"139\" y2=\"9\" />\n",
       "  <line x1=\"20\" y1=\"10\" x2=\"140\" y2=\"10\" />\n",
       "  <line x1=\"21\" y1=\"11\" x2=\"141\" y2=\"11\" />\n",
       "  <line x1=\"22\" y1=\"12\" x2=\"142\" y2=\"12\" />\n",
       "  <line x1=\"23\" y1=\"13\" x2=\"143\" y2=\"13\" />\n",
       "  <line x1=\"24\" y1=\"14\" x2=\"144\" y2=\"14\" />\n",
       "  <line x1=\"25\" y1=\"15\" x2=\"145\" y2=\"15\" />\n",
       "  <line x1=\"26\" y1=\"16\" x2=\"146\" y2=\"16\" />\n",
       "  <line x1=\"27\" y1=\"17\" x2=\"147\" y2=\"17\" />\n",
       "  <line x1=\"28\" y1=\"18\" x2=\"148\" y2=\"18\" style=\"stroke-width:2\" />\n",
       "\n",
       "  <!-- Vertical lines -->\n",
       "  <line x1=\"10\" y1=\"0\" x2=\"28\" y2=\"18\" style=\"stroke-width:2\" />\n",
       "  <line x1=\"130\" y1=\"0\" x2=\"148\" y2=\"18\" style=\"stroke-width:2\" />\n",
       "\n",
       "  <!-- Colored Rectangle -->\n",
       "  <polygon points=\"10.0,0.0 130.0,0.0 148.58449811928566,18.584498119285655 28.584498119285655,18.584498119285655\" style=\"fill:#8B4903A0;stroke-width:0\"/>\n",
       "\n",
       "  <!-- Horizontal lines -->\n",
       "  <line x1=\"28\" y1=\"18\" x2=\"148\" y2=\"18\" style=\"stroke-width:2\" />\n",
       "  <line x1=\"28\" y1=\"138\" x2=\"148\" y2=\"138\" style=\"stroke-width:2\" />\n",
       "\n",
       "  <!-- Vertical lines -->\n",
       "  <line x1=\"28\" y1=\"18\" x2=\"28\" y2=\"138\" style=\"stroke-width:2\" />\n",
       "  <line x1=\"148\" y1=\"18\" x2=\"148\" y2=\"138\" style=\"stroke-width:2\" />\n",
       "\n",
       "  <!-- Colored Rectangle -->\n",
       "  <polygon points=\"28.584498119285655,18.584498119285655 148.58449811928566,18.584498119285655 148.58449811928566,138.58449811928566 28.584498119285655,138.58449811928566\" style=\"fill:#ECB172A0;stroke-width:0\"/>\n",
       "\n",
       "  <!-- Text -->\n",
       "  <text x=\"88.584498\" y=\"158.584498\" font-size=\"1.0rem\" font-weight=\"100\" text-anchor=\"middle\" >2900</text>\n",
       "  <text x=\"168.584498\" y=\"78.584498\" font-size=\"1.0rem\" font-weight=\"100\" text-anchor=\"middle\" transform=\"rotate(-90,168.584498,78.584498)\">2900</text>\n",
       "  <text x=\"9.292249\" y=\"149.292249\" font-size=\"1.0rem\" font-weight=\"100\" text-anchor=\"middle\" transform=\"rotate(45,9.292249,149.292249)\">90</text>\n",
       "</svg>\n",
       "        </td>\n",
       "    </tr>\n",
       "</table>"
      ],
      "text/plain": [
       "dask.array<getitem, shape=(90, 2900, 2900), dtype=uint16, chunksize=(1, 2900, 2900), chunktype=numpy.ndarray>"
      ]
     },
     "execution_count": 17,
     "metadata": {},
     "output_type": "execute_result"
    }
   ],
   "source": [
    "im_bk[-1]"
   ]
  },
  {
   "cell_type": "code",
   "execution_count": null,
   "id": "5cd40d29",
   "metadata": {},
   "outputs": [],
   "source": [
    "Y:\\Glass_MERFISH\\CGBB_ChrX_01_31_2023_Analysis\\Segmentation"
   ]
  }
 ],
 "metadata": {
  "kernelspec": {
   "display_name": "Python 3 (ipykernel)",
   "language": "python",
   "name": "python3"
  },
  "language_info": {
   "codemirror_mode": {
    "name": "ipython",
    "version": 3
   },
   "file_extension": ".py",
   "mimetype": "text/x-python",
   "name": "python",
   "nbconvert_exporter": "python",
   "pygments_lexer": "ipython3",
   "version": "3.9.7"
  }
 },
 "nbformat": 4,
 "nbformat_minor": 5
}
